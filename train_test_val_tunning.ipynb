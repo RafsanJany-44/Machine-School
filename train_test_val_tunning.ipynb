{
  "nbformat": 4,
  "nbformat_minor": 0,
  "metadata": {
    "colab": {
      "provenance": []
    },
    "kernelspec": {
      "name": "python3",
      "display_name": "Python 3"
    },
    "language_info": {
      "name": "python"
    },
    "widgets": {
      "application/vnd.jupyter.widget-state+json": {
        "d22bc6e9b82f4d838f522433348128bd": {
          "model_module": "@jupyter-widgets/controls",
          "model_name": "HBoxModel",
          "model_module_version": "1.5.0",
          "state": {
            "_dom_classes": [],
            "_model_module": "@jupyter-widgets/controls",
            "_model_module_version": "1.5.0",
            "_model_name": "HBoxModel",
            "_view_count": null,
            "_view_module": "@jupyter-widgets/controls",
            "_view_module_version": "1.5.0",
            "_view_name": "HBoxView",
            "box_style": "",
            "children": [
              "IPY_MODEL_fca13c63cfb847ffbaeedf8f829a2c61",
              "IPY_MODEL_b47b664b149d4059b731951e14826a6d",
              "IPY_MODEL_96bb539fa8204cdeb27446a7b46329a5"
            ],
            "layout": "IPY_MODEL_5722a0fa6aed4a52ab1b639280bf8511"
          }
        },
        "fca13c63cfb847ffbaeedf8f829a2c61": {
          "model_module": "@jupyter-widgets/controls",
          "model_name": "HTMLModel",
          "model_module_version": "1.5.0",
          "state": {
            "_dom_classes": [],
            "_model_module": "@jupyter-widgets/controls",
            "_model_module_version": "1.5.0",
            "_model_name": "HTMLModel",
            "_view_count": null,
            "_view_module": "@jupyter-widgets/controls",
            "_view_module_version": "1.5.0",
            "_view_name": "HTMLView",
            "description": "",
            "description_tooltip": null,
            "layout": "IPY_MODEL_4355936c04404cab8345ab7c84ed9314",
            "placeholder": "​",
            "style": "IPY_MODEL_b84f7911987e4a9cadd4b400cf955dc2",
            "value": "100%"
          }
        },
        "b47b664b149d4059b731951e14826a6d": {
          "model_module": "@jupyter-widgets/controls",
          "model_name": "FloatProgressModel",
          "model_module_version": "1.5.0",
          "state": {
            "_dom_classes": [],
            "_model_module": "@jupyter-widgets/controls",
            "_model_module_version": "1.5.0",
            "_model_name": "FloatProgressModel",
            "_view_count": null,
            "_view_module": "@jupyter-widgets/controls",
            "_view_module_version": "1.5.0",
            "_view_name": "ProgressView",
            "bar_style": "success",
            "description": "",
            "description_tooltip": null,
            "layout": "IPY_MODEL_d23eac8bd47d4c1caf0eeee6bef3b2dc",
            "max": 31,
            "min": 0,
            "orientation": "horizontal",
            "style": "IPY_MODEL_94e8d92ef65c49699262ce1acc42610e",
            "value": 31
          }
        },
        "96bb539fa8204cdeb27446a7b46329a5": {
          "model_module": "@jupyter-widgets/controls",
          "model_name": "HTMLModel",
          "model_module_version": "1.5.0",
          "state": {
            "_dom_classes": [],
            "_model_module": "@jupyter-widgets/controls",
            "_model_module_version": "1.5.0",
            "_model_name": "HTMLModel",
            "_view_count": null,
            "_view_module": "@jupyter-widgets/controls",
            "_view_module_version": "1.5.0",
            "_view_name": "HTMLView",
            "description": "",
            "description_tooltip": null,
            "layout": "IPY_MODEL_467d9457015b4225afe44b44a0081d6b",
            "placeholder": "​",
            "style": "IPY_MODEL_367a367426ef40f092a971ac01a3374e",
            "value": " 31/31 [03:14&lt;00:00, 11.95s/it]"
          }
        },
        "5722a0fa6aed4a52ab1b639280bf8511": {
          "model_module": "@jupyter-widgets/base",
          "model_name": "LayoutModel",
          "model_module_version": "1.2.0",
          "state": {
            "_model_module": "@jupyter-widgets/base",
            "_model_module_version": "1.2.0",
            "_model_name": "LayoutModel",
            "_view_count": null,
            "_view_module": "@jupyter-widgets/base",
            "_view_module_version": "1.2.0",
            "_view_name": "LayoutView",
            "align_content": null,
            "align_items": null,
            "align_self": null,
            "border": null,
            "bottom": null,
            "display": null,
            "flex": null,
            "flex_flow": null,
            "grid_area": null,
            "grid_auto_columns": null,
            "grid_auto_flow": null,
            "grid_auto_rows": null,
            "grid_column": null,
            "grid_gap": null,
            "grid_row": null,
            "grid_template_areas": null,
            "grid_template_columns": null,
            "grid_template_rows": null,
            "height": null,
            "justify_content": null,
            "justify_items": null,
            "left": null,
            "margin": null,
            "max_height": null,
            "max_width": null,
            "min_height": null,
            "min_width": null,
            "object_fit": null,
            "object_position": null,
            "order": null,
            "overflow": null,
            "overflow_x": null,
            "overflow_y": null,
            "padding": null,
            "right": null,
            "top": null,
            "visibility": null,
            "width": null
          }
        },
        "4355936c04404cab8345ab7c84ed9314": {
          "model_module": "@jupyter-widgets/base",
          "model_name": "LayoutModel",
          "model_module_version": "1.2.0",
          "state": {
            "_model_module": "@jupyter-widgets/base",
            "_model_module_version": "1.2.0",
            "_model_name": "LayoutModel",
            "_view_count": null,
            "_view_module": "@jupyter-widgets/base",
            "_view_module_version": "1.2.0",
            "_view_name": "LayoutView",
            "align_content": null,
            "align_items": null,
            "align_self": null,
            "border": null,
            "bottom": null,
            "display": null,
            "flex": null,
            "flex_flow": null,
            "grid_area": null,
            "grid_auto_columns": null,
            "grid_auto_flow": null,
            "grid_auto_rows": null,
            "grid_column": null,
            "grid_gap": null,
            "grid_row": null,
            "grid_template_areas": null,
            "grid_template_columns": null,
            "grid_template_rows": null,
            "height": null,
            "justify_content": null,
            "justify_items": null,
            "left": null,
            "margin": null,
            "max_height": null,
            "max_width": null,
            "min_height": null,
            "min_width": null,
            "object_fit": null,
            "object_position": null,
            "order": null,
            "overflow": null,
            "overflow_x": null,
            "overflow_y": null,
            "padding": null,
            "right": null,
            "top": null,
            "visibility": null,
            "width": null
          }
        },
        "b84f7911987e4a9cadd4b400cf955dc2": {
          "model_module": "@jupyter-widgets/controls",
          "model_name": "DescriptionStyleModel",
          "model_module_version": "1.5.0",
          "state": {
            "_model_module": "@jupyter-widgets/controls",
            "_model_module_version": "1.5.0",
            "_model_name": "DescriptionStyleModel",
            "_view_count": null,
            "_view_module": "@jupyter-widgets/base",
            "_view_module_version": "1.2.0",
            "_view_name": "StyleView",
            "description_width": ""
          }
        },
        "d23eac8bd47d4c1caf0eeee6bef3b2dc": {
          "model_module": "@jupyter-widgets/base",
          "model_name": "LayoutModel",
          "model_module_version": "1.2.0",
          "state": {
            "_model_module": "@jupyter-widgets/base",
            "_model_module_version": "1.2.0",
            "_model_name": "LayoutModel",
            "_view_count": null,
            "_view_module": "@jupyter-widgets/base",
            "_view_module_version": "1.2.0",
            "_view_name": "LayoutView",
            "align_content": null,
            "align_items": null,
            "align_self": null,
            "border": null,
            "bottom": null,
            "display": null,
            "flex": null,
            "flex_flow": null,
            "grid_area": null,
            "grid_auto_columns": null,
            "grid_auto_flow": null,
            "grid_auto_rows": null,
            "grid_column": null,
            "grid_gap": null,
            "grid_row": null,
            "grid_template_areas": null,
            "grid_template_columns": null,
            "grid_template_rows": null,
            "height": null,
            "justify_content": null,
            "justify_items": null,
            "left": null,
            "margin": null,
            "max_height": null,
            "max_width": null,
            "min_height": null,
            "min_width": null,
            "object_fit": null,
            "object_position": null,
            "order": null,
            "overflow": null,
            "overflow_x": null,
            "overflow_y": null,
            "padding": null,
            "right": null,
            "top": null,
            "visibility": null,
            "width": null
          }
        },
        "94e8d92ef65c49699262ce1acc42610e": {
          "model_module": "@jupyter-widgets/controls",
          "model_name": "ProgressStyleModel",
          "model_module_version": "1.5.0",
          "state": {
            "_model_module": "@jupyter-widgets/controls",
            "_model_module_version": "1.5.0",
            "_model_name": "ProgressStyleModel",
            "_view_count": null,
            "_view_module": "@jupyter-widgets/base",
            "_view_module_version": "1.2.0",
            "_view_name": "StyleView",
            "bar_color": null,
            "description_width": ""
          }
        },
        "467d9457015b4225afe44b44a0081d6b": {
          "model_module": "@jupyter-widgets/base",
          "model_name": "LayoutModel",
          "model_module_version": "1.2.0",
          "state": {
            "_model_module": "@jupyter-widgets/base",
            "_model_module_version": "1.2.0",
            "_model_name": "LayoutModel",
            "_view_count": null,
            "_view_module": "@jupyter-widgets/base",
            "_view_module_version": "1.2.0",
            "_view_name": "LayoutView",
            "align_content": null,
            "align_items": null,
            "align_self": null,
            "border": null,
            "bottom": null,
            "display": null,
            "flex": null,
            "flex_flow": null,
            "grid_area": null,
            "grid_auto_columns": null,
            "grid_auto_flow": null,
            "grid_auto_rows": null,
            "grid_column": null,
            "grid_gap": null,
            "grid_row": null,
            "grid_template_areas": null,
            "grid_template_columns": null,
            "grid_template_rows": null,
            "height": null,
            "justify_content": null,
            "justify_items": null,
            "left": null,
            "margin": null,
            "max_height": null,
            "max_width": null,
            "min_height": null,
            "min_width": null,
            "object_fit": null,
            "object_position": null,
            "order": null,
            "overflow": null,
            "overflow_x": null,
            "overflow_y": null,
            "padding": null,
            "right": null,
            "top": null,
            "visibility": null,
            "width": null
          }
        },
        "367a367426ef40f092a971ac01a3374e": {
          "model_module": "@jupyter-widgets/controls",
          "model_name": "DescriptionStyleModel",
          "model_module_version": "1.5.0",
          "state": {
            "_model_module": "@jupyter-widgets/controls",
            "_model_module_version": "1.5.0",
            "_model_name": "DescriptionStyleModel",
            "_view_count": null,
            "_view_module": "@jupyter-widgets/base",
            "_view_module_version": "1.2.0",
            "_view_name": "StyleView",
            "description_width": ""
          }
        },
        "d250521bfc4749de9f14daca1cc3cc7a": {
          "model_module": "@jupyter-widgets/controls",
          "model_name": "HBoxModel",
          "model_module_version": "1.5.0",
          "state": {
            "_dom_classes": [],
            "_model_module": "@jupyter-widgets/controls",
            "_model_module_version": "1.5.0",
            "_model_name": "HBoxModel",
            "_view_count": null,
            "_view_module": "@jupyter-widgets/controls",
            "_view_module_version": "1.5.0",
            "_view_name": "HBoxView",
            "box_style": "",
            "children": [
              "IPY_MODEL_e7e5243017a64214ad3fb398fa44c073",
              "IPY_MODEL_cf4b7c6078d34c148367adf51e035425",
              "IPY_MODEL_f6245c93c8db4e22a5c0e1ecabe06ec5"
            ],
            "layout": "IPY_MODEL_c6c030d0aa634870bc7d4ff0c6135f7c"
          }
        },
        "e7e5243017a64214ad3fb398fa44c073": {
          "model_module": "@jupyter-widgets/controls",
          "model_name": "HTMLModel",
          "model_module_version": "1.5.0",
          "state": {
            "_dom_classes": [],
            "_model_module": "@jupyter-widgets/controls",
            "_model_module_version": "1.5.0",
            "_model_name": "HTMLModel",
            "_view_count": null,
            "_view_module": "@jupyter-widgets/controls",
            "_view_module_version": "1.5.0",
            "_view_name": "HTMLView",
            "description": "",
            "description_tooltip": null,
            "layout": "IPY_MODEL_0f91d8617bdb4e40a5581626d81b2433",
            "placeholder": "​",
            "style": "IPY_MODEL_3833adeaeee4444ba76ad5c78f9c7673",
            "value": "100%"
          }
        },
        "cf4b7c6078d34c148367adf51e035425": {
          "model_module": "@jupyter-widgets/controls",
          "model_name": "FloatProgressModel",
          "model_module_version": "1.5.0",
          "state": {
            "_dom_classes": [],
            "_model_module": "@jupyter-widgets/controls",
            "_model_module_version": "1.5.0",
            "_model_name": "FloatProgressModel",
            "_view_count": null,
            "_view_module": "@jupyter-widgets/controls",
            "_view_module_version": "1.5.0",
            "_view_name": "ProgressView",
            "bar_style": "success",
            "description": "",
            "description_tooltip": null,
            "layout": "IPY_MODEL_539832fe19ac40b7b015530b5c6b03d6",
            "max": 80,
            "min": 0,
            "orientation": "horizontal",
            "style": "IPY_MODEL_3111cb208d9642d481a3f3455f06d1ab",
            "value": 80
          }
        },
        "f6245c93c8db4e22a5c0e1ecabe06ec5": {
          "model_module": "@jupyter-widgets/controls",
          "model_name": "HTMLModel",
          "model_module_version": "1.5.0",
          "state": {
            "_dom_classes": [],
            "_model_module": "@jupyter-widgets/controls",
            "_model_module_version": "1.5.0",
            "_model_name": "HTMLModel",
            "_view_count": null,
            "_view_module": "@jupyter-widgets/controls",
            "_view_module_version": "1.5.0",
            "_view_name": "HTMLView",
            "description": "",
            "description_tooltip": null,
            "layout": "IPY_MODEL_35a97f73346a416d89227da4ad31c66a",
            "placeholder": "​",
            "style": "IPY_MODEL_9b502ebc222d486291f73601fe1a40be",
            "value": " 80/80 [35:23&lt;00:00, 51.70s/it]"
          }
        },
        "c6c030d0aa634870bc7d4ff0c6135f7c": {
          "model_module": "@jupyter-widgets/base",
          "model_name": "LayoutModel",
          "model_module_version": "1.2.0",
          "state": {
            "_model_module": "@jupyter-widgets/base",
            "_model_module_version": "1.2.0",
            "_model_name": "LayoutModel",
            "_view_count": null,
            "_view_module": "@jupyter-widgets/base",
            "_view_module_version": "1.2.0",
            "_view_name": "LayoutView",
            "align_content": null,
            "align_items": null,
            "align_self": null,
            "border": null,
            "bottom": null,
            "display": null,
            "flex": null,
            "flex_flow": null,
            "grid_area": null,
            "grid_auto_columns": null,
            "grid_auto_flow": null,
            "grid_auto_rows": null,
            "grid_column": null,
            "grid_gap": null,
            "grid_row": null,
            "grid_template_areas": null,
            "grid_template_columns": null,
            "grid_template_rows": null,
            "height": null,
            "justify_content": null,
            "justify_items": null,
            "left": null,
            "margin": null,
            "max_height": null,
            "max_width": null,
            "min_height": null,
            "min_width": null,
            "object_fit": null,
            "object_position": null,
            "order": null,
            "overflow": null,
            "overflow_x": null,
            "overflow_y": null,
            "padding": null,
            "right": null,
            "top": null,
            "visibility": null,
            "width": null
          }
        },
        "0f91d8617bdb4e40a5581626d81b2433": {
          "model_module": "@jupyter-widgets/base",
          "model_name": "LayoutModel",
          "model_module_version": "1.2.0",
          "state": {
            "_model_module": "@jupyter-widgets/base",
            "_model_module_version": "1.2.0",
            "_model_name": "LayoutModel",
            "_view_count": null,
            "_view_module": "@jupyter-widgets/base",
            "_view_module_version": "1.2.0",
            "_view_name": "LayoutView",
            "align_content": null,
            "align_items": null,
            "align_self": null,
            "border": null,
            "bottom": null,
            "display": null,
            "flex": null,
            "flex_flow": null,
            "grid_area": null,
            "grid_auto_columns": null,
            "grid_auto_flow": null,
            "grid_auto_rows": null,
            "grid_column": null,
            "grid_gap": null,
            "grid_row": null,
            "grid_template_areas": null,
            "grid_template_columns": null,
            "grid_template_rows": null,
            "height": null,
            "justify_content": null,
            "justify_items": null,
            "left": null,
            "margin": null,
            "max_height": null,
            "max_width": null,
            "min_height": null,
            "min_width": null,
            "object_fit": null,
            "object_position": null,
            "order": null,
            "overflow": null,
            "overflow_x": null,
            "overflow_y": null,
            "padding": null,
            "right": null,
            "top": null,
            "visibility": null,
            "width": null
          }
        },
        "3833adeaeee4444ba76ad5c78f9c7673": {
          "model_module": "@jupyter-widgets/controls",
          "model_name": "DescriptionStyleModel",
          "model_module_version": "1.5.0",
          "state": {
            "_model_module": "@jupyter-widgets/controls",
            "_model_module_version": "1.5.0",
            "_model_name": "DescriptionStyleModel",
            "_view_count": null,
            "_view_module": "@jupyter-widgets/base",
            "_view_module_version": "1.2.0",
            "_view_name": "StyleView",
            "description_width": ""
          }
        },
        "539832fe19ac40b7b015530b5c6b03d6": {
          "model_module": "@jupyter-widgets/base",
          "model_name": "LayoutModel",
          "model_module_version": "1.2.0",
          "state": {
            "_model_module": "@jupyter-widgets/base",
            "_model_module_version": "1.2.0",
            "_model_name": "LayoutModel",
            "_view_count": null,
            "_view_module": "@jupyter-widgets/base",
            "_view_module_version": "1.2.0",
            "_view_name": "LayoutView",
            "align_content": null,
            "align_items": null,
            "align_self": null,
            "border": null,
            "bottom": null,
            "display": null,
            "flex": null,
            "flex_flow": null,
            "grid_area": null,
            "grid_auto_columns": null,
            "grid_auto_flow": null,
            "grid_auto_rows": null,
            "grid_column": null,
            "grid_gap": null,
            "grid_row": null,
            "grid_template_areas": null,
            "grid_template_columns": null,
            "grid_template_rows": null,
            "height": null,
            "justify_content": null,
            "justify_items": null,
            "left": null,
            "margin": null,
            "max_height": null,
            "max_width": null,
            "min_height": null,
            "min_width": null,
            "object_fit": null,
            "object_position": null,
            "order": null,
            "overflow": null,
            "overflow_x": null,
            "overflow_y": null,
            "padding": null,
            "right": null,
            "top": null,
            "visibility": null,
            "width": null
          }
        },
        "3111cb208d9642d481a3f3455f06d1ab": {
          "model_module": "@jupyter-widgets/controls",
          "model_name": "ProgressStyleModel",
          "model_module_version": "1.5.0",
          "state": {
            "_model_module": "@jupyter-widgets/controls",
            "_model_module_version": "1.5.0",
            "_model_name": "ProgressStyleModel",
            "_view_count": null,
            "_view_module": "@jupyter-widgets/base",
            "_view_module_version": "1.2.0",
            "_view_name": "StyleView",
            "bar_color": null,
            "description_width": ""
          }
        },
        "35a97f73346a416d89227da4ad31c66a": {
          "model_module": "@jupyter-widgets/base",
          "model_name": "LayoutModel",
          "model_module_version": "1.2.0",
          "state": {
            "_model_module": "@jupyter-widgets/base",
            "_model_module_version": "1.2.0",
            "_model_name": "LayoutModel",
            "_view_count": null,
            "_view_module": "@jupyter-widgets/base",
            "_view_module_version": "1.2.0",
            "_view_name": "LayoutView",
            "align_content": null,
            "align_items": null,
            "align_self": null,
            "border": null,
            "bottom": null,
            "display": null,
            "flex": null,
            "flex_flow": null,
            "grid_area": null,
            "grid_auto_columns": null,
            "grid_auto_flow": null,
            "grid_auto_rows": null,
            "grid_column": null,
            "grid_gap": null,
            "grid_row": null,
            "grid_template_areas": null,
            "grid_template_columns": null,
            "grid_template_rows": null,
            "height": null,
            "justify_content": null,
            "justify_items": null,
            "left": null,
            "margin": null,
            "max_height": null,
            "max_width": null,
            "min_height": null,
            "min_width": null,
            "object_fit": null,
            "object_position": null,
            "order": null,
            "overflow": null,
            "overflow_x": null,
            "overflow_y": null,
            "padding": null,
            "right": null,
            "top": null,
            "visibility": null,
            "width": null
          }
        },
        "9b502ebc222d486291f73601fe1a40be": {
          "model_module": "@jupyter-widgets/controls",
          "model_name": "DescriptionStyleModel",
          "model_module_version": "1.5.0",
          "state": {
            "_model_module": "@jupyter-widgets/controls",
            "_model_module_version": "1.5.0",
            "_model_name": "DescriptionStyleModel",
            "_view_count": null,
            "_view_module": "@jupyter-widgets/base",
            "_view_module_version": "1.2.0",
            "_view_name": "StyleView",
            "description_width": ""
          }
        },
        "bf55ec00fccd4bfbb26a1dda305ba94e": {
          "model_module": "@jupyter-widgets/controls",
          "model_name": "HBoxModel",
          "model_module_version": "1.5.0",
          "state": {
            "_dom_classes": [],
            "_model_module": "@jupyter-widgets/controls",
            "_model_module_version": "1.5.0",
            "_model_name": "HBoxModel",
            "_view_count": null,
            "_view_module": "@jupyter-widgets/controls",
            "_view_module_version": "1.5.0",
            "_view_name": "HBoxView",
            "box_style": "",
            "children": [
              "IPY_MODEL_798bb6c92eb84e86bc1637ce7e47df28",
              "IPY_MODEL_7cf0847e59dd4679bb2de2202ed04c98",
              "IPY_MODEL_37395a10b1e0450e94fc54c09ae82129"
            ],
            "layout": "IPY_MODEL_c43baa6d5a08491f94b22163b720b00e"
          }
        },
        "798bb6c92eb84e86bc1637ce7e47df28": {
          "model_module": "@jupyter-widgets/controls",
          "model_name": "HTMLModel",
          "model_module_version": "1.5.0",
          "state": {
            "_dom_classes": [],
            "_model_module": "@jupyter-widgets/controls",
            "_model_module_version": "1.5.0",
            "_model_name": "HTMLModel",
            "_view_count": null,
            "_view_module": "@jupyter-widgets/controls",
            "_view_module_version": "1.5.0",
            "_view_name": "HTMLView",
            "description": "",
            "description_tooltip": null,
            "layout": "IPY_MODEL_5098374686f0463396b47260092dffb1",
            "placeholder": "​",
            "style": "IPY_MODEL_10b8d91635514fbdaa6ef0b6aba6bd48",
            "value": "100%"
          }
        },
        "7cf0847e59dd4679bb2de2202ed04c98": {
          "model_module": "@jupyter-widgets/controls",
          "model_name": "FloatProgressModel",
          "model_module_version": "1.5.0",
          "state": {
            "_dom_classes": [],
            "_model_module": "@jupyter-widgets/controls",
            "_model_module_version": "1.5.0",
            "_model_name": "FloatProgressModel",
            "_view_count": null,
            "_view_module": "@jupyter-widgets/controls",
            "_view_module_version": "1.5.0",
            "_view_name": "ProgressView",
            "bar_style": "success",
            "description": "",
            "description_tooltip": null,
            "layout": "IPY_MODEL_959b5a664e464c6d964b7e401136f30c",
            "max": 25,
            "min": 0,
            "orientation": "horizontal",
            "style": "IPY_MODEL_fe956f727caa4284a5a2e28808771f39",
            "value": 25
          }
        },
        "37395a10b1e0450e94fc54c09ae82129": {
          "model_module": "@jupyter-widgets/controls",
          "model_name": "HTMLModel",
          "model_module_version": "1.5.0",
          "state": {
            "_dom_classes": [],
            "_model_module": "@jupyter-widgets/controls",
            "_model_module_version": "1.5.0",
            "_model_name": "HTMLModel",
            "_view_count": null,
            "_view_module": "@jupyter-widgets/controls",
            "_view_module_version": "1.5.0",
            "_view_name": "HTMLView",
            "description": "",
            "description_tooltip": null,
            "layout": "IPY_MODEL_cefe6733fa06491abe1901c23f69a6f2",
            "placeholder": "​",
            "style": "IPY_MODEL_5835c71d97dd45f69b450bfbc32acd4b",
            "value": " 25/25 [28:38&lt;00:00, 76.32s/it]"
          }
        },
        "c43baa6d5a08491f94b22163b720b00e": {
          "model_module": "@jupyter-widgets/base",
          "model_name": "LayoutModel",
          "model_module_version": "1.2.0",
          "state": {
            "_model_module": "@jupyter-widgets/base",
            "_model_module_version": "1.2.0",
            "_model_name": "LayoutModel",
            "_view_count": null,
            "_view_module": "@jupyter-widgets/base",
            "_view_module_version": "1.2.0",
            "_view_name": "LayoutView",
            "align_content": null,
            "align_items": null,
            "align_self": null,
            "border": null,
            "bottom": null,
            "display": null,
            "flex": null,
            "flex_flow": null,
            "grid_area": null,
            "grid_auto_columns": null,
            "grid_auto_flow": null,
            "grid_auto_rows": null,
            "grid_column": null,
            "grid_gap": null,
            "grid_row": null,
            "grid_template_areas": null,
            "grid_template_columns": null,
            "grid_template_rows": null,
            "height": null,
            "justify_content": null,
            "justify_items": null,
            "left": null,
            "margin": null,
            "max_height": null,
            "max_width": null,
            "min_height": null,
            "min_width": null,
            "object_fit": null,
            "object_position": null,
            "order": null,
            "overflow": null,
            "overflow_x": null,
            "overflow_y": null,
            "padding": null,
            "right": null,
            "top": null,
            "visibility": null,
            "width": null
          }
        },
        "5098374686f0463396b47260092dffb1": {
          "model_module": "@jupyter-widgets/base",
          "model_name": "LayoutModel",
          "model_module_version": "1.2.0",
          "state": {
            "_model_module": "@jupyter-widgets/base",
            "_model_module_version": "1.2.0",
            "_model_name": "LayoutModel",
            "_view_count": null,
            "_view_module": "@jupyter-widgets/base",
            "_view_module_version": "1.2.0",
            "_view_name": "LayoutView",
            "align_content": null,
            "align_items": null,
            "align_self": null,
            "border": null,
            "bottom": null,
            "display": null,
            "flex": null,
            "flex_flow": null,
            "grid_area": null,
            "grid_auto_columns": null,
            "grid_auto_flow": null,
            "grid_auto_rows": null,
            "grid_column": null,
            "grid_gap": null,
            "grid_row": null,
            "grid_template_areas": null,
            "grid_template_columns": null,
            "grid_template_rows": null,
            "height": null,
            "justify_content": null,
            "justify_items": null,
            "left": null,
            "margin": null,
            "max_height": null,
            "max_width": null,
            "min_height": null,
            "min_width": null,
            "object_fit": null,
            "object_position": null,
            "order": null,
            "overflow": null,
            "overflow_x": null,
            "overflow_y": null,
            "padding": null,
            "right": null,
            "top": null,
            "visibility": null,
            "width": null
          }
        },
        "10b8d91635514fbdaa6ef0b6aba6bd48": {
          "model_module": "@jupyter-widgets/controls",
          "model_name": "DescriptionStyleModel",
          "model_module_version": "1.5.0",
          "state": {
            "_model_module": "@jupyter-widgets/controls",
            "_model_module_version": "1.5.0",
            "_model_name": "DescriptionStyleModel",
            "_view_count": null,
            "_view_module": "@jupyter-widgets/base",
            "_view_module_version": "1.2.0",
            "_view_name": "StyleView",
            "description_width": ""
          }
        },
        "959b5a664e464c6d964b7e401136f30c": {
          "model_module": "@jupyter-widgets/base",
          "model_name": "LayoutModel",
          "model_module_version": "1.2.0",
          "state": {
            "_model_module": "@jupyter-widgets/base",
            "_model_module_version": "1.2.0",
            "_model_name": "LayoutModel",
            "_view_count": null,
            "_view_module": "@jupyter-widgets/base",
            "_view_module_version": "1.2.0",
            "_view_name": "LayoutView",
            "align_content": null,
            "align_items": null,
            "align_self": null,
            "border": null,
            "bottom": null,
            "display": null,
            "flex": null,
            "flex_flow": null,
            "grid_area": null,
            "grid_auto_columns": null,
            "grid_auto_flow": null,
            "grid_auto_rows": null,
            "grid_column": null,
            "grid_gap": null,
            "grid_row": null,
            "grid_template_areas": null,
            "grid_template_columns": null,
            "grid_template_rows": null,
            "height": null,
            "justify_content": null,
            "justify_items": null,
            "left": null,
            "margin": null,
            "max_height": null,
            "max_width": null,
            "min_height": null,
            "min_width": null,
            "object_fit": null,
            "object_position": null,
            "order": null,
            "overflow": null,
            "overflow_x": null,
            "overflow_y": null,
            "padding": null,
            "right": null,
            "top": null,
            "visibility": null,
            "width": null
          }
        },
        "fe956f727caa4284a5a2e28808771f39": {
          "model_module": "@jupyter-widgets/controls",
          "model_name": "ProgressStyleModel",
          "model_module_version": "1.5.0",
          "state": {
            "_model_module": "@jupyter-widgets/controls",
            "_model_module_version": "1.5.0",
            "_model_name": "ProgressStyleModel",
            "_view_count": null,
            "_view_module": "@jupyter-widgets/base",
            "_view_module_version": "1.2.0",
            "_view_name": "StyleView",
            "bar_color": null,
            "description_width": ""
          }
        },
        "cefe6733fa06491abe1901c23f69a6f2": {
          "model_module": "@jupyter-widgets/base",
          "model_name": "LayoutModel",
          "model_module_version": "1.2.0",
          "state": {
            "_model_module": "@jupyter-widgets/base",
            "_model_module_version": "1.2.0",
            "_model_name": "LayoutModel",
            "_view_count": null,
            "_view_module": "@jupyter-widgets/base",
            "_view_module_version": "1.2.0",
            "_view_name": "LayoutView",
            "align_content": null,
            "align_items": null,
            "align_self": null,
            "border": null,
            "bottom": null,
            "display": null,
            "flex": null,
            "flex_flow": null,
            "grid_area": null,
            "grid_auto_columns": null,
            "grid_auto_flow": null,
            "grid_auto_rows": null,
            "grid_column": null,
            "grid_gap": null,
            "grid_row": null,
            "grid_template_areas": null,
            "grid_template_columns": null,
            "grid_template_rows": null,
            "height": null,
            "justify_content": null,
            "justify_items": null,
            "left": null,
            "margin": null,
            "max_height": null,
            "max_width": null,
            "min_height": null,
            "min_width": null,
            "object_fit": null,
            "object_position": null,
            "order": null,
            "overflow": null,
            "overflow_x": null,
            "overflow_y": null,
            "padding": null,
            "right": null,
            "top": null,
            "visibility": null,
            "width": null
          }
        },
        "5835c71d97dd45f69b450bfbc32acd4b": {
          "model_module": "@jupyter-widgets/controls",
          "model_name": "DescriptionStyleModel",
          "model_module_version": "1.5.0",
          "state": {
            "_model_module": "@jupyter-widgets/controls",
            "_model_module_version": "1.5.0",
            "_model_name": "DescriptionStyleModel",
            "_view_count": null,
            "_view_module": "@jupyter-widgets/base",
            "_view_module_version": "1.2.0",
            "_view_name": "StyleView",
            "description_width": ""
          }
        },
        "a4b2d9f2c88441a1b5c899ac759cd483": {
          "model_module": "@jupyter-widgets/controls",
          "model_name": "HBoxModel",
          "model_module_version": "1.5.0",
          "state": {
            "_dom_classes": [],
            "_model_module": "@jupyter-widgets/controls",
            "_model_module_version": "1.5.0",
            "_model_name": "HBoxModel",
            "_view_count": null,
            "_view_module": "@jupyter-widgets/controls",
            "_view_module_version": "1.5.0",
            "_view_name": "HBoxView",
            "box_style": "",
            "children": [
              "IPY_MODEL_be3da13445a2459e83c136228ae6bd3e",
              "IPY_MODEL_295ee38cd30a42c4896a8f1da16f4bc1",
              "IPY_MODEL_3c1ad009963a49c8b820f8d8fabe843f"
            ],
            "layout": "IPY_MODEL_3c0a774140094f4588f0a0c9fa72e941"
          }
        },
        "be3da13445a2459e83c136228ae6bd3e": {
          "model_module": "@jupyter-widgets/controls",
          "model_name": "HTMLModel",
          "model_module_version": "1.5.0",
          "state": {
            "_dom_classes": [],
            "_model_module": "@jupyter-widgets/controls",
            "_model_module_version": "1.5.0",
            "_model_name": "HTMLModel",
            "_view_count": null,
            "_view_module": "@jupyter-widgets/controls",
            "_view_module_version": "1.5.0",
            "_view_name": "HTMLView",
            "description": "",
            "description_tooltip": null,
            "layout": "IPY_MODEL_b8b12087e1464dadadbb320018d98182",
            "placeholder": "​",
            "style": "IPY_MODEL_db3d22ab82ce409e877c78adb17caa43",
            "value": "100%"
          }
        },
        "295ee38cd30a42c4896a8f1da16f4bc1": {
          "model_module": "@jupyter-widgets/controls",
          "model_name": "FloatProgressModel",
          "model_module_version": "1.5.0",
          "state": {
            "_dom_classes": [],
            "_model_module": "@jupyter-widgets/controls",
            "_model_module_version": "1.5.0",
            "_model_name": "FloatProgressModel",
            "_view_count": null,
            "_view_module": "@jupyter-widgets/controls",
            "_view_module_version": "1.5.0",
            "_view_name": "ProgressView",
            "bar_style": "success",
            "description": "",
            "description_tooltip": null,
            "layout": "IPY_MODEL_f551d7dc3aaf44709c441a58ee7b3f8c",
            "max": 250,
            "min": 0,
            "orientation": "horizontal",
            "style": "IPY_MODEL_cb8b3468635544cb960cd68eeee2879e",
            "value": 250
          }
        },
        "3c1ad009963a49c8b820f8d8fabe843f": {
          "model_module": "@jupyter-widgets/controls",
          "model_name": "HTMLModel",
          "model_module_version": "1.5.0",
          "state": {
            "_dom_classes": [],
            "_model_module": "@jupyter-widgets/controls",
            "_model_module_version": "1.5.0",
            "_model_name": "HTMLModel",
            "_view_count": null,
            "_view_module": "@jupyter-widgets/controls",
            "_view_module_version": "1.5.0",
            "_view_name": "HTMLView",
            "description": "",
            "description_tooltip": null,
            "layout": "IPY_MODEL_4b32edc08cd743e798a881a5b57548d8",
            "placeholder": "​",
            "style": "IPY_MODEL_48be6b53035347fdbcba3958181bbbc4",
            "value": " 250/250 [10:54&lt;00:00,  9.69s/it]"
          }
        },
        "3c0a774140094f4588f0a0c9fa72e941": {
          "model_module": "@jupyter-widgets/base",
          "model_name": "LayoutModel",
          "model_module_version": "1.2.0",
          "state": {
            "_model_module": "@jupyter-widgets/base",
            "_model_module_version": "1.2.0",
            "_model_name": "LayoutModel",
            "_view_count": null,
            "_view_module": "@jupyter-widgets/base",
            "_view_module_version": "1.2.0",
            "_view_name": "LayoutView",
            "align_content": null,
            "align_items": null,
            "align_self": null,
            "border": null,
            "bottom": null,
            "display": null,
            "flex": null,
            "flex_flow": null,
            "grid_area": null,
            "grid_auto_columns": null,
            "grid_auto_flow": null,
            "grid_auto_rows": null,
            "grid_column": null,
            "grid_gap": null,
            "grid_row": null,
            "grid_template_areas": null,
            "grid_template_columns": null,
            "grid_template_rows": null,
            "height": null,
            "justify_content": null,
            "justify_items": null,
            "left": null,
            "margin": null,
            "max_height": null,
            "max_width": null,
            "min_height": null,
            "min_width": null,
            "object_fit": null,
            "object_position": null,
            "order": null,
            "overflow": null,
            "overflow_x": null,
            "overflow_y": null,
            "padding": null,
            "right": null,
            "top": null,
            "visibility": null,
            "width": null
          }
        },
        "b8b12087e1464dadadbb320018d98182": {
          "model_module": "@jupyter-widgets/base",
          "model_name": "LayoutModel",
          "model_module_version": "1.2.0",
          "state": {
            "_model_module": "@jupyter-widgets/base",
            "_model_module_version": "1.2.0",
            "_model_name": "LayoutModel",
            "_view_count": null,
            "_view_module": "@jupyter-widgets/base",
            "_view_module_version": "1.2.0",
            "_view_name": "LayoutView",
            "align_content": null,
            "align_items": null,
            "align_self": null,
            "border": null,
            "bottom": null,
            "display": null,
            "flex": null,
            "flex_flow": null,
            "grid_area": null,
            "grid_auto_columns": null,
            "grid_auto_flow": null,
            "grid_auto_rows": null,
            "grid_column": null,
            "grid_gap": null,
            "grid_row": null,
            "grid_template_areas": null,
            "grid_template_columns": null,
            "grid_template_rows": null,
            "height": null,
            "justify_content": null,
            "justify_items": null,
            "left": null,
            "margin": null,
            "max_height": null,
            "max_width": null,
            "min_height": null,
            "min_width": null,
            "object_fit": null,
            "object_position": null,
            "order": null,
            "overflow": null,
            "overflow_x": null,
            "overflow_y": null,
            "padding": null,
            "right": null,
            "top": null,
            "visibility": null,
            "width": null
          }
        },
        "db3d22ab82ce409e877c78adb17caa43": {
          "model_module": "@jupyter-widgets/controls",
          "model_name": "DescriptionStyleModel",
          "model_module_version": "1.5.0",
          "state": {
            "_model_module": "@jupyter-widgets/controls",
            "_model_module_version": "1.5.0",
            "_model_name": "DescriptionStyleModel",
            "_view_count": null,
            "_view_module": "@jupyter-widgets/base",
            "_view_module_version": "1.2.0",
            "_view_name": "StyleView",
            "description_width": ""
          }
        },
        "f551d7dc3aaf44709c441a58ee7b3f8c": {
          "model_module": "@jupyter-widgets/base",
          "model_name": "LayoutModel",
          "model_module_version": "1.2.0",
          "state": {
            "_model_module": "@jupyter-widgets/base",
            "_model_module_version": "1.2.0",
            "_model_name": "LayoutModel",
            "_view_count": null,
            "_view_module": "@jupyter-widgets/base",
            "_view_module_version": "1.2.0",
            "_view_name": "LayoutView",
            "align_content": null,
            "align_items": null,
            "align_self": null,
            "border": null,
            "bottom": null,
            "display": null,
            "flex": null,
            "flex_flow": null,
            "grid_area": null,
            "grid_auto_columns": null,
            "grid_auto_flow": null,
            "grid_auto_rows": null,
            "grid_column": null,
            "grid_gap": null,
            "grid_row": null,
            "grid_template_areas": null,
            "grid_template_columns": null,
            "grid_template_rows": null,
            "height": null,
            "justify_content": null,
            "justify_items": null,
            "left": null,
            "margin": null,
            "max_height": null,
            "max_width": null,
            "min_height": null,
            "min_width": null,
            "object_fit": null,
            "object_position": null,
            "order": null,
            "overflow": null,
            "overflow_x": null,
            "overflow_y": null,
            "padding": null,
            "right": null,
            "top": null,
            "visibility": null,
            "width": null
          }
        },
        "cb8b3468635544cb960cd68eeee2879e": {
          "model_module": "@jupyter-widgets/controls",
          "model_name": "ProgressStyleModel",
          "model_module_version": "1.5.0",
          "state": {
            "_model_module": "@jupyter-widgets/controls",
            "_model_module_version": "1.5.0",
            "_model_name": "ProgressStyleModel",
            "_view_count": null,
            "_view_module": "@jupyter-widgets/base",
            "_view_module_version": "1.2.0",
            "_view_name": "StyleView",
            "bar_color": null,
            "description_width": ""
          }
        },
        "4b32edc08cd743e798a881a5b57548d8": {
          "model_module": "@jupyter-widgets/base",
          "model_name": "LayoutModel",
          "model_module_version": "1.2.0",
          "state": {
            "_model_module": "@jupyter-widgets/base",
            "_model_module_version": "1.2.0",
            "_model_name": "LayoutModel",
            "_view_count": null,
            "_view_module": "@jupyter-widgets/base",
            "_view_module_version": "1.2.0",
            "_view_name": "LayoutView",
            "align_content": null,
            "align_items": null,
            "align_self": null,
            "border": null,
            "bottom": null,
            "display": null,
            "flex": null,
            "flex_flow": null,
            "grid_area": null,
            "grid_auto_columns": null,
            "grid_auto_flow": null,
            "grid_auto_rows": null,
            "grid_column": null,
            "grid_gap": null,
            "grid_row": null,
            "grid_template_areas": null,
            "grid_template_columns": null,
            "grid_template_rows": null,
            "height": null,
            "justify_content": null,
            "justify_items": null,
            "left": null,
            "margin": null,
            "max_height": null,
            "max_width": null,
            "min_height": null,
            "min_width": null,
            "object_fit": null,
            "object_position": null,
            "order": null,
            "overflow": null,
            "overflow_x": null,
            "overflow_y": null,
            "padding": null,
            "right": null,
            "top": null,
            "visibility": null,
            "width": null
          }
        },
        "48be6b53035347fdbcba3958181bbbc4": {
          "model_module": "@jupyter-widgets/controls",
          "model_name": "DescriptionStyleModel",
          "model_module_version": "1.5.0",
          "state": {
            "_model_module": "@jupyter-widgets/controls",
            "_model_module_version": "1.5.0",
            "_model_name": "DescriptionStyleModel",
            "_view_count": null,
            "_view_module": "@jupyter-widgets/base",
            "_view_module_version": "1.2.0",
            "_view_name": "StyleView",
            "description_width": ""
          }
        },
        "bf972cbc9ab649349de8436d6672e338": {
          "model_module": "@jupyter-widgets/controls",
          "model_name": "HBoxModel",
          "model_module_version": "1.5.0",
          "state": {
            "_dom_classes": [],
            "_model_module": "@jupyter-widgets/controls",
            "_model_module_version": "1.5.0",
            "_model_name": "HBoxModel",
            "_view_count": null,
            "_view_module": "@jupyter-widgets/controls",
            "_view_module_version": "1.5.0",
            "_view_name": "HBoxView",
            "box_style": "",
            "children": [
              "IPY_MODEL_7c61669dfee74cd8b942dc6056d18bf6",
              "IPY_MODEL_3ec48f2691c542edb2c82e70577238e7",
              "IPY_MODEL_44286df223a348fca493ce5d2dafe944"
            ],
            "layout": "IPY_MODEL_27fb234908b84a55b2fd9b22b607f73c"
          }
        },
        "7c61669dfee74cd8b942dc6056d18bf6": {
          "model_module": "@jupyter-widgets/controls",
          "model_name": "HTMLModel",
          "model_module_version": "1.5.0",
          "state": {
            "_dom_classes": [],
            "_model_module": "@jupyter-widgets/controls",
            "_model_module_version": "1.5.0",
            "_model_name": "HTMLModel",
            "_view_count": null,
            "_view_module": "@jupyter-widgets/controls",
            "_view_module_version": "1.5.0",
            "_view_name": "HTMLView",
            "description": "",
            "description_tooltip": null,
            "layout": "IPY_MODEL_3f55d009eef943d2a9f0bea21c1676d3",
            "placeholder": "​",
            "style": "IPY_MODEL_aced6967033a4c9c92baf4064c505093",
            "value": "100%"
          }
        },
        "3ec48f2691c542edb2c82e70577238e7": {
          "model_module": "@jupyter-widgets/controls",
          "model_name": "FloatProgressModel",
          "model_module_version": "1.5.0",
          "state": {
            "_dom_classes": [],
            "_model_module": "@jupyter-widgets/controls",
            "_model_module_version": "1.5.0",
            "_model_name": "FloatProgressModel",
            "_view_count": null,
            "_view_module": "@jupyter-widgets/controls",
            "_view_module_version": "1.5.0",
            "_view_name": "ProgressView",
            "bar_style": "success",
            "description": "",
            "description_tooltip": null,
            "layout": "IPY_MODEL_149df86ef1eb4d9fb57bcd657aaa8307",
            "max": 14,
            "min": 0,
            "orientation": "horizontal",
            "style": "IPY_MODEL_82091f939e6b4208a803efefa938276b",
            "value": 14
          }
        },
        "44286df223a348fca493ce5d2dafe944": {
          "model_module": "@jupyter-widgets/controls",
          "model_name": "HTMLModel",
          "model_module_version": "1.5.0",
          "state": {
            "_dom_classes": [],
            "_model_module": "@jupyter-widgets/controls",
            "_model_module_version": "1.5.0",
            "_model_name": "HTMLModel",
            "_view_count": null,
            "_view_module": "@jupyter-widgets/controls",
            "_view_module_version": "1.5.0",
            "_view_name": "HTMLView",
            "description": "",
            "description_tooltip": null,
            "layout": "IPY_MODEL_51de6fde8a5a4c3db86f9c001265fb13",
            "placeholder": "​",
            "style": "IPY_MODEL_02e3c73169c4416a8f4f04f69444ab4d",
            "value": " 14/14 [01:12&lt;00:00,  4.56s/it]"
          }
        },
        "27fb234908b84a55b2fd9b22b607f73c": {
          "model_module": "@jupyter-widgets/base",
          "model_name": "LayoutModel",
          "model_module_version": "1.2.0",
          "state": {
            "_model_module": "@jupyter-widgets/base",
            "_model_module_version": "1.2.0",
            "_model_name": "LayoutModel",
            "_view_count": null,
            "_view_module": "@jupyter-widgets/base",
            "_view_module_version": "1.2.0",
            "_view_name": "LayoutView",
            "align_content": null,
            "align_items": null,
            "align_self": null,
            "border": null,
            "bottom": null,
            "display": null,
            "flex": null,
            "flex_flow": null,
            "grid_area": null,
            "grid_auto_columns": null,
            "grid_auto_flow": null,
            "grid_auto_rows": null,
            "grid_column": null,
            "grid_gap": null,
            "grid_row": null,
            "grid_template_areas": null,
            "grid_template_columns": null,
            "grid_template_rows": null,
            "height": null,
            "justify_content": null,
            "justify_items": null,
            "left": null,
            "margin": null,
            "max_height": null,
            "max_width": null,
            "min_height": null,
            "min_width": null,
            "object_fit": null,
            "object_position": null,
            "order": null,
            "overflow": null,
            "overflow_x": null,
            "overflow_y": null,
            "padding": null,
            "right": null,
            "top": null,
            "visibility": null,
            "width": null
          }
        },
        "3f55d009eef943d2a9f0bea21c1676d3": {
          "model_module": "@jupyter-widgets/base",
          "model_name": "LayoutModel",
          "model_module_version": "1.2.0",
          "state": {
            "_model_module": "@jupyter-widgets/base",
            "_model_module_version": "1.2.0",
            "_model_name": "LayoutModel",
            "_view_count": null,
            "_view_module": "@jupyter-widgets/base",
            "_view_module_version": "1.2.0",
            "_view_name": "LayoutView",
            "align_content": null,
            "align_items": null,
            "align_self": null,
            "border": null,
            "bottom": null,
            "display": null,
            "flex": null,
            "flex_flow": null,
            "grid_area": null,
            "grid_auto_columns": null,
            "grid_auto_flow": null,
            "grid_auto_rows": null,
            "grid_column": null,
            "grid_gap": null,
            "grid_row": null,
            "grid_template_areas": null,
            "grid_template_columns": null,
            "grid_template_rows": null,
            "height": null,
            "justify_content": null,
            "justify_items": null,
            "left": null,
            "margin": null,
            "max_height": null,
            "max_width": null,
            "min_height": null,
            "min_width": null,
            "object_fit": null,
            "object_position": null,
            "order": null,
            "overflow": null,
            "overflow_x": null,
            "overflow_y": null,
            "padding": null,
            "right": null,
            "top": null,
            "visibility": null,
            "width": null
          }
        },
        "aced6967033a4c9c92baf4064c505093": {
          "model_module": "@jupyter-widgets/controls",
          "model_name": "DescriptionStyleModel",
          "model_module_version": "1.5.0",
          "state": {
            "_model_module": "@jupyter-widgets/controls",
            "_model_module_version": "1.5.0",
            "_model_name": "DescriptionStyleModel",
            "_view_count": null,
            "_view_module": "@jupyter-widgets/base",
            "_view_module_version": "1.2.0",
            "_view_name": "StyleView",
            "description_width": ""
          }
        },
        "149df86ef1eb4d9fb57bcd657aaa8307": {
          "model_module": "@jupyter-widgets/base",
          "model_name": "LayoutModel",
          "model_module_version": "1.2.0",
          "state": {
            "_model_module": "@jupyter-widgets/base",
            "_model_module_version": "1.2.0",
            "_model_name": "LayoutModel",
            "_view_count": null,
            "_view_module": "@jupyter-widgets/base",
            "_view_module_version": "1.2.0",
            "_view_name": "LayoutView",
            "align_content": null,
            "align_items": null,
            "align_self": null,
            "border": null,
            "bottom": null,
            "display": null,
            "flex": null,
            "flex_flow": null,
            "grid_area": null,
            "grid_auto_columns": null,
            "grid_auto_flow": null,
            "grid_auto_rows": null,
            "grid_column": null,
            "grid_gap": null,
            "grid_row": null,
            "grid_template_areas": null,
            "grid_template_columns": null,
            "grid_template_rows": null,
            "height": null,
            "justify_content": null,
            "justify_items": null,
            "left": null,
            "margin": null,
            "max_height": null,
            "max_width": null,
            "min_height": null,
            "min_width": null,
            "object_fit": null,
            "object_position": null,
            "order": null,
            "overflow": null,
            "overflow_x": null,
            "overflow_y": null,
            "padding": null,
            "right": null,
            "top": null,
            "visibility": null,
            "width": null
          }
        },
        "82091f939e6b4208a803efefa938276b": {
          "model_module": "@jupyter-widgets/controls",
          "model_name": "ProgressStyleModel",
          "model_module_version": "1.5.0",
          "state": {
            "_model_module": "@jupyter-widgets/controls",
            "_model_module_version": "1.5.0",
            "_model_name": "ProgressStyleModel",
            "_view_count": null,
            "_view_module": "@jupyter-widgets/base",
            "_view_module_version": "1.2.0",
            "_view_name": "StyleView",
            "bar_color": null,
            "description_width": ""
          }
        },
        "51de6fde8a5a4c3db86f9c001265fb13": {
          "model_module": "@jupyter-widgets/base",
          "model_name": "LayoutModel",
          "model_module_version": "1.2.0",
          "state": {
            "_model_module": "@jupyter-widgets/base",
            "_model_module_version": "1.2.0",
            "_model_name": "LayoutModel",
            "_view_count": null,
            "_view_module": "@jupyter-widgets/base",
            "_view_module_version": "1.2.0",
            "_view_name": "LayoutView",
            "align_content": null,
            "align_items": null,
            "align_self": null,
            "border": null,
            "bottom": null,
            "display": null,
            "flex": null,
            "flex_flow": null,
            "grid_area": null,
            "grid_auto_columns": null,
            "grid_auto_flow": null,
            "grid_auto_rows": null,
            "grid_column": null,
            "grid_gap": null,
            "grid_row": null,
            "grid_template_areas": null,
            "grid_template_columns": null,
            "grid_template_rows": null,
            "height": null,
            "justify_content": null,
            "justify_items": null,
            "left": null,
            "margin": null,
            "max_height": null,
            "max_width": null,
            "min_height": null,
            "min_width": null,
            "object_fit": null,
            "object_position": null,
            "order": null,
            "overflow": null,
            "overflow_x": null,
            "overflow_y": null,
            "padding": null,
            "right": null,
            "top": null,
            "visibility": null,
            "width": null
          }
        },
        "02e3c73169c4416a8f4f04f69444ab4d": {
          "model_module": "@jupyter-widgets/controls",
          "model_name": "DescriptionStyleModel",
          "model_module_version": "1.5.0",
          "state": {
            "_model_module": "@jupyter-widgets/controls",
            "_model_module_version": "1.5.0",
            "_model_name": "DescriptionStyleModel",
            "_view_count": null,
            "_view_module": "@jupyter-widgets/base",
            "_view_module_version": "1.2.0",
            "_view_name": "StyleView",
            "description_width": ""
          }
        }
      }
    }
  },
  "cells": [
    {
      "cell_type": "markdown",
      "source": [
        "#importing Libraries"
      ],
      "metadata": {
        "id": "Bs-Kh48n22SZ"
      }
    },
    {
      "cell_type": "code",
      "execution_count": 3,
      "metadata": {
        "id": "UfbrctoWrHTq",
        "colab": {
          "base_uri": "https://localhost:8080/"
        },
        "outputId": "50fd8a1f-734c-493c-ffd0-984930bbbeb3"
      },
      "outputs": [
        {
          "output_type": "stream",
          "name": "stdout",
          "text": [
            "Requirement already satisfied: plotly==5.11.0 in /usr/local/lib/python3.10/dist-packages (5.11.0)\n",
            "Requirement already satisfied: tenacity>=6.2.0 in /usr/local/lib/python3.10/dist-packages (from plotly==5.11.0) (8.2.3)\n",
            "Requirement already satisfied: kaleido in /usr/local/lib/python3.10/dist-packages (0.2.1)\n"
          ]
        }
      ],
      "source": [
        "!pip install plotly==5.11.0\n",
        "!pip install -U kaleido\n",
        "\n",
        "import pandas as pd\n",
        "import numpy as np\n",
        "from matplotlib import pyplot as plt\n",
        "import seaborn as sn\n",
        "from sklearn.metrics import classification_report, confusion_matrix, accuracy_score\n",
        "from tqdm.notebook import tqdm\n",
        "\n",
        "\n",
        "import plotly.graph_objects as go\n",
        "import plotly.express as px\n",
        "import numpy as np\n",
        "import pandas as pd\n",
        "from sklearn.linear_model import LogisticRegression\n",
        "from sklearn.metrics import roc_curve, roc_auc_score\n",
        "import pandas as pd\n",
        "import matplotlib.pyplot as plt\n",
        "\n",
        "\n"
      ]
    },
    {
      "cell_type": "markdown",
      "source": [
        "#reading the dataset"
      ],
      "metadata": {
        "id": "kiatD01W2zow"
      }
    },
    {
      "cell_type": "code",
      "source": [
        "\n",
        "df =  pd.read_csv('/content/bank-full.csv', sep = ';')"
      ],
      "metadata": {
        "id": "LKSEsHdvsRa8"
      },
      "execution_count": 4,
      "outputs": []
    },
    {
      "cell_type": "code",
      "source": [
        "df"
      ],
      "metadata": {
        "colab": {
          "base_uri": "https://localhost:8080/",
          "height": 443
        },
        "id": "TmQ8yQVMsRWS",
        "outputId": "4709ccd4-b6f3-47bc-f1a3-5024f5608a06"
      },
      "execution_count": 5,
      "outputs": [
        {
          "output_type": "execute_result",
          "data": {
            "text/plain": [
              "       age           job   marital  education default  balance housing loan  \\\n",
              "0       58    management   married   tertiary      no     2143     yes   no   \n",
              "1       44    technician    single  secondary      no       29     yes   no   \n",
              "2       33  entrepreneur   married  secondary      no        2     yes  yes   \n",
              "3       47   blue-collar   married    unknown      no     1506     yes   no   \n",
              "4       33       unknown    single    unknown      no        1      no   no   \n",
              "...    ...           ...       ...        ...     ...      ...     ...  ...   \n",
              "45206   51    technician   married   tertiary      no      825      no   no   \n",
              "45207   71       retired  divorced    primary      no     1729      no   no   \n",
              "45208   72       retired   married  secondary      no     5715      no   no   \n",
              "45209   57   blue-collar   married  secondary      no      668      no   no   \n",
              "45210   37  entrepreneur   married  secondary      no     2971      no   no   \n",
              "\n",
              "         contact  day month  duration  campaign  pdays  previous poutcome    y  \n",
              "0        unknown    5   may       261         1     -1         0  unknown   no  \n",
              "1        unknown    5   may       151         1     -1         0  unknown   no  \n",
              "2        unknown    5   may        76         1     -1         0  unknown   no  \n",
              "3        unknown    5   may        92         1     -1         0  unknown   no  \n",
              "4        unknown    5   may       198         1     -1         0  unknown   no  \n",
              "...          ...  ...   ...       ...       ...    ...       ...      ...  ...  \n",
              "45206   cellular   17   nov       977         3     -1         0  unknown  yes  \n",
              "45207   cellular   17   nov       456         2     -1         0  unknown  yes  \n",
              "45208   cellular   17   nov      1127         5    184         3  success  yes  \n",
              "45209  telephone   17   nov       508         4     -1         0  unknown   no  \n",
              "45210   cellular   17   nov       361         2    188        11    other   no  \n",
              "\n",
              "[45211 rows x 17 columns]"
            ],
            "text/html": [
              "\n",
              "  <div id=\"df-e6bf1d86-c948-4e99-abff-db06535ef609\" class=\"colab-df-container\">\n",
              "    <div>\n",
              "<style scoped>\n",
              "    .dataframe tbody tr th:only-of-type {\n",
              "        vertical-align: middle;\n",
              "    }\n",
              "\n",
              "    .dataframe tbody tr th {\n",
              "        vertical-align: top;\n",
              "    }\n",
              "\n",
              "    .dataframe thead th {\n",
              "        text-align: right;\n",
              "    }\n",
              "</style>\n",
              "<table border=\"1\" class=\"dataframe\">\n",
              "  <thead>\n",
              "    <tr style=\"text-align: right;\">\n",
              "      <th></th>\n",
              "      <th>age</th>\n",
              "      <th>job</th>\n",
              "      <th>marital</th>\n",
              "      <th>education</th>\n",
              "      <th>default</th>\n",
              "      <th>balance</th>\n",
              "      <th>housing</th>\n",
              "      <th>loan</th>\n",
              "      <th>contact</th>\n",
              "      <th>day</th>\n",
              "      <th>month</th>\n",
              "      <th>duration</th>\n",
              "      <th>campaign</th>\n",
              "      <th>pdays</th>\n",
              "      <th>previous</th>\n",
              "      <th>poutcome</th>\n",
              "      <th>y</th>\n",
              "    </tr>\n",
              "  </thead>\n",
              "  <tbody>\n",
              "    <tr>\n",
              "      <th>0</th>\n",
              "      <td>58</td>\n",
              "      <td>management</td>\n",
              "      <td>married</td>\n",
              "      <td>tertiary</td>\n",
              "      <td>no</td>\n",
              "      <td>2143</td>\n",
              "      <td>yes</td>\n",
              "      <td>no</td>\n",
              "      <td>unknown</td>\n",
              "      <td>5</td>\n",
              "      <td>may</td>\n",
              "      <td>261</td>\n",
              "      <td>1</td>\n",
              "      <td>-1</td>\n",
              "      <td>0</td>\n",
              "      <td>unknown</td>\n",
              "      <td>no</td>\n",
              "    </tr>\n",
              "    <tr>\n",
              "      <th>1</th>\n",
              "      <td>44</td>\n",
              "      <td>technician</td>\n",
              "      <td>single</td>\n",
              "      <td>secondary</td>\n",
              "      <td>no</td>\n",
              "      <td>29</td>\n",
              "      <td>yes</td>\n",
              "      <td>no</td>\n",
              "      <td>unknown</td>\n",
              "      <td>5</td>\n",
              "      <td>may</td>\n",
              "      <td>151</td>\n",
              "      <td>1</td>\n",
              "      <td>-1</td>\n",
              "      <td>0</td>\n",
              "      <td>unknown</td>\n",
              "      <td>no</td>\n",
              "    </tr>\n",
              "    <tr>\n",
              "      <th>2</th>\n",
              "      <td>33</td>\n",
              "      <td>entrepreneur</td>\n",
              "      <td>married</td>\n",
              "      <td>secondary</td>\n",
              "      <td>no</td>\n",
              "      <td>2</td>\n",
              "      <td>yes</td>\n",
              "      <td>yes</td>\n",
              "      <td>unknown</td>\n",
              "      <td>5</td>\n",
              "      <td>may</td>\n",
              "      <td>76</td>\n",
              "      <td>1</td>\n",
              "      <td>-1</td>\n",
              "      <td>0</td>\n",
              "      <td>unknown</td>\n",
              "      <td>no</td>\n",
              "    </tr>\n",
              "    <tr>\n",
              "      <th>3</th>\n",
              "      <td>47</td>\n",
              "      <td>blue-collar</td>\n",
              "      <td>married</td>\n",
              "      <td>unknown</td>\n",
              "      <td>no</td>\n",
              "      <td>1506</td>\n",
              "      <td>yes</td>\n",
              "      <td>no</td>\n",
              "      <td>unknown</td>\n",
              "      <td>5</td>\n",
              "      <td>may</td>\n",
              "      <td>92</td>\n",
              "      <td>1</td>\n",
              "      <td>-1</td>\n",
              "      <td>0</td>\n",
              "      <td>unknown</td>\n",
              "      <td>no</td>\n",
              "    </tr>\n",
              "    <tr>\n",
              "      <th>4</th>\n",
              "      <td>33</td>\n",
              "      <td>unknown</td>\n",
              "      <td>single</td>\n",
              "      <td>unknown</td>\n",
              "      <td>no</td>\n",
              "      <td>1</td>\n",
              "      <td>no</td>\n",
              "      <td>no</td>\n",
              "      <td>unknown</td>\n",
              "      <td>5</td>\n",
              "      <td>may</td>\n",
              "      <td>198</td>\n",
              "      <td>1</td>\n",
              "      <td>-1</td>\n",
              "      <td>0</td>\n",
              "      <td>unknown</td>\n",
              "      <td>no</td>\n",
              "    </tr>\n",
              "    <tr>\n",
              "      <th>...</th>\n",
              "      <td>...</td>\n",
              "      <td>...</td>\n",
              "      <td>...</td>\n",
              "      <td>...</td>\n",
              "      <td>...</td>\n",
              "      <td>...</td>\n",
              "      <td>...</td>\n",
              "      <td>...</td>\n",
              "      <td>...</td>\n",
              "      <td>...</td>\n",
              "      <td>...</td>\n",
              "      <td>...</td>\n",
              "      <td>...</td>\n",
              "      <td>...</td>\n",
              "      <td>...</td>\n",
              "      <td>...</td>\n",
              "      <td>...</td>\n",
              "    </tr>\n",
              "    <tr>\n",
              "      <th>45206</th>\n",
              "      <td>51</td>\n",
              "      <td>technician</td>\n",
              "      <td>married</td>\n",
              "      <td>tertiary</td>\n",
              "      <td>no</td>\n",
              "      <td>825</td>\n",
              "      <td>no</td>\n",
              "      <td>no</td>\n",
              "      <td>cellular</td>\n",
              "      <td>17</td>\n",
              "      <td>nov</td>\n",
              "      <td>977</td>\n",
              "      <td>3</td>\n",
              "      <td>-1</td>\n",
              "      <td>0</td>\n",
              "      <td>unknown</td>\n",
              "      <td>yes</td>\n",
              "    </tr>\n",
              "    <tr>\n",
              "      <th>45207</th>\n",
              "      <td>71</td>\n",
              "      <td>retired</td>\n",
              "      <td>divorced</td>\n",
              "      <td>primary</td>\n",
              "      <td>no</td>\n",
              "      <td>1729</td>\n",
              "      <td>no</td>\n",
              "      <td>no</td>\n",
              "      <td>cellular</td>\n",
              "      <td>17</td>\n",
              "      <td>nov</td>\n",
              "      <td>456</td>\n",
              "      <td>2</td>\n",
              "      <td>-1</td>\n",
              "      <td>0</td>\n",
              "      <td>unknown</td>\n",
              "      <td>yes</td>\n",
              "    </tr>\n",
              "    <tr>\n",
              "      <th>45208</th>\n",
              "      <td>72</td>\n",
              "      <td>retired</td>\n",
              "      <td>married</td>\n",
              "      <td>secondary</td>\n",
              "      <td>no</td>\n",
              "      <td>5715</td>\n",
              "      <td>no</td>\n",
              "      <td>no</td>\n",
              "      <td>cellular</td>\n",
              "      <td>17</td>\n",
              "      <td>nov</td>\n",
              "      <td>1127</td>\n",
              "      <td>5</td>\n",
              "      <td>184</td>\n",
              "      <td>3</td>\n",
              "      <td>success</td>\n",
              "      <td>yes</td>\n",
              "    </tr>\n",
              "    <tr>\n",
              "      <th>45209</th>\n",
              "      <td>57</td>\n",
              "      <td>blue-collar</td>\n",
              "      <td>married</td>\n",
              "      <td>secondary</td>\n",
              "      <td>no</td>\n",
              "      <td>668</td>\n",
              "      <td>no</td>\n",
              "      <td>no</td>\n",
              "      <td>telephone</td>\n",
              "      <td>17</td>\n",
              "      <td>nov</td>\n",
              "      <td>508</td>\n",
              "      <td>4</td>\n",
              "      <td>-1</td>\n",
              "      <td>0</td>\n",
              "      <td>unknown</td>\n",
              "      <td>no</td>\n",
              "    </tr>\n",
              "    <tr>\n",
              "      <th>45210</th>\n",
              "      <td>37</td>\n",
              "      <td>entrepreneur</td>\n",
              "      <td>married</td>\n",
              "      <td>secondary</td>\n",
              "      <td>no</td>\n",
              "      <td>2971</td>\n",
              "      <td>no</td>\n",
              "      <td>no</td>\n",
              "      <td>cellular</td>\n",
              "      <td>17</td>\n",
              "      <td>nov</td>\n",
              "      <td>361</td>\n",
              "      <td>2</td>\n",
              "      <td>188</td>\n",
              "      <td>11</td>\n",
              "      <td>other</td>\n",
              "      <td>no</td>\n",
              "    </tr>\n",
              "  </tbody>\n",
              "</table>\n",
              "<p>45211 rows × 17 columns</p>\n",
              "</div>\n",
              "    <div class=\"colab-df-buttons\">\n",
              "\n",
              "  <div class=\"colab-df-container\">\n",
              "    <button class=\"colab-df-convert\" onclick=\"convertToInteractive('df-e6bf1d86-c948-4e99-abff-db06535ef609')\"\n",
              "            title=\"Convert this dataframe to an interactive table.\"\n",
              "            style=\"display:none;\">\n",
              "\n",
              "  <svg xmlns=\"http://www.w3.org/2000/svg\" height=\"24px\" viewBox=\"0 -960 960 960\">\n",
              "    <path d=\"M120-120v-720h720v720H120Zm60-500h600v-160H180v160Zm220 220h160v-160H400v160Zm0 220h160v-160H400v160ZM180-400h160v-160H180v160Zm440 0h160v-160H620v160ZM180-180h160v-160H180v160Zm440 0h160v-160H620v160Z\"/>\n",
              "  </svg>\n",
              "    </button>\n",
              "\n",
              "  <style>\n",
              "    .colab-df-container {\n",
              "      display:flex;\n",
              "      gap: 12px;\n",
              "    }\n",
              "\n",
              "    .colab-df-convert {\n",
              "      background-color: #E8F0FE;\n",
              "      border: none;\n",
              "      border-radius: 50%;\n",
              "      cursor: pointer;\n",
              "      display: none;\n",
              "      fill: #1967D2;\n",
              "      height: 32px;\n",
              "      padding: 0 0 0 0;\n",
              "      width: 32px;\n",
              "    }\n",
              "\n",
              "    .colab-df-convert:hover {\n",
              "      background-color: #E2EBFA;\n",
              "      box-shadow: 0px 1px 2px rgba(60, 64, 67, 0.3), 0px 1px 3px 1px rgba(60, 64, 67, 0.15);\n",
              "      fill: #174EA6;\n",
              "    }\n",
              "\n",
              "    .colab-df-buttons div {\n",
              "      margin-bottom: 4px;\n",
              "    }\n",
              "\n",
              "    [theme=dark] .colab-df-convert {\n",
              "      background-color: #3B4455;\n",
              "      fill: #D2E3FC;\n",
              "    }\n",
              "\n",
              "    [theme=dark] .colab-df-convert:hover {\n",
              "      background-color: #434B5C;\n",
              "      box-shadow: 0px 1px 3px 1px rgba(0, 0, 0, 0.15);\n",
              "      filter: drop-shadow(0px 1px 2px rgba(0, 0, 0, 0.3));\n",
              "      fill: #FFFFFF;\n",
              "    }\n",
              "  </style>\n",
              "\n",
              "    <script>\n",
              "      const buttonEl =\n",
              "        document.querySelector('#df-e6bf1d86-c948-4e99-abff-db06535ef609 button.colab-df-convert');\n",
              "      buttonEl.style.display =\n",
              "        google.colab.kernel.accessAllowed ? 'block' : 'none';\n",
              "\n",
              "      async function convertToInteractive(key) {\n",
              "        const element = document.querySelector('#df-e6bf1d86-c948-4e99-abff-db06535ef609');\n",
              "        const dataTable =\n",
              "          await google.colab.kernel.invokeFunction('convertToInteractive',\n",
              "                                                    [key], {});\n",
              "        if (!dataTable) return;\n",
              "\n",
              "        const docLinkHtml = 'Like what you see? Visit the ' +\n",
              "          '<a target=\"_blank\" href=https://colab.research.google.com/notebooks/data_table.ipynb>data table notebook</a>'\n",
              "          + ' to learn more about interactive tables.';\n",
              "        element.innerHTML = '';\n",
              "        dataTable['output_type'] = 'display_data';\n",
              "        await google.colab.output.renderOutput(dataTable, element);\n",
              "        const docLink = document.createElement('div');\n",
              "        docLink.innerHTML = docLinkHtml;\n",
              "        element.appendChild(docLink);\n",
              "      }\n",
              "    </script>\n",
              "  </div>\n",
              "\n",
              "\n",
              "<div id=\"df-5a5ae8ad-0703-43a9-acab-576ff73e361f\">\n",
              "  <button class=\"colab-df-quickchart\" onclick=\"quickchart('df-5a5ae8ad-0703-43a9-acab-576ff73e361f')\"\n",
              "            title=\"Suggest charts.\"\n",
              "            style=\"display:none;\">\n",
              "\n",
              "<svg xmlns=\"http://www.w3.org/2000/svg\" height=\"24px\"viewBox=\"0 0 24 24\"\n",
              "     width=\"24px\">\n",
              "    <g>\n",
              "        <path d=\"M19 3H5c-1.1 0-2 .9-2 2v14c0 1.1.9 2 2 2h14c1.1 0 2-.9 2-2V5c0-1.1-.9-2-2-2zM9 17H7v-7h2v7zm4 0h-2V7h2v10zm4 0h-2v-4h2v4z\"/>\n",
              "    </g>\n",
              "</svg>\n",
              "  </button>\n",
              "\n",
              "<style>\n",
              "  .colab-df-quickchart {\n",
              "      --bg-color: #E8F0FE;\n",
              "      --fill-color: #1967D2;\n",
              "      --hover-bg-color: #E2EBFA;\n",
              "      --hover-fill-color: #174EA6;\n",
              "      --disabled-fill-color: #AAA;\n",
              "      --disabled-bg-color: #DDD;\n",
              "  }\n",
              "\n",
              "  [theme=dark] .colab-df-quickchart {\n",
              "      --bg-color: #3B4455;\n",
              "      --fill-color: #D2E3FC;\n",
              "      --hover-bg-color: #434B5C;\n",
              "      --hover-fill-color: #FFFFFF;\n",
              "      --disabled-bg-color: #3B4455;\n",
              "      --disabled-fill-color: #666;\n",
              "  }\n",
              "\n",
              "  .colab-df-quickchart {\n",
              "    background-color: var(--bg-color);\n",
              "    border: none;\n",
              "    border-radius: 50%;\n",
              "    cursor: pointer;\n",
              "    display: none;\n",
              "    fill: var(--fill-color);\n",
              "    height: 32px;\n",
              "    padding: 0;\n",
              "    width: 32px;\n",
              "  }\n",
              "\n",
              "  .colab-df-quickchart:hover {\n",
              "    background-color: var(--hover-bg-color);\n",
              "    box-shadow: 0 1px 2px rgba(60, 64, 67, 0.3), 0 1px 3px 1px rgba(60, 64, 67, 0.15);\n",
              "    fill: var(--button-hover-fill-color);\n",
              "  }\n",
              "\n",
              "  .colab-df-quickchart-complete:disabled,\n",
              "  .colab-df-quickchart-complete:disabled:hover {\n",
              "    background-color: var(--disabled-bg-color);\n",
              "    fill: var(--disabled-fill-color);\n",
              "    box-shadow: none;\n",
              "  }\n",
              "\n",
              "  .colab-df-spinner {\n",
              "    border: 2px solid var(--fill-color);\n",
              "    border-color: transparent;\n",
              "    border-bottom-color: var(--fill-color);\n",
              "    animation:\n",
              "      spin 1s steps(1) infinite;\n",
              "  }\n",
              "\n",
              "  @keyframes spin {\n",
              "    0% {\n",
              "      border-color: transparent;\n",
              "      border-bottom-color: var(--fill-color);\n",
              "      border-left-color: var(--fill-color);\n",
              "    }\n",
              "    20% {\n",
              "      border-color: transparent;\n",
              "      border-left-color: var(--fill-color);\n",
              "      border-top-color: var(--fill-color);\n",
              "    }\n",
              "    30% {\n",
              "      border-color: transparent;\n",
              "      border-left-color: var(--fill-color);\n",
              "      border-top-color: var(--fill-color);\n",
              "      border-right-color: var(--fill-color);\n",
              "    }\n",
              "    40% {\n",
              "      border-color: transparent;\n",
              "      border-right-color: var(--fill-color);\n",
              "      border-top-color: var(--fill-color);\n",
              "    }\n",
              "    60% {\n",
              "      border-color: transparent;\n",
              "      border-right-color: var(--fill-color);\n",
              "    }\n",
              "    80% {\n",
              "      border-color: transparent;\n",
              "      border-right-color: var(--fill-color);\n",
              "      border-bottom-color: var(--fill-color);\n",
              "    }\n",
              "    90% {\n",
              "      border-color: transparent;\n",
              "      border-bottom-color: var(--fill-color);\n",
              "    }\n",
              "  }\n",
              "</style>\n",
              "\n",
              "  <script>\n",
              "    async function quickchart(key) {\n",
              "      const quickchartButtonEl =\n",
              "        document.querySelector('#' + key + ' button');\n",
              "      quickchartButtonEl.disabled = true;  // To prevent multiple clicks.\n",
              "      quickchartButtonEl.classList.add('colab-df-spinner');\n",
              "      try {\n",
              "        const charts = await google.colab.kernel.invokeFunction(\n",
              "            'suggestCharts', [key], {});\n",
              "      } catch (error) {\n",
              "        console.error('Error during call to suggestCharts:', error);\n",
              "      }\n",
              "      quickchartButtonEl.classList.remove('colab-df-spinner');\n",
              "      quickchartButtonEl.classList.add('colab-df-quickchart-complete');\n",
              "    }\n",
              "    (() => {\n",
              "      let quickchartButtonEl =\n",
              "        document.querySelector('#df-5a5ae8ad-0703-43a9-acab-576ff73e361f button');\n",
              "      quickchartButtonEl.style.display =\n",
              "        google.colab.kernel.accessAllowed ? 'block' : 'none';\n",
              "    })();\n",
              "  </script>\n",
              "</div>\n",
              "    </div>\n",
              "  </div>\n"
            ]
          },
          "metadata": {},
          "execution_count": 5
        }
      ]
    },
    {
      "cell_type": "markdown",
      "source": [
        "#dataset information"
      ],
      "metadata": {
        "id": "WOxkUpyt2x8L"
      }
    },
    {
      "cell_type": "code",
      "source": [
        "\n",
        "df.info()"
      ],
      "metadata": {
        "id": "QTguqYahw3Tq",
        "colab": {
          "base_uri": "https://localhost:8080/"
        },
        "outputId": "09aba63a-d6b8-43f6-d640-334b02984388"
      },
      "execution_count": 6,
      "outputs": [
        {
          "output_type": "stream",
          "name": "stdout",
          "text": [
            "<class 'pandas.core.frame.DataFrame'>\n",
            "RangeIndex: 45211 entries, 0 to 45210\n",
            "Data columns (total 17 columns):\n",
            " #   Column     Non-Null Count  Dtype \n",
            "---  ------     --------------  ----- \n",
            " 0   age        45211 non-null  int64 \n",
            " 1   job        45211 non-null  object\n",
            " 2   marital    45211 non-null  object\n",
            " 3   education  45211 non-null  object\n",
            " 4   default    45211 non-null  object\n",
            " 5   balance    45211 non-null  int64 \n",
            " 6   housing    45211 non-null  object\n",
            " 7   loan       45211 non-null  object\n",
            " 8   contact    45211 non-null  object\n",
            " 9   day        45211 non-null  int64 \n",
            " 10  month      45211 non-null  object\n",
            " 11  duration   45211 non-null  int64 \n",
            " 12  campaign   45211 non-null  int64 \n",
            " 13  pdays      45211 non-null  int64 \n",
            " 14  previous   45211 non-null  int64 \n",
            " 15  poutcome   45211 non-null  object\n",
            " 16  y          45211 non-null  object\n",
            "dtypes: int64(7), object(10)\n",
            "memory usage: 5.9+ MB\n"
          ]
        }
      ]
    },
    {
      "cell_type": "markdown",
      "source": [
        "#shape of dataset"
      ],
      "metadata": {
        "id": "iPoHAaIZ2vT8"
      }
    },
    {
      "cell_type": "code",
      "source": [
        "\n",
        "df.shape"
      ],
      "metadata": {
        "colab": {
          "base_uri": "https://localhost:8080/"
        },
        "id": "3bSdYj9culPF",
        "outputId": "b423dbc3-9030-4176-e30e-48e467bbabb5"
      },
      "execution_count": 7,
      "outputs": [
        {
          "output_type": "execute_result",
          "data": {
            "text/plain": [
              "(45211, 17)"
            ]
          },
          "metadata": {},
          "execution_count": 7
        }
      ]
    },
    {
      "cell_type": "markdown",
      "source": [
        "#Checking Null values for each columns"
      ],
      "metadata": {
        "id": "Q1bvM0K72tEc"
      }
    },
    {
      "cell_type": "code",
      "source": [
        "\n",
        "df.isnull().sum()"
      ],
      "metadata": {
        "colab": {
          "base_uri": "https://localhost:8080/"
        },
        "id": "VmC1-d7_u4JO",
        "outputId": "04d0c190-99f8-4804-a56c-923f0c0ad15b"
      },
      "execution_count": 8,
      "outputs": [
        {
          "output_type": "execute_result",
          "data": {
            "text/plain": [
              "age          0\n",
              "job          0\n",
              "marital      0\n",
              "education    0\n",
              "default      0\n",
              "balance      0\n",
              "housing      0\n",
              "loan         0\n",
              "contact      0\n",
              "day          0\n",
              "month        0\n",
              "duration     0\n",
              "campaign     0\n",
              "pdays        0\n",
              "previous     0\n",
              "poutcome     0\n",
              "y            0\n",
              "dtype: int64"
            ]
          },
          "metadata": {},
          "execution_count": 8
        }
      ]
    },
    {
      "cell_type": "markdown",
      "source": [
        "#Visualize the distribution of the target variable"
      ],
      "metadata": {
        "id": "-YDpQozJ2rTP"
      }
    },
    {
      "cell_type": "code",
      "source": [
        "df[\"y\"].value_counts()"
      ],
      "metadata": {
        "colab": {
          "base_uri": "https://localhost:8080/"
        },
        "id": "ZiwkKGNawNcf",
        "outputId": "7270d1d8-b638-4ac3-effd-cdccab5936ae"
      },
      "execution_count": 9,
      "outputs": [
        {
          "output_type": "execute_result",
          "data": {
            "text/plain": [
              "no     39922\n",
              "yes     5289\n",
              "Name: y, dtype: int64"
            ]
          },
          "metadata": {},
          "execution_count": 9
        }
      ]
    },
    {
      "cell_type": "code",
      "source": [
        "\n",
        "no = [\"no\",\"yes\"]\n",
        "yes = [39922,5289]\n",
        "fig = plt.figure(figsize =(10, 7))\n",
        "plt.bar(no, yes)\n",
        "plt.show()"
      ],
      "metadata": {
        "colab": {
          "base_uri": "https://localhost:8080/",
          "height": 599
        },
        "id": "0iwQRayovCDP",
        "outputId": "35aba78a-be77-4b8c-c3a1-2df8c71f914d"
      },
      "execution_count": 10,
      "outputs": [
        {
          "output_type": "display_data",
          "data": {
            "text/plain": [
              "<Figure size 1000x700 with 1 Axes>"
            ],
            "image/png": "[encoded data removed]"
          },
          "metadata": {}
        }
      ]
    },
    {
      "cell_type": "markdown",
      "source": [
        "#one hot encoding"
      ],
      "metadata": {
        "id": "e7rnpUK_2pFO"
      }
    },
    {
      "cell_type": "code",
      "source": [
        "#Checking data types\n",
        "df.dtypes"
      ],
      "metadata": {
        "colab": {
          "base_uri": "https://localhost:8080/"
        },
        "id": "xz8PiPUq0Bit",
        "outputId": "e6594cf4-f8be-4160-e2f5-b267a90872d1"
      },
      "execution_count": 11,
      "outputs": [
        {
          "output_type": "execute_result",
          "data": {
            "text/plain": [
              "age           int64\n",
              "job          object\n",
              "marital      object\n",
              "education    object\n",
              "default      object\n",
              "balance       int64\n",
              "housing      object\n",
              "loan         object\n",
              "contact      object\n",
              "day           int64\n",
              "month        object\n",
              "duration      int64\n",
              "campaign      int64\n",
              "pdays         int64\n",
              "previous      int64\n",
              "poutcome     object\n",
              "y            object\n",
              "dtype: object"
            ]
          },
          "metadata": {},
          "execution_count": 11
        }
      ]
    },
    {
      "cell_type": "code",
      "source": [
        "#Automated encoding which column data type is object or cetagorial excepting our target column\n",
        "\n",
        "for col in df.columns:\n",
        "  if col!='y' and str(df[col].dtypes)==\"object\":\n",
        "    dummies = pd.get_dummies(df[col])\n",
        "    df = pd.concat([df,dummies],axis='columns').drop([col], axis='columns')"
      ],
      "metadata": {
        "id": "En_scaKn51wY"
      },
      "execution_count": 12,
      "outputs": []
    },
    {
      "cell_type": "code",
      "source": [
        "df.shape"
      ],
      "metadata": {
        "colab": {
          "base_uri": "https://localhost:8080/"
        },
        "id": "zcnYRygo7vIC",
        "outputId": "d363cc92-15c3-4d72-f135-451194db4090"
      },
      "execution_count": 13,
      "outputs": [
        {
          "output_type": "execute_result",
          "data": {
            "text/plain": [
              "(45211, 52)"
            ]
          },
          "metadata": {},
          "execution_count": 13
        }
      ]
    },
    {
      "cell_type": "code",
      "source": [
        "df"
      ],
      "metadata": {
        "colab": {
          "base_uri": "https://localhost:8080/",
          "height": 461
        },
        "id": "mQ0WTfT-7wrf",
        "outputId": "476f2fe0-f03a-451a-942c-c23c25911be0"
      },
      "execution_count": 14,
      "outputs": [
        {
          "output_type": "execute_result",
          "data": {
            "text/plain": [
              "       age  balance  day  duration  campaign  pdays  previous    y  admin.  \\\n",
              "0       58     2143    5       261         1     -1         0   no       0   \n",
              "1       44       29    5       151         1     -1         0   no       0   \n",
              "2       33        2    5        76         1     -1         0   no       0   \n",
              "3       47     1506    5        92         1     -1         0   no       0   \n",
              "4       33        1    5       198         1     -1         0   no       0   \n",
              "...    ...      ...  ...       ...       ...    ...       ...  ...     ...   \n",
              "45206   51      825   17       977         3     -1         0  yes       0   \n",
              "45207   71     1729   17       456         2     -1         0  yes       0   \n",
              "45208   72     5715   17      1127         5    184         3  yes       0   \n",
              "45209   57      668   17       508         4     -1         0   no       0   \n",
              "45210   37     2971   17       361         2    188        11   no       0   \n",
              "\n",
              "       blue-collar  ...  jun  mar  may  nov  oct  sep  failure  other  \\\n",
              "0                0  ...    0    0    1    0    0    0        0      0   \n",
              "1                0  ...    0    0    1    0    0    0        0      0   \n",
              "2                0  ...    0    0    1    0    0    0        0      0   \n",
              "3                1  ...    0    0    1    0    0    0        0      0   \n",
              "4                0  ...    0    0    1    0    0    0        0      0   \n",
              "...            ...  ...  ...  ...  ...  ...  ...  ...      ...    ...   \n",
              "45206            0  ...    0    0    0    1    0    0        0      0   \n",
              "45207            0  ...    0    0    0    1    0    0        0      0   \n",
              "45208            0  ...    0    0    0    1    0    0        0      0   \n",
              "45209            1  ...    0    0    0    1    0    0        0      0   \n",
              "45210            0  ...    0    0    0    1    0    0        0      1   \n",
              "\n",
              "       success  unknown  \n",
              "0            0        1  \n",
              "1            0        1  \n",
              "2            0        1  \n",
              "3            0        1  \n",
              "4            0        1  \n",
              "...        ...      ...  \n",
              "45206        0        1  \n",
              "45207        0        1  \n",
              "45208        1        0  \n",
              "45209        0        1  \n",
              "45210        0        0  \n",
              "\n",
              "[45211 rows x 52 columns]"
            ],
            "text/html": [
              "\n",
              "  <div id=\"df-9068bb54-7567-467a-bc1e-bdd8113c169d\" class=\"colab-df-container\">\n",
              "    <div>\n",
              "<style scoped>\n",
              "    .dataframe tbody tr th:only-of-type {\n",
              "        vertical-align: middle;\n",
              "    }\n",
              "\n",
              "    .dataframe tbody tr th {\n",
              "        vertical-align: top;\n",
              "    }\n",
              "\n",
              "    .dataframe thead th {\n",
              "        text-align: right;\n",
              "    }\n",
              "</style>\n",
              "<table border=\"1\" class=\"dataframe\">\n",
              "  <thead>\n",
              "    <tr style=\"text-align: right;\">\n",
              "      <th></th>\n",
              "      <th>age</th>\n",
              "      <th>balance</th>\n",
              "      <th>day</th>\n",
              "      <th>duration</th>\n",
              "      <th>campaign</th>\n",
              "      <th>pdays</th>\n",
              "      <th>previous</th>\n",
              "      <th>y</th>\n",
              "      <th>admin.</th>\n",
              "      <th>blue-collar</th>\n",
              "      <th>...</th>\n",
              "      <th>jun</th>\n",
              "      <th>mar</th>\n",
              "      <th>may</th>\n",
              "      <th>nov</th>\n",
              "      <th>oct</th>\n",
              "      <th>sep</th>\n",
              "      <th>failure</th>\n",
              "      <th>other</th>\n",
              "      <th>success</th>\n",
              "      <th>unknown</th>\n",
              "    </tr>\n",
              "  </thead>\n",
              "  <tbody>\n",
              "    <tr>\n",
              "      <th>0</th>\n",
              "      <td>58</td>\n",
              "      <td>2143</td>\n",
              "      <td>5</td>\n",
              "      <td>261</td>\n",
              "      <td>1</td>\n",
              "      <td>-1</td>\n",
              "      <td>0</td>\n",
              "      <td>no</td>\n",
              "      <td>0</td>\n",
              "      <td>0</td>\n",
              "      <td>...</td>\n",
              "      <td>0</td>\n",
              "      <td>0</td>\n",
              "      <td>1</td>\n",
              "      <td>0</td>\n",
              "      <td>0</td>\n",
              "      <td>0</td>\n",
              "      <td>0</td>\n",
              "      <td>0</td>\n",
              "      <td>0</td>\n",
              "      <td>1</td>\n",
              "    </tr>\n",
              "    <tr>\n",
              "      <th>1</th>\n",
              "      <td>44</td>\n",
              "      <td>29</td>\n",
              "      <td>5</td>\n",
              "      <td>151</td>\n",
              "      <td>1</td>\n",
              "      <td>-1</td>\n",
              "      <td>0</td>\n",
              "      <td>no</td>\n",
              "      <td>0</td>\n",
              "      <td>0</td>\n",
              "      <td>...</td>\n",
              "      <td>0</td>\n",
              "      <td>0</td>\n",
              "      <td>1</td>\n",
              "      <td>0</td>\n",
              "      <td>0</td>\n",
              "      <td>0</td>\n",
              "      <td>0</td>\n",
              "      <td>0</td>\n",
              "      <td>0</td>\n",
              "      <td>1</td>\n",
              "    </tr>\n",
              "    <tr>\n",
              "      <th>2</th>\n",
              "      <td>33</td>\n",
              "      <td>2</td>\n",
              "      <td>5</td>\n",
              "      <td>76</td>\n",
              "      <td>1</td>\n",
              "      <td>-1</td>\n",
              "      <td>0</td>\n",
              "      <td>no</td>\n",
              "      <td>0</td>\n",
              "      <td>0</td>\n",
              "      <td>...</td>\n",
              "      <td>0</td>\n",
              "      <td>0</td>\n",
              "      <td>1</td>\n",
              "      <td>0</td>\n",
              "      <td>0</td>\n",
              "      <td>0</td>\n",
              "      <td>0</td>\n",
              "      <td>0</td>\n",
              "      <td>0</td>\n",
              "      <td>1</td>\n",
              "    </tr>\n",
              "    <tr>\n",
              "      <th>3</th>\n",
              "      <td>47</td>\n",
              "      <td>1506</td>\n",
              "      <td>5</td>\n",
              "      <td>92</td>\n",
              "      <td>1</td>\n",
              "      <td>-1</td>\n",
              "      <td>0</td>\n",
              "      <td>no</td>\n",
              "      <td>0</td>\n",
              "      <td>1</td>\n",
              "      <td>...</td>\n",
              "      <td>0</td>\n",
              "      <td>0</td>\n",
              "      <td>1</td>\n",
              "      <td>0</td>\n",
              "      <td>0</td>\n",
              "      <td>0</td>\n",
              "      <td>0</td>\n",
              "      <td>0</td>\n",
              "      <td>0</td>\n",
              "      <td>1</td>\n",
              "    </tr>\n",
              "    <tr>\n",
              "      <th>4</th>\n",
              "      <td>33</td>\n",
              "      <td>1</td>\n",
              "      <td>5</td>\n",
              "      <td>198</td>\n",
              "      <td>1</td>\n",
              "      <td>-1</td>\n",
              "      <td>0</td>\n",
              "      <td>no</td>\n",
              "      <td>0</td>\n",
              "      <td>0</td>\n",
              "      <td>...</td>\n",
              "      <td>0</td>\n",
              "      <td>0</td>\n",
              "      <td>1</td>\n",
              "      <td>0</td>\n",
              "      <td>0</td>\n",
              "      <td>0</td>\n",
              "      <td>0</td>\n",
              "      <td>0</td>\n",
              "      <td>0</td>\n",
              "      <td>1</td>\n",
              "    </tr>\n",
              "    <tr>\n",
              "      <th>...</th>\n",
              "      <td>...</td>\n",
              "      <td>...</td>\n",
              "      <td>...</td>\n",
              "      <td>...</td>\n",
              "      <td>...</td>\n",
              "      <td>...</td>\n",
              "      <td>...</td>\n",
              "      <td>...</td>\n",
              "      <td>...</td>\n",
              "      <td>...</td>\n",
              "      <td>...</td>\n",
              "      <td>...</td>\n",
              "      <td>...</td>\n",
              "      <td>...</td>\n",
              "      <td>...</td>\n",
              "      <td>...</td>\n",
              "      <td>...</td>\n",
              "      <td>...</td>\n",
              "      <td>...</td>\n",
              "      <td>...</td>\n",
              "      <td>...</td>\n",
              "    </tr>\n",
              "    <tr>\n",
              "      <th>45206</th>\n",
              "      <td>51</td>\n",
              "      <td>825</td>\n",
              "      <td>17</td>\n",
              "      <td>977</td>\n",
              "      <td>3</td>\n",
              "      <td>-1</td>\n",
              "      <td>0</td>\n",
              "      <td>yes</td>\n",
              "      <td>0</td>\n",
              "      <td>0</td>\n",
              "      <td>...</td>\n",
              "      <td>0</td>\n",
              "      <td>0</td>\n",
              "      <td>0</td>\n",
              "      <td>1</td>\n",
              "      <td>0</td>\n",
              "      <td>0</td>\n",
              "      <td>0</td>\n",
              "      <td>0</td>\n",
              "      <td>0</td>\n",
              "      <td>1</td>\n",
              "    </tr>\n",
              "    <tr>\n",
              "      <th>45207</th>\n",
              "      <td>71</td>\n",
              "      <td>1729</td>\n",
              "      <td>17</td>\n",
              "      <td>456</td>\n",
              "      <td>2</td>\n",
              "      <td>-1</td>\n",
              "      <td>0</td>\n",
              "      <td>yes</td>\n",
              "      <td>0</td>\n",
              "      <td>0</td>\n",
              "      <td>...</td>\n",
              "      <td>0</td>\n",
              "      <td>0</td>\n",
              "      <td>0</td>\n",
              "      <td>1</td>\n",
              "      <td>0</td>\n",
              "      <td>0</td>\n",
              "      <td>0</td>\n",
              "      <td>0</td>\n",
              "      <td>0</td>\n",
              "      <td>1</td>\n",
              "    </tr>\n",
              "    <tr>\n",
              "      <th>45208</th>\n",
              "      <td>72</td>\n",
              "      <td>5715</td>\n",
              "      <td>17</td>\n",
              "      <td>1127</td>\n",
              "      <td>5</td>\n",
              "      <td>184</td>\n",
              "      <td>3</td>\n",
              "      <td>yes</td>\n",
              "      <td>0</td>\n",
              "      <td>0</td>\n",
              "      <td>...</td>\n",
              "      <td>0</td>\n",
              "      <td>0</td>\n",
              "      <td>0</td>\n",
              "      <td>1</td>\n",
              "      <td>0</td>\n",
              "      <td>0</td>\n",
              "      <td>0</td>\n",
              "      <td>0</td>\n",
              "      <td>1</td>\n",
              "      <td>0</td>\n",
              "    </tr>\n",
              "    <tr>\n",
              "      <th>45209</th>\n",
              "      <td>57</td>\n",
              "      <td>668</td>\n",
              "      <td>17</td>\n",
              "      <td>508</td>\n",
              "      <td>4</td>\n",
              "      <td>-1</td>\n",
              "      <td>0</td>\n",
              "      <td>no</td>\n",
              "      <td>0</td>\n",
              "      <td>1</td>\n",
              "      <td>...</td>\n",
              "      <td>0</td>\n",
              "      <td>0</td>\n",
              "      <td>0</td>\n",
              "      <td>1</td>\n",
              "      <td>0</td>\n",
              "      <td>0</td>\n",
              "      <td>0</td>\n",
              "      <td>0</td>\n",
              "      <td>0</td>\n",
              "      <td>1</td>\n",
              "    </tr>\n",
              "    <tr>\n",
              "      <th>45210</th>\n",
              "      <td>37</td>\n",
              "      <td>2971</td>\n",
              "      <td>17</td>\n",
              "      <td>361</td>\n",
              "      <td>2</td>\n",
              "      <td>188</td>\n",
              "      <td>11</td>\n",
              "      <td>no</td>\n",
              "      <td>0</td>\n",
              "      <td>0</td>\n",
              "      <td>...</td>\n",
              "      <td>0</td>\n",
              "      <td>0</td>\n",
              "      <td>0</td>\n",
              "      <td>1</td>\n",
              "      <td>0</td>\n",
              "      <td>0</td>\n",
              "      <td>0</td>\n",
              "      <td>1</td>\n",
              "      <td>0</td>\n",
              "      <td>0</td>\n",
              "    </tr>\n",
              "  </tbody>\n",
              "</table>\n",
              "<p>45211 rows × 52 columns</p>\n",
              "</div>\n",
              "    <div class=\"colab-df-buttons\">\n",
              "\n",
              "  <div class=\"colab-df-container\">\n",
              "    <button class=\"colab-df-convert\" onclick=\"convertToInteractive('df-9068bb54-7567-467a-bc1e-bdd8113c169d')\"\n",
              "            title=\"Convert this dataframe to an interactive table.\"\n",
              "            style=\"display:none;\">\n",
              "\n",
              "  <svg xmlns=\"http://www.w3.org/2000/svg\" height=\"24px\" viewBox=\"0 -960 960 960\">\n",
              "    <path d=\"M120-120v-720h720v720H120Zm60-500h600v-160H180v160Zm220 220h160v-160H400v160Zm0 220h160v-160H400v160ZM180-400h160v-160H180v160Zm440 0h160v-160H620v160ZM180-180h160v-160H180v160Zm440 0h160v-160H620v160Z\"/>\n",
              "  </svg>\n",
              "    </button>\n",
              "\n",
              "  <style>\n",
              "    .colab-df-container {\n",
              "      display:flex;\n",
              "      gap: 12px;\n",
              "    }\n",
              "\n",
              "    .colab-df-convert {\n",
              "      background-color: #E8F0FE;\n",
              "      border: none;\n",
              "      border-radius: 50%;\n",
              "      cursor: pointer;\n",
              "      display: none;\n",
              "      fill: #1967D2;\n",
              "      height: 32px;\n",
              "      padding: 0 0 0 0;\n",
              "      width: 32px;\n",
              "    }\n",
              "\n",
              "    .colab-df-convert:hover {\n",
              "      background-color: #E2EBFA;\n",
              "      box-shadow: 0px 1px 2px rgba(60, 64, 67, 0.3), 0px 1px 3px 1px rgba(60, 64, 67, 0.15);\n",
              "      fill: #174EA6;\n",
              "    }\n",
              "\n",
              "    .colab-df-buttons div {\n",
              "      margin-bottom: 4px;\n",
              "    }\n",
              "\n",
              "    [theme=dark] .colab-df-convert {\n",
              "      background-color: #3B4455;\n",
              "      fill: #D2E3FC;\n",
              "    }\n",
              "\n",
              "    [theme=dark] .colab-df-convert:hover {\n",
              "      background-color: #434B5C;\n",
              "      box-shadow: 0px 1px 3px 1px rgba(0, 0, 0, 0.15);\n",
              "      filter: drop-shadow(0px 1px 2px rgba(0, 0, 0, 0.3));\n",
              "      fill: #FFFFFF;\n",
              "    }\n",
              "  </style>\n",
              "\n",
              "    <script>\n",
              "      const buttonEl =\n",
              "        document.querySelector('#df-9068bb54-7567-467a-bc1e-bdd8113c169d button.colab-df-convert');\n",
              "      buttonEl.style.display =\n",
              "        google.colab.kernel.accessAllowed ? 'block' : 'none';\n",
              "\n",
              "      async function convertToInteractive(key) {\n",
              "        const element = document.querySelector('#df-9068bb54-7567-467a-bc1e-bdd8113c169d');\n",
              "        const dataTable =\n",
              "          await google.colab.kernel.invokeFunction('convertToInteractive',\n",
              "                                                    [key], {});\n",
              "        if (!dataTable) return;\n",
              "\n",
              "        const docLinkHtml = 'Like what you see? Visit the ' +\n",
              "          '<a target=\"_blank\" href=https://colab.research.google.com/notebooks/data_table.ipynb>data table notebook</a>'\n",
              "          + ' to learn more about interactive tables.';\n",
              "        element.innerHTML = '';\n",
              "        dataTable['output_type'] = 'display_data';\n",
              "        await google.colab.output.renderOutput(dataTable, element);\n",
              "        const docLink = document.createElement('div');\n",
              "        docLink.innerHTML = docLinkHtml;\n",
              "        element.appendChild(docLink);\n",
              "      }\n",
              "    </script>\n",
              "  </div>\n",
              "\n",
              "\n",
              "<div id=\"df-dc304d0f-6c38-47db-be09-29c4a3558e67\">\n",
              "  <button class=\"colab-df-quickchart\" onclick=\"quickchart('df-dc304d0f-6c38-47db-be09-29c4a3558e67')\"\n",
              "            title=\"Suggest charts.\"\n",
              "            style=\"display:none;\">\n",
              "\n",
              "<svg xmlns=\"http://www.w3.org/2000/svg\" height=\"24px\"viewBox=\"0 0 24 24\"\n",
              "     width=\"24px\">\n",
              "    <g>\n",
              "        <path d=\"M19 3H5c-1.1 0-2 .9-2 2v14c0 1.1.9 2 2 2h14c1.1 0 2-.9 2-2V5c0-1.1-.9-2-2-2zM9 17H7v-7h2v7zm4 0h-2V7h2v10zm4 0h-2v-4h2v4z\"/>\n",
              "    </g>\n",
              "</svg>\n",
              "  </button>\n",
              "\n",
              "<style>\n",
              "  .colab-df-quickchart {\n",
              "      --bg-color: #E8F0FE;\n",
              "      --fill-color: #1967D2;\n",
              "      --hover-bg-color: #E2EBFA;\n",
              "      --hover-fill-color: #174EA6;\n",
              "      --disabled-fill-color: #AAA;\n",
              "      --disabled-bg-color: #DDD;\n",
              "  }\n",
              "\n",
              "  [theme=dark] .colab-df-quickchart {\n",
              "      --bg-color: #3B4455;\n",
              "      --fill-color: #D2E3FC;\n",
              "      --hover-bg-color: #434B5C;\n",
              "      --hover-fill-color: #FFFFFF;\n",
              "      --disabled-bg-color: #3B4455;\n",
              "      --disabled-fill-color: #666;\n",
              "  }\n",
              "\n",
              "  .colab-df-quickchart {\n",
              "    background-color: var(--bg-color);\n",
              "    border: none;\n",
              "    border-radius: 50%;\n",
              "    cursor: pointer;\n",
              "    display: none;\n",
              "    fill: var(--fill-color);\n",
              "    height: 32px;\n",
              "    padding: 0;\n",
              "    width: 32px;\n",
              "  }\n",
              "\n",
              "  .colab-df-quickchart:hover {\n",
              "    background-color: var(--hover-bg-color);\n",
              "    box-shadow: 0 1px 2px rgba(60, 64, 67, 0.3), 0 1px 3px 1px rgba(60, 64, 67, 0.15);\n",
              "    fill: var(--button-hover-fill-color);\n",
              "  }\n",
              "\n",
              "  .colab-df-quickchart-complete:disabled,\n",
              "  .colab-df-quickchart-complete:disabled:hover {\n",
              "    background-color: var(--disabled-bg-color);\n",
              "    fill: var(--disabled-fill-color);\n",
              "    box-shadow: none;\n",
              "  }\n",
              "\n",
              "  .colab-df-spinner {\n",
              "    border: 2px solid var(--fill-color);\n",
              "    border-color: transparent;\n",
              "    border-bottom-color: var(--fill-color);\n",
              "    animation:\n",
              "      spin 1s steps(1) infinite;\n",
              "  }\n",
              "\n",
              "  @keyframes spin {\n",
              "    0% {\n",
              "      border-color: transparent;\n",
              "      border-bottom-color: var(--fill-color);\n",
              "      border-left-color: var(--fill-color);\n",
              "    }\n",
              "    20% {\n",
              "      border-color: transparent;\n",
              "      border-left-color: var(--fill-color);\n",
              "      border-top-color: var(--fill-color);\n",
              "    }\n",
              "    30% {\n",
              "      border-color: transparent;\n",
              "      border-left-color: var(--fill-color);\n",
              "      border-top-color: var(--fill-color);\n",
              "      border-right-color: var(--fill-color);\n",
              "    }\n",
              "    40% {\n",
              "      border-color: transparent;\n",
              "      border-right-color: var(--fill-color);\n",
              "      border-top-color: var(--fill-color);\n",
              "    }\n",
              "    60% {\n",
              "      border-color: transparent;\n",
              "      border-right-color: var(--fill-color);\n",
              "    }\n",
              "    80% {\n",
              "      border-color: transparent;\n",
              "      border-right-color: var(--fill-color);\n",
              "      border-bottom-color: var(--fill-color);\n",
              "    }\n",
              "    90% {\n",
              "      border-color: transparent;\n",
              "      border-bottom-color: var(--fill-color);\n",
              "    }\n",
              "  }\n",
              "</style>\n",
              "\n",
              "  <script>\n",
              "    async function quickchart(key) {\n",
              "      const quickchartButtonEl =\n",
              "        document.querySelector('#' + key + ' button');\n",
              "      quickchartButtonEl.disabled = true;  // To prevent multiple clicks.\n",
              "      quickchartButtonEl.classList.add('colab-df-spinner');\n",
              "      try {\n",
              "        const charts = await google.colab.kernel.invokeFunction(\n",
              "            'suggestCharts', [key], {});\n",
              "      } catch (error) {\n",
              "        console.error('Error during call to suggestCharts:', error);\n",
              "      }\n",
              "      quickchartButtonEl.classList.remove('colab-df-spinner');\n",
              "      quickchartButtonEl.classList.add('colab-df-quickchart-complete');\n",
              "    }\n",
              "    (() => {\n",
              "      let quickchartButtonEl =\n",
              "        document.querySelector('#df-dc304d0f-6c38-47db-be09-29c4a3558e67 button');\n",
              "      quickchartButtonEl.style.display =\n",
              "        google.colab.kernel.accessAllowed ? 'block' : 'none';\n",
              "    })();\n",
              "  </script>\n",
              "</div>\n",
              "    </div>\n",
              "  </div>\n"
            ]
          },
          "metadata": {},
          "execution_count": 14
        }
      ]
    },
    {
      "cell_type": "code",
      "source": [
        "#Checking data types again\n",
        "df.dtypes"
      ],
      "metadata": {
        "colab": {
          "base_uri": "https://localhost:8080/"
        },
        "id": "DPh-wqLf8BZ4",
        "outputId": "79c970c4-8133-4740-db5d-fd6fe5d89460"
      },
      "execution_count": 15,
      "outputs": [
        {
          "output_type": "execute_result",
          "data": {
            "text/plain": [
              "age               int64\n",
              "balance           int64\n",
              "day               int64\n",
              "duration          int64\n",
              "campaign          int64\n",
              "pdays             int64\n",
              "previous          int64\n",
              "y                object\n",
              "admin.            uint8\n",
              "blue-collar       uint8\n",
              "entrepreneur      uint8\n",
              "housemaid         uint8\n",
              "management        uint8\n",
              "retired           uint8\n",
              "self-employed     uint8\n",
              "services          uint8\n",
              "student           uint8\n",
              "technician        uint8\n",
              "unemployed        uint8\n",
              "unknown           uint8\n",
              "divorced          uint8\n",
              "married           uint8\n",
              "single            uint8\n",
              "primary           uint8\n",
              "secondary         uint8\n",
              "tertiary          uint8\n",
              "unknown           uint8\n",
              "no                uint8\n",
              "yes               uint8\n",
              "no                uint8\n",
              "yes               uint8\n",
              "no                uint8\n",
              "yes               uint8\n",
              "cellular          uint8\n",
              "telephone         uint8\n",
              "unknown           uint8\n",
              "apr               uint8\n",
              "aug               uint8\n",
              "dec               uint8\n",
              "feb               uint8\n",
              "jan               uint8\n",
              "jul               uint8\n",
              "jun               uint8\n",
              "mar               uint8\n",
              "may               uint8\n",
              "nov               uint8\n",
              "oct               uint8\n",
              "sep               uint8\n",
              "failure           uint8\n",
              "other             uint8\n",
              "success           uint8\n",
              "unknown           uint8\n",
              "dtype: object"
            ]
          },
          "metadata": {},
          "execution_count": 15
        }
      ]
    },
    {
      "cell_type": "code",
      "source": [
        "#label encoding taregt column (not onehot encoding)\n",
        "from sklearn.preprocessing import LabelEncoder\n",
        "encoder=LabelEncoder()\n",
        "df[\"y\"]=encoder.fit_transform(df[\"y\"])"
      ],
      "metadata": {
        "id": "pKXT2B8G-CLh"
      },
      "execution_count": 16,
      "outputs": []
    },
    {
      "cell_type": "markdown",
      "source": [
        "#Spliting dataset Into X and y"
      ],
      "metadata": {
        "id": "-fo29EJ6-ecP"
      }
    },
    {
      "cell_type": "code",
      "source": [
        "X = df.loc[:,df.columns!=\"y\"]\n",
        "y = df['y']"
      ],
      "metadata": {
        "id": "fR27EY4J-eKl"
      },
      "execution_count": 17,
      "outputs": []
    },
    {
      "cell_type": "code",
      "source": [
        "X.shape"
      ],
      "metadata": {
        "colab": {
          "base_uri": "https://localhost:8080/"
        },
        "id": "G18HRtuMC6oB",
        "outputId": "7f05f38b-d644-40c3-acf4-d138a07cce4d"
      },
      "execution_count": 18,
      "outputs": [
        {
          "output_type": "execute_result",
          "data": {
            "text/plain": [
              "(45211, 51)"
            ]
          },
          "metadata": {},
          "execution_count": 18
        }
      ]
    },
    {
      "cell_type": "markdown",
      "source": [
        "#Data balancing Using SMOTE (Over sampling)"
      ],
      "metadata": {
        "id": "h-_cnmoC-0Op"
      }
    },
    {
      "cell_type": "code",
      "source": [
        "!pip install imbalanced-learn\n",
        "from imblearn.over_sampling import SMOTE\n",
        "smote = SMOTE()\n",
        "X, y= smote.fit_resample(X, y)"
      ],
      "metadata": {
        "colab": {
          "base_uri": "https://localhost:8080/"
        },
        "id": "q05jKQmv9wor",
        "outputId": "05f63318-bf42-45fe-e636-586d9440ffa5"
      },
      "execution_count": 19,
      "outputs": [
        {
          "output_type": "stream",
          "name": "stdout",
          "text": [
            "Requirement already satisfied: imbalanced-learn in /usr/local/lib/python3.10/dist-packages (0.10.1)\n",
            "Requirement already satisfied: numpy>=1.17.3 in /usr/local/lib/python3.10/dist-packages (from imbalanced-learn) (1.23.5)\n",
            "Requirement already satisfied: scipy>=1.3.2 in /usr/local/lib/python3.10/dist-packages (from imbalanced-learn) (1.11.3)\n",
            "Requirement already satisfied: scikit-learn>=1.0.2 in /usr/local/lib/python3.10/dist-packages (from imbalanced-learn) (1.2.2)\n",
            "Requirement already satisfied: joblib>=1.1.1 in /usr/local/lib/python3.10/dist-packages (from imbalanced-learn) (1.3.2)\n",
            "Requirement already satisfied: threadpoolctl>=2.0.0 in /usr/local/lib/python3.10/dist-packages (from imbalanced-learn) (3.2.0)\n"
          ]
        }
      ]
    },
    {
      "cell_type": "code",
      "source": [
        "y.value_counts()"
      ],
      "metadata": {
        "colab": {
          "base_uri": "https://localhost:8080/"
        },
        "id": "FRHz5iskHMVG",
        "outputId": "f6db49e2-9fa0-49e2-d84c-3e83917b8525"
      },
      "execution_count": 20,
      "outputs": [
        {
          "output_type": "execute_result",
          "data": {
            "text/plain": [
              "0    39922\n",
              "1    39922\n",
              "Name: y, dtype: int64"
            ]
          },
          "metadata": {},
          "execution_count": 20
        }
      ]
    },
    {
      "cell_type": "code",
      "source": [
        "no = [\"no\",\"yes\"]\n",
        "yes = [39922,39922]\n",
        "fig = plt.figure(figsize =(10, 7))\n",
        "plt.bar(no, yes)\n",
        "plt.show()"
      ],
      "metadata": {
        "colab": {
          "base_uri": "https://localhost:8080/",
          "height": 599
        },
        "id": "FNWmTL9hHSR2",
        "outputId": "6432ad2f-3c01-4fcc-fe36-c5c2fbd4ed66"
      },
      "execution_count": 21,
      "outputs": [
        {
          "output_type": "display_data",
          "data": {
            "text/plain": [
              "<Figure size 1000x700 with 1 Axes>"
            ],
            "image/png": "[encoded data removed]"
          },
          "metadata": {}
        }
      ]
    },
    {
      "cell_type": "markdown",
      "source": [
        "#Scaling The Data"
      ],
      "metadata": {
        "id": "9olob6aGBAIa"
      }
    },
    {
      "cell_type": "code",
      "source": [
        "from sklearn.preprocessing import StandardScaler\n",
        "scaler = StandardScaler()\n",
        "scaler.fit(X)\n",
        "X[X.columns] =   scaler.transform(X)"
      ],
      "metadata": {
        "id": "A5OmEQZVBDve"
      },
      "execution_count": null,
      "outputs": []
    },
    {
      "cell_type": "markdown",
      "source": [
        "#Data Splitting\n",
        "Divide the dataset into a training set (70%), a validation set (15%), and a test set (15%)"
      ],
      "metadata": {
        "id": "LuYS-EK__T5b"
      }
    },
    {
      "cell_type": "code",
      "source": [
        "\n",
        "from sklearn.model_selection import train_test_split\n",
        "X_train, X_test_val, y_train, y_test_val= train_test_split(X,y, test_size=0.3)\n",
        "\n",
        "#we divided 70:30 = train:test_val. Now we have 70% data in our test set. Then we devided 30% into half. So we have 15% of total data in trest and validation.\n",
        "X_test, X_val, y_test, y_val= train_test_split(X_test_val, y_test_val, train_size=.5)\n"
      ],
      "metadata": {
        "id": "ZseWBXe__DbH"
      },
      "execution_count": 22,
      "outputs": []
    },
    {
      "cell_type": "code",
      "source": [
        "X_train.shape[0],X_val.shape[0],X_test.shape[0]"
      ],
      "metadata": {
        "colab": {
          "base_uri": "https://localhost:8080/"
        },
        "id": "V3WyH2lwDc8w",
        "outputId": "4676d66e-f85c-4bc0-b684-98f646aa08c1"
      },
      "execution_count": 23,
      "outputs": [
        {
          "output_type": "execute_result",
          "data": {
            "text/plain": [
              "(55890, 11977, 11977)"
            ]
          },
          "metadata": {},
          "execution_count": 23
        }
      ]
    },
    {
      "cell_type": "markdown",
      "source": [
        "#Model Selection & Training:"
      ],
      "metadata": {
        "id": "VnXF6wvQGTrK"
      }
    },
    {
      "cell_type": "markdown",
      "source": [
        "##ADABOOST"
      ],
      "metadata": {
        "id": "2INPs8-fIEFG"
      }
    },
    {
      "cell_type": "markdown",
      "source": [
        "###For Deafult Hyparameters"
      ],
      "metadata": {
        "id": "pZRalayfGpXi"
      }
    },
    {
      "cell_type": "code",
      "source": [
        "\n",
        "from sklearn.ensemble import AdaBoostClassifier\n",
        "\n",
        "ada_defult = AdaBoostClassifier()\n",
        "ada_defult.fit(X_train, y_train)\n",
        "y_pred_val = ada_defult.predict(X_val)\n",
        "\n",
        "\n",
        "print(\"Accurecy: \",accuracy_score(y_val, y_pred_val))"
      ],
      "metadata": {
        "colab": {
          "base_uri": "https://localhost:8080/"
        },
        "id": "LtTluNqyEvIn",
        "outputId": "c2907e45-262a-490c-ada4-11d743499e13"
      },
      "execution_count": 271,
      "outputs": [
        {
          "output_type": "stream",
          "name": "stdout",
          "text": [
            "Accurecy:  0.9381314185522251\n"
          ]
        }
      ]
    },
    {
      "cell_type": "markdown",
      "source": [
        "###Tunning `n_estimators`(done)"
      ],
      "metadata": {
        "id": "Y-yhIqRUGxDl"
      }
    },
    {
      "cell_type": "code",
      "source": [
        "from sklearn.ensemble import AdaBoostClassifier\n",
        "N=151\n",
        "k_range = range (1,N+1,5)\n",
        "scores={}\n",
        "scores_list = []\n",
        "score_list_train = []\n",
        "for k in tqdm(k_range):\n",
        "  classifier = AdaBoostClassifier(n_estimators=k,random_state=0)\n",
        "  classifier.fit(X_train, y_train)\n",
        "\n",
        "  y_pred=classifier.predict(X_val)\n",
        "  val_accu = accuracy_score(y_val,y_pred)\n",
        "  scores[k] = val_accu\n",
        "  scores_list.append(val_accu)\n",
        "\n",
        "  y_pred=classifier.predict(X_train)\n",
        "  train_accu = accuracy_score(y_train,y_pred)\n",
        "  score_list_train.append(train_accu)\n",
        "\n",
        "  print(str(k)+\"/\"+str(N)+\" round completed......................... Val Accuracy: \"+str(val_accu),\">>>>>>Train Accuracy: \"+str(train_accu))\n",
        "\n",
        "\n",
        "\n",
        "%matplotlib inline\n",
        "import matplotlib.pyplot as plt\n",
        "#plot the relationship between K and the testing accuracy\n",
        "plt.figure(figsize = (25,10))\n",
        "plt.plot(k_range,scores_list)\n",
        "plt.plot(k_range,score_list_train)\n",
        "plt.xlabel('Value of n_estimators')\n",
        "plt.ylabel ('Testing Accuracy')\n",
        "plt.legend([\"Testing Accuracy\", \"Training Accuracy\"], loc=0, frameon=True)\n",
        "\n",
        "\n",
        "\n",
        "print(\"The best n_estimators:\")\n",
        "best_estimator=list(scores.keys())[scores_list.index(max(scores_list))]\n",
        "print(best_estimator)"
      ],
      "metadata": {
        "colab": {
          "base_uri": "https://localhost:8080/",
          "height": 1000,
          "referenced_widgets": [
            "d22bc6e9b82f4d838f522433348128bd",
            "fca13c63cfb847ffbaeedf8f829a2c61",
            "b47b664b149d4059b731951e14826a6d",
            "96bb539fa8204cdeb27446a7b46329a5",
            "5722a0fa6aed4a52ab1b639280bf8511",
            "4355936c04404cab8345ab7c84ed9314",
            "b84f7911987e4a9cadd4b400cf955dc2",
            "d23eac8bd47d4c1caf0eeee6bef3b2dc",
            "94e8d92ef65c49699262ce1acc42610e",
            "467d9457015b4225afe44b44a0081d6b",
            "367a367426ef40f092a971ac01a3374e"
          ]
        },
        "id": "TPBJMU4jDqqR",
        "outputId": "b7122acc-550c-4c6a-b3c7-99336012298c"
      },
      "execution_count": 36,
      "outputs": [
        {
          "output_type": "display_data",
          "data": {
            "text/plain": [
              "  0%|          | 0/31 [00:00<?, ?it/s]"
            ],
            "application/vnd.jupyter.widget-view+json": {
              "version_major": 2,
              "version_minor": 0,
              "model_id": "d22bc6e9b82f4d838f522433348128bd"
            }
          },
          "metadata": {}
        },
        {
          "output_type": "stream",
          "name": "stdout",
          "text": [
            "1/151 round completed......................... Val Accuracy: 0.7167905151540452 >>>>>>Train Accuracy: 0.7218643764537485\n",
            "6/151 round completed......................... Val Accuracy: 0.8074643065876262 >>>>>>Train Accuracy: 0.8120772946859903\n",
            "11/151 round completed......................... Val Accuracy: 0.8647407531101278 >>>>>>Train Accuracy: 0.8734299516908213\n",
            "16/151 round completed......................... Val Accuracy: 0.8986390581948736 >>>>>>Train Accuracy: 0.9049740561817856\n",
            "21/151 round completed......................... Val Accuracy: 0.9165066377223011 >>>>>>Train Accuracy: 0.9193415637860082\n",
            "26/151 round completed......................... Val Accuracy: 0.9228521332554062 >>>>>>Train Accuracy: 0.9228484523170514\n",
            "31/151 round completed......................... Val Accuracy: 0.926776321282458 >>>>>>Train Accuracy: 0.92914653784219\n",
            "36/151 round completed......................... Val Accuracy: 0.9316189362945646 >>>>>>Train Accuracy: 0.9329575952764358\n",
            "41/151 round completed......................... Val Accuracy: 0.9315354429322869 >>>>>>Train Accuracy: 0.9346573626766863\n",
            "46/151 round completed......................... Val Accuracy: 0.9342072305251733 >>>>>>Train Accuracy: 0.9350688853104312\n",
            "51/151 round completed......................... Val Accuracy: 0.9371294982048927 >>>>>>Train Accuracy: 0.9369475755949186\n",
            "56/151 round completed......................... Val Accuracy: 0.9387993654504467 >>>>>>Train Accuracy: 0.9387010198604402\n",
            "61/151 round completed......................... Val Accuracy: 0.9386323787258913 >>>>>>Train Accuracy: 0.938772589014135\n",
            "66/151 round completed......................... Val Accuracy: 0.9384653920013359 >>>>>>Train Accuracy: 0.9393988191089641\n",
            "71/151 round completed......................... Val Accuracy: 0.9397177924355014 >>>>>>Train Accuracy: 0.9403292181069959\n",
            "76/151 round completed......................... Val Accuracy: 0.938715872088169 >>>>>>Train Accuracy: 0.9400787260690643\n",
            "81/151 round completed......................... Val Accuracy: 0.9400517658846121 >>>>>>Train Accuracy: 0.9407049561638934\n",
            "86/151 round completed......................... Val Accuracy: 0.9403857393337229 >>>>>>Train Accuracy: 0.940901771336554\n",
            "91/151 round completed......................... Val Accuracy: 0.9413041663187777 >>>>>>Train Accuracy: 0.940901771336554\n",
            "96/151 round completed......................... Val Accuracy: 0.9411371795942223 >>>>>>Train Accuracy: 0.9406870638754696\n",
            "101/151 round completed......................... Val Accuracy: 0.9422225933038324 >>>>>>Train Accuracy: 0.9410270173555197\n",
            "106/151 round completed......................... Val Accuracy: 0.9412206729564999 >>>>>>Train Accuracy: 0.9416711397387726\n",
            "111/151 round completed......................... Val Accuracy: 0.9417216331301661 >>>>>>Train Accuracy: 0.940669171587046\n",
            "116/151 round completed......................... Val Accuracy: 0.9416381397678885 >>>>>>Train Accuracy: 0.9403828949722669\n",
            "121/151 round completed......................... Val Accuracy: 0.9411371795942223 >>>>>>Train Accuracy: 0.9404723564143854\n",
            "126/151 round completed......................... Val Accuracy: 0.9420556065792769 >>>>>>Train Accuracy: 0.9415101091429594\n",
            "131/151 round completed......................... Val Accuracy: 0.9415546464056107 >>>>>>Train Accuracy: 0.9414564322776883\n",
            "136/151 round completed......................... Val Accuracy: 0.9416381397678885 >>>>>>Train Accuracy: 0.9418142780461621\n",
            "141/151 round completed......................... Val Accuracy: 0.9414711530433331 >>>>>>Train Accuracy: 0.9419753086419753\n",
            "146/151 round completed......................... Val Accuracy: 0.9414711530433331 >>>>>>Train Accuracy: 0.9421900161030596\n",
            "151/151 round completed......................... Val Accuracy: 0.9417216331301661 >>>>>>Train Accuracy: 0.9422973698336017\n",
            "The best n_estimators:\n",
            "101\n"
          ]
        },
        {
          "output_type": "display_data",
          "data": {
            "text/plain": [
              "<Figure size 2500x1000 with 1 Axes>"
            ],
            "image/png": "[encoded data removed]"
          },
          "metadata": {}
        }
      ]
    },
    {
      "cell_type": "code",
      "source": [
        "from sklearn.ensemble import AdaBoostClassifier\n",
        "\n",
        "ada_best_estimator = AdaBoostClassifier(n_estimators=best_estimator,random_state=0)\n",
        "ada_best_estimator.fit(X_train, y_train)\n",
        "y_pred = ada_best_estimator.predict(X_test)\n",
        "\n",
        "from sklearn.metrics import classification_report, confusion_matrix, accuracy_score\n",
        "print(classification_report(y_test,y_pred))\n",
        "print(\"Accurecy: \",accuracy_score(y_test, y_pred))"
      ],
      "metadata": {
        "id": "MfObWWUt05G7"
      },
      "execution_count": null,
      "outputs": []
    },
    {
      "cell_type": "markdown",
      "source": [
        "###Evaluation metrics, Confusion Matrix and ROC Curve For best model"
      ],
      "metadata": {
        "id": "0SjIthiU7oD8"
      }
    },
    {
      "cell_type": "code",
      "source": [
        "#ROC Curve Function\n",
        "\n",
        "graph_attributes={\n",
        "    \"Font Size\"  : 15,\n",
        "    \"Font Color\" : \"black\",\n",
        "    \"Legend Font Size\"  : 15,\n",
        "    \"Legend Font Color\" : \"black\",\n",
        "    \"Legend bgcolor\"    : \"LightSteelBlue\",\n",
        "    \"Legend bordercolor\": \"White\",\n",
        "    \"Legend borderwidth\": 1\n",
        "\n",
        "}\n",
        "\n",
        "def ploty_ROC(model,X,y,graph_attributes):\n",
        "\n",
        "    lebel_dict={\n",
        "    0: 'no',\n",
        "    1: 'yes'\n",
        "    }\n",
        "\n",
        "    if str(model)[:3] == \"XGB\":\n",
        "      y_scores = model.predict_proba(X.values)\n",
        "    else:\n",
        "      y_scores = model.predict_proba(X)\n",
        "    #y_scores = model.predict_proba(X)\n",
        "\n",
        "    y_onehot = pd.get_dummies(y, columns=model.classes_)\n",
        "\n",
        "    fig = go.Figure()\n",
        "    fig.add_shape(\n",
        "        type='line', line=dict(dash='dash', width=5),\n",
        "        x0=0, x1=1, y0=0, y1=1\n",
        "    )\n",
        "\n",
        "    for i in range(y_scores.shape[1]):\n",
        "        y_true = y_onehot.iloc[:, i]\n",
        "        y_score = y_scores[:, i]\n",
        "\n",
        "        fpr, tpr, _ = roc_curve(y_true, y_score)\n",
        "        auc_score = roc_auc_score(y_true, y_score)\n",
        "        name = f\"{lebel_dict[y_onehot.columns[i]]} (AUC={auc_score:.2f})\"\n",
        "        fig.add_trace(go.Scatter(x=fpr, y=tpr, name=name, mode='lines'))\n",
        "\n",
        "    fig.update_layout(\n",
        "        xaxis_title='False Positive Rate',\n",
        "        yaxis_title='True Positive Rate',\n",
        "        yaxis=dict(scaleanchor=\"x\", scaleratio=1),\n",
        "        xaxis=dict(constrain='domain'),\n",
        "        width=1000, height=1000,\n",
        "        font=dict(\n",
        "            family=\"Arial Black, monospace\",\n",
        "            size=graph_attributes[\"Font Size\"],\n",
        "            color=graph_attributes[\"Font Color\"]\n",
        "        ),\n",
        "        legend=dict(\n",
        "            x=0.62,\n",
        "            y=0.05,\n",
        "            traceorder=\"reversed\",\n",
        "            title_font_family=\"Arial Black\",\n",
        "            font=dict(\n",
        "                family=\"Arial Black, monospace\",\n",
        "                size=graph_attributes[\"Legend Font Size\"],\n",
        "                color=graph_attributes[\"Legend Font Color\"]\n",
        "            ),\n",
        "            bgcolor=graph_attributes[\"Legend bgcolor\"],\n",
        "            bordercolor=graph_attributes[\"Legend bordercolor\"],\n",
        "            borderwidth=graph_attributes[\"Legend borderwidth\"]\n",
        "        ),\n",
        "        #plot_bgcolor=\"\",\n",
        "    )\n",
        "    fig.update_xaxes(showline=True, linewidth=2, linecolor='black', tickfont_family=\"Arial Black\")\n",
        "    fig.update_yaxes(showline=True, linewidth=2, linecolor='black',tickfont_family=\"Arial Black\")\n",
        "\n",
        "    fig.show()"
      ],
      "metadata": {
        "id": "6XPSVPEc22H2"
      },
      "execution_count": 126,
      "outputs": []
    },
    {
      "cell_type": "code",
      "source": [
        "ploty_ROC(ada_defult,X_test,y_test,graph_attributes)"
      ],
      "metadata": {
        "colab": {
          "base_uri": "https://localhost:8080/",
          "height": 1000
        },
        "id": "Sm6JSBhy58rN",
        "outputId": "410a6368-00b6-4599-d56f-384942816963"
      },
      "execution_count": 128,
      "outputs": [
        {
          "output_type": "display_data",
          "data": {
            "text/html": [
              "<html>\n",
              "<head><meta charset=\"utf-8\" /></head>\n",
              "<body>\n",
              "    <div>            <script src=\"https://cdnjs.cloudflare.com/ajax/libs/mathjax/2.7.5/MathJax.js?config=TeX-AMS-MML_SVG\"></script><script type=\"text/javascript\">if (window.MathJax && window.MathJax.Hub && window.MathJax.Hub.Config) {window.MathJax.Hub.Config({SVG: {font: \"STIX-Web\"}});}</script>                <script type=\"text/javascript\">window.PlotlyConfig = {MathJaxConfig: 'local'};</script>\n",
              "        <script src=\"https://cdn.plot.ly/plotly-2.16.1.min.js\"></script>                <div id=\"2b1ea950-112a-4e82-8555-0f35390dba36\" class=\"plotly-graph-div\" style=\"height:1000px; width:1000px;\"></div>            <script type=\"text/javascript\">                                    window.PLOTLYENV=window.PLOTLYENV || {};                                    if (document.getElementById(\"2b1ea950-112a-4e82-8555-0f35390dba36\")) {                    Plotly.newPlot(                        \"2b1ea950-112a-4e82-8555-0f35390dba36\",                        [{\"mode\":\"lines\",\"name\":\"no (AUC=0.98)\",\"x\":[0.0,0.0,0.0,0.0,0.0,0.0,0.0,0.0,0.0,0.0,0.0,0.0,0.0,0.0,0.0,0.0,0.0,0.0,0.0,0.0,0.0,0.0,0.0,0.0,0.0,0.0,0.0,0.0,0.0,0.0,0.0,0.0,0.0,0.0,0.0,0.0,0.0,0.0,0.0,0.0,0.0,0.0,0.0,0.0,0.0,0.0,0.0,0.0,0.0,0.0,0.0,0.0,0.0,0.0,0.0,0.0,0.0,0.0,0.0,0.0,0.0,0.0,0.0,0.0,0.0,0.0,0.0,0.0,0.0,0.0,0.0,0.0,0.0,0.0,0.0,0.0,0.0,0.0,0.0,0.0,0.0,0.0,0.0,0.0,0.0,0.0,0.0,0.0,0.0,0.0,0.0,0.0,0.0,0.0,0.0,0.0,0.0,0.0,0.0,0.0,0.0,0.0,0.0,0.0,0.0,0.0,0.0,0.0,0.0,0.0,0.0,0.0,0.0,0.0,0.0,0.0,0.0,0.0,0.0,0.0,0.0,0.0,0.0,0.0,0.0,0.0,0.0,0.0,0.0,0.0,0.0,0.0,0.0,0.0,0.0,0.0,0.0,0.0,0.0,0.0,0.0,0.0,0.0,0.0,0.0,0.0,0.0,0.0,0.0,0.0,0.0,0.0,0.0,0.0,0.0,0.0,0.0,0.0,0.0,0.0,0.0,0.0,0.0,0.0,0.0,0.0,0.0,0.0,0.0,0.0,0.0,0.0,0.0,0.0,0.0,0.0,0.0,0.0,0.0,0.0,0.0,0.0,0.0,0.0,0.0,0.0,0.0,0.0,0.0,0.0,0.0,0.0,0.0,0.0,0.0,0.0,0.0,0.0,0.0,0.0,0.000167897918065816,0.000167897918065816,0.000167897918065816,0.000167897918065816,0.000167897918065816,0.000167897918065816,0.000167897918065816,0.000167897918065816,0.000167897918065816,0.000167897918065816,0.000167897918065816,0.000167897918065816,0.000167897918065816,0.000167897918065816,0.000167897918065816,0.000167897918065816,0.000167897918065816,0.000167897918065816,0.000167897918065816,0.000167897918065816,0.000167897918065816,0.000167897918065816,0.000167897918065816,0.000167897918065816,0.000167897918065816,0.000167897918065816,0.000167897918065816,0.000167897918065816,0.000167897918065816,0.000167897918065816,0.000167897918065816,0.000167897918065816,0.000167897918065816,0.000167897918065816,0.000167897918065816,0.000167897918065816,0.000167897918065816,0.000167897918065816,0.000167897918065816,0.000167897918065816,0.000167897918065816,0.000167897918065816,0.000167897918065816,0.000167897918065816,0.000167897918065816,0.000167897918065816,0.000167897918065816,0.000167897918065816,0.000167897918065816,0.000167897918065816,0.000167897918065816,0.000167897918065816,0.000167897918065816,0.000167897918065816,0.000167897918065816,0.000167897918065816,0.000167897918065816,0.000167897918065816,0.000335795836131632,0.000335795836131632,0.000335795836131632,0.000335795836131632,0.000335795836131632,0.000335795836131632,0.000335795836131632,0.000335795836131632,0.000335795836131632,0.000335795836131632,0.000335795836131632,0.000335795836131632,0.000335795836131632,0.000335795836131632,0.000335795836131632,0.000335795836131632,0.000335795836131632,0.000335795836131632,0.000335795836131632,0.000335795836131632,0.000335795836131632,0.000335795836131632,0.000335795836131632,0.000335795836131632,0.000335795836131632,0.000335795836131632,0.000335795836131632,0.000335795836131632,0.000335795836131632,0.000335795836131632,0.000335795836131632,0.000335795836131632,0.000335795836131632,0.000335795836131632,0.000335795836131632,0.000335795836131632,0.000335795836131632,0.000335795836131632,0.000335795836131632,0.000335795836131632,0.000335795836131632,0.000335795836131632,0.000335795836131632,0.000335795836131632,0.000335795836131632,0.000335795836131632,0.000335795836131632,0.000335795836131632,0.000335795836131632,0.000335795836131632,0.000335795836131632,0.000335795836131632,0.000335795836131632,0.000335795836131632,0.000335795836131632,0.000335795836131632,0.000335795836131632,0.000335795836131632,0.000335795836131632,0.000335795836131632,0.000335795836131632,0.000335795836131632,0.000335795836131632,0.000335795836131632,0.000335795836131632,0.000335795836131632,0.000335795836131632,0.000335795836131632,0.000335795836131632,0.000335795836131632,0.000335795836131632,0.000335795836131632,0.000335795836131632,0.000335795836131632,0.000335795836131632,0.000335795836131632,0.000335795836131632,0.000335795836131632,0.000335795836131632,0.0005036937541974479,0.0005036937541974479,0.0005036937541974479,0.0005036937541974479,0.0005036937541974479,0.0005036937541974479,0.0005036937541974479,0.0005036937541974479,0.0005036937541974479,0.0005036937541974479,0.0005036937541974479,0.0005036937541974479,0.0005036937541974479,0.0005036937541974479,0.0005036937541974479,0.0005036937541974479,0.0005036937541974479,0.0005036937541974479,0.0005036937541974479,0.000671591672263264,0.000671591672263264,0.000671591672263264,0.000671591672263264,0.000671591672263264,0.000671591672263264,0.000671591672263264,0.000671591672263264,0.000671591672263264,0.000671591672263264,0.000671591672263264,0.000671591672263264,0.000671591672263264,0.000671591672263264,0.000671591672263264,0.000671591672263264,0.000671591672263264,0.000671591672263264,0.000671591672263264,0.000671591672263264,0.000671591672263264,0.000671591672263264,0.000671591672263264,0.000671591672263264,0.000671591672263264,0.000671591672263264,0.000671591672263264,0.000671591672263264,0.000671591672263264,0.000671591672263264,0.000671591672263264,0.000671591672263264,0.000671591672263264,0.000671591672263264,0.000671591672263264,0.000671591672263264,0.000671591672263264,0.000671591672263264,0.000671591672263264,0.000671591672263264,0.000671591672263264,0.000671591672263264,0.000671591672263264,0.000671591672263264,0.000671591672263264,0.000671591672263264,0.000671591672263264,0.000671591672263264,0.000671591672263264,0.000671591672263264,0.000671591672263264,0.000671591672263264,0.000671591672263264,0.000671591672263264,0.000671591672263264,0.000671591672263264,0.000671591672263264,0.000671591672263264,0.000671591672263264,0.000671591672263264,0.000671591672263264,0.000671591672263264,0.000671591672263264,0.000671591672263264,0.000671591672263264,0.000671591672263264,0.000671591672263264,0.000671591672263264,0.000671591672263264,0.000671591672263264,0.000671591672263264,0.000671591672263264,0.000671591672263264,0.000671591672263264,0.000671591672263264,0.000671591672263264,0.000671591672263264,0.000671591672263264,0.000671591672263264,0.000671591672263264,0.000671591672263264,0.000671591672263264,0.000671591672263264,0.000671591672263264,0.000671591672263264,0.000671591672263264,0.000671591672263264,0.000671591672263264,0.000671591672263264,0.000671591672263264,0.0008394895903290799,0.0008394895903290799,0.0008394895903290799,0.0008394895903290799,0.0008394895903290799,0.0008394895903290799,0.0008394895903290799,0.0008394895903290799,0.0008394895903290799,0.0008394895903290799,0.0008394895903290799,0.0008394895903290799,0.0008394895903290799,0.0008394895903290799,0.0008394895903290799,0.0008394895903290799,0.0008394895903290799,0.0008394895903290799,0.0008394895903290799,0.0010073875083948958,0.0010073875083948958,0.0010073875083948958,0.0010073875083948958,0.0010073875083948958,0.0010073875083948958,0.0010073875083948958,0.0010073875083948958,0.0010073875083948958,0.0011752854264607119,0.0011752854264607119,0.0011752854264607119,0.0011752854264607119,0.0011752854264607119,0.0011752854264607119,0.0011752854264607119,0.0011752854264607119,0.0011752854264607119,0.0011752854264607119,0.0011752854264607119,0.0011752854264607119,0.0011752854264607119,0.0011752854264607119,0.0011752854264607119,0.0011752854264607119,0.0011752854264607119,0.0011752854264607119,0.0011752854264607119,0.0011752854264607119,0.0011752854264607119,0.0011752854264607119,0.0011752854264607119,0.0011752854264607119,0.0011752854264607119,0.0011752854264607119,0.0011752854264607119,0.0011752854264607119,0.0011752854264607119,0.0011752854264607119,0.0011752854264607119,0.0011752854264607119,0.0011752854264607119,0.0011752854264607119,0.0011752854264607119,0.0011752854264607119,0.0011752854264607119,0.0011752854264607119,0.0011752854264607119,0.0011752854264607119,0.0011752854264607119,0.0011752854264607119,0.0011752854264607119,0.0011752854264607119,0.0011752854264607119,0.0011752854264607119,0.0011752854264607119,0.0011752854264607119,0.0011752854264607119,0.0011752854264607119,0.0011752854264607119,0.0011752854264607119,0.0011752854264607119,0.0011752854264607119,0.0011752854264607119,0.0011752854264607119,0.0011752854264607119,0.0011752854264607119,0.0011752854264607119,0.0011752854264607119,0.0011752854264607119,0.0011752854264607119,0.0011752854264607119,0.0011752854264607119,0.0011752854264607119,0.0011752854264607119,0.0011752854264607119,0.0011752854264607119,0.0011752854264607119,0.0011752854264607119,0.0011752854264607119,0.0011752854264607119,0.0011752854264607119,0.0011752854264607119,0.0011752854264607119,0.0011752854264607119,0.0011752854264607119,0.0011752854264607119,0.0011752854264607119,0.0011752854264607119,0.0011752854264607119,0.0011752854264607119,0.0011752854264607119,0.0011752854264607119,0.0011752854264607119,0.0011752854264607119,0.0011752854264607119,0.0011752854264607119,0.0011752854264607119,0.0011752854264607119,0.0011752854264607119,0.0011752854264607119,0.0011752854264607119,0.0011752854264607119,0.0011752854264607119,0.0011752854264607119,0.0011752854264607119,0.0011752854264607119,0.0011752854264607119,0.0011752854264607119,0.0011752854264607119,0.0011752854264607119,0.0011752854264607119,0.0011752854264607119,0.0011752854264607119,0.0011752854264607119,0.0011752854264607119,0.0011752854264607119,0.0011752854264607119,0.0011752854264607119,0.0011752854264607119,0.0011752854264607119,0.0011752854264607119,0.0011752854264607119,0.0011752854264607119,0.0011752854264607119,0.0011752854264607119,0.0011752854264607119,0.0011752854264607119,0.0011752854264607119,0.0011752854264607119,0.0011752854264607119,0.0011752854264607119,0.0011752854264607119,0.0011752854264607119,0.0011752854264607119,0.0011752854264607119,0.0011752854264607119,0.0011752854264607119,0.0011752854264607119,0.0011752854264607119,0.0011752854264607119,0.0011752854264607119,0.0011752854264607119,0.0011752854264607119,0.0011752854264607119,0.0011752854264607119,0.0011752854264607119,0.0011752854264607119,0.0011752854264607119,0.0011752854264607119,0.0011752854264607119,0.0011752854264607119,0.0011752854264607119,0.0011752854264607119,0.0011752854264607119,0.0011752854264607119,0.0011752854264607119,0.0011752854264607119,0.0011752854264607119,0.0011752854264607119,0.0011752854264607119,0.0011752854264607119,0.0011752854264607119,0.0011752854264607119,0.0011752854264607119,0.0011752854264607119,0.0011752854264607119,0.0011752854264607119,0.0011752854264607119,0.0011752854264607119,0.0011752854264607119,0.0011752854264607119,0.0011752854264607119,0.0011752854264607119,0.001343183344526528,0.001343183344526528,0.001343183344526528,0.001343183344526528,0.001343183344526528,0.001343183344526528,0.001343183344526528,0.001343183344526528,0.001343183344526528,0.001343183344526528,0.001343183344526528,0.001343183344526528,0.001343183344526528,0.001343183344526528,0.001343183344526528,0.001343183344526528,0.001343183344526528,0.001343183344526528,0.001343183344526528,0.001343183344526528,0.001343183344526528,0.001343183344526528,0.001343183344526528,0.001343183344526528,0.001343183344526528,0.001343183344526528,0.001343183344526528,0.001343183344526528,0.001343183344526528,0.001343183344526528,0.001343183344526528,0.0015110812625923438,0.0015110812625923438,0.0016789791806581598,0.0016789791806581598,0.0016789791806581598,0.0016789791806581598,0.0016789791806581598,0.0016789791806581598,0.0016789791806581598,0.0016789791806581598,0.0016789791806581598,0.0016789791806581598,0.0016789791806581598,0.0016789791806581598,0.0016789791806581598,0.0016789791806581598,0.0016789791806581598,0.0016789791806581598,0.0016789791806581598,0.0016789791806581598,0.0018468770987239758,0.0018468770987239758,0.0018468770987239758,0.0018468770987239758,0.0018468770987239758,0.0018468770987239758,0.0018468770987239758,0.0018468770987239758,0.0018468770987239758,0.0018468770987239758,0.0018468770987239758,0.0018468770987239758,0.0018468770987239758,0.0018468770987239758,0.0020147750167897917,0.0020147750167897917,0.0020147750167897917,0.0020147750167897917,0.0020147750167897917,0.0020147750167897917,0.0020147750167897917,0.0020147750167897917,0.0020147750167897917,0.0020147750167897917,0.0020147750167897917,0.0020147750167897917,0.0020147750167897917,0.0020147750167897917,0.0020147750167897917,0.0020147750167897917,0.0020147750167897917,0.0020147750167897917,0.0020147750167897917,0.0020147750167897917,0.0020147750167897917,0.0020147750167897917,0.0020147750167897917,0.0020147750167897917,0.0020147750167897917,0.0020147750167897917,0.0020147750167897917,0.0020147750167897917,0.0020147750167897917,0.0020147750167897917,0.0020147750167897917,0.0020147750167897917,0.0020147750167897917,0.0020147750167897917,0.0020147750167897917,0.0020147750167897917,0.0020147750167897917,0.0020147750167897917,0.0020147750167897917,0.0020147750167897917,0.0020147750167897917,0.0020147750167897917,0.0020147750167897917,0.0020147750167897917,0.0020147750167897917,0.002182672934855608,0.002182672934855608,0.002182672934855608,0.002182672934855608,0.002182672934855608,0.002182672934855608,0.002182672934855608,0.002182672934855608,0.002182672934855608,0.002182672934855608,0.002182672934855608,0.002182672934855608,0.002182672934855608,0.002182672934855608,0.002182672934855608,0.002182672934855608,0.002182672934855608,0.002182672934855608,0.002182672934855608,0.002182672934855608,0.002182672934855608,0.002182672934855608,0.002182672934855608,0.002182672934855608,0.002182672934855608,0.002182672934855608,0.002182672934855608,0.002182672934855608,0.002182672934855608,0.002182672934855608,0.002182672934855608,0.002182672934855608,0.002182672934855608,0.002182672934855608,0.002182672934855608,0.002182672934855608,0.002182672934855608,0.002182672934855608,0.002182672934855608,0.002182672934855608,0.002182672934855608,0.002182672934855608,0.002182672934855608,0.002182672934855608,0.002182672934855608,0.002182672934855608,0.002182672934855608,0.002182672934855608,0.002182672934855608,0.002182672934855608,0.002182672934855608,0.002182672934855608,0.002182672934855608,0.002182672934855608,0.002182672934855608,0.002182672934855608,0.002182672934855608,0.002182672934855608,0.002182672934855608,0.002182672934855608,0.002182672934855608,0.002182672934855608,0.002182672934855608,0.002182672934855608,0.002182672934855608,0.002182672934855608,0.002182672934855608,0.002182672934855608,0.002182672934855608,0.0023505708529214238,0.0023505708529214238,0.0023505708529214238,0.0023505708529214238,0.0023505708529214238,0.0023505708529214238,0.0023505708529214238,0.0023505708529214238,0.0023505708529214238,0.0025184687709872396,0.0025184687709872396,0.0025184687709872396,0.0025184687709872396,0.0025184687709872396,0.0025184687709872396,0.0025184687709872396,0.0025184687709872396,0.002686366689053056,0.002686366689053056,0.002686366689053056,0.002686366689053056,0.002686366689053056,0.002686366689053056,0.002686366689053056,0.002686366689053056,0.002686366689053056,0.002686366689053056,0.002686366689053056,0.002686366689053056,0.002686366689053056,0.0028542646071188717,0.0028542646071188717,0.0028542646071188717,0.0028542646071188717,0.0028542646071188717,0.0028542646071188717,0.0028542646071188717,0.0028542646071188717,0.0028542646071188717,0.0028542646071188717,0.0028542646071188717,0.0028542646071188717,0.0028542646071188717,0.0028542646071188717,0.0028542646071188717,0.0028542646071188717,0.0028542646071188717,0.0028542646071188717,0.0028542646071188717,0.0028542646071188717,0.0028542646071188717,0.0028542646071188717,0.0028542646071188717,0.0028542646071188717,0.0028542646071188717,0.0028542646071188717,0.0028542646071188717,0.0028542646071188717,0.0028542646071188717,0.0028542646071188717,0.0028542646071188717,0.0028542646071188717,0.0028542646071188717,0.0028542646071188717,0.0028542646071188717,0.0028542646071188717,0.0030221625251846875,0.0030221625251846875,0.0031900604432505038,0.0031900604432505038,0.0031900604432505038,0.0031900604432505038,0.0031900604432505038,0.0031900604432505038,0.0031900604432505038,0.0031900604432505038,0.0031900604432505038,0.0031900604432505038,0.0031900604432505038,0.0031900604432505038,0.0031900604432505038,0.0031900604432505038,0.0031900604432505038,0.0031900604432505038,0.0031900604432505038,0.0031900604432505038,0.0031900604432505038,0.0031900604432505038,0.0031900604432505038,0.0031900604432505038,0.0031900604432505038,0.0031900604432505038,0.0031900604432505038,0.0031900604432505038,0.0031900604432505038,0.0031900604432505038,0.0031900604432505038,0.0031900604432505038,0.0031900604432505038,0.0031900604432505038,0.0031900604432505038,0.0031900604432505038,0.0031900604432505038,0.0031900604432505038,0.0031900604432505038,0.0031900604432505038,0.0031900604432505038,0.0031900604432505038,0.0031900604432505038,0.0031900604432505038,0.0031900604432505038,0.0031900604432505038,0.0031900604432505038,0.0031900604432505038,0.0031900604432505038,0.0031900604432505038,0.0031900604432505038,0.0031900604432505038,0.0031900604432505038,0.0031900604432505038,0.0031900604432505038,0.0031900604432505038,0.0031900604432505038,0.0031900604432505038,0.0031900604432505038,0.0031900604432505038,0.0031900604432505038,0.0031900604432505038,0.0031900604432505038,0.0031900604432505038,0.0031900604432505038,0.0031900604432505038,0.0031900604432505038,0.0031900604432505038,0.0031900604432505038,0.0031900604432505038,0.0033579583613163196,0.0033579583613163196,0.0033579583613163196,0.0033579583613163196,0.0033579583613163196,0.0033579583613163196,0.0033579583613163196,0.0033579583613163196,0.0033579583613163196,0.003525856279382136,0.003525856279382136,0.003525856279382136,0.003525856279382136,0.003525856279382136,0.003525856279382136,0.003525856279382136,0.0036937541974479517,0.0036937541974479517,0.0036937541974479517,0.0036937541974479517,0.0036937541974479517,0.0036937541974479517,0.0036937541974479517,0.0036937541974479517,0.0036937541974479517,0.0036937541974479517,0.0036937541974479517,0.0036937541974479517,0.0036937541974479517,0.0036937541974479517,0.0036937541974479517,0.0036937541974479517,0.0038616521155137675,0.0038616521155137675,0.0038616521155137675,0.0038616521155137675,0.004029550033579583,0.004029550033579583,0.004029550033579583,0.004029550033579583,0.004029550033579583,0.004029550033579583,0.004029550033579583,0.004029550033579583,0.004029550033579583,0.004029550033579583,0.004029550033579583,0.004029550033579583,0.004029550033579583,0.004029550033579583,0.004029550033579583,0.004029550033579583,0.0041974479516454,0.0041974479516454,0.004365345869711216,0.004365345869711216,0.004533243787777031,0.004533243787777031,0.004533243787777031,0.004533243787777031,0.004533243787777031,0.004533243787777031,0.004533243787777031,0.004533243787777031,0.004533243787777031,0.004533243787777031,0.004533243787777031,0.004533243787777031,0.004533243787777031,0.004533243787777031,0.004533243787777031,0.004533243787777031,0.004533243787777031,0.0047011417058428475,0.0047011417058428475,0.0047011417058428475,0.004869039623908664,0.004869039623908664,0.004869039623908664,0.004869039623908664,0.004869039623908664,0.004869039623908664,0.004869039623908664,0.004869039623908664,0.004869039623908664,0.005036937541974479,0.005036937541974479,0.005372733378106112,0.005372733378106112,0.005372733378106112,0.005372733378106112,0.005372733378106112,0.005540631296171927,0.005540631296171927,0.005540631296171927,0.005540631296171927,0.005540631296171927,0.005540631296171927,0.005708529214237743,0.005708529214237743,0.005708529214237743,0.005708529214237743,0.00587642713230356,0.00587642713230356,0.00587642713230356,0.00587642713230356,0.00587642713230356,0.00587642713230356,0.00587642713230356,0.006212222968435191,0.006212222968435191,0.006212222968435191,0.006212222968435191,0.006212222968435191,0.006212222968435191,0.0063801208865010076,0.0063801208865010076,0.0063801208865010076,0.006548018804566823,0.006548018804566823,0.006548018804566823,0.006548018804566823,0.006548018804566823,0.006548018804566823,0.006548018804566823,0.006548018804566823,0.006548018804566823,0.006548018804566823,0.006548018804566823,0.006548018804566823,0.006548018804566823,0.006548018804566823,0.006548018804566823,0.006548018804566823,0.006548018804566823,0.006548018804566823,0.006548018804566823,0.006715916722632639,0.006715916722632639,0.006715916722632639,0.006715916722632639,0.006715916722632639,0.0068838146406984555,0.0068838146406984555,0.0068838146406984555,0.0068838146406984555,0.0068838146406984555,0.0068838146406984555,0.0068838146406984555,0.0068838146406984555,0.0068838146406984555,0.0068838146406984555,0.007051712558764272,0.007051712558764272,0.007051712558764272,0.007051712558764272,0.007051712558764272,0.007051712558764272,0.007219610476830087,0.007219610476830087,0.007219610476830087,0.007219610476830087,0.007387508394895903,0.007387508394895903,0.007723304231027535,0.007723304231027535,0.007723304231027535,0.007723304231027535,0.00789120214909335,0.00789120214909335,0.00789120214909335,0.00789120214909335,0.00789120214909335,0.00789120214909335,0.00789120214909335,0.00789120214909335,0.008059100067159167,0.008059100067159167,0.008059100067159167,0.008226997985224983,0.008226997985224983,0.008226997985224983,0.008226997985224983,0.008226997985224983,0.008226997985224983,0.008226997985224983,0.008226997985224983,0.008226997985224983,0.008226997985224983,0.008226997985224983,0.008226997985224983,0.008226997985224983,0.008226997985224983,0.008226997985224983,0.008226997985224983,0.008226997985224983,0.008226997985224983,0.0083948959032908,0.0083948959032908,0.0083948959032908,0.0083948959032908,0.008562793821356616,0.008562793821356616,0.008562793821356616,0.008730691739422432,0.008730691739422432,0.008730691739422432,0.008730691739422432,0.008730691739422432,0.008730691739422432,0.009234385493619879,0.009234385493619879,0.009234385493619879,0.009234385493619879,0.009234385493619879,0.009402283411685695,0.009402283411685695,0.009570181329751511,0.009570181329751511,0.009905977165883144,0.009905977165883144,0.009905977165883144,0.009905977165883144,0.009905977165883144,0.009905977165883144,0.009905977165883144,0.009905977165883144,0.010073875083948958,0.010073875083948958,0.010073875083948958,0.010241773002014775,0.010241773002014775,0.010241773002014775,0.010241773002014775,0.010241773002014775,0.010241773002014775,0.010241773002014775,0.010241773002014775,0.010241773002014775,0.010241773002014775,0.010409670920080591,0.010409670920080591,0.010409670920080591,0.010409670920080591,0.010409670920080591,0.010409670920080591,0.010409670920080591,0.010409670920080591,0.010409670920080591,0.010409670920080591,0.010409670920080591,0.010409670920080591,0.010409670920080591,0.010409670920080591,0.010409670920080591,0.010745466756212223,0.010745466756212223,0.010745466756212223,0.010745466756212223,0.010745466756212223,0.01091336467427804,0.01091336467427804,0.01091336467427804,0.01091336467427804,0.011081262592343854,0.011081262592343854,0.011081262592343854,0.011081262592343854,0.01124916051040967,0.01124916051040967,0.01124916051040967,0.01124916051040967,0.01124916051040967,0.011417058428475487,0.011417058428475487,0.011417058428475487,0.011584956346541303,0.01208865010073875,0.01208865010073875,0.01208865010073875,0.012256548018804566,0.012256548018804566,0.012256548018804566,0.012256548018804566,0.012256548018804566,0.012256548018804566,0.012424445936870383,0.012424445936870383,0.012424445936870383,0.012424445936870383,0.012424445936870383,0.012592343854936199,0.012592343854936199,0.012592343854936199,0.012592343854936199,0.012592343854936199,0.012592343854936199,0.012592343854936199,0.012760241773002015,0.012760241773002015,0.012760241773002015,0.012760241773002015,0.012760241773002015,0.012928139691067831,0.012928139691067831,0.013096037609133646,0.013096037609133646,0.013096037609133646,0.013263935527199462,0.013263935527199462,0.013263935527199462,0.013263935527199462,0.013263935527199462,0.013431833445265278,0.013431833445265278,0.013431833445265278,0.013431833445265278,0.013431833445265278,0.013431833445265278,0.013431833445265278,0.013599731363331095,0.013599731363331095,0.013767629281396911,0.013767629281396911,0.013767629281396911,0.013767629281396911,0.013767629281396911,0.013935527199462727,0.013935527199462727,0.013935527199462727,0.014103425117528543,0.014103425117528543,0.014103425117528543,0.014271323035594358,0.014271323035594358,0.014271323035594358,0.014271323035594358,0.014271323035594358,0.014439220953660174,0.014439220953660174,0.014439220953660174,0.014439220953660174,0.01460711887172599,0.01460711887172599,0.014942914707857623,0.014942914707857623,0.014942914707857623,0.014942914707857623,0.014942914707857623,0.014942914707857623,0.01511081262592344,0.01511081262592344,0.015278710543989254,0.015278710543989254,0.015278710543989254,0.015278710543989254,0.015278710543989254,0.015278710543989254,0.015278710543989254,0.015278710543989254,0.01544660846205507,0.01544660846205507,0.01544660846205507,0.01544660846205507,0.01544660846205507,0.015614506380120886,0.015614506380120886,0.015614506380120886,0.015614506380120886,0.0157824042981867,0.01595030221625252,0.01595030221625252,0.01628609805238415,0.01628609805238415,0.016453995970449966,0.016453995970449966,0.016453995970449966,0.016621893888515784,0.016621893888515784,0.016621893888515784,0.016621893888515784,0.0167897918065816,0.0167897918065816,0.016957689724647413,0.016957689724647413,0.016957689724647413,0.016957689724647413,0.016957689724647413,0.01712558764271323,0.01712558764271323,0.01712558764271323,0.01712558764271323,0.01712558764271323,0.017461383478844864,0.017461383478844864,0.017629281396910678,0.017629281396910678,0.017629281396910678,0.017629281396910678,0.017629281396910678,0.017629281396910678,0.017629281396910678,0.017629281396910678,0.017797179314976493,0.01796507723304231,0.01796507723304231,0.01796507723304231,0.018132975151108125,0.018132975151108125,0.018132975151108125,0.018132975151108125,0.018132975151108125,0.018132975151108125,0.018132975151108125,0.018132975151108125,0.018132975151108125,0.018300873069173943,0.018300873069173943,0.018300873069173943,0.018300873069173943,0.018300873069173943,0.018300873069173943,0.018300873069173943,0.018468770987239758,0.018468770987239758,0.01880456682337139,0.01880456682337139,0.019140362659503023,0.019140362659503023,0.019140362659503023,0.019308260577568837,0.019308260577568837,0.019308260577568837,0.019308260577568837,0.019308260577568837,0.019308260577568837,0.019308260577568837,0.019308260577568837,0.019308260577568837,0.019476158495634655,0.019476158495634655,0.01964405641370047,0.01964405641370047,0.01964405641370047,0.01964405641370047,0.01964405641370047,0.01964405641370047,0.01964405641370047,0.01964405641370047,0.01964405641370047,0.01964405641370047,0.019979852249832102,0.019979852249832102,0.020147750167897917,0.020147750167897917,0.020147750167897917,0.020315648085963735,0.020315648085963735,0.020315648085963735,0.020315648085963735,0.020315648085963735,0.020315648085963735,0.02048354600402955,0.02048354600402955,0.020819341840161182,0.020819341840161182,0.020987239758226996,0.020987239758226996,0.020987239758226996,0.020987239758226996,0.020987239758226996,0.021155137676292814,0.021155137676292814,0.021155137676292814,0.021155137676292814,0.021155137676292814,0.021155137676292814,0.021155137676292814,0.02132303559435863,0.02132303559435863,0.021490933512424447,0.021490933512424447,0.02182672934855608,0.02182672934855608,0.02182672934855608,0.02182672934855608,0.021994627266621894,0.021994627266621894,0.02216252518468771,0.02216252518468771,0.022330423102753526,0.02249832102081934,0.02249832102081934,0.022834116856950974,0.022834116856950974,0.022834116856950974,0.022834116856950974,0.022834116856950974,0.022834116856950974,0.023169912693082606,0.023169912693082606,0.023169912693082606,0.023169912693082606,0.02333781061114842,0.02333781061114842,0.02333781061114842,0.02333781061114842,0.02333781061114842,0.02350570852921424,0.02350570852921424,0.02384150436534587,0.02384150436534587,0.024009402283411686,0.024009402283411686,0.024009402283411686,0.024009402283411686,0.0241773002014775,0.0241773002014775,0.024345198119543318,0.024345198119543318,0.024513096037609133,0.024513096037609133,0.024513096037609133,0.024513096037609133,0.024513096037609133,0.024513096037609133,0.024513096037609133,0.024513096037609133,0.02468099395567495,0.02468099395567495,0.02468099395567495,0.02468099395567495,0.02468099395567495,0.02468099395567495,0.025016789791806583,0.025016789791806583,0.025184687709872398,0.025184687709872398,0.025184687709872398,0.025352585627938212,0.025352585627938212,0.025352585627938212,0.02552048354600403,0.02552048354600403,0.025856279382135663,0.025856279382135663,0.025856279382135663,0.025856279382135663,0.025856279382135663,0.025856279382135663,0.025856279382135663,0.025856279382135663,0.02635997313633311,0.02635997313633311,0.026695768972464742,0.026695768972464742,0.026863666890530557,0.026863666890530557,0.026863666890530557,0.027031564808596375,0.027031564808596375,0.02719946272666219,0.02719946272666219,0.02719946272666219,0.02719946272666219,0.02719946272666219,0.02719946272666219,0.027367360644728004,0.027367360644728004,0.027535258562793822,0.027703156480859636,0.027703156480859636,0.027703156480859636,0.027703156480859636,0.027871054398925454,0.02803895231699127,0.0283747481531229,0.028542646071188716,0.028542646071188716,0.028710543989254534,0.028710543989254534,0.028710543989254534,0.02887844190732035,0.02887844190732035,0.02887844190732035,0.02887844190732035,0.029046339825386167,0.029046339825386167,0.029046339825386167,0.029046339825386167,0.029046339825386167,0.029046339825386167,0.02921423774345198,0.02921423774345198,0.02921423774345198,0.02921423774345198,0.02921423774345198,0.02921423774345198,0.029382135661517796,0.029382135661517796,0.029550033579583614,0.029550033579583614,0.029885829415715246,0.029885829415715246,0.03005372733378106,0.03005372733378106,0.03005372733378106,0.03005372733378106,0.03022162525184688,0.03022162525184688,0.03022162525184688,0.030389523169912693,0.030389523169912693,0.030389523169912693,0.030557421087978508,0.030557421087978508,0.030725319006044326,0.030725319006044326,0.03089321692411014,0.03089321692411014,0.031061114842175958,0.031061114842175958,0.03139691067830759,0.03139691067830759,0.03139691067830759,0.0315648085963734,0.032068502350570856,0.03223640026863667,0.03223640026863667,0.03223640026863667,0.03223640026863667,0.03223640026863667,0.03223640026863667,0.03223640026863667,0.03223640026863667,0.032404298186702485,0.0325721961047683,0.0325721961047683,0.032740094022834114,0.03307588985896575,0.03307588985896575,0.03324378777703157,0.03324378777703157,0.03324378777703157,0.03324378777703157,0.03324378777703157,0.03324378777703157,0.03324378777703157,0.03341168569509738,0.03341168569509738,0.0335795836131632,0.0335795836131632,0.0335795836131632,0.033747481531229015,0.033747481531229015,0.033747481531229015,0.033915379449294826,0.033915379449294826,0.034083277367360644,0.034083277367360644,0.034083277367360644,0.034083277367360644,0.03458697112155809,0.03475486903962391,0.03475486903962391,0.03492276695768973,0.03492276695768973,0.03509066487575554,0.03509066487575554,0.035258562793821356,0.035258562793821356,0.035426460711887174,0.035426460711887174,0.035426460711887174,0.035594358629952985,0.035594358629952985,0.0357622565480188,0.0357622565480188,0.03593015446608462,0.03593015446608462,0.03609805238415044,0.03609805238415044,0.03626595030221625,0.03626595030221625,0.03643384822028207,0.03643384822028207,0.036601746138347886,0.036601746138347886,0.0367696440564137,0.0367696440564137,0.0367696440564137,0.0367696440564137,0.0367696440564137,0.0367696440564137,0.036937541974479515,0.036937541974479515,0.03710543989254533,0.03710543989254533,0.03710543989254533,0.03727333781061115,0.03727333781061115,0.03744123572867696,0.03744123572867696,0.0377770315648086,0.0377770315648086,0.03811282740094023,0.03811282740094023,0.03844862323707186,0.038616521155137674,0.038616521155137674,0.03878441907320349,0.03895231699126931,0.03895231699126931,0.03912021490933512,0.03912021490933512,0.03928811282740094,0.03928811282740094,0.03928811282740094,0.03928811282740094,0.03928811282740094,0.03928811282740094,0.03945601074546676,0.03945601074546676,0.039623908663532575,0.039791806581598387,0.039791806581598387,0.039959704499664205,0.039959704499664205,0.04012760241773002,0.04046339825386165,0.04063129617192747,0.04063129617192747,0.04079919408999328,0.04079919408999328,0.04079919408999328,0.04079919408999328,0.0409670920080591,0.041302887844190735,0.041302887844190735,0.041470785762256546,0.041470785762256546,0.04197447951645399,0.04197447951645399,0.04247817327065145,0.04247817327065145,0.04247817327065145,0.04264607118871726,0.042813969106783076,0.042813969106783076,0.042813969106783076,0.042813969106783076,0.042981867024848894,0.042981867024848894,0.042981867024848894,0.042981867024848894,0.04331766286098052,0.04331766286098052,0.04348556077904634,0.04348556077904634,0.04348556077904634,0.04365345869711216,0.04365345869711216,0.04382135661517797,0.04382135661517797,0.04382135661517797,0.04382135661517797,0.044157152451309606,0.044157152451309606,0.044157152451309606,0.044157152451309606,0.04432505036937542,0.04432505036937542,0.044492948287441235,0.044492948287441235,0.04482874412357287,0.04482874412357287,0.04482874412357287,0.04482874412357287,0.04482874412357287,0.04482874412357287,0.04499664204163868,0.04499664204163868,0.04499664204163868,0.04499664204163868,0.0451645399597045,0.0451645399597045,0.04550033579583613,0.04566823371390195,0.04566823371390195,0.045836131631967765,0.045836131631967765,0.046171927468099394,0.046171927468099394,0.04633982538616521,0.04633982538616521,0.04633982538616521,0.04633982538616521,0.04650772330423103,0.04650772330423103,0.04667562122229684,0.04667562122229684,0.04701141705842848,0.04701141705842848,0.04717931497649429,0.04717931497649429,0.047515110812625924,0.047515110812625924,0.047515110812625924,0.047515110812625924,0.047515110812625924,0.04768300873069174,0.04768300873069174,0.04785090664875755,0.04785090664875755,0.04801880456682337,0.04818670248488919,0.04852249832102082,0.04852249832102082,0.048690396239086636,0.048858294157152454,0.049026192075218265,0.049026192075218265,0.04919408999328408,0.04919408999328408,0.0493619879113499,0.0493619879113499,0.04952988582941571,0.04952988582941571,0.04969778374748153,0.04969778374748153,0.04986568166554735,0.04986568166554735,0.04986568166554735,0.04986568166554735,0.050033579583613166,0.050033579583613166,0.050033579583613166,0.050033579583613166,0.050033579583613166,0.050033579583613166,0.050033579583613166,0.050033579583613166,0.050033579583613166,0.05020147750167898,0.05020147750167898,0.050369375419744795,0.050369375419744795,0.050369375419744795,0.05053727333781061,0.05053727333781061,0.05087306917394224,0.05087306917394224,0.05104096709200806,0.05104096709200806,0.05120886501007388,0.05120886501007388,0.05120886501007388,0.05137676292813969,0.05154466084620551,0.05154466084620551,0.051712558764271326,0.051712558764271326,0.051712558764271326,0.052048354600402955,0.052048354600402955,0.0525520483546004,0.0525520483546004,0.05271994627266622,0.05271994627266622,0.05288784419073204,0.05288784419073204,0.05322364002686367,0.053559435862995296,0.05423102753525856,0.05423102753525856,0.05439892545332438,0.05439892545332438,0.0545668233713902,0.05473472128945601,0.05473472128945601,0.05473472128945601,0.054902619207521826,0.054902619207521826,0.055070517125587644,0.055070517125587644,0.055070517125587644,0.05523841504365346,0.05523841504365346,0.05540631296171927,0.05540631296171927,0.05557421087978509,0.05557421087978509,0.05574210879785091,0.05574210879785091,0.05591000671591672,0.056245802552048356,0.056245802552048356,0.056245802552048356,0.056413700470114174,0.056413700470114174,0.056581598388179985,0.056581598388179985,0.05691739422431162,0.05691739422431162,0.05708529214237743,0.05708529214237743,0.05725319006044325,0.05725319006044325,0.05758898589657488,0.0577568838146407,0.05809267965077233,0.05809267965077233,0.058260577568838144,0.058260577568838144,0.05859637340496978,0.05859637340496978,0.05893216924110141,0.05893216924110141,0.05893216924110141,0.05910006715916723,0.05910006715916723,0.059267965077233045,0.059267965077233045,0.059435862995298856,0.059603760913364674,0.059603760913364674,0.06027535258562794,0.06027535258562794,0.06027535258562794,0.06027535258562794,0.06044325050369376,0.06044325050369376,0.06061114842175957,0.06061114842175957,0.060779046339825386,0.060946944257891204,0.060946944257891204,0.061114842175957015,0.061114842175957015,0.061114842175957015,0.06128274009402283,0.06128274009402283,0.06178643384822028,0.062122229684351916,0.062122229684351916,0.062122229684351916,0.06279382135661518,0.06279382135661518,0.062961719274681,0.062961719274681,0.0631296171927468,0.0631296171927468,0.06346541302887844,0.06346541302887844,0.06363331094694426,0.06363331094694426,0.06380120886501008,0.06380120886501008,0.06413700470114171,0.06413700470114171,0.06430490261920752,0.06430490261920752,0.06447280053727333,0.06447280053727333,0.06480859637340497,0.06480859637340497,0.06531229012760242,0.06548018804566823,0.06548018804566823,0.0661517797179315,0.0661517797179315,0.06631967763599732,0.06631967763599732,0.06648757555406314,0.06682337139019476,0.06682337139019476,0.06682337139019476,0.06682337139019476,0.06699126930826058,0.06699126930826058,0.06749496306245803,0.06749496306245803,0.06783075889858965,0.06783075889858965,0.06816655473472129,0.06816655473472129,0.06883814640698456,0.06883814640698456,0.06900604432505036,0.069341840161182,0.069341840161182,0.06950973807924782,0.07001343183344527,0.0703492276695769,0.0703492276695769,0.07068502350570853,0.07068502350570853,0.07085292142377435,0.07085292142377435,0.07118871725990597,0.07118871725990597,0.07135661517797179,0.07135661517797179,0.07169241101410342,0.07186030893216924,0.07186030893216924,0.07202820685023506,0.07202820685023506,0.07219610476830088,0.07236400268636668,0.07303559435862995,0.07303559435862995,0.07320349227669577,0.0735392881128274,0.07370718603089321,0.07370718603089321,0.07404298186702485,0.07404298186702485,0.0745466756212223,0.0747145735392881,0.0747145735392881,0.07488247145735392,0.07488247145735392,0.07521826729348556,0.07521826729348556,0.07521826729348556,0.07521826729348556,0.0755540631296172,0.0755540631296172,0.07572196104768301,0.07572196104768301,0.07588985896574882,0.07588985896574882,0.07605775688381464,0.07605775688381464,0.07639355271994627,0.07689724647414373,0.07689724647414373,0.07723304231027535,0.07723304231027535,0.07740094022834117,0.07740094022834117,0.0777367360644728,0.07807253190060444,0.07807253190060444,0.07807253190060444,0.07824042981867024,0.07824042981867024,0.07824042981867024,0.07840832773673606,0.07840832773673606,0.07857622565480188,0.07891202149093351,0.07891202149093351,0.07924781732706515,0.07924781732706515,0.07941571524513096,0.07941571524513096,0.07991940899932841,0.07991940899932841,0.08008730691739423,0.08008730691739423,0.08025520483546005,0.08025520483546005,0.08075889858965749,0.08075889858965749,0.0809267965077233,0.0809267965077233,0.0809267965077233,0.0809267965077233,0.08126259234385494,0.08126259234385494,0.08159838817998656,0.08176628609805238,0.08176628609805238,0.08176628609805238,0.0819341840161182,0.0819341840161182,0.08210208193418402,0.08210208193418402,0.08226997985224983,0.08226997985224983,0.08226997985224983,0.08226997985224983,0.08243787777031565,0.08243787777031565,0.08260577568838147,0.08260577568838147,0.08361316319677636,0.08378106111484218,0.08378106111484218,0.08394895903290799,0.08394895903290799,0.08445265278710544,0.08478844862323708,0.08478844862323708,0.0851242444593687,0.0851242444593687,0.08529214237743452,0.08529214237743452,0.08546004029550033,0.08596373404969779,0.08596373404969779,0.08629952988582941,0.08629952988582941,0.08646742780389523,0.08646742780389523,0.08680322364002686,0.08680322364002686,0.08680322364002686,0.08697112155809268,0.08697112155809268,0.08730691739422432,0.08747481531229012,0.08747481531229012,0.08764271323035594,0.08764271323035594,0.08781061114842176,0.08781061114842176,0.08797850906648758,0.08848220282068503,0.08865010073875083,0.08898589657488247,0.08898589657488247,0.08948959032907992,0.08965748824714574,0.08965748824714574,0.09016118200134318,0.09016118200134318,0.09049697783747482,0.09049697783747482,0.09150436534586971,0.09150436534586971,0.09167226326393553,0.09217595701813297,0.09217595701813297,0.09234385493619879,0.0925117528542646,0.0925117528542646,0.09301544660846206,0.09318334452652786,0.09335124244459368,0.09335124244459368,0.09385493619879114,0.09385493619879114,0.09402283411685695,0.09402283411685695,0.09419073203492277,0.09419073203492277,0.0945265278710544,0.0945265278710544,0.09469442578912021,0.09469442578912021,0.09486232370718603,0.09486232370718603,0.09503022162525185,0.09503022162525185,0.09553391537944929,0.09553391537944929,0.09586971121558092,0.09586971121558092,0.09620550705171256,0.09620550705171256,0.09637340496977838,0.09637340496977838,0.09754869039623909,0.09754869039623909,0.09771658831430491,0.09771658831430491,0.09788448623237071,0.09788448623237071,0.09805238415043653,0.09822028206850235,0.09838817998656817,0.09838817998656817,0.0987239758226998,0.09889187374076562,0.09922766957689724,0.0997313633310947,0.0997313633310947,0.10006715916722633,0.10040295500335795,0.10057085292142377,0.10073875083948959,0.10073875083948959,0.10090664875755541,0.10141034251175285,0.10174613834788448,0.10174613834788448,0.10208193418401612,0.10241773002014776,0.10258562793821356,0.10258562793821356,0.10275352585627938,0.10275352585627938,0.10308932169241102,0.10359301544660846,0.10359301544660846,0.10392881128274009,0.10426460711887173,0.10426460711887173,0.10443250503693755,0.10443250503693755,0.10460040295500336,0.10460040295500336,0.10527199462726662,0.10543989254533244,0.10543989254533244,0.10594358629952988,0.10594358629952988,0.10644728005372733,0.10644728005372733,0.10695097380792479,0.10711887172599059,0.10779046339825386,0.10795836131631968,0.10795836131631968,0.1082941571524513,0.1082941571524513,0.10879785090664876,0.10879785090664876,0.1091336467427804,0.1091336467427804,0.10980523841504365,0.10980523841504365,0.11014103425117529,0.11014103425117529,0.1103089321692411,0.11114842175957018,0.1123237071860309,0.1123237071860309,0.11249160510409671,0.11249160510409671,0.11265950302216253,0.11299529885829415,0.11316319677635997,0.11333109469442579,0.11333109469442579,0.1134989926124916,0.1134989926124916,0.11400268636668906,0.11400268636668906,0.11433848220282068,0.11433848220282068,0.11484217595701814,0.11517797179314976,0.11517797179314976,0.1155137676292814,0.1155137676292814,0.11568166554734721,0.11568166554734721,0.11618535930154467,0.11618535930154467,0.11702484889187374,0.11736064472800538,0.11736064472800538,0.11752854264607118,0.11752854264607118,0.11803223640026864,0.11836803223640027,0.1187038280725319,0.1187038280725319,0.11903962390866353,0.11903962390866353,0.11920752182672935,0.11920752182672935,0.12004701141705842,0.12038280725319006,0.1207186030893217,0.1207186030893217,0.12088650100738751,0.12088650100738751,0.12088650100738751,0.12088650100738751,0.12155809267965077,0.12155809267965077,0.12206178643384823,0.12206178643384823,0.12222968435191403,0.12256548018804567,0.12357286769644056,0.12357286769644056,0.12374076561450638,0.12424445936870383,0.12441235728676965,0.12441235728676965,0.12491605104096709,0.12525184687709873,0.12558764271323036,0.12609133646742782,0.12659503022162524,0.12693082605775688,0.1270987239758227,0.1270987239758227,0.12743451981195433,0.12743451981195433,0.12760241773002015,0.12777031564808597,0.12777031564808597,0.1279382135661518,0.1279382135661518,0.1281061114842176,0.1281061114842176,0.12844190732034924,0.12860980523841503,0.12877770315648085,0.12877770315648085,0.12995298858294158,0.1302887844190732,0.13045668233713903,0.13079247817327064,0.13196776359973136,0.13196776359973136,0.13213566151779718,0.13213566151779718,0.13263935527199464,0.13263935527199464,0.13280725319006045,0.1334788448623237,0.13364674278038952,0.13364674278038952,0.13415043653458697,0.13465413028878442,0.1353257219610477,0.13616521155137676,0.1365010073875084,0.13683680322364003,0.13683680322364003,0.13700470114170585,0.13700470114170585,0.13734049697783748,0.1375083948959033,0.13817998656816655,0.13817998656816655,0.13885157824042982,0.13985896574882473,0.14002686366689054,0.14053055742108797,0.1408663532572196,0.1408663532572196,0.14103425117528542,0.14137004701141706,0.14187374076561451,0.14271323035594358,0.14271323035594358,0.1430490261920752,0.14321692411014103,0.14321692411014103,0.14355271994627267,0.14372061786433848,0.14372061786433848,0.14405641370047012,0.14405641370047012,0.14439220953660176,0.14472800537273336,0.145063801208865,0.14523169912693082,0.14523169912693082,0.146910678307589,0.146910678307589,0.1470785762256548,0.14775016789791806,0.14842175957018133,0.1489254533243788,0.1489254533243788,0.14926124916051042,0.14926124916051042,0.14993284083277367,0.15060443250503694,0.15060443250503694,0.15077233042310276,0.15077233042310276,0.1511081262592344,0.1511081262592344,0.1512760241773002,0.1512760241773002,0.15144392209536603,0.15144392209536603,0.15177971793149764,0.15177971793149764,0.1522834116856951,0.1522834116856951,0.15278710543989255,0.15345869711215582,0.15396239086635324,0.15496977837474815,0.15496977837474815,0.15513767629281397,0.15513767629281397,0.1554734721289456,0.1554734721289456,0.15564137004701142,0.15597716588314306,0.15631296171927467,0.1566487575554063,0.1566487575554063,0.15715245130960376,0.1576561450638012,0.15799194089993285,0.15815983881799867,0.1588314304902619,0.15950302216252518,0.15950302216252518,0.16000671591672264,0.16034251175285427,0.1606783075889859,0.16134989926124915,0.16218938885157824,0.16286098052384151,0.16336467427803894,0.16336467427803894,0.1648757555406313,0.1648757555406313,0.16537944929482876,0.16571524513096036,0.16588314304902618,0.16638683680322364,0.16773002014775018,0.1680658159838818,0.16873740765614506,0.1690732034922767,0.16924110141034251,0.16957689724647415,0.1699126930826058,0.17058428475486903,0.17058428475486903,0.17092008059100067,0.17142377434519812,0.17175957018132976,0.17192746809939558,0.17192746809939558,0.1722632639355272,0.17259905977165882,0.17259905977165882,0.17293485560779046,0.1732706514439221,0.17394224311618536,0.174278038952317,0.17478173270651443,0.17494963062458024,0.17562122229684352,0.17562122229684352,0.17578912021490933,0.17612491605104097,0.17679650772330424,0.17679650772330424,0.17730020147750167,0.1776359973136333,0.17797179314976494,0.17830758898589658,0.1786433848220282,0.1786433848220282,0.17897918065815985,0.17948287441235727,0.17948287441235727,0.1796507723304231,0.18015446608462055,0.18049026192075218,0.18116185359301545,0.1814976494291471,0.18250503693754197,0.1828408327736736,0.18334452652787106,0.18401611820013433,0.18418401611820012,0.18418401611820012,0.18519140362659503,0.18535930154466085,0.1858629952988583,0.18619879113498994,0.18687038280725318,0.18687038280725318,0.187038280725319,0.187038280725319,0.18754197447951645,0.18754197447951645,0.1880456682337139,0.18838146406984554,0.1890530557421088,0.1890530557421088,0.18938885157824042,0.1900604432505037,0.1900604432505037,0.1912357286769644,0.19358629952988582,0.19610476830087306,0.19627266621893888,0.19627266621893888,0.1974479516453996,0.19778374748153124,0.19828744123572867,0.19828744123572867,0.1986232370718603,0.1996306245802552,0.1996306245802552,0.20047011417058427,0.20047011417058427,0.20147750167897918,0.20147750167897918,0.2024848891873741,0.20298858294157152,0.20399597044996642,0.20433176628609806,0.20483546004029551,0.20483546004029551,0.20550705171255876,0.20617864338482203,0.20617864338482203,0.2068502350570853,0.2068502350570853,0.20701813297515112,0.20735392881128273,0.20852921423774345,0.2088650100738751,0.2090329079919409,0.2090329079919409,0.20920080591000673,0.20953660174613833,0.20987239758226997,0.21037609133646742,0.21054398925453324,0.2110476830087307,0.21121558092679651,0.21155137676292815,0.2122229684351914,0.2122229684351914,0.21255876427132303,0.21255876427132303,0.21339825386165212,0.21373404969778376,0.214405641370047,0.214405641370047,0.21474143720617864,0.21558092679650773,0.21574882471457354,0.21608462055070518,0.216252518468771,0.2165883143049026,0.21759570181329752,0.21809939556749497,0.2182672934855608,0.2187709872397582,0.21910678307588985,0.21910678307588985,0.2196104768300873,0.2196104768300873,0.22028206850235058,0.22145735392881127,0.22196104768300873,0.22229684351914036,0.22397582269979852,0.22414372061786433,0.22447951645399597,0.2248153122901276,0.22515110812625924,0.2256548018804567,0.22615849563465412,0.22649429147078576,0.22649429147078576,0.2268300873069174,0.22716588314304903,0.22750167897918067,0.22750167897918067,0.22766957689724648,0.22800537273337812,0.22834116856950973,0.22867696440564136,0.22918065815983882,0.23018804566823373,0.23237071860308933,0.23270651443922094,0.23287441235728676,0.23287441235728676,0.23404969778374748,0.23455339153794494,0.23572867696440564,0.2374076561450638,0.23791134989926124,0.23824714573539288,0.2384150436534587,0.2392545332437878,0.24009402283411685,0.2405977165883143,0.24076561450638012,0.24110141034251176,0.24177300201477503,0.24294828744123573,0.24445936870382806,0.2447951645399597,0.24613834788448624,0.24647414372061788,0.24664204163868367,0.2469778374748153,0.24815312290127603,0.24832102081934185,0.2489926124916051,0.24949630624580255,0.25,0.25033579583613164,0.2508394895903291,0.2523505708529214,0.25268636668905303,0.25285426460711885,0.2531900604432505,0.2535258562793821,0.25386165211551376,0.2541974479516454,0.25470114170584285,0.2550369375419745,0.25638012088650103,0.25671591672263266,0.25705171255876424,0.2575554063129617,0.25789120214909333,0.2585627938213566,0.2595701813297515,0.2595701813297515,0.25973807924781733,0.2602417730020148,0.2614170584284755,0.2617528542646071,0.26225654801880455,0.2637676292813969,0.26410342511752855,0.2644392209536602,0.2654466084620551,0.26595030221625254,0.26611820013431836,0.26645399597044994,0.26662189388851576,0.2671255876427132,0.26746138347884485,0.27031564808596376,0.2708193418401612,0.2711551376762928,0.2719946272666219,0.27283411685695097,0.2731699126930826,0.27350570852921424,0.2738415043653459,0.27434519811954333,0.2750167897918066,0.2756883814640698,0.27602417730020146,0.2765278710543989,0.27686366689053055,0.2775352585627938,0.27787105439892545,0.2785426460711887,0.2793821356615178,0.27955003357958363,0.27988582941571527,0.2800537273337811,0.2800537273337811,0.28038952316991267,0.2807253190060443,0.2817327065144392,0.2842511752854265,0.2849227669576897,0.28525856279382134,0.2860980523841504,0.28643384822028206,0.28895231699126933,0.2909670920080591,0.29163868368032236,0.2951645399597045,0.2951645399597045,0.2953324378777703,0.29566823371390194,0.2961719274680994,0.29667562122229685,0.2971793149764943,0.2980188045668234,0.29919408999328406,0.29919408999328406,0.2995298858294157,0.29986568166554733,0.3005372733378106,0.30087306917394224,0.3015446608462055,0.30204835460040297,0.3023841504365346,0.3025520483546004,0.30288784419073206,0.3037273337810611,0.30624580255204836,0.30691739422431163,0.3074210879785091,0.3091000671591672,0.30926796507723303,0.3097716588314305,0.3099395567494963,0.31044325050369376,0.3107790463398254,0.31111484217595703,0.3116185359301545,0.3119543317662861,0.3124580255204836,0.31279382135661515,0.3132975151108126,0.3139691067830759,0.3141370047011417,0.31447280053727333,0.31548018804566824,0.3158159838817999,0.31631967763599733,0.31665547347212897,0.3168233713901948,0.31715916722632637,0.3173270651443922,0.3176628609805238,0.31783075889858964,0.3185023505708529,0.3191739422431162,0.319341840161182,0.31967763599731364,0.3201813297515111,0.3205171255876427,0.32169241101410345,0.32219610476830085,0.3228676964405641,0.32387508394895903,0.32421087978509067,0.3245466756212223,0.32488247145735394,0.32505036937541976,0.3253861652115514,0.3255540631296172,0.32605775688381466,0.3262256548018805,0.32656145063801206,0.3277367360644728,0.3280725319006044,0.3287441235728677,0.32907991940899933,0.32941571524513097,0.3297515110812626,0.3299194089993284,0.3305910006715917,0.3307588985896575,0.3310946944257891,0.33176628609805237,0.33260577568838146,0.3327736736064473,0.33361316319677636,0.3337810611148422,0.3341168569509738,0.33445265278710545,0.3347884486232371,0.3371390194761585,0.33764271323035594,0.3379785090664876,0.3383143049026192,0.3389858965748825,0.3391537944929483,0.33965748824714576,0.3398253861652116,0.34032907991940897,0.3406648757555406,0.34184016118200133,0.34217595701813297,0.3423438549361988,0.34284754869039624,0.3435191403626595,0.3443586299529886,0.34469442578912024,0.3450302216252518,0.3457018132975151,0.34603760913364673,0.34704499664204164,0.3473807924781733,0.3478844862323707,0.3483881799865682,0.34922766957689727,0.3498992612491605,0.35057085292142376,0.35124244459368703,0.35157824042981867,0.3519140362659503,0.35241773002014776,0.35409670920080594,0.35476830087306915,0.35678307588985897,0.35896574882471455,0.35913364674278037,0.359469442578912,0.35980523841504364,0.35980523841504364,0.3603089321692411,0.3603089321692411,0.3604768300873069,0.3611484217595702,0.3614842175957018,0.36685695097380794,0.3682001343183344,0.3687038280725319,0.3690396239086635,0.36920752182672933,0.36954331766286097,0.3697112155809268,0.3700470114170584,0.3705507051712559,0.3717259905977166,0.37206178643384824,0.37340496977837473,0.37374076561450637,0.3739086635325722,0.3749160510409671,0.37558764271323036,0.37642713230355945,0.3769308260577569,0.37726662189388854,0.3774345198119543,0.37793821356615176,0.3781061114842176,0.37860980523841503,0.3802887844190732,0.38062458025520485,0.3809603760913365,0.3812961719274681,0.3817998656816656,0.3828072531900604,0.38297515110812624,0.3834788448623237,0.38415043653458697,0.38482202820685024,0.3851578240429819,0.3854936198791135,0.38599731363331097,0.3865010073875084,0.3870047011417058,0.38734049697783746,0.38801208865010073,0.3895231699126931,0.39019476158495636,0.390530557421088,0.39086635325721963,0.39120214909335127,0.39153794492948285,0.3920416386836803,0.3928811282740094,0.39321692411014103,0.3947280053727334,0.39506380120886503,0.3955674949630625,0.39590329079919406,0.39657488247145734,0.3970785762256548,0.3974143720617864,0.39875755540631297,0.39959704499664206,0.3999328408327737,0.40026863666890533,0.40110812625923437,0.4031229012760242,0.40329079919409,0.40362659503022164,0.4049697783747482,0.40530557421087976,0.4064808596373405,0.4074882471457354,0.40782404298186703,0.4083277367360645,0.4100067159167226,0.4106783075889859,0.41134989926124915,0.4118535930154466,0.4125251846877099,0.4126930826057757,0.4138683680322364,0.4148757555406313,0.4152115513767629,0.41907320349227667,0.4194089993284083,0.4200805910006716,0.4204163868368032,0.42075218267293485,0.42092008059100067,0.4214237743451981,0.4244459368703828,0.4247817327065144,0.42511752854264606,0.4256212222968435,0.42595701813297515,0.42696440564137006,0.4271323035594359,0.42763599731363333,0.4281396910678308,0.42847548690396237,0.4296507723304231,0.4308260577568838,0.43216924110141036,0.43351242444593685,0.4338482202820685,0.43435191403626594,0.4346877098723976,0.4350235057085292,0.4360308932169241,0.43636668905305576,0.44039623908663533,0.44140362659503024,0.4417394224311619,0.4419073203492277,0.445265278710544,0.4477837474815312,0.4511417058428476,0.45433176628609806,0.4544996642041639,0.4548354600402955,0.45768972464741436,0.458025520483546,0.45852921423774345,0.4588650100738751,0.4590329079919409,0.45987239758227,0.46037609133646745,0.46071188717259903,0.4620550705171256,0.4630624580255205,0.4632303559435863,0.46356615177971794,0.4640698455339154,0.46457353928811285,0.4649093351242445,0.4654130288784419,0.4655809267965077,0.4664204163868368,0.4665883143049026,0.46709200805910006,0.4672599059771659,0.46776359973136333,0.4686030893216924,0.46893888515782406,0.4691067830758899,0.46977837474815315,0.47011417058428473,0.47028206850235055,0.4716252518468771,0.47212894560107455,0.4724647414372062,0.4749832102081934,0.4751511081262592,0.47565480188045667,0.47632639355271994,0.4766621893888516,0.4769979852249832,0.4776695768972465,0.4780053727333781,0.47834116856950976,0.47901276024177303,0.4793485560779046,0.47968435191403624,0.47985224983210206,0.4801880456682337,0.48069173942243115,0.4813633310946944,0.48237071860308933,0.48270651443922097,0.4837139019476159,0.48404969778374746,0.4845533915379449,0.48472128945601073,0.48505708529214236,0.4855607790463398,0.48589657488247145,0.4864002686366689,0.4870718603089322,0.48774345198119545,0.4885829415715245,0.4887508394895903,0.4895903290799194,0.49009402283411685,0.49110141034251176,0.4914372061786434,0.49177300201477503,0.49278038952316994,0.4931161853593015,0.49361987911349897,0.4939556749496306,0.4941235728676964,0.4947951645399597,0.49513096037609133,0.4956346541302888,0.49714573539288115,0.49781732706514437,0.498153122901276,0.5005036937541975,0.5008394895903291,0.5011752854264607,0.5015110812625924,0.501846877098724,0.5020147750167898,0.5038616521155138,0.5045332437877771,0.5055406312961719,0.5078912021490933,0.5087306917394224,0.5115849563465413,0.511920752182673,0.5124244459368704,0.5127602417730021,0.5130960376091337,0.5135997313633311,0.5141034251175285,0.5146071188717259,0.5149429147078576,0.515446608462055,0.5159503022162525,0.5166218938885158,0.5176292813969107,0.5219946272666219,0.5233378106111484,0.52367360644728,0.5241773002014775,0.5248488918737407,0.5250167897918065,0.525520483546004,0.5263599731363331,0.5268636668905305,0.5280389523169913,0.5282068502350571,0.5285426460711887,0.5287105439892545,0.5290463398253862,0.5295500335795836,0.5298858294157153,0.5302216252518469,0.5303895231699127,0.5307253190060444,0.531061114842176,0.5315648085963735,0.5319006044325051,0.5325721961047682,0.5330758898589657,0.533747481531229,0.5339153794492948,0.5344190732034922,0.5347548690396239,0.5354264607118872,0.5359301544660846,0.5367696440564137,0.537441235728677,0.5377770315648086,0.5386165211551377,0.5389523169912693,0.5399597044996642,0.5402955003357959,0.5407991940899933,0.541134989926125,0.5419744795164539,0.5421423774345198,0.5429818670248489,0.5436534586971121,0.5449966420416387,0.5456682337139019,0.5458361316319678,0.546507723304231,0.5466756212222968,0.5470114170584285,0.5478509066487576,0.5488582941571525,0.550201477501679,0.5513767629281396,0.5515446608462055,0.5520483546004029,0.5523841504365345,0.5538952316991269,0.5542310275352585,0.5545668233713902,0.5549026192075218,0.5552384150436535,0.5564137004701142,0.55658159838818,0.5574210879785091,0.5579247817327065,0.5585963734049698,0.5594358629952989,0.562961719274681,0.5634654130288784,0.5636333109469442,0.5643049026192075,0.5644728005372733,0.5653122901276024,0.5664875755540631,0.566655473472129,0.5678307588985897,0.568502350570853,0.5688381464069846,0.5695097380792478,0.5696776359973136,0.5706850235057085,0.5708529214237743,0.5711887172599059,0.5715245130960376,0.5721961047683009,0.5725319006044325,0.5730355943586299,0.5743787777031565,0.5750503693754198,0.5760577568838147,0.5762256548018805,0.5768972464741438,0.5799194089993284,0.58025520483546,0.5810946944257891,0.5815983881799865,0.5819341840161182,0.5824378777703156,0.5826057756883815,0.5834452652787105,0.583948959032908,0.5864674278038953,0.5871390194761585,0.5879785090664875,0.5883143049026192,0.588482202820685,0.5888179986568166,0.5894895903290799,0.5899932840832773,0.590329079919409,0.5904969778374748,0.5913364674278039,0.5916722632639355,0.594022834116857,0.595869711215581,0.5972128945601075,0.597548690396239,0.5983881799865681,0.5987239758226998,0.5997313633310947,0.6002350570852921,0.6004029550033579,0.6024177300201478,0.611316319677636,0.6116521155137676,0.6119879113498993,0.6121558092679651,0.61316319677636,0.6136668905305575,0.6140026863666891,0.6143384822028207,0.6148421759570182,0.6155137676292814,0.615849563465413,0.6163532572196104,0.6165211551376762,0.6171927468099395,0.6178643384822028,0.6182001343183344,0.6187038280725319,0.6190396239086635,0.619543317662861,0.6198791134989926,0.6202149093351242,0.6207186030893217,0.6210543989254533,0.621390194761585,0.6215580926796508,0.6220617864338482,0.6223975822699799,0.6229012760241773,0.6230691739422431,0.6259234385493619,0.6265950302216252,0.6269308260577569,0.6272666218938885,0.6276024177300201,0.6282740094022834,0.6284419073203492,0.6287777031564808,0.6289456010745467,0.6292813969106783,0.6296171927468099,0.630456682337139,0.6306245802552048,0.6319677635997314,0.6321356615177972,0.6326393552719947,0.6329751511081263,0.6334788448623238,0.6339825386165212,0.6348220282068502,0.6353257219610476,0.6356615177971793,0.6363331094694425,0.6363331094694425,0.63683680322364,0.6373404969778375,0.6381799865681665,0.6383478844862324,0.638683680322364,0.6390194761584956,0.6401947615849564,0.6403626595030222,0.6417058428475487,0.6422095366017462,0.6425453324378778,0.6427132303559436,0.6438885157824042,0.6442243116185359,0.6455674949630624,0.6467427803895232,0.646910678307589,0.6479180658159839,0.6480859637340497,0.648757555406313,0.6492612491605104,0.6495970449966421,0.6502686366689053,0.6507723304231028,0.6511081262592344,0.6516118200134319,0.6519476158495635,0.6522834116856951,0.6526192075218268,0.6527871054398925,0.6531229012760241,0.6534586971121558,0.654130288784419,0.6546339825386165,0.6551376762928139,0.6554734721289456,0.6564808596373405,0.6569845533915379,0.6573203492276696,0.6579919408999328,0.6581598388179987,0.6588314304902619,0.6591672263263936,0.659670920080591,0.6600067159167227,0.6601746138347885,0.6605104096709201,0.6665547347212895,0.6682337139019476,0.6687374076561451,0.6699126930826058,0.6702484889187375,0.6712558764271324,0.6719274680993955,0.6720953660174613,0.6725990597716588,0.6736064472800537,0.674278038952317,0.6744459368703828,0.6747817327065144,0.6752854264607119,0.6759570181329752,0.6762928139691068,0.6769644056413701,0.6774680993955675,0.6781396910678308,0.6784754869039624,0.6794828744123573,0.6801544660846206,0.6804902619207522,0.6811618535930154,0.681497649429147,0.6820013431833445,0.6825050369375419,0.6855271994627267,0.6861987911349899,0.6867024848891874,0.6868703828072532,0.6873740765614507,0.6893888515782405,0.6902283411685695,0.6912357286769644,0.6919073203492276,0.6924110141034251,0.6925789120214909,0.6929147078576225,0.6940899932840833,0.705339153794493,0.7056749496306246,0.7065144392209537,0.7070181329751511,0.7075218267293486,0.7085292142377434,0.708865010073875,0.7090329079919409,0.7093687038280725,0.7108797850906649,0.7112155809267965,0.7117192746809939,0.7145735392881128,0.7149093351242445,0.7155809267965078,0.7160846205507052,0.716252518468771,0.7165883143049027,0.7175957018132975,0.7180993955674949,0.7184351914036265,0.718938885157824,0.7217931497649429,0.7238079247817327,0.7241437206178644,0.724479516453996,0.7249832102081935,0.7251511081262593,0.7254869039623909,0.7261584956346542,0.7264942914707858,0.7283411685695097,0.7286769644056413,0.7288448623237072,0.7293485560779046,0.7296843519140362,0.7300201477501679,0.7305238415043653,0.730859637340497,0.7311954331766286,0.7316991269308261,0.7325386165211552,0.7332102081934184,0.7335460040295501,0.7337139019476159,0.7350570852921424,0.7353928811282741,0.7358965748824715,0.736232370718603,0.7365681665547347,0.7370718603089321,0.7372397582269979,0.7375755540631296,0.7377434519811954,0.738079247817327,0.7385829415715245,0.7389187374076561,0.7402619207521827,0.7409335124244459,0.741773002014775,0.7421087978509067,0.7471457353928811,0.7473136333109469,0.7478173270651444,0.7479852249832102,0.7486568166554735,0.7501678979180658,0.7503357958361316,0.7510073875083949,0.7511752854264607,0.7516789791806582,0.7523505708529215,0.753693754197448,0.7639355271994627,0.7642713230355943,0.7649429147078576,0.7651108126259234,0.765446608462055,0.7659503022162525,0.7662860980523841,0.7667897918065816,0.7669576897246474,0.7674613834788448,0.7684687709872398,0.7693082605775688,0.7696440564137005,0.7699798522498321,0.7706514439220954,0.7713230355943587,0.7716588314304903,0.7726662189388852,0.772834116856951,0.7771994627266622,0.7775352585627938,0.7778710543989255,0.7782068502350571,0.7783747481531229,0.7793821356615178,0.7795500335795836,0.7807253190060444,0.7812290127602418,0.7815648085963735,0.7819006044325051,0.7829079919408999,0.7832437877770315,0.7840832773673606,0.7842511752854264,0.7845869711215581,0.7866017461383479,0.7869375419744795,0.7884486232370719,0.7887844190732035,0.7891202149093351,0.7894560107454668,0.7897918065815984,0.7918065815983881,0.7919744795164539,0.7933176628609805,0.7953324378777703,0.7956682337139019,0.7973472128945601,0.798354600402955,0.7986903962390867,0.7993619879113499,0.8023841504365345,0.804734721289456,0.8054063129617193,0.8057421087978509,0.8089321692411015,0.8097716588314305,0.8107790463398253,0.811114842175957,0.8122901276024177,0.812961719274681,0.8158159838817999,0.8159838817998657,0.8163196776359973,0.8168233713901948,0.8171591672263264,0.8173270651443922,0.8176628609805239,0.8183344526527871,0.8190060443250504,0.8198455339153794,0.822028206850235,0.8221961047683009,0.8242108797850907,0.8243787777031565,0.8247145735392881,0.8250503693754198,0.8253861652115514,0.8265614506380121,0.8284083277367361,0.8305910006715916,0.8364674278038953,0.8371390194761585,0.8374748153122902,0.8381464069845533,0.8388179986568166,0.8398253861652115,0.8406648757555406,0.8413364674278039,0.8426796507723304,0.8430154466084621,0.8436870382807253,0.844022834116857,0.8450302216252519,0.8451981195433177,0.8455339153794493,0.8457018132975151,0.8465413028878442,0.8467092008059101,0.8470449966420417,0.8477165883143049,0.8480523841504365,0.8482202820685023,0.8485560779046339,0.8487239758226998,0.8492276695768972,0.849395567494963,0.8498992612491605,0.8500671591672263,0.8515782404298187,0.8517461383478845,0.8522498321020819,0.8524177300201478,0.8527535258562794,0.8535930154466085,0.8540967092008059,0.8544325050369376,0.8546004029550034,0.8556077904633983,0.8559435862995299,0.8561114842175958,0.8564472800537274,0.8571188717259905,0.8574546675621222,0.8593015446608462,0.8603089321692411,0.8614842175957018,0.8616521155137676,0.8621558092679651,0.8628274009402284,0.8638347884486233,0.8646742780389524,0.8648421759570182,0.8698791134989926,0.8708865010073875,0.8710543989254533,0.8720617864338482,0.8739086635325722,0.8740765614506381,0.8759234385493619,0.8760913364674278,0.8774345198119543,0.8779382135661518,0.878609805238415,0.8796171927468099,0.8797850906648758,0.880456682337139,0.8809603760913365,0.8811282740094023,0.8816319677635998,0.8828072531900605,0.8831430490261921,0.8839825386165212,0.884150436534587,0.8848220282068502,0.8858294157152451,0.8875083948959033,0.8878441907320349,0.8881799865681665,0.8903626595030222,0.8910342511752855,0.8918737407656145,0.8922095366017462,0.8927132303559436,0.8930490261920753,0.8947280053727333,0.8959032907991941,0.8964069845533915,0.8967427803895232,0.8972464741437206,0.8980859637340497,0.8989254533243788,0.9001007387508395,0.9017797179314977,0.902451309603761,0.9027871054398925,0.9037944929482874,0.9044660846205507,0.9049697783747481,0.9053055742108798,0.9091672263263936,0.9095030221625252,0.9098388179986568,0.9105104096709201,0.9108462055070518,0.9118535930154467,0.9125251846877098,0.9128609805238415,0.9131967763599731,0.914204163868368,0.9145399597044996,0.9150436534586971,0.9168905305574211,0.9177300201477502,0.9180658159838818,0.9184016118200135,0.9187374076561451,0.9189053055742109,0.9202484889187375,0.9205842847548691,0.9207521826729349,0.9217595701813297,0.9219274680993955,0.9236064472800537,0.9239422431161853,0.9241101410342512,0.9252854264607119,0.9254533243787777,0.9259570181329752,0.9278038952316991,0.9288112827400941,0.9289791806581599,0.9293149764942915,0.9294828744123573,0.929818670248489,0.9299865681665548,0.9320013431833445,0.933344526527871,0.9338482202820685,0.9383814640698456,0.9387172599059772,0.9397246474143721,0.9403962390866353,0.9405641370047011,0.9427468099395567,0.9430826057756884,0.94341840161182,0.9437541974479516,0.9442578912021491,0.947112155809268,0.9476158495634655,0.951645399597045,0.9528206850235057,0.9531564808596373,0.9543317662860981,0.9546675621222297,0.955339153794493,0.9561786433848221,0.9565144392209537,0.9566823371390195,0.9570181329751511,0.957186030893217,0.9575218267293486,0.9590329079919409,0.9592008059100067,0.9603760913364674,0.9612155809267965,0.9618871725990598,0.962558764271323,0.9647414372061787,0.9655809267965078,0.9657488247145736,0.9660846205507052,0.966252518468771,0.9694425789120215,0.9697783747481531,0.9701141705842847,0.9738079247817327,0.9741437206178644,0.9743116185359302,0.9746474143720618,0.9749832102081935,0.9753190060443251,0.9786769644056413,0.9796843519140362,0.9825386165211552,0.9848891873740766,0.9852249832102082,0.9853928811282741,0.9858965748824715,0.986232370718603,0.9879113498992612,0.9885829415715245,0.9890866353257219,0.9922766957689725,0.9927803895231699,0.9929482874412358,0.9941235728676965,0.9958025520483546,0.9961383478844862,0.9969778374748153,0.9973136333109469,0.9976494291470785,0.9984889187374076,0.9988247145735393,0.9994963062458025,0.9996642041638684,1.0],\"y\":[0.0,0.00016608536787908985,0.0008304268393954493,0.0013286829430327188,0.002491280518186348,0.003321707357581797,0.003487792725460887,0.004484304932735426,0.004650390300614516,0.005314731772130875,0.005480817140009965,0.005812987875768145,0.005979073243647235,0.006311243979405415,0.007307756186679953,0.007639926922438133,0.008138183026075402,0.008470353761833582,0.009134695233349942,0.009466865969108122,0.009799036704866301,0.010131207440624481,0.01112771964789902,0.01162597575153629,0.01245640259093174,0.01278857332668992,0.013120744062448099,0.014449427005480818,0.014615512373359906,0.015445939212755356,0.015944195316392625,0.016442451420029897,0.016774622155788076,0.017438963627304436,0.017937219730941704,0.018269390466699884,0.018601561202458063,0.019265902673974423,0.01976415877761169,0.019930244145490782,0.020262414881248962,0.02109284172064441,0.0212589270885235,0.02175718319216077,0.02208935392791895,0.02275369539943531,0.0229197807673144,0.023418036870951668,0.02391629297458894,0.0245806344461053,0.02491280518186348,0.025078890549742567,0.026407573492775286,0.026739744228533466,0.027570171067928917,0.028898854010961636,0.029563195482477992,0.03089187842551071,0.03139013452914798,0.03205447600066434,0.03288490284005979,0.03321707357581797,0.03388141504733433,0.03454575651885069,0.03521009799036705,0.035708354094004316,0.03653878093339977,0.03720312240491613,0.03803354924431158,0.0393622321873443,0.03969440292310247,0.040524829762497924,0.040690915130377016,0.04102308586613519,0.04168742733765155,0.042517854177047,0.04301611028068427,0.043348281016442454,0.04368045175220063,0.044012622487958813,0.04534130543099153,0.04567347616674971,0.04716824447766152,0.04766650058129879,0.04833084205281515,0.048829098156452415,0.049659524995847866,0.04999169573160604,0.05048995183524332,0.051818634778276036,0.05215080551403421,0.052482976249792396,0.05281514698555057,0.05331340308918784,0.053811659192825115,0.05430991529646238,0.05480817140009965,0.05530642750373692,0.05580468360737419,0.05613685434313237,0.05663511044676964,0.05680119581464873,0.05713336655040691,0.05779770802192327,0.05812987875768145,0.05879422022919781,0.05945856170071417,0.06012290317223053,0.060621159275867795,0.06095333001162598,0.06161767148314234,0.061949842218900514,0.06278026905829596,0.06327852516193323,0.06361069589769142,0.0637767812655705,0.06410895200132868,0.06510546420860322,0.0654376349443614,0.06576980568011959,0.06643414715163594,0.06676631788739412,0.0670984886231523,0.06859325693406411,0.06925759840558046,0.06958976914133864,0.06992193987709683,0.07058628134861318,0.07091845208437136,0.07108453745225046,0.07141670818800863,0.07158279355588773,0.0719149642916459,0.07291147649892045,0.07340973260255772,0.0737419033383159,0.07424015944195317,0.07457233017771134,0.07490450091346952,0.07540275701710679,0.07556884238498589,0.07590101312074406,0.0768975253280186,0.07739578143165587,0.07772795216741404,0.07972097658196313,0.08005314731772131,0.0802192326856004,0.08071748878923767,0.08104965952499585,0.08254442783590765,0.08287659857166584,0.08370702541106129,0.08403919614681947,0.08603222056136854,0.08653047666500581,0.08802524497591763,0.0885235010795549,0.08885567181531306,0.08952001328682943,0.08985218402258761,0.09018435475834578,0.09051652549410397,0.09084869622986215,0.09101478159774123,0.09134695233349942,0.0915130377013785,0.09201129380501578,0.09234346454077395,0.09400431821956486,0.09417040358744394,0.09450257432320212,0.09466865969108122,0.09500083042683939,0.09516691579471849,0.09599734263411394,0.09632951336987211,0.09765819631290483,0.09782428168078393,0.0981564524165421,0.099817306095333,0.10164424514200299,0.10181033050988209,0.10247467198139844,0.10280684271715662,0.10330509882079389,0.10396944029231024,0.10496595249958479,0.10529812323534296,0.10579637933898024,0.10629463544261751,0.10695897691413386,0.10762331838565023,0.1079554891214084,0.10828765985716658,0.10861983059292477,0.10895200132868295,0.10945025743232022,0.10994851353595748,0.11094502574323202,0.1112771964789902,0.11144328184686929,0.11243979405414382,0.11260587942202292,0.11360239162929746,0.11410064773293473,0.11426673310081382,0.11476498920445109,0.11509715994020926,0.11592758677960471,0.1162597575153629,0.11642584288324198,0.11675801361900016,0.1194153795050656,0.11974755024082379,0.11991363560870287,0.12223883075901013,0.12340142833416376,0.12406576980568013,0.1245640259093174,0.12489619664507556,0.12672313569174556,0.1277196478990201,0.12838398937053647,0.12871616010629464,0.12987875768144827,0.13021092841720644,0.13054309915296464,0.1310413552566019,0.13353263577478824,0.1340308918784255,0.13436306261418368,0.13502740408570005,0.13535957482145822,0.1358578309250955,0.13868128217904002,0.13901345291479822,0.13984387975419366,0.14017605048995183,0.1406743065935891,0.14167081880086366,0.14200298953662183,0.1426673310081382,0.1439960139511709,0.14449427005480817,0.14482644079056636,0.14532469689420363,0.14665337983723634,0.1469855505729945,0.1474838066766318,0.14764989204451087,0.14798206278026907,0.14831423351602724,0.1486464042517854,0.14914466035542268,0.14964291645905994,0.1503072579305763,0.1504733432984554,0.1504733432984554,0.1519681116093672,0.15412722139179538,0.15429330675967448,0.15479156286331175,0.15495764823119082,0.1556219897027072,0.15595416043846538,0.15612024580634445,0.15695067264573992,0.1572828433814981,0.15761501411725626,0.15778109948513536,0.15944195316392626,0.15960803853180536,0.15994020926756353,0.1602723800033217,0.16110280684271716,0.16243148978574987,0.16309583125726623,0.16409234346454077,0.16425842883241987,0.16492277030393623,0.1652549410396944,0.16558711177545257,0.16625145324696894,0.1670818800863644,0.16741405082212257,0.16791230692575984,0.168244477661518,0.1684105630293971,0.16874273376515528,0.16973924597242984,0.1702375020760671,0.17073575817970438,0.17140009965122072,0.17156618501909982,0.17189835575485798,0.17239661185849528,0.17306095333001162,0.17372529480152799,0.17405746553728615,0.17422355090516525,0.1753861484803189,0.17588440458395616,0.17621657531971432,0.17654874605547252,0.17721308752698886,0.17771134363062613,0.17804351436638433,0.17904002657365886,0.17920611194153796,0.17970436804517523,0.1800365387809334,0.18070088025244976,0.18103305098820793,0.18136522172396613,0.1816973924597243,0.18252781929911974,0.1835243315063943,0.18385650224215247,0.18452084371366884,0.1846869290815479,0.1850190998173061,0.18601561202458064,0.1863477827603388,0.18734429496761335,0.1880086364391297,0.18883906327852515,0.18900514864640425,0.19000166085367878,0.19049991695731605,0.19083208769307425,0.19116425842883242,0.19166251453246969,0.19299119747550242,0.19365553894701876,0.19415379505065603,0.1948181365221724,0.1948181365221724,0.19564856336156786,0.19614681946520512,0.19681116093672146,0.19780767314399603,0.1981398438797542,0.199634612190666,0.19996678292642417,0.20013286829430327,0.20046503903006146,0.201461551237336,0.20229197807673144,0.2026241488124896,0.2029563195482478,0.2031224049161269,0.20362066101976417,0.20411891712340144,0.2044510878591596,0.20544760006643414,0.20561368543431324,0.2061119415379505,0.20644411227370868,0.20710845374522505,0.20744062448098322,0.20760670984886231,0.20793888058462048,0.20843713668825775,0.20893539279189505,0.20926756352765322,0.20976581963129048,0.21009799036704865,0.21059624647068592,0.2114266733100814,0.21192492941371865,0.21258927088523502,0.21408403919614682,0.2147483806676632,0.21557880750705863,0.21657531971433316,0.2177379172894868,0.21807008802524497,0.21823617339312407,0.21873442949676133,0.21956485633615677,0.22039528317555224,0.22155788075070587,0.2222222222222222,0.2223883075901013,0.22355090516525494,0.22371699053313404,0.22438133200465038,0.22504567347616675,0.22537784421192492,0.22554392957980401,0.2258761003155622,0.22654044178707855,0.22687261252283675,0.22853346620162765,0.229197807673144,0.22986214914466035,0.23019431988041852,0.2308586613519349,0.23152300282345126,0.23218734429496762,0.2325195150307258,0.23285168576648396,0.23301777113436306,0.23334994187012123,0.23351602723800033,0.2340142833416376,0.2343464540773958,0.23467862481315396,0.23484471018103306,0.23517688091679123,0.2355090516525494,0.2358412223883076,0.23600730775618667,0.23683773459558213,0.2375020760670985,0.23766816143497757,0.23800033217073577,0.2386646736422521,0.23916292974588937,0.2404916126889221,0.242152466367713,0.24265072247135028,0.24298289320710845,0.2436472346786248,0.24431157615014118,0.24480983225377845,0.24514200298953662,0.24564025909317388,0.2471350274040857,0.24746719813984389,0.24763328350772296,0.24846371034711842,0.24962630792227206,0.2501245640259093,0.25062282012954656,0.25095499086530476,0.25128716160106296,0.2517854177047002,0.25278192991197473,0.25328018601561203,0.25411061285500747,0.2547749543265238,0.255107125062282,0.2554392957980402,0.25626972263743564,0.25626972263743564,0.25660189337319383,0.2572662348447102,0.2585949177877429,0.2589270885235011,0.2602557714665338,0.260587942202292,0.2615844544095665,0.2620827105132038,0.2634113934562365,0.2639096495598738,0.2652383325029065,0.26557050323866466,0.2667331008138183,0.2677296130210928,0.2682278691247301,0.26872612522836736,0.26905829596412556,0.26955655206776286,0.2700548081714001,0.2705530642750374,0.271715661850191,0.27204783258594917,0.27271217405746556,0.2730443447932237,0.2733765155289819,0.27404085700049824,0.27420694236837734,0.27420694236837734,0.27487128383989373,0.27536953994353097,0.2763660521508055,0.2766982228865637,0.2768643082544428,0.27769473509383824,0.2786912473011128,0.279023418036871,0.27918950340475,0.2798538448762664,0.2800199302441455,0.28051818634778275,0.2813486131871782,0.2821790400265737,0.2826772961302109,0.28400597907324365,0.28433814980900185,0.2848364059126391,0.2851685766483973,0.2858329181199136,0.2863311742235509,0.28682943032718816,0.28716160106294636,0.2881581132702209,0.28882245474173723,0.28932071084537453,0.28998505231689087,0.29031722305264906,0.2916459059956818,0.29214416209931904,0.29231024746719814,0.29280850357083543,0.2929745889387145,0.29347284504235177,0.2943032718817472,0.2948015279853845,0.29529978408902174,0.29563195482477994,0.29579804019265904,0.2962962962962963,0.2967945523999336,0.2971267231356918,0.297624979239329,0.29828932071084535,0.29862149144660355,0.29895366218236175,0.2996180036538781,0.3001162597575154,0.30161102806842716,0.30177711343630625,0.30210928417206445,0.3026075402757017,0.3036040524829762,0.3041023085866135,0.3044344793223717,0.30476665005812986,0.30493273542600896,0.30559707689752535,0.3057631622654044,0.3060953330011626,0.30692575984055803,0.3075901013120744,0.30775618667995347,0.30842052815146986,0.3090848696229862,0.3097492110945026,0.30991529646238164,0.31024746719813984,0.31041355256601894,0.3110778940375353,0.31157615014117257,0.3122404916126889,0.31307091845208435,0.31340308918784254,0.31356917455572164,0.31406743065935894,0.3143996013951171,0.3145656867629962,0.3190499916957316,0.3192160770636107,0.31988041853512705,0.32154127221391793,0.3225377844211925,0.32320212589270886,0.32353429662846706,0.3237003819963461,0.3240325527321043,0.3241986380999834,0.32585949177877427,0.32602557714665337,0.32635774788241156,0.32668991861816976,0.3273542600896861,0.3276864308254443,0.32835077229696064,0.32851685766483973,0.32884902840059793,0.32984554060787247,0.3301777113436306,0.33150639428666334,0.33200465039030064,0.3323368211260588,0.3328350772296961,0.3334994187012124,0.33449593090848695,0.33516027238000334,0.3354924431157615,0.336488955323036,0.3368211260587942,0.33831589436970605,0.3398106626806178,0.34097326025577146,0.34130543099152966,0.34147151635940876,0.341969772463046,0.3424680285666833,0.34794884570669327,0.3482810164424514,0.3487792725460887,0.34944361401760504,0.34994187012124234,0.3501079554891214,0.3506062115927587,0.3507722969606378,0.35110446769639597,0.351270553064275,0.3516027238000332,0.35259923600730775,0.3545922604218568,0.354924431157615,0.3550905165254941,0.35575485799701045,0.3569174555721641,0.3574157116758014,0.358578309250955,0.35907656535459226,0.35924265072247136,0.3597409068261086,0.3600730775618668,0.36090350440126223,0.3637269556552068,0.36439129712672313,0.36522172396611857,0.36538780933399767,0.36588606543763497,0.3662182361733931,0.36754691911642584,0.36787908985218404,0.3682112605879422,0.3700381996346122,0.37037037037037035,0.3721973094170404,0.3725294801527985,0.37402424846371035,0.375186846038864,0.3758511875103803,0.37717987045341306,0.37734595582129216,0.3778442119249294,0.3786746387643249,0.37900680950008303,0.3793389802358412,0.37983723633947847,0.38033549244311576,0.3811659192825112,0.3818302607540276,0.38232851685766484,0.38249460222554393,0.3829928583291812,0.38349111443281847,0.3843215412722139,0.384487626640093,0.38581630958312574,0.386314565686763,0.3866467364225212,0.38714499252615847,0.3874771632619166,0.3879754193655539,0.38830759010131205,0.38847367546919115,0.38880584620494935,0.3894701876764657,0.389968443780103,0.3904666998837402,0.3907988706194984,0.39162929745889385,0.3929579804019266,0.3936223218734429,0.39511709018435476,0.39561534628799205,0.3957814316558711,0.3964457731273875,0.3966118584952666,0.39727619996678293,0.397442285334662,0.397442285334662,0.39794054143829927,0.39794054143829927,0.39827271217405746,0.39843879754193656,0.39877096827769476,0.3996013951170902,0.39993356585284834,0.40043182195648563,0.40076399269224383,0.40126224879588107,0.40176050489951837,0.4024248463710347,0.4027570171067929,0.40690915130377014,0.40724132203952834,0.4075734927752865,0.4077395781431656,0.408570004982561,0.40956651718983555,0.40956651718983555,0.4113934562365056,0.4118917123401428,0.41322039528317556,0.4145490782262083,0.41521341969772463,0.4155455904334828,0.41670818800863646,0.4170403587443946,0.4173725294801528,0.41820295631954824,0.41870121242318553,0.4190333831589437,0.41936555389470187,0.41936555389470187,0.42135857830925094,0.42202291978076734,0.4225211758844046,0.4228533466201628,0.4238498588274373,0.4241820295631955,0.42451420029895365,0.42501245640259094,0.4256767978741073,0.4258428832419864,0.4266733100813818,0.4268393954492609,0.4271715661850191,0.42766982228865635,0.4285002491280518,0.42883241986381,0.4291645905995682,0.4298289320710845,0.4303271881747218,0.43065935891047996,0.43132370038199636,0.43165587111775455,0.4323202125892709,0.4326523833250291,0.43315063942866633,0.4334828101644245,0.4336488955323036,0.4349775784753363,0.43597409068261084,0.43663843215412723,0.43746885899352267,0.43780102972928087,0.43796711509715996,0.4384653712007972,0.43996013951170904,0.4402923102474672,0.44112273708686267,0.4416209931904999,0.4421192492941372,0.44245142002989535,0.4434479322371699,0.443614017605049,0.4444444444444444,0.4447766151802026,0.4447766151802026,0.4452748712838399,0.445440956651719,0.44577312738747715,0.44593921275535625,0.44627138349111445,0.4469357249626308,0.4480983225377844,0.4484304932735426,0.4485965786414217,0.44926092011293806,0.44942700548081715,0.4497591762165753,0.4499252615844544,0.4502574323202126,0.45075568842384983,0.45108785915960803,0.4517522006311244,0.45225045673476166,0.45241654210264076,0.45274871283839896,0.4530808835741571,0.4534130543099153,0.4535791396777944,0.4564025909317389,0.4569008470353762,0.45723301777113434,0.45756518850689254,0.4582295299784089,0.458395615346288,0.4588938714499253,0.45905995681780437,0.4598903836571998,0.46038863976083705,0.46072081049659525,0.46121906660023254,0.4615512373359907,0.462049493439628,0.46371034711841885,0.4647068593256934,0.4648729446935725,0.4653712007972098,0.4655372861650889,0.4665337983723634,0.46686596910812156,0.46719813984387976,0.4678624813153961,0.4681946520511543,0.4685268227869125,0.46885899352267063,0.47018767646570336,0.47068593256934066,0.4710181033050988,0.4716824447766152,0.4748380667663179,0.47550240823783424,0.47600066434147154,0.4764989204451088,0.476831091180867,0.47716326191662517,0.4773293472845042,0.4778276033881415,0.4781597741238997,0.47849194485965785,0.47882411559541604,0.4794884570669324,0.4798206278026906,0.480651054642086,0.48197973758511875,0.48197973758511875,0.48231190832087695,0.4826440790566351,0.4833084205281515,0.4844710181033051,0.4859657864142169,0.48712838398937053,0.4874605547251287,0.48862315230028236,0.48862315230028236,0.4892874937717987,0.4896196645075569,0.489785749875436,0.49011792061119414,0.49094834745058963,0.49177877428998507,0.4921109450257432,0.49493439627968777,0.49510048164756687,0.4957648231190832,0.4959309084869623,0.49692742069423684,0.4979239329015114,0.4985882743730277,0.4987543597409068,0.499086530476665,0.49975087194818135,0.5007473841554559,0.501079554891214,0.5019099817306095,0.5029064939378841,0.5034047500415213,0.5037369207772795,0.5039030061451586,0.5050656037203123,0.5052316890881914,0.5057299451918286,0.5070586281348614,0.5078890549742567,0.5088855671815313,0.5092177379172895,0.5098820793888058,0.5100481647566849,0.5105464208603222,0.5107125062282013,0.5110446769639595,0.5115429330675968,0.5122072745391131,0.5127055306427504,0.5133698721142668,0.5151968111609367,0.5155289818966949,0.5170237502076067,0.517522006311244,0.5178541770470022,0.5188506892542767,0.5196811160936722,0.5200132868294304,0.5206776283009467,0.5210097990367049,0.5215080551403422,0.5218402258761003,0.5230028234512539,0.5235010795548912,0.5239993356585285,0.5243315063942867,0.5243315063942867,0.5244975917621657,0.524995847865803,0.5254941039694403,0.5256601893373194,0.5261584454409567,0.5264906161767148,0.526822786912473,0.5271549576482312,0.5301444942700548,0.5313070918452084,0.5316392625809666,0.532303604052483,0.5324696894203621,0.5329679455239993,0.5331340308918784,0.5352931406743066,0.535957482145823,0.5371200797209765,0.5376183358246138,0.537950506560372,0.5382826772961302,0.5387809333997675,0.5392791895034047,0.5396113602391629,0.5430991529646239,0.543265238332503,0.5439295798040192,0.5440956651718983,0.5444278359076565,0.5450921773791729,0.5455904334828101,0.5464208603222056,0.5472512871616011,0.5480817140009965,0.5484138847367547,0.5492443115761502,0.5497425676797875,0.5519016774622156,0.5523999335658528,0.5535625311410065,0.5538947018767647,0.5552233848197974,0.5555555555555556,0.5557216409234347,0.5560538116591929,0.5565520677628301,0.5570503238664674,0.5595416043846537,0.5598737751204119,0.5603720312240492,0.5607042019598073,0.5612024580634446,0.5615346287992028,0.5625311410064773,0.5630293971101146,0.5633615678458728,0.5643580800531474,0.5646902507889054,0.5648563361567845,0.5651885068925427,0.5653545922604218,0.5660189337319382,0.5663511044676964,0.5668493605713336,0.5671815313070918,0.5676797874107291,0.5680119581464873,0.5681780435143664,0.5690084703537618,0.5690084703537618,0.5691745557216409,0.5705032386646737,0.5708354094004319,0.5719980069755854,0.5723301777113436,0.57299451918286,0.5733266899186181,0.5734927752864972,0.5743232021258927,0.5764823119083209,0.5768144826440791,0.5769805680119582,0.5776449094834745,0.5793057631622655,0.5796379338980235,0.5796379338980235,0.5799701046337817,0.5803022753695399,0.5809666168410563,0.5816309583125726,0.5819631290483308,0.5826274705198472,0.5827935558877263,0.5831257266234845,0.5836239827271218,0.5842883241986381,0.5844544095665172,0.5847865803022754,0.5862813486131871,0.5866135193489453,0.5872778608204617,0.5874439461883408,0.587776116924099,0.587942202291978,0.5886065437634944,0.5886065437634944,0.5899352267065272,0.5904334828101644,0.5910978242816808,0.5924265072247135,0.5927586779604717,0.5929247633283508,0.5937551901677462,0.5940873609035044,0.5949177877428998,0.595249958478658,0.5954160438465371,0.5957482145822953,0.5967447267895698,0.5972429828932071,0.5977412389968444,0.5979073243647235,0.5982394951004817,0.5982394951004817,0.5987377512041189,0.5987377512041189,0.5994020926756353,0.5999003487792726,0.6002325195150308,0.6003986048829099,0.600896860986547,0.6010629463544261,0.6013951170901843,0.6018933731938216,0.6022255439295798,0.6030559707689752,0.6037203122404916,0.6042185683441289,0.6050489951835243,0.6068759342301944,0.6072081049659525,0.6077063610695898,0.6088689586447434,0.6113602391629297,0.6116924098986879,0.6116924098986879,0.6120245806344461,0.6123567513702043,0.6131871782095998,0.6135193489453579,0.613685434313237,0.6148480318883907,0.615346287992028,0.6155123733599069,0.6155123733599069,0.6160106294635442,0.6160106294635442,0.6163428001993024,0.6166749709350606,0.6170071416708188,0.6171732270386979,0.6171732270386979,0.6175053977744561,0.6178375685102142,0.6183358246138515,0.6186679953496097,0.6196645075568843,0.6196645075568843,0.6199966782926424,0.620993190499917,0.6213253612356752,0.6213253612356752,0.6219897027071914,0.6223218734429496,0.6228201295465869,0.622986214914466,0.6234844710181033,0.6236505563859824,0.6239827271217405,0.6243148978574987,0.6251453246968942,0.6254774954326524,0.6259757515362897,0.6264740076399269,0.6268061783756851,0.6271383491114433,0.6273044344793224,0.6273044344793224,0.6276366052150806,0.6283009466865969,0.6287992027902342,0.6291313735259924,0.6297957149975087,0.6299618003653878,0.6306261418369041,0.6311243979405414,0.6316226540441787,0.6319548247799369,0.6327852516193323,0.6331174223550905,0.6332835077229696,0.633947849194486,0.6341139345623651,0.6344461052981233,0.6352765321375187,0.635774788241156,0.6361069589769142,0.6364391297126724,0.6367713004484304,0.6372695565520677,0.6376017272878259,0.6376017272878259,0.6382660687593423,0.6390964955987377,0.6392625809666168,0.6399269224381332,0.6402590931738914,0.6409234346454077,0.6420860322205614,0.6424182029563196,0.6429164590599569,0.6429164590599569,0.6440790566351104,0.6444112273708686,0.6445773127387477,0.6449094834745059,0.645241654210264,0.6455738249460222,0.6482311908320877,0.6495598737751204,0.6498920445108786,0.6498920445108786,0.6500581298787577,0.6500581298787577,0.6507224713502741,0.6512207274539114,0.6515528981896694,0.652549410396944,0.6527154957648231,0.6530476665005813,0.6532137518684604,0.6535459226042186,0.6542102640757349,0.6545424348114931,0.6568676299618004,0.6576980568011959,0.658196312904833,0.6586945690084703,0.6586945690084703,0.6590267397442285,0.660023251951503,0.6608536787908985,0.6613519348945358,0.661684105630294,0.6621823617339312,0.6630127885733267,0.6633449593090849,0.663511044676964,0.6638432154127222,0.6641753861484804,0.6648397276199967,0.6650058129878758,0.665337983723634,0.665504069091513,0.6658362398272712,0.6661684105630294,0.6661684105630294,0.6666666666666666,0.6669988374024248,0.6684936057133366,0.6688257764490948,0.6689918618169739,0.6696562032884903,0.6701544593921276,0.6706527154957648,0.670984886231523,0.6721474838066767,0.6724796545424349,0.672977910646072,0.6733100813818302,0.6739744228533466,0.6743065935891048,0.674638764324863,0.674804849692742,0.6749709350606211,0.6758013619000166,0.6758013619000166,0.6772961302109284,0.678292642418203,0.6784587277860821,0.6792891546254775,0.6797874107291147,0.680285666832752,0.6804517522006311,0.6816143497757847,0.6819465205115429,0.6819465205115429,0.6822786912473011,0.6826108619830593,0.6827769473509384,0.6829430327188175,0.6834412888224547,0.6841056302939711,0.6844378010297293,0.6847699717654875,0.6851021425012457,0.6875934230194319,0.6879255937551901,0.6890881913303438,0.6890881913303438,0.6897525328018601,0.6900847035376183,0.6904168742733765,0.6909151303770138,0.691247301112772,0.6914133864806511,0.6917455572164092,0.6920777279521674,0.6924098986879256,0.6925759840558047,0.6929081547915629,0.693074240159442,0.6934064108952002,0.6935724962630793,0.6939046669988373,0.6942368377345955,0.695067264573991,0.6953994353097492,0.6957316060455074,0.6957316060455074,0.6958976914133865,0.6962298621491446,0.6963959475170237,0.6963959475170237,0.6965620328849028,0.696894203620661,0.6973924597242983,0.6975585450921774,0.6978907158279356,0.698721142667331,0.6993854841388474,0.6997176548746056,0.6997176548746056,0.6998837402424847,0.7012124231855174,0.7013785085533965,0.7013785085533965,0.7018767646570337,0.70254110612855,0.70254110612855,0.7028732768643082,0.7032054476000664,0.7035376183358246,0.7038697890715828,0.704201959807341,0.704201959807341,0.7045341305430991,0.7048663012788573,0.7055306427503737,0.7061949842218901,0.7061949842218901,0.7065271549576483,0.7068593256934064,0.7076897525328019,0.7080219232685601,0.7081880086364392,0.7088523501079554,0.7093506062115927,0.7095166915794718,0.7101810330509882,0.7105132037867464,0.7108453745225045,0.7108453745225045,0.7110114598903836,0.7111775452582627,0.7115097159940209,0.7118418867297791,0.7118418867297791,0.7121740574655373,0.7130044843049327,0.7133366550406909,0.7136688257764491,0.7136688257764491,0.7140009965122073,0.7143331672479655,0.7146653379837237,0.7149975087194819,0.7158279355588772,0.7164922770303936,0.7164922770303936,0.7166583623982727,0.7166583623982727,0.7169905331340309,0.71715661850191,0.7176548746055472,0.7179870453413054,0.7179870453413054,0.7186513868128218,0.71898355754858,0.71898355754858,0.7193157282843381,0.7198139843879754,0.722803521009799,0.7231356917455573,0.7238000332170735,0.7239661185849526,0.7247965454243481,0.7247965454243481,0.7254608868958645,0.7262913137352599,0.7269556552067763,0.7269556552067763,0.7271217405746554,0.7271217405746554,0.7286165088855672,0.7289486796213254,0.7299451918285998,0.730277362564358,0.7309417040358744,0.7309417040358744,0.7317721308752699,0.7317721308752699,0.7322703869789071,0.7327686430825444,0.7332668991861817,0.7345955821292144,0.7349277528649726,0.7352599236007308,0.7377512041189171,0.7379172894867962,0.7382494602225544,0.7385816309583125,0.739412057797708,0.7405746553728616,0.7407407407407407,0.7422355090516526,0.7428998505231689,0.7433981066268062,0.7433981066268062,0.7435641919946853,0.7437302773625644,0.7437302773625644,0.7442285334662017,0.7442285334662017,0.7445607042019599,0.7447267895698388,0.7448928749377179,0.745058960305597,0.7455572164092343,0.7462215578807507,0.746719813984388,0.746885899352267,0.7473841554559043,0.7480484969274207,0.7487128383989371,0.7490450091346952,0.7492110945025743,0.7492110945025743,0.7497093506062116,0.7500415213419698,0.7507058628134862,0.7515362896528816,0.7515362896528816,0.7518684603886397,0.752200631124398,0.752366716492277,0.7526988872280352,0.7531971433316724,0.7535293140674306,0.7540275701710679,0.7543597409068261,0.7546919116425843,0.7546919116425843,0.7550240823783425,0.7551901677462216,0.7555223384819797,0.7555223384819797,0.7561866799534961,0.7565188506892543,0.7576814482644079,0.7583457897359243,0.7600066434147151,0.7603388141504733,0.7605048995183524,0.7608370702541106,0.761501411725627,0.7618335824613851,0.7621657531971433,0.7628300946686597,0.7661518020262414,0.7663178873941205,0.7666500581298787,0.7666500581298787,0.7673143996013951,0.7673143996013951,0.7676465703371533,0.7678126557050324,0.7681448264407905,0.7684769971765487,0.7684769971765487,0.768975253280186,0.7693074240159442,0.7696395947517024,0.7703039362232187,0.7704700215910978,0.770802192326856,0.7714665337983724,0.7721308752698888,0.7722969606377678,0.772629131373526,0.772795216741405,0.7729613021092842,0.7732934728450424,0.7736256435808005,0.774622155788075,0.7749543265238332,0.7752864972595914,0.7757847533632287,0.776283009466866,0.7774456070420196,0.7774456070420196,0.7776116924098987,0.7776116924098987,0.7779438631456569,0.7787742899850523,0.7789403753529314,0.7796047168244478,0.7801029729280851,0.7802690582959642,0.7806012290317224,0.7809333997674804,0.7809333997674804,0.7812655705032386,0.7812655705032386,0.7815977412389968,0.7815977412389968,0.7820959973426341,0.7825942534462714,0.7830925095499086,0.783756851021425,0.783756851021425,0.7847533632286996,0.7850855339644577,0.785583790068095,0.7864142169074905,0.7869124730111278,0.787576814482644,0.7880750705862813,0.7884072413220395,0.7884072413220395,0.7889054974256768,0.7889054974256768,0.7895698388971931,0.7899020096329513,0.7902341803687095,0.7904002657365886,0.7915628633117422,0.7917289486796213,0.7918950340475004,0.7922272047832586,0.7922272047832586,0.7925593755190168,0.7925593755190168,0.7930576316226541,0.7933898023584123,0.7943863145656868,0.7950506560372032,0.7958810828765985,0.7958810828765985,0.7960471682444776,0.7963793389802358,0.796711509715994,0.7968775950838731,0.7980401926590267,0.7983723633947849,0.7998671317056967,0.8001993024414549,0.8001993024414549,0.8006975585450922,0.8013619000166086,0.8015279853844877,0.8015279853844877,0.8016940707523668,0.8020262414881248,0.8026905829596412,0.8028566683275203,0.8031888390632785,0.8031888390632785,0.8035210097990367,0.8035210097990367,0.8038531805347949,0.8048496927420694,0.8056801195814649,0.8063444610529812,0.8070088025244976,0.8075070586281349,0.807673143996014,0.807673143996014,0.8085035708354094,0.8090018269390467,0.8093339976748049,0.809666168410563,0.8104965952499584,0.8104965952499584,0.8109948513535957,0.8113270220893539,0.8121574489287494,0.8124896196645076,0.8124896196645076,0.8128217904002657,0.8129878757681448,0.8129878757681448,0.813320046503903,0.813320046503903,0.8134861318717821,0.8138183026075403,0.8143165587111776,0.8146487294469357,0.8148148148148148,0.8153130709184521,0.8158113270220894,0.8158113270220894,0.8164756684936058,0.8168078392293638,0.8169739245972429,0.8169739245972429,0.8173060953330011,0.818800863643913,0.8202956319548248,0.8204617173227039,0.8204617173227039,0.820627802690583,0.8209599734263412,0.8212921441620993,0.8216243148978575,0.8221225710014948,0.8221225710014948,0.8229529978408903,0.8236173393124065,0.8236173393124065,0.8239495100481647,0.824447766151802,0.8246138515196811,0.8247799368875602,0.8254442783590765,0.8264407905663511,0.8264407905663511,0.8266068759342302,0.8266068759342302,0.8274373027736256,0.8277694735093838,0.8279355588772629,0.828101644245142,0.8287659857166584,0.8292642418202957,0.8314233516027238,0.8324198638099983,0.8332502906493938,0.833582461385152,0.833748546753031,0.8342468028566683,0.8342468028566683,0.8350772296960638,0.835409400431822,0.8355754857997011,0.8360737419033383,0.8362398272712174,0.8364059126390965,0.8369041687427338,0.8369041687427338,0.837236339478492,0.837236339478492,0.8375685102142502,0.8379006809500084,0.839229363893041,0.8398937053645574,0.8403919614681946,0.8403919614681946,0.8408902175718319,0.841056302939711,0.841056302939711,0.8415545590433483,0.8417206444112274,0.8417206444112274,0.8418867297791065,0.8420528151469856,0.8432154127221392,0.8432154127221392,0.8453745225045673,0.8453745225045673,0.8457066932403255,0.8457066932403255,0.8463710347118419,0.8467032054476,0.8467032054476,0.8470353761833582,0.8488623152300282,0.8491944859657864,0.8495266567015446,0.850190998173061,0.8506892542766982,0.8510214250124564,0.8515196811160937,0.8518518518518519,0.852017937219731,0.852017937219731,0.8526822786912474,0.8526822786912474,0.8548413884736755,0.8550074738415545,0.8551735592094336,0.85583790068095,0.8563361567845873,0.8570004982561036,0.8573326689918618,0.85766483972762,0.8578309250954991,0.8578309250954991,0.8586613519348946,0.8586613519348946,0.8589935226706528,0.8591596080385318,0.8591596080385318,0.85949177877429,0.859657864142169,0.859657864142169,0.8603222056136854,0.8603222056136854,0.8608204617173227,0.8611526324530809,0.8613187178209599,0.8613187178209599,0.861484803188839,0.8619830592924763,0.8621491446603554,0.8623152300282345,0.8623152300282345,0.8626474007639927,0.8628134861318718,0.8639760837070254,0.8639760837070254,0.8643082544427836,0.8644743398106627,0.8644743398106627,0.8649725959143,0.8649725959143,0.8656369373858163,0.8659691081215745,0.8661351934894536,0.8663012788573327,0.8666334495930909,0.8666334495930909,0.866965620328849,0.8674638764324863,0.8676299618003653,0.8676299618003653,0.8677960471682444,0.8677960471682444,0.8679621325361235,0.868792559375519,0.8692908154791563,0.8696229862149145,0.8704534130543099,0.8704534130543099,0.8707855837900681,0.8711177545258263,0.8714499252615845,0.8722803521009799,0.8727786082046172,0.8729446935724963,0.8729446935724963,0.8732768643082545,0.8732768643082545,0.8742733765155289,0.8742733765155289,0.8746055472512871,0.8746055472512871,0.8746055472512871,0.8749377179870453,0.8751038033549244,0.8751038033549244,0.8754359740906826,0.8754359740906826,0.8757681448264408,0.8757681448264408,0.876266400930078,0.8764324862979571,0.8769307424015944,0.8770968277694735,0.8774289985052317,0.8774289985052317,0.8775950838731108,0.8775950838731108,0.8777611692409899,0.877927254608869,0.877927254608869,0.8780933399767481,0.8780933399767481,0.8784255107125062,0.8784255107125062,0.8795881082876599,0.879754193655539,0.8804185351270553,0.8807507058628135,0.8809167912306926,0.8810828765985717,0.8810828765985717,0.8825776449094834,0.8825776449094834,0.8829098156452416,0.8829098156452416,0.8832419863809998,0.8837402424846371,0.8842384985882744,0.8847367546919116,0.8852350107955489,0.885401096163428,0.8855671815313071,0.8858993522670653,0.8862315230028235,0.8862315230028235,0.8863976083707026,0.8867297791064607,0.887228035210098,0.887228035210098,0.8880584620494935,0.8880584620494935,0.8883906327852517,0.8885567181531308,0.8885567181531308,0.8888888888888888,0.8888888888888888,0.8890549742567679,0.8893871449925261,0.8902175718319216,0.8902175718319216,0.8905497425676798,0.891047998671317,0.8912140840391961,0.8912140840391961,0.8915462547749543,0.8915462547749543,0.8920445108785916,0.8920445108785916,0.8923766816143498,0.892708852350108,0.8942036206610198,0.8947018767646571,0.8955323036040524,0.8955323036040524,0.896528815811327,0.8968609865470852,0.8975253280186015,0.8975253280186015,0.898355754857997,0.898355754857997,0.8985218402258761,0.8988540109616343,0.8988540109616343,0.9000166085367879,0.9000166085367879,0.9003487792725461,0.9003487792725461,0.9005148646404252,0.9008470353761834,0.9010131207440625,0.9010131207440625,0.9011792061119416,0.9011792061119416,0.9015113768476997,0.9015113768476997,0.9016774622155788,0.9016774622155788,0.9018435475834579,0.9018435475834579,0.9021757183192161,0.9028400597907325,0.9035044012622488,0.9038365719980069,0.9038365719980069,0.904002657365886,0.9041687427337651,0.9046669988374024,0.9046669988374024,0.9051652549410397,0.9051652549410397,0.9053313403089188,0.9053313403089188,0.905663511044677,0.9061617671483142,0.9064939378840724,0.9066600232519515,0.9073243647234679,0.9073243647234679,0.907490450091347,0.907490450091347,0.9081547915628633,0.9081547915628633,0.9084869622986215,0.9084869622986215,0.9086530476665006,0.9089852184022588,0.9091513037701379,0.9091513037701379,0.9098156452416543,0.9101478159774123,0.9104799867131705,0.9108121574489287,0.9111443281846869,0.911310413552566,0.9119747550240824,0.9121408403919614,0.9121408403919614,0.9126390964955987,0.9128051818634778,0.9129712672313569,0.9133034379671151,0.9133034379671151,0.9136356087028733,0.9136356087028733,0.9138016940707524,0.9138016940707524,0.9139677794386315,0.9139677794386315,0.9144660355422687,0.914964291645906,0.9151303770137851,0.9154625477495433,0.9156286331174224,0.9159608038531806,0.9162929745889388,0.9164590599568178,0.9164590599568178,0.9172894867962132,0.9172894867962132,0.9174555721640923,0.9174555721640923,0.9177877428998505,0.9177877428998505,0.918784255107125,0.918784255107125,0.9189503404750041,0.9189503404750041,0.9192825112107623,0.9192825112107623,0.9194485965786414,0.9194485965786414,0.9196146819465205,0.9199468526822787,0.9202790234180369,0.9202790234180369,0.920611194153795,0.9207772795216741,0.9211094502574323,0.9212755356253114,0.9212755356253114,0.9216077063610696,0.9216077063610696,0.9219398770968278,0.922272047832586,0.9229363893041023,0.9229363893041023,0.9231024746719814,0.9232685600398605,0.9232685600398605,0.9239329015113769,0.924098986879256,0.924098986879256,0.9245972429828933,0.9245972429828933,0.9247633283507724,0.9247633283507724,0.9255937551901677,0.926092011293805,0.9269224381332004,0.9269224381332004,0.9272546088689586,0.9272546088689586,0.9274206942368377,0.9274206942368377,0.927918950340475,0.927918950340475,0.9282511210762332,0.9282511210762332,0.9285832918119914,0.9285832918119914,0.9289154625477496,0.9290815479156286,0.9295798040192659,0.9299119747550241,0.9299119747550241,0.9302441454907823,0.9304102308586614,0.9304102308586614,0.9307424015944196,0.9307424015944196,0.9309084869622987,0.9312406576980568,0.9314067430659358,0.9314067430659358,0.9319049991695731,0.9319049991695731,0.9324032552732104,0.9325693406410895,0.9325693406410895,0.9329015113768477,0.9329015113768477,0.9332336821126059,0.9333997674804849,0.9333997674804849,0.9338980235841222,0.9338980235841222,0.9338980235841222,0.9342301943198804,0.9345623650556386,0.9345623650556386,0.9350606211592759,0.9350606211592759,0.935226706527155,0.935392791895034,0.9360571333665504,0.9360571333665504,0.9362232187344295,0.9362232187344295,0.9363893041023086,0.9363893041023086,0.9367214748380668,0.9367214748380668,0.9368875602059459,0.9368875602059459,0.937053645573825,0.937053645573825,0.9372197309417041,0.9372197309417041,0.9373858163095832,0.9373858163095832,0.9377179870453413,0.9380501577810995,0.9380501577810995,0.9382162431489786,0.9382162431489786,0.9387144992526159,0.9387144992526159,0.9387144992526159,0.938880584620495,0.9392127553562531,0.9393788407241322,0.9393788407241322,0.9395449260920113,0.9395449260920113,0.9398770968277694,0.9398770968277694,0.9402092675635276,0.9402092675635276,0.9403753529314067,0.9403753529314067,0.9407075236671649,0.940873609035044,0.940873609035044,0.9410396944029231,0.9410396944029231,0.9413718651386813,0.9413718651386813,0.9418701212423185,0.9422022919780767,0.9423683773459558,0.9423683773459558,0.9428666334495931,0.9430327188174722,0.9433648895532304,0.9433648895532304,0.9436970602889886,0.9436970602889886,0.9436970602889886,0.9438631456568676,0.9438631456568676,0.9440292310247467,0.9443614017605049,0.9443614017605049,0.9443614017605049,0.944527487128384,0.944527487128384,0.944527487128384,0.9446935724962631,0.9451918285999004,0.9451918285999004,0.9453579139677795,0.9453579139677795,0.9455239993356586,0.9458561700714168,0.9458561700714168,0.9461883408071748,0.9461883408071748,0.9466865969108121,0.9470187676465703,0.9471848530144494,0.9471848530144494,0.9475170237502076,0.9475170237502076,0.948347450589603,0.948347450589603,0.9485135359574821,0.9485135359574821,0.9488457066932403,0.9488457066932403,0.9488457066932403,0.9491778774289985,0.9491778774289985,0.9495100481647567,0.9495100481647567,0.9501743896362731,0.9501743896362731,0.9501743896362731,0.9508387311077894,0.9510048164756685,0.9510048164756685,0.9513369872114267,0.9521674140508222,0.9521674140508222,0.9524995847865803,0.9524995847865803,0.9526656701544594,0.9528317555223385,0.9528317555223385,0.953662182361734,0.953662182361734,0.953828267729613,0.953828267729613,0.9541604384653712,0.9541604384653712,0.9544926092011293,0.9544926092011293,0.9546586945690084,0.9546586945690084,0.9554891214084039,0.9554891214084039,0.955655206776283,0.9561534628799203,0.9564856336156785,0.9564856336156785,0.9566517189835575,0.9566517189835575,0.9566517189835575,0.9568178043514366,0.9571499750871948,0.9571499750871948,0.957482145822953,0.957482145822953,0.9578143165587112,0.9578143165587112,0.9579804019265903,0.9583125726623485,0.9586447433981067,0.9586447433981067,0.9589769141338648,0.9589769141338648,0.9591429995017439,0.9591429995017439,0.9591429995017439,0.959309084869623,0.959309084869623,0.9594751702375021,0.9594751702375021,0.9594751702375021,0.9596412556053812,0.9596412556053812,0.9598073409732603,0.9598073409732603,0.9599734263411394,0.9604716824447767,0.9604716824447767,0.961302109284172,0.9614681946520511,0.9618003653878093,0.9618003653878093,0.9622986214914466,0.9622986214914466,0.9627968775950839,0.9632951336987211,0.9634612190666002,0.9636273044344793,0.9639594751702375,0.9639594751702375,0.9641255605381166,0.9641255605381166,0.9642916459059957,0.9642916459059957,0.9646238166417539,0.9646238166417539,0.9646238166417539,0.9646238166417539,0.9646238166417539,0.9649559873775121,0.9649559873775121,0.9651220727453911,0.9652881581132702,0.9652881581132702,0.9654542434811493,0.9654542434811493,0.9656203288490284,0.9656203288490284,0.9659524995847866,0.9661185849526657,0.9661185849526657,0.9662846703205448,0.9662846703205448,0.9664507556884239,0.966616841056303,0.9669490117920612,0.9669490117920612,0.9671150971599403,0.9672811825278192,0.9672811825278192,0.9676133532635774,0.9679455239993356,0.9681116093672147,0.9681116093672147,0.9682776947350938,0.9682776947350938,0.968609865470852,0.968609865470852,0.9687759508387311,0.9687759508387311,0.9689420362066102,0.9689420362066102,0.9691081215744893,0.9691081215744893,0.9692742069423684,0.9692742069423684,0.9694402923102474,0.9694402923102474,0.9697724630460056,0.9697724630460056,0.9701046337817638,0.9701046337817638,0.9702707191496429,0.9702707191496429,0.970436804517522,0.970436804517522,0.9707689752532802,0.9707689752532802,0.9711011459890384,0.9711011459890384,0.9712672313569175,0.9712672313569175,0.9712672313569175,0.9712672313569175,0.9712672313569175,0.9714333167247965,0.9717654874605547,0.9717654874605547,0.9719315728284338,0.9719315728284338,0.9720976581963129,0.9720976581963129,0.9720976581963129,0.9720976581963129,0.972263743564192,0.972263743564192,0.972263743564192,0.972263743564192,0.9727619996678293,0.9727619996678293,0.9730941704035875,0.9730941704035875,0.9730941704035875,0.9735924265072247,0.9735924265072247,0.9735924265072247,0.974090682610862,0.974090682610862,0.9742567679787411,0.9742567679787411,0.9744228533466202,0.9744228533466202,0.9744228533466202,0.9745889387144993,0.9745889387144993,0.9747550240823784,0.9747550240823784,0.9750871948181365,0.9750871948181365,0.9750871948181365,0.9750871948181365,0.9752532801860156,0.9754193655538947,0.9754193655538947,0.9755854509217738,0.9755854509217738,0.9757515362896528,0.9757515362896528,0.9759176216575319,0.9759176216575319,0.976083707025411,0.976083707025411,0.9764158777611692,0.9764158777611692,0.9764158777611692,0.9764158777611692,0.9765819631290483,0.9765819631290483,0.9767480484969274,0.9767480484969274,0.9769141338648065,0.9770802192326856,0.9770802192326856,0.977744560704202,0.977744560704202,0.977910646072081,0.977910646072081,0.9780767314399601,0.9780767314399601,0.9785749875435974,0.9785749875435974,0.9785749875435974,0.9790732436472347,0.9790732436472347,0.979571499750872,0.979571499750872,0.9797375851187511,0.9797375851187511,0.9799036704866301,0.9799036704866301,0.9799036704866301,0.9800697558545092,0.9800697558545092,0.9802358412223883,0.9802358412223883,0.9802358412223883,0.9802358412223883,0.9804019265902674,0.9804019265902674,0.9805680119581465,0.9805680119581465,0.9809001826939047,0.9809001826939047,0.9812323534296629,0.9812323534296629,0.9815645241654211,0.9815645241654211,0.9817306095333002,0.9820627802690582,0.9822288656369373,0.9822288656369373,0.9823949510048164,0.9823949510048164,0.9827271217405746,0.9827271217405746,0.9827271217405746,0.9827271217405746,0.9828932071084537,0.9828932071084537,0.9828932071084537,0.9828932071084537,0.9832253778442119,0.9832253778442119,0.9832253778442119,0.9832253778442119,0.9832253778442119,0.9832253778442119,0.9832253778442119,0.9832253778442119,0.983391463212091,0.983391463212091,0.9835575485799701,0.9837236339478492,0.9837236339478492,0.9838897193157283,0.9838897193157283,0.9840558046836074,0.9840558046836074,0.9842218900514864,0.9842218900514864,0.9847201461551237,0.9847201461551237,0.985218402258761,0.985218402258761,0.9857166583623983,0.9857166583623983,0.9857166583623983,0.9857166583623983,0.9858827437302774,0.9858827437302774,0.9862149144660356,0.9862149144660356,0.9867131705696728,0.9867131705696728,0.9867131705696728,0.9867131705696728,0.9868792559375519,0.9868792559375519,0.9868792559375519,0.9868792559375519,0.9868792559375519,0.987045341305431,0.987045341305431,0.9872114266733101,0.9872114266733101,0.9873775120411892,0.9873775120411892,0.9875435974090683,0.9875435974090683,0.9878757681448265,0.9878757681448265,0.9878757681448265,0.9878757681448265,0.9878757681448265,0.9878757681448265,0.9880418535127056,0.9880418535127056,0.9880418535127056,0.9880418535127056,0.9880418535127056,0.9882079388805847,0.9882079388805847,0.9882079388805847,0.9883740242484637,0.9883740242484637,0.9883740242484637,0.9887061949842219,0.9887061949842219,0.98903836571998,0.98903836571998,0.98903836571998,0.98903836571998,0.98903836571998,0.9893705364557382,0.9893705364557382,0.9895366218236173,0.9895366218236173,0.9895366218236173,0.9895366218236173,0.9895366218236173,0.9898687925593755,0.9898687925593755,0.9900348779272546,0.9900348779272546,0.9900348779272546,0.9902009632951337,0.9902009632951337,0.9903670486630128,0.9903670486630128,0.9905331340308918,0.9905331340308918,0.9906992193987709,0.9906992193987709,0.99086530476665,0.99086530476665,0.9910313901345291,0.9910313901345291,0.9911974755024082,0.9911974755024082,0.9911974755024082,0.9911974755024082,0.9911974755024082,0.9915296462381664,0.9915296462381664,0.9916957316060455,0.9916957316060455,0.9920279023418037,0.9920279023418037,0.9920279023418037,0.9920279023418037,0.9920279023418037,0.9923600730775619,0.9923600730775619,0.9923600730775619,0.9923600730775619,0.992526158445441,0.992526158445441,0.992526158445441,0.99269224381332,0.99269224381332,0.99269224381332,0.99269224381332,0.99269224381332,0.99269224381332,0.99269224381332,0.99269224381332,0.9928583291811991,0.9928583291811991,0.9930244145490782,0.9930244145490782,0.9930244145490782,0.9930244145490782,0.9930244145490782,0.9930244145490782,0.9930244145490782,0.9930244145490782,0.9930244145490782,0.9931904999169573,0.9931904999169573,0.9931904999169573,0.9931904999169573,0.9933565852848364,0.9933565852848364,0.9933565852848364,0.9933565852848364,0.9933565852848364,0.9935226706527155,0.9935226706527155,0.9935226706527155,0.9938548413884737,0.9938548413884737,0.9938548413884737,0.9938548413884737,0.9938548413884737,0.9938548413884737,0.9938548413884737,0.9938548413884737,0.9940209267563528,0.9940209267563528,0.9940209267563528,0.9940209267563528,0.9941870121242319,0.9941870121242319,0.9941870121242319,0.9941870121242319,0.9941870121242319,0.9941870121242319,0.994353097492111,0.994353097492111,0.994353097492111,0.9945191828599901,0.9945191828599901,0.9945191828599901,0.9945191828599901,0.9945191828599901,0.9945191828599901,0.9945191828599901,0.9945191828599901,0.9945191828599901,0.9945191828599901,0.9945191828599901,0.9946852682278692,0.9946852682278692,0.9946852682278692,0.9946852682278692,0.9946852682278692,0.9946852682278692,0.9948513535957482,0.9948513535957482,0.9951835243315064,0.9951835243315064,0.9953496096993855,0.9953496096993855,0.9953496096993855,0.9953496096993855,0.9955156950672646,0.9955156950672646,0.9955156950672646,0.9956817804351437,0.9956817804351437,0.9956817804351437,0.9956817804351437,0.9956817804351437,0.9958478658030228,0.9958478658030228,0.9958478658030228,0.9958478658030228,0.9960139511709019,0.9960139511709019,0.9960139511709019,0.996180036538781,0.996180036538781,0.99634612190666,0.99634612190666,0.9965122072745392,0.9965122072745392,0.9965122072745392,0.9965122072745392,0.9965122072745392,0.9965122072745392,0.9966782926424183,0.9966782926424183,0.9966782926424183,0.9968443780102972,0.9968443780102972,0.9970104633781763,0.9970104633781763,0.9970104633781763,0.9970104633781763,0.9970104633781763,0.9970104633781763,0.9971765487460554,0.9971765487460554,0.9971765487460554,0.9971765487460554,0.9971765487460554,0.9971765487460554,0.9971765487460554,0.9971765487460554,0.9971765487460554,0.9971765487460554,0.9973426341139345,0.9973426341139345,0.9975087194818136,0.9975087194818136,0.9975087194818136,0.9975087194818136,0.9976748048496927,0.9976748048496927,0.9976748048496927,0.9976748048496927,0.9976748048496927,0.9976748048496927,0.9976748048496927,0.9976748048496927,0.9976748048496927,0.9976748048496927,0.9976748048496927,0.9976748048496927,0.9978408902175718,0.9978408902175718,0.9980069755854509,0.9980069755854509,0.9980069755854509,0.9980069755854509,0.9980069755854509,0.9980069755854509,0.9980069755854509,0.9980069755854509,0.9980069755854509,0.9980069755854509,0.99817306095333,0.99817306095333,0.99817306095333,0.9983391463212091,0.9983391463212091,0.9983391463212091,0.9983391463212091,0.9985052316890882,0.9985052316890882,0.9985052316890882,0.9985052316890882,0.9985052316890882,0.9985052316890882,0.9985052316890882,0.9985052316890882,0.9985052316890882,0.9985052316890882,0.9986713170569673,0.9986713170569673,0.9986713170569673,0.9986713170569673,0.9986713170569673,0.9986713170569673,0.9986713170569673,0.9986713170569673,0.9986713170569673,0.9986713170569673,0.9986713170569673,0.9986713170569673,0.9986713170569673,0.9986713170569673,0.9986713170569673,0.9986713170569673,0.9986713170569673,0.9986713170569673,0.9986713170569673,0.9986713170569673,0.9986713170569673,0.9986713170569673,0.9988374024248464,0.9988374024248464,0.9988374024248464,0.9988374024248464,0.9988374024248464,0.9988374024248464,0.9988374024248464,0.9988374024248464,0.9988374024248464,0.9988374024248464,0.9988374024248464,0.9988374024248464,0.9988374024248464,0.9988374024248464,0.9988374024248464,0.9988374024248464,0.9988374024248464,0.9988374024248464,0.9988374024248464,0.9988374024248464,0.9988374024248464,0.9988374024248464,0.9990034877927254,0.9990034877927254,0.9990034877927254,0.9990034877927254,0.9990034877927254,0.9990034877927254,0.9990034877927254,0.9990034877927254,0.9990034877927254,0.9990034877927254,0.9990034877927254,0.9990034877927254,0.9990034877927254,0.9990034877927254,0.9990034877927254,0.9990034877927254,0.9990034877927254,0.9990034877927254,0.9990034877927254,0.9990034877927254,0.9990034877927254,0.9990034877927254,0.9990034877927254,0.9990034877927254,0.9990034877927254,0.9990034877927254,0.9990034877927254,0.9990034877927254,0.9990034877927254,0.9990034877927254,0.9990034877927254,0.9990034877927254,0.9990034877927254,0.9990034877927254,0.9990034877927254,0.9990034877927254,0.9990034877927254,0.9991695731606045,0.9991695731606045,0.9991695731606045,0.9991695731606045,0.9991695731606045,0.9991695731606045,0.9991695731606045,0.9991695731606045,0.9991695731606045,0.9991695731606045,0.9991695731606045,0.9991695731606045,0.9991695731606045,0.9993356585284836,0.9993356585284836,0.9993356585284836,0.9993356585284836,0.9993356585284836,0.9993356585284836,0.9993356585284836,0.9993356585284836,0.9995017438963627,0.9995017438963627,0.9995017438963627,0.9995017438963627,0.9995017438963627,0.9995017438963627,0.9995017438963627,0.9995017438963627,0.9995017438963627,0.9995017438963627,0.9995017438963627,0.9995017438963627,0.9995017438963627,0.9995017438963627,0.9995017438963627,0.9995017438963627,0.9995017438963627,0.9995017438963627,0.9995017438963627,0.9995017438963627,0.9995017438963627,0.9995017438963627,0.9995017438963627,0.9995017438963627,0.9995017438963627,0.9995017438963627,0.9995017438963627,0.9995017438963627,0.9995017438963627,0.9995017438963627,0.9995017438963627,0.9995017438963627,0.9995017438963627,0.9995017438963627,0.9995017438963627,0.9995017438963627,0.9995017438963627,0.9995017438963627,0.9995017438963627,0.9995017438963627,0.9995017438963627,0.9995017438963627,0.9995017438963627,0.9995017438963627,0.9995017438963627,0.9995017438963627,0.9995017438963627,0.9995017438963627,0.9995017438963627,0.9995017438963627,0.9995017438963627,0.9995017438963627,0.9995017438963627,0.9995017438963627,0.9995017438963627,0.9995017438963627,0.9995017438963627,0.9995017438963627,0.9995017438963627,0.9995017438963627,0.9995017438963627,0.9995017438963627,0.9995017438963627,0.9995017438963627,0.9995017438963627,0.9995017438963627,0.9995017438963627,0.9995017438963627,0.9995017438963627,0.9995017438963627,0.9995017438963627,0.9995017438963627,0.9995017438963627,0.9995017438963627,0.9995017438963627,0.9995017438963627,0.9995017438963627,0.9995017438963627,0.9995017438963627,0.9995017438963627,0.9995017438963627,0.9995017438963627,0.9995017438963627,0.9995017438963627,0.9995017438963627,0.9995017438963627,0.9995017438963627,0.9995017438963627,0.9995017438963627,0.9995017438963627,0.9995017438963627,0.9995017438963627,0.9995017438963627,0.9995017438963627,0.9995017438963627,0.9995017438963627,0.9995017438963627,0.9995017438963627,0.9995017438963627,0.9995017438963627,0.9995017438963627,0.9995017438963627,0.9995017438963627,0.9995017438963627,0.9995017438963627,0.9995017438963627,0.9995017438963627,0.9995017438963627,0.9995017438963627,0.9995017438963627,0.9995017438963627,0.9995017438963627,0.9995017438963627,0.9996678292642418,0.9996678292642418,0.9998339146321209,0.9998339146321209,0.9998339146321209,0.9998339146321209,0.9998339146321209,0.9998339146321209,0.9998339146321209,0.9998339146321209,0.9998339146321209,0.9998339146321209,0.9998339146321209,0.9998339146321209,0.9998339146321209,0.9998339146321209,0.9998339146321209,0.9998339146321209,0.9998339146321209,0.9998339146321209,0.9998339146321209,0.9998339146321209,0.9998339146321209,0.9998339146321209,0.9998339146321209,0.9998339146321209,0.9998339146321209,0.9998339146321209,0.9998339146321209,0.9998339146321209,0.9998339146321209,0.9998339146321209,0.9998339146321209,0.9998339146321209,0.9998339146321209,0.9998339146321209,0.9998339146321209,0.9998339146321209,0.9998339146321209,0.9998339146321209,0.9998339146321209,0.9998339146321209,0.9998339146321209,0.9998339146321209,0.9998339146321209,0.9998339146321209,0.9998339146321209,0.9998339146321209,0.9998339146321209,0.9998339146321209,0.9998339146321209,0.9998339146321209,0.9998339146321209,0.9998339146321209,0.9998339146321209,0.9998339146321209,0.9998339146321209,0.9998339146321209,0.9998339146321209,0.9998339146321209,0.9998339146321209,0.9998339146321209,0.9998339146321209,0.9998339146321209,0.9998339146321209,0.9998339146321209,0.9998339146321209,0.9998339146321209,0.9998339146321209,0.9998339146321209,0.9998339146321209,0.9998339146321209,0.9998339146321209,0.9998339146321209,0.9998339146321209,0.9998339146321209,0.9998339146321209,0.9998339146321209,0.9998339146321209,0.9998339146321209,0.9998339146321209,0.9998339146321209,0.9998339146321209,0.9998339146321209,0.9998339146321209,0.9998339146321209,0.9998339146321209,0.9998339146321209,0.9998339146321209,0.9998339146321209,0.9998339146321209,0.9998339146321209,0.9998339146321209,0.9998339146321209,0.9998339146321209,0.9998339146321209,0.9998339146321209,0.9998339146321209,0.9998339146321209,0.9998339146321209,0.9998339146321209,0.9998339146321209,0.9998339146321209,0.9998339146321209,0.9998339146321209,0.9998339146321209,0.9998339146321209,0.9998339146321209,0.9998339146321209,0.9998339146321209,0.9998339146321209,0.9998339146321209,0.9998339146321209,0.9998339146321209,0.9998339146321209,0.9998339146321209,0.9998339146321209,0.9998339146321209,0.9998339146321209,0.9998339146321209,0.9998339146321209,0.9998339146321209,0.9998339146321209,0.9998339146321209,0.9998339146321209,0.9998339146321209,0.9998339146321209,0.9998339146321209,0.9998339146321209,0.9998339146321209,0.9998339146321209,0.9998339146321209,0.9998339146321209,0.9998339146321209,0.9998339146321209,0.9998339146321209,0.9998339146321209,0.9998339146321209,0.9998339146321209,0.9998339146321209,0.9998339146321209,0.9998339146321209,0.9998339146321209,0.9998339146321209,0.9998339146321209,0.9998339146321209,0.9998339146321209,0.9998339146321209,0.9998339146321209,0.9998339146321209,0.9998339146321209,0.9998339146321209,0.9998339146321209,0.9998339146321209,0.9998339146321209,0.9998339146321209,0.9998339146321209,0.9998339146321209,0.9998339146321209,0.9998339146321209,0.9998339146321209,0.9998339146321209,0.9998339146321209,0.9998339146321209,0.9998339146321209,0.9998339146321209,0.9998339146321209,0.9998339146321209,0.9998339146321209,0.9998339146321209,0.9998339146321209,0.9998339146321209,0.9998339146321209,0.9998339146321209,0.9998339146321209,0.9998339146321209,0.9998339146321209,0.9998339146321209,0.9998339146321209,0.9998339146321209,0.9998339146321209,0.9998339146321209,0.9998339146321209,0.9998339146321209,0.9998339146321209,0.9998339146321209,0.9998339146321209,0.9998339146321209,0.9998339146321209,0.9998339146321209,0.9998339146321209,0.9998339146321209,0.9998339146321209,0.9998339146321209,0.9998339146321209,0.9998339146321209,0.9998339146321209,0.9998339146321209,0.9998339146321209,0.9998339146321209,0.9998339146321209,0.9998339146321209,0.9998339146321209,0.9998339146321209,0.9998339146321209,0.9998339146321209,0.9998339146321209,0.9998339146321209,0.9998339146321209,0.9998339146321209,0.9998339146321209,0.9998339146321209,0.9998339146321209,0.9998339146321209,0.9998339146321209,0.9998339146321209,0.9998339146321209,0.9998339146321209,0.9998339146321209,0.9998339146321209,0.9998339146321209,0.9998339146321209,0.9998339146321209,0.9998339146321209,0.9998339146321209,0.9998339146321209,0.9998339146321209,0.9998339146321209,0.9998339146321209,0.9998339146321209,0.9998339146321209,0.9998339146321209,0.9998339146321209,0.9998339146321209,0.9998339146321209,0.9998339146321209,0.9998339146321209,0.9998339146321209,0.9998339146321209,0.9998339146321209,0.9998339146321209,0.9998339146321209,0.9998339146321209,0.9998339146321209,0.9998339146321209,0.9998339146321209,0.9998339146321209,0.9998339146321209,0.9998339146321209,0.9998339146321209,0.9998339146321209,0.9998339146321209,0.9998339146321209,0.9998339146321209,0.9998339146321209,0.9998339146321209,0.9998339146321209,0.9998339146321209,0.9998339146321209,0.9998339146321209,0.9998339146321209,0.9998339146321209,0.9998339146321209,0.9998339146321209,0.9998339146321209,0.9998339146321209,0.9998339146321209,0.9998339146321209,0.9998339146321209,0.9998339146321209,0.9998339146321209,0.9998339146321209,0.9998339146321209,0.9998339146321209,0.9998339146321209,0.9998339146321209,0.9998339146321209,0.9998339146321209,0.9998339146321209,0.9998339146321209,0.9998339146321209,0.9998339146321209,0.9998339146321209,0.9998339146321209,0.9998339146321209,0.9998339146321209,0.9998339146321209,0.9998339146321209,0.9998339146321209,0.9998339146321209,0.9998339146321209,0.9998339146321209,0.9998339146321209,0.9998339146321209,0.9998339146321209,0.9998339146321209,0.9998339146321209,0.9998339146321209,0.9998339146321209,0.9998339146321209,0.9998339146321209,0.9998339146321209,0.9998339146321209,0.9998339146321209,0.9998339146321209,0.9998339146321209,0.9998339146321209,0.9998339146321209,0.9998339146321209,0.9998339146321209,0.9998339146321209,0.9998339146321209,0.9998339146321209,0.9998339146321209,0.9998339146321209,0.9998339146321209,0.9998339146321209,0.9998339146321209,0.9998339146321209,0.9998339146321209,0.9998339146321209,0.9998339146321209,0.9998339146321209,0.9998339146321209,0.9998339146321209,0.9998339146321209,0.9998339146321209,0.9998339146321209,0.9998339146321209,0.9998339146321209,0.9998339146321209,0.9998339146321209,0.9998339146321209,0.9998339146321209,0.9998339146321209,0.9998339146321209,0.9998339146321209,0.9998339146321209,0.9998339146321209,0.9998339146321209,0.9998339146321209,0.9998339146321209,0.9998339146321209,0.9998339146321209,0.9998339146321209,0.9998339146321209,0.9998339146321209,0.9998339146321209,0.9998339146321209,0.9998339146321209,0.9998339146321209,0.9998339146321209,0.9998339146321209,0.9998339146321209,0.9998339146321209,0.9998339146321209,0.9998339146321209,0.9998339146321209,0.9998339146321209,0.9998339146321209,0.9998339146321209,0.9998339146321209,0.9998339146321209,0.9998339146321209,0.9998339146321209,0.9998339146321209,0.9998339146321209,0.9998339146321209,0.9998339146321209,0.9998339146321209,0.9998339146321209,0.9998339146321209,0.9998339146321209,0.9998339146321209,0.9998339146321209,0.9998339146321209,0.9998339146321209,0.9998339146321209,0.9998339146321209,0.9998339146321209,0.9998339146321209,0.9998339146321209,0.9998339146321209,0.9998339146321209,0.9998339146321209,0.9998339146321209,0.9998339146321209,0.9998339146321209,0.9998339146321209,0.9998339146321209,0.9998339146321209,0.9998339146321209,0.9998339146321209,0.9998339146321209,0.9998339146321209,0.9998339146321209,0.9998339146321209,0.9998339146321209,1.0,1.0,1.0,1.0,1.0,1.0,1.0,1.0,1.0,1.0,1.0,1.0,1.0,1.0,1.0,1.0,1.0,1.0,1.0,1.0,1.0,1.0,1.0,1.0,1.0,1.0,1.0,1.0,1.0,1.0,1.0,1.0,1.0,1.0,1.0,1.0,1.0,1.0,1.0,1.0,1.0,1.0,1.0,1.0,1.0,1.0,1.0,1.0,1.0,1.0,1.0,1.0,1.0,1.0,1.0,1.0,1.0,1.0,1.0,1.0,1.0,1.0,1.0,1.0,1.0,1.0,1.0,1.0,1.0,1.0,1.0,1.0,1.0,1.0,1.0,1.0,1.0,1.0,1.0,1.0,1.0,1.0,1.0,1.0,1.0,1.0,1.0,1.0,1.0,1.0,1.0,1.0,1.0,1.0,1.0,1.0,1.0,1.0,1.0,1.0,1.0,1.0,1.0,1.0,1.0,1.0,1.0,1.0,1.0,1.0,1.0,1.0,1.0,1.0,1.0,1.0,1.0,1.0,1.0,1.0,1.0,1.0,1.0,1.0,1.0,1.0,1.0,1.0,1.0,1.0,1.0,1.0,1.0,1.0,1.0,1.0,1.0,1.0,1.0,1.0,1.0,1.0,1.0,1.0,1.0,1.0,1.0,1.0,1.0,1.0,1.0,1.0,1.0,1.0,1.0,1.0,1.0,1.0,1.0,1.0,1.0,1.0,1.0,1.0,1.0,1.0,1.0,1.0,1.0,1.0,1.0,1.0,1.0,1.0,1.0,1.0,1.0,1.0,1.0,1.0,1.0,1.0,1.0,1.0,1.0,1.0,1.0,1.0,1.0,1.0,1.0,1.0,1.0,1.0,1.0,1.0,1.0,1.0,1.0,1.0,1.0,1.0,1.0,1.0,1.0,1.0,1.0,1.0,1.0,1.0,1.0,1.0,1.0,1.0,1.0,1.0,1.0,1.0,1.0,1.0,1.0,1.0,1.0,1.0,1.0,1.0,1.0,1.0,1.0,1.0,1.0,1.0,1.0,1.0,1.0,1.0,1.0,1.0,1.0,1.0,1.0,1.0,1.0,1.0,1.0,1.0,1.0,1.0,1.0,1.0,1.0,1.0,1.0,1.0,1.0,1.0,1.0,1.0,1.0,1.0,1.0,1.0,1.0,1.0,1.0,1.0,1.0,1.0,1.0,1.0,1.0,1.0,1.0,1.0,1.0,1.0,1.0,1.0,1.0,1.0,1.0,1.0,1.0,1.0,1.0,1.0,1.0,1.0,1.0,1.0,1.0,1.0,1.0,1.0,1.0,1.0,1.0,1.0,1.0,1.0,1.0,1.0,1.0,1.0,1.0,1.0,1.0,1.0,1.0,1.0,1.0,1.0,1.0,1.0,1.0,1.0,1.0,1.0,1.0,1.0,1.0,1.0,1.0,1.0,1.0,1.0,1.0,1.0,1.0,1.0,1.0,1.0,1.0,1.0,1.0,1.0,1.0,1.0,1.0,1.0,1.0,1.0,1.0,1.0,1.0,1.0,1.0,1.0,1.0,1.0,1.0,1.0,1.0,1.0,1.0,1.0,1.0,1.0,1.0,1.0,1.0,1.0,1.0,1.0,1.0,1.0,1.0,1.0,1.0,1.0,1.0,1.0,1.0,1.0,1.0,1.0,1.0,1.0,1.0,1.0,1.0,1.0,1.0,1.0,1.0,1.0,1.0,1.0,1.0,1.0,1.0,1.0,1.0,1.0,1.0,1.0,1.0,1.0,1.0,1.0,1.0,1.0,1.0,1.0,1.0,1.0,1.0,1.0,1.0,1.0,1.0,1.0,1.0,1.0,1.0,1.0,1.0,1.0,1.0,1.0,1.0,1.0,1.0,1.0,1.0,1.0,1.0,1.0,1.0,1.0,1.0,1.0,1.0,1.0,1.0,1.0,1.0,1.0,1.0,1.0,1.0,1.0,1.0,1.0,1.0,1.0,1.0,1.0,1.0],\"type\":\"scatter\"},{\"mode\":\"lines\",\"name\":\"yes (AUC=0.98)\",\"x\":[0.0,0.0,0.0,0.0,0.0,0.0,0.0,0.0,0.0,0.0,0.0,0.0,0.0,0.0,0.0,0.0,0.0,0.0,0.0,0.0,0.0,0.0,0.0,0.0,0.0,0.0,0.0,0.0,0.0,0.0,0.0,0.0,0.0,0.0,0.0,0.0,0.0,0.0,0.0,0.0,0.0,0.0,0.0,0.0,0.0,0.0,0.0,0.0,0.0,0.0,0.0,0.0,0.0,0.0,0.0,0.0,0.0,0.0,0.0,0.0,0.0,0.0,0.0,0.0,0.0,0.0,0.0,0.0,0.0,0.0,0.0,0.0,0.0,0.0,0.0,0.0,0.0,0.0,0.0,0.0,0.0,0.0,0.0,0.0,0.0,0.0,0.0,0.0,0.0,0.0,0.0,0.0,0.0,0.0,0.0,0.0,0.0,0.0,0.0,0.0,0.0,0.0,0.0,0.0,0.0,0.0,0.0,0.0,0.0,0.0,0.0,0.0,0.0,0.0,0.0,0.0,0.0,0.0,0.0,0.0,0.0,0.0,0.0,0.0,0.0,0.0,0.0,0.0,0.0,0.0,0.0,0.0,0.0,0.0,0.0,0.0,0.0,0.0,0.0,0.0,0.0,0.0,0.0,0.0,0.0,0.0,0.0,0.0,0.0,0.0,0.0,0.0,0.0,0.0,0.0,0.0,0.0,0.0,0.0,0.0,0.0,0.0,0.0,0.0,0.0,0.0,0.0,0.0,0.0,0.0,0.0,0.0,0.0,0.0,0.0,0.0,0.0,0.0,0.0,0.0,0.0,0.0,0.0,0.0,0.0,0.0,0.0,0.0,0.0,0.0,0.0,0.0,0.0,0.0,0.0,0.0,0.0,0.0,0.0,0.0,0.0,0.0,0.0,0.0,0.0,0.0,0.0,0.0,0.0,0.0,0.0,0.0,0.0,0.0,0.0,0.0,0.0,0.0,0.0,0.0,0.0,0.0,0.0,0.0,0.0,0.0,0.0,0.0,0.0,0.0,0.0,0.0,0.0,0.0,0.0,0.0,0.0,0.0,0.0,0.0,0.0,0.0,0.0,0.0,0.0,0.0,0.0,0.0,0.0,0.0,0.0,0.0,0.0,0.0,0.0,0.0,0.0,0.0,0.0,0.0,0.0,0.0,0.0,0.0,0.0,0.0,0.0,0.0,0.0,0.0,0.0,0.0,0.0,0.0,0.0,0.0,0.0,0.0,0.0,0.0,0.0,0.0,0.0,0.0,0.0,0.0,0.0,0.0,0.0,0.0,0.0,0.0,0.0,0.0,0.0,0.0,0.0,0.0,0.0,0.0,0.0,0.0,0.0,0.0,0.0,0.0,0.0,0.0,0.0,0.0,0.0,0.0,0.0,0.0,0.0,0.0,0.0,0.0,0.0,0.0,0.0,0.0,0.0,0.0,0.0,0.0,0.0,0.0,0.0,0.0,0.0,0.0,0.0,0.0,0.0,0.0,0.0,0.0,0.0,0.0,0.0,0.0,0.0,0.0,0.0,0.0,0.0,0.0,0.0,0.0,0.0,0.0,0.0,0.0,0.0,0.0,0.0,0.0,0.0,0.0,0.0,0.0,0.0,0.0,0.0,0.0,0.0,0.0,0.0,0.0,0.0,0.0,0.0,0.0,0.0,0.0,0.0,0.0,0.0,0.0,0.0,0.0,0.0,0.0,0.0,0.0,0.0,0.0,0.0,0.0,0.0,0.0,0.0,0.0,0.0,0.0,0.0,0.0,0.0,0.0,0.0,0.0,0.0,0.0,0.0,0.0,0.0,0.0,0.0,0.0,0.0,0.0,0.0,0.0,0.0,0.0,0.0,0.0,0.0,0.0,0.0,0.0,0.0,0.0,0.0,0.0,0.0,0.0,0.0,0.0,0.0,0.0,0.0,0.0,0.0,0.0,0.0,0.0,0.0,0.0,0.0,0.0,0.0,0.0,0.0,0.0,0.0,0.0,0.0,0.00016608536787908985,0.00016608536787908985,0.00016608536787908985,0.00016608536787908985,0.00016608536787908985,0.00016608536787908985,0.00016608536787908985,0.00016608536787908985,0.00016608536787908985,0.00016608536787908985,0.00016608536787908985,0.00016608536787908985,0.00016608536787908985,0.00016608536787908985,0.00016608536787908985,0.00016608536787908985,0.00016608536787908985,0.00016608536787908985,0.00016608536787908985,0.00016608536787908985,0.00016608536787908985,0.00016608536787908985,0.00016608536787908985,0.00016608536787908985,0.00016608536787908985,0.00016608536787908985,0.00016608536787908985,0.00016608536787908985,0.00016608536787908985,0.00016608536787908985,0.00016608536787908985,0.00016608536787908985,0.00016608536787908985,0.00016608536787908985,0.00016608536787908985,0.00016608536787908985,0.00016608536787908985,0.00016608536787908985,0.00016608536787908985,0.00016608536787908985,0.00016608536787908985,0.00016608536787908985,0.00016608536787908985,0.00016608536787908985,0.00016608536787908985,0.00016608536787908985,0.00016608536787908985,0.00016608536787908985,0.00016608536787908985,0.00016608536787908985,0.00016608536787908985,0.00016608536787908985,0.00016608536787908985,0.00016608536787908985,0.00016608536787908985,0.00016608536787908985,0.00016608536787908985,0.00016608536787908985,0.00016608536787908985,0.00016608536787908985,0.00016608536787908985,0.00016608536787908985,0.00016608536787908985,0.00016608536787908985,0.00016608536787908985,0.00016608536787908985,0.00016608536787908985,0.00016608536787908985,0.00016608536787908985,0.00016608536787908985,0.00016608536787908985,0.00016608536787908985,0.00016608536787908985,0.00016608536787908985,0.00016608536787908985,0.00016608536787908985,0.00016608536787908985,0.00016608536787908985,0.00016608536787908985,0.00016608536787908985,0.00016608536787908985,0.00016608536787908985,0.00016608536787908985,0.00016608536787908985,0.00016608536787908985,0.00016608536787908985,0.00016608536787908985,0.00016608536787908985,0.00016608536787908985,0.00016608536787908985,0.00016608536787908985,0.00016608536787908985,0.00016608536787908985,0.00016608536787908985,0.00016608536787908985,0.00016608536787908985,0.00016608536787908985,0.00016608536787908985,0.00016608536787908985,0.00016608536787908985,0.00016608536787908985,0.00016608536787908985,0.00016608536787908985,0.00016608536787908985,0.00016608536787908985,0.00016608536787908985,0.00016608536787908985,0.00016608536787908985,0.00016608536787908985,0.00016608536787908985,0.00016608536787908985,0.00016608536787908985,0.00016608536787908985,0.00016608536787908985,0.00016608536787908985,0.00016608536787908985,0.00016608536787908985,0.00016608536787908985,0.00016608536787908985,0.00016608536787908985,0.00016608536787908985,0.00016608536787908985,0.00016608536787908985,0.00016608536787908985,0.00016608536787908985,0.00016608536787908985,0.00016608536787908985,0.00016608536787908985,0.00016608536787908985,0.00016608536787908985,0.00016608536787908985,0.00016608536787908985,0.00016608536787908985,0.00016608536787908985,0.00016608536787908985,0.00016608536787908985,0.00016608536787908985,0.00016608536787908985,0.00016608536787908985,0.00016608536787908985,0.00016608536787908985,0.00016608536787908985,0.00016608536787908985,0.00016608536787908985,0.00016608536787908985,0.00016608536787908985,0.00016608536787908985,0.00016608536787908985,0.00016608536787908985,0.00016608536787908985,0.00016608536787908985,0.00016608536787908985,0.00016608536787908985,0.00016608536787908985,0.00016608536787908985,0.00016608536787908985,0.00016608536787908985,0.00016608536787908985,0.00016608536787908985,0.00016608536787908985,0.00016608536787908985,0.00016608536787908985,0.00016608536787908985,0.00016608536787908985,0.00016608536787908985,0.00016608536787908985,0.00016608536787908985,0.00016608536787908985,0.00016608536787908985,0.00016608536787908985,0.00016608536787908985,0.00016608536787908985,0.00016608536787908985,0.00016608536787908985,0.00016608536787908985,0.00016608536787908985,0.00016608536787908985,0.00016608536787908985,0.00016608536787908985,0.00016608536787908985,0.00016608536787908985,0.00016608536787908985,0.00016608536787908985,0.00016608536787908985,0.00016608536787908985,0.00016608536787908985,0.00016608536787908985,0.00016608536787908985,0.00016608536787908985,0.00016608536787908985,0.00016608536787908985,0.00016608536787908985,0.00016608536787908985,0.00016608536787908985,0.00016608536787908985,0.00016608536787908985,0.00016608536787908985,0.00016608536787908985,0.00016608536787908985,0.00016608536787908985,0.00016608536787908985,0.00016608536787908985,0.00016608536787908985,0.00016608536787908985,0.00016608536787908985,0.00016608536787908985,0.00016608536787908985,0.00016608536787908985,0.00016608536787908985,0.00016608536787908985,0.00016608536787908985,0.00016608536787908985,0.00016608536787908985,0.00016608536787908985,0.00016608536787908985,0.00016608536787908985,0.00016608536787908985,0.00016608536787908985,0.00016608536787908985,0.00016608536787908985,0.00016608536787908985,0.00016608536787908985,0.00016608536787908985,0.00016608536787908985,0.00016608536787908985,0.00016608536787908985,0.00016608536787908985,0.00016608536787908985,0.00016608536787908985,0.00016608536787908985,0.00016608536787908985,0.00016608536787908985,0.00016608536787908985,0.00016608536787908985,0.00016608536787908985,0.00016608536787908985,0.00016608536787908985,0.00016608536787908985,0.00016608536787908985,0.00016608536787908985,0.00016608536787908985,0.00016608536787908985,0.00016608536787908985,0.00016608536787908985,0.00016608536787908985,0.00016608536787908985,0.00016608536787908985,0.00016608536787908985,0.00016608536787908985,0.00016608536787908985,0.00016608536787908985,0.00016608536787908985,0.00016608536787908985,0.00016608536787908985,0.00016608536787908985,0.00016608536787908985,0.00016608536787908985,0.00016608536787908985,0.00016608536787908985,0.00016608536787908985,0.00016608536787908985,0.00016608536787908985,0.00016608536787908985,0.00016608536787908985,0.00016608536787908985,0.00016608536787908985,0.00016608536787908985,0.00016608536787908985,0.00016608536787908985,0.00016608536787908985,0.00016608536787908985,0.00016608536787908985,0.00016608536787908985,0.00016608536787908985,0.00016608536787908985,0.00016608536787908985,0.00016608536787908985,0.00016608536787908985,0.00016608536787908985,0.00016608536787908985,0.00016608536787908985,0.00016608536787908985,0.00016608536787908985,0.00016608536787908985,0.00016608536787908985,0.00016608536787908985,0.00016608536787908985,0.00016608536787908985,0.00016608536787908985,0.00016608536787908985,0.00016608536787908985,0.00016608536787908985,0.00016608536787908985,0.00016608536787908985,0.00016608536787908985,0.00016608536787908985,0.00016608536787908985,0.00016608536787908985,0.00016608536787908985,0.00016608536787908985,0.00016608536787908985,0.00016608536787908985,0.00016608536787908985,0.00016608536787908985,0.00016608536787908985,0.00016608536787908985,0.00016608536787908985,0.00016608536787908985,0.00016608536787908985,0.00016608536787908985,0.00016608536787908985,0.00016608536787908985,0.00016608536787908985,0.00016608536787908985,0.00016608536787908985,0.00016608536787908985,0.00016608536787908985,0.00016608536787908985,0.00016608536787908985,0.00016608536787908985,0.00016608536787908985,0.00016608536787908985,0.00016608536787908985,0.00016608536787908985,0.00016608536787908985,0.00016608536787908985,0.00016608536787908985,0.00016608536787908985,0.00016608536787908985,0.00016608536787908985,0.00016608536787908985,0.00016608536787908985,0.00016608536787908985,0.00016608536787908985,0.00016608536787908985,0.00016608536787908985,0.00016608536787908985,0.00016608536787908985,0.00016608536787908985,0.00016608536787908985,0.00016608536787908985,0.00016608536787908985,0.00016608536787908985,0.00016608536787908985,0.00016608536787908985,0.00016608536787908985,0.00016608536787908985,0.00016608536787908985,0.00016608536787908985,0.00016608536787908985,0.00016608536787908985,0.00016608536787908985,0.00016608536787908985,0.00016608536787908985,0.00016608536787908985,0.00016608536787908985,0.00016608536787908985,0.00016608536787908985,0.00016608536787908985,0.00016608536787908985,0.00016608536787908985,0.00016608536787908985,0.00016608536787908985,0.00016608536787908985,0.00016608536787908985,0.00016608536787908985,0.00016608536787908985,0.00016608536787908985,0.00016608536787908985,0.00016608536787908985,0.00016608536787908985,0.00016608536787908985,0.00016608536787908985,0.00016608536787908985,0.00016608536787908985,0.00016608536787908985,0.00016608536787908985,0.00016608536787908985,0.00016608536787908985,0.00016608536787908985,0.00016608536787908985,0.00016608536787908985,0.00016608536787908985,0.00016608536787908985,0.00016608536787908985,0.00016608536787908985,0.00016608536787908985,0.00016608536787908985,0.00016608536787908985,0.00016608536787908985,0.00016608536787908985,0.00016608536787908985,0.00016608536787908985,0.00016608536787908985,0.00016608536787908985,0.00016608536787908985,0.0003321707357581797,0.0003321707357581797,0.0004982561036372695,0.0004982561036372695,0.0004982561036372695,0.0004982561036372695,0.0004982561036372695,0.0004982561036372695,0.0004982561036372695,0.0004982561036372695,0.0004982561036372695,0.0004982561036372695,0.0004982561036372695,0.0004982561036372695,0.0004982561036372695,0.0004982561036372695,0.0004982561036372695,0.0004982561036372695,0.0004982561036372695,0.0004982561036372695,0.0004982561036372695,0.0004982561036372695,0.0004982561036372695,0.0004982561036372695,0.0004982561036372695,0.0004982561036372695,0.0004982561036372695,0.0004982561036372695,0.0004982561036372695,0.0004982561036372695,0.0004982561036372695,0.0004982561036372695,0.0004982561036372695,0.0004982561036372695,0.0004982561036372695,0.0004982561036372695,0.0004982561036372695,0.0004982561036372695,0.0004982561036372695,0.0004982561036372695,0.0004982561036372695,0.0004982561036372695,0.0004982561036372695,0.0004982561036372695,0.0004982561036372695,0.0004982561036372695,0.0004982561036372695,0.0004982561036372695,0.0004982561036372695,0.0004982561036372695,0.0004982561036372695,0.0004982561036372695,0.0004982561036372695,0.0004982561036372695,0.0004982561036372695,0.0004982561036372695,0.0004982561036372695,0.0004982561036372695,0.0004982561036372695,0.0004982561036372695,0.0004982561036372695,0.0004982561036372695,0.0004982561036372695,0.0004982561036372695,0.0004982561036372695,0.0004982561036372695,0.0004982561036372695,0.0004982561036372695,0.0004982561036372695,0.0004982561036372695,0.0004982561036372695,0.0004982561036372695,0.0004982561036372695,0.0004982561036372695,0.0004982561036372695,0.0004982561036372695,0.0004982561036372695,0.0004982561036372695,0.0004982561036372695,0.0004982561036372695,0.0004982561036372695,0.0004982561036372695,0.0004982561036372695,0.0004982561036372695,0.0004982561036372695,0.0004982561036372695,0.0004982561036372695,0.0004982561036372695,0.0004982561036372695,0.0004982561036372695,0.0004982561036372695,0.0004982561036372695,0.0004982561036372695,0.0004982561036372695,0.0004982561036372695,0.0004982561036372695,0.0004982561036372695,0.0004982561036372695,0.0004982561036372695,0.0004982561036372695,0.0004982561036372695,0.0004982561036372695,0.0004982561036372695,0.0004982561036372695,0.0004982561036372695,0.0004982561036372695,0.0004982561036372695,0.0004982561036372695,0.0004982561036372695,0.0004982561036372695,0.0004982561036372695,0.0004982561036372695,0.0004982561036372695,0.0004982561036372695,0.0004982561036372695,0.0006643414715163594,0.0006643414715163594,0.0006643414715163594,0.0006643414715163594,0.0006643414715163594,0.0006643414715163594,0.0006643414715163594,0.0006643414715163594,0.0008304268393954493,0.0008304268393954493,0.0008304268393954493,0.0008304268393954493,0.0008304268393954493,0.0008304268393954493,0.0008304268393954493,0.0008304268393954493,0.0008304268393954493,0.0008304268393954493,0.0008304268393954493,0.0008304268393954493,0.0008304268393954493,0.000996512207274539,0.000996512207274539,0.000996512207274539,0.000996512207274539,0.000996512207274539,0.000996512207274539,0.000996512207274539,0.000996512207274539,0.000996512207274539,0.000996512207274539,0.000996512207274539,0.000996512207274539,0.000996512207274539,0.000996512207274539,0.000996512207274539,0.000996512207274539,0.000996512207274539,0.000996512207274539,0.000996512207274539,0.000996512207274539,0.000996512207274539,0.000996512207274539,0.000996512207274539,0.000996512207274539,0.000996512207274539,0.000996512207274539,0.000996512207274539,0.000996512207274539,0.000996512207274539,0.000996512207274539,0.000996512207274539,0.000996512207274539,0.000996512207274539,0.000996512207274539,0.000996512207274539,0.000996512207274539,0.000996512207274539,0.001162597575153629,0.001162597575153629,0.001162597575153629,0.001162597575153629,0.001162597575153629,0.001162597575153629,0.001162597575153629,0.001162597575153629,0.001162597575153629,0.001162597575153629,0.001162597575153629,0.001162597575153629,0.001162597575153629,0.001162597575153629,0.001162597575153629,0.001162597575153629,0.001162597575153629,0.001162597575153629,0.001162597575153629,0.001162597575153629,0.001162597575153629,0.001162597575153629,0.0013286829430327188,0.0013286829430327188,0.0013286829430327188,0.0013286829430327188,0.0013286829430327188,0.0013286829430327188,0.0013286829430327188,0.0013286829430327188,0.0013286829430327188,0.0013286829430327188,0.0013286829430327188,0.0013286829430327188,0.0013286829430327188,0.0013286829430327188,0.0013286829430327188,0.0013286829430327188,0.0013286829430327188,0.0013286829430327188,0.0013286829430327188,0.0013286829430327188,0.0013286829430327188,0.0013286829430327188,0.0014947683109118087,0.0014947683109118087,0.0014947683109118087,0.0014947683109118087,0.0014947683109118087,0.0014947683109118087,0.0014947683109118087,0.0014947683109118087,0.0014947683109118087,0.0014947683109118087,0.0016608536787908986,0.0016608536787908986,0.0016608536787908986,0.0016608536787908986,0.0018269390466699883,0.0018269390466699883,0.0018269390466699883,0.001993024414549078,0.001993024414549078,0.001993024414549078,0.001993024414549078,0.001993024414549078,0.001993024414549078,0.001993024414549078,0.001993024414549078,0.001993024414549078,0.001993024414549078,0.002159109782428168,0.002159109782428168,0.002325195150307258,0.002325195150307258,0.002325195150307258,0.002325195150307258,0.002325195150307258,0.002325195150307258,0.002325195150307258,0.002325195150307258,0.002325195150307258,0.002325195150307258,0.002325195150307258,0.002325195150307258,0.002491280518186348,0.002491280518186348,0.002491280518186348,0.002491280518186348,0.0026573658860654377,0.0026573658860654377,0.0028234512539445276,0.0028234512539445276,0.0028234512539445276,0.0028234512539445276,0.0028234512539445276,0.0028234512539445276,0.0028234512539445276,0.0028234512539445276,0.0028234512539445276,0.0028234512539445276,0.0029895366218236174,0.0029895366218236174,0.0029895366218236174,0.0029895366218236174,0.0029895366218236174,0.0029895366218236174,0.0031556219897027073,0.0031556219897027073,0.003321707357581797,0.003321707357581797,0.003321707357581797,0.003487792725460887,0.003487792725460887,0.003487792725460887,0.003487792725460887,0.003487792725460887,0.003487792725460887,0.0036538780933399765,0.0036538780933399765,0.0038199634612190664,0.0038199634612190664,0.003986048829098156,0.003986048829098156,0.003986048829098156,0.004152134196977246,0.004152134196977246,0.004152134196977246,0.004152134196977246,0.004318219564856336,0.004318219564856336,0.004318219564856336,0.004318219564856336,0.004318219564856336,0.004484304932735426,0.004484304932735426,0.004484304932735426,0.004650390300614516,0.004650390300614516,0.004650390300614516,0.004650390300614516,0.004816475668493606,0.004816475668493606,0.0051486464042517855,0.0051486464042517855,0.005314731772130875,0.005314731772130875,0.005314731772130875,0.005314731772130875,0.005314731772130875,0.005314731772130875,0.005480817140009965,0.005480817140009965,0.005480817140009965,0.005480817140009965,0.005480817140009965,0.005480817140009965,0.005480817140009965,0.005480817140009965,0.005480817140009965,0.005480817140009965,0.005480817140009965,0.005646902507889055,0.005646902507889055,0.005646902507889055,0.005812987875768145,0.005812987875768145,0.005812987875768145,0.005812987875768145,0.005812987875768145,0.005812987875768145,0.005979073243647235,0.005979073243647235,0.005979073243647235,0.005979073243647235,0.006145158611526325,0.006145158611526325,0.006145158611526325,0.006145158611526325,0.006145158611526325,0.006145158611526325,0.006145158611526325,0.006145158611526325,0.0064773293472845045,0.0064773293472845045,0.0064773293472845045,0.006643414715163594,0.006643414715163594,0.006643414715163594,0.006643414715163594,0.006643414715163594,0.006809500083042684,0.006809500083042684,0.006809500083042684,0.006809500083042684,0.006975585450921774,0.006975585450921774,0.006975585450921774,0.006975585450921774,0.006975585450921774,0.006975585450921774,0.006975585450921774,0.006975585450921774,0.006975585450921774,0.007141670818800864,0.007141670818800864,0.007307756186679953,0.007307756186679953,0.007307756186679953,0.007307756186679953,0.007307756186679953,0.007307756186679953,0.007307756186679953,0.007307756186679953,0.007473841554559043,0.007473841554559043,0.007473841554559043,0.007639926922438133,0.007639926922438133,0.007639926922438133,0.007639926922438133,0.007972097658196313,0.007972097658196313,0.007972097658196313,0.007972097658196313,0.007972097658196313,0.008304268393954492,0.008304268393954492,0.008470353761833582,0.008470353761833582,0.008802524497591762,0.008802524497591762,0.008802524497591762,0.008802524497591762,0.008802524497591762,0.008968609865470852,0.008968609865470852,0.009134695233349942,0.009134695233349942,0.009300780601229032,0.009300780601229032,0.009466865969108122,0.009466865969108122,0.009632951336987211,0.009632951336987211,0.009799036704866301,0.009799036704866301,0.009965122072745391,0.009965122072745391,0.009965122072745391,0.010131207440624481,0.010131207440624481,0.01046337817638266,0.01046337817638266,0.01046337817638266,0.01046337817638266,0.01046337817638266,0.01062946354426175,0.01062946354426175,0.01096163428001993,0.01096163428001993,0.01096163428001993,0.01096163428001993,0.01096163428001993,0.01129380501577811,0.01129380501577811,0.01162597575153629,0.01162597575153629,0.01162597575153629,0.01179206111941538,0.01179206111941538,0.01179206111941538,0.01195814648729447,0.01195814648729447,0.01195814648729447,0.01195814648729447,0.01195814648729447,0.01212423185517356,0.01212423185517356,0.01212423185517356,0.01212423185517356,0.01212423185517356,0.01212423185517356,0.01245640259093174,0.01245640259093174,0.01262248795881083,0.01262248795881083,0.01278857332668992,0.01278857332668992,0.012954658694569009,0.012954658694569009,0.013120744062448099,0.013120744062448099,0.013120744062448099,0.013120744062448099,0.013120744062448099,0.013286829430327189,0.013286829430327189,0.013286829430327189,0.013286829430327189,0.013785085533964458,0.013785085533964458,0.014117256269722638,0.014117256269722638,0.014283341637601728,0.014283341637601728,0.014283341637601728,0.014283341637601728,0.014781597741238996,0.014781597741238996,0.015279853844876266,0.015279853844876266,0.015778109948513537,0.015778109948513537,0.015944195316392625,0.015944195316392625,0.016110280684271717,0.016110280684271717,0.016276366052150805,0.016276366052150805,0.016442451420029897,0.016608536787908985,0.016608536787908985,0.016774622155788076,0.016774622155788076,0.016774622155788076,0.016774622155788076,0.016774622155788076,0.016774622155788076,0.016774622155788076,0.016774622155788076,0.017106792891546256,0.017106792891546256,0.017106792891546256,0.017106792891546256,0.017272878259425344,0.017272878259425344,0.017272878259425344,0.017272878259425344,0.017605048995183524,0.017605048995183524,0.017771134363062616,0.017771134363062616,0.017937219730941704,0.018269390466699884,0.018435475834578975,0.018435475834578975,0.018767646570337155,0.018767646570337155,0.019099817306095335,0.019099817306095335,0.01943198804185351,0.01943198804185351,0.019598073409732603,0.019598073409732603,0.01976415877761169,0.01976415877761169,0.01976415877761169,0.01976415877761169,0.019930244145490782,0.019930244145490782,0.02009632951336987,0.02009632951336987,0.02009632951336987,0.020262414881248962,0.020262414881248962,0.02042850024912805,0.02042850024912805,0.02092675635276532,0.02092675635276532,0.02142501245640259,0.02142501245640259,0.02142501245640259,0.02192326856003986,0.02192326856003986,0.02208935392791895,0.02208935392791895,0.02225543929579804,0.02225543929579804,0.0229197807673144,0.0229197807673144,0.02308586613519349,0.02325195150307258,0.02325195150307258,0.023418036870951668,0.023418036870951668,0.02358412223883076,0.02358412223883076,0.02358412223883076,0.02358412223883076,0.02391629297458894,0.02391629297458894,0.024082378342468028,0.024082378342468028,0.02424846371034712,0.02424846371034712,0.024414549078226207,0.024414549078226207,0.0245806344461053,0.0245806344461053,0.024746719813984387,0.02491280518186348,0.02491280518186348,0.02491280518186348,0.02491280518186348,0.02524497591762166,0.02524497591762166,0.025411061285500747,0.025411061285500747,0.02557714665337984,0.02557714665337984,0.02557714665337984,0.025743232021258926,0.025743232021258926,0.025909317389138018,0.025909317389138018,0.026407573492775286,0.026407573492775286,0.026407573492775286,0.026905829596412557,0.026905829596412557,0.026905829596412557,0.027238000332170737,0.027238000332170737,0.027736256435808005,0.027736256435808005,0.027736256435808005,0.027736256435808005,0.027902341803687097,0.027902341803687097,0.027902341803687097,0.027902341803687097,0.028068427171566185,0.028068427171566185,0.028234512539445276,0.028234512539445276,0.028566683275203456,0.028732768643082544,0.028732768643082544,0.028732768643082544,0.028732768643082544,0.028732768643082544,0.028898854010961636,0.028898854010961636,0.029231024746719812,0.029231024746719812,0.029563195482477992,0.029563195482477992,0.029729280850357084,0.029729280850357084,0.029895366218236172,0.029895366218236172,0.03022753695399435,0.03022753695399435,0.03055970768975253,0.03055970768975253,0.030725793057631623,0.030725793057631623,0.03089187842551071,0.03089187842551071,0.031057963793389803,0.031057963793389803,0.03122404916126889,0.03122404916126889,0.03139013452914798,0.03139013452914798,0.03172230526490616,0.03172230526490616,0.03188839063278525,0.03188839063278525,0.03205447600066434,0.03238664673642252,0.0327188174721807,0.0327188174721807,0.03288490284005979,0.03305098820793888,0.03305098820793888,0.03338315894369706,0.03354924431157615,0.03371532967945524,0.03371532967945524,0.03388141504733433,0.03388141504733433,0.03404750041521342,0.0343796711509716,0.0343796711509716,0.03454575651885069,0.03454575651885069,0.03471184188672978,0.03471184188672978,0.03487792725460887,0.035044012622487956,0.035044012622487956,0.03537618335824614,0.03537618335824614,0.03537618335824614,0.03537618335824614,0.03537618335824614,0.035708354094004316,0.035708354094004316,0.03587443946188341,0.03587443946188341,0.0360405248297625,0.0360405248297625,0.036372695565520675,0.03653878093339977,0.03670486630127886,0.03720312240491613,0.037701378508553395,0.037701378508553395,0.03819963461219067,0.03819963461219067,0.038531805347948846,0.03869789071582794,0.03952831755522338,0.03952831755522338,0.040026573658860656,0.04019265902673974,0.04019265902673974,0.04035874439461883,0.04035874439461883,0.040524829762497924,0.040524829762497924,0.040524829762497924,0.040690915130377016,0.040690915130377016,0.0408570004982561,0.0408570004982561,0.0408570004982561,0.04102308586613519,0.04102308586613519,0.041355256601893375,0.041355256601893375,0.04168742733765155,0.042019598073409735,0.04218568344128882,0.04218568344128882,0.042517854177047,0.042517854177047,0.04285002491280518,0.04285002491280518,0.04318219564856336,0.043348281016442454,0.043348281016442454,0.043348281016442454,0.04351436638432154,0.04351436638432154,0.04384653712007972,0.04434479322371699,0.04451087859159608,0.04451087859159608,0.04534130543099153,0.04534130543099153,0.04550739079887062,0.04550739079887062,0.0458395615346288,0.0458395615346288,0.04617173227038698,0.04617173227038698,0.04633781763826607,0.04633781763826607,0.04716824447766152,0.04716824447766152,0.04733432984554061,0.047500415213419696,0.047500415213419696,0.04783258594917788,0.04783258594917788,0.04866301278857332,0.048995183524331506,0.048995183524331506,0.0491612688922106,0.04982561036372696,0.04982561036372696,0.04982561036372696,0.05048995183524332,0.05048995183524332,0.05082212257100149,0.05082212257100149,0.05115429330675968,0.05115429330675968,0.05115429330675968,0.05148646404251785,0.05148646404251785,0.051652549410396945,0.051652549410396945,0.052482976249792396,0.052482976249792396,0.05281514698555057,0.05281514698555057,0.052981232353429664,0.05331340308918784,0.053811659192825115,0.053811659192825115,0.05414382992858329,0.05414382992858329,0.054476000664341474,0.05464208603222056,0.05464208603222056,0.05480817140009965,0.05480817140009965,0.05530642750373692,0.05547251287161601,0.05547251287161601,0.05547251287161601,0.0556385982394951,0.0556385982394951,0.0556385982394951,0.05597076897525328,0.05613685434313237,0.05613685434313237,0.05630293971101146,0.05630293971101146,0.05630293971101146,0.05663511044676964,0.05663511044676964,0.05696728118252782,0.05713336655040691,0.05763162265404418,0.05763162265404418,0.05779770802192327,0.05812987875768145,0.058628134861318716,0.058628134861318716,0.0589603055970769,0.0589603055970769,0.059126390964955984,0.059126390964955984,0.059292476332835076,0.05962464706859326,0.05962464706859326,0.059790732436472344,0.059790732436472344,0.06012290317223053,0.06012290317223053,0.0604550739079887,0.0604550739079887,0.060621159275867795,0.060621159275867795,0.060787244643746886,0.06111941537950506,0.061285500747384154,0.061285500747384154,0.061285500747384154,0.06178375685102142,0.06178375685102142,0.061949842218900514,0.061949842218900514,0.0622820129546587,0.06261418369041688,0.06261418369041688,0.06278026905829596,0.06278026905829596,0.06294635442617505,0.06294635442617505,0.06311243979405415,0.06311243979405415,0.06327852516193323,0.06327852516193323,0.06361069589769142,0.06361069589769142,0.0637767812655705,0.0637767812655705,0.0639428666334496,0.0639428666334496,0.06460720810496595,0.06477329347284504,0.06493937884072414,0.06493937884072414,0.0654376349443614,0.0654376349443614,0.06576980568011959,0.06610197641587776,0.06610197641587776,0.06610197641587776,0.06660023251951504,0.06660023251951504,0.06676631788739412,0.0670984886231523,0.0670984886231523,0.06743065935891047,0.06743065935891047,0.06759674472678957,0.06809500083042684,0.06809500083042684,0.06859325693406411,0.06859325693406411,0.0687593423019432,0.06909151303770138,0.06925759840558046,0.06925759840558046,0.06958976914133864,0.06958976914133864,0.06975585450921774,0.07008802524497591,0.07008802524497591,0.0704201959807341,0.07091845208437136,0.07108453745225046,0.07141670818800863,0.07141670818800863,0.07174887892376682,0.07174887892376682,0.072081049659525,0.072081049659525,0.07257930576316227,0.07257930576316227,0.07274539113104135,0.07274539113104135,0.07307756186679953,0.07307756186679953,0.07390798870619499,0.07440624480983225,0.0752366716492277,0.0752366716492277,0.07540275701710679,0.07540275701710679,0.07590101312074406,0.07590101312074406,0.07606709848862316,0.07673143996013951,0.07673143996013951,0.0768975253280186,0.07706361069589769,0.07706361069589769,0.07772795216741404,0.07806012290317223,0.07839229363893041,0.07839229363893041,0.0787244643746886,0.0787244643746886,0.07889054974256768,0.07922272047832586,0.07938880584620495,0.07972097658196313,0.07972097658196313,0.08005314731772131,0.08038531805347948,0.08055140342135858,0.08055140342135858,0.08071748878923767,0.08071748878923767,0.08104965952499585,0.08104965952499585,0.08121574489287493,0.08121574489287493,0.08221225710014948,0.08221225710014948,0.08254442783590765,0.08254442783590765,0.08271051320378675,0.08271051320378675,0.0835409400431822,0.0835409400431822,0.08370702541106129,0.08403919614681947,0.08437136688257764,0.08453745225045674,0.08486962298621492,0.085035708354094,0.08553396445773127,0.08603222056136854,0.08603222056136854,0.08619830592924764,0.08619830592924764,0.08636439129712672,0.08636439129712672,0.08669656203288491,0.08669656203288491,0.08702873276864308,0.08719481813652218,0.08736090350440126,0.08785915960803853,0.08785915960803853,0.08802524497591763,0.08868958644743398,0.08885567181531306,0.08918784255107125,0.08952001328682943,0.08985218402258761,0.09018435475834578,0.09084869622986215,0.09084869622986215,0.09101478159774123,0.09134695233349942,0.0915130377013785,0.0915130377013785,0.09184520843713669,0.09184520843713669,0.09250954990865305,0.09250954990865305,0.09267563527653214,0.09267563527653214,0.0933399767480485,0.09350606211592759,0.09383823285168577,0.09433648895532304,0.09466865969108122,0.09466865969108122,0.0948347450589603,0.0948347450589603,0.09533300116259757,0.09533300116259757,0.09583125726623484,0.09599734263411394,0.09616342800199303,0.09616342800199303,0.09649559873775121,0.09715994020926756,0.09782428168078393,0.0981564524165421,0.0981564524165421,0.0983225377844212,0.0983225377844212,0.09848862315230028,0.09848862315230028,0.09882079388805846,0.09882079388805846,0.09898687925593755,0.09898687925593755,0.09915296462381665,0.09948513535957482,0.09965122072745392,0.09965122072745392,0.09998339146321208,0.09998339146321208,0.10114598903836572,0.10114598903836572,0.1014781597741239,0.10164424514200299,0.10164424514200299,0.10247467198139844,0.10247467198139844,0.1031390134529148,0.10347118418867297,0.10446769639594752,0.10446769639594752,0.10529812323534296,0.10579637933898024,0.10729114764989205,0.10762331838565023,0.1079554891214084,0.1079554891214084,0.10845374522504567,0.10845374522504567,0.10878591596080385,0.10878591596080385,0.10895200132868295,0.10945025743232022,0.10978242816807839,0.10978242816807839,0.11061285500747384,0.11094502574323202,0.1111111111111111,0.1111111111111111,0.11144328184686929,0.11144328184686929,0.11160936721474839,0.11194153795050656,0.11194153795050656,0.11277196478990201,0.11277196478990201,0.11327022089353928,0.11360239162929746,0.11376847699717654,0.11376847699717654,0.11410064773293473,0.11443281846869291,0.114598903836572,0.11476498920445109,0.11526324530808836,0.11576150141172563,0.1162597575153629,0.11675801361900016,0.11709018435475835,0.11709018435475835,0.11742235509051653,0.11742235509051653,0.11891712340142833,0.11891712340142833,0.11908320876930742,0.11924929413718652,0.11958146487294469,0.12024580634446105,0.12041189171234014,0.12157448928749377,0.12157448928749377,0.12190666002325196,0.12190666002325196,0.12207274539113104,0.12207274539113104,0.12223883075901013,0.12240491612688922,0.12240491612688922,0.12257100149476831,0.12257100149476831,0.12290317223052649,0.12306925759840558,0.12356751370204284,0.12373359906992194,0.12423185517355921,0.12423185517355921,0.1245640259093174,0.1245640259093174,0.12489619664507556,0.12489619664507556,0.12506228201295466,0.12539445274871283,0.12539445274871283,0.12539445274871283,0.12572662348447103,0.12572662348447103,0.12672313569174556,0.12672313569174556,0.12705530642750373,0.12705530642750373,0.12722139179538283,0.1277196478990201,0.12855007473841554,0.12888224547417373,0.1292144162099319,0.12954658694569007,0.12954658694569007,0.13037701378508554,0.1307091845208437,0.13120744062448098,0.13203786746387644,0.1322039528317555,0.1322039528317555,0.1323700381996346,0.1323700381996346,0.1325361235675137,0.13303437967115098,0.13336655040690915,0.13336655040690915,0.13369872114266734,0.1338648065105464,0.1340308918784255,0.13436306261418368,0.13502740408570005,0.13502740408570005,0.13552566018933732,0.13552566018933732,0.13569174555721641,0.13602391629297458,0.13602391629297458,0.13718651386812822,0.13735259923600732,0.13768476997176549,0.13768476997176549,0.13785085533964458,0.13801694070752366,0.13851519681116092,0.13868128217904002,0.13868128217904002,0.13884736754691912,0.1391795382826773,0.13967779438631456,0.13967779438631456,0.14034213585783092,0.14034213585783092,0.14050822122571002,0.1408403919614682,0.1408403919614682,0.1410064773293473,0.14133864806510546,0.14133864806510546,0.14216907490450092,0.14216907490450092,0.14233516027238,0.1426673310081382,0.14299950174389636,0.14366384321541273,0.14416209931905,0.14482644079056636,0.14499252615844543,0.14515861152632453,0.1473177213087527,0.1473177213087527,0.14798206278026907,0.14798206278026907,0.14814814814814814,0.14848031888390634,0.1489785749875436,0.14931074572330177,0.14980900182693904,0.1504733432984554,0.15080551403421358,0.15113768476997178,0.15296462381664175,0.15329679455239995,0.15329679455239995,0.15362896528815811,0.15429330675967448,0.15429330675967448,0.15462547749543265,0.15462547749543265,0.15678458727786082,0.15678458727786082,0.15794718485301446,0.15811327022089353,0.15827935558877262,0.15827935558877262,0.15844544095665172,0.158943697060289,0.158943697060289,0.1591097824281681,0.15960803853180536,0.15960803853180536,0.16010629463544263,0.16077063610695896,0.1620993190499917,0.16243148978574987,0.16276366052150806,0.16276366052150806,0.16309583125726623,0.16309583125726623,0.1635940873609035,0.1637601727287826,0.1639262580966617,0.16442451420029897,0.16459059956817804,0.16492277030393623,0.16575319714333167,0.16575319714333167,0.16625145324696894,0.16641753861484804,0.1667497093506062,0.16758013619000167,0.1685766483972762,0.17073575817970438,0.17123401428334165,0.17189835575485798,0.17206444112273708,0.17223052649061618,0.17256269722637435,0.17339312406576982,0.17339312406576982,0.1735592094336489,0.1735592094336489,0.17455572164092342,0.1752200631124398,0.1753861484803189,0.17555223384819799,0.17605048995183525,0.17638266068759342,0.17638266068759342,0.1770470021591098,0.17787742899850523,0.17787742899850523,0.1783756851021425,0.1787078558379007,0.17904002657365886,0.17937219730941703,0.17953828267729613,0.17953828267729613,0.17970436804517523,0.18119913635608703,0.18269390466699884,0.183026075402757,0.183026075402757,0.1831921607706361,0.1835243315063943,0.18418867297791064,0.18418867297791064,0.1846869290815479,0.18518518518518517,0.18535127055306427,0.18568344128882244,0.1861816973924597,0.1865138681282179,0.186679953496097,0.186679953496097,0.18701212423185518,0.18701212423185518,0.18717820959973427,0.18751038033549244,0.18751038033549244,0.1878425510712506,0.18867297791064608,0.18900514864640425,0.18950340475004152,0.18950340475004152,0.19033383158943698,0.19066600232519515,0.19099817306095332,0.1914964291645906,0.19232685600398605,0.19232685600398605,0.19249294137186515,0.19299119747550242,0.19365553894701876,0.19431988041853512,0.1951503072579306,0.19614681946520512,0.1964789902009633,0.1964789902009633,0.19681116093672146,0.19681116093672146,0.19714333167247966,0.19730941704035873,0.1979737585118751,0.1983059292476333,0.19847201461551237,0.19847201461551237,0.19863809998339146,0.19930244145490783,0.1998006975585451,0.1998006975585451,0.20013286829430327,0.20162763660521507,0.20195980734097327,0.2031224049161269,0.20328849028400597,0.20362066101976417,0.20395283175552234,0.20411891712340144,0.20411891712340144,0.20494934396279688,0.20561368543431324,0.20661019764158778,0.20694236837734595,0.20744062448098322,0.20744062448098322,0.2077727952167414,0.2077727952167414,0.20810496595249958,0.20827105132037868,0.20843713668825775,0.20959973426341139,0.20976581963129048,0.21009799036704865,0.21043016110280685,0.2110945025743232,0.2110945025743232,0.21159275867796049,0.21159275867796049,0.21192492941371865,0.21242318551735592,0.2130875269888723,0.21358578309250956,0.214416209931905,0.21491446603554226,0.21524663677130046,0.216243148978575,0.216243148978575,0.21690749045009133,0.21740574655372863,0.2179040026573659,0.21840225876100317,0.21840225876100317,0.21873442949676133,0.21873442949676133,0.2190666002325195,0.2190666002325195,0.2193987709682777,0.21973094170403587,0.21989702707191497,0.22039528317555224,0.2210596246470686,0.22122571001494767,0.22205613685434314,0.2223883075901013,0.2223883075901013,0.2225543929579804,0.2225543929579804,0.22371699053313404,0.2242152466367713,0.22471350274040858,0.22504567347616675,0.22537784421192492,0.22637435641919948,0.22670652715495765,0.22703869789071582,0.22720478325859492,0.22737086862647402,0.22770303936223218,0.22786912473011128,0.22853346620162765,0.229197807673144,0.22952997840890219,0.22969606377678126,0.23036040524829762,0.2306925759840558,0.231024746719814,0.23152300282345126,0.23152300282345126,0.23185517355920943,0.23218734429496762,0.2323534296628467,0.2326856003986049,0.2326856003986049,0.23334994187012123,0.23334994187012123,0.23368211260587943,0.2338481979737585,0.2371699053313403,0.23783424680285667,0.23816641753861484,0.23849858827437304,0.23916292974588937,0.23949510048164757,0.23966118584952667,0.23999335658528484,0.24165421026407574,0.2423185517355921,0.24348114931074571,0.2438133200465039,0.24447766151802025,0.24447766151802025,0.24480983225377845,0.24497591762165752,0.24530808835741572,0.24530808835741572,0.24564025909317388,0.24597242982893208,0.24647068593256935,0.24680285666832752,0.2473011127719648,0.24763328350772296,0.24779936887560206,0.24813153961136025,0.24846371034711842,0.24846371034711842,0.24929413718651386,0.24995847865803023,0.2502906493937884,0.25078890549742566,0.25078890549742566,0.25095499086530476,0.25128716160106296,0.2519515030725793,0.2526158445440957,0.25311410064773293,0.25328018601561203,0.25377844211924927,0.25444278359076566,0.2549410396944029,0.255107125062282,0.2552732104301611,0.2554392957980402,0.2557714665337984,0.2557714665337984,0.25626972263743564,0.25626972263743564,0.25643580800531474,0.25660189337319383,0.25660189337319383,0.2571001494768311,0.25776449094834747,0.25925925925925924,0.25942534462713834,0.260587942202292,0.2614183690416874,0.2617505397774456,0.2620827105132038,0.26224879588108285,0.2647400763992692,0.2650722471350274,0.26540441787078556,0.2667331008138183,0.2672313569174556,0.2677296130210928,0.2682278691247301,0.2682278691247301,0.26905829596412556,0.26905829596412556,0.2697226374356419,0.2700548081714001,0.27105132037867463,0.27138349111443283,0.2728782594253446,0.2728782594253446,0.2730443447932237,0.2730443447932237,0.2737086862647401,0.27453911310413553,0.2752034545756519,0.2752034545756519,0.2760338814150473,0.2761999667829264,0.2768643082544428,0.27719647899020095,0.2801860156120246,0.28068427171566185,0.28101644245142005,0.28101644245142005,0.2813486131871782,0.2820129546586946,0.2820129546586946,0.2823451253944527,0.28284338149809,0.2830094668659691,0.2833416376017273,0.2833416376017273,0.28350772296960636,0.28350772296960636,0.28417206444112275,0.2850024912805182,0.2853346620162764,0.2856668327520345,0.2859990034877927,0.2863311742235509,0.2863311742235509,0.28666334495930906,0.28699551569506726,0.2878259425344627,0.2881581132702209,0.2881581132702209,0.2884902840059791,0.28882245474173723,0.28898854010961633,0.28915462547749543,0.28915462547749543,0.2894867962132536,0.28981896694901177,0.29048330842052816,0.29064939378840726,0.2911476498920445,0.2918119913635609,0.29197807673143994,0.29231024746719814,0.2931406743065936,0.29347284504235177,0.29380501577810997,0.29380501577810997,0.2944693572496263,0.29513369872114265,0.29546586945690084,0.29579804019265904,0.29579804019265904,0.2961302109284172,0.2964623816641754,0.2967945523999336,0.2971267231356918,0.2974588938714499,0.2974588938714499,0.2981232353429663,0.29862149144660355,0.29862149144660355,0.29878757681448265,0.3001162597575154,0.3002823451253945,0.3002823451253945,0.3006145158611526,0.301278857332669,0.30210928417206445,0.3024414549078226,0.3026075402757017,0.303105796379339,0.3034379671150972,0.3036040524829762,0.3036040524829762,0.3037701378508553,0.3041023085866135,0.3042683939544926,0.3042683939544926,0.30460056469025076,0.30493273542600896,0.3057631622654044,0.3060953330011626,0.3064275037369208,0.3065935891047999,0.30692575984055803,0.30709184520843713,0.30742401594419533,0.3075901013120744,0.30792227204783257,0.30825444278359077,0.30858661351934896,0.30875269888722806,0.3090848696229862,0.3095831257266235,0.30991529646238164,0.31024746719813984,0.3109118086696562,0.3109118086696562,0.3120744062448098,0.312406576980568,0.3148978574987544,0.3152300282345125,0.3155621989702707,0.3158943697060289,0.31655871117754525,0.31705696728118254,0.31722305264906164,0.3173891380169407,0.3177213087526989,0.3180534794884571,0.3180534794884571,0.3183856502242152,0.31954824779936886,0.31971433316724795,0.32021258927088525,0.3207108453745225,0.32154127221391793,0.321707357581797,0.32270386978907156,0.3241986380999834,0.3241986380999834,0.32502906493937883,0.32519515030725793,0.32536123567513703,0.3256934064108952,0.32602557714665337,0.32668991861816976,0.3270220893539279,0.3275203454575652,0.3278525161933234,0.329015113768477,0.32934728450423517,0.32984554060787247,0.3303437967115097,0.3310081381830261,0.33117422355090514,0.33150639428666334,0.3330011625975752,0.3333333333333333,0.3338315894369706,0.3338315894369706,0.3341637601727288,0.33449593090848695,0.33466201627636605,0.33499418701212424,0.33516027238000334,0.3358246138515197,0.3361567845872779,0.336488955323036,0.3366550406909151,0.3369872114266733,0.33781763826606875,0.33831589436970605,0.3386480651054642,0.3391463212091015,0.3399767480484969,0.34097326025577146,0.34130543099152966,0.34130543099152966,0.3418036870951669,0.3423019431988042,0.34313237003819963,0.3454575651885069,0.3457897359242651,0.34645407739578143,0.34678624813153963,0.3469523334994187,0.34728450423517687,0.34745058960305597,0.3484471018103305,0.3487792725460887,0.34927752864972594,0.34994187012124234,0.34994187012124234,0.3501079554891214,0.3501079554891214,0.3504401262248796,0.3517688091679123,0.3544261750539777,0.3547583457897359,0.3550905165254941,0.35542268726125226,0.35558877262913136,0.35592094336488955,0.3570835409400432,0.3570835409400432,0.3575817970436804,0.3579139677794386,0.35907656535459226,0.3597409068261086,0.3600730775618668,0.36073741903338313,0.36090350440126223,0.3617339312406577,0.36239827271217406,0.36239827271217406,0.36273044344793226,0.3632286995515695,0.3635608702873277,0.36389304102308584,0.36422521175884404,0.36472346786248133,0.36555389470187677,0.36588606543763497,0.366052150805514,0.3667164922770304,0.3668825776449095,0.36721474838066764,0.36804517522006314,0.3683773459558213,0.3688756020594586,0.3693738581630958,0.3700381996346122,0.3702042850024913,0.37086862647400765,0.37120079720976584,0.3716990533134031,0.3723633947849194,0.3726955655206776,0.3726955655206776,0.3728616508885567,0.3731938216243149,0.37352599236007306,0.37402424846371035,0.3745225045673476,0.3748546753031058,0.3756851021425012,0.3760172728782594,0.3763494436140176,0.3765155289818967,0.37701378508553396,0.37717987045341306,0.3776781265570503,0.3780102972928085,0.3786746387643249,0.3786746387643249,0.37900680950008303,0.38000332170735757,0.38033549244311576,0.38033549244311576,0.3813320046503903,0.3816641753861485,0.38216243148978574,0.38249460222554393,0.38282677296130213,0.38282677296130213,0.3829928583291812,0.38332502906493937,0.38365719980069757,0.38398937053645577,0.38398937053645577,0.384487626640093,0.384487626640093,0.3846537120079721,0.38515196811160934,0.386314565686763,0.3864806510546421,0.3868128217904003,0.3876432486297957,0.3879754193655539,0.38830759010131205,0.38830759010131205,0.38863976083707025,0.3911310413552566,0.39229363893041025,0.3927918950340475,0.3931240657698057,0.39495100481647566,0.3957814316558711,0.3962796877595084,0.39694402923102473,0.3977744560704202,0.39810662680617837,0.39860488290981566,0.3989370536455738,0.3991031390134529,0.3996013951170902,0.3997674804849693,0.40009965122072744,0.40059790732436473,0.40126224879588107,0.40126224879588107,0.40176050489951837,0.40176050489951837,0.4020926756352765,0.4022587610031556,0.4027570171067929,0.40325527321043014,0.4042517854177047,0.4045839561534629,0.404750041521342,0.40508221225710017,0.4059126390964956,0.4062448098322538,0.40707523667164924,0.40724132203952834,0.4075734927752865,0.4089021757183192,0.40956651718983555,0.41006477329347285,0.4113934562365056,0.4113934562365056,0.4120577977080219,0.412223883075901,0.4125560538116592,0.41272213917953826,0.41338648065105466,0.4137186513868128,0.41521341969772463,0.4155455904334828,0.4157116758013619,0.41637601727287826,0.4168742733765155,0.4172064441122737,0.4173725294801528,0.41803687095166914,0.41836904168742733,0.4190333831589437,0.41969772463046007,0.4200298953662182,0.4203620661019764,0.4203620661019764,0.4206942368377346,0.4223550905165255,0.42301943198804187,0.42318551735592097,0.4235176880916791,0.4256767978741073,0.4265072247135027,0.4266733100813818,0.42700548081714,0.42766982228865635,0.42800199302441455,0.4291645905995682,0.4294967613353264,0.43082544427835906,0.43099152964623816,0.43099152964623816,0.4318219564856336,0.4319880418535127,0.4323202125892709,0.43281846869290813,0.43315063942866633,0.4336488955323036,0.43398106626806177,0.43464540773957816,0.43481149310745726,0.4351436638432154,0.4353097492110945,0.4356419199468527,0.43663843215412723,0.4369706028898854,0.43746885899352267,0.4384653712007972,0.4387975419365554,0.43929579804019264,0.43962796877595084,0.44012622487958813,0.4404583956153463,0.44294967613353264,0.4434479322371699,0.4439461883408072,0.4442783590765654,0.4444444444444444,0.4447766151802026,0.44610529812323535,0.44643746885899355,0.4476000664341471,0.4480983225377844,0.4502574323202126,0.45075568842384983,0.4515861152632453,0.45191828599900347,0.45274871283839896,0.4535791396777944,0.45440956651718983,0.45490782262082713,0.45557216409234347,0.45590433482810166,0.4560704201959807,0.4567347616674971,0.4569008470353762,0.46038863976083705,0.46072081049659525,0.46121906660023254,0.4617173227038698,0.462049493439628,0.4623816641753862,0.4628799202790234,0.46404251785417705,0.4647068593256934,0.46686596910812156,0.46703205447600066,0.46753031057963795,0.467696395947517,0.4683607374190334,0.4686929081547916,0.46985550572994517,0.47284504235176883,0.47317721308752697,0.47350938382328517,0.47384155455904337,0.4743398106626806,0.4745058960305597,0.475004152134197,0.47550240823783424,0.47566849360571334,0.47566849360571334,0.47600066434147154,0.4764989204451088,0.47699717654874607,0.4781597741238997,0.47849194485965785,0.47899020096329514,0.47932237169905334,0.4799867131705697,0.4803188839063279,0.4811493107457233,0.48214582295299785,0.48247799368875605,0.4829762497923933,0.4844710181033051,0.48480318883906326,0.4866301278857333,0.4872944693572496,0.4877927254608869,0.48845706693240326,0.4889553230360405,0.4892874937717987,0.4894535791396778,0.48995183524331504,0.49011792061119414,0.49078226208271053,0.49111443281846867,0.4921109450257432,0.4929413718651387,0.4942700548081714,0.4947683109118087,0.49493439627968777,0.4960969938548414,0.4962630792227205,0.49659524995847865,0.49709350606211594,0.4980900182693905,0.4989204451087859,0.4992526158445441,0.5002491280518186,0.500913469523335,0.5012456402590931,0.5014117256269722,0.5020760670984886,0.5030725793057632,0.5040690915130377,0.5042351768809168,0.5048995183524332,0.5050656037203123,0.5078890549742567,0.5082212257100149,0.5090516525494104,0.5098820793888058,0.510214250124564,0.5103803354924431,0.5107125062282013,0.5113768476997177,0.5113768476997177,0.5125394452748713,0.5128716160106295,0.514034213585783,0.5155289818966949,0.5166915794718485,0.5173559209433649,0.5176880916791231,0.5180202624148812,0.5180202624148812,0.519348945357914,0.5201793721973094,0.5205115429330676,0.521175884404584,0.5215080551403422,0.5218402258761003,0.5221723966118585,0.5226706527154957,0.5228367380833748,0.523168908819133,0.5235010795548912,0.5239993356585285,0.5244975917621657,0.5251619332336821,0.5283175552233849,0.5289818966949011,0.5293140674306593,0.5298123235342966,0.5311410064773293,0.5314731772130875,0.5318053479488457,0.5321375186846039,0.5328018601561203,0.5331340308918784,0.5334662016276366,0.5344627138349112,0.5346287992027903,0.5351270553064275,0.5352931406743066,0.5362896528815811,0.537950506560372,0.5384487626640093,0.5387809333997675,0.5392791895034047,0.5396113602391629,0.5401096163428002,0.5409400431821957,0.5411061285500748,0.541604384653712,0.5417704700215911,0.5424348114931075,0.5427669822288657,0.5430991529646239,0.543597409068261,0.5464208603222056,0.5465869456900847,0.5469191164258429,0.5472512871616011,0.5475834578973593,0.5477495432652383,0.5482477993688756,0.548912140840392,0.5492443115761502,0.5497425676797875,0.5500747384155455,0.5502408237834246,0.5505729945191828,0.5507390798870619,0.5514034213585783,0.5515695067264574,0.5519016774622156,0.5530642750373692,0.5537286165088856,0.5540607872446437,0.5542268726125228,0.554559043348281,0.5547251287161601,0.5552233848197974,0.5552233848197974,0.5555555555555556,0.556385982394951,0.5565520677628301,0.5575485799701047,0.5578807507058628,0.5583790068095,0.5588772629131373,0.5597076897525328,0.560039860488291,0.5615346287992028,0.5620328849028401,0.5621989702707192,0.5625311410064773,0.5633615678458728,0.5640259093173892,0.5650224215246636,0.5663511044676964,0.5665171898355755,0.5668493605713336,0.5673476166749709,0.5676797874107291,0.5683441288822455,0.5686762996180037,0.56934064108952,0.5696728118252782,0.5701710679289155,0.5708354094004319,0.57116758013619,0.5714997508719482,0.5723301777113436,0.5728284338149809,0.573160604550739,0.5733266899186181,0.5741571167580136,0.5743232021258927,0.5749875435974091,0.5754857997010463,0.5758179704368045,0.5761501411725627,0.5771466533798373,0.5774788241155954,0.5779770802192327,0.5786414216907491,0.5806344461052981,0.5806344461052981,0.5809666168410563,0.5812987875768145,0.5817970436804517,0.5826274705198472,0.5829596412556054,0.5832918119913636,0.5844544095665172,0.5847865803022754,0.5854509217737918,0.5867796047168244,0.5881082876598571,0.5886065437634944,0.5904334828101644,0.5904334828101644,0.591429995017439,0.5922604218568344,0.5924265072247135,0.5927586779604717,0.5930908486962299,0.5972429828932071,0.5975751536289653,0.5982394951004817,0.5987377512041189,0.5992360073077562,0.5995681780435144,0.6000664341471517,0.6003986048829099,0.6012290317223052,0.6015612024580634,0.6017272878259425,0.6020594585617007,0.6020594585617007,0.602557714665338,0.602557714665338,0.6027238000332171,0.6033881415047334,0.6035542268726125,0.6042185683441289,0.604384653712008,0.6048829098156452,0.6063776781265571,0.6070420195980734,0.6083707025411061,0.6092011293805015,0.6095333001162597,0.610031556219897,0.6105298123235343,0.6111941537950507,0.6115263245308088,0.6116924098986879,0.6120245806344461,0.6125228367380834,0.6128550074738416,0.6133532635774788,0.613685434313237,0.6141836904168743,0.6155123733599069,0.615678458727786,0.6165088855671815,0.6170071416708188,0.6175053977744561,0.6176714831423351,0.6181697392459724,0.6188340807174888,0.6196645075568843,0.6201627636605215,0.6206610197641588,0.620993190499917,0.6213253612356752,0.6221557880750705,0.6226540441787078,0.6228201295465869,0.6241488124896196,0.624813153961136,0.6259757515362897,0.6274705198472015,0.6278026905829597,0.6296296296296297,0.6299618003653878,0.6317887394120578,0.632120910147816,0.6324530808835741,0.6337817638266069,0.6341139345623651,0.6346121906660023,0.6347782760338814,0.6356087028732769,0.6362730443447933,0.6390964955987377,0.6399269224381332,0.6402590931738914,0.6407573492775287,0.6409234346454077,0.641421690749045,0.6425842883241987,0.6430825444278359,0.6442451420029895,0.6449094834745059,0.645075568842385,0.6454077395781431,0.6474007639926922,0.6483972761999668,0.648729446935725,0.6488955323036041,0.6492277030393623,0.6493937884072413,0.6498920445108786,0.6500581298787577,0.650556385982395,0.6512207274539114,0.6517189835575485,0.6520511542933067,0.6575319714333168,0.658030227536954,0.6585284836405912,0.6586945690084703,0.6590267397442285,0.6601893373193821,0.661684105630294,0.6631788739412058,0.663511044676964,0.6645075568842385,0.6648397276199967,0.665504069091513,0.6665005812987875,0.6671649227703039,0.6676631788739412,0.6679953496096994,0.6684936057133366,0.6698222886563694,0.6701544593921276,0.6711509715994021,0.6714831423351603,0.6716492277030394,0.6723135691745558,0.672645739910314,0.6733100813818302,0.6736422521175884,0.6739744228533466,0.6741405082212257,0.6758013619000166,0.6759674472678957,0.6762996180036539,0.676465703371533,0.6767978741072912,0.6774622155788075,0.6784587277860821,0.680119581464873,0.6807839229363893,0.6809500083042684,0.6854343132370038,0.6856003986048829,0.6859325693406411,0.6864308254442784,0.6865969108121575,0.6869290815479157,0.687759508387311,0.6884238498588274,0.6889221059624647,0.6895864474339811,0.6897525328018601,0.6900847035376183,0.6902507889054974,0.6909151303770138,0.6915794718485302,0.6922438133200465,0.6924098986879256,0.693074240159442,0.6939046669988373,0.6942368377345955,0.6944029231024746,0.695067264573991,0.6952333499418701,0.6955655206776283,0.6958976914133865,0.6963959475170237,0.6973924597242983,0.6978907158279356,0.6982228865636937,0.6983889719315728,0.6998837402424847,0.7003819963461219,0.7010463378176383,0.7013785085533965,0.7017106792891546,0.7023750207606709,0.7028732768643082,0.7032054476000664,0.7037037037037037,0.704201959807341,0.7043680451752201,0.7047002159109782,0.7051984720146155,0.7056967281182528,0.7065271549576483,0.7070254110612855,0.7071914964291646,0.7076897525328019,0.707855837900681,0.7083540940043183,0.7096827769473509,0.7100149476831091,0.7106792891546255,0.7111775452582627,0.7118418867297791,0.7128383989370537,0.7131705696728118,0.7136688257764491,0.7141670818800864,0.7148314233516028,0.7151635940873609,0.7156618501909982,0.7159940209267563,0.717322703869789,0.7178209599734263,0.7186513868128218,0.7194818136522172,0.7199800697558545,0.7201461551237336,0.72081049659525,0.7209765819631291,0.7213087526988873,0.7223052649061618,0.7231356917455573,0.7233017771134364,0.7236339478491944,0.724630460056469,0.7251287161601063,0.7257930576316226,0.7257930576316226,0.7259591429995017,0.7266234844710181,0.7269556552067763,0.7272878259425345,0.7279521674140508,0.728284338149809,0.7294469357249627,0.7299451918285998,0.7304434479322371,0.7309417040358744,0.7312738747716326,0.7317721308752699,0.7322703869789071,0.7332668991861817,0.7344294967613353,0.7347616674970935,0.7360903504401263,0.7365886065437635,0.7379172894867962,0.7384155455904334,0.739412057797708,0.7397442285334662,0.7410729114764989,0.7414050822122571,0.7427337651552898,0.7433981066268062,0.7437302773625644,0.7437302773625644,0.7445607042019599,0.7448928749377179,0.7452250456734761,0.7458893871449925,0.746719813984388,0.7472180700880252,0.7482145822952998,0.7487128383989371,0.7490450091346952,0.7493771798704534,0.7498754359740907,0.750373692077728,0.7515362896528816,0.752366716492277,0.7525328018601561,0.7528649725959143,0.7543597409068261,0.7548579970104634,0.7551901677462216,0.7556884238498588,0.7563527653213752,0.7570171067928916,0.7573492775286498,0.757847533632287,0.759508387311078,0.7608370702541106,0.7613353263577479,0.7619996678292642,0.7623318385650224,0.7624979239329015,0.7631622654044179,0.7639926922438133,0.7641587776116924,0.7644909483474506,0.7648231190832088,0.765155289818967,0.7653213751868461,0.7656535459226043,0.7659857166583623,0.7664839727619996,0.7666500581298787,0.7669822288656369,0.767148314233516,0.7674804849692742,0.7678126557050324,0.7684769971765487,0.7691413386480651,0.7698056801195815,0.7701378508553396,0.770802192326856,0.7714665337983724,0.7731273874771633,0.7734595582129214,0.7741238996844378,0.7744560704201959,0.774622155788075,0.7749543265238332,0.7756186679953496,0.776283009466866,0.7764490948347451,0.7776116924098987,0.7777777777777778,0.7784421192492942,0.7796047168244478,0.7804351436638433,0.7812655705032386,0.7817638266068759,0.781929911974755,0.7822620827105132,0.7834246802856668,0.7844211924929414,0.7852516193323368,0.7859159608038532,0.787410729114765,0.7880750705862813,0.7885733266899186,0.789403753529314,0.7899020096329513,0.7902341803687095,0.7907324364723468,0.791064607208105,0.7915628633117422,0.7920611194153795,0.7923932901511377,0.7925593755190168,0.792891546254775,0.7935558877262913,0.7938880584620495,0.7943863145656868,0.7945523999335659,0.7955489121408404,0.7958810828765985,0.7963793389802358,0.7968775950838731,0.7970436804517522,0.7973758511875104,0.7977080219232685,0.798538448762664,0.7995349609699386,0.7998671317056967,0.8000332170735758,0.800365387809334,0.8018601561202459,0.802192326856004,0.8031888390632785,0.8038531805347949,0.8043514366384321,0.8051818634778276,0.8051818634778276,0.805846204949344,0.8063444610529812,0.8070088025244976,0.8083374854675303,0.8088357415711676,0.8091679123069258,0.809500083042684,0.8099983391463212,0.8109948513535957,0.8111609367214748,0.8119913635608703,0.8126557050323866,0.8136522172396612,0.8139843879754194,0.8149809001826939,0.8153130709184521,0.8154791562863312,0.8161434977578476,0.8164756684936058,0.8174721807008802,0.8183026075402757,0.8186347782760339,0.818966949011792,0.8192991197475502,0.8199634612190666,0.8202956319548248,0.8207938880584621,0.8209599734263412,0.8219564856336157,0.8222886563693739,0.8227869124730112,0.8234512539445275,0.8237834246802856,0.8241155954160438,0.8246138515196811,0.8257764490948347,0.8259425344627138,0.826274705198472,0.8269390466699884,0.8276033881415047,0.828101644245142,0.8284338149809002,0.8285999003487793,0.8292642418202957,0.8297624979239329,0.8302607540275702,0.8312572662348447,0.8315894369706028,0.8317555223384819,0.8320876930742401,0.8325859491778774,0.8329181199136356,0.833748546753031,0.8344128882245474,0.8347450589603056,0.8350772296960638,0.8357415711675802,0.8359076565354592,0.8369041687427338,0.8375685102142502,0.8388971931572828,0.8397276199966783,0.8400597907324364,0.8403919614681946,0.8405580468360737,0.8422189005148646,0.8423849858827437,0.8427171566185019,0.8430493273542601,0.8438797541936556,0.8440458395615347,0.8443780102972928,0.8450423517688092,0.8452084371366883,0.8457066932403255,0.8458727786082046,0.8480318883906328,0.8495266567015446,0.8495266567015446,0.8496927420694237,0.8503570835409401,0.8508553396445773,0.8513535957482146,0.8516857664839728,0.852017937219731,0.8523501079554892,0.8525161933233683,0.8530144494270054,0.8533466201627636,0.8546753031057964,0.8551735592094336,0.8555057299451918,0.8560039860488291,0.8573326689918618,0.8579970104633782,0.8583291811991364,0.8593256934064109,0.8598239495100481,0.8601561202458063,0.8609865470852018,0.8613187178209599,0.8641421690749045,0.8646404251785418,0.8649725959143,0.8656369373858163,0.8659691081215745,0.8664673642252118,0.8689586447433981,0.8694569008470354,0.8697890715827935,0.8701212423185517,0.8712838398937054,0.8716160106294636,0.8722803521009799,0.8732768643082545,0.8751038033549244,0.8754359740906826,0.8759342301943199,0.8765985716658362,0.8777611692409899,0.8800863643912972,0.8802524497591763,0.8805846204949344,0.8832419863809998,0.883574157116758,0.8837402424846371,0.8840724132203953,0.8849028400597907,0.8852350107955489,0.8857332668991862,0.8858993522670653,0.8863976083707026,0.8873941205779771,0.8875602059458562,0.8885567181531308,0.8887228035210099,0.8890549742567679,0.8900514864640425,0.8905497425676798,0.891047998671317,0.8913801694070752,0.8917123401428334,0.8920445108785916,0.8923766816143498,0.8930410230858661,0.8937053645573825,0.8942036206610198,0.8947018767646571,0.8950340475004153,0.8960305597076897,0.8966949011792061,0.8971931572828434,0.8975253280186015,0.8981896694901179,0.898355754857997,0.900182693904667,0.9018435475834579,0.9021757183192161,0.9023418036870952,0.9036704866301278,0.904002657365886,0.9048330842052815,0.9049991695731606,0.9053313403089188,0.9054974256767979,0.905829596412556,0.9059956817804351,0.9076565354592261,0.9079887061949842,0.9084869622986215,0.9086530476665006,0.9089852184022588,0.9091513037701379,0.9094834745058961,0.9098156452416543,0.9101478159774123,0.9104799867131705,0.9111443281846869,0.9114764989204451,0.9119747550240824,0.9134695233349942,0.9139677794386315,0.9159608038531806,0.9162929745889388,0.9171234014283342,0.9174555721640923,0.9189503404750041,0.9192825112107623,0.9197807673143996,0.9199468526822787,0.9202790234180369,0.922272047832586,0.9226042185683442,0.9231024746719814,0.924098986879256,0.9244311576150142,0.9245972429828933,0.9250954990865304,0.9254276698222886,0.9257598405580468,0.9262580966616841,0.9265902673974423,0.9270885235010795,0.9280850357083541,0.9284172064441123,0.9285832918119914,0.9289154625477496,0.9290815479156286,0.9294137186513868,0.9300780601229032,0.9304102308586614,0.9307424015944196,0.9314067430659358,0.9329015113768477,0.9332336821126059,0.933565852848364,0.9342301943198804,0.9345623650556386,0.9348945357913968,0.9358910479986713,0.9362232187344295,0.9363893041023086,0.9367214748380668,0.9372197309417041,0.9380501577810995,0.9383823285168577,0.939046669988374,0.9393788407241322,0.9398770968277694,0.9405414382992858,0.9412057797708022,0.9418701212423185,0.9422022919780767,0.9428666334495931,0.9431988041853513,0.9433648895532304,0.9438631456568676,0.9441953163926258,0.9446935724962631,0.9451918285999004,0.9456900847035377,0.9461883408071748,0.9466865969108121,0.9471848530144494,0.9475170237502076,0.9478491944859658,0.9481813652217239,0.9495100481647567,0.950008304268394,0.9503404750041521,0.9511709018435476,0.9516691579471849,0.9523334994187012,0.9528317555223385,0.9543265238332503,0.9546586945690084,0.9559873775120412,0.9563195482477994,0.9566517189835575,0.9569838897193157,0.957482145822953,0.9583125726623485,0.9589769141338648,0.959309084869623,0.9594751702375021,0.9603055970768976,0.9606377678126558,0.9619664507556884,0.9627968775950839,0.9634612190666002,0.9642916459059957,0.964789902009633,0.9654542434811493,0.9661185849526657,0.9667829264241821,0.9671150971599403,0.9679455239993356,0.968609865470852,0.9691081215744893,0.970436804517522,0.9711011459890384,0.9724298289320711,0.9732602557714666,0.9735924265072247,0.9749211094502575,0.9750871948181365,0.9754193655538947,0.976083707025411,0.9765819631290483,0.9770802192326856,0.9772463046005647,0.977910646072081,0.9782428168078392,0.9787410729114765,0.9789071582793556,0.9797375851187511,0.9800697558545092,0.9802358412223883,0.9807340973260256,0.981398438797542,0.9817306095333002,0.9820627802690582,0.9825610363726955,0.9832253778442119,0.9835575485799701,0.9840558046836074,0.9845540607872446,0.9853844876266401,0.9855505729945192,0.9868792559375519,0.9872114266733101,0.9875435974090683,0.9883740242484637,0.988872280352101,0.9898687925593755,0.9902009632951337,0.9905331340308918,0.99086530476665,0.9915296462381664,0.9918618169739246,0.9923600730775619,0.99269224381332,0.9936887560205946,0.9940209267563528,0.9941870121242319,0.9945191828599901,0.9946852682278692,0.9953496096993855,0.9955156950672646,0.9965122072745392,0.9966782926424183,0.9975087194818136,0.9986713170569673,0.9991695731606045,1.0],\"y\":[0.0,0.000335795836131632,0.0005036937541974479,0.0011752854264607119,0.0015110812625923438,0.0023505708529214238,0.002686366689053056,0.0030221625251846875,0.0038616521155137675,0.0041974479516454,0.00587642713230356,0.007051712558764272,0.007219610476830087,0.007723304231027535,0.01091336467427804,0.011417058428475487,0.01208865010073875,0.013767629281396911,0.014103425117528543,0.01460711887172599,0.014775016789791807,0.01511081262592344,0.017461383478844864,0.020315648085963735,0.02132303559435863,0.02468099395567495,0.025016789791806583,0.025352585627938212,0.025688381464069845,0.025856279382135663,0.026192075218267292,0.029885829415715246,0.03022162525184688,0.030557421087978508,0.033747481531229015,0.033915379449294826,0.03425117528542646,0.03441907320349228,0.035258562793821356,0.03744123572867696,0.03811282740094023,0.03878441907320349,0.039623908663532575,0.04079919408999328,0.0409670920080591,0.04247817327065145,0.042813969106783076,0.042981867024848894,0.04331766286098052,0.04348556077904634,0.04382135661517797,0.04466084620550705,0.04533243787777032,0.04566823371390195,0.04684351914036266,0.04717931497649429,0.048354600402955,0.052384150436534584,0.05288784419073204,0.05574210879785091,0.056245802552048356,0.056581598388179985,0.05691739422431162,0.05725319006044325,0.059435862995298856,0.059603760913364674,0.06027535258562794,0.06128274009402283,0.06161853593015447,0.0661517797179315,0.06665547347212894,0.06799865681665547,0.07001343183344527,0.07018132975151108,0.07051712558764271,0.07068502350570853,0.07102081934184017,0.07118871725990597,0.07219610476830088,0.07404298186702485,0.0745466756212223,0.0747145735392881,0.07588985896574882,0.07605775688381464,0.07639355271994627,0.07807253190060444,0.07824042981867024,0.07924781732706515,0.07941571524513096,0.07975151108126259,0.08109469442578912,0.08126259234385494,0.08159838817998656,0.0819341840161182,0.08226997985224983,0.08310946944257891,0.0849563465413029,0.08546004029550033,0.08579583613163197,0.08680322364002686,0.0871390194761585,0.08747481531229012,0.0881464069845534,0.08915379449294829,0.08948959032907992,0.09016118200134318,0.09049697783747482,0.09083277367360645,0.09469442578912021,0.09503022162525185,0.09553391537944929,0.09620550705171256,0.09721289456010745,0.09754869039623909,0.09822028206850235,0.09989926124916051,0.10107454667562123,0.1019140362659503,0.10275352585627938,0.10325721961047683,0.10359301544660846,0.10409670920080591,0.10527199462726662,0.10695097380792479,0.10728676964405641,0.10779046339825386,0.1081262592343855,0.10896574882471458,0.10963734049697783,0.11182001343183344,0.11215580926796508,0.11249160510409671,0.11417058428475486,0.11517797179314976,0.11584956346541303,0.11601746138347885,0.11685695097380792,0.11719274680993956,0.11836803223640027,0.11887172599059771,0.11903962390866353,0.11954331766286098,0.12021490933512424,0.12038280725319006,0.12139019476158495,0.12206178643384823,0.12256548018804567,0.1239086635325722,0.12407656145063801,0.125923438549362,0.12609133646742782,0.1279382135661518,0.12894560107454667,0.12911349899261249,0.1301208865010074,0.13515782404298188,0.1353257219610477,0.13616521155137676,0.13717259905977167,0.1378441907320349,0.13834788448623236,0.13851578240429818,0.1396910678307589,0.1406984553391538,0.14254533243787776,0.1428811282740094,0.14355271994627267,0.1438885157824043,0.14405641370047012,0.14439220953660176,0.14539959704499664,0.14556749496306245,0.1459032907991941,0.14640698455339154,0.1472464741437206,0.14758226997985224,0.14775016789791806,0.14825386165211552,0.14842175957018133,0.14993284083277367,0.15010073875083949,0.15060443250503694,0.15077233042310276,0.1512760241773002,0.15144392209536603,0.15177971793149764,0.15194761584956346,0.1522834116856951,0.15295500335795836,0.15329079919409,0.15345869711215582,0.15429818670248488,0.1544660846205507,0.15480188045668233,0.15496977837474815,0.15597716588314306,0.15631296171927467,0.15698455339153794,0.15732034922766958,0.1586635325721961,0.15933512424445936,0.16017461383478845,0.16118200134318333,0.1618535930154466,0.16252518468770988,0.16286098052384151,0.16353257219610476,0.16940899932840833,0.17159167226326394,0.1734385493619879,0.17461383478844864,0.17494963062458024,0.17528542646071188,0.17562122229684352,0.17578912021490933,0.17780389523169912,0.17797179314976494,0.18015446608462055,0.18099395567494964,0.1816655473472129,0.18233713901947615,0.1826729348556078,0.1828408327736736,0.18317662860980524,0.1836803223640027,0.18401611820013433,0.18418401611820012,0.187038280725319,0.18770987239758227,0.18888515782404297,0.1892209536601746,0.19022834116856951,0.19106783075889858,0.1942578912021491,0.19459368703828073,0.195265278710544,0.19761584956346542,0.2006380120886501,0.20130960376091336,0.201645399597045,0.20265278710543988,0.20433176628609806,0.2046675621222297,0.20668233713901948,0.208025520483546,0.20819341840161182,0.2102081934184016,0.21054398925453324,0.21087978509066488,0.21121558092679651,0.21155137676292815,0.21306245802552048,0.21339825386165212,0.2154130288784419,0.21574882471457354,0.21591672263263936,0.21675621222296843,0.21709200805910006,0.21809939556749497,0.2184351914036266,0.2187709872397582,0.21927468099395567,0.2204499664204164,0.2206178643384822,0.2216252518468771,0.2217931497649429,0.22212894560107455,0.22246474143720618,0.22280053727333782,0.22716588314304903,0.22733378106111485,0.22834116856950973,0.22867696440564136,0.22934855607790464,0.2300201477501679,0.23035594358629952,0.23069173942243115,0.23153122901276024,0.23253861652115515,0.23304231027535258,0.2332102081934184,0.23371390194761585,0.23404969778374748,0.23455339153794494,0.23488918737407657,0.23505708529214236,0.23572867696440564,0.23606447280053727,0.24630624580255206,0.24764942914707858,0.24832102081934185,0.2488247145735393,0.2489926124916051,0.24966420416386836,0.24983210208193418,0.25134318334452654,0.2520147750167898,0.25218267293485563,0.25268636668905303,0.25285426460711885,0.25789120214909333,0.25822699798522497,0.25906648757555406,0.25973807924781733,0.2610812625923439,0.2614170584284755,0.2619207521826729,0.26225654801880455,0.26242444593687037,0.262760241773002,0.2629281396910678,0.2634318334452653,0.2637676292813969,0.26410342511752855,0.264607118871726,0.26494291470785764,0.2662860980523841,0.26645399597044994,0.2667897918065816,0.26746138347884485,0.26830087306917394,0.2688045668233714,0.26914036265950303,0.26947615849563467,0.2699798522498321,0.27031564808596376,0.2706514439220954,0.2711551376762928,0.2713230355943586,0.27165883143049024,0.27350570852921424,0.2738415043653459,0.27451309603760915,0.2748488918737408,0.2750167897918066,0.275520483546004,0.27585627938213564,0.2761920752182673,0.2782068502350571,0.28106111484217594,0.2815648085963734,0.28190060443250503,0.2824042981867025,0.2834116856950974,0.28374748153122903,0.28391537944929485,0.2844190732034923,0.2850906648757555,0.28542646071188715,0.28828072531900606,0.2887844190732035,0.28912021490933515,0.29063129617192746,0.2909670920080591,0.2911349899261249,0.29147078576225655,0.29247817327065145,0.2929818670248489,0.29348556077904636,0.2943250503693754,0.29466084620550703,0.3059100067159167,0.30708529214237745,0.3074210879785091,0.3075889858965749,0.3080926796507723,0.3087642713230356,0.3097716588314305,0.3106111484217596,0.31262592343854934,0.3131296171927468,0.3132975151108126,0.31380120886501006,0.31447280053727333,0.317494963062458,0.31799865681665546,0.3185023505708529,0.31883814640698455,0.3195097380792478,0.31984553391537945,0.3205171255876427,0.32152451309603763,0.3218603089321692,0.3225319006044325,0.32303559435862994,0.3237071860308932,0.32404298186702485,0.3247145735392881,0.3252182672934856,0.3255540631296172,0.32572196104768303,0.32639355271994624,0.32740094022834115,0.3279046339825386,0.3280725319006044,0.3287441235728677,0.3297515110812626,0.33008730691739424,0.3312625923438549,0.33176628609805237,0.33344526527871055,0.33948959032907994,0.3398253861652116,0.3399932840832774,0.34032907991940897,0.3408327736736064,0.34116856950973806,0.34184016118200133,0.34200805910006715,0.3426796507723304,0.34301544660846206,0.3435191403626595,0.3445265278710544,0.34486232370718606,0.34536601746138346,0.3458697112155809,0.3465413028878442,0.3468770987239758,0.34721289456010745,0.3473807924781733,0.3477165883143049,0.34805238415043654,0.3483881799865682,0.34889187374076563,0.34922766957689727,0.34973136333109467,0.35040295500335794,0.3507387508394896,0.35124244459368703,0.3519140362659503,0.3520819341840161,0.35308932169241103,0.35325721961047685,0.3544325050369375,0.35577568838146406,0.3561114842175957,0.3572867696440564,0.35745466756212224,0.3577904633982539,0.35829415715245133,0.3596373404969778,0.35980523841504364,0.36098052384150436,0.361316319677636,0.36165211551376764,0.36182001343183345,0.36265950302216254,0.36316319677636,0.3636668905305574,0.3636668905305574,0.36433848220282067,0.3646742780389523,0.36517797179314976,0.36601746138347885,0.3665211551376763,0.36702484889187376,0.3673606447280054,0.36786433848220285,0.36803223640026866,0.36937541974479515,0.36954331766286097,0.37038280725319006,0.3707186030893217,0.37105439892545333,0.37122229684351915,0.3715580926796508,0.3717259905977166,0.3723975822699799,0.37273337810611146,0.3730691739422431,0.37340496977837473,0.374076561450638,0.3769308260577569,0.3770987239758227,0.3776024177300201,0.37793821356615176,0.3784419073203492,0.37860980523841503,0.37894560107454667,0.3792813969106783,0.37978509066487576,0.3801208865010074,0.38045668233713903,0.3809603760913365,0.3812961719274681,0.3817998656816656,0.38213566151779715,0.3828072531900604,0.3834788448623237,0.3836467427803895,0.38415043653458697,0.3844862323707186,0.3851578240429819,0.38566151779717933,0.38599731363331097,0.3863331094694426,0.38683680322364,0.3878441907320349,0.38801208865010073,0.38834788448623236,0.388683680322364,0.39758226997985224,0.39959704499664206,0.3997649429147079,0.40026863666890533,0.4012760241773002,0.4016118200134318,0.4024513096037609,0.40278710543989255,0.4041302887844191,0.40597716588314303,0.4083277367360645,0.4086635325721961,0.4095030221625252,0.40967092008059103,0.4100067159167226,0.41051040967092006,0.41118200134318333,0.41151779717931497,0.4116856950973808,0.4120214909335124,0.4128609805238415,0.4135325721961048,0.416051040967092,0.41655473472128945,0.41739422431161854,0.41756212222968436,0.4180658159838818,0.41840161182001345,0.4189053055742109,0.41974479516453994,0.4200805910006716,0.4231027535258563,0.4237743451981195,0.42394224311618534,0.42494963062458024,0.4256212222968435,0.42696440564137006,0.4274680993955675,0.42780389523169915,0.42847548690396237,0.428811282740094,0.42914707857622564,0.42931497649429146,0.43032236400268636,0.4304902619207522,0.43116185359301545,0.4314976494291471,0.43216924110141036,0.43334452652787103,0.43351242444593685,0.4346877098723976,0.43552719946272667,0.4356950973807925,0.43636668905305576,0.4365345869711216,0.43703828072531903,0.44056413700470115,0.44140362659503024,0.4420752182672935,0.4425789120214909,0.44341840161182,0.4435862995298858,0.44476158495634655,0.4450973807924782,0.4454331766286098,0.44576897246474145,0.4461047683008731,0.4476158495634654,0.44795164539959703,0.4484553391537945,0.4486232370718603,0.44979852249832103,0.4511417058428476,0.4521490933512424,0.4529885829415715,0.45332437877770315,0.45349227669576897,0.45416386836803224,0.45433176628609806,0.45500335795836133,0.4563465413028878,0.4570181329751511,0.4578576225654802,0.458025520483546,0.4588650100738751,0.4592008059100067,0.4597044996642042,0.4600402955003358,0.46104768300873067,0.4613834788448623,0.4622229684351914,0.46255876427132303,0.4632303559435863,0.4640698455339154,0.46457353928811285,0.4652451309603761,0.4655809267965077,0.46608462055070515,0.46625251846877097,0.46692411014103424,0.4674278038952317,0.46809939556749497,0.4684351914036266,0.46893888515782406,0.4692746809939557,0.46961047683008733,0.46977837474815315,0.47011417058428473,0.47044996642041637,0.4709536601746138,0.47128945601074546,0.4714573539288113,0.4717931497649429,0.4719610476830087,0.47313633310946945,0.4736400268636669,0.474479516453996,0.4749832102081934,0.4751511081262592,0.4758226997985225,0.47632639355271994,0.4766621893888516,0.4780053727333781,0.48237071860308933,0.48337810611148424,0.48404969778374746,0.4845533915379449,0.48505708529214236,0.485392881128274,0.48589657488247145,0.4864002686366689,0.48690396239086636,0.487239758226998,0.48757555406312963,0.4880792478173271,0.4884150436534587,0.4912693082605776,0.49210879785090667,0.49445936870382806,0.49546675621222297,0.49613834788448624,0.4979852249832102,0.498153122901276,0.49848891873740764,0.4988247145735393,0.4991605104096709,0.49949630624580255,0.501846877098724,0.5021826729348556,0.5028542646071189,0.5043653458697113,0.5048690396239086,0.5052048354600402,0.5058764271323035,0.5060443250503693,0.506380120886501,0.5068838146406984,0.5072196104768301,0.508226997985225,0.5085627938213566,0.5088985896574882,0.5099059771658832,0.5104096709200806,0.5112491605104097,0.5114170584284755,0.5122565480188046,0.5129281396910679,0.5135997313633311,0.5141034251175285,0.5144392209536601,0.5149429147078576,0.5152787105439892,0.515446608462055,0.5159503022162525,0.5162860980523841,0.517293485560779,0.5176292813969107,0.5186366689053056,0.5193082605775688,0.5198119543317663,0.5201477501678979,0.5203156480859638,0.5206514439220954,0.520987239758227,0.5216588314304903,0.5219946272666219,0.5223304231027536,0.5230020147750168,0.5233378106111484,0.52367360644728,0.5243451981195433,0.5248488918737407,0.5250167897918065,0.5275352585627938,0.5278710543989255,0.5283747481531229,0.5297179314976495,0.5298858294157153,0.5302216252518469,0.5308932169241102,0.531061114842176,0.5313969106783076,0.5322364002686367,0.5327400940228341,0.5329079919408999,0.5334116856950973,0.5335795836131632,0.5344190732034922,0.5345869711215581,0.5350906648757555,0.5354264607118872,0.5359301544660846,0.5364338482202821,0.5367696440564137,0.5369375419744795,0.5379449294828744,0.539288112827401,0.5396239086635326,0.5401276024177301,0.5409670920080591,0.541134989926125,0.5414707857622566,0.5419744795164539,0.5423102753525856,0.5451645399597045,0.5455003357958361,0.5456682337139019,0.5488582941571525,0.5522162525184687,0.554734721289456,0.5580926796507724,0.5582605775688382,0.5585963734049698,0.5596037609133647,0.5636333109469442,0.5639691067830759,0.5649764942914708,0.5653122901276024,0.5656480859637341,0.5661517797179315,0.5664875755540631,0.5678307588985897,0.5691739422431162,0.5703492276695769,0.5715245130960376,0.5718603089321692,0.5723640026863667,0.5728676964405641,0.5730355943586299,0.5740429818670248,0.5743787777031565,0.5748824714573539,0.5752182672934856,0.5755540631296172,0.5785762256548019,0.5790799194089993,0.5792478173270651,0.5795836131631967,0.5799194089993284,0.5805910006715916,0.5809267965077233,0.5847884486232371,0.5851242444593687,0.5861316319677636,0.5873069173942244,0.5874748153122902,0.5881464069845533,0.5886501007387508,0.5893216924110141,0.5899932840832773,0.5916722632639355,0.592175957018133,0.5925117528542646,0.5935191403626595,0.5946944257891202,0.5950302216252519,0.5963734049697784,0.5967092008059101,0.5968770987239759,0.5988918737407656,0.5997313633310947,0.6000671591672263,0.6004029550033579,0.601242444593687,0.6025856279382136,0.6029214237743452,0.6034251175285427,0.6040967092008059,0.6044325050369376,0.604936198791135,0.6052719946272667,0.6067830758898589,0.6071188717259905,0.6079583613163196,0.6084620550705171,0.6087978509066487,0.6091336467427804,0.609469442578912,0.6098052384150436,0.6104768300873069,0.6119879113498993,0.6126595030221625,0.6129952988582942,0.6134989926124916,0.6140026863666891,0.6145063801208865,0.6148421759570182,0.6151779717931498,0.615849563465413,0.6165211551376762,0.6170248488918737,0.6171927468099395,0.6182001343183344,0.6187038280725319,0.6190396239086635,0.6193754197447952,0.6197112155809268,0.621390194761585,0.6218938885157824,0.6220617864338482,0.6225654801880457,0.6227333781061115,0.6230691739422431,0.6235728676964406,0.6244123572867697,0.6250839489590329,0.6260913364674278,0.6262592343854936,0.6265950302216252,0.6279382135661518,0.6282740094022834,0.6294492948287441,0.6299529885829416,0.6302887844190732,0.630456682337139,0.6307924781732707,0.6309603760913365,0.6312961719274681,0.6317998656816656,0.6331430490261921,0.6385157824042982,0.6388515782404298,0.6395231699126931,0.6396910678307589,0.6396910678307589,0.6401947615849564,0.6401947615849564,0.640530557421088,0.6408663532572196,0.6410342511752855,0.6432169241101411,0.6452316991269308,0.6459032907991941,0.6475822699798522,0.6480859637340497,0.6484217595701813,0.648757555406313,0.6494291470785762,0.6501007387508395,0.6507723304231028,0.6516118200134319,0.6521155137676293,0.6526192075218268,0.6529550033579583,0.6539623908663532,0.6542981867024849,0.6549697783747481,0.6553055742108798,0.6556413700470114,0.6564808596373405,0.6571524513096038,0.6576561450638012,0.657824042981867,0.6581598388179987,0.6593351242444594,0.659670920080591,0.6601746138347885,0.6603425117528543,0.6608462055070518,0.6610141034251176,0.6616856950973808,0.6620214909335125,0.662357286769644,0.6628609805238415,0.6652115513767629,0.6655473472128945,0.6658831430490262,0.6662189388851578,0.6663868368032236,0.6672263263935527,0.6673942243116185,0.6682337139019476,0.6689053055742109,0.6692411014103425,0.6694089993284084,0.6700805910006716,0.6702484889187375,0.6705842847548691,0.6709200805910007,0.6712558764271324,0.6719274680993955,0.6722632639355272,0.6734385493619879,0.6737743451981195,0.6739422431161853,0.6744459368703828,0.6746138347884486,0.6749496306245802,0.6751175285426461,0.6754533243787777,0.6757891202149093,0.676124916051041,0.6771323035594359,0.6778038952316991,0.6783075889858966,0.6794828744123573,0.679818670248489,0.6803223640026864,0.6806581598388179,0.6808260577568838,0.681497649429147,0.6821692411014103,0.6823371390194761,0.6826729348556078,0.6828408327736736,0.6831766286098052,0.683344526527871,0.6836803223640027,0.6841840161182001,0.6845198119543318,0.6855271994627267,0.6858629952988583,0.6860308932169241,0.6867024848891874,0.6872061786433848,0.6875419744795165,0.6880456682337139,0.6883814640698456,0.688885157824043,0.6892209536601747,0.6895567494963063,0.6900604432505036,0.6902283411685695,0.6907320349227669,0.6908999328408327,0.6925789120214909,0.6930826057756884,0.6937541974479516,0.6962726662189389,0.697112155809268,0.6974479516453996,0.6976158495634655,0.6979516453995971,0.6984553391537945,0.6991269308260577,0.6994627266621893,0.7001343183344526,0.7004701141705842,0.7008059100067159,0.7008059100067159,0.7019811954331766,0.7028206850235057,0.7033243787777032,0.7038280725319006,0.7043317662860981,0.7046675621222297,0.7048354600402955,0.7048354600402955,0.7083613163196776,0.7090329079919409,0.7110476830087307,0.7135661517797179,0.7139019476158496,0.7147414372061787,0.7150772330423103,0.7157488247145736,0.7182672934855607,0.7192746809939556,0.7196104768300873,0.7199462726662189,0.7199462726662189,0.7201141705842847,0.7204499664204164,0.7206178643384822,0.7214573539288113,0.7221289456010745,0.7224647414372062,0.7231363331094695,0.7234721289456011,0.7239758226997985,0.7243116185359302,0.7249832102081935,0.7256548018804567,0.7261584956346542,0.7264942914707858,0.7268300873069174,0.727165883143049,0.7280053727333781,0.7288448623237072,0.7291806581598388,0.7296843519140362,0.7325386165211552,0.7328744123572868,0.7333781061114842,0.7335460040295501,0.7338817998656817,0.7340496977837475,0.734553391537945,0.7355607790463399,0.7358965748824715,0.736232370718603,0.7377434519811954,0.7382471457353929,0.7385829415715245,0.7397582269979852,0.7402619207521827,0.7404298186702485,0.7404298186702485,0.7414372061786434,0.7421087978509067,0.7424445936870383,0.7429482874412358,0.7432840832773674,0.743619879113499,0.7449630624580256,0.7452988582941572,0.7458025520483546,0.7461383478844862,0.7464741437206178,0.7468099395567495,0.7471457353928811,0.7473136333109469,0.7476494291470785,0.7491605104096709,0.7496642041638684,0.75,0.7505036937541975,0.7510073875083949,0.7516789791806582,0.751846877098724,0.7530221625251847,0.7533579583613164,0.7535258562793822,0.7538616521155138,0.7552048354600402,0.7555406312961719,0.7570517125587642,0.758226997985225,0.7588985896574882,0.7592343854936199,0.7594022834116857,0.7599059771658832,0.7607454667562122,0.7615849563465413,0.7617528542646071,0.7620886501007388,0.7625923438549362,0.7642713230355943,0.765446608462055,0.7659503022162525,0.7671255876427132,0.7671255876427132,0.767293485560779,0.7676292813969107,0.7698119543317663,0.7708193418401612,0.7713230355943587,0.7716588314304903,0.7719946272666219,0.7723304231027536,0.7724983210208194,0.7724983210208194,0.772834116856951,0.7731699126930826,0.7735057085292142,0.7735057085292142,0.7738415043653458,0.7743451981195433,0.7748488918737407,0.7751846877098724,0.775520483546004,0.7758562793821356,0.7760241773002015,0.7777031564808596,0.7780389523169913,0.7785426460711887,0.7797179314976495,0.7803895231699127,0.7803895231699127,0.7808932169241102,0.7808932169241102,0.7812290127602418,0.7817327065144393,0.7819006044325051,0.7824042981867025,0.7834116856950973,0.783747481531229,0.7839153794492948,0.7842511752854264,0.7844190732034922,0.7852585627938213,0.785594358629953,0.785594358629953,0.7862659503022162,0.7866017461383479,0.787441235728677,0.787441235728677,0.7877770315648086,0.7877770315648086,0.7884486232370719,0.7887844190732035,0.7889523169912693,0.7894560107454668,0.7896239086635326,0.7901276024177301,0.7904633982538617,0.7907991940899933,0.7909670920080591,0.7909670920080591,0.791134989926125,0.7914707857622566,0.7926460711887172,0.7929818670248489,0.7931497649429147,0.7931497649429147,0.7938213566151779,0.7938213566151779,0.7944929482874412,0.7951645399597045,0.7951645399597045,0.7956682337139019,0.7960040295500336,0.7970114170584285,0.7975151108126259,0.7985224983210208,0.7985224983210208,0.7995298858294158,0.7995298858294158,0.8003693754197448,0.8003693754197448,0.8013767629281396,0.8017125587642713,0.8017125587642713,0.8022162525184687,0.8025520483546004,0.8037273337810611,0.8037273337810611,0.8038952316991269,0.8064137004701142,0.8087642713230356,0.8099395567494964,0.8099395567494964,0.8106111484217595,0.8109469442578912,0.8109469442578912,0.8116185359301544,0.8119543317662861,0.8124580255204835,0.8124580255204835,0.812961719274681,0.812961719274681,0.8131296171927468,0.8131296171927468,0.8138012088650101,0.8141370047011417,0.8146406984553392,0.814808596373405,0.8158159838817999,0.8158159838817999,0.8159838817998657,0.816655473472129,0.8171591672263264,0.8174949630624581,0.818502350570853,0.8188381464069846,0.8195097380792478,0.8198455339153794,0.8203492276695769,0.8205171255876427,0.8205171255876427,0.8210208193418401,0.8213566151779718,0.8213566151779718,0.8216924110141034,0.822028206850235,0.8223640026863667,0.8226997985224983,0.8232034922766958,0.8232034922766958,0.823875083948959,0.8242108797850907,0.8243787777031565,0.8243787777031565,0.8250503693754198,0.8252182672934856,0.825721961047683,0.8260577568838147,0.8267293485560779,0.8270651443922096,0.8274009402283412,0.8274009402283412,0.8277367360644728,0.8280725319006045,0.8280725319006045,0.8282404298186703,0.8285762256548019,0.8290799194089993,0.8294157152451309,0.8294157152451309,0.8300873069173942,0.8304231027535258,0.8307588985896575,0.8309267965077233,0.8312625923438549,0.8319341840161182,0.8322699798522498,0.8336131631967764,0.8341168569509738,0.8342847548690396,0.8346205507051713,0.8351242444593687,0.8351242444593687,0.8366353257219611,0.8366353257219611,0.8371390194761585,0.8378106111484218,0.8386501007387508,0.8393216924110141,0.8396574882471457,0.8399932840832773,0.8404969778374748,0.8404969778374748,0.8411685695097381,0.8418401611820013,0.8420080591000672,0.8423438549361988,0.8428475486903962,0.8433512424445937,0.8433512424445937,0.8436870382807253,0.844022834116857,0.8443586299529886,0.8445265278710544,0.8445265278710544,0.8448623237071861,0.8448623237071861,0.8450302216252519,0.8450302216252519,0.8460376091336468,0.8465413028878442,0.8472128945601075,0.8477165883143049,0.8477165883143049,0.8482202820685023,0.8482202820685023,0.8485560779046339,0.8485560779046339,0.8487239758226998,0.8487239758226998,0.8488918737407656,0.8488918737407656,0.8492276695768972,0.8492276695768972,0.849395567494963,0.849395567494963,0.8500671591672263,0.8507387508394896,0.8507387508394896,0.8510745466756212,0.8510745466756212,0.8515782404298187,0.8522498321020819,0.8529214237743452,0.853089321692411,0.853089321692411,0.8547683008730692,0.8547683008730692,0.854936198791135,0.8552719946272667,0.8556077904633983,0.8559435862995299,0.8559435862995299,0.8562793821356616,0.8562793821356616,0.8564472800537274,0.8567830758898589,0.8567830758898589,0.8569509738079247,0.8572867696440564,0.8572867696440564,0.8581262592343855,0.8586299529885829,0.8589657488247145,0.8591336467427804,0.8591336467427804,0.859469442578912,0.8599731363331095,0.8601410342511753,0.8611484217595702,0.8618200134318335,0.8618200134318335,0.8624916051040967,0.8626595030221625,0.8629952988582942,0.8629952988582942,0.86316319677636,0.86316319677636,0.8634989926124916,0.8638347884486233,0.8646742780389524,0.8653458697112156,0.865849563465413,0.8663532572196104,0.8663532572196104,0.8665211551376762,0.8671927468099395,0.8673606447280053,0.8673606447280053,0.8678643384822028,0.8678643384822028,0.8680322364002686,0.8680322364002686,0.8692075218267293,0.869543317662861,0.8697112155809268,0.8700470114170584,0.8712222968435192,0.8712222968435192,0.871390194761585,0.8715580926796508,0.8718938885157824,0.8718938885157824,0.8720617864338482,0.8720617864338482,0.8722296843519141,0.8722296843519141,0.8723975822699799,0.8725654801880457,0.8725654801880457,0.8729012760241773,0.8729012760241773,0.8730691739422431,0.8734049697783748,0.8739086635325722,0.8744123572867697,0.8747481531229013,0.8750839489590329,0.8755876427132303,0.8755876427132303,0.8757555406312961,0.8762592343854936,0.8764271323035594,0.8764271323035594,0.8774345198119543,0.8777703156480859,0.8779382135661518,0.8779382135661518,0.8784419073203492,0.8784419073203492,0.8791134989926125,0.8791134989926125,0.8791134989926125,0.8791134989926125,0.8792813969106783,0.8792813969106783,0.8796171927468099,0.8799529885829416,0.8807924781732707,0.8807924781732707,0.8809603760913365,0.8809603760913365,0.8812961719274681,0.8812961719274681,0.8816319677635998,0.8819677635997314,0.8824714573539288,0.8824714573539288,0.8826393552719947,0.8826393552719947,0.8829751511081263,0.8838146406984554,0.8838146406984554,0.8843183344526527,0.8843183344526527,0.8844862323707186,0.8844862323707186,0.8848220282068502,0.8848220282068502,0.8851578240429818,0.8856615177971793,0.8856615177971793,0.8859973136333109,0.8859973136333109,0.8865010073875084,0.8865010073875084,0.8866689053055742,0.8866689053055742,0.88683680322364,0.8870047011417058,0.8873404969778375,0.8875083948959033,0.8875083948959033,0.8876762928139691,0.8876762928139691,0.8888515782404298,0.8896910678307589,0.8898589657488247,0.8898589657488247,0.8901947615849564,0.8901947615849564,0.8908663532572196,0.8908663532572196,0.8912021490933513,0.8912021490933513,0.8917058428475487,0.8917058428475487,0.8920416386836804,0.8920416386836804,0.8922095366017462,0.8928811282740095,0.8930490261920753,0.8935527199462726,0.8935527199462726,0.8940564137004701,0.8940564137004701,0.8945601074546675,0.8945601074546675,0.8947280053727333,0.8953995970449966,0.8953995970449966,0.8955674949630624,0.8955674949630624,0.8957353928811282,0.8957353928811282,0.8960711887172599,0.8964069845533915,0.8964069845533915,0.896910678307589,0.8972464741437206,0.8972464741437206,0.8974143720617864,0.8974143720617864,0.8975822699798522,0.8979180658159839,0.8982538616521155,0.8982538616521155,0.8985896574882472,0.8990933512424446,0.8992612491605104,0.8992612491605104,0.8994291470785762,0.8995970449966421,0.8999328408327737,0.9002686366689053,0.9002686366689053,0.9007723304231028,0.9011081262592344,0.9012760241773002,0.9016118200134319,0.9016118200134319,0.9017797179314977,0.9019476158495635,0.9021155137676293,0.9021155137676293,0.9022834116856951,0.9022834116856951,0.902451309603761,0.902451309603761,0.9036265950302216,0.9036265950302216,0.9037944929482874,0.9037944929482874,0.904130288784419,0.904130288784419,0.9044660846205507,0.9044660846205507,0.9049697783747481,0.9049697783747481,0.9051376762928139,0.9051376762928139,0.9053055742108798,0.9053055742108798,0.9054734721289456,0.9054734721289456,0.9058092679650772,0.9058092679650772,0.905977165883143,0.905977165883143,0.9061450638012088,0.9061450638012088,0.9066487575554063,0.9066487575554063,0.9068166554734721,0.9069845533915379,0.9074882471457354,0.9074882471457354,0.9076561450638012,0.907824042981867,0.907824042981867,0.9083277367360645,0.9084956346541303,0.9084956346541303,0.9095030221625252,0.9095030221625252,0.9098388179986568,0.9098388179986568,0.9103425117528543,0.9103425117528543,0.9105104096709201,0.9110141034251176,0.9110141034251176,0.9113498992612492,0.911517797179315,0.9120214909335125,0.9121893888515782,0.9121893888515782,0.912357286769644,0.912357286769644,0.9125251846877098,0.9125251846877098,0.9126930826057756,0.9130288784419073,0.9130288784419073,0.9131967763599731,0.9131967763599731,0.9131967763599731,0.9135325721961047,0.9135325721961047,0.9137004701141705,0.9137004701141705,0.9140362659503022,0.9140362659503022,0.9145399597044996,0.9147078576225655,0.9147078576225655,0.9148757555406313,0.9148757555406313,0.9152115513767629,0.9152115513767629,0.9155473472128945,0.916051040967092,0.916051040967092,0.9162189388851578,0.9162189388851578,0.9163868368032236,0.9173942243116185,0.9173942243116185,0.9175621222296844,0.9175621222296844,0.9177300201477502,0.9177300201477502,0.9177300201477502,0.9177300201477502,0.917897918065816,0.917897918065816,0.9180658159838818,0.9180658159838818,0.9182337139019476,0.9182337139019476,0.9182337139019476,0.9184016118200135,0.9187374076561451,0.9187374076561451,0.9190732034922767,0.9190732034922767,0.9190732034922767,0.9190732034922767,0.9192411014103425,0.9192411014103425,0.91974479516454,0.91974479516454,0.9199126930826058,0.9199126930826058,0.9200805910006716,0.9200805910006716,0.9205842847548691,0.9205842847548691,0.9207521826729349,0.9207521826729349,0.9210879785090665,0.9210879785090665,0.9214237743451981,0.9215916722632639,0.9215916722632639,0.9217595701813297,0.9217595701813297,0.9217595701813297,0.9219274680993955,0.9219274680993955,0.9219274680993955,0.9222632639355272,0.9225990597716588,0.9225990597716588,0.9227669576897246,0.9227669576897246,0.9231027535258562,0.9231027535258562,0.9236064472800537,0.9239422431161853,0.9239422431161853,0.9241101410342512,0.9241101410342512,0.924278038952317,0.924278038952317,0.9244459368703828,0.9244459368703828,0.9247817327065144,0.9247817327065144,0.9247817327065144,0.9247817327065144,0.9251175285426461,0.9251175285426461,0.9252854264607119,0.9252854264607119,0.9254533243787777,0.9259570181329752,0.9259570181329752,0.9262928139691068,0.9262928139691068,0.9264607118871726,0.9267965077233042,0.9269644056413701,0.9269644056413701,0.9276359973136333,0.9278038952316991,0.927971793149765,0.927971793149765,0.9281396910678308,0.9281396910678308,0.9283075889858966,0.9286433848220282,0.9286433848220282,0.9288112827400941,0.9288112827400941,0.9291470785762257,0.9291470785762257,0.9293149764942915,0.9293149764942915,0.9296507723304231,0.9296507723304231,0.9299865681665548,0.9304902619207522,0.9306581598388179,0.9306581598388179,0.9309939556749496,0.9311618535930154,0.9311618535930154,0.9318334452652787,0.9318334452652787,0.9321692411014103,0.9321692411014103,0.9325050369375419,0.9325050369375419,0.9330087306917394,0.9330087306917394,0.9331766286098052,0.9331766286098052,0.9331766286098052,0.9331766286098052,0.9335124244459369,0.9336803223640027,0.9336803223640027,0.9338482202820685,0.9338482202820685,0.9345198119543318,0.9345198119543318,0.9346877098723976,0.935191403626595,0.935191403626595,0.9355271994627267,0.9355271994627267,0.9356950973807925,0.9356950973807925,0.9358629952988583,0.9358629952988583,0.9361987911349899,0.9361987911349899,0.9363666890530558,0.9363666890530558,0.9365345869711216,0.9365345869711216,0.9368703828072532,0.9368703828072532,0.937038280725319,0.937038280725319,0.9372061786433848,0.9372061786433848,0.9378777703156481,0.9378777703156481,0.9378777703156481,0.9382135661517798,0.9387172599059772,0.9387172599059772,0.938885157824043,0.938885157824043,0.938885157824043,0.9390530557421088,0.9390530557421088,0.9392209536601747,0.9393888515782405,0.9393888515782405,0.9395567494963063,0.9395567494963063,0.9397246474143721,0.9397246474143721,0.9397246474143721,0.9397246474143721,0.9403962390866353,0.9403962390866353,0.9405641370047011,0.9407320349227669,0.9407320349227669,0.9408999328408327,0.9408999328408327,0.9410678307588985,0.9410678307588985,0.9410678307588985,0.9414036265950302,0.9414036265950302,0.9417394224311618,0.9417394224311618,0.9419073203492276,0.9419073203492276,0.9422431161853593,0.9424110141034251,0.9427468099395567,0.9427468099395567,0.9429147078576225,0.9429147078576225,0.9430826057756884,0.9430826057756884,0.94341840161182,0.94341840161182,0.9435862995298858,0.9435862995298858,0.9437541974479516,0.9437541974479516,0.9437541974479516,0.9440899932840833,0.9442578912021491,0.9442578912021491,0.9444257891202149,0.9444257891202149,0.9445936870382807,0.9445936870382807,0.9447615849563465,0.9447615849563465,0.9449294828744124,0.9449294828744124,0.9449294828744124,0.9450973807924782,0.9450973807924782,0.945265278710544,0.945265278710544,0.945265278710544,0.9454331766286098,0.9456010745466756,0.9456010745466756,0.9457689724647415,0.9457689724647415,0.9464405641370047,0.9467763599731364,0.947112155809268,0.947112155809268,0.9472800537273338,0.9472800537273338,0.9474479516453996,0.9474479516453996,0.9479516453995971,0.9479516453995971,0.9482874412357287,0.9482874412357287,0.9482874412357287,0.9484553391537945,0.9484553391537945,0.9486232370718604,0.9487911349899262,0.9487911349899262,0.9487911349899262,0.948959032907992,0.948959032907992,0.9491269308260577,0.9491269308260577,0.9494627266621893,0.9494627266621893,0.9496306245802552,0.9496306245802552,0.9496306245802552,0.949798522498321,0.949798522498321,0.9499664204163868,0.9499664204163868,0.9499664204163868,0.9499664204163868,0.9499664204163868,0.9499664204163868,0.9499664204163868,0.9499664204163868,0.9499664204163868,0.9501343183344526,0.9501343183344526,0.9501343183344526,0.9501343183344526,0.9503022162525184,0.9503022162525184,0.9504701141705842,0.9504701141705842,0.9506380120886501,0.9506380120886501,0.9508059100067159,0.9508059100067159,0.9509738079247817,0.9509738079247817,0.9511417058428475,0.9513096037609133,0.9514775016789792,0.9514775016789792,0.9518132975151108,0.9519811954331766,0.9521490933512424,0.9521490933512424,0.9523169912693082,0.9523169912693082,0.9524848891873741,0.9524848891873741,0.9524848891873741,0.9524848891873741,0.9524848891873741,0.9528206850235057,0.9528206850235057,0.9529885829415715,0.9529885829415715,0.9533243787777032,0.9533243787777032,0.953492276695769,0.953492276695769,0.9536601746138348,0.9536601746138348,0.9536601746138348,0.9536601746138348,0.9538280725319006,0.9538280725319006,0.9541638683680322,0.9541638683680322,0.9543317662860981,0.9543317662860981,0.9544996642041639,0.9548354600402955,0.9548354600402955,0.9550033579583613,0.9550033579583613,0.9550033579583613,0.9550033579583613,0.9551712558764271,0.9551712558764271,0.9551712558764271,0.9551712558764271,0.9551712558764271,0.9551712558764271,0.9555070517125588,0.9555070517125588,0.9556749496306246,0.9556749496306246,0.9558428475486904,0.9558428475486904,0.9558428475486904,0.9558428475486904,0.9561786433848221,0.9561786433848221,0.9561786433848221,0.9561786433848221,0.9563465413028879,0.9563465413028879,0.9565144392209537,0.9565144392209537,0.9565144392209537,0.9566823371390195,0.9566823371390195,0.9570181329751511,0.9570181329751511,0.9570181329751511,0.9570181329751511,0.957186030893217,0.957186030893217,0.957186030893217,0.957186030893217,0.9573539288112828,0.9575218267293486,0.9575218267293486,0.9575218267293486,0.9580255204835461,0.9580255204835461,0.9585292142377434,0.9585292142377434,0.9586971121558092,0.9586971121558092,0.9590329079919409,0.9592008059100067,0.9592008059100067,0.9592008059100067,0.9592008059100067,0.9593687038280725,0.9593687038280725,0.9595366017461383,0.9598723975822699,0.9600402955003358,0.9600402955003358,0.9602081934184016,0.9602081934184016,0.9603760913364674,0.9605439892545332,0.9605439892545332,0.960711887172599,0.960711887172599,0.960711887172599,0.960711887172599,0.960711887172599,0.960711887172599,0.9608797850906649,0.9608797850906649,0.9610476830087307,0.9610476830087307,0.9612155809267965,0.9613834788448623,0.9613834788448623,0.9615513767629281,0.9618871725990598,0.9618871725990598,0.9622229684351914,0.9622229684351914,0.962558764271323,0.962558764271323,0.9627266621893888,0.9627266621893888,0.9628945601074547,0.9628945601074547,0.9628945601074547,0.9630624580255205,0.9630624580255205,0.9632303559435863,0.9632303559435863,0.9632303559435863,0.9632303559435863,0.9632303559435863,0.9632303559435863,0.9633982538616521,0.9633982538616521,0.9635661517797179,0.9635661517797179,0.9637340496977838,0.9637340496977838,0.9639019476158496,0.9639019476158496,0.9640698455339154,0.9640698455339154,0.9642377434519812,0.9642377434519812,0.964405641370047,0.964405641370047,0.9645735392881128,0.9645735392881128,0.9645735392881128,0.9647414372061787,0.9647414372061787,0.9649093351242445,0.9649093351242445,0.9650772330423103,0.9650772330423103,0.9652451309603761,0.9652451309603761,0.9654130288784419,0.9659167226326394,0.9659167226326394,0.9659167226326394,0.9659167226326394,0.9660846205507052,0.9660846205507052,0.966252518468771,0.966252518468771,0.966252518468771,0.9664204163868368,0.9664204163868368,0.9664204163868368,0.9665883143049027,0.9665883143049027,0.9667562122229685,0.9667562122229685,0.9667562122229685,0.9667562122229685,0.9667562122229685,0.9667562122229685,0.9667562122229685,0.9669241101410343,0.9669241101410343,0.9672599059771659,0.9674278038952318,0.9674278038952318,0.9675957018132975,0.9677635997313633,0.9677635997313633,0.9677635997313633,0.9677635997313633,0.9677635997313633,0.9677635997313633,0.9677635997313633,0.9677635997313633,0.9679314976494291,0.9684351914036265,0.9686030893216924,0.9686030893216924,0.9686030893216924,0.968938885157824,0.968938885157824,0.9691067830758898,0.9691067830758898,0.9692746809939556,0.9692746809939556,0.9694425789120215,0.9694425789120215,0.9696104768300873,0.9696104768300873,0.9696104768300873,0.9697783747481531,0.9697783747481531,0.9697783747481531,0.9699462726662189,0.9699462726662189,0.9699462726662189,0.9699462726662189,0.9701141705842847,0.9701141705842847,0.9704499664204164,0.9704499664204164,0.9706178643384822,0.9706178643384822,0.970785762256548,0.970785762256548,0.970785762256548,0.970785762256548,0.970785762256548,0.970785762256548,0.9709536601746138,0.9709536601746138,0.9709536601746138,0.9709536601746138,0.9709536601746138,0.9709536601746138,0.9711215580926796,0.9711215580926796,0.9711215580926796,0.9711215580926796,0.9712894560107455,0.9712894560107455,0.9712894560107455,0.9714573539288113,0.9714573539288113,0.9716252518468771,0.9719610476830087,0.9721289456010745,0.9722968435191404,0.9722968435191404,0.9722968435191404,0.9722968435191404,0.9724647414372062,0.972632639355272,0.972632639355272,0.9728005372733378,0.9728005372733378,0.9728005372733378,0.9728005372733378,0.9728005372733378,0.9728005372733378,0.9729684351914036,0.9729684351914036,0.9731363331094695,0.9731363331094695,0.9731363331094695,0.9733042310275353,0.9733042310275353,0.9736400268636669,0.9736400268636669,0.9741437206178644,0.9741437206178644,0.9741437206178644,0.9741437206178644,0.9741437206178644,0.9741437206178644,0.9741437206178644,0.9741437206178644,0.974479516453996,0.974479516453996,0.9746474143720618,0.9746474143720618,0.9746474143720618,0.9748153122901276,0.9748153122901276,0.9748153122901276,0.9749832102081935,0.9749832102081935,0.9753190060443251,0.9753190060443251,0.9753190060443251,0.9753190060443251,0.9753190060443251,0.9753190060443251,0.9754869039623909,0.9754869039623909,0.9754869039623909,0.9754869039623909,0.9754869039623909,0.9754869039623909,0.9754869039623909,0.9754869039623909,0.9756548018804567,0.9756548018804567,0.9758226997985225,0.9758226997985225,0.9759905977165884,0.9759905977165884,0.9759905977165884,0.9759905977165884,0.9761584956346542,0.9761584956346542,0.9764942914707858,0.9764942914707858,0.9766621893888516,0.9766621893888516,0.9766621893888516,0.9766621893888516,0.9766621893888516,0.9768300873069174,0.9768300873069174,0.9768300873069174,0.9768300873069174,0.977165883143049,0.977165883143049,0.977165883143049,0.977165883143049,0.977165883143049,0.977165883143049,0.9775016789791806,0.9775016789791806,0.9776695768972464,0.9778374748153122,0.9778374748153122,0.9780053727333781,0.9780053727333781,0.9781732706514439,0.9781732706514439,0.9781732706514439,0.9781732706514439,0.9785090664875755,0.9785090664875755,0.9786769644056413,0.9786769644056413,0.9788448623237072,0.9788448623237072,0.9788448623237072,0.9788448623237072,0.9788448623237072,0.9788448623237072,0.9788448623237072,0.979012760241773,0.979012760241773,0.979012760241773,0.979012760241773,0.979012760241773,0.9791806581598388,0.9791806581598388,0.9795164539959704,0.9795164539959704,0.9796843519140362,0.9796843519140362,0.9796843519140362,0.9796843519140362,0.9796843519140362,0.9796843519140362,0.9798522498321021,0.9798522498321021,0.9798522498321021,0.9800201477501679,0.9800201477501679,0.9803559435862995,0.9803559435862995,0.9803559435862995,0.9803559435862995,0.9803559435862995,0.9803559435862995,0.9803559435862995,0.9803559435862995,0.9803559435862995,0.9803559435862995,0.9805238415043653,0.9805238415043653,0.9806917394224312,0.9806917394224312,0.9806917394224312,0.9806917394224312,0.9806917394224312,0.9806917394224312,0.9806917394224312,0.9806917394224312,0.9806917394224312,0.980859637340497,0.980859637340497,0.980859637340497,0.9811954331766286,0.9811954331766286,0.9815312290127602,0.9815312290127602,0.9816991269308261,0.9816991269308261,0.9816991269308261,0.9816991269308261,0.9816991269308261,0.9816991269308261,0.9816991269308261,0.9818670248488919,0.9818670248488919,0.9818670248488919,0.9818670248488919,0.9818670248488919,0.9818670248488919,0.9818670248488919,0.9818670248488919,0.9818670248488919,0.9820349227669577,0.9820349227669577,0.9820349227669577,0.9822028206850235,0.9823707186030893,0.9823707186030893,0.9823707186030893,0.9823707186030893,0.9823707186030893,0.9823707186030893,0.9823707186030893,0.9823707186030893,0.9825386165211552,0.9825386165211552,0.9828744123572868,0.9828744123572868,0.9828744123572868,0.9828744123572868,0.9828744123572868,0.9830423102753526,0.9830423102753526,0.9830423102753526,0.9830423102753526,0.9830423102753526,0.9832102081934184,0.9832102081934184,0.9833781061114842,0.9833781061114842,0.9833781061114842,0.9833781061114842,0.9835460040295501,0.9835460040295501,0.9835460040295501,0.9837139019476159,0.9837139019476159,0.9840496977837475,0.9840496977837475,0.9842175957018133,0.9843854936198791,0.9843854936198791,0.9843854936198791,0.9843854936198791,0.984553391537945,0.984553391537945,0.984553391537945,0.984553391537945,0.984553391537945,0.9847212894560108,0.9847212894560108,0.9847212894560108,0.9847212894560108,0.9847212894560108,0.9847212894560108,0.9847212894560108,0.9847212894560108,0.9848891873740766,0.9848891873740766,0.9850570852921424,0.9850570852921424,0.9850570852921424,0.9850570852921424,0.9850570852921424,0.9850570852921424,0.9853928811282741,0.9853928811282741,0.9855607790463399,0.9855607790463399,0.9855607790463399,0.9855607790463399,0.9857286769644057,0.9857286769644057,0.9857286769644057,0.9857286769644057,0.9857286769644057,0.9858965748824715,0.9858965748824715,0.9858965748824715,0.9860644728005373,0.9860644728005373,0.9860644728005373,0.986232370718603,0.986232370718603,0.986232370718603,0.986232370718603,0.986232370718603,0.9864002686366689,0.9864002686366689,0.9865681665547347,0.9865681665547347,0.9865681665547347,0.9865681665547347,0.9865681665547347,0.9865681665547347,0.9865681665547347,0.9867360644728005,0.9867360644728005,0.9867360644728005,0.9867360644728005,0.9867360644728005,0.9869039623908663,0.9869039623908663,0.9869039623908663,0.9870718603089321,0.9870718603089321,0.9872397582269979,0.9872397582269979,0.9872397582269979,0.9872397582269979,0.9872397582269979,0.9874076561450638,0.9874076561450638,0.9874076561450638,0.9874076561450638,0.9874076561450638,0.9874076561450638,0.9874076561450638,0.9875755540631296,0.9875755540631296,0.9875755540631296,0.9875755540631296,0.9875755540631296,0.9877434519811954,0.9877434519811954,0.9877434519811954,0.9877434519811954,0.9877434519811954,0.9877434519811954,0.9879113498992612,0.9879113498992612,0.9879113498992612,0.9884150436534587,0.9885829415715245,0.9885829415715245,0.9885829415715245,0.9887508394895903,0.9887508394895903,0.9887508394895903,0.9887508394895903,0.9887508394895903,0.9889187374076561,0.9889187374076561,0.9889187374076561,0.9889187374076561,0.9890866353257219,0.9890866353257219,0.9890866353257219,0.9890866353257219,0.9892545332437878,0.9892545332437878,0.9892545332437878,0.9892545332437878,0.9892545332437878,0.9895903290799194,0.9895903290799194,0.9895903290799194,0.9895903290799194,0.9895903290799194,0.9895903290799194,0.9895903290799194,0.9895903290799194,0.9895903290799194,0.9895903290799194,0.9895903290799194,0.9895903290799194,0.9895903290799194,0.9895903290799194,0.9895903290799194,0.9897582269979852,0.9897582269979852,0.9897582269979852,0.9897582269979852,0.9897582269979852,0.9897582269979852,0.9897582269979852,0.9897582269979852,0.9897582269979852,0.9897582269979852,0.989926124916051,0.989926124916051,0.989926124916051,0.9900940228341168,0.9900940228341168,0.9900940228341168,0.9900940228341168,0.9900940228341168,0.9900940228341168,0.9900940228341168,0.9900940228341168,0.9904298186702485,0.9904298186702485,0.9905977165883143,0.9905977165883143,0.9907656145063801,0.9907656145063801,0.9907656145063801,0.9907656145063801,0.9907656145063801,0.9912693082605776,0.9912693082605776,0.9912693082605776,0.9912693082605776,0.9912693082605776,0.9912693082605776,0.9914372061786434,0.9914372061786434,0.9914372061786434,0.9916051040967092,0.9916051040967092,0.9916051040967092,0.9916051040967092,0.991773002014775,0.991773002014775,0.991773002014775,0.991773002014775,0.991773002014775,0.991773002014775,0.991773002014775,0.991773002014775,0.991773002014775,0.991773002014775,0.991773002014775,0.991773002014775,0.991773002014775,0.991773002014775,0.991773002014775,0.991773002014775,0.991773002014775,0.991773002014775,0.9919408999328408,0.9919408999328408,0.9919408999328408,0.9921087978509067,0.9921087978509067,0.9921087978509067,0.9921087978509067,0.9921087978509067,0.9921087978509067,0.9921087978509067,0.9921087978509067,0.9922766957689725,0.9922766957689725,0.9922766957689725,0.9922766957689725,0.9926124916051041,0.9926124916051041,0.9927803895231699,0.9927803895231699,0.9927803895231699,0.9927803895231699,0.9929482874412358,0.9929482874412358,0.9929482874412358,0.9929482874412358,0.9929482874412358,0.9929482874412358,0.9931161853593016,0.9931161853593016,0.9931161853593016,0.9931161853593016,0.9931161853593016,0.9931161853593016,0.9931161853593016,0.9931161853593016,0.9931161853593016,0.9931161853593016,0.9932840832773674,0.9932840832773674,0.9932840832773674,0.9932840832773674,0.9932840832773674,0.9934519811954332,0.9934519811954332,0.9934519811954332,0.9934519811954332,0.9934519811954332,0.9934519811954332,0.9934519811954332,0.9934519811954332,0.9934519811954332,0.9934519811954332,0.9934519811954332,0.9934519811954332,0.9934519811954332,0.9934519811954332,0.9934519811954332,0.9934519811954332,0.9934519811954332,0.9934519811954332,0.9934519811954332,0.993619879113499,0.993619879113499,0.993619879113499,0.9937877770315648,0.9937877770315648,0.9937877770315648,0.9937877770315648,0.9937877770315648,0.9937877770315648,0.9941235728676965,0.9941235728676965,0.9941235728676965,0.9941235728676965,0.9941235728676965,0.9941235728676965,0.9941235728676965,0.9942914707857623,0.9942914707857623,0.9942914707857623,0.9942914707857623,0.9944593687038281,0.9944593687038281,0.9944593687038281,0.9944593687038281,0.9944593687038281,0.9944593687038281,0.9946272666218939,0.9946272666218939,0.9946272666218939,0.9946272666218939,0.9946272666218939,0.9949630624580256,0.9949630624580256,0.9951309603760914,0.9951309603760914,0.9951309603760914,0.9951309603760914,0.9951309603760914,0.9951309603760914,0.9951309603760914,0.9951309603760914,0.9951309603760914,0.9952988582941572,0.9952988582941572,0.9952988582941572,0.9954667562122229,0.9954667562122229,0.9954667562122229,0.9954667562122229,0.9954667562122229,0.9954667562122229,0.9954667562122229,0.9954667562122229,0.9954667562122229,0.9954667562122229,0.9954667562122229,0.9954667562122229,0.9954667562122229,0.9954667562122229,0.9954667562122229,0.9954667562122229,0.9954667562122229,0.9956346541302887,0.9956346541302887,0.9958025520483546,0.9958025520483546,0.9959704499664204,0.9959704499664204,0.9959704499664204,0.9959704499664204,0.9959704499664204,0.9959704499664204,0.9959704499664204,0.9959704499664204,0.9959704499664204,0.9959704499664204,0.9959704499664204,0.9959704499664204,0.9959704499664204,0.9959704499664204,0.9959704499664204,0.9959704499664204,0.9961383478844862,0.9961383478844862,0.9961383478844862,0.9961383478844862,0.996306245802552,0.996306245802552,0.996306245802552,0.996306245802552,0.996306245802552,0.996306245802552,0.996306245802552,0.996306245802552,0.996306245802552,0.996306245802552,0.996306245802552,0.996306245802552,0.996306245802552,0.996306245802552,0.996306245802552,0.996306245802552,0.9964741437206178,0.9964741437206178,0.9964741437206178,0.9964741437206178,0.9964741437206178,0.9964741437206178,0.9964741437206178,0.9966420416386836,0.9966420416386836,0.9966420416386836,0.9966420416386836,0.9966420416386836,0.9966420416386836,0.9966420416386836,0.9966420416386836,0.9966420416386836,0.9968099395567495,0.9968099395567495,0.9968099395567495,0.9968099395567495,0.9968099395567495,0.9968099395567495,0.9968099395567495,0.9968099395567495,0.9968099395567495,0.9968099395567495,0.9968099395567495,0.9968099395567495,0.9968099395567495,0.9968099395567495,0.9968099395567495,0.9968099395567495,0.9968099395567495,0.9968099395567495,0.9968099395567495,0.9968099395567495,0.9968099395567495,0.9968099395567495,0.9968099395567495,0.9968099395567495,0.9968099395567495,0.9968099395567495,0.9968099395567495,0.9968099395567495,0.9968099395567495,0.9968099395567495,0.9968099395567495,0.9968099395567495,0.9968099395567495,0.9968099395567495,0.9968099395567495,0.9968099395567495,0.9968099395567495,0.9968099395567495,0.9968099395567495,0.9968099395567495,0.9968099395567495,0.9968099395567495,0.9968099395567495,0.9968099395567495,0.9968099395567495,0.9968099395567495,0.9968099395567495,0.9968099395567495,0.9968099395567495,0.9968099395567495,0.9968099395567495,0.9968099395567495,0.9968099395567495,0.9968099395567495,0.9968099395567495,0.9968099395567495,0.9968099395567495,0.9968099395567495,0.9968099395567495,0.9968099395567495,0.9968099395567495,0.9968099395567495,0.9968099395567495,0.9968099395567495,0.9968099395567495,0.9968099395567495,0.9968099395567495,0.9968099395567495,0.9969778374748153,0.9969778374748153,0.9971457353928811,0.9971457353928811,0.9971457353928811,0.9971457353928811,0.9971457353928811,0.9971457353928811,0.9971457353928811,0.9971457353928811,0.9971457353928811,0.9971457353928811,0.9971457353928811,0.9971457353928811,0.9971457353928811,0.9971457353928811,0.9971457353928811,0.9971457353928811,0.9971457353928811,0.9971457353928811,0.9971457353928811,0.9971457353928811,0.9971457353928811,0.9971457353928811,0.9971457353928811,0.9971457353928811,0.9971457353928811,0.9971457353928811,0.9971457353928811,0.9971457353928811,0.9971457353928811,0.9971457353928811,0.9971457353928811,0.9971457353928811,0.9971457353928811,0.9971457353928811,0.9971457353928811,0.9971457353928811,0.9973136333109469,0.9973136333109469,0.9973136333109469,0.9973136333109469,0.9973136333109469,0.9973136333109469,0.9973136333109469,0.9973136333109469,0.9973136333109469,0.9973136333109469,0.9973136333109469,0.9973136333109469,0.9973136333109469,0.9974815312290127,0.9974815312290127,0.9974815312290127,0.9974815312290127,0.9974815312290127,0.9974815312290127,0.9974815312290127,0.9974815312290127,0.9976494291470785,0.9976494291470785,0.9976494291470785,0.9976494291470785,0.9976494291470785,0.9976494291470785,0.9976494291470785,0.9976494291470785,0.9976494291470785,0.9978173270651444,0.9978173270651444,0.9978173270651444,0.9978173270651444,0.9978173270651444,0.9978173270651444,0.9978173270651444,0.9978173270651444,0.9978173270651444,0.9978173270651444,0.9978173270651444,0.9978173270651444,0.9978173270651444,0.9978173270651444,0.9978173270651444,0.9978173270651444,0.9978173270651444,0.9978173270651444,0.9978173270651444,0.9978173270651444,0.9978173270651444,0.9978173270651444,0.9978173270651444,0.9978173270651444,0.9978173270651444,0.9978173270651444,0.9978173270651444,0.9978173270651444,0.9978173270651444,0.9978173270651444,0.9978173270651444,0.9978173270651444,0.9978173270651444,0.9978173270651444,0.9978173270651444,0.9978173270651444,0.9978173270651444,0.9978173270651444,0.9978173270651444,0.9978173270651444,0.9978173270651444,0.9978173270651444,0.9978173270651444,0.9978173270651444,0.9978173270651444,0.9978173270651444,0.9978173270651444,0.9978173270651444,0.9978173270651444,0.9978173270651444,0.9978173270651444,0.9978173270651444,0.9978173270651444,0.9978173270651444,0.9978173270651444,0.9978173270651444,0.9978173270651444,0.9978173270651444,0.9978173270651444,0.9978173270651444,0.9978173270651444,0.9978173270651444,0.9978173270651444,0.9978173270651444,0.9978173270651444,0.9978173270651444,0.9978173270651444,0.9978173270651444,0.9978173270651444,0.9979852249832102,0.9979852249832102,0.9979852249832102,0.9979852249832102,0.9979852249832102,0.9979852249832102,0.9979852249832102,0.9979852249832102,0.9979852249832102,0.9979852249832102,0.9979852249832102,0.9979852249832102,0.9979852249832102,0.9979852249832102,0.9979852249832102,0.9979852249832102,0.9979852249832102,0.9979852249832102,0.9979852249832102,0.9979852249832102,0.9979852249832102,0.9979852249832102,0.9979852249832102,0.9979852249832102,0.9979852249832102,0.9979852249832102,0.9979852249832102,0.9979852249832102,0.9979852249832102,0.9979852249832102,0.9979852249832102,0.9979852249832102,0.9979852249832102,0.9979852249832102,0.9979852249832102,0.9979852249832102,0.9979852249832102,0.9979852249832102,0.9979852249832102,0.9979852249832102,0.9979852249832102,0.9979852249832102,0.9979852249832102,0.9979852249832102,0.9979852249832102,0.998153122901276,0.998153122901276,0.998153122901276,0.998153122901276,0.998153122901276,0.998153122901276,0.998153122901276,0.998153122901276,0.998153122901276,0.998153122901276,0.998153122901276,0.998153122901276,0.998153122901276,0.998153122901276,0.9983210208193418,0.9983210208193418,0.9983210208193418,0.9983210208193418,0.9983210208193418,0.9983210208193418,0.9983210208193418,0.9983210208193418,0.9983210208193418,0.9983210208193418,0.9983210208193418,0.9983210208193418,0.9983210208193418,0.9983210208193418,0.9983210208193418,0.9983210208193418,0.9983210208193418,0.9983210208193418,0.9984889187374076,0.9984889187374076,0.9986568166554735,0.9986568166554735,0.9986568166554735,0.9986568166554735,0.9986568166554735,0.9986568166554735,0.9986568166554735,0.9986568166554735,0.9986568166554735,0.9986568166554735,0.9986568166554735,0.9986568166554735,0.9986568166554735,0.9986568166554735,0.9986568166554735,0.9986568166554735,0.9986568166554735,0.9986568166554735,0.9986568166554735,0.9986568166554735,0.9986568166554735,0.9986568166554735,0.9986568166554735,0.9986568166554735,0.9986568166554735,0.9986568166554735,0.9986568166554735,0.9986568166554735,0.9986568166554735,0.9986568166554735,0.9986568166554735,0.9988247145735393,0.9988247145735393,0.9988247145735393,0.9988247145735393,0.9988247145735393,0.9988247145735393,0.9988247145735393,0.9988247145735393,0.9988247145735393,0.9988247145735393,0.9988247145735393,0.9988247145735393,0.9988247145735393,0.9988247145735393,0.9988247145735393,0.9988247145735393,0.9988247145735393,0.9988247145735393,0.9988247145735393,0.9988247145735393,0.9988247145735393,0.9988247145735393,0.9988247145735393,0.9988247145735393,0.9988247145735393,0.9988247145735393,0.9988247145735393,0.9988247145735393,0.9988247145735393,0.9988247145735393,0.9988247145735393,0.9988247145735393,0.9988247145735393,0.9988247145735393,0.9988247145735393,0.9988247145735393,0.9988247145735393,0.9988247145735393,0.9988247145735393,0.9988247145735393,0.9988247145735393,0.9988247145735393,0.9988247145735393,0.9988247145735393,0.9988247145735393,0.9988247145735393,0.9988247145735393,0.9988247145735393,0.9988247145735393,0.9988247145735393,0.9988247145735393,0.9988247145735393,0.9988247145735393,0.9988247145735393,0.9988247145735393,0.9988247145735393,0.9988247145735393,0.9988247145735393,0.9988247145735393,0.9988247145735393,0.9988247145735393,0.9988247145735393,0.9988247145735393,0.9988247145735393,0.9988247145735393,0.9988247145735393,0.9988247145735393,0.9988247145735393,0.9988247145735393,0.9988247145735393,0.9988247145735393,0.9988247145735393,0.9988247145735393,0.9988247145735393,0.9988247145735393,0.9988247145735393,0.9988247145735393,0.9988247145735393,0.9988247145735393,0.9988247145735393,0.9988247145735393,0.9988247145735393,0.9988247145735393,0.9988247145735393,0.9988247145735393,0.9988247145735393,0.9988247145735393,0.9988247145735393,0.9988247145735393,0.9988247145735393,0.9988247145735393,0.9988247145735393,0.9988247145735393,0.9988247145735393,0.9988247145735393,0.9988247145735393,0.9988247145735393,0.9988247145735393,0.9988247145735393,0.9988247145735393,0.9988247145735393,0.9988247145735393,0.9988247145735393,0.9988247145735393,0.9988247145735393,0.9988247145735393,0.9988247145735393,0.9988247145735393,0.9988247145735393,0.9988247145735393,0.9988247145735393,0.9988247145735393,0.9988247145735393,0.9988247145735393,0.9988247145735393,0.9988247145735393,0.9988247145735393,0.9988247145735393,0.9988247145735393,0.9988247145735393,0.9988247145735393,0.9988247145735393,0.9988247145735393,0.9988247145735393,0.9988247145735393,0.9988247145735393,0.9988247145735393,0.9988247145735393,0.9988247145735393,0.9988247145735393,0.9988247145735393,0.9988247145735393,0.9988247145735393,0.9988247145735393,0.9988247145735393,0.9988247145735393,0.9988247145735393,0.9988247145735393,0.9988247145735393,0.9988247145735393,0.9988247145735393,0.9988247145735393,0.9988247145735393,0.9988247145735393,0.9988247145735393,0.9988247145735393,0.9988247145735393,0.9988247145735393,0.9988247145735393,0.9988247145735393,0.9988247145735393,0.9988247145735393,0.9988247145735393,0.9988247145735393,0.9988247145735393,0.9988247145735393,0.9988247145735393,0.9988247145735393,0.9988247145735393,0.9988247145735393,0.9988247145735393,0.9988247145735393,0.9988247145735393,0.9988247145735393,0.9988247145735393,0.9989926124916051,0.9989926124916051,0.9989926124916051,0.9989926124916051,0.9989926124916051,0.9989926124916051,0.9989926124916051,0.9989926124916051,0.9989926124916051,0.9991605104096709,0.9991605104096709,0.9991605104096709,0.9991605104096709,0.9991605104096709,0.9991605104096709,0.9991605104096709,0.9991605104096709,0.9991605104096709,0.9991605104096709,0.9991605104096709,0.9991605104096709,0.9991605104096709,0.9991605104096709,0.9991605104096709,0.9991605104096709,0.9991605104096709,0.9991605104096709,0.9991605104096709,0.9993284083277367,0.9993284083277367,0.9993284083277367,0.9993284083277367,0.9993284083277367,0.9993284083277367,0.9993284083277367,0.9993284083277367,0.9993284083277367,0.9993284083277367,0.9993284083277367,0.9993284083277367,0.9993284083277367,0.9993284083277367,0.9993284083277367,0.9993284083277367,0.9993284083277367,0.9993284083277367,0.9993284083277367,0.9993284083277367,0.9993284083277367,0.9993284083277367,0.9993284083277367,0.9993284083277367,0.9993284083277367,0.9993284083277367,0.9993284083277367,0.9993284083277367,0.9993284083277367,0.9993284083277367,0.9993284083277367,0.9993284083277367,0.9993284083277367,0.9993284083277367,0.9993284083277367,0.9993284083277367,0.9993284083277367,0.9993284083277367,0.9993284083277367,0.9993284083277367,0.9993284083277367,0.9993284083277367,0.9993284083277367,0.9993284083277367,0.9993284083277367,0.9993284083277367,0.9993284083277367,0.9993284083277367,0.9993284083277367,0.9993284083277367,0.9993284083277367,0.9993284083277367,0.9993284083277367,0.9993284083277367,0.9993284083277367,0.9993284083277367,0.9993284083277367,0.9993284083277367,0.9993284083277367,0.9993284083277367,0.9993284083277367,0.9993284083277367,0.9993284083277367,0.9993284083277367,0.9993284083277367,0.9993284083277367,0.9993284083277367,0.9993284083277367,0.9993284083277367,0.9993284083277367,0.9993284083277367,0.9993284083277367,0.9993284083277367,0.9993284083277367,0.9993284083277367,0.9993284083277367,0.9993284083277367,0.9993284083277367,0.9993284083277367,0.9993284083277367,0.9993284083277367,0.9993284083277367,0.9993284083277367,0.9993284083277367,0.9993284083277367,0.9993284083277367,0.9993284083277367,0.9993284083277367,0.9993284083277367,0.9993284083277367,0.9994963062458025,0.9994963062458025,0.9994963062458025,0.9994963062458025,0.9994963062458025,0.9994963062458025,0.9994963062458025,0.9994963062458025,0.9994963062458025,0.9994963062458025,0.9994963062458025,0.9994963062458025,0.9994963062458025,0.9994963062458025,0.9994963062458025,0.9994963062458025,0.9994963062458025,0.9994963062458025,0.9994963062458025,0.9996642041638684,0.9996642041638684,0.9996642041638684,0.9996642041638684,0.9996642041638684,0.9996642041638684,0.9996642041638684,0.9996642041638684,0.9996642041638684,0.9996642041638684,0.9996642041638684,0.9996642041638684,0.9996642041638684,0.9996642041638684,0.9996642041638684,0.9996642041638684,0.9996642041638684,0.9996642041638684,0.9996642041638684,0.9996642041638684,0.9996642041638684,0.9996642041638684,0.9996642041638684,0.9996642041638684,0.9996642041638684,0.9996642041638684,0.9996642041638684,0.9996642041638684,0.9996642041638684,0.9996642041638684,0.9996642041638684,0.9996642041638684,0.9996642041638684,0.9996642041638684,0.9996642041638684,0.9996642041638684,0.9996642041638684,0.9996642041638684,0.9996642041638684,0.9996642041638684,0.9996642041638684,0.9996642041638684,0.9996642041638684,0.9996642041638684,0.9996642041638684,0.9996642041638684,0.9996642041638684,0.9996642041638684,0.9996642041638684,0.9996642041638684,0.9996642041638684,0.9996642041638684,0.9996642041638684,0.9996642041638684,0.9996642041638684,0.9996642041638684,0.9996642041638684,0.9996642041638684,0.9996642041638684,0.9996642041638684,0.9996642041638684,0.9996642041638684,0.9996642041638684,0.9996642041638684,0.9996642041638684,0.9996642041638684,0.9996642041638684,0.9996642041638684,0.9996642041638684,0.9996642041638684,0.9996642041638684,0.9996642041638684,0.9996642041638684,0.9996642041638684,0.9996642041638684,0.9996642041638684,0.9996642041638684,0.9996642041638684,0.9996642041638684,0.9998321020819342,0.9998321020819342,0.9998321020819342,0.9998321020819342,0.9998321020819342,0.9998321020819342,0.9998321020819342,0.9998321020819342,0.9998321020819342,0.9998321020819342,0.9998321020819342,0.9998321020819342,0.9998321020819342,0.9998321020819342,0.9998321020819342,0.9998321020819342,0.9998321020819342,0.9998321020819342,0.9998321020819342,0.9998321020819342,0.9998321020819342,0.9998321020819342,0.9998321020819342,0.9998321020819342,0.9998321020819342,0.9998321020819342,0.9998321020819342,0.9998321020819342,0.9998321020819342,0.9998321020819342,0.9998321020819342,0.9998321020819342,0.9998321020819342,0.9998321020819342,0.9998321020819342,0.9998321020819342,0.9998321020819342,0.9998321020819342,0.9998321020819342,0.9998321020819342,0.9998321020819342,0.9998321020819342,0.9998321020819342,0.9998321020819342,0.9998321020819342,0.9998321020819342,0.9998321020819342,0.9998321020819342,0.9998321020819342,0.9998321020819342,0.9998321020819342,0.9998321020819342,0.9998321020819342,0.9998321020819342,0.9998321020819342,0.9998321020819342,0.9998321020819342,0.9998321020819342,1.0,1.0,1.0,1.0,1.0,1.0,1.0,1.0,1.0,1.0,1.0,1.0,1.0,1.0,1.0,1.0,1.0,1.0,1.0,1.0,1.0,1.0,1.0,1.0,1.0,1.0,1.0,1.0,1.0,1.0,1.0,1.0,1.0,1.0,1.0,1.0,1.0,1.0,1.0,1.0,1.0,1.0,1.0,1.0,1.0,1.0,1.0,1.0,1.0,1.0,1.0,1.0,1.0,1.0,1.0,1.0,1.0,1.0,1.0,1.0,1.0,1.0,1.0,1.0,1.0,1.0,1.0,1.0,1.0,1.0,1.0,1.0,1.0,1.0,1.0,1.0,1.0,1.0,1.0,1.0,1.0,1.0,1.0,1.0,1.0,1.0,1.0,1.0,1.0,1.0,1.0,1.0,1.0,1.0,1.0,1.0,1.0,1.0,1.0,1.0,1.0,1.0,1.0,1.0,1.0,1.0,1.0,1.0,1.0,1.0,1.0,1.0,1.0,1.0,1.0,1.0,1.0,1.0,1.0,1.0,1.0,1.0,1.0,1.0,1.0,1.0,1.0,1.0,1.0,1.0,1.0,1.0,1.0,1.0,1.0,1.0,1.0,1.0,1.0,1.0,1.0,1.0,1.0,1.0,1.0,1.0,1.0,1.0,1.0,1.0,1.0,1.0,1.0,1.0,1.0,1.0,1.0,1.0,1.0,1.0,1.0,1.0,1.0,1.0,1.0,1.0,1.0,1.0,1.0,1.0,1.0,1.0,1.0,1.0,1.0,1.0,1.0,1.0,1.0,1.0,1.0,1.0,1.0,1.0,1.0,1.0,1.0,1.0,1.0,1.0,1.0,1.0,1.0,1.0,1.0,1.0,1.0,1.0,1.0],\"type\":\"scatter\"}],                        {\"template\":{\"data\":{\"histogram2dcontour\":[{\"type\":\"histogram2dcontour\",\"colorbar\":{\"outlinewidth\":0,\"ticks\":\"\"},\"colorscale\":[[0.0,\"#0d0887\"],[0.1111111111111111,\"#46039f\"],[0.2222222222222222,\"#7201a8\"],[0.3333333333333333,\"#9c179e\"],[0.4444444444444444,\"#bd3786\"],[0.5555555555555556,\"#d8576b\"],[0.6666666666666666,\"#ed7953\"],[0.7777777777777778,\"#fb9f3a\"],[0.8888888888888888,\"#fdca26\"],[1.0,\"#f0f921\"]]}],\"choropleth\":[{\"type\":\"choropleth\",\"colorbar\":{\"outlinewidth\":0,\"ticks\":\"\"}}],\"histogram2d\":[{\"type\":\"histogram2d\",\"colorbar\":{\"outlinewidth\":0,\"ticks\":\"\"},\"colorscale\":[[0.0,\"#0d0887\"],[0.1111111111111111,\"#46039f\"],[0.2222222222222222,\"#7201a8\"],[0.3333333333333333,\"#9c179e\"],[0.4444444444444444,\"#bd3786\"],[0.5555555555555556,\"#d8576b\"],[0.6666666666666666,\"#ed7953\"],[0.7777777777777778,\"#fb9f3a\"],[0.8888888888888888,\"#fdca26\"],[1.0,\"#f0f921\"]]}],\"heatmap\":[{\"type\":\"heatmap\",\"colorbar\":{\"outlinewidth\":0,\"ticks\":\"\"},\"colorscale\":[[0.0,\"#0d0887\"],[0.1111111111111111,\"#46039f\"],[0.2222222222222222,\"#7201a8\"],[0.3333333333333333,\"#9c179e\"],[0.4444444444444444,\"#bd3786\"],[0.5555555555555556,\"#d8576b\"],[0.6666666666666666,\"#ed7953\"],[0.7777777777777778,\"#fb9f3a\"],[0.8888888888888888,\"#fdca26\"],[1.0,\"#f0f921\"]]}],\"heatmapgl\":[{\"type\":\"heatmapgl\",\"colorbar\":{\"outlinewidth\":0,\"ticks\":\"\"},\"colorscale\":[[0.0,\"#0d0887\"],[0.1111111111111111,\"#46039f\"],[0.2222222222222222,\"#7201a8\"],[0.3333333333333333,\"#9c179e\"],[0.4444444444444444,\"#bd3786\"],[0.5555555555555556,\"#d8576b\"],[0.6666666666666666,\"#ed7953\"],[0.7777777777777778,\"#fb9f3a\"],[0.8888888888888888,\"#fdca26\"],[1.0,\"#f0f921\"]]}],\"contourcarpet\":[{\"type\":\"contourcarpet\",\"colorbar\":{\"outlinewidth\":0,\"ticks\":\"\"}}],\"contour\":[{\"type\":\"contour\",\"colorbar\":{\"outlinewidth\":0,\"ticks\":\"\"},\"colorscale\":[[0.0,\"#0d0887\"],[0.1111111111111111,\"#46039f\"],[0.2222222222222222,\"#7201a8\"],[0.3333333333333333,\"#9c179e\"],[0.4444444444444444,\"#bd3786\"],[0.5555555555555556,\"#d8576b\"],[0.6666666666666666,\"#ed7953\"],[0.7777777777777778,\"#fb9f3a\"],[0.8888888888888888,\"#fdca26\"],[1.0,\"#f0f921\"]]}],\"surface\":[{\"type\":\"surface\",\"colorbar\":{\"outlinewidth\":0,\"ticks\":\"\"},\"colorscale\":[[0.0,\"#0d0887\"],[0.1111111111111111,\"#46039f\"],[0.2222222222222222,\"#7201a8\"],[0.3333333333333333,\"#9c179e\"],[0.4444444444444444,\"#bd3786\"],[0.5555555555555556,\"#d8576b\"],[0.6666666666666666,\"#ed7953\"],[0.7777777777777778,\"#fb9f3a\"],[0.8888888888888888,\"#fdca26\"],[1.0,\"#f0f921\"]]}],\"mesh3d\":[{\"type\":\"mesh3d\",\"colorbar\":{\"outlinewidth\":0,\"ticks\":\"\"}}],\"scatter\":[{\"fillpattern\":{\"fillmode\":\"overlay\",\"size\":10,\"solidity\":0.2},\"type\":\"scatter\"}],\"parcoords\":[{\"type\":\"parcoords\",\"line\":{\"colorbar\":{\"outlinewidth\":0,\"ticks\":\"\"}}}],\"scatterpolargl\":[{\"type\":\"scatterpolargl\",\"marker\":{\"colorbar\":{\"outlinewidth\":0,\"ticks\":\"\"}}}],\"bar\":[{\"error_x\":{\"color\":\"#2a3f5f\"},\"error_y\":{\"color\":\"#2a3f5f\"},\"marker\":{\"line\":{\"color\":\"#E5ECF6\",\"width\":0.5},\"pattern\":{\"fillmode\":\"overlay\",\"size\":10,\"solidity\":0.2}},\"type\":\"bar\"}],\"scattergeo\":[{\"type\":\"scattergeo\",\"marker\":{\"colorbar\":{\"outlinewidth\":0,\"ticks\":\"\"}}}],\"scatterpolar\":[{\"type\":\"scatterpolar\",\"marker\":{\"colorbar\":{\"outlinewidth\":0,\"ticks\":\"\"}}}],\"histogram\":[{\"marker\":{\"pattern\":{\"fillmode\":\"overlay\",\"size\":10,\"solidity\":0.2}},\"type\":\"histogram\"}],\"scattergl\":[{\"type\":\"scattergl\",\"marker\":{\"colorbar\":{\"outlinewidth\":0,\"ticks\":\"\"}}}],\"scatter3d\":[{\"type\":\"scatter3d\",\"line\":{\"colorbar\":{\"outlinewidth\":0,\"ticks\":\"\"}},\"marker\":{\"colorbar\":{\"outlinewidth\":0,\"ticks\":\"\"}}}],\"scattermapbox\":[{\"type\":\"scattermapbox\",\"marker\":{\"colorbar\":{\"outlinewidth\":0,\"ticks\":\"\"}}}],\"scatterternary\":[{\"type\":\"scatterternary\",\"marker\":{\"colorbar\":{\"outlinewidth\":0,\"ticks\":\"\"}}}],\"scattercarpet\":[{\"type\":\"scattercarpet\",\"marker\":{\"colorbar\":{\"outlinewidth\":0,\"ticks\":\"\"}}}],\"carpet\":[{\"aaxis\":{\"endlinecolor\":\"#2a3f5f\",\"gridcolor\":\"white\",\"linecolor\":\"white\",\"minorgridcolor\":\"white\",\"startlinecolor\":\"#2a3f5f\"},\"baxis\":{\"endlinecolor\":\"#2a3f5f\",\"gridcolor\":\"white\",\"linecolor\":\"white\",\"minorgridcolor\":\"white\",\"startlinecolor\":\"#2a3f5f\"},\"type\":\"carpet\"}],\"table\":[{\"cells\":{\"fill\":{\"color\":\"#EBF0F8\"},\"line\":{\"color\":\"white\"}},\"header\":{\"fill\":{\"color\":\"#C8D4E3\"},\"line\":{\"color\":\"white\"}},\"type\":\"table\"}],\"barpolar\":[{\"marker\":{\"line\":{\"color\":\"#E5ECF6\",\"width\":0.5},\"pattern\":{\"fillmode\":\"overlay\",\"size\":10,\"solidity\":0.2}},\"type\":\"barpolar\"}],\"pie\":[{\"automargin\":true,\"type\":\"pie\"}]},\"layout\":{\"autotypenumbers\":\"strict\",\"colorway\":[\"#636efa\",\"#EF553B\",\"#00cc96\",\"#ab63fa\",\"#FFA15A\",\"#19d3f3\",\"#FF6692\",\"#B6E880\",\"#FF97FF\",\"#FECB52\"],\"font\":{\"color\":\"#2a3f5f\"},\"hovermode\":\"closest\",\"hoverlabel\":{\"align\":\"left\"},\"paper_bgcolor\":\"white\",\"plot_bgcolor\":\"#E5ECF6\",\"polar\":{\"bgcolor\":\"#E5ECF6\",\"angularaxis\":{\"gridcolor\":\"white\",\"linecolor\":\"white\",\"ticks\":\"\"},\"radialaxis\":{\"gridcolor\":\"white\",\"linecolor\":\"white\",\"ticks\":\"\"}},\"ternary\":{\"bgcolor\":\"#E5ECF6\",\"aaxis\":{\"gridcolor\":\"white\",\"linecolor\":\"white\",\"ticks\":\"\"},\"baxis\":{\"gridcolor\":\"white\",\"linecolor\":\"white\",\"ticks\":\"\"},\"caxis\":{\"gridcolor\":\"white\",\"linecolor\":\"white\",\"ticks\":\"\"}},\"coloraxis\":{\"colorbar\":{\"outlinewidth\":0,\"ticks\":\"\"}},\"colorscale\":{\"sequential\":[[0.0,\"#0d0887\"],[0.1111111111111111,\"#46039f\"],[0.2222222222222222,\"#7201a8\"],[0.3333333333333333,\"#9c179e\"],[0.4444444444444444,\"#bd3786\"],[0.5555555555555556,\"#d8576b\"],[0.6666666666666666,\"#ed7953\"],[0.7777777777777778,\"#fb9f3a\"],[0.8888888888888888,\"#fdca26\"],[1.0,\"#f0f921\"]],\"sequentialminus\":[[0.0,\"#0d0887\"],[0.1111111111111111,\"#46039f\"],[0.2222222222222222,\"#7201a8\"],[0.3333333333333333,\"#9c179e\"],[0.4444444444444444,\"#bd3786\"],[0.5555555555555556,\"#d8576b\"],[0.6666666666666666,\"#ed7953\"],[0.7777777777777778,\"#fb9f3a\"],[0.8888888888888888,\"#fdca26\"],[1.0,\"#f0f921\"]],\"diverging\":[[0,\"#8e0152\"],[0.1,\"#c51b7d\"],[0.2,\"#de77ae\"],[0.3,\"#f1b6da\"],[0.4,\"#fde0ef\"],[0.5,\"#f7f7f7\"],[0.6,\"#e6f5d0\"],[0.7,\"#b8e186\"],[0.8,\"#7fbc41\"],[0.9,\"#4d9221\"],[1,\"#276419\"]]},\"xaxis\":{\"gridcolor\":\"white\",\"linecolor\":\"white\",\"ticks\":\"\",\"title\":{\"standoff\":15},\"zerolinecolor\":\"white\",\"automargin\":true,\"zerolinewidth\":2},\"yaxis\":{\"gridcolor\":\"white\",\"linecolor\":\"white\",\"ticks\":\"\",\"title\":{\"standoff\":15},\"zerolinecolor\":\"white\",\"automargin\":true,\"zerolinewidth\":2},\"scene\":{\"xaxis\":{\"backgroundcolor\":\"#E5ECF6\",\"gridcolor\":\"white\",\"linecolor\":\"white\",\"showbackground\":true,\"ticks\":\"\",\"zerolinecolor\":\"white\",\"gridwidth\":2},\"yaxis\":{\"backgroundcolor\":\"#E5ECF6\",\"gridcolor\":\"white\",\"linecolor\":\"white\",\"showbackground\":true,\"ticks\":\"\",\"zerolinecolor\":\"white\",\"gridwidth\":2},\"zaxis\":{\"backgroundcolor\":\"#E5ECF6\",\"gridcolor\":\"white\",\"linecolor\":\"white\",\"showbackground\":true,\"ticks\":\"\",\"zerolinecolor\":\"white\",\"gridwidth\":2}},\"shapedefaults\":{\"line\":{\"color\":\"#2a3f5f\"}},\"annotationdefaults\":{\"arrowcolor\":\"#2a3f5f\",\"arrowhead\":0,\"arrowwidth\":1},\"geo\":{\"bgcolor\":\"white\",\"landcolor\":\"#E5ECF6\",\"subunitcolor\":\"white\",\"showland\":true,\"showlakes\":true,\"lakecolor\":\"white\"},\"title\":{\"x\":0.05},\"mapbox\":{\"style\":\"light\"}}},\"shapes\":[{\"line\":{\"dash\":\"dash\",\"width\":5},\"type\":\"line\",\"x0\":0,\"x1\":1,\"y0\":0,\"y1\":1}],\"yaxis\":{\"title\":{\"text\":\"True Positive Rate\"},\"scaleanchor\":\"x\",\"scaleratio\":1,\"tickfont\":{\"family\":\"Arial Black\"},\"showline\":true,\"linewidth\":2,\"linecolor\":\"black\"},\"xaxis\":{\"title\":{\"text\":\"False Positive Rate\"},\"constrain\":\"domain\",\"tickfont\":{\"family\":\"Arial Black\"},\"showline\":true,\"linewidth\":2,\"linecolor\":\"black\"},\"font\":{\"family\":\"Arial Black, monospace\",\"size\":15,\"color\":\"black\"},\"legend\":{\"title\":{\"font\":{\"family\":\"Arial Black\"}},\"font\":{\"family\":\"Arial Black, monospace\",\"size\":15,\"color\":\"black\"},\"x\":0.62,\"y\":0.05,\"traceorder\":\"reversed\",\"bgcolor\":\"LightSteelBlue\",\"bordercolor\":\"White\",\"borderwidth\":1},\"width\":1000,\"height\":1000},                        {\"responsive\": true}                    ).then(function(){\n",
              "                            \n",
              "var gd = document.getElementById('2b1ea950-112a-4e82-8555-0f35390dba36');\n",
              "var x = new MutationObserver(function (mutations, observer) {{\n",
              "        var display = window.getComputedStyle(gd).display;\n",
              "        if (!display || display === 'none') {{\n",
              "            console.log([gd, 'removed!']);\n",
              "            Plotly.purge(gd);\n",
              "            observer.disconnect();\n",
              "        }}\n",
              "}});\n",
              "\n",
              "// Listen for the removal of the full notebook cells\n",
              "var notebookContainer = gd.closest('#notebook-container');\n",
              "if (notebookContainer) {{\n",
              "    x.observe(notebookContainer, {childList: true});\n",
              "}}\n",
              "\n",
              "// Listen for the clearing of the current output cell\n",
              "var outputEl = gd.closest('.output');\n",
              "if (outputEl) {{\n",
              "    x.observe(outputEl, {childList: true});\n",
              "}}\n",
              "\n",
              "                        })                };                            </script>        </div>\n",
              "</body>\n",
              "</html>"
            ]
          },
          "metadata": {}
        }
      ]
    },
    {
      "cell_type": "code",
      "source": [
        "cm = confusion_matrix(y_test,y_pred)\n",
        "plt.figure(figsize = (8,4))\n",
        "sn.heatmap(cm, annot=True, fmt='d')\n",
        "plt.xlabel('Predicted',fontsize=14.0, fontweight='bold')\n",
        "plt.ylabel('Truth',fontsize=12.0, fontweight='bold')"
      ],
      "metadata": {
        "colab": {
          "base_uri": "https://localhost:8080/",
          "height": 411
        },
        "id": "TzYb9iWrWIJA",
        "outputId": "326cc33b-48fa-4600-8349-b4180a3fc630"
      },
      "execution_count": 116,
      "outputs": [
        {
          "output_type": "execute_result",
          "data": {
            "text/plain": [
              "Text(70.72222222222221, 0.5, 'Truth')"
            ]
          },
          "metadata": {},
          "execution_count": 116
        },
        {
          "output_type": "display_data",
          "data": {
            "text/plain": [
              "<Figure size 800x400 with 2 Axes>"
            ],
            "image/png": "[encoded data removed]"
          },
          "metadata": {}
        }
      ]
    },
    {
      "cell_type": "markdown",
      "source": [
        "##Graddient Boosting"
      ],
      "metadata": {
        "id": "o6ks6BLHJyhk"
      }
    },
    {
      "cell_type": "markdown",
      "source": [
        "###Deafult Hyperparameters"
      ],
      "metadata": {
        "id": "KZ6Su3ahG86h"
      }
    },
    {
      "cell_type": "code",
      "source": [
        "from sklearn.ensemble import GradientBoostingClassifier\n",
        "\n",
        "gradBoost_default = GradientBoostingClassifier()\n",
        "gradBoost_default.fit(X_train, y_train)\n",
        "y_pred_val = gradBoost_default.predict(X_val)\n",
        "\n",
        "from sklearn.metrics import classification_report, confusion_matrix, accuracy_score\n",
        "print(confusion_matrix(y_val, y_pred_val))\n",
        "print(classification_report(y_val,y_pred_val))\n",
        "print(\"Accurecy: \",accuracy_score(y_val, y_pred_val))"
      ],
      "metadata": {
        "colab": {
          "base_uri": "https://localhost:8080/"
        },
        "id": "WkCjylv7JY64",
        "outputId": "f4d4e546-239e-45e8-baeb-a2709c199525"
      },
      "execution_count": 279,
      "outputs": [
        {
          "output_type": "stream",
          "name": "stdout",
          "text": [
            "[[5796  296]\n",
            " [ 379 5506]]\n",
            "              precision    recall  f1-score   support\n",
            "\n",
            "           0       0.94      0.95      0.94      6092\n",
            "           1       0.95      0.94      0.94      5885\n",
            "\n",
            "    accuracy                           0.94     11977\n",
            "   macro avg       0.94      0.94      0.94     11977\n",
            "weighted avg       0.94      0.94      0.94     11977\n",
            "\n",
            "Accurecy:  0.9436419804625532\n"
          ]
        }
      ]
    },
    {
      "cell_type": "markdown",
      "source": [
        "###Tunning `n_estimators`"
      ],
      "metadata": {
        "id": "JOmkv-5NHDE4"
      }
    },
    {
      "cell_type": "code",
      "source": [
        "from sklearn.ensemble import GradientBoostingClassifier\n",
        "from sklearn.metrics import accuracy_score\n",
        "N=400\n",
        "k_range = range (1,N+1,5)\n",
        "scores={}\n",
        "scores_list = []\n",
        "scores_list_train = []\n",
        "for k in tqdm(k_range):\n",
        "  classifier = GradientBoostingClassifier(n_estimators=k,random_state=0)\n",
        "  classifier.fit(X_train, y_train)\n",
        "  y_pred=classifier.predict(X_val)\n",
        "  val_accu =  accuracy_score(y_val,y_pred)\n",
        "  scores[k] =val_accu\n",
        "  scores_list.append(val_accu)\n",
        "\n",
        "  y_pred=classifier.predict(X_train)\n",
        "  train_accu = accuracy_score(y_train,y_pred)\n",
        "  scores_list_train.append(train_accu)\n",
        "\n",
        "\n",
        "  print(str(k)+\"/\"+str(N)+\" round completed.........................Val Accurecy: \"+str(val_accu),\" >>>Train Accuracy: \"+str(train_accu))\n",
        "\n",
        "\n",
        "\n",
        "%matplotlib inline\n",
        "import matplotlib.pyplot as plt\n",
        "\n",
        "plt.figure(figsize = (25,10))\n",
        "plt.plot(k_range,scores_list)\n",
        "plt.plot(k_range,scores_list_train)\n",
        "plt.xlabel('Value of n_estimators')\n",
        "plt.ylabel ('Testing Accuracy')\n",
        "plt.legend([\"Testing Accuracy\", \"Training Accuracy\"], loc=0, frameon=True)\n",
        "\n",
        "\n",
        "\n",
        "print(\"The best n_estimators:\")\n",
        "best_estimator=list(scores.keys())[scores_list.index(max(scores_list))]\n",
        "print(best_estimator)"
      ],
      "metadata": {
        "colab": {
          "base_uri": "https://localhost:8080/",
          "height": 1000,
          "referenced_widgets": [
            "d250521bfc4749de9f14daca1cc3cc7a",
            "e7e5243017a64214ad3fb398fa44c073",
            "cf4b7c6078d34c148367adf51e035425",
            "f6245c93c8db4e22a5c0e1ecabe06ec5",
            "c6c030d0aa634870bc7d4ff0c6135f7c",
            "0f91d8617bdb4e40a5581626d81b2433",
            "3833adeaeee4444ba76ad5c78f9c7673",
            "539832fe19ac40b7b015530b5c6b03d6",
            "3111cb208d9642d481a3f3455f06d1ab",
            "35a97f73346a416d89227da4ad31c66a",
            "9b502ebc222d486291f73601fe1a40be"
          ]
        },
        "id": "xZwzd_S-FBxw",
        "outputId": "1abff20b-953c-4d8e-e3f8-29f574ee0998"
      },
      "execution_count": 33,
      "outputs": [
        {
          "output_type": "display_data",
          "data": {
            "text/plain": [
              "  0%|          | 0/80 [00:00<?, ?it/s]"
            ],
            "application/vnd.jupyter.widget-view+json": {
              "version_major": 2,
              "version_minor": 0,
              "model_id": "d250521bfc4749de9f14daca1cc3cc7a"
            }
          },
          "metadata": {}
        },
        {
          "output_type": "stream",
          "name": "stdout",
          "text": [
            "1/400 round completed.........................Val Accurecy: 0.7967771562160808  >>>Train Accuracy: 0.8008409375559133\n",
            "6/400 round completed.........................Val Accurecy: 0.841112131585539  >>>Train Accuracy: 0.8470567185543031\n",
            "11/400 round completed.........................Val Accurecy: 0.8559739500709693  >>>Train Accuracy: 0.8639828234031133\n",
            "16/400 round completed.........................Val Accurecy: 0.8898722551557151  >>>Train Accuracy: 0.8988370012524602\n",
            "21/400 round completed.........................Val Accurecy: 0.9001419387158721  >>>Train Accuracy: 0.9082483449633209\n",
            "26/400 round completed.........................Val Accurecy: 0.905151540452534  >>>Train Accuracy: 0.9141170155662909\n",
            "31/400 round completed.........................Val Accurecy: 0.9129999165066377  >>>Train Accuracy: 0.9199141170155662\n",
            "36/400 round completed.........................Val Accurecy: 0.9176755447941889  >>>Train Accuracy: 0.9244050814099123\n",
            "41/400 round completed.........................Val Accurecy: 0.9219337062703515  >>>Train Accuracy: 0.9294149221685454\n",
            "46/400 round completed.........................Val Accurecy: 0.9249394673123487  >>>Train Accuracy: 0.9313830738951512\n",
            "51/400 round completed.........................Val Accurecy: 0.9287801619771228  >>>Train Accuracy: 0.9332438718912149\n",
            "56/400 round completed.........................Val Accurecy: 0.9317024296568422  >>>Train Accuracy: 0.9365897298264448\n",
            "61/400 round completed.........................Val Accurecy: 0.9342907238874509  >>>Train Accuracy: 0.9373233136518161\n",
            "66/400 round completed.........................Val Accurecy: 0.9351256575102279  >>>Train Accuracy: 0.9384505278225085\n",
            "71/400 round completed.........................Val Accurecy: 0.9365450446689488  >>>Train Accuracy: 0.9401860797996063\n",
            "76/400 round completed.........................Val Accurecy: 0.9385488853636136  >>>Train Accuracy: 0.9412417248166041\n",
            "81/400 round completed.........................Val Accurecy: 0.9399682725223345  >>>Train Accuracy: 0.9418500626230095\n",
            "86/400 round completed.........................Val Accurecy: 0.9398847791600567  >>>Train Accuracy: 0.9419753086419753\n",
            "91/400 round completed.........................Val Accurecy: 0.9404692326960007  >>>Train Accuracy: 0.9428162461978887\n",
            "96/400 round completed.........................Val Accurecy: 0.9410536862319445  >>>Train Accuracy: 0.9430667382358203\n",
            "101/400 round completed.........................Val Accurecy: 0.9411371795942223  >>>Train Accuracy: 0.9436213991769548\n",
            "106/400 round completed.........................Val Accurecy: 0.9413876596810553  >>>Train Accuracy: 0.9445160135981392\n",
            "111/400 round completed.........................Val Accurecy: 0.9420556065792769  >>>Train Accuracy: 0.9447843979244945\n",
            "116/400 round completed.........................Val Accurecy: 0.9421390999415546  >>>Train Accuracy: 0.9448380747897656\n",
            "121/400 round completed.........................Val Accurecy: 0.9422225933038324  >>>Train Accuracy: 0.9451780282698157\n",
            "126/400 round completed.........................Val Accurecy: 0.942890540202054  >>>Train Accuracy: 0.9457147969225264\n",
            "131/400 round completed.........................Val Accurecy: 0.9435584871002756  >>>Train Accuracy: 0.9458758275183395\n",
            "136/400 round completed.........................Val Accurecy: 0.9438089671871086  >>>Train Accuracy: 0.9463231347289318\n",
            "141/400 round completed.........................Val Accurecy: 0.9435584871002756  >>>Train Accuracy: 0.9472535337269636\n",
            "146/400 round completed.........................Val Accurecy: 0.9434749937379978  >>>Train Accuracy: 0.9472177491501163\n",
            "151/400 round completed.........................Val Accurecy: 0.9433915003757202  >>>Train Accuracy: 0.9472177491501163\n",
            "156/400 round completed.........................Val Accurecy: 0.9443934207230525  >>>Train Accuracy: 0.9476471640722849\n",
            "161/400 round completed.........................Val Accurecy: 0.9438924605493864  >>>Train Accuracy: 0.9479692252639113\n",
            "166/400 round completed.........................Val Accurecy: 0.9448943808967187  >>>Train Accuracy: 0.9486312399355877\n",
            "171/400 round completed.........................Val Accurecy: 0.9451448609835518  >>>Train Accuracy: 0.9486849168008589\n",
            "176/400 round completed.........................Val Accurecy: 0.9450613676212741  >>>Train Accuracy: 0.9487207013777063\n",
            "181/400 round completed.........................Val Accurecy: 0.9451448609835518  >>>Train Accuracy: 0.9487922705314009\n",
            "186/400 round completed.........................Val Accurecy: 0.9455623277949403  >>>Train Accuracy: 0.9492216854535696\n",
            "191/400 round completed.........................Val Accurecy: 0.9458128078817734  >>>Train Accuracy: 0.949132224011451\n",
            "196/400 round completed.........................Val Accurecy: 0.9458963012440511  >>>Train Accuracy: 0.9493290391841116\n",
            "201/400 round completed.........................Val Accurecy: 0.9460632879686065  >>>Train Accuracy: 0.9495258543567723\n",
            "206/400 round completed.........................Val Accurecy: 0.9465642481422727  >>>Train Accuracy: 0.9498658078368223\n",
            "211/400 round completed.........................Val Accurecy: 0.9466477415045503  >>>Train Accuracy: 0.9503667919126856\n",
            "216/400 round completed.........................Val Accurecy: 0.9463137680554395  >>>Train Accuracy: 0.950116299874754\n",
            "221/400 round completed.........................Val Accurecy: 0.9464807547799949  >>>Train Accuracy: 0.9502415458937198\n",
            "226/400 round completed.........................Val Accurecy: 0.9464807547799949  >>>Train Accuracy: 0.9501520844516014\n",
            "231/400 round completed.........................Val Accurecy: 0.9467312348668281  >>>Train Accuracy: 0.9503310073358383\n",
            "236/400 round completed.........................Val Accurecy: 0.9471487016782166  >>>Train Accuracy: 0.9504920379316515\n",
            "241/400 round completed.........................Val Accurecy: 0.9470652083159389  >>>Train Accuracy: 0.9507783145464305\n",
            "246/400 round completed.........................Val Accurecy: 0.9469817149536612  >>>Train Accuracy: 0.9509572374306674\n",
            "251/400 round completed.........................Val Accurecy: 0.9468147282291058  >>>Train Accuracy: 0.950975129719091\n",
            "256/400 round completed.........................Val Accurecy: 0.9470652083159389  >>>Train Accuracy: 0.9513687600644123\n",
            "261/400 round completed.........................Val Accurecy: 0.9470652083159389  >>>Train Accuracy: 0.9517623904097334\n",
            "266/400 round completed.........................Val Accurecy: 0.947315688402772  >>>Train Accuracy: 0.9519234210055466\n",
            "271/400 round completed.........................Val Accurecy: 0.9471487016782166  >>>Train Accuracy: 0.9517623904097334\n",
            "276/400 round completed.........................Val Accurecy: 0.947315688402772  >>>Train Accuracy: 0.951959205582394\n",
            "281/400 round completed.........................Val Accurecy: 0.9468982215913835  >>>Train Accuracy: 0.9522275899087493\n",
            "286/400 round completed.........................Val Accurecy: 0.9469817149536612  >>>Train Accuracy: 0.9523349436392915\n",
            "291/400 round completed.........................Val Accurecy: 0.947315688402772  >>>Train Accuracy: 0.9525138665235283\n",
            "296/400 round completed.........................Val Accurecy: 0.9474826751273274  >>>Train Accuracy: 0.9525854356772231\n",
            "301/400 round completed.........................Val Accurecy: 0.9477331552141605  >>>Train Accuracy: 0.9527106816961889\n",
            "306/400 round completed.........................Val Accurecy: 0.948150622025549  >>>Train Accuracy: 0.9528538200035784\n",
            "311/400 round completed.........................Val Accurecy: 0.9479836353009936  >>>Train Accuracy: 0.9531043120415101\n",
            "316/400 round completed.........................Val Accurecy: 0.9480671286632713  >>>Train Accuracy: 0.9532295580604759\n",
            "321/400 round completed.........................Val Accurecy: 0.9477331552141605  >>>Train Accuracy: 0.9533726963678655\n",
            "326/400 round completed.........................Val Accurecy: 0.9479001419387159  >>>Train Accuracy: 0.9536589729826445\n",
            "331/400 round completed.........................Val Accurecy: 0.9475661684896051  >>>Train Accuracy: 0.9536410806942208\n",
            "336/400 round completed.........................Val Accurecy: 0.9475661684896051  >>>Train Accuracy: 0.9539810341742709\n",
            "341/400 round completed.........................Val Accurecy: 0.9476496618518828  >>>Train Accuracy: 0.9540704956163893\n",
            "346/400 round completed.........................Val Accurecy: 0.9477331552141605  >>>Train Accuracy: 0.9542673107890499\n",
            "351/400 round completed.........................Val Accurecy: 0.948150622025549  >>>Train Accuracy: 0.9542673107890499\n",
            "356/400 round completed.........................Val Accurecy: 0.9482341153878266  >>>Train Accuracy: 0.9543388799427447\n",
            "361/400 round completed.........................Val Accurecy: 0.9482341153878266  >>>Train Accuracy: 0.9543209876543209\n",
            "366/400 round completed.........................Val Accurecy: 0.9483176087501044  >>>Train Accuracy: 0.9545714796922526\n",
            "371/400 round completed.........................Val Accurecy: 0.9483176087501044  >>>Train Accuracy: 0.9547325102880658\n",
            "376/400 round completed.........................Val Accurecy: 0.9485680888369374  >>>Train Accuracy: 0.9550545714796923\n",
            "381/400 round completed.........................Val Accurecy: 0.9485680888369374  >>>Train Accuracy: 0.9549651100375738\n",
            "386/400 round completed.........................Val Accurecy: 0.9487350755614928  >>>Train Accuracy: 0.9550545714796923\n",
            "391/400 round completed.........................Val Accurecy: 0.9482341153878266  >>>Train Accuracy: 0.9552692789407765\n",
            "396/400 round completed.........................Val Accurecy: 0.9484845954746598  >>>Train Accuracy: 0.9555555555555556\n",
            "The best n_estimators:\n",
            "386\n"
          ]
        },
        {
          "output_type": "display_data",
          "data": {
            "text/plain": [
              "<Figure size 2500x1000 with 1 Axes>"
            ],
            "image/png": "[encoded data removed]"
          },
          "metadata": {}
        }
      ]
    },
    {
      "cell_type": "markdown",
      "source": [
        "###Tunning `max_depth` (done)"
      ],
      "metadata": {
        "id": "mtz45kAhHQXY"
      }
    },
    {
      "cell_type": "code",
      "source": [
        "from sklearn.ensemble import GradientBoostingClassifier\n",
        "from sklearn.metrics import accuracy_score\n",
        "N=50\n",
        "k_range = range (1,N+1,2)\n",
        "scores={}\n",
        "scores_list = []\n",
        "scores_list_train = []\n",
        "for k in tqdm(k_range):\n",
        "  classifier = GradientBoostingClassifier(max_depth=k,random_state=0)\n",
        "  classifier.fit(X_train, y_train)\n",
        "\n",
        "  y_pred=classifier.predict(X_val)\n",
        "  val_accu = accuracy_score(y_val,y_pred)\n",
        "  scores[k] = val_accu\n",
        "  scores_list.append(val_accu)\n",
        "\n",
        "  y_pred=classifier.predict(X_train)\n",
        "  train_accu =  accuracy_score(y_train,y_pred)\n",
        "  scores_list_train.append(train_accu)\n",
        "\n",
        "  print(str(k)+\"/\"+str(N)+\" round completed.........................Val Accuracy: \"+str(val_accu),\" Training Accuracy\"+str(train_accu))\n",
        "\n",
        "\n",
        "\n",
        "%matplotlib inline\n",
        "import matplotlib.pyplot as plt\n",
        "\n",
        "plt.figure(figsize = (25,10))\n",
        "plt.plot(k_range,scores_list)\n",
        "plt.plot(k_range,scores_list_train)\n",
        "plt.xlabel('Value of n_estimators')\n",
        "plt.ylabel ('Testing Accuracy')\n",
        "plt.legend([\"Testing Accuracy\", \"Training Accuracy\"], loc=0, frameon=True)\n",
        "\n",
        "\n",
        "\n",
        "print(\"The best Depth:\")\n",
        "best_depth=list(scores.keys())[scores_list.index(max(scores_list))]\n",
        "print(best_depth)"
      ],
      "metadata": {
        "colab": {
          "base_uri": "https://localhost:8080/",
          "height": 982,
          "referenced_widgets": [
            "bf55ec00fccd4bfbb26a1dda305ba94e",
            "798bb6c92eb84e86bc1637ce7e47df28",
            "7cf0847e59dd4679bb2de2202ed04c98",
            "37395a10b1e0450e94fc54c09ae82129",
            "c43baa6d5a08491f94b22163b720b00e",
            "5098374686f0463396b47260092dffb1",
            "10b8d91635514fbdaa6ef0b6aba6bd48",
            "959b5a664e464c6d964b7e401136f30c",
            "fe956f727caa4284a5a2e28808771f39",
            "cefe6733fa06491abe1901c23f69a6f2",
            "5835c71d97dd45f69b450bfbc32acd4b"
          ]
        },
        "id": "5CBmX1WAFOvr",
        "outputId": "f0c73bd4-b83a-4275-f526-a19e9d2e5b1b"
      },
      "execution_count": 37,
      "outputs": [
        {
          "output_type": "display_data",
          "data": {
            "text/plain": [
              "  0%|          | 0/25 [00:00<?, ?it/s]"
            ],
            "application/vnd.jupyter.widget-view+json": {
              "version_major": 2,
              "version_minor": 0,
              "model_id": "bf55ec00fccd4bfbb26a1dda305ba94e"
            }
          },
          "metadata": {}
        },
        {
          "output_type": "stream",
          "name": "stdout",
          "text": [
            "1/50 round completed.........................Val Accuracy: 0.8947148701678217  Training Accuracy0.9012345679012346\n",
            "3/50 round completed.........................Val Accuracy: 0.9413041663187777  Training Accuracy0.9434424762927178\n",
            "5/50 round completed.........................Val Accuracy: 0.9463137680554395  Training Accuracy0.9553229558060476\n",
            "7/50 round completed.........................Val Accuracy: 0.9467312348668281  Training Accuracy0.9709250313115048\n",
            "9/50 round completed.........................Val Accuracy: 0.9476496618518828  Training Accuracy0.9849525854356772\n",
            "11/50 round completed.........................Val Accuracy: 0.9466477415045503  Training Accuracy0.9967793880837359\n",
            "13/50 round completed.........................Val Accuracy: 0.9463137680554395  Training Accuracy0.9999642154231526\n",
            "15/50 round completed.........................Val Accuracy: 0.9469817149536612  Training Accuracy1.0\n",
            "17/50 round completed.........................Val Accuracy: 0.9452283543458295  Training Accuracy1.0\n",
            "19/50 round completed.........................Val Accuracy: 0.9434749937379978  Training Accuracy1.0\n",
            "21/50 round completed.........................Val Accuracy: 0.9352926442347833  Training Accuracy1.0\n",
            "23/50 round completed.........................Val Accuracy: 0.9271937880938466  Training Accuracy1.0\n",
            "25/50 round completed.........................Val Accuracy: 0.927360774818402  Training Accuracy1.0\n",
            "27/50 round completed.........................Val Accuracy: 0.928446188528012  Training Accuracy1.0\n",
            "29/50 round completed.........................Val Accuracy: 0.9282792018034566  Training Accuracy1.0\n",
            "31/50 round completed.........................Val Accuracy: 0.9281122150789012  Training Accuracy1.0\n",
            "33/50 round completed.........................Val Accuracy: 0.9285296818902897  Training Accuracy1.0\n",
            "35/50 round completed.........................Val Accuracy: 0.9286966686148451  Training Accuracy1.0\n",
            "37/50 round completed.........................Val Accuracy: 0.9287801619771228  Training Accuracy1.0\n",
            "39/50 round completed.........................Val Accuracy: 0.9286966686148451  Training Accuracy1.0\n",
            "41/50 round completed.........................Val Accuracy: 0.928446188528012  Training Accuracy1.0\n",
            "43/50 round completed.........................Val Accuracy: 0.9289471487016783  Training Accuracy1.0\n",
            "45/50 round completed.........................Val Accuracy: 0.9286966686148451  Training Accuracy1.0\n",
            "47/50 round completed.........................Val Accuracy: 0.9286966686148451  Training Accuracy1.0\n",
            "49/50 round completed.........................Val Accuracy: 0.9286131752525674  Training Accuracy1.0\n",
            "The best Depth:\n",
            "9\n"
          ]
        },
        {
          "output_type": "display_data",
          "data": {
            "text/plain": [
              "<Figure size 2500x1000 with 1 Axes>"
            ],
            "image/png": "[encoded data removed]"
          },
          "metadata": {}
        }
      ]
    },
    {
      "cell_type": "code",
      "source": [
        "\n",
        "\n",
        "gradBoost_estimator = GradientBoostingClassifier(n_estimators=best_estimator,random_state=0)\n",
        "gradBoost_estimator.fit(X_train, y_train)\n",
        "y_pred = gradBoost_estimator.predict(X_test)\n",
        "print(\"Accurecy: \",accuracy_score(y_test, y_pred))"
      ],
      "metadata": {
        "id": "MmoeZ5081bJF"
      },
      "execution_count": null,
      "outputs": []
    },
    {
      "cell_type": "code",
      "source": [
        "\n",
        "\n",
        "gradBoost_depth = GradientBoostingClassifier(max_depth=best_depth,random_state=0)\n",
        "gradBoost_depth.fit(X_train, y_train)\n",
        "y_pred = gradBoost_depth.predict(X_test)\n",
        "print(\"Accurecy: \",accuracy_score(y_test, y_pred))"
      ],
      "metadata": {
        "id": "NtYaek-Q1buu"
      },
      "execution_count": null,
      "outputs": []
    },
    {
      "cell_type": "code",
      "source": [
        "\n",
        "gradBoost_all = GradientBoostingClassifier(n_estimators=best_estimator,max_depth=best_depth,random_state=0)\n",
        "gradBoost_all.fit(X_train, y_train)\n",
        "y_pred = gradBoost_all.predict(X_test)\n",
        "print(\"Accurecy: \",accuracy_score(y_test, y_pred))"
      ],
      "metadata": {
        "id": "hC8T4sOT1fIO"
      },
      "execution_count": null,
      "outputs": []
    },
    {
      "cell_type": "markdown",
      "source": [
        "###Evaluation metrics, Confusion Matrix and ROC Curve For best model"
      ],
      "metadata": {
        "id": "-gcNiVRU8MZk"
      }
    },
    {
      "cell_type": "code",
      "source": [
        "\n",
        "\n",
        "best_ =\n",
        "\n",
        "print(classification_report(y_test,y_pred))"
      ],
      "metadata": {
        "id": "5Ktmvi3X8LHs"
      },
      "execution_count": null,
      "outputs": []
    },
    {
      "cell_type": "code",
      "source": [
        "cm = confusion_matrix(y_test,y_pred)\n",
        "plt.figure(figsize = (8,4))\n",
        "sn.heatmap(cm, annot=True, fmt='d')\n",
        "plt.xlabel('Predicted',fontsize=14.0, fontweight='bold')\n",
        "plt.ylabel('Truth',fontsize=12.0, fontweight='bold')"
      ],
      "metadata": {
        "id": "6JaclsTo8TBa"
      },
      "execution_count": null,
      "outputs": []
    },
    {
      "cell_type": "code",
      "source": [
        "ploty_ROC(ada_defult,X_test,y_test,graph_attributes)"
      ],
      "metadata": {
        "id": "9ZptN4d-8Tep"
      },
      "execution_count": null,
      "outputs": []
    },
    {
      "cell_type": "markdown",
      "source": [
        "##XGB"
      ],
      "metadata": {
        "id": "qWOpr0rWKIoA"
      }
    },
    {
      "cell_type": "markdown",
      "source": [
        "###Deafult Hyperparameters"
      ],
      "metadata": {
        "id": "G3eravJQHVMh"
      }
    },
    {
      "cell_type": "code",
      "source": [
        "import xgboost as xgb\n",
        "xgb_deafult = xgb.XGBClassifier()\n",
        "xgb_deafult.fit(X_train.values,y_train.values)\n",
        "y_pred_val = xgb_deafult.predict(X_val.values)\n",
        "\n",
        "from sklearn.metrics import classification_report, confusion_matrix, accuracy_score\n",
        "print(confusion_matrix(y_val, y_pred_val))\n",
        "print(classification_report(y_val,y_pred_val))\n",
        "print(\"Accurecy: \",accuracy_score(y_val, y_pred_val))"
      ],
      "metadata": {
        "id": "CjwRipgZKKI_",
        "outputId": "e96e806b-ee94-4041-dff0-372adf1d84cf",
        "colab": {
          "base_uri": "https://localhost:8080/"
        }
      },
      "execution_count": null,
      "outputs": [
        {
          "output_type": "stream",
          "name": "stdout",
          "text": [
            "[[5731  264]\n",
            " [ 345 5637]]\n",
            "              precision    recall  f1-score   support\n",
            "\n",
            "           0       0.94      0.96      0.95      5995\n",
            "           1       0.96      0.94      0.95      5982\n",
            "\n",
            "    accuracy                           0.95     11977\n",
            "   macro avg       0.95      0.95      0.95     11977\n",
            "weighted avg       0.95      0.95      0.95     11977\n",
            "\n",
            "Accurecy:  0.9491525423728814\n"
          ]
        }
      ]
    },
    {
      "cell_type": "markdown",
      "source": [
        "###Tunning `n_estimators` (done)"
      ],
      "metadata": {
        "id": "gsyrTPB7HZmZ"
      }
    },
    {
      "cell_type": "code",
      "source": [
        "import xgboost as xgb\n",
        "from sklearn.metrics import accuracy_score\n",
        "N=250\n",
        "k_range = range (1,N+1)\n",
        "scores={}\n",
        "scores_list = []\n",
        "scores_list_train = []\n",
        "for k in tqdm(k_range):\n",
        "  xgb_classifier = xgb.XGBClassifier(n_estimators=k,random_state=0)\n",
        "  xgb_classifier.fit(X_train.values, y_train.values)\n",
        "\n",
        "  y_pred=xgb_classifier.predict(X_val.values)\n",
        "  val_accu = accuracy_score(y_val,y_pred)\n",
        "  scores[k] = val_accu\n",
        "  scores_list.append(val_accu)\n",
        "\n",
        "  y_pred=xgb_classifier.predict(X_train.values)\n",
        "  train_accu = accuracy_score(y_train,y_pred)\n",
        "  scores_list_train.append(train_accu)\n",
        "\n",
        "\n",
        "  print(str(k)+\"/\"+str(N)+\" round completed......................... Val Accureay: \"+str(val_accu),\" >>>>>>Training Accuracy: \"+str(train_accu))\n",
        "\n",
        "\n",
        "%matplotlib inline\n",
        "import matplotlib.pyplot as plt\n",
        "\n",
        "plt.figure(figsize = (25,10))\n",
        "plt.plot(k_range,scores_list)\n",
        "plt.plot(k_range,scores_list_train)\n",
        "plt.xlabel('Value of n_estimators')\n",
        "plt.ylabel ('Testing Accuracy')\n",
        "plt.legend([\"Testing Accuracy\", \"Training Accuracy\"], loc=0, frameon=True)\n",
        "\n",
        "\n",
        "print(\"The best n_estimators:\")\n",
        "best_estimator=list(scores.keys())[scores_list.index(max(scores_list))]\n",
        "print(best_estimator)"
      ],
      "metadata": {
        "colab": {
          "base_uri": "https://localhost:8080/",
          "height": 1000,
          "referenced_widgets": [
            "a4b2d9f2c88441a1b5c899ac759cd483",
            "be3da13445a2459e83c136228ae6bd3e",
            "295ee38cd30a42c4896a8f1da16f4bc1",
            "3c1ad009963a49c8b820f8d8fabe843f",
            "3c0a774140094f4588f0a0c9fa72e941",
            "b8b12087e1464dadadbb320018d98182",
            "db3d22ab82ce409e877c78adb17caa43",
            "f551d7dc3aaf44709c441a58ee7b3f8c",
            "cb8b3468635544cb960cd68eeee2879e",
            "4b32edc08cd743e798a881a5b57548d8",
            "48be6b53035347fdbcba3958181bbbc4"
          ]
        },
        "id": "yxDsG35eFZ81",
        "outputId": "e81a5266-6c23-4588-aea4-8c2bc6eb29a9"
      },
      "execution_count": 38,
      "outputs": [
        {
          "output_type": "display_data",
          "data": {
            "text/plain": [
              "  0%|          | 0/250 [00:00<?, ?it/s]"
            ],
            "application/vnd.jupyter.widget-view+json": {
              "version_major": 2,
              "version_minor": 0,
              "model_id": "a4b2d9f2c88441a1b5c899ac759cd483"
            }
          },
          "metadata": {}
        },
        {
          "output_type": "stream",
          "name": "stdout",
          "text": [
            "1/250 round completed......................... Val Accureay: 0.8701678216581782  >>>>>>Training Accuracy: 0.877706208624083\n",
            "2/250 round completed......................... Val Accureay: 0.8840277197962761  >>>>>>Training Accuracy: 0.8899624261943102\n",
            "3/250 round completed......................... Val Accureay: 0.8886198547215496  >>>>>>Training Accuracy: 0.8984970477724101\n",
            "4/250 round completed......................... Val Accureay: 0.9014778325123153  >>>>>>Training Accuracy: 0.9067453927357308\n",
            "5/250 round completed......................... Val Accureay: 0.9099106621023628  >>>>>>Training Accuracy: 0.9154768294864913\n",
            "6/250 round completed......................... Val Accureay: 0.9184269850546881  >>>>>>Training Accuracy: 0.9245124351404544\n",
            "7/250 round completed......................... Val Accureay: 0.9243550137764047  >>>>>>Training Accuracy: 0.9297369833601717\n",
            "8/250 round completed......................... Val Accureay: 0.9252734407614595  >>>>>>Training Accuracy: 0.9320450885668277\n",
            "9/250 round completed......................... Val Accureay: 0.932036403105953  >>>>>>Training Accuracy: 0.9387904813025586\n",
            "10/250 round completed......................... Val Accureay: 0.9340402438006179  >>>>>>Training Accuracy: 0.94170692431562\n",
            "11/250 round completed......................... Val Accureay: 0.9383818986390582  >>>>>>Training Accuracy: 0.944641259617105\n",
            "12/250 round completed......................... Val Accureay: 0.9397177924355014  >>>>>>Training Accuracy: 0.9463589193057792\n",
            "13/250 round completed......................... Val Accureay: 0.9406362194205561  >>>>>>Training Accuracy: 0.9477366255144033\n",
            "14/250 round completed......................... Val Accureay: 0.94230608666611  >>>>>>Training Accuracy: 0.9477187332259795\n",
            "15/250 round completed......................... Val Accureay: 0.9417216331301661  >>>>>>Training Accuracy: 0.9489175165503668\n",
            "16/250 round completed......................... Val Accureay: 0.9425565667529432  >>>>>>Training Accuracy: 0.9500447307210592\n",
            "17/250 round completed......................... Val Accureay: 0.9435584871002756  >>>>>>Training Accuracy: 0.9509572374306674\n",
            "18/250 round completed......................... Val Accureay: 0.9434749937379978  >>>>>>Training Accuracy: 0.9516908212560387\n",
            "19/250 round completed......................... Val Accureay: 0.9434749937379978  >>>>>>Training Accuracy: 0.9526748971193416\n",
            "20/250 round completed......................... Val Accureay: 0.943725473824831  >>>>>>Training Accuracy: 0.9524601896582573\n",
            "21/250 round completed......................... Val Accureay: 0.943975953911664  >>>>>>Training Accuracy: 0.9532653426373233\n",
            "22/250 round completed......................... Val Accureay: 0.9443099273607748  >>>>>>Training Accuracy: 0.9538915727321524\n",
            "23/250 round completed......................... Val Accureay: 0.944810887534441  >>>>>>Training Accuracy: 0.9545178028269816\n",
            "24/250 round completed......................... Val Accureay: 0.9450613676212741  >>>>>>Training Accuracy: 0.954893540883879\n",
            "25/250 round completed......................... Val Accureay: 0.9459797946063287  >>>>>>Training Accuracy: 0.9553229558060476\n",
            "26/250 round completed......................... Val Accureay: 0.9459797946063287  >>>>>>Training Accuracy: 0.9554124172481661\n",
            "27/250 round completed......................... Val Accureay: 0.9462302746931619  >>>>>>Training Accuracy: 0.9558597244587582\n",
            "28/250 round completed......................... Val Accureay: 0.9470652083159389  >>>>>>Training Accuracy: 0.9566112005725532\n",
            "29/250 round completed......................... Val Accureay: 0.9473991817650497  >>>>>>Training Accuracy: 0.9570585077831455\n",
            "30/250 round completed......................... Val Accureay: 0.947315688402772  >>>>>>Training Accuracy: 0.9572195383789587\n",
            "31/250 round completed......................... Val Accureay: 0.947315688402772  >>>>>>Training Accuracy: 0.9576131687242798\n",
            "32/250 round completed......................... Val Accureay: 0.9479001419387159  >>>>>>Training Accuracy: 0.9578457684737878\n",
            "33/250 round completed......................... Val Accureay: 0.9477331552141605  >>>>>>Training Accuracy: 0.9584898908570406\n",
            "34/250 round completed......................... Val Accureay: 0.9474826751273274  >>>>>>Training Accuracy: 0.9590087672213277\n",
            "35/250 round completed......................... Val Accureay: 0.9472321950404943  >>>>>>Training Accuracy: 0.9592771515476829\n",
            "36/250 round completed......................... Val Accureay: 0.9475661684896051  >>>>>>Training Accuracy: 0.9598139202003936\n",
            "37/250 round completed......................... Val Accureay: 0.9478166485764382  >>>>>>Training Accuracy: 0.9596528896045804\n",
            "38/250 round completed......................... Val Accureay: 0.9472321950404943  >>>>>>Training Accuracy: 0.9602612274109859\n",
            "39/250 round completed......................... Val Accureay: 0.948150622025549  >>>>>>Training Accuracy: 0.9604938271604938\n",
            "40/250 round completed......................... Val Accureay: 0.9474826751273274  >>>>>>Training Accuracy: 0.9607801037752729\n",
            "41/250 round completed......................... Val Accureay: 0.9479001419387159  >>>>>>Training Accuracy: 0.9611916264090177\n",
            "42/250 round completed......................... Val Accureay: 0.948150622025549  >>>>>>Training Accuracy: 0.9613347647164072\n",
            "43/250 round completed......................... Val Accureay: 0.9478166485764382  >>>>>>Training Accuracy: 0.9615673644659152\n",
            "44/250 round completed......................... Val Accureay: 0.9482341153878266  >>>>>>Training Accuracy: 0.961692610484881\n",
            "45/250 round completed......................... Val Accureay: 0.9487350755614928  >>>>>>Training Accuracy: 0.9621757022723206\n",
            "46/250 round completed......................... Val Accureay: 0.9477331552141605  >>>>>>Training Accuracy: 0.962444086598676\n",
            "47/250 round completed......................... Val Accureay: 0.9480671286632713  >>>>>>Training Accuracy: 0.9626409017713365\n",
            "48/250 round completed......................... Val Accureay: 0.948150622025549  >>>>>>Training Accuracy: 0.9625693326176418\n",
            "49/250 round completed......................... Val Accureay: 0.9487350755614928  >>>>>>Training Accuracy: 0.9631418858471998\n",
            "50/250 round completed......................... Val Accureay: 0.9486515821992152  >>>>>>Training Accuracy: 0.9636607622114869\n",
            "51/250 round completed......................... Val Accureay: 0.9486515821992152  >>>>>>Training Accuracy: 0.9640901771336554\n",
            "52/250 round completed......................... Val Accureay: 0.9485680888369374  >>>>>>Training Accuracy: 0.9644659151905529\n",
            "53/250 round completed......................... Val Accureay: 0.9489020622860482  >>>>>>Training Accuracy: 0.9645374843442476\n",
            "54/250 round completed......................... Val Accureay: 0.948985555648326  >>>>>>Training Accuracy: 0.9646985149400609\n",
            "55/250 round completed......................... Val Accureay: 0.9491525423728814  >>>>>>Training Accuracy: 0.9648774378242977\n",
            "56/250 round completed......................... Val Accureay: 0.9494865158219922  >>>>>>Training Accuracy: 0.9651994990159242\n",
            "57/250 round completed......................... Val Accureay: 0.9497369959088252  >>>>>>Training Accuracy: 0.9651100375738056\n",
            "58/250 round completed......................... Val Accureay: 0.9497369959088252  >>>>>>Training Accuracy: 0.9654142064770084\n",
            "59/250 round completed......................... Val Accureay: 0.9494030224597144  >>>>>>Training Accuracy: 0.9656110216496689\n",
            "60/250 round completed......................... Val Accureay: 0.9496535025465476  >>>>>>Training Accuracy: 0.9660941134371086\n",
            "61/250 round completed......................... Val Accureay: 0.9495700091842698  >>>>>>Training Accuracy: 0.9663803900518876\n",
            "62/250 round completed......................... Val Accureay: 0.9497369959088252  >>>>>>Training Accuracy: 0.9666845589550903\n",
            "63/250 round completed......................... Val Accureay: 0.9493195290974368  >>>>>>Training Accuracy: 0.9666666666666667\n",
            "64/250 round completed......................... Val Accureay: 0.9494865158219922  >>>>>>Training Accuracy: 0.9671855430309536\n",
            "65/250 round completed......................... Val Accureay: 0.9497369959088252  >>>>>>Training Accuracy: 0.967453927357309\n",
            "66/250 round completed......................... Val Accureay: 0.950070969357936  >>>>>>Training Accuracy: 0.9675970656646985\n",
            "67/250 round completed......................... Val Accureay: 0.9494030224597144  >>>>>>Training Accuracy: 0.9678833422794776\n",
            "68/250 round completed......................... Val Accureay: 0.949236035735159  >>>>>>Training Accuracy: 0.9682411880479513\n",
            "69/250 round completed......................... Val Accureay: 0.949236035735159  >>>>>>Training Accuracy: 0.9682769726247987\n",
            "70/250 round completed......................... Val Accureay: 0.9494030224597144  >>>>>>Training Accuracy: 0.9684916800858829\n",
            "71/250 round completed......................... Val Accureay: 0.9488185689237706  >>>>>>Training Accuracy: 0.9685990338164251\n",
            "72/250 round completed......................... Val Accureay: 0.9484845954746598  >>>>>>Training Accuracy: 0.9685632492395777\n",
            "73/250 round completed......................... Val Accureay: 0.9491525423728814  >>>>>>Training Accuracy: 0.9685811415280015\n",
            "74/250 round completed......................... Val Accureay: 0.949236035735159  >>>>>>Training Accuracy: 0.9688495258543568\n",
            "75/250 round completed......................... Val Accureay: 0.9493195290974368  >>>>>>Training Accuracy: 0.969064233315441\n",
            "76/250 round completed......................... Val Accureay: 0.9494030224597144  >>>>>>Training Accuracy: 0.9691715870459832\n",
            "77/250 round completed......................... Val Accureay: 0.9491525423728814  >>>>>>Training Accuracy: 0.9693147253533727\n",
            "78/250 round completed......................... Val Accureay: 0.9494865158219922  >>>>>>Training Accuracy: 0.969296833064949\n",
            "79/250 round completed......................... Val Accureay: 0.9495700091842698  >>>>>>Training Accuracy: 0.9693862945070675\n",
            "80/250 round completed......................... Val Accureay: 0.9496535025465476  >>>>>>Training Accuracy: 0.9695294328144569\n",
            "81/250 round completed......................... Val Accureay: 0.9490690490106036  >>>>>>Training Accuracy: 0.969583109679728\n",
            "82/250 round completed......................... Val Accureay: 0.9493195290974368  >>>>>>Training Accuracy: 0.9701914474861335\n",
            "83/250 round completed......................... Val Accureay: 0.9495700091842698  >>>>>>Training Accuracy: 0.9702630166398283\n",
            "84/250 round completed......................... Val Accureay: 0.9491525423728814  >>>>>>Training Accuracy: 0.9703166935050993\n",
            "85/250 round completed......................... Val Accureay: 0.9494030224597144  >>>>>>Training Accuracy: 0.9706029701198783\n",
            "86/250 round completed......................... Val Accureay: 0.9495700091842698  >>>>>>Training Accuracy: 0.970567185543031\n",
            "87/250 round completed......................... Val Accureay: 0.9494865158219922  >>>>>>Training Accuracy: 0.9708892467346574\n",
            "88/250 round completed......................... Val Accureay: 0.9494865158219922  >>>>>>Training Accuracy: 0.9711934156378601\n",
            "89/250 round completed......................... Val Accureay: 0.9491525423728814  >>>>>>Training Accuracy: 0.9714796922526391\n",
            "90/250 round completed......................... Val Accureay: 0.9485680888369374  >>>>>>Training Accuracy: 0.9715333691179102\n",
            "91/250 round completed......................... Val Accureay: 0.9486515821992152  >>>>>>Training Accuracy: 0.9716765074252997\n",
            "92/250 round completed......................... Val Accureay: 0.9483176087501044  >>>>>>Training Accuracy: 0.9717838611558418\n",
            "93/250 round completed......................... Val Accureay: 0.9483176087501044  >>>>>>Training Accuracy: 0.9722132760780103\n",
            "94/250 round completed......................... Val Accureay: 0.9483176087501044  >>>>>>Training Accuracy: 0.972410091250671\n",
            "95/250 round completed......................... Val Accureay: 0.9484845954746598  >>>>>>Training Accuracy: 0.9724279835390947\n",
            "96/250 round completed......................... Val Accureay: 0.9479836353009936  >>>>>>Training Accuracy: 0.9728037215959922\n",
            "97/250 round completed......................... Val Accureay: 0.9480671286632713  >>>>>>Training Accuracy: 0.9729647521918053\n",
            "98/250 round completed......................... Val Accureay: 0.9479836353009936  >>>>>>Training Accuracy: 0.9733047056718555\n",
            "99/250 round completed......................... Val Accureay: 0.9476496618518828  >>>>>>Training Accuracy: 0.9734120594023976\n",
            "100/250 round completed......................... Val Accureay: 0.9479001419387159  >>>>>>Training Accuracy: 0.9733941671139739\n",
            "101/250 round completed......................... Val Accureay: 0.9479001419387159  >>>>>>Training Accuracy: 0.9733941671139739\n",
            "102/250 round completed......................... Val Accureay: 0.948150622025549  >>>>>>Training Accuracy: 0.973447843979245\n",
            "103/250 round completed......................... Val Accureay: 0.9485680888369374  >>>>>>Training Accuracy: 0.9737520128824476\n",
            "104/250 round completed......................... Val Accureay: 0.9484845954746598  >>>>>>Training Accuracy: 0.9738951511898372\n",
            "105/250 round completed......................... Val Accureay: 0.9482341153878266  >>>>>>Training Accuracy: 0.9739667203435319\n",
            "106/250 round completed......................... Val Accureay: 0.948150622025549  >>>>>>Training Accuracy: 0.974020397208803\n",
            "107/250 round completed......................... Val Accureay: 0.948150622025549  >>>>>>Training Accuracy: 0.9745034889962426\n",
            "108/250 round completed......................... Val Accureay: 0.948401102112382  >>>>>>Training Accuracy: 0.9744498121309716\n",
            "109/250 round completed......................... Val Accureay: 0.9485680888369374  >>>>>>Training Accuracy: 0.9746466273036322\n",
            "110/250 round completed......................... Val Accureay: 0.9484845954746598  >>>>>>Training Accuracy: 0.9748971193415638\n",
            "111/250 round completed......................... Val Accureay: 0.9482341153878266  >>>>>>Training Accuracy: 0.9750044730721059\n",
            "112/250 round completed......................... Val Accureay: 0.9483176087501044  >>>>>>Training Accuracy: 0.9750581499373769\n",
            "113/250 round completed......................... Val Accureay: 0.9486515821992152  >>>>>>Training Accuracy: 0.9752012882447665\n",
            "114/250 round completed......................... Val Accureay: 0.9484845954746598  >>>>>>Training Accuracy: 0.9753265342637323\n",
            "115/250 round completed......................... Val Accureay: 0.9485680888369374  >>>>>>Training Accuracy: 0.975577026301664\n",
            "116/250 round completed......................... Val Accureay: 0.9479836353009936  >>>>>>Training Accuracy: 0.9758275183395957\n",
            "117/250 round completed......................... Val Accureay: 0.9480671286632713  >>>>>>Training Accuracy: 0.9757917337627483\n",
            "118/250 round completed......................... Val Accureay: 0.948150622025549  >>>>>>Training Accuracy: 0.9760064412238325\n",
            "119/250 round completed......................... Val Accureay: 0.9480671286632713  >>>>>>Training Accuracy: 0.9762748255501879\n",
            "120/250 round completed......................... Val Accureay: 0.9484845954746598  >>>>>>Training Accuracy: 0.9766863481839327\n",
            "121/250 round completed......................... Val Accureay: 0.9485680888369374  >>>>>>Training Accuracy: 0.9768652710681697\n",
            "122/250 round completed......................... Val Accureay: 0.9486515821992152  >>>>>>Training Accuracy: 0.9769905170871355\n",
            "123/250 round completed......................... Val Accureay: 0.9484845954746598  >>>>>>Training Accuracy: 0.9772589014134908\n",
            "124/250 round completed......................... Val Accureay: 0.9488185689237706  >>>>>>Training Accuracy: 0.9774915011629988\n",
            "125/250 round completed......................... Val Accureay: 0.9484845954746598  >>>>>>Training Accuracy: 0.9777419932009304\n",
            "126/250 round completed......................... Val Accureay: 0.9483176087501044  >>>>>>Training Accuracy: 0.9779567006620147\n",
            "127/250 round completed......................... Val Accureay: 0.948401102112382  >>>>>>Training Accuracy: 0.9781177312578279\n",
            "128/250 round completed......................... Val Accureay: 0.9480671286632713  >>>>>>Training Accuracy: 0.978171408123099\n",
            "129/250 round completed......................... Val Accureay: 0.9483176087501044  >>>>>>Training Accuracy: 0.978278761853641\n",
            "130/250 round completed......................... Val Accureay: 0.9484845954746598  >>>>>>Training Accuracy: 0.9783682232957596\n",
            "131/250 round completed......................... Val Accureay: 0.9488185689237706  >>>>>>Training Accuracy: 0.9785650384684201\n",
            "132/250 round completed......................... Val Accureay: 0.9488185689237706  >>>>>>Training Accuracy: 0.978976561102165\n",
            "133/250 round completed......................... Val Accureay: 0.9487350755614928  >>>>>>Training Accuracy: 0.9790660225442834\n",
            "134/250 round completed......................... Val Accureay: 0.9485680888369374  >>>>>>Training Accuracy: 0.9791554839864018\n",
            "135/250 round completed......................... Val Accureay: 0.9486515821992152  >>>>>>Training Accuracy: 0.979316514582215\n",
            "136/250 round completed......................... Val Accureay: 0.9484845954746598  >>>>>>Training Accuracy: 0.9795670066201467\n",
            "137/250 round completed......................... Val Accureay: 0.948401102112382  >>>>>>Training Accuracy: 0.9797459295043837\n",
            "138/250 round completed......................... Val Accureay: 0.948401102112382  >>>>>>Training Accuracy: 0.9801395598497048\n",
            "139/250 round completed......................... Val Accureay: 0.9483176087501044  >>>>>>Training Accuracy: 0.9802290212918232\n",
            "140/250 round completed......................... Val Accureay: 0.948401102112382  >>>>>>Training Accuracy: 0.9802648058686706\n",
            "141/250 round completed......................... Val Accureay: 0.948401102112382  >>>>>>Training Accuracy: 0.9807121130792629\n",
            "142/250 round completed......................... Val Accureay: 0.9479836353009936  >>>>>>Training Accuracy: 0.9807300053676865\n",
            "143/250 round completed......................... Val Accureay: 0.9479836353009936  >>>>>>Training Accuracy: 0.980873143675076\n",
            "144/250 round completed......................... Val Accureay: 0.948150622025549  >>>>>>Training Accuracy: 0.981052066559313\n",
            "145/250 round completed......................... Val Accureay: 0.9480671286632713  >>>>>>Training Accuracy: 0.981052066559313\n",
            "146/250 round completed......................... Val Accureay: 0.9480671286632713  >>>>>>Training Accuracy: 0.9811952048667024\n",
            "147/250 round completed......................... Val Accureay: 0.9480671286632713  >>>>>>Training Accuracy: 0.9813025585972446\n",
            "148/250 round completed......................... Val Accureay: 0.9479001419387159  >>>>>>Training Accuracy: 0.9814635891930578\n",
            "149/250 round completed......................... Val Accureay: 0.9479836353009936  >>>>>>Training Accuracy: 0.9816604043657183\n",
            "150/250 round completed......................... Val Accureay: 0.9482341153878266  >>>>>>Training Accuracy: 0.9817140812309895\n",
            "151/250 round completed......................... Val Accureay: 0.9482341153878266  >>>>>>Training Accuracy: 0.9817677580962605\n",
            "152/250 round completed......................... Val Accureay: 0.9485680888369374  >>>>>>Training Accuracy: 0.9817677580962605\n",
            "153/250 round completed......................... Val Accureay: 0.948150622025549  >>>>>>Training Accuracy: 0.9818035426731079\n",
            "154/250 round completed......................... Val Accureay: 0.9477331552141605  >>>>>>Training Accuracy: 0.9818035426731079\n",
            "155/250 round completed......................... Val Accureay: 0.9477331552141605  >>>>>>Training Accuracy: 0.98191089640365\n",
            "156/250 round completed......................... Val Accureay: 0.9473991817650497  >>>>>>Training Accuracy: 0.9822687421721238\n",
            "157/250 round completed......................... Val Accureay: 0.9478166485764382  >>>>>>Training Accuracy: 0.9823939881910897\n",
            "158/250 round completed......................... Val Accureay: 0.9475661684896051  >>>>>>Training Accuracy: 0.9826981570942923\n",
            "159/250 round completed......................... Val Accureay: 0.9475661684896051  >>>>>>Training Accuracy: 0.9828591876901056\n",
            "160/250 round completed......................... Val Accureay: 0.9468147282291058  >>>>>>Training Accuracy: 0.983127572016461\n",
            "161/250 round completed......................... Val Accureay: 0.9468147282291058  >>>>>>Training Accuracy: 0.9835927715154769\n",
            "162/250 round completed......................... Val Accureay: 0.9465642481422727  >>>>>>Training Accuracy: 0.9835390946502057\n",
            "163/250 round completed......................... Val Accureay: 0.9465642481422727  >>>>>>Training Accuracy: 0.9837359098228663\n",
            "164/250 round completed......................... Val Accureay: 0.9459797946063287  >>>>>>Training Accuracy: 0.9839685095723744\n",
            "165/250 round completed......................... Val Accureay: 0.9461467813308841  >>>>>>Training Accuracy: 0.9840758633029164\n",
            "166/250 round completed......................... Val Accureay: 0.9463972614177173  >>>>>>Training Accuracy: 0.9843084630524244\n",
            "167/250 round completed......................... Val Accureay: 0.9470652083159389  >>>>>>Training Accuracy: 0.9845052782250849\n",
            "168/250 round completed......................... Val Accureay: 0.9470652083159389  >>>>>>Training Accuracy: 0.9846663088208982\n",
            "169/250 round completed......................... Val Accureay: 0.9468147282291058  >>>>>>Training Accuracy: 0.984791554839864\n",
            "170/250 round completed......................... Val Accureay: 0.9468982215913835  >>>>>>Training Accuracy: 0.984791554839864\n",
            "171/250 round completed......................... Val Accureay: 0.9468147282291058  >>>>>>Training Accuracy: 0.9848631239935588\n",
            "172/250 round completed......................... Val Accureay: 0.9471487016782166  >>>>>>Training Accuracy: 0.9850957237430668\n",
            "173/250 round completed......................... Val Accureay: 0.9469817149536612  >>>>>>Training Accuracy: 0.9851494006083378\n",
            "174/250 round completed......................... Val Accureay: 0.947315688402772  >>>>>>Training Accuracy: 0.9852567543388799\n",
            "175/250 round completed......................... Val Accureay: 0.9468982215913835  >>>>>>Training Accuracy: 0.9854177849346931\n",
            "176/250 round completed......................... Val Accureay: 0.947315688402772  >>>>>>Training Accuracy: 0.9855072463768116\n",
            "177/250 round completed......................... Val Accureay: 0.9471487016782166  >>>>>>Training Accuracy: 0.985775630703167\n",
            "178/250 round completed......................... Val Accureay: 0.9468982215913835  >>>>>>Training Accuracy: 0.9860261227410986\n",
            "179/250 round completed......................... Val Accureay: 0.9468982215913835  >>>>>>Training Accuracy: 0.9861871533369118\n",
            "180/250 round completed......................... Val Accureay: 0.9468982215913835  >>>>>>Training Accuracy: 0.9861513687600644\n",
            "181/250 round completed......................... Val Accureay: 0.9466477415045503  >>>>>>Training Accuracy: 0.9862945070674539\n",
            "182/250 round completed......................... Val Accureay: 0.9468147282291058  >>>>>>Training Accuracy: 0.9863302916443013\n",
            "183/250 round completed......................... Val Accureay: 0.947315688402772  >>>>>>Training Accuracy: 0.9864197530864197\n",
            "184/250 round completed......................... Val Accureay: 0.9473991817650497  >>>>>>Training Accuracy: 0.9864376453748435\n",
            "185/250 round completed......................... Val Accureay: 0.947315688402772  >>>>>>Training Accuracy: 0.9864913222401145\n",
            "186/250 round completed......................... Val Accureay: 0.9468982215913835  >>>>>>Training Accuracy: 0.9865986759706566\n",
            "187/250 round completed......................... Val Accureay: 0.9470652083159389  >>>>>>Training Accuracy: 0.9866523528359277\n",
            "188/250 round completed......................... Val Accureay: 0.947315688402772  >>>>>>Training Accuracy: 0.9867954911433172\n",
            "189/250 round completed......................... Val Accureay: 0.9473991817650497  >>>>>>Training Accuracy: 0.9867775988548936\n",
            "190/250 round completed......................... Val Accureay: 0.9473991817650497  >>>>>>Training Accuracy: 0.9869028448738594\n",
            "191/250 round completed......................... Val Accureay: 0.9470652083159389  >>>>>>Training Accuracy: 0.9869923063159778\n",
            "192/250 round completed......................... Val Accureay: 0.9471487016782166  >>>>>>Training Accuracy: 0.9871712292002147\n",
            "193/250 round completed......................... Val Accureay: 0.9470652083159389  >>>>>>Training Accuracy: 0.9872427983539095\n",
            "194/250 round completed......................... Val Accureay: 0.9473991817650497  >>>>>>Training Accuracy: 0.9874932903918411\n",
            "195/250 round completed......................... Val Accureay: 0.9474826751273274  >>>>>>Training Accuracy: 0.9875648595455359\n",
            "196/250 round completed......................... Val Accureay: 0.9474826751273274  >>>>>>Training Accuracy: 0.987672213276078\n",
            "197/250 round completed......................... Val Accureay: 0.9474826751273274  >>>>>>Training Accuracy: 0.9877616747181964\n",
            "198/250 round completed......................... Val Accureay: 0.9471487016782166  >>>>>>Training Accuracy: 0.9880300590445518\n",
            "199/250 round completed......................... Val Accureay: 0.9474826751273274  >>>>>>Training Accuracy: 0.9881195204866703\n",
            "200/250 round completed......................... Val Accureay: 0.9476496618518828  >>>>>>Training Accuracy: 0.9882447665056361\n",
            "201/250 round completed......................... Val Accureay: 0.9479001419387159  >>>>>>Training Accuracy: 0.9882268742172123\n",
            "202/250 round completed......................... Val Accureay: 0.9475661684896051  >>>>>>Training Accuracy: 0.9883163356593309\n",
            "203/250 round completed......................... Val Accureay: 0.9476496618518828  >>>>>>Training Accuracy: 0.988423689389873\n",
            "204/250 round completed......................... Val Accureay: 0.9470652083159389  >>>>>>Training Accuracy: 0.9884415816782967\n",
            "205/250 round completed......................... Val Accureay: 0.9473991817650497  >>>>>>Training Accuracy: 0.9886205045625336\n",
            "206/250 round completed......................... Val Accureay: 0.9479001419387159  >>>>>>Training Accuracy: 0.988709966004652\n",
            "207/250 round completed......................... Val Accureay: 0.9477331552141605  >>>>>>Training Accuracy: 0.9888173197351942\n",
            "208/250 round completed......................... Val Accureay: 0.9477331552141605  >>>>>>Training Accuracy: 0.9888531043120415\n",
            "209/250 round completed......................... Val Accureay: 0.9477331552141605  >>>>>>Training Accuracy: 0.9887994274467704\n",
            "210/250 round completed......................... Val Accureay: 0.9470652083159389  >>>>>>Training Accuracy: 0.9888709966004652\n",
            "211/250 round completed......................... Val Accureay: 0.9472321950404943  >>>>>>Training Accuracy: 0.9889604580425837\n",
            "212/250 round completed......................... Val Accureay: 0.9470652083159389  >>>>>>Training Accuracy: 0.9891930577920917\n",
            "213/250 round completed......................... Val Accureay: 0.9470652083159389  >>>>>>Training Accuracy: 0.9892646269457863\n",
            "214/250 round completed......................... Val Accureay: 0.9471487016782166  >>>>>>Training Accuracy: 0.9893898729647522\n",
            "215/250 round completed......................... Val Accureay: 0.9472321950404943  >>>>>>Training Accuracy: 0.9894972266952943\n",
            "216/250 round completed......................... Val Accureay: 0.9475661684896051  >>>>>>Training Accuracy: 0.9896761495795312\n",
            "217/250 round completed......................... Val Accureay: 0.9479001419387159  >>>>>>Training Accuracy: 0.989747718733226\n",
            "218/250 round completed......................... Val Accureay: 0.9479836353009936  >>>>>>Training Accuracy: 0.9897835033100734\n",
            "219/250 round completed......................... Val Accureay: 0.9475661684896051  >>>>>>Training Accuracy: 0.9898908570406155\n",
            "220/250 round completed......................... Val Accureay: 0.9477331552141605  >>>>>>Training Accuracy: 0.9899266416174629\n",
            "221/250 round completed......................... Val Accureay: 0.9478166485764382  >>>>>>Training Accuracy: 0.9899624261943103\n",
            "222/250 round completed......................... Val Accureay: 0.9477331552141605  >>>>>>Training Accuracy: 0.9899445339058865\n",
            "223/250 round completed......................... Val Accureay: 0.9475661684896051  >>>>>>Training Accuracy: 0.9899087493290392\n",
            "224/250 round completed......................... Val Accureay: 0.9475661684896051  >>>>>>Training Accuracy: 0.9899087493290392\n",
            "225/250 round completed......................... Val Accureay: 0.9473991817650497  >>>>>>Training Accuracy: 0.9899624261943103\n",
            "226/250 round completed......................... Val Accureay: 0.947315688402772  >>>>>>Training Accuracy: 0.9900876722132761\n",
            "227/250 round completed......................... Val Accureay: 0.9471487016782166  >>>>>>Training Accuracy: 0.9900876722132761\n",
            "228/250 round completed......................... Val Accureay: 0.9470652083159389  >>>>>>Training Accuracy: 0.9902129182322419\n",
            "229/250 round completed......................... Val Accureay: 0.9468982215913835  >>>>>>Training Accuracy: 0.9902487028090893\n",
            "230/250 round completed......................... Val Accureay: 0.9468982215913835  >>>>>>Training Accuracy: 0.990320271962784\n",
            "231/250 round completed......................... Val Accureay: 0.9470652083159389  >>>>>>Training Accuracy: 0.9903918411164788\n",
            "232/250 round completed......................... Val Accureay: 0.9468982215913835  >>>>>>Training Accuracy: 0.9904097334049025\n",
            "233/250 round completed......................... Val Accureay: 0.9468982215913835  >>>>>>Training Accuracy: 0.9904634102701736\n",
            "234/250 round completed......................... Val Accureay: 0.9467312348668281  >>>>>>Training Accuracy: 0.9904455179817498\n",
            "235/250 round completed......................... Val Accureay: 0.9468982215913835  >>>>>>Training Accuracy: 0.9905170871354446\n",
            "236/250 round completed......................... Val Accureay: 0.9466477415045503  >>>>>>Training Accuracy: 0.990499194847021\n",
            "237/250 round completed......................... Val Accureay: 0.9467312348668281  >>>>>>Training Accuracy: 0.990552871712292\n",
            "238/250 round completed......................... Val Accureay: 0.9468982215913835  >>>>>>Training Accuracy: 0.9906781177312578\n",
            "239/250 round completed......................... Val Accureay: 0.9469817149536612  >>>>>>Training Accuracy: 0.990839148327071\n",
            "240/250 round completed......................... Val Accureay: 0.9469817149536612  >>>>>>Training Accuracy: 0.9908570406154947\n",
            "241/250 round completed......................... Val Accureay: 0.9471487016782166  >>>>>>Training Accuracy: 0.9908570406154947\n",
            "242/250 round completed......................... Val Accureay: 0.9467312348668281  >>>>>>Training Accuracy: 0.9909465020576131\n",
            "243/250 round completed......................... Val Accureay: 0.9468147282291058  >>>>>>Training Accuracy: 0.9909286097691895\n",
            "244/250 round completed......................... Val Accureay: 0.9468982215913835  >>>>>>Training Accuracy: 0.9909465020576131\n",
            "245/250 round completed......................... Val Accureay: 0.9468147282291058  >>>>>>Training Accuracy: 0.9909822866344605\n",
            "246/250 round completed......................... Val Accureay: 0.9468982215913835  >>>>>>Training Accuracy: 0.9910538557881553\n",
            "247/250 round completed......................... Val Accureay: 0.9467312348668281  >>>>>>Training Accuracy: 0.9910896403650027\n",
            "248/250 round completed......................... Val Accureay: 0.9468147282291058  >>>>>>Training Accuracy: 0.9912148863839685\n",
            "249/250 round completed......................... Val Accureay: 0.9468982215913835  >>>>>>Training Accuracy: 0.9912864555376633\n",
            "250/250 round completed......................... Val Accureay: 0.9468982215913835  >>>>>>Training Accuracy: 0.9913222401145106\n",
            "The best n_estimators:\n",
            "66\n"
          ]
        },
        {
          "output_type": "display_data",
          "data": {
            "text/plain": [
              "<Figure size 2500x1000 with 1 Axes>"
            ],
            "image/png": "[encoded data removed]"
          },
          "metadata": {}
        }
      ]
    },
    {
      "cell_type": "markdown",
      "source": [
        "###Tunning `max_depth`(done)"
      ],
      "metadata": {
        "id": "cjb7DALRHfx1"
      }
    },
    {
      "cell_type": "code",
      "source": [
        "import xgboost as xgb\n",
        "from sklearn.metrics import accuracy_score\n",
        "N=100\n",
        "k_range = range (31,N+1,5)\n",
        "scores={}\n",
        "scores_list = []\n",
        "scores_list_train = []\n",
        "for k in tqdm(k_range):\n",
        "  xgb_classifier = xgb.XGBClassifier(max_depth=k,random_state=0)\n",
        "  xgb_classifier.fit(X_train.values, y_train.values)\n",
        "\n",
        "  y_pred=xgb_classifier.predict(X_val.values)\n",
        "  val_accu = accuracy_score(y_val,y_pred)\n",
        "  scores[k] = val_accu\n",
        "  scores_list.append(val_accu)\n",
        "\n",
        "  y_pred=xgb_classifier.predict(X_train.values)\n",
        "  train_accu = accuracy_score(y_train,y_pred)\n",
        "  scores_list_train.append(train_accu)\n",
        "\n",
        "\n",
        "  print(str(k)+\"/\"+str(N)+\" round completed......................... Val Accuracy: \"+str(val_accu),\" >>>>>>> Train Accuracy: \"+str(train_accu))\n",
        "\n",
        "\n",
        "%matplotlib inline\n",
        "import matplotlib.pyplot as plt\n",
        "\n",
        "plt.figure(figsize = (25,10))\n",
        "plt.plot(k_range,scores_list)\n",
        "plt.plot(k_range,scores_list_train)\n",
        "plt.xlabel('Value of n_estimators')\n",
        "plt.ylabel ('Testing Accuracy')\n",
        "plt.legend([\"Testing Accuracy\", \"Testing Accuracy\"], loc=0, frameon=True)\n",
        "\n",
        "\n",
        "print(\"The best depth:\")\n",
        "best_depth=list(scores.keys())[scores_list.index(max(scores_list))]\n",
        "print(best_depth)"
      ],
      "metadata": {
        "colab": {
          "base_uri": "https://localhost:8080/",
          "height": 779,
          "referenced_widgets": [
            "bf972cbc9ab649349de8436d6672e338",
            "7c61669dfee74cd8b942dc6056d18bf6",
            "3ec48f2691c542edb2c82e70577238e7",
            "44286df223a348fca493ce5d2dafe944",
            "27fb234908b84a55b2fd9b22b607f73c",
            "3f55d009eef943d2a9f0bea21c1676d3",
            "aced6967033a4c9c92baf4064c505093",
            "149df86ef1eb4d9fb57bcd657aaa8307",
            "82091f939e6b4208a803efefa938276b",
            "51de6fde8a5a4c3db86f9c001265fb13",
            "02e3c73169c4416a8f4f04f69444ab4d"
          ]
        },
        "id": "JUEN7_q_FZxs",
        "outputId": "bbd1480d-07a6-4719-9934-99c8e3ca030f"
      },
      "execution_count": 39,
      "outputs": [
        {
          "output_type": "display_data",
          "data": {
            "text/plain": [
              "  0%|          | 0/14 [00:00<?, ?it/s]"
            ],
            "application/vnd.jupyter.widget-view+json": {
              "version_major": 2,
              "version_minor": 0,
              "model_id": "bf972cbc9ab649349de8436d6672e338"
            }
          },
          "metadata": {}
        },
        {
          "output_type": "stream",
          "name": "stdout",
          "text": [
            "31/100 round completed......................... Val Accuracy: 0.9482341153878266  >>>>>>> Train Accuracy: 1.0\n",
            "36/100 round completed......................... Val Accuracy: 0.9475661684896051  >>>>>>> Train Accuracy: 1.0\n",
            "41/100 round completed......................... Val Accuracy: 0.9475661684896051  >>>>>>> Train Accuracy: 1.0\n",
            "46/100 round completed......................... Val Accuracy: 0.9475661684896051  >>>>>>> Train Accuracy: 1.0\n",
            "51/100 round completed......................... Val Accuracy: 0.9475661684896051  >>>>>>> Train Accuracy: 1.0\n",
            "56/100 round completed......................... Val Accuracy: 0.9475661684896051  >>>>>>> Train Accuracy: 1.0\n",
            "61/100 round completed......................... Val Accuracy: 0.9475661684896051  >>>>>>> Train Accuracy: 1.0\n",
            "66/100 round completed......................... Val Accuracy: 0.9475661684896051  >>>>>>> Train Accuracy: 1.0\n",
            "71/100 round completed......................... Val Accuracy: 0.9475661684896051  >>>>>>> Train Accuracy: 1.0\n",
            "76/100 round completed......................... Val Accuracy: 0.9475661684896051  >>>>>>> Train Accuracy: 1.0\n",
            "81/100 round completed......................... Val Accuracy: 0.9475661684896051  >>>>>>> Train Accuracy: 1.0\n",
            "86/100 round completed......................... Val Accuracy: 0.9475661684896051  >>>>>>> Train Accuracy: 1.0\n",
            "91/100 round completed......................... Val Accuracy: 0.9475661684896051  >>>>>>> Train Accuracy: 1.0\n",
            "96/100 round completed......................... Val Accuracy: 0.9475661684896051  >>>>>>> Train Accuracy: 1.0\n",
            "The best depth:\n",
            "31\n"
          ]
        },
        {
          "output_type": "display_data",
          "data": {
            "text/plain": [
              "<Figure size 2500x1000 with 1 Axes>"
            ],
            "image/png": "[encoded data removed]"
          },
          "metadata": {}
        }
      ]
    },
    {
      "cell_type": "code",
      "source": [
        "xgb_depth = xgb.XGBClassifier(max_depth=best_depth,random_state=0)\n",
        "xgb_depth.fit(X_train.values,y_train.values)\n",
        "y_pred = xgb_depth.predict(X_test.values)\n",
        "print(\"Accurecy: \",accuracy_score(y_test, y_pred))"
      ],
      "metadata": {
        "id": "FrX62PRI17YS"
      },
      "execution_count": null,
      "outputs": []
    },
    {
      "cell_type": "code",
      "source": [
        "\n",
        "xgb_estimator = xgb.XGBClassifier(n_estimators=best_estimator,random_state=0)\n",
        "xgb_estimator.fit(X_train.values,y_train.values)\n",
        "y_pred = xgb_estimator.predict(X_test.values)\n",
        "print(\"Accurecy: \",accuracy_score(y_test, y_pred))"
      ],
      "metadata": {
        "id": "PMj5-Zhg17M-"
      },
      "execution_count": null,
      "outputs": []
    },
    {
      "cell_type": "code",
      "source": [
        "\n",
        "xgb_all = xgb.XGBClassifier(n_estimators=best_estimator,max_depth=best_depth,random_state=0)\n",
        "xgb_all.fit(X_train.values,y_train.values)\n",
        "y_pred = xgb_all.predict(X_test.values)\n",
        "\n",
        "print(\"Accurecy: \",accuracy_score(y_test, y_pred))"
      ],
      "metadata": {
        "id": "fj8uTNid17EN"
      },
      "execution_count": null,
      "outputs": []
    },
    {
      "cell_type": "markdown",
      "source": [
        "###Evaluation metrics, Confusion Matrix and ROC Curve For best model"
      ],
      "metadata": {
        "id": "mHKKVoI68vgI"
      }
    },
    {
      "cell_type": "code",
      "source": [
        "\n",
        "best_ =\n",
        "\n",
        "print(classification_report(y_test,y_pred))"
      ],
      "metadata": {
        "id": "d7-QaXWC8juV"
      },
      "execution_count": null,
      "outputs": []
    },
    {
      "cell_type": "code",
      "source": [
        "\n",
        "cm = confusion_matrix(y_test,y_pred)\n",
        "plt.figure(figsize = (8,4))\n",
        "sn.heatmap(cm, annot=True, fmt='d')\n",
        "plt.xlabel('Predicted',fontsize=14.0, fontweight='bold')\n",
        "plt.ylabel('Truth',fontsize=12.0, fontweight='bold')"
      ],
      "metadata": {
        "id": "lXqpAmAm8zp3"
      },
      "execution_count": null,
      "outputs": []
    },
    {
      "cell_type": "code",
      "source": [
        "ploty_ROC(ada_defult,X_test,y_test,graph_attributes)"
      ],
      "metadata": {
        "id": "Euow51_d81Ds"
      },
      "execution_count": null,
      "outputs": []
    },
    {
      "cell_type": "markdown",
      "source": [
        "##RandomForestClassifier"
      ],
      "metadata": {
        "id": "b0YLhWAOKo0z"
      }
    },
    {
      "cell_type": "markdown",
      "source": [
        "###Deafult Hyperparameters"
      ],
      "metadata": {
        "id": "DGK5iq6dHmQw"
      }
    },
    {
      "cell_type": "code",
      "source": [
        "\n",
        "from sklearn.ensemble import RandomForestClassifier\n",
        "rf_default = RandomForestClassifier()\n",
        "rf_default.fit(X_train, y_train)\n",
        "y_pred_val=rf_default.predict(X_val)\n",
        "\n",
        "\n",
        "from sklearn.metrics import classification_report, confusion_matrix, accuracy_score\n",
        "print(confusion_matrix(y_val, y_pred_val))\n",
        "print(classification_report(y_val,y_pred_val))\n",
        "print(\"Accurecy: \",accuracy_score(y_val, y_pred_val))"
      ],
      "metadata": {
        "id": "xCPW0yapKfEG",
        "outputId": "d3d5f5a5-d813-40a7-bb2d-214e9d3152d0",
        "colab": {
          "base_uri": "https://localhost:8080/"
        }
      },
      "execution_count": null,
      "outputs": [
        {
          "output_type": "stream",
          "name": "stdout",
          "text": [
            "[[5741  254]\n",
            " [ 367 5615]]\n",
            "              precision    recall  f1-score   support\n",
            "\n",
            "           0       0.94      0.96      0.95      5995\n",
            "           1       0.96      0.94      0.95      5982\n",
            "\n",
            "    accuracy                           0.95     11977\n",
            "   macro avg       0.95      0.95      0.95     11977\n",
            "weighted avg       0.95      0.95      0.95     11977\n",
            "\n",
            "Accurecy:  0.948150622025549\n"
          ]
        }
      ]
    },
    {
      "cell_type": "markdown",
      "source": [
        "###Tunning `n_estimators` (done)"
      ],
      "metadata": {
        "id": "0F5Fczf6HpuH"
      }
    },
    {
      "cell_type": "code",
      "source": [
        "from sklearn.ensemble import RandomForestClassifier\n",
        "from sklearn.metrics import accuracy_score\n",
        "N=150\n",
        "k_range = range (1,N+1)\n",
        "scores={}\n",
        "scores_list = []\n",
        "scores_list_train = []\n",
        "for k in k_range:\n",
        "  classifier = RandomForestClassifier(n_estimators=k,random_state=0)\n",
        "  classifier.fit(X_train, y_train)\n",
        "\n",
        "\n",
        "  y_pred=classifier.predict(X_val)\n",
        "  val_accu = accuracy_score(y_val,y_pred)\n",
        "  scores[k] = val_accu\n",
        "  scores_list.append(val_accu)\n",
        "\n",
        "  y_pred=classifier.predict(X_train)\n",
        "  train_accu = accuracy_score(y_train,y_pred)\n",
        "  scores_list_train.append(train_accu)\n",
        "\n",
        "  print(str(k)+\"/\"+str(N)+\" round completed......................... Val Accuracy: \"+str(val_accu),\" >>>>>>> Train Accuracy: \"+str(train_accu))\n",
        "\n",
        "\n",
        "\n",
        "%matplotlib inline\n",
        "import matplotlib.pyplot as plt\n",
        "\n",
        "plt.figure(figsize = (25,10))\n",
        "plt.plot(k_range,scores_list)\n",
        "plt.plot(k_range,scores_list_train)\n",
        "plt.xlabel('Value of n_estimators')\n",
        "plt.ylabel ('Testing Accuracy')\n",
        "plt.legend([\"Testing Accuracy\", \"Testing Accuracy\"], loc=0, frameon=True)\n",
        "\n",
        "\n",
        "print(\"The best n_estimators:\")\n",
        "best_estimator=list(scores.keys())[scores_list.index(max(scores_list))]\n",
        "print(best_estimator)"
      ],
      "metadata": {
        "colab": {
          "base_uri": "https://localhost:8080/"
        },
        "id": "EX3Q5DCXF4pG",
        "outputId": "75f81cc5-7a24-4b11-e1d7-2e2dd4377c4a"
      },
      "execution_count": null,
      "outputs": [
        {
          "output_type": "stream",
          "name": "stdout",
          "text": [
            "1/150 round completed......................... Val Accuracy: 0.9151707439258578  >>>>>>> Train Accuracy: 0.9661120057255322\n",
            "2/150 round completed......................... Val Accuracy: 0.92126575937213  >>>>>>> Train Accuracy: 0.9685632492395777\n",
            "3/150 round completed......................... Val Accuracy: 0.9368790181180596  >>>>>>> Train Accuracy: 0.9876006441223832\n",
            "4/150 round completed......................... Val Accuracy: 0.9387993654504467  >>>>>>> Train Accuracy: 0.9867418142780462\n",
            "5/150 round completed......................... Val Accuracy: 0.9420556065792769  >>>>>>> Train Accuracy: 0.9933977455716586\n",
            "6/150 round completed......................... Val Accuracy: 0.9434749937379978  >>>>>>> Train Accuracy: 0.9923599928430846\n",
            "7/150 round completed......................... Val Accuracy: 0.9442264339984971  >>>>>>> Train Accuracy: 0.9961531579889068\n",
            "8/150 round completed......................... Val Accuracy: 0.9453953410703849  >>>>>>> Train Accuracy: 0.9952406512792986\n",
            "9/150 round completed......................... Val Accuracy: 0.9463137680554395  >>>>>>> Train Accuracy: 0.9973161567364466\n",
            "10/150 round completed......................... Val Accuracy: 0.9457293145194957  >>>>>>> Train Accuracy: 0.9965110037573806\n",
            "11/150 round completed......................... Val Accuracy: 0.9452283543458295  >>>>>>> Train Accuracy: 0.9977813562354625\n",
            "12/150 round completed......................... Val Accuracy: 0.9465642481422727  >>>>>>> Train Accuracy: 0.9973340490248703\n",
            "13/150 round completed......................... Val Accuracy: 0.948150622025549  >>>>>>> Train Accuracy: 0.998210771157631\n",
            "14/150 round completed......................... Val Accuracy: 0.9476496618518828  >>>>>>> Train Accuracy: 0.9979960636965468\n",
            "15/150 round completed......................... Val Accuracy: 0.9484845954746598  >>>>>>> Train Accuracy: 0.9988906781177312\n",
            "16/150 round completed......................... Val Accuracy: 0.9473991817650497  >>>>>>> Train Accuracy: 0.9986044015029523\n",
            "17/150 round completed......................... Val Accuracy: 0.9472321950404943  >>>>>>> Train Accuracy: 0.9991232778672392\n",
            "18/150 round completed......................... Val Accuracy: 0.9467312348668281  >>>>>>> Train Accuracy: 0.9988012166756128\n",
            "19/150 round completed......................... Val Accuracy: 0.9480671286632713  >>>>>>> Train Accuracy: 0.9994632313472893\n",
            "20/150 round completed......................... Val Accuracy: 0.9479836353009936  >>>>>>> Train Accuracy: 0.9991232778672392\n",
            "21/150 round completed......................... Val Accuracy: 0.9476496618518828  >>>>>>> Train Accuracy: 0.9994453390588657\n",
            "22/150 round completed......................... Val Accuracy: 0.947315688402772  >>>>>>> Train Accuracy: 0.999194847020934\n",
            "23/150 round completed......................... Val Accuracy: 0.9469817149536612  >>>>>>> Train Accuracy: 0.9995884773662551\n",
            "24/150 round completed......................... Val Accuracy: 0.948401102112382  >>>>>>> Train Accuracy: 0.9994453390588657\n",
            "25/150 round completed......................... Val Accuracy: 0.948985555648326  >>>>>>> Train Accuracy: 0.9996779388083736\n",
            "26/150 round completed......................... Val Accuracy: 0.9482341153878266  >>>>>>> Train Accuracy: 0.9996242619431025\n",
            "27/150 round completed......................... Val Accuracy: 0.9490690490106036  >>>>>>> Train Accuracy: 0.9997852925389157\n",
            "28/150 round completed......................... Val Accuracy: 0.9488185689237706  >>>>>>> Train Accuracy: 0.9996600465199499\n",
            "29/150 round completed......................... Val Accuracy: 0.9493195290974368  >>>>>>> Train Accuracy: 0.9998568616926105\n",
            "30/150 round completed......................... Val Accuracy: 0.9489020622860482  >>>>>>> Train Accuracy: 0.999767400250492\n",
            "31/150 round completed......................... Val Accuracy: 0.949236035735159  >>>>>>> Train Accuracy: 0.9998568616926105\n",
            "32/150 round completed......................... Val Accuracy: 0.9493195290974368  >>>>>>> Train Accuracy: 0.9998031848273394\n",
            "33/150 round completed......................... Val Accuracy: 0.9496535025465476  >>>>>>> Train Accuracy: 0.9998747539810342\n",
            "34/150 round completed......................... Val Accuracy: 0.950070969357936  >>>>>>> Train Accuracy: 0.9998389694041868\n",
            "35/150 round completed......................... Val Accuracy: 0.949820489271103  >>>>>>> Train Accuracy: 0.9998568616926105\n",
            "36/150 round completed......................... Val Accuracy: 0.9504049428070468  >>>>>>> Train Accuracy: 0.9998747539810342\n",
            "37/150 round completed......................... Val Accuracy: 0.9499039826333806  >>>>>>> Train Accuracy: 0.9998926462694578\n",
            "38/150 round completed......................... Val Accuracy: 0.9503214494447692  >>>>>>> Train Accuracy: 0.9998747539810342\n",
            "39/150 round completed......................... Val Accuracy: 0.9509893963429907  >>>>>>> Train Accuracy: 0.9999284308463052\n",
            "40/150 round completed......................... Val Accuracy: 0.9503214494447692  >>>>>>> Train Accuracy: 0.9998926462694578\n",
            "41/150 round completed......................... Val Accuracy: 0.9497369959088252  >>>>>>> Train Accuracy: 0.9999284308463052\n",
            "42/150 round completed......................... Val Accuracy: 0.9494030224597144  >>>>>>> Train Accuracy: 0.9999105385578816\n",
            "43/150 round completed......................... Val Accuracy: 0.949820489271103  >>>>>>> Train Accuracy: 0.999946323134729\n",
            "44/150 round completed......................... Val Accuracy: 0.9495700091842698  >>>>>>> Train Accuracy: 0.9999284308463052\n",
            "45/150 round completed......................... Val Accuracy: 0.9494865158219922  >>>>>>> Train Accuracy: 0.999946323134729\n",
            "46/150 round completed......................... Val Accuracy: 0.9496535025465476  >>>>>>> Train Accuracy: 0.9999284308463052\n",
            "47/150 round completed......................... Val Accuracy: 0.9503214494447692  >>>>>>> Train Accuracy: 0.999946323134729\n",
            "48/150 round completed......................... Val Accuracy: 0.9504049428070468  >>>>>>> Train Accuracy: 0.999946323134729\n",
            "49/150 round completed......................... Val Accuracy: 0.9502379560824914  >>>>>>> Train Accuracy: 0.999946323134729\n",
            "50/150 round completed......................... Val Accuracy: 0.950070969357936  >>>>>>> Train Accuracy: 0.999946323134729\n",
            "51/150 round completed......................... Val Accuracy: 0.9494865158219922  >>>>>>> Train Accuracy: 0.9999642154231526\n",
            "52/150 round completed......................... Val Accuracy: 0.949820489271103  >>>>>>> Train Accuracy: 0.9999642154231526\n",
            "53/150 round completed......................... Val Accuracy: 0.950070969357936  >>>>>>> Train Accuracy: 0.9999642154231526\n",
            "54/150 round completed......................... Val Accuracy: 0.9497369959088252  >>>>>>> Train Accuracy: 0.9999284308463052\n",
            "55/150 round completed......................... Val Accuracy: 0.9493195290974368  >>>>>>> Train Accuracy: 0.9999821077115764\n",
            "56/150 round completed......................... Val Accuracy: 0.9493195290974368  >>>>>>> Train Accuracy: 0.999946323134729\n",
            "57/150 round completed......................... Val Accuracy: 0.9494030224597144  >>>>>>> Train Accuracy: 0.9999642154231526\n",
            "58/150 round completed......................... Val Accuracy: 0.9488185689237706  >>>>>>> Train Accuracy: 0.999946323134729\n",
            "59/150 round completed......................... Val Accuracy: 0.9493195290974368  >>>>>>> Train Accuracy: 0.9999642154231526\n",
            "60/150 round completed......................... Val Accuracy: 0.948985555648326  >>>>>>> Train Accuracy: 0.9999642154231526\n",
            "61/150 round completed......................... Val Accuracy: 0.9493195290974368  >>>>>>> Train Accuracy: 0.9999642154231526\n",
            "62/150 round completed......................... Val Accuracy: 0.949820489271103  >>>>>>> Train Accuracy: 0.999946323134729\n",
            "63/150 round completed......................... Val Accuracy: 0.949820489271103  >>>>>>> Train Accuracy: 0.9999642154231526\n",
            "64/150 round completed......................... Val Accuracy: 0.9497369959088252  >>>>>>> Train Accuracy: 0.9999642154231526\n",
            "65/150 round completed......................... Val Accuracy: 0.9494030224597144  >>>>>>> Train Accuracy: 0.9999642154231526\n",
            "66/150 round completed......................... Val Accuracy: 0.9499039826333806  >>>>>>> Train Accuracy: 0.999946323134729\n",
            "67/150 round completed......................... Val Accuracy: 0.9493195290974368  >>>>>>> Train Accuracy: 0.9999821077115764\n",
            "68/150 round completed......................... Val Accuracy: 0.9502379560824914  >>>>>>> Train Accuracy: 0.999946323134729\n",
            "69/150 round completed......................... Val Accuracy: 0.949236035735159  >>>>>>> Train Accuracy: 0.9999821077115764\n",
            "70/150 round completed......................... Val Accuracy: 0.9499874759956584  >>>>>>> Train Accuracy: 0.9999642154231526\n",
            "71/150 round completed......................... Val Accuracy: 0.9487350755614928  >>>>>>> Train Accuracy: 0.9999821077115764\n",
            "72/150 round completed......................... Val Accuracy: 0.9495700091842698  >>>>>>> Train Accuracy: 0.9999821077115764\n",
            "73/150 round completed......................... Val Accuracy: 0.949820489271103  >>>>>>> Train Accuracy: 1.0\n",
            "74/150 round completed......................... Val Accuracy: 0.950070969357936  >>>>>>> Train Accuracy: 0.9999821077115764\n",
            "75/150 round completed......................... Val Accuracy: 0.9496535025465476  >>>>>>> Train Accuracy: 1.0\n",
            "76/150 round completed......................... Val Accuracy: 0.9494865158219922  >>>>>>> Train Accuracy: 0.9999821077115764\n",
            "77/150 round completed......................... Val Accuracy: 0.9496535025465476  >>>>>>> Train Accuracy: 0.9999821077115764\n",
            "78/150 round completed......................... Val Accuracy: 0.9496535025465476  >>>>>>> Train Accuracy: 0.9999821077115764\n",
            "79/150 round completed......................... Val Accuracy: 0.9494865158219922  >>>>>>> Train Accuracy: 0.9999821077115764\n",
            "80/150 round completed......................... Val Accuracy: 0.9494865158219922  >>>>>>> Train Accuracy: 0.9999821077115764\n",
            "81/150 round completed......................... Val Accuracy: 0.9499874759956584  >>>>>>> Train Accuracy: 0.9999821077115764\n",
            "82/150 round completed......................... Val Accuracy: 0.949820489271103  >>>>>>> Train Accuracy: 0.9999821077115764\n",
            "83/150 round completed......................... Val Accuracy: 0.9497369959088252  >>>>>>> Train Accuracy: 1.0\n",
            "84/150 round completed......................... Val Accuracy: 0.9502379560824914  >>>>>>> Train Accuracy: 1.0\n",
            "85/150 round completed......................... Val Accuracy: 0.950070969357936  >>>>>>> Train Accuracy: 1.0\n",
            "86/150 round completed......................... Val Accuracy: 0.9501544627202138  >>>>>>> Train Accuracy: 1.0\n",
            "87/150 round completed......................... Val Accuracy: 0.9499039826333806  >>>>>>> Train Accuracy: 1.0\n",
            "88/150 round completed......................... Val Accuracy: 0.9496535025465476  >>>>>>> Train Accuracy: 1.0\n",
            "89/150 round completed......................... Val Accuracy: 0.9499039826333806  >>>>>>> Train Accuracy: 1.0\n",
            "90/150 round completed......................... Val Accuracy: 0.9499039826333806  >>>>>>> Train Accuracy: 1.0\n",
            "91/150 round completed......................... Val Accuracy: 0.949820489271103  >>>>>>> Train Accuracy: 1.0\n",
            "92/150 round completed......................... Val Accuracy: 0.9497369959088252  >>>>>>> Train Accuracy: 1.0\n",
            "93/150 round completed......................... Val Accuracy: 0.9494030224597144  >>>>>>> Train Accuracy: 1.0\n",
            "94/150 round completed......................... Val Accuracy: 0.9499039826333806  >>>>>>> Train Accuracy: 1.0\n",
            "95/150 round completed......................... Val Accuracy: 0.949820489271103  >>>>>>> Train Accuracy: 1.0\n",
            "96/150 round completed......................... Val Accuracy: 0.9503214494447692  >>>>>>> Train Accuracy: 1.0\n",
            "97/150 round completed......................... Val Accuracy: 0.949820489271103  >>>>>>> Train Accuracy: 1.0\n",
            "98/150 round completed......................... Val Accuracy: 0.9495700091842698  >>>>>>> Train Accuracy: 1.0\n",
            "99/150 round completed......................... Val Accuracy: 0.9495700091842698  >>>>>>> Train Accuracy: 1.0\n",
            "100/150 round completed......................... Val Accuracy: 0.949820489271103  >>>>>>> Train Accuracy: 1.0\n",
            "101/150 round completed......................... Val Accuracy: 0.9494865158219922  >>>>>>> Train Accuracy: 1.0\n",
            "102/150 round completed......................... Val Accuracy: 0.9494865158219922  >>>>>>> Train Accuracy: 1.0\n",
            "103/150 round completed......................... Val Accuracy: 0.9494030224597144  >>>>>>> Train Accuracy: 1.0\n",
            "104/150 round completed......................... Val Accuracy: 0.9496535025465476  >>>>>>> Train Accuracy: 1.0\n",
            "105/150 round completed......................... Val Accuracy: 0.949820489271103  >>>>>>> Train Accuracy: 1.0\n",
            "106/150 round completed......................... Val Accuracy: 0.9494030224597144  >>>>>>> Train Accuracy: 1.0\n",
            "107/150 round completed......................... Val Accuracy: 0.948985555648326  >>>>>>> Train Accuracy: 1.0\n",
            "108/150 round completed......................... Val Accuracy: 0.9491525423728814  >>>>>>> Train Accuracy: 1.0\n",
            "109/150 round completed......................... Val Accuracy: 0.9489020622860482  >>>>>>> Train Accuracy: 1.0\n",
            "110/150 round completed......................... Val Accuracy: 0.9489020622860482  >>>>>>> Train Accuracy: 1.0\n",
            "111/150 round completed......................... Val Accuracy: 0.9484845954746598  >>>>>>> Train Accuracy: 1.0\n",
            "112/150 round completed......................... Val Accuracy: 0.9486515821992152  >>>>>>> Train Accuracy: 1.0\n",
            "113/150 round completed......................... Val Accuracy: 0.9485680888369374  >>>>>>> Train Accuracy: 1.0\n",
            "114/150 round completed......................... Val Accuracy: 0.9487350755614928  >>>>>>> Train Accuracy: 1.0\n",
            "115/150 round completed......................... Val Accuracy: 0.9484845954746598  >>>>>>> Train Accuracy: 1.0\n",
            "116/150 round completed......................... Val Accuracy: 0.9487350755614928  >>>>>>> Train Accuracy: 1.0\n",
            "117/150 round completed......................... Val Accuracy: 0.9485680888369374  >>>>>>> Train Accuracy: 1.0\n",
            "118/150 round completed......................... Val Accuracy: 0.9487350755614928  >>>>>>> Train Accuracy: 1.0\n",
            "119/150 round completed......................... Val Accuracy: 0.9485680888369374  >>>>>>> Train Accuracy: 1.0\n",
            "120/150 round completed......................... Val Accuracy: 0.9482341153878266  >>>>>>> Train Accuracy: 1.0\n",
            "121/150 round completed......................... Val Accuracy: 0.9485680888369374  >>>>>>> Train Accuracy: 1.0\n",
            "122/150 round completed......................... Val Accuracy: 0.9487350755614928  >>>>>>> Train Accuracy: 1.0\n",
            "123/150 round completed......................... Val Accuracy: 0.948150622025549  >>>>>>> Train Accuracy: 1.0\n",
            "124/150 round completed......................... Val Accuracy: 0.9489020622860482  >>>>>>> Train Accuracy: 1.0\n",
            "125/150 round completed......................... Val Accuracy: 0.9480671286632713  >>>>>>> Train Accuracy: 1.0\n",
            "126/150 round completed......................... Val Accuracy: 0.9482341153878266  >>>>>>> Train Accuracy: 1.0\n",
            "127/150 round completed......................... Val Accuracy: 0.9483176087501044  >>>>>>> Train Accuracy: 1.0\n",
            "128/150 round completed......................... Val Accuracy: 0.9482341153878266  >>>>>>> Train Accuracy: 1.0\n",
            "129/150 round completed......................... Val Accuracy: 0.9484845954746598  >>>>>>> Train Accuracy: 1.0\n",
            "130/150 round completed......................... Val Accuracy: 0.9485680888369374  >>>>>>> Train Accuracy: 1.0\n",
            "131/150 round completed......................... Val Accuracy: 0.9486515821992152  >>>>>>> Train Accuracy: 1.0\n",
            "132/150 round completed......................... Val Accuracy: 0.9489020622860482  >>>>>>> Train Accuracy: 1.0\n",
            "133/150 round completed......................... Val Accuracy: 0.948401102112382  >>>>>>> Train Accuracy: 1.0\n",
            "134/150 round completed......................... Val Accuracy: 0.9485680888369374  >>>>>>> Train Accuracy: 1.0\n",
            "135/150 round completed......................... Val Accuracy: 0.948401102112382  >>>>>>> Train Accuracy: 1.0\n",
            "136/150 round completed......................... Val Accuracy: 0.9487350755614928  >>>>>>> Train Accuracy: 1.0\n",
            "137/150 round completed......................... Val Accuracy: 0.9485680888369374  >>>>>>> Train Accuracy: 1.0\n",
            "138/150 round completed......................... Val Accuracy: 0.948985555648326  >>>>>>> Train Accuracy: 1.0\n",
            "139/150 round completed......................... Val Accuracy: 0.9488185689237706  >>>>>>> Train Accuracy: 1.0\n",
            "140/150 round completed......................... Val Accuracy: 0.9489020622860482  >>>>>>> Train Accuracy: 1.0\n",
            "141/150 round completed......................... Val Accuracy: 0.9488185689237706  >>>>>>> Train Accuracy: 1.0\n"
          ]
        }
      ]
    },
    {
      "cell_type": "markdown",
      "source": [
        "###Tunning `max_depth`(done)"
      ],
      "metadata": {
        "id": "bgqY-M6LHuIh"
      }
    },
    {
      "cell_type": "code",
      "source": [
        "from sklearn.ensemble import RandomForestClassifier\n",
        "from sklearn.metrics import accuracy_score\n",
        "N=30\n",
        "k_range = range (1,N+1)\n",
        "scores={}\n",
        "scores_list = []\n",
        "scores_list_train = []\n",
        "for k in k_range:\n",
        "  classifier = RandomForestClassifier(max_depth=k,random_state=0)\n",
        "  classifier.fit(X_train, y_train)\n",
        "\n",
        "  y_pred=classifier.predict(X_val)\n",
        "  val_accu = accuracy_score(y_val,y_pred)\n",
        "  scores[k] = val_accu\n",
        "  scores_list.append(val_accu)\n",
        "\n",
        "  y_pred=classifier.predict(X_train)\n",
        "  train_accu = accuracy_score(y_train,y_pred)\n",
        "  scores_list_train.append(train_accu)\n",
        "\n",
        "\n",
        "  print(str(k)+\"/\"+str(N)+\" round completed......................... Val Accuracy: \"+str(val_accu),\" >>>>>>> Train Accuracy: \"+str(train_accu))\n",
        "\n",
        "\n",
        "\n",
        "%matplotlib inline\n",
        "import matplotlib.pyplot as plt\n",
        "\n",
        "plt.figure(figsize = (25,10))\n",
        "plt.plot(k_range,scores_list)\n",
        "plt.plot(k_range,scores_list_train)\n",
        "plt.xlabel('Value of n_estimators')\n",
        "plt.ylabel ('Testing Accuracy')\n",
        "plt.legend([\"Testing Accuracy\", \"Testing Accuracy\"], loc=0, frameon=True)\n",
        "\n",
        "\n",
        "print(\"The best Depth:\")\n",
        "best_depth=list(scores.keys())[scores_list.index(max(scores_list))]\n",
        "print(best_depth)"
      ],
      "metadata": {
        "id": "ajRZh3XNF4fn"
      },
      "execution_count": null,
      "outputs": []
    },
    {
      "cell_type": "code",
      "source": [
        "\n",
        "rf_estimator = RandomForestClassifier(n_estimators=best_estimator,random_state=0)\n",
        "rf_estimator.fit(X_train, y_train)\n",
        "y_pred=rf_estimator.predict(X_test)\n",
        "print(\"Accurecy: \",accuracy_score(y_test, y_pred))"
      ],
      "metadata": {
        "id": "JC_JXNeX2SxG"
      },
      "execution_count": null,
      "outputs": []
    },
    {
      "cell_type": "code",
      "source": [
        "\n",
        "rf_depth = RandomForestClassifier(max_depth=best_depth,random_state=0)\n",
        "rf_depth.fit(X_train, y_train)\n",
        "y_pred=rf_depth.predict(X_test)\n",
        "print(\"Accurecy: \",accuracy_score(y_test, y_pred))"
      ],
      "metadata": {
        "id": "tNdJry3o2Sn6"
      },
      "execution_count": null,
      "outputs": []
    },
    {
      "cell_type": "code",
      "source": [
        "\n",
        "rf_all = RandomForestClassifier(n_estimators=best_estimator,max_depth=best_depth,random_state=0)\n",
        "rf_all.fit(X_train, y_train)\n",
        "y_pred=rf_all.predict(X_test)\n",
        "print(\"Accurecy: \",accuracy_score(y_test, y_pred))"
      ],
      "metadata": {
        "id": "lAYejEMi2Sfm"
      },
      "execution_count": null,
      "outputs": []
    },
    {
      "cell_type": "markdown",
      "source": [
        "###Evaluation metrics, Confusion Matrix and ROC Curve For best model\n"
      ],
      "metadata": {
        "id": "JhncRQWx89Eb"
      }
    },
    {
      "cell_type": "code",
      "source": [
        "\n",
        "best_ =\n",
        "\n",
        "print(classification_report(y_test,y_pred))"
      ],
      "metadata": {
        "id": "M3qg8Scd8kkx"
      },
      "execution_count": null,
      "outputs": []
    },
    {
      "cell_type": "code",
      "source": [
        "cm = confusion_matrix(y_test,y_pred)\n",
        "plt.figure(figsize = (8,4))\n",
        "sn.heatmap(cm, annot=True, fmt='d')\n",
        "plt.xlabel('Predicted',fontsize=14.0, fontweight='bold')\n",
        "plt.ylabel('Truth',fontsize=12.0, fontweight='bold')"
      ],
      "metadata": {
        "id": "pE3TcWD8859T"
      },
      "execution_count": null,
      "outputs": []
    },
    {
      "cell_type": "code",
      "source": [
        "ploty_ROC(ada_defult,X_test,y_test,graph_attributes)"
      ],
      "metadata": {
        "id": "TbAWEDmh87lj"
      },
      "execution_count": null,
      "outputs": []
    },
    {
      "cell_type": "code",
      "source": [],
      "metadata": {
        "id": "VLFjgpiyJ5rk"
      },
      "execution_count": null,
      "outputs": []
    },
    {
      "cell_type": "code",
      "source": [],
      "metadata": {
        "id": "ZqqKWceSJ5oS"
      },
      "execution_count": null,
      "outputs": []
    }
  ]
}