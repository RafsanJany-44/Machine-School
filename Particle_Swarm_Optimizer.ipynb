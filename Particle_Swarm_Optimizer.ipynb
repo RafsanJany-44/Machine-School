{
  "nbformat": 4,
  "nbformat_minor": 0,
  "metadata": {
    "colab": {
      "provenance": [],
      "authorship_tag": "ABX9TyNKAADXQnjSjoVX1aZsIa3l",
      "include_colab_link": true
    },
    "kernelspec": {
      "name": "python3",
      "display_name": "Python 3"
    },
    "language_info": {
      "name": "python"
    }
  },
  "cells": [
    {
      "cell_type": "markdown",
      "metadata": {
        "id": "view-in-github",
        "colab_type": "text"
      },
      "source": [
        "<a href=\"https://colab.research.google.com/github/RafsanJany-44/Machine-School/blob/main/Particle_Swarm_Optimizer.ipynb\" target=\"_parent\"><img src=\"https://colab.research.google.com/assets/colab-badge.svg\" alt=\"Open In Colab\"/></a>"
      ]
    },
    {
      "cell_type": "code",
      "execution_count": 10,
      "metadata": {
        "colab": {
          "base_uri": "https://localhost:8080/",
          "height": 36
        },
        "id": "oZtAzGGcCQbD",
        "outputId": "90d3d93f-b568-4ac7-abf6-4eedd434d45d"
      },
      "outputs": [
        {
          "output_type": "execute_result",
          "data": {
            "text/plain": [
              "\"from google.colab import drive\\ndrive.mount('/content/drive')\""
            ],
            "application/vnd.google.colaboratory.intrinsic+json": {
              "type": "string"
            }
          },
          "metadata": {},
          "execution_count": 10
        }
      ],
      "source": [
        "\"\"\"from google.colab import drive\n",
        "drive.mount('/content/drive')\"\"\""
      ]
    },
    {
      "cell_type": "code",
      "source": [
        "from sklearn.datasets import load_breast_cancer"
      ],
      "metadata": {
        "id": "mjA93tAJUpev"
      },
      "execution_count": 11,
      "outputs": []
    },
    {
      "cell_type": "code",
      "source": [
        "dataset = load_breast_cancer()\n",
        "X = dataset.data\n",
        "y = dataset.target\n",
        "feature_names = dataset.feature_names"
      ],
      "metadata": {
        "id": "LUMfZgKYUpBE"
      },
      "execution_count": 12,
      "outputs": []
    },
    {
      "cell_type": "code",
      "source": [
        "dataset.feature_names"
      ],
      "metadata": {
        "colab": {
          "base_uri": "https://localhost:8080/"
        },
        "id": "mPtXUE8iUvPE",
        "outputId": "d82320ed-e6d2-4b9b-8532-1bf9034bbcf7"
      },
      "execution_count": 13,
      "outputs": [
        {
          "output_type": "execute_result",
          "data": {
            "text/plain": [
              "array(['mean radius', 'mean texture', 'mean perimeter', 'mean area',\n",
              "       'mean smoothness', 'mean compactness', 'mean concavity',\n",
              "       'mean concave points', 'mean symmetry', 'mean fractal dimension',\n",
              "       'radius error', 'texture error', 'perimeter error', 'area error',\n",
              "       'smoothness error', 'compactness error', 'concavity error',\n",
              "       'concave points error', 'symmetry error',\n",
              "       'fractal dimension error', 'worst radius', 'worst texture',\n",
              "       'worst perimeter', 'worst area', 'worst smoothness',\n",
              "       'worst compactness', 'worst concavity', 'worst concave points',\n",
              "       'worst symmetry', 'worst fractal dimension'], dtype='<U23')"
            ]
          },
          "metadata": {},
          "execution_count": 13
        }
      ]
    },
    {
      "cell_type": "code",
      "source": [
        "!pip install imbalanced-learn\n",
        "\n",
        "from imblearn.over_sampling import SMOTE\n",
        "\n",
        "def balance(X_temp, y_temp):\n",
        "  smote = SMOTE()\n",
        "  X_temp, y_temp= smote.fit_resample(X_temp, y_temp)\n",
        "  return pd.concat([pd.DataFrame(X_temp), pd.DataFrame(y_temp)], axis=1)\n",
        "\n",
        "\n",
        "\n",
        "def models_check_box(models):\n",
        "  import ipywidgets as widgets\n",
        "  from IPython.display import display\n",
        "  new_keys=[]\n",
        "  for i in models:\n",
        "    i=widgets.Checkbox(\n",
        "      value=False,\n",
        "      description=str(i),\n",
        "      disabled=False,\n",
        "      indent=False\n",
        "      )\n",
        "    display(i)\n",
        "    new_keys.append(i)\n",
        "  return new_keys"
      ],
      "metadata": {
        "colab": {
          "base_uri": "https://localhost:8080/"
        },
        "id": "ZXOo0o5FCYir",
        "outputId": "0cbdfde7-fee5-4775-f813-52895c24bd85"
      },
      "execution_count": 14,
      "outputs": [
        {
          "output_type": "stream",
          "name": "stdout",
          "text": [
            "Requirement already satisfied: imbalanced-learn in /usr/local/lib/python3.10/dist-packages (0.10.1)\n",
            "Requirement already satisfied: numpy>=1.17.3 in /usr/local/lib/python3.10/dist-packages (from imbalanced-learn) (1.22.4)\n",
            "Requirement already satisfied: scipy>=1.3.2 in /usr/local/lib/python3.10/dist-packages (from imbalanced-learn) (1.10.1)\n",
            "Requirement already satisfied: scikit-learn>=1.0.2 in /usr/local/lib/python3.10/dist-packages (from imbalanced-learn) (1.2.2)\n",
            "Requirement already satisfied: joblib>=1.1.1 in /usr/local/lib/python3.10/dist-packages (from imbalanced-learn) (1.2.0)\n",
            "Requirement already satisfied: threadpoolctl>=2.0.0 in /usr/local/lib/python3.10/dist-packages (from imbalanced-learn) (3.1.0)\n"
          ]
        }
      ]
    },
    {
      "cell_type": "code",
      "source": [
        "import numpy as np\n",
        "import pandas as pd\n",
        "#dataset=pd.read_csv(\"/content/drive/MyDrive/Sleep Stage XAI/EEG_HMC_FeatureExtraction_2023.01.19.csv\")\n",
        "#dataset=pd.read_excel(\"/content/EEG_CNU_Control_Resting, walking, working and Reading_2023.01.07.xlsx\")\n",
        "\n",
        "#dataset=pd.read_csv(\"/content/drive/MyDrive/Cornell/MADE Lab/Wearable Project/Data/Fitbit ML/Feature merge/Fitbit_feature_merged_version_2023.06.26_ST-II&ST-V_Pre.csv\")\n",
        "\n",
        "dataset = pd.read_csv(\"/content/Fitbit_feature_merged_version_2023.06.26_ST-II&ST-V_Pre.csv\")\n",
        "\n",
        "target = \"Activity\"\n",
        "result = {}"
      ],
      "metadata": {
        "id": "yD6mZGXdCadB"
      },
      "execution_count": 15,
      "outputs": []
    },
    {
      "cell_type": "code",
      "source": [
        "dataset.dropna(axis=0, how='any', inplace = True)\n",
        "dataset = dataset.reset_index(drop=True)"
      ],
      "metadata": {
        "id": "_Y_szhbxCeNl"
      },
      "execution_count": 16,
      "outputs": []
    },
    {
      "cell_type": "code",
      "source": [
        "from sklearn.preprocessing import LabelEncoder\n",
        "encoder=LabelEncoder()\n",
        "dataset[target]=encoder.fit_transform(dataset[target])"
      ],
      "metadata": {
        "id": "u7Z0znGSCerv"
      },
      "execution_count": 17,
      "outputs": []
    },
    {
      "cell_type": "code",
      "source": [
        "X = dataset.iloc[:,11:]\n",
        "\n",
        "y = dataset[target]\n",
        "\n",
        "X.head(10)\n"
      ],
      "metadata": {
        "colab": {
          "base_uri": "https://localhost:8080/",
          "height": 456
        },
        "id": "UrakjlksChoz",
        "outputId": "0fba25e8-2d4b-45ed-a02f-cb45992a3aa1"
      },
      "execution_count": 18,
      "outputs": [
        {
          "output_type": "execute_result",
          "data": {
            "text/plain": [
              "   nni_counter    nni_mean  nni_min  nni_max    hr_mean     hr_min  \\\n",
              "0           65  779.015385      740      810  77.047607  74.074074   \n",
              "1           65  703.938462      666      740  85.275756  81.081081   \n",
              "2           66  774.393939      731      833  77.537793  72.028812   \n",
              "3           77  762.038961      697      821  78.878037  73.081608   \n",
              "4           72  688.861111      652      731  87.146588  82.079343   \n",
              "5           72  735.500000      697      800  81.660141  75.000000   \n",
              "6           66  743.106061      681      789  80.820900  76.045627   \n",
              "7           72  642.000000      612      674  93.517353  89.020772   \n",
              "8           72  655.638889      582      697  91.598758  86.083214   \n",
              "9           75  681.346667      618      714  88.188794  84.033613   \n",
              "\n",
              "       hr_max    hr_std  nni_diff_mean  nni_diff_min  ...  ar_norm_high  \\\n",
              "0   81.081081  1.459607       6.078125             0  ...     64.958716   \n",
              "1   90.090090  1.890121       7.453125             0  ...     64.912631   \n",
              "2   82.079343  2.133033       9.107692             0  ...     64.862213   \n",
              "3   86.083214  3.387898      10.381579             0  ...     65.007546   \n",
              "4   92.024540  2.014072       7.098592             0  ...     64.868522   \n",
              "5   86.083214  2.589556       7.929577             0  ...     64.795921   \n",
              "6   88.105727  2.573095       6.615385             0  ...     64.784223   \n",
              "7   98.039216  2.372689       5.971831             0  ...     64.778278   \n",
              "8  103.092783  2.891687       6.211268             0  ...     65.099660   \n",
              "9   97.087379  3.439274       7.148649             0  ...     64.914935   \n",
              "\n",
              "   ar_ratio     ar_total       sd1        sd2  sd_ratio  ellipse_area  \\\n",
              "0  0.539439  19105.45764  6.012997  19.842689  3.299967    374.836049   \n",
              "1  0.540532  18856.43483  6.145682  21.024745  3.421060    405.929592   \n",
              "2  0.541730  19039.04728  8.357614  28.930985  3.461632    759.618229   \n",
              "3  0.538283  18767.08842  9.978556  44.186165  4.428112   1385.172625   \n",
              "4  0.541580  18800.46155  6.527922  21.178959  3.244365    434.339619   \n",
              "5  0.543307  18778.69359  7.778589  32.874130  4.226233    803.350301   \n",
              "6  0.543586  18906.56635  6.443601  31.820584  4.938323    644.149531   \n",
              "7  0.543727  18563.27065  5.375892  21.911972  4.075969    370.068303   \n",
              "8  0.536106  18641.14134  7.500777  26.517596  3.535313    624.870861   \n",
              "9  0.540478  18613.09652  6.361041  35.605096  5.597370    711.525070   \n",
              "\n",
              "     sampen  dfa_alpha1  dfa_alpha2  \n",
              "0  1.022451    1.470755    0.573684  \n",
              "1  1.240787    1.234339    1.042289  \n",
              "2  1.043804    1.534029    1.049467  \n",
              "3  1.504077    1.542662    0.948630  \n",
              "4  1.376244    1.358871    0.791963  \n",
              "5  1.712979    1.579461    0.753810  \n",
              "6  1.029619    1.548781    0.602646  \n",
              "7  1.252763    1.407493   -0.192170  \n",
              "8  1.134980    1.640218    0.796802  \n",
              "9  1.293921    1.492883    2.042574  \n",
              "\n",
              "[10 rows x 73 columns]"
            ],
            "text/html": [
              "\n",
              "  <div id=\"df-692d3f07-d48e-4116-924b-aba4edc2101f\">\n",
              "    <div class=\"colab-df-container\">\n",
              "      <div>\n",
              "<style scoped>\n",
              "    .dataframe tbody tr th:only-of-type {\n",
              "        vertical-align: middle;\n",
              "    }\n",
              "\n",
              "    .dataframe tbody tr th {\n",
              "        vertical-align: top;\n",
              "    }\n",
              "\n",
              "    .dataframe thead th {\n",
              "        text-align: right;\n",
              "    }\n",
              "</style>\n",
              "<table border=\"1\" class=\"dataframe\">\n",
              "  <thead>\n",
              "    <tr style=\"text-align: right;\">\n",
              "      <th></th>\n",
              "      <th>nni_counter</th>\n",
              "      <th>nni_mean</th>\n",
              "      <th>nni_min</th>\n",
              "      <th>nni_max</th>\n",
              "      <th>hr_mean</th>\n",
              "      <th>hr_min</th>\n",
              "      <th>hr_max</th>\n",
              "      <th>hr_std</th>\n",
              "      <th>nni_diff_mean</th>\n",
              "      <th>nni_diff_min</th>\n",
              "      <th>...</th>\n",
              "      <th>ar_norm_high</th>\n",
              "      <th>ar_ratio</th>\n",
              "      <th>ar_total</th>\n",
              "      <th>sd1</th>\n",
              "      <th>sd2</th>\n",
              "      <th>sd_ratio</th>\n",
              "      <th>ellipse_area</th>\n",
              "      <th>sampen</th>\n",
              "      <th>dfa_alpha1</th>\n",
              "      <th>dfa_alpha2</th>\n",
              "    </tr>\n",
              "  </thead>\n",
              "  <tbody>\n",
              "    <tr>\n",
              "      <th>0</th>\n",
              "      <td>65</td>\n",
              "      <td>779.015385</td>\n",
              "      <td>740</td>\n",
              "      <td>810</td>\n",
              "      <td>77.047607</td>\n",
              "      <td>74.074074</td>\n",
              "      <td>81.081081</td>\n",
              "      <td>1.459607</td>\n",
              "      <td>6.078125</td>\n",
              "      <td>0</td>\n",
              "      <td>...</td>\n",
              "      <td>64.958716</td>\n",
              "      <td>0.539439</td>\n",
              "      <td>19105.45764</td>\n",
              "      <td>6.012997</td>\n",
              "      <td>19.842689</td>\n",
              "      <td>3.299967</td>\n",
              "      <td>374.836049</td>\n",
              "      <td>1.022451</td>\n",
              "      <td>1.470755</td>\n",
              "      <td>0.573684</td>\n",
              "    </tr>\n",
              "    <tr>\n",
              "      <th>1</th>\n",
              "      <td>65</td>\n",
              "      <td>703.938462</td>\n",
              "      <td>666</td>\n",
              "      <td>740</td>\n",
              "      <td>85.275756</td>\n",
              "      <td>81.081081</td>\n",
              "      <td>90.090090</td>\n",
              "      <td>1.890121</td>\n",
              "      <td>7.453125</td>\n",
              "      <td>0</td>\n",
              "      <td>...</td>\n",
              "      <td>64.912631</td>\n",
              "      <td>0.540532</td>\n",
              "      <td>18856.43483</td>\n",
              "      <td>6.145682</td>\n",
              "      <td>21.024745</td>\n",
              "      <td>3.421060</td>\n",
              "      <td>405.929592</td>\n",
              "      <td>1.240787</td>\n",
              "      <td>1.234339</td>\n",
              "      <td>1.042289</td>\n",
              "    </tr>\n",
              "    <tr>\n",
              "      <th>2</th>\n",
              "      <td>66</td>\n",
              "      <td>774.393939</td>\n",
              "      <td>731</td>\n",
              "      <td>833</td>\n",
              "      <td>77.537793</td>\n",
              "      <td>72.028812</td>\n",
              "      <td>82.079343</td>\n",
              "      <td>2.133033</td>\n",
              "      <td>9.107692</td>\n",
              "      <td>0</td>\n",
              "      <td>...</td>\n",
              "      <td>64.862213</td>\n",
              "      <td>0.541730</td>\n",
              "      <td>19039.04728</td>\n",
              "      <td>8.357614</td>\n",
              "      <td>28.930985</td>\n",
              "      <td>3.461632</td>\n",
              "      <td>759.618229</td>\n",
              "      <td>1.043804</td>\n",
              "      <td>1.534029</td>\n",
              "      <td>1.049467</td>\n",
              "    </tr>\n",
              "    <tr>\n",
              "      <th>3</th>\n",
              "      <td>77</td>\n",
              "      <td>762.038961</td>\n",
              "      <td>697</td>\n",
              "      <td>821</td>\n",
              "      <td>78.878037</td>\n",
              "      <td>73.081608</td>\n",
              "      <td>86.083214</td>\n",
              "      <td>3.387898</td>\n",
              "      <td>10.381579</td>\n",
              "      <td>0</td>\n",
              "      <td>...</td>\n",
              "      <td>65.007546</td>\n",
              "      <td>0.538283</td>\n",
              "      <td>18767.08842</td>\n",
              "      <td>9.978556</td>\n",
              "      <td>44.186165</td>\n",
              "      <td>4.428112</td>\n",
              "      <td>1385.172625</td>\n",
              "      <td>1.504077</td>\n",
              "      <td>1.542662</td>\n",
              "      <td>0.948630</td>\n",
              "    </tr>\n",
              "    <tr>\n",
              "      <th>4</th>\n",
              "      <td>72</td>\n",
              "      <td>688.861111</td>\n",
              "      <td>652</td>\n",
              "      <td>731</td>\n",
              "      <td>87.146588</td>\n",
              "      <td>82.079343</td>\n",
              "      <td>92.024540</td>\n",
              "      <td>2.014072</td>\n",
              "      <td>7.098592</td>\n",
              "      <td>0</td>\n",
              "      <td>...</td>\n",
              "      <td>64.868522</td>\n",
              "      <td>0.541580</td>\n",
              "      <td>18800.46155</td>\n",
              "      <td>6.527922</td>\n",
              "      <td>21.178959</td>\n",
              "      <td>3.244365</td>\n",
              "      <td>434.339619</td>\n",
              "      <td>1.376244</td>\n",
              "      <td>1.358871</td>\n",
              "      <td>0.791963</td>\n",
              "    </tr>\n",
              "    <tr>\n",
              "      <th>5</th>\n",
              "      <td>72</td>\n",
              "      <td>735.500000</td>\n",
              "      <td>697</td>\n",
              "      <td>800</td>\n",
              "      <td>81.660141</td>\n",
              "      <td>75.000000</td>\n",
              "      <td>86.083214</td>\n",
              "      <td>2.589556</td>\n",
              "      <td>7.929577</td>\n",
              "      <td>0</td>\n",
              "      <td>...</td>\n",
              "      <td>64.795921</td>\n",
              "      <td>0.543307</td>\n",
              "      <td>18778.69359</td>\n",
              "      <td>7.778589</td>\n",
              "      <td>32.874130</td>\n",
              "      <td>4.226233</td>\n",
              "      <td>803.350301</td>\n",
              "      <td>1.712979</td>\n",
              "      <td>1.579461</td>\n",
              "      <td>0.753810</td>\n",
              "    </tr>\n",
              "    <tr>\n",
              "      <th>6</th>\n",
              "      <td>66</td>\n",
              "      <td>743.106061</td>\n",
              "      <td>681</td>\n",
              "      <td>789</td>\n",
              "      <td>80.820900</td>\n",
              "      <td>76.045627</td>\n",
              "      <td>88.105727</td>\n",
              "      <td>2.573095</td>\n",
              "      <td>6.615385</td>\n",
              "      <td>0</td>\n",
              "      <td>...</td>\n",
              "      <td>64.784223</td>\n",
              "      <td>0.543586</td>\n",
              "      <td>18906.56635</td>\n",
              "      <td>6.443601</td>\n",
              "      <td>31.820584</td>\n",
              "      <td>4.938323</td>\n",
              "      <td>644.149531</td>\n",
              "      <td>1.029619</td>\n",
              "      <td>1.548781</td>\n",
              "      <td>0.602646</td>\n",
              "    </tr>\n",
              "    <tr>\n",
              "      <th>7</th>\n",
              "      <td>72</td>\n",
              "      <td>642.000000</td>\n",
              "      <td>612</td>\n",
              "      <td>674</td>\n",
              "      <td>93.517353</td>\n",
              "      <td>89.020772</td>\n",
              "      <td>98.039216</td>\n",
              "      <td>2.372689</td>\n",
              "      <td>5.971831</td>\n",
              "      <td>0</td>\n",
              "      <td>...</td>\n",
              "      <td>64.778278</td>\n",
              "      <td>0.543727</td>\n",
              "      <td>18563.27065</td>\n",
              "      <td>5.375892</td>\n",
              "      <td>21.911972</td>\n",
              "      <td>4.075969</td>\n",
              "      <td>370.068303</td>\n",
              "      <td>1.252763</td>\n",
              "      <td>1.407493</td>\n",
              "      <td>-0.192170</td>\n",
              "    </tr>\n",
              "    <tr>\n",
              "      <th>8</th>\n",
              "      <td>72</td>\n",
              "      <td>655.638889</td>\n",
              "      <td>582</td>\n",
              "      <td>697</td>\n",
              "      <td>91.598758</td>\n",
              "      <td>86.083214</td>\n",
              "      <td>103.092783</td>\n",
              "      <td>2.891687</td>\n",
              "      <td>6.211268</td>\n",
              "      <td>0</td>\n",
              "      <td>...</td>\n",
              "      <td>65.099660</td>\n",
              "      <td>0.536106</td>\n",
              "      <td>18641.14134</td>\n",
              "      <td>7.500777</td>\n",
              "      <td>26.517596</td>\n",
              "      <td>3.535313</td>\n",
              "      <td>624.870861</td>\n",
              "      <td>1.134980</td>\n",
              "      <td>1.640218</td>\n",
              "      <td>0.796802</td>\n",
              "    </tr>\n",
              "    <tr>\n",
              "      <th>9</th>\n",
              "      <td>75</td>\n",
              "      <td>681.346667</td>\n",
              "      <td>618</td>\n",
              "      <td>714</td>\n",
              "      <td>88.188794</td>\n",
              "      <td>84.033613</td>\n",
              "      <td>97.087379</td>\n",
              "      <td>3.439274</td>\n",
              "      <td>7.148649</td>\n",
              "      <td>0</td>\n",
              "      <td>...</td>\n",
              "      <td>64.914935</td>\n",
              "      <td>0.540478</td>\n",
              "      <td>18613.09652</td>\n",
              "      <td>6.361041</td>\n",
              "      <td>35.605096</td>\n",
              "      <td>5.597370</td>\n",
              "      <td>711.525070</td>\n",
              "      <td>1.293921</td>\n",
              "      <td>1.492883</td>\n",
              "      <td>2.042574</td>\n",
              "    </tr>\n",
              "  </tbody>\n",
              "</table>\n",
              "<p>10 rows × 73 columns</p>\n",
              "</div>\n",
              "      <button class=\"colab-df-convert\" onclick=\"convertToInteractive('df-692d3f07-d48e-4116-924b-aba4edc2101f')\"\n",
              "              title=\"Convert this dataframe to an interactive table.\"\n",
              "              style=\"display:none;\">\n",
              "        \n",
              "  <svg xmlns=\"http://www.w3.org/2000/svg\" height=\"24px\"viewBox=\"0 0 24 24\"\n",
              "       width=\"24px\">\n",
              "    <path d=\"M0 0h24v24H0V0z\" fill=\"none\"/>\n",
              "    <path d=\"M18.56 5.44l.94 2.06.94-2.06 2.06-.94-2.06-.94-.94-2.06-.94 2.06-2.06.94zm-11 1L8.5 8.5l.94-2.06 2.06-.94-2.06-.94L8.5 2.5l-.94 2.06-2.06.94zm10 10l.94 2.06.94-2.06 2.06-.94-2.06-.94-.94-2.06-.94 2.06-2.06.94z\"/><path d=\"M17.41 7.96l-1.37-1.37c-.4-.4-.92-.59-1.43-.59-.52 0-1.04.2-1.43.59L10.3 9.45l-7.72 7.72c-.78.78-.78 2.05 0 2.83L4 21.41c.39.39.9.59 1.41.59.51 0 1.02-.2 1.41-.59l7.78-7.78 2.81-2.81c.8-.78.8-2.07 0-2.86zM5.41 20L4 18.59l7.72-7.72 1.47 1.35L5.41 20z\"/>\n",
              "  </svg>\n",
              "      </button>\n",
              "      \n",
              "  <style>\n",
              "    .colab-df-container {\n",
              "      display:flex;\n",
              "      flex-wrap:wrap;\n",
              "      gap: 12px;\n",
              "    }\n",
              "\n",
              "    .colab-df-convert {\n",
              "      background-color: #E8F0FE;\n",
              "      border: none;\n",
              "      border-radius: 50%;\n",
              "      cursor: pointer;\n",
              "      display: none;\n",
              "      fill: #1967D2;\n",
              "      height: 32px;\n",
              "      padding: 0 0 0 0;\n",
              "      width: 32px;\n",
              "    }\n",
              "\n",
              "    .colab-df-convert:hover {\n",
              "      background-color: #E2EBFA;\n",
              "      box-shadow: 0px 1px 2px rgba(60, 64, 67, 0.3), 0px 1px 3px 1px rgba(60, 64, 67, 0.15);\n",
              "      fill: #174EA6;\n",
              "    }\n",
              "\n",
              "    [theme=dark] .colab-df-convert {\n",
              "      background-color: #3B4455;\n",
              "      fill: #D2E3FC;\n",
              "    }\n",
              "\n",
              "    [theme=dark] .colab-df-convert:hover {\n",
              "      background-color: #434B5C;\n",
              "      box-shadow: 0px 1px 3px 1px rgba(0, 0, 0, 0.15);\n",
              "      filter: drop-shadow(0px 1px 2px rgba(0, 0, 0, 0.3));\n",
              "      fill: #FFFFFF;\n",
              "    }\n",
              "  </style>\n",
              "\n",
              "      <script>\n",
              "        const buttonEl =\n",
              "          document.querySelector('#df-692d3f07-d48e-4116-924b-aba4edc2101f button.colab-df-convert');\n",
              "        buttonEl.style.display =\n",
              "          google.colab.kernel.accessAllowed ? 'block' : 'none';\n",
              "\n",
              "        async function convertToInteractive(key) {\n",
              "          const element = document.querySelector('#df-692d3f07-d48e-4116-924b-aba4edc2101f');\n",
              "          const dataTable =\n",
              "            await google.colab.kernel.invokeFunction('convertToInteractive',\n",
              "                                                     [key], {});\n",
              "          if (!dataTable) return;\n",
              "\n",
              "          const docLinkHtml = 'Like what you see? Visit the ' +\n",
              "            '<a target=\"_blank\" href=https://colab.research.google.com/notebooks/data_table.ipynb>data table notebook</a>'\n",
              "            + ' to learn more about interactive tables.';\n",
              "          element.innerHTML = '';\n",
              "          dataTable['output_type'] = 'display_data';\n",
              "          await google.colab.output.renderOutput(dataTable, element);\n",
              "          const docLink = document.createElement('div');\n",
              "          docLink.innerHTML = docLinkHtml;\n",
              "          element.appendChild(docLink);\n",
              "        }\n",
              "      </script>\n",
              "    </div>\n",
              "  </div>\n",
              "  "
            ]
          },
          "metadata": {},
          "execution_count": 18
        }
      ]
    },
    {
      "cell_type": "code",
      "source": [
        "from sklearn.model_selection import train_test_split\n",
        "X_train, X_test, y_train, y_test = train_test_split(X, y, test_size = 0.2, random_state = 0)"
      ],
      "metadata": {
        "id": "wapOL6pmCnek"
      },
      "execution_count": 19,
      "outputs": []
    },
    {
      "cell_type": "code",
      "source": [
        "!pip install niapy"
      ],
      "metadata": {
        "colab": {
          "base_uri": "https://localhost:8080/"
        },
        "id": "Bvej8FJVEqBR",
        "outputId": "20aa555e-92df-4316-fca1-01a43102e1a0"
      },
      "execution_count": 20,
      "outputs": [
        {
          "output_type": "stream",
          "name": "stdout",
          "text": [
            "Collecting niapy\n",
            "  Downloading niapy-2.0.5-py3-none-any.whl (181 kB)\n",
            "\u001b[?25l     \u001b[90m━━━━━━━━━━━━━━━━━━━━━━━━━━━━━━━━━━━━━━━━\u001b[0m \u001b[32m0.0/181.9 kB\u001b[0m \u001b[31m?\u001b[0m eta \u001b[36m-:--:--\u001b[0m\r\u001b[2K     \u001b[90m━━━━━━━━━━━━━━━━━━━━━━━━━━━━━━━━━━━━━━\u001b[0m \u001b[32m181.9/181.9 kB\u001b[0m \u001b[31m16.1 MB/s\u001b[0m eta \u001b[36m0:00:00\u001b[0m\n",
            "\u001b[?25hRequirement already satisfied: numpy>=1.17.0 in /usr/local/lib/python3.10/dist-packages (from niapy) (1.22.4)\n",
            "Requirement already satisfied: matplotlib>=2.2.4 in /usr/local/lib/python3.10/dist-packages (from niapy) (3.7.1)\n",
            "Requirement already satisfied: pandas>=0.24.2 in /usr/local/lib/python3.10/dist-packages (from niapy) (1.5.3)\n",
            "Requirement already satisfied: openpyxl>=3.0.3 in /usr/local/lib/python3.10/dist-packages (from niapy) (3.0.10)\n",
            "Requirement already satisfied: contourpy>=1.0.1 in /usr/local/lib/python3.10/dist-packages (from matplotlib>=2.2.4->niapy) (1.1.0)\n",
            "Requirement already satisfied: cycler>=0.10 in /usr/local/lib/python3.10/dist-packages (from matplotlib>=2.2.4->niapy) (0.11.0)\n",
            "Requirement already satisfied: fonttools>=4.22.0 in /usr/local/lib/python3.10/dist-packages (from matplotlib>=2.2.4->niapy) (4.40.0)\n",
            "Requirement already satisfied: kiwisolver>=1.0.1 in /usr/local/lib/python3.10/dist-packages (from matplotlib>=2.2.4->niapy) (1.4.4)\n",
            "Requirement already satisfied: packaging>=20.0 in /usr/local/lib/python3.10/dist-packages (from matplotlib>=2.2.4->niapy) (23.1)\n",
            "Requirement already satisfied: pillow>=6.2.0 in /usr/local/lib/python3.10/dist-packages (from matplotlib>=2.2.4->niapy) (8.4.0)\n",
            "Requirement already satisfied: pyparsing>=2.3.1 in /usr/local/lib/python3.10/dist-packages (from matplotlib>=2.2.4->niapy) (3.1.0)\n",
            "Requirement already satisfied: python-dateutil>=2.7 in /usr/local/lib/python3.10/dist-packages (from matplotlib>=2.2.4->niapy) (2.8.2)\n",
            "Requirement already satisfied: et-xmlfile in /usr/local/lib/python3.10/dist-packages (from openpyxl>=3.0.3->niapy) (1.1.0)\n",
            "Requirement already satisfied: pytz>=2020.1 in /usr/local/lib/python3.10/dist-packages (from pandas>=0.24.2->niapy) (2022.7.1)\n",
            "Requirement already satisfied: six>=1.5 in /usr/local/lib/python3.10/dist-packages (from python-dateutil>=2.7->matplotlib>=2.2.4->niapy) (1.16.0)\n",
            "Installing collected packages: niapy\n",
            "Successfully installed niapy-2.0.5\n"
          ]
        }
      ]
    },
    {
      "cell_type": "code",
      "source": [
        "from sklearn.datasets import load_breast_cancer\n",
        "from sklearn.model_selection import train_test_split, cross_val_score\n",
        "from sklearn.svm import SVC\n",
        "\n",
        "from niapy.problems import Problem\n",
        "from niapy.task import Task\n",
        "from niapy.algorithms.basic import ParticleSwarmOptimization\n",
        "\n",
        "\n",
        "class SVMFeatureSelection(Problem):\n",
        "    def __init__(self, X_train, y_train, alpha=0.99):\n",
        "        super().__init__(dimension=X_train.shape[1], lower=0, upper=1)\n",
        "        self.X_train = X_train\n",
        "        self.y_train = y_train\n",
        "        self.alpha = alpha\n",
        "\n",
        "    def _evaluate(self, x):\n",
        "        selected = x > 0.5\n",
        "        num_selected = selected.sum()\n",
        "        if num_selected == 0:\n",
        "            return 1.0\n",
        "        accuracy = cross_val_score(SVC(), self.X_train[:, selected], self.y_train, cv=2, n_jobs=-1).mean()\n",
        "        score = 1 - accuracy\n",
        "        num_features = self.X_train.shape[1]\n",
        "        return self.alpha * score + (1 - self.alpha) * (num_selected / num_features)"
      ],
      "metadata": {
        "id": "R9Hu-dttCriI"
      },
      "execution_count": 21,
      "outputs": []
    },
    {
      "cell_type": "code",
      "source": [
        "X.columns"
      ],
      "metadata": {
        "colab": {
          "base_uri": "https://localhost:8080/"
        },
        "id": "0fatm7xsHZrZ",
        "outputId": "ab932959-4a6d-45da-bb28-94b3967251c0"
      },
      "execution_count": 22,
      "outputs": [
        {
          "output_type": "execute_result",
          "data": {
            "text/plain": [
              "Index(['nni_counter', 'nni_mean', 'nni_min', 'nni_max', 'hr_mean', 'hr_min',\n",
              "       'hr_max', 'hr_std', 'nni_diff_mean', 'nni_diff_min', 'nni_diff_max',\n",
              "       'sdnn', 'rmssd', 'sdsd', 'nn50', 'pnn50', 'nn20', 'pnn20', 'tinn_n',\n",
              "       'tinn_m', 'tinn', 'tri_index', 'fft_peak_low', 'fft_peak_medium',\n",
              "       'fft_peak_high', 'fft_abs_low', 'fft_abs_medium', 'fft_abs_high',\n",
              "       'fft_rel_low', 'fft_rel_medium', 'fft_log_low', 'fft_log_medium',\n",
              "       'fft_log_high', 'fft_norm_low', 'fft_norm_high', 'fft_ratio',\n",
              "       'fft_total', 'lomb_peak_low', 'lomb_peak_medium', 'lomb_peak_high',\n",
              "       'lomb_abs_low', 'lomb_abs_medium', 'lomb_abs_high', 'lomb_rel_low',\n",
              "       'lomb_rel_medium', 'lomb_rel_high', 'lomb_log_low', 'lomb_log_medium',\n",
              "       'lomb_log_high', 'lomb_norm_high', 'lomb_norm_Low', 'lomb_ratio',\n",
              "       'lomb_total', 'ar_abs_low', 'ar_abs_medium', 'ar_abs_high',\n",
              "       'ar_rel_low', 'ar_rel_medium', 'ar_rel_high', 'ar_log_low',\n",
              "       'ar_log_medium', 'ar_log_high', 'ar_norm_low', 'ar_norm_high',\n",
              "       'ar_ratio', 'ar_total', 'sd1', 'sd2', 'sd_ratio', 'ellipse_area',\n",
              "       'sampen', 'dfa_alpha1', 'dfa_alpha2'],\n",
              "      dtype='object')"
            ]
          },
          "metadata": {},
          "execution_count": 22
        }
      ]
    },
    {
      "cell_type": "code",
      "source": [
        "X_train = X_train.values\n",
        "X_test = X_test.values\n",
        "y_train = y_train.values\n",
        "y_test = y_test.values\n",
        "\n",
        "problem = SVMFeatureSelection(X_train, y_train)\n",
        "task = Task(problem, max_iters=100)\n",
        "algorithm = ParticleSwarmOptimization(population_size=10, seed=1234)\n",
        "best_features, best_fitness = algorithm.run(task)\n",
        "\n",
        "selected_features = best_features > 0.5\n",
        "print('Number of selected features:', selected_features.sum())\n",
        "print('Selected features:', ', '.join(X.columns[selected_features].tolist()))\n",
        "\n",
        "model_selected = SVC()\n",
        "model_all = SVC()\n",
        "\n",
        "model_selected.fit(X_train[:, selected_features], y_train)\n",
        "print('Subset accuracy:', model_selected.score(X_test[:, selected_features], y_test))\n",
        "\n",
        "model_all.fit(X_train, y_train)\n",
        "print('All Features Accuracy:', model_all.score(X_test, y_test))"
      ],
      "metadata": {
        "colab": {
          "base_uri": "https://localhost:8080/"
        },
        "id": "6EljN_VfCv71",
        "outputId": "2d0661d2-d6a0-454a-c4df-8d29e6e51e0e"
      },
      "execution_count": 23,
      "outputs": [
        {
          "output_type": "stream",
          "name": "stdout",
          "text": [
            "Number of selected features: 30\n",
            "Selected features: nni_counter, nni_mean, nni_min, hr_mean, hr_max, nni_diff_min, rmssd, nn20, tinn_n, tinn_m, fft_peak_low, fft_peak_medium, fft_abs_medium, fft_log_low, fft_log_medium, lomb_peak_low, lomb_peak_medium, lomb_abs_low, lomb_abs_medium, lomb_abs_high, lomb_rel_low, lomb_rel_medium, lomb_log_low, lomb_norm_Low, lomb_ratio, ar_log_low, sd1, sd2, sd_ratio, dfa_alpha1\n",
            "Subset accuracy: 0.8783269961977186\n",
            "All Features Accuracy: 0.8212927756653993\n"
          ]
        }
      ]
    },
    {
      "cell_type": "code",
      "source": [
        "selected_features"
      ],
      "metadata": {
        "colab": {
          "base_uri": "https://localhost:8080/"
        },
        "id": "hp4NLj0fE0Cq",
        "outputId": "79d5cd25-3994-4f3c-af35-e935e085e155"
      },
      "execution_count": 24,
      "outputs": [
        {
          "output_type": "execute_result",
          "data": {
            "text/plain": [
              "array([ True,  True,  True, False,  True, False,  True, False, False,\n",
              "        True, False, False,  True, False, False, False,  True, False,\n",
              "        True,  True, False, False,  True,  True, False, False,  True,\n",
              "       False, False, False,  True,  True, False, False, False, False,\n",
              "       False,  True,  True, False,  True,  True,  True,  True,  True,\n",
              "       False,  True, False, False, False,  True,  True, False, False,\n",
              "       False, False, False, False, False,  True, False, False, False,\n",
              "       False, False, False,  True,  True,  True, False, False,  True,\n",
              "       False])"
            ]
          },
          "metadata": {},
          "execution_count": 24
        }
      ]
    },
    {
      "cell_type": "code",
      "source": [],
      "metadata": {
        "colab": {
          "base_uri": "https://localhost:8080/"
        },
        "id": "6KDkuLcf8zoU",
        "outputId": "2e009808-42ff-4556-ded2-fd33c1b9ce92"
      },
      "execution_count": 25,
      "outputs": [
        {
          "output_type": "execute_result",
          "data": {
            "text/plain": [
              "array([1.        , 1.        , 1.        , 0.        , 1.        ,\n",
              "       0.29603973, 1.        , 0.        , 0.        , 1.        ,\n",
              "       0.        , 0.        , 1.        , 0.        , 0.        ,\n",
              "       0.        , 1.        , 0.0600817 , 1.        , 1.        ,\n",
              "       0.        , 0.42971966, 1.        , 0.91198598, 0.        ,\n",
              "       0.01916841, 1.        , 0.        , 0.        , 0.49689507,\n",
              "       1.        , 1.        , 0.        , 0.        , 0.        ,\n",
              "       0.        , 0.25390792, 1.        , 1.        , 0.        ,\n",
              "       1.        , 1.        , 1.        , 1.        , 1.        ,\n",
              "       0.        , 1.        , 0.        , 0.        , 0.30844251,\n",
              "       1.        , 1.        , 0.        , 0.        , 0.47353937,\n",
              "       0.        , 0.        , 0.        , 0.40067164, 1.        ,\n",
              "       0.        , 0.08231331, 0.        , 0.        , 0.        ,\n",
              "       0.        , 1.        , 1.        , 1.        , 0.        ,\n",
              "       0.        , 1.        , 0.        ])"
            ]
          },
          "metadata": {},
          "execution_count": 25
        }
      ]
    },
    {
      "cell_type": "code",
      "source": [],
      "metadata": {
        "id": "covzOy43_jnP"
      },
      "execution_count": null,
      "outputs": []
    }
  ]
}