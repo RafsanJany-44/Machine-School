{
  "nbformat": 4,
  "nbformat_minor": 0,
  "metadata": {
    "colab": {
      "provenance": [],
      "include_colab_link": true
    },
    "kernelspec": {
      "name": "python3",
      "display_name": "Python 3"
    },
    "language_info": {
      "name": "python"
    }
  },
  "cells": [
    {
      "cell_type": "markdown",
      "metadata": {
        "id": "view-in-github",
        "colab_type": "text"
      },
      "source": [
        "<a href=\"https://colab.research.google.com/github/RafsanJany-44/Machine-School/blob/main/Particle_Swarm_Optimizer.ipynb\" target=\"_parent\"><img src=\"https://colab.research.google.com/assets/colab-badge.svg\" alt=\"Open In Colab\"/></a>"
      ]
    },
    {
      "cell_type": "code",
      "execution_count": null,
      "metadata": {
        "colab": {
          "base_uri": "https://localhost:8080/",
          "height": 36
        },
        "id": "oZtAzGGcCQbD",
        "outputId": "90d3d93f-b568-4ac7-abf6-4eedd434d45d"
      },
      "outputs": [
        {
          "output_type": "execute_result",
          "data": {
            "text/plain": [
              "\"from google.colab import drive\\ndrive.mount('/content/drive')\""
            ],
            "application/vnd.google.colaboratory.intrinsic+json": {
              "type": "string"
            }
          },
          "metadata": {},
          "execution_count": 10
        }
      ],
      "source": [
        "\"\"\"from google.colab import drive\n",
        "drive.mount('/content/drive')\"\"\""
      ]
    },
    {
      "cell_type": "code",
      "source": [
        "import numpy as np\n",
        "import pandas as pd\n",
        "dataset = pd.read_csv(\"/content/Fitbit_feature_merged_version_2023.06.26_ST-II&ST-V_Pre.csv\")\n",
        "target = \"Activity\"\n",
        "result = {}"
      ],
      "metadata": {
        "id": "yD6mZGXdCadB"
      },
      "execution_count": 1,
      "outputs": []
    },
    {
      "cell_type": "code",
      "source": [
        "dataset.dropna(axis=0, how='any', inplace = True)\n",
        "dataset = dataset.reset_index(drop=True)"
      ],
      "metadata": {
        "id": "_Y_szhbxCeNl"
      },
      "execution_count": 2,
      "outputs": []
    },
    {
      "cell_type": "code",
      "source": [
        "from sklearn.preprocessing import LabelEncoder\n",
        "encoder=LabelEncoder()\n",
        "dataset[target]=encoder.fit_transform(dataset[target])"
      ],
      "metadata": {
        "id": "u7Z0znGSCerv"
      },
      "execution_count": 3,
      "outputs": []
    },
    {
      "cell_type": "code",
      "source": [
        "\n",
        "row = 300\n",
        "X = dataset.iloc[:row,11:]\n",
        "y = dataset.loc[:row-1,target]"
      ],
      "metadata": {
        "id": "UrakjlksChoz"
      },
      "execution_count": 4,
      "outputs": []
    },
    {
      "cell_type": "code",
      "source": [
        "X.shape"
      ],
      "metadata": {
        "colab": {
          "base_uri": "https://localhost:8080/"
        },
        "id": "tKmrkTecLAZe",
        "outputId": "066ff87f-4a90-4081-89c7-8a1a24cbceb1"
      },
      "execution_count": 5,
      "outputs": [
        {
          "output_type": "execute_result",
          "data": {
            "text/plain": [
              "(300, 73)"
            ]
          },
          "metadata": {},
          "execution_count": 5
        }
      ]
    },
    {
      "cell_type": "code",
      "source": [
        "from sklearn.model_selection import train_test_split\n",
        "X_train, X_test, y_train, y_test = train_test_split(X, y, test_size = 0.2, random_state = 0)"
      ],
      "metadata": {
        "id": "wapOL6pmCnek"
      },
      "execution_count": 6,
      "outputs": []
    },
    {
      "cell_type": "code",
      "source": [
        "\"\"\"X_train = X_train.values\n",
        "X_test = X_test.values\n",
        "y_train = y_train.values\n",
        "y_test = y_test.values\"\"\""
      ],
      "metadata": {
        "colab": {
          "base_uri": "https://localhost:8080/",
          "height": 36
        },
        "id": "IQu_T_tHN74X",
        "outputId": "3d4d6cdc-9191-40cb-aa9d-4a68327c379b"
      },
      "execution_count": 7,
      "outputs": [
        {
          "output_type": "execute_result",
          "data": {
            "text/plain": [
              "'X_train = X_train.values\\nX_test = X_test.values\\ny_train = y_train.values\\ny_test = y_test.values'"
            ],
            "application/vnd.google.colaboratory.intrinsic+json": {
              "type": "string"
            }
          },
          "metadata": {},
          "execution_count": 7
        }
      ]
    },
    {
      "cell_type": "code",
      "source": [
        "!pip install niapy"
      ],
      "metadata": {
        "colab": {
          "base_uri": "https://localhost:8080/"
        },
        "id": "Bvej8FJVEqBR",
        "outputId": "db48dfa0-4854-4164-d539-ceca523fb013"
      },
      "execution_count": 8,
      "outputs": [
        {
          "output_type": "stream",
          "name": "stdout",
          "text": [
            "Collecting niapy\n",
            "  Downloading niapy-2.0.5-py3-none-any.whl (181 kB)\n",
            "\u001b[?25l     \u001b[90m━━━━━━━━━━━━━━━━━━━━━━━━━━━━━━━━━━━━━━━━\u001b[0m \u001b[32m0.0/181.9 kB\u001b[0m \u001b[31m?\u001b[0m eta \u001b[36m-:--:--\u001b[0m\r\u001b[2K     \u001b[90m━━━━━━━━━━━━━━━━━━━━━━━━━━━━━━━━━━━━━━\u001b[0m \u001b[32m181.9/181.9 kB\u001b[0m \u001b[31m14.2 MB/s\u001b[0m eta \u001b[36m0:00:00\u001b[0m\n",
            "\u001b[?25hRequirement already satisfied: numpy>=1.17.0 in /usr/local/lib/python3.10/dist-packages (from niapy) (1.22.4)\n",
            "Requirement already satisfied: matplotlib>=2.2.4 in /usr/local/lib/python3.10/dist-packages (from niapy) (3.7.1)\n",
            "Requirement already satisfied: pandas>=0.24.2 in /usr/local/lib/python3.10/dist-packages (from niapy) (1.5.3)\n",
            "Requirement already satisfied: openpyxl>=3.0.3 in /usr/local/lib/python3.10/dist-packages (from niapy) (3.0.10)\n",
            "Requirement already satisfied: contourpy>=1.0.1 in /usr/local/lib/python3.10/dist-packages (from matplotlib>=2.2.4->niapy) (1.1.0)\n",
            "Requirement already satisfied: cycler>=0.10 in /usr/local/lib/python3.10/dist-packages (from matplotlib>=2.2.4->niapy) (0.11.0)\n",
            "Requirement already satisfied: fonttools>=4.22.0 in /usr/local/lib/python3.10/dist-packages (from matplotlib>=2.2.4->niapy) (4.40.0)\n",
            "Requirement already satisfied: kiwisolver>=1.0.1 in /usr/local/lib/python3.10/dist-packages (from matplotlib>=2.2.4->niapy) (1.4.4)\n",
            "Requirement already satisfied: packaging>=20.0 in /usr/local/lib/python3.10/dist-packages (from matplotlib>=2.2.4->niapy) (23.1)\n",
            "Requirement already satisfied: pillow>=6.2.0 in /usr/local/lib/python3.10/dist-packages (from matplotlib>=2.2.4->niapy) (8.4.0)\n",
            "Requirement already satisfied: pyparsing>=2.3.1 in /usr/local/lib/python3.10/dist-packages (from matplotlib>=2.2.4->niapy) (3.1.0)\n",
            "Requirement already satisfied: python-dateutil>=2.7 in /usr/local/lib/python3.10/dist-packages (from matplotlib>=2.2.4->niapy) (2.8.2)\n",
            "Requirement already satisfied: et-xmlfile in /usr/local/lib/python3.10/dist-packages (from openpyxl>=3.0.3->niapy) (1.1.0)\n",
            "Requirement already satisfied: pytz>=2020.1 in /usr/local/lib/python3.10/dist-packages (from pandas>=0.24.2->niapy) (2022.7.1)\n",
            "Requirement already satisfied: six>=1.5 in /usr/local/lib/python3.10/dist-packages (from python-dateutil>=2.7->matplotlib>=2.2.4->niapy) (1.16.0)\n",
            "Installing collected packages: niapy\n",
            "Successfully installed niapy-2.0.5\n"
          ]
        }
      ]
    },
    {
      "cell_type": "markdown",
      "source": [
        "#Feature Selections"
      ],
      "metadata": {
        "id": "KqCYsfjJLFFN"
      }
    },
    {
      "cell_type": "code",
      "source": [
        "from sklearn.model_selection import train_test_split, cross_val_score\n",
        "from sklearn.svm import SVC\n",
        "from sklearn.ensemble import RandomForestClassifier\n",
        "from sklearn.naive_bayes import GaussianNB\n",
        "from sklearn.neighbors import KNeighborsClassifier\n",
        "from sklearn.ensemble import HistGradientBoostingClassifier\n",
        "from sklearn.kernel_ridge import KernelRidge\n",
        "\n",
        "from niapy.problems import Problem\n",
        "from niapy.task import Task\n",
        "from niapy.algorithms.basic import ParticleSwarmOptimization\n",
        "\n",
        "\n",
        "\n",
        "def Swarm_Optzr(obj,X_main,X_trn,y_trn,least_score = 0.5):\n",
        "  if \"<class 'pandas.core.frame.DataFrame'>\" == str(type(X_train)):\n",
        "    X_trn = X_trn.values\n",
        "  if \"<class 'pandas.core.frame.DataFrame'>\" == str(type(X_train)):\n",
        "    y_trn = y_trn.values\n",
        "\n",
        "  problem = obj(X_trn, y_trn)\n",
        "  task = Task(problem, max_iters=100)\n",
        "  algorithm = ParticleSwarmOptimization(population_size=10, seed=1234)\n",
        "  best_features, best_fitness = algorithm.run(task)\n",
        "\n",
        "  selected_features = best_features > least_score\n",
        "  #print('Number of selected features:', selected_features.sum())\n",
        "  #print('Selected features:', ', '.join(X.columns[selected_features].tolist()))\n",
        "  return X_main.columns[selected_features].tolist()\n",
        "\n",
        "\n",
        "\n",
        "\n",
        "\n",
        "class RidgeFeatureSelection(Problem):\n",
        "    def __init__(self, X_train, y_train, alpha=0.99):\n",
        "        super().__init__(dimension=X_train.shape[1], lower=0, upper=1)\n",
        "        self.X_train = X_train\n",
        "        self.y_train = y_train\n",
        "        self.alpha = alpha\n",
        "\n",
        "    def _evaluate(self, x):\n",
        "        selected = x > 0.5\n",
        "        num_selected = selected.sum()\n",
        "        if num_selected == 0:\n",
        "            return 1.0\n",
        "        accuracy = cross_val_score(KernelRidge(), self.X_train[:, selected], self.y_train, cv=2, n_jobs=-1).mean()\n",
        "        score = 1 - accuracy\n",
        "        num_features = self.X_train.shape[1]\n",
        "        return self.alpha * score + (1 - self.alpha) * (num_selected / num_features)\n",
        "\n",
        "\n",
        "\n",
        "\n",
        "\n",
        "class SVMFeatureSelection(Problem):\n",
        "    def __init__(self, X_train, y_train, alpha=0.99):\n",
        "        super().__init__(dimension=X_train.shape[1], lower=0, upper=1)\n",
        "        self.X_train = X_train\n",
        "        self.y_train = y_train\n",
        "        self.alpha = alpha\n",
        "\n",
        "    def _evaluate(self, x):\n",
        "        selected = x > 0.5\n",
        "        num_selected = selected.sum()\n",
        "        if num_selected == 0:\n",
        "            return 1.0\n",
        "        accuracy = cross_val_score(SVC(), self.X_train[:, selected], self.y_train, cv=2, n_jobs=-1).mean()\n",
        "        score = 1 - accuracy\n",
        "        num_features = self.X_train.shape[1]\n",
        "        return self.alpha * score + (1 - self.alpha) * (num_selected / num_features)\n",
        "\n",
        "\n",
        "\n",
        "class NBFeatureSelection(Problem):\n",
        "    def __init__(self, X_train, y_train, alpha=0.99):\n",
        "        super().__init__(dimension=X_train.shape[1], lower=0, upper=1)\n",
        "        self.X_train = X_train\n",
        "        self.y_train = y_train\n",
        "        self.alpha = alpha\n",
        "\n",
        "    def _evaluate(self, x):\n",
        "        selected = x > 0.5\n",
        "        num_selected = selected.sum()\n",
        "        if num_selected == 0:\n",
        "            return 1.0\n",
        "        accuracy = cross_val_score(GaussianNB(), self.X_train[:, selected], self.y_train, cv=2, n_jobs=-1).mean()\n",
        "        score = 1 - accuracy\n",
        "        num_features = self.X_train.shape[1]\n",
        "        return self.alpha * score + (1 - self.alpha) * (num_selected / num_features)\n",
        "\n",
        "\n",
        "\n",
        "class KNNFeatureSelection(Problem):\n",
        "    def __init__(self, X_train, y_train, alpha=0.99):\n",
        "        super().__init__(dimension=X_train.shape[1], lower=0, upper=1)\n",
        "        self.X_train = X_train\n",
        "        self.y_train = y_train\n",
        "        self.alpha = alpha\n",
        "\n",
        "    def _evaluate(self, x):\n",
        "        selected = x > 0.5\n",
        "        num_selected = selected.sum()\n",
        "        if num_selected == 0:\n",
        "            return 1.0\n",
        "        accuracy = cross_val_score(KNeighborsClassifier(), self.X_train[:, selected], self.y_train, cv=2, n_jobs=-1).mean()\n",
        "        score = 1 - accuracy\n",
        "        num_features = self.X_train.shape[1]\n",
        "        return self.alpha * score + (1 - self.alpha) * (num_selected / num_features)\n",
        "\n",
        "\n",
        "\n",
        "class RFFeatureSelection(Problem):\n",
        "    def __init__(self, X_train, y_train, alpha=0.99):\n",
        "        super().__init__(dimension=X_train.shape[1], lower=0, upper=1)\n",
        "        self.X_train = X_train\n",
        "        self.y_train = y_train\n",
        "        self.alpha = alpha\n",
        "\n",
        "    def _evaluate(self, x):\n",
        "        selected = x > 0.5\n",
        "        num_selected = selected.sum()\n",
        "        if num_selected == 0:\n",
        "            return 1.0\n",
        "        accuracy = cross_val_score(RandomForestClassifier(), self.X_train[:, selected], self.y_train, cv=2, n_jobs=-1).mean()\n",
        "        score = 1 - accuracy\n",
        "        num_features = self.X_train.shape[1]\n",
        "        return self.alpha * score + (1 - self.alpha) * (num_selected / num_features)\n",
        "\n",
        "\n",
        "\n",
        "class HGBCFeatureSelection(Problem):\n",
        "    def __init__(self, X_train, y_train, alpha=0.99):\n",
        "        super().__init__(dimension=X_train.shape[1], lower=0, upper=1)\n",
        "        self.X_train = X_train\n",
        "        self.y_train = y_train\n",
        "        self.alpha = alpha\n",
        "\n",
        "    def _evaluate(self, x):\n",
        "        selected = x > 0.5\n",
        "        num_selected = selected.sum()\n",
        "        if num_selected == 0:\n",
        "            return 1.0\n",
        "        accuracy = cross_val_score(HistGradientBoostingClassifier(), self.X_train[:, selected], self.y_train, cv=2, n_jobs=-1).mean()\n",
        "        score = 1 - accuracy\n",
        "        num_features = self.X_train.shape[1]\n",
        "        return self.alpha * score + (1 - self.alpha) * (num_selected / num_features)\n",
        "\n",
        "\n"
      ],
      "metadata": {
        "id": "R9Hu-dttCriI"
      },
      "execution_count": 10,
      "outputs": []
    },
    {
      "cell_type": "code",
      "source": [
        "X.columns"
      ],
      "metadata": {
        "colab": {
          "base_uri": "https://localhost:8080/"
        },
        "id": "0fatm7xsHZrZ",
        "outputId": "83304545-1c47-4256-c132-934fb30c0be9"
      },
      "execution_count": 11,
      "outputs": [
        {
          "output_type": "execute_result",
          "data": {
            "text/plain": [
              "Index(['nni_counter', 'nni_mean', 'nni_min', 'nni_max', 'hr_mean', 'hr_min',\n",
              "       'hr_max', 'hr_std', 'nni_diff_mean', 'nni_diff_min', 'nni_diff_max',\n",
              "       'sdnn', 'rmssd', 'sdsd', 'nn50', 'pnn50', 'nn20', 'pnn20', 'tinn_n',\n",
              "       'tinn_m', 'tinn', 'tri_index', 'fft_peak_low', 'fft_peak_medium',\n",
              "       'fft_peak_high', 'fft_abs_low', 'fft_abs_medium', 'fft_abs_high',\n",
              "       'fft_rel_low', 'fft_rel_medium', 'fft_log_low', 'fft_log_medium',\n",
              "       'fft_log_high', 'fft_norm_low', 'fft_norm_high', 'fft_ratio',\n",
              "       'fft_total', 'lomb_peak_low', 'lomb_peak_medium', 'lomb_peak_high',\n",
              "       'lomb_abs_low', 'lomb_abs_medium', 'lomb_abs_high', 'lomb_rel_low',\n",
              "       'lomb_rel_medium', 'lomb_rel_high', 'lomb_log_low', 'lomb_log_medium',\n",
              "       'lomb_log_high', 'lomb_norm_high', 'lomb_norm_Low', 'lomb_ratio',\n",
              "       'lomb_total', 'ar_abs_low', 'ar_abs_medium', 'ar_abs_high',\n",
              "       'ar_rel_low', 'ar_rel_medium', 'ar_rel_high', 'ar_log_low',\n",
              "       'ar_log_medium', 'ar_log_high', 'ar_norm_low', 'ar_norm_high',\n",
              "       'ar_ratio', 'ar_total', 'sd1', 'sd2', 'sd_ratio', 'ellipse_area',\n",
              "       'sampen', 'dfa_alpha1', 'dfa_alpha2'],\n",
              "      dtype='object')"
            ]
          },
          "metadata": {},
          "execution_count": 11
        }
      ]
    },
    {
      "cell_type": "code",
      "source": [
        "print(Swarm_Optzr(RidgeFeatureSelection,X,X_train,y_train))"
      ],
      "metadata": {
        "colab": {
          "base_uri": "https://localhost:8080/"
        },
        "id": "cB0IwCNioSm0",
        "outputId": "b7345e67-b4ff-4af4-afe2-673be88cfc30"
      },
      "execution_count": 48,
      "outputs": [
        {
          "output_type": "stream",
          "name": "stdout",
          "text": [
            "['nni_counter', 'nni_min', 'hr_max', 'nni_diff_min', 'rmssd', 'nn20', 'pnn20', 'tinn_n', 'fft_peak_low', 'fft_abs_low', 'fft_log_high', 'fft_ratio', 'lomb_peak_medium', 'lomb_abs_low', 'lomb_abs_high', 'lomb_rel_low', 'lomb_rel_high', 'lomb_log_low', 'lomb_norm_high', 'lomb_ratio', 'lomb_total', 'ar_abs_medium', 'ar_abs_high', 'ar_rel_low', 'ar_log_low', 'ar_log_medium', 'sd1', 'sd2', 'sd_ratio', 'sampen']\n"
          ]
        }
      ]
    },
    {
      "cell_type": "code",
      "source": [
        "rid = Swarm_Optzr(RidgeFeatureSelection,X,X_train,y_train)\n",
        "rf  = Swarm_Optzr(RFFeatureSelection,X,X_train,y_train)\n",
        "hg  = Swarm_Optzr(HGBCFeatureSelection,X,X_train,y_train)\n",
        "knn = Swarm_Optzr(KNNFeatureSelection,X,X_train,y_train)\n",
        "svm = Swarm_Optzr(SVMFeatureSelection,X,X_train,y_train)\n",
        "nb  = Swarm_Optzr(NBFeatureSelection,X,X_train,y_train)"
      ],
      "metadata": {
        "id": "KW9azeBrq4tS"
      },
      "execution_count": null,
      "outputs": []
    },
    {
      "cell_type": "code",
      "source": [],
      "metadata": {
        "id": "yUAz1mFqq4io"
      },
      "execution_count": null,
      "outputs": []
    },
    {
      "cell_type": "code",
      "source": [],
      "metadata": {
        "id": "qUICM_v6q4ZB"
      },
      "execution_count": null,
      "outputs": []
    },
    {
      "cell_type": "code",
      "source": [],
      "metadata": {
        "id": "xFLJBm6Eq4Pj"
      },
      "execution_count": null,
      "outputs": []
    },
    {
      "cell_type": "code",
      "source": [],
      "metadata": {
        "id": "nawWdrzPq4Ff"
      },
      "execution_count": null,
      "outputs": []
    },
    {
      "cell_type": "markdown",
      "source": [
        "\n",
        "\n",
        "---\n",
        "\n",
        "---\n",
        "\n",
        "\n",
        "\n"
      ],
      "metadata": {
        "id": "nH8h56SuWR23"
      }
    },
    {
      "cell_type": "code",
      "source": [
        "X_train = X_train.values\n",
        "y_train = y_train.values\n",
        "X_test = X_test.values\n",
        "y_test = y_test.values\n",
        "\n",
        "\n",
        "\n",
        "obj = RidgeFeatureSelection\n",
        "\n",
        "\n",
        "problem = obj(X_train, y_train)\n",
        "task = Task(problem, max_iters=100)\n",
        "algorithm = ParticleSwarmOptimization(population_size=10, seed=1234)\n",
        "best_features, best_fitness = algorithm.run(task)\n",
        "\n",
        "selected_features = best_features > 0.8\n",
        "print('Number of selected features:', selected_features.sum())\n",
        "print('Selected features:', ', '.join(X.columns[selected_features].tolist()))\n",
        "\n",
        "\n",
        "\n",
        "\n",
        "model_selected = SVC()\n",
        "model_all = SVC()\n",
        "\n",
        "model_selected.fit(X_train[:, selected_features], y_train)\n",
        "print('Subset accuracy:', model_selected.score(X_test[:, selected_features], y_test))\n",
        "\n",
        "model_all.fit(X_train, y_train)\n",
        "print('All Features Accuracy:', model_all.score(X_test, y_test))"
      ],
      "metadata": {
        "colab": {
          "base_uri": "https://localhost:8080/"
        },
        "id": "6EljN_VfCv71",
        "outputId": "d264429f-6876-47d9-b020-dba2cf99ca1c"
      },
      "execution_count": 47,
      "outputs": [
        {
          "output_type": "stream",
          "name": "stdout",
          "text": [
            "Number of selected features: 27\n",
            "Selected features: nni_min, hr_max, nni_diff_min, rmssd, nn20, pnn20, tinn_n, fft_peak_low, fft_abs_low, fft_log_high, fft_ratio, lomb_peak_medium, lomb_abs_low, lomb_abs_high, lomb_rel_high, lomb_log_low, lomb_norm_high, lomb_ratio, lomb_total, ar_abs_medium, ar_rel_low, ar_log_low, ar_log_medium, sd1, sd2, sd_ratio, sampen\n",
            "Subset accuracy: 0.6666666666666666\n",
            "All Features Accuracy: 0.6666666666666666\n"
          ]
        }
      ]
    },
    {
      "cell_type": "code",
      "source": [
        "best_features"
      ],
      "metadata": {
        "colab": {
          "base_uri": "https://localhost:8080/"
        },
        "id": "tdFY_w_POUJa",
        "outputId": "fadf4bc1-4ea0-48cc-d067-4dec5bb40a32"
      },
      "execution_count": 19,
      "outputs": [
        {
          "output_type": "execute_result",
          "data": {
            "text/plain": [
              "array([0.63721682, 0.        , 1.        , 0.        , 0.07668934,\n",
              "       0.32606324, 1.        , 0.        , 0.        , 1.        ,\n",
              "       0.        , 0.        , 0.86882527, 0.        , 0.        ,\n",
              "       0.        , 1.        , 1.        , 1.        , 0.        ,\n",
              "       0.        , 0.14832107, 1.        , 0.        , 0.        ,\n",
              "       1.        , 0.        , 0.        , 0.        , 0.        ,\n",
              "       0.        , 0.        , 1.        , 0.        , 0.        ,\n",
              "       1.        , 0.        , 0.        , 1.        , 0.        ,\n",
              "       1.        , 0.        , 1.        , 0.76165965, 0.14398781,\n",
              "       1.        , 1.        , 0.34187019, 0.        , 1.        ,\n",
              "       0.        , 1.        , 1.        , 0.        , 1.        ,\n",
              "       0.63431986, 1.        , 0.        , 0.43109561, 1.        ,\n",
              "       1.        , 0.        , 0.30711802, 0.39366187, 0.        ,\n",
              "       0.        , 1.        , 1.        , 1.        , 0.        ,\n",
              "       0.92228781, 0.        , 0.        ])"
            ]
          },
          "metadata": {},
          "execution_count": 19
        }
      ]
    },
    {
      "cell_type": "code",
      "source": [
        "X.columns[selected_features].tolist()"
      ],
      "metadata": {
        "colab": {
          "base_uri": "https://localhost:8080/"
        },
        "id": "hp4NLj0fE0Cq",
        "outputId": "d7339bd9-2830-4522-aac6-393d4ee604b9"
      },
      "execution_count": 18,
      "outputs": [
        {
          "output_type": "execute_result",
          "data": {
            "text/plain": [
              "['nni_counter',\n",
              " 'nni_min',\n",
              " 'hr_max',\n",
              " 'nni_diff_min',\n",
              " 'rmssd',\n",
              " 'nn20',\n",
              " 'pnn20',\n",
              " 'tinn_n',\n",
              " 'fft_peak_low',\n",
              " 'fft_abs_low',\n",
              " 'fft_log_high',\n",
              " 'fft_ratio',\n",
              " 'lomb_peak_medium',\n",
              " 'lomb_abs_low',\n",
              " 'lomb_abs_high',\n",
              " 'lomb_rel_low',\n",
              " 'lomb_rel_high',\n",
              " 'lomb_log_low',\n",
              " 'lomb_norm_high',\n",
              " 'lomb_ratio',\n",
              " 'lomb_total',\n",
              " 'ar_abs_medium',\n",
              " 'ar_abs_high',\n",
              " 'ar_rel_low',\n",
              " 'ar_log_low',\n",
              " 'ar_log_medium',\n",
              " 'sd1',\n",
              " 'sd2',\n",
              " 'sd_ratio',\n",
              " 'sampen']"
            ]
          },
          "metadata": {},
          "execution_count": 18
        }
      ]
    },
    {
      "cell_type": "code",
      "source": [],
      "metadata": {
        "id": "covzOy43_jnP"
      },
      "execution_count": null,
      "outputs": []
    }
  ]
}