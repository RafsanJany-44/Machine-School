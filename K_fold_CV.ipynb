{
  "cells": [
    {
      "cell_type": "markdown",
      "metadata": {
        "id": "view-in-github",
        "colab_type": "text"
      },
      "source": [
        "<a href=\"https://colab.research.google.com/github/RafsanJany-44/Machine-School/blob/main/K_fold_CV.ipynb\" target=\"_parent\"><img src=\"https://colab.research.google.com/assets/colab-badge.svg\" alt=\"Open In Colab\"/></a>"
      ]
    },
    {
      "cell_type": "markdown",
      "metadata": {
        "id": "1jkwMKzxFgCX"
      },
      "source": [
        "#Libraries"
      ]
    },
    {
      "cell_type": "code",
      "execution_count": 1,
      "metadata": {
        "id": "y9EnqiOYFgCd"
      },
      "outputs": [],
      "source": [
        "from sklearn.linear_model import LogisticRegression\n",
        "from sklearn.svm import SVC\n",
        "from sklearn.ensemble import RandomForestClassifier\n",
        "\n",
        "import numpy as np\n",
        "import pandas as pd\n",
        "\n",
        "import matplotlib.pyplot as plt\n",
        "#data = 'https://raw.githubusercontent.com/RafsanJany-44/Machine-School/main/datasets/HMC_WITH_BIOM.csv'\n",
        "data=\"https://raw.githubusercontent.com/RafsanJany-44/Research-NREM-REM/main/dataset/REM_NREM.csv\"\n",
        "dataset = pd.read_csv(data)\n"
      ]
    },
    {
      "cell_type": "markdown",
      "source": [
        "#Spliting"
      ],
      "metadata": {
        "id": "z6F11tGoSXoW"
      }
    },
    {
      "cell_type": "code",
      "execution_count": 2,
      "metadata": {
        "id": "S_uE2SjvFgCl"
      },
      "outputs": [],
      "source": [
        "X = dataset.iloc[:, 1:].values\n",
        "y = dataset.iloc[:, 0].values\n",
        "\n",
        "\n",
        "from sklearn.model_selection import train_test_split\n",
        "X_train, X_test, y_train, y_test = train_test_split(X, y, test_size = 0.33, random_state = 0)\n"
      ]
    },
    {
      "cell_type": "markdown",
      "source": [
        "$Models with out KFCV"
      ],
      "metadata": {
        "id": "cRe0ekJNeeIq"
      }
    },
    {
      "cell_type": "markdown",
      "metadata": {
        "id": "_gmN9p5TFgCm"
      },
      "source": [
        "**Logistic Regression,SVM,Random Forest**"
      ]
    },
    {
      "cell_type": "code",
      "execution_count": 3,
      "metadata": {
        "colab": {
          "base_uri": "https://localhost:8080/"
        },
        "id": "AapYK__5FgCn",
        "outputId": "1c7852a3-7deb-423d-f302-42ef080a0061"
      },
      "outputs": [
        {
          "output_type": "stream",
          "name": "stdout",
          "text": [
            "Logistic Reg Accuracy:  0.843105911162506\n",
            "SVM Accuracy:  0.9193932385552003\n",
            "Random Forest:  0.9233045371063193\n"
          ]
        }
      ],
      "source": [
        "lr = LogisticRegression(solver='liblinear',multi_class='ovr')\n",
        "lr.fit(X_train, y_train)\n",
        "print(\"Logistic Reg Accuracy: \",lr.score(X_test, y_test))\n",
        "\n",
        "\n",
        "svm = SVC(gamma='auto')\n",
        "svm.fit(X_train, y_train)\n",
        "print(\"SVM Accuracy: \",svm.score(X_test, y_test))\n",
        "\n",
        "rf = RandomForestClassifier(n_estimators=40)\n",
        "rf.fit(X_train, y_train)\n",
        "print(\"Random Forest: \",rf.score(X_test, y_test))\n"
      ]
    },
    {
      "cell_type": "markdown",
      "metadata": {
        "id": "d5p8kkVHFgCt"
      },
      "source": [
        "<h2 style='color:purple'>KFold cross validation</h2>"
      ]
    },
    {
      "cell_type": "markdown",
      "metadata": {
        "id": "7zUO_VNtFgCu"
      },
      "source": [
        "**Basic example**"
      ]
    },
    {
      "cell_type": "code",
      "execution_count": 4,
      "metadata": {
        "colab": {
          "base_uri": "https://localhost:8080/"
        },
        "id": "fMpIT-qUFgCu",
        "outputId": "4637496e-2e55-4027-f8b2-79fac209a198"
      },
      "outputs": [
        {
          "output_type": "execute_result",
          "data": {
            "text/plain": [
              "KFold(n_splits=3, random_state=None, shuffle=False)"
            ]
          },
          "metadata": {},
          "execution_count": 4
        }
      ],
      "source": [
        "from sklearn.model_selection import KFold\n",
        "kf = KFold(n_splits=3)\n",
        "kf"
      ]
    },
    {
      "cell_type": "code",
      "execution_count": 5,
      "metadata": {
        "scrolled": true,
        "colab": {
          "base_uri": "https://localhost:8080/"
        },
        "id": "AtND1ubFFgCx",
        "outputId": "11fbca35-b0ef-4a7d-a1ba-e24216565f89"
      },
      "outputs": [
        {
          "output_type": "stream",
          "name": "stdout",
          "text": [
            "[3 4 5 6 7 8] [0 1 2]\n",
            "[0 1 2 6 7 8] [3 4 5]\n",
            "[0 1 2 3 4 5] [6 7 8]\n"
          ]
        }
      ],
      "source": [
        "for train_index, test_index in kf.split([1,2,3,4,5,6,7,8,9]):\n",
        "    print(train_index, test_index)"
      ]
    },
    {
      "cell_type": "markdown",
      "source": [
        "**Mannualy Function**"
      ],
      "metadata": {
        "id": "8ibl5gxVDfmf"
      }
    },
    {
      "cell_type": "code",
      "source": [
        "def get_score(model, X_train, X_test, y_train, y_test):\n",
        "    model.fit(X_train, y_train)\n",
        "    return model.score(X_test, y_test)\n",
        "\n",
        "\n",
        "from sklearn.model_selection import StratifiedKFold\n",
        "folds = StratifiedKFold(n_splits=3)\n",
        "\n",
        "scores_logistic = []\n",
        "scores_svm = []\n",
        "scores_rf = []\n",
        "\n",
        "for train_index, test_index in folds.split(X,y):\n",
        "    X_train, X_test, y_train, y_test = X[train_index], X[test_index], \\\n",
        "                                       y[train_index], y[test_index]\n",
        "    scores_logistic.append(get_score(LogisticRegression(solver='liblinear',multi_class='ovr'), X_train, X_test, y_train, y_test))  \n",
        "    scores_svm.append(get_score(SVC(gamma='auto'), X_train, X_test, y_train, y_test))\n",
        "    scores_rf.append(get_score(RandomForestClassifier(n_estimators=40), X_train, X_test, y_train, y_test))\n",
        "\n",
        "print(\"Logistic Reg Accuracy: \",scores_logistic)\n",
        "print(\"SVN Accuracy: \",scores_svm)\n",
        "print(\"RF Accuracy: \",scores_rf)"
      ],
      "metadata": {
        "colab": {
          "base_uri": "https://localhost:8080/"
        },
        "id": "ZzHtGEseDbto",
        "outputId": "0d4f1fb5-3458-46a5-aa81-6578f5dda8d9"
      },
      "execution_count": 6,
      "outputs": [
        {
          "output_type": "stream",
          "name": "stdout",
          "text": [
            "Logistic Reg Accuracy:  [0.8151789622546214, 0.8417455133169467, 0.8295844838036232]\n",
            "SVN Accuracy:  [0.8182767096535237, 0.8043368463584633, 0.8088086739847801]\n",
            "RF Accuracy:  [0.8384120677463888, 0.8626889794269167, 0.8474644757222709]\n"
          ]
        }
      ]
    },
    {
      "cell_type": "markdown",
      "metadata": {
        "id": "GJHnQOIHFgDZ"
      },
      "source": [
        "<h2 style='color:purple'>cross_val_score function</h2>"
      ]
    },
    {
      "cell_type": "code",
      "execution_count": 7,
      "metadata": {
        "scrolled": true,
        "id": "d7WXp2FFFgDZ"
      },
      "outputs": [],
      "source": [
        "from sklearn.model_selection import cross_val_score"
      ]
    },
    {
      "cell_type": "markdown",
      "metadata": {
        "id": "BsOa7fJtFgDa"
      },
      "source": [
        "**Logistic regression, SVM, Random forest using cross val score**"
      ]
    },
    {
      "cell_type": "code",
      "execution_count": null,
      "metadata": {
        "scrolled": true,
        "colab": {
          "base_uri": "https://localhost:8080/"
        },
        "id": "RKi6_pJoFgDa",
        "outputId": "01229b26-eeb8-4ae3-ed31-17574b0315c1"
      },
      "outputs": [
        {
          "output_type": "stream",
          "name": "stdout",
          "text": [
            "Logistic regression Accurecy for 3 fold: [0.82435466 0.82675795 0.83455862 0.84022672 0.83495146]\n",
            "Random Forest Performance Accurecy for 3 fold: [0.85763187 0.84090016 0.84696111 0.85403221 0.84005836]\n"
          ]
        }
      ],
      "source": [
        "print(\"Logistic regression Accurecy for 3 fold:\",cross_val_score(LogisticRegression(solver='liblinear',multi_class='ovr'), X, y,cv=5))\n",
        "print(\"Random Forest Performance Accurecy for 3 fold:\",cross_val_score(RandomForestClassifier(n_estimators=40),X, y,cv=5))\n",
        "print(\"SVM Accurecy for 3 fold:\",cross_val_score(SVC(gamma='auto'), X, y,cv=5))\n"
      ]
    },
    {
      "cell_type": "markdown",
      "source": [
        "**AVG SCORE**"
      ],
      "metadata": {
        "id": "VsQMIcHnz2E4"
      }
    },
    {
      "cell_type": "code",
      "source": [
        "\n",
        "Kfolds=5\n",
        "l=list(cross_val_score(LogisticRegression(solver='liblinear',multi_class='ovr'), X, y,cv=Kfolds))\n",
        "avg=sum(l)/Kfolds\n",
        "\n",
        "\n",
        "\n",
        "print(\"Logistic regression Accurecy for 3 fold:\",avg)"
      ],
      "metadata": {
        "id": "TVmnTMMbz55x"
      },
      "execution_count": null,
      "outputs": []
    },
    {
      "cell_type": "code",
      "source": [
        ""
      ],
      "metadata": {
        "id": "sTo7AUyQz1ys"
      },
      "execution_count": null,
      "outputs": []
    },
    {
      "cell_type": "markdown",
      "metadata": {
        "id": "EGMyU9AIFgDc"
      },
      "source": [
        "<h2 style='color:purple'>CV Parameter tunning</h2>"
      ]
    },
    {
      "cell_type": "code",
      "execution_count": null,
      "metadata": {
        "id": "P-gMb61KFgDd"
      },
      "outputs": [],
      "source": [
        "from sklearn.linear_model import LogisticRegression\n",
        "\n",
        "Kfolds=50\n",
        "Kfolds_range = range (2,Kfolds+1)\n",
        "scores={}\n",
        "scores_list = []\n",
        "for k in Kfolds_range:\n",
        "  l=list(cross_val_score(LogisticRegression(solver='liblinear',multi_class='ovr'), X, y,cv=k))\n",
        "  avg=sum(l)/k\n",
        "  scores[k] = avg\n",
        "  scores_list.append(avg)\n",
        "  print(str(k)+\"/\"+str(Kfolds)+\" round completed.........................AVG Accurecy: \"+str(avg))"
      ]
    },
    {
      "cell_type": "code",
      "source": [
        "\n",
        "print(\"The best number of Folds:\")\n",
        "print(list(scores.keys())[scores_list.index(max(scores_list))])"
      ],
      "metadata": {
        "id": "JaKyAnMv08pz"
      },
      "execution_count": null,
      "outputs": []
    },
    {
      "cell_type": "code",
      "execution_count": null,
      "metadata": {
        "id": "0rw-b9v8FgDd"
      },
      "outputs": [],
      "source": [
        "%matplotlib inline\n",
        "import matplotlib.pyplot as plt\n",
        "\n",
        "plt.figure(figsize = (25,10))\n",
        "plt.plot(Kfolds_range,scores_list)\n",
        "plt.xlabel('Value of K Folds')\n",
        "plt.ylabel ('AVG Accuracy')"
      ]
    },
    {
      "cell_type": "code",
      "source": [
        "import plotly.express as px\n",
        "import pandas as pd\n",
        "\n",
        "df = pd.DataFrame(dict(\n",
        "    x = Kfolds_range,\n",
        "    y = scores_list\n",
        "))\n",
        "\n",
        "fig = px.line(df, x=\"x\", y=\"y\", title=\"K Folds AVG Accuracy\") \n",
        "fig.show()"
      ],
      "metadata": {
        "id": "qEmLcEyH067E"
      },
      "execution_count": null,
      "outputs": []
    },
    {
      "cell_type": "markdown",
      "source": [
        "17 jun 2022------------------------------------------------"
      ],
      "metadata": {
        "id": "uqdV34F8-6M2"
      }
    },
    {
      "cell_type": "code",
      "source": [
        "from sklearn.model_selection import KFold\n",
        "kf = KFold(n_splits=3)\n",
        "kf"
      ],
      "metadata": {
        "id": "dlopHDdQAXut"
      },
      "execution_count": null,
      "outputs": []
    },
    {
      "cell_type": "code",
      "source": [
        "for train_index, test_index in kf.split([1,2,3,4,5,6,7,8,9]):\n",
        "    print(train_index, test_index)"
      ],
      "metadata": {
        "id": "7Q4qtD22AIlL"
      },
      "execution_count": null,
      "outputs": []
    },
    {
      "cell_type": "code",
      "source": [
        "def get_score(model, X_train, X_test, y_train, y_test):\n",
        "    model.fit(X_train, y_train)\n",
        "    return model.score(X_test, y_test)"
      ],
      "metadata": {
        "id": "sRlQ7Ebx-8rI"
      },
      "execution_count": null,
      "outputs": []
    },
    {
      "cell_type": "code",
      "source": [
        "from sklearn.model_selection import StratifiedKFold\n",
        "folds = StratifiedKFold(n_splits=3)\n",
        "\n",
        "scores_logistic = []\n",
        "scores_svm = []\n",
        "scores_rf = []\n",
        "\n",
        "for train_index, test_index in folds.split(digits.data,digits.target):\n",
        "    X_train, X_test, y_train, y_test = digits.data[train_index], digits.data[test_index], \\\n",
        "                                       digits.target[train_index], digits.target[test_index]\n",
        "    scores_logistic.append(get_score(LogisticRegression(solver='liblinear',multi_class='ovr'), X_train, X_test, y_train, y_test))  \n",
        "    scores_svm.append(get_score(SVC(gamma='auto'), X_train, X_test, y_train, y_test))\n",
        "    scores_rf.append(get_score(RandomForestClassifier(n_estimators=40), X_train, X_test, y_train, y_test))"
      ],
      "metadata": {
        "id": "YMlO174SADKh"
      },
      "execution_count": null,
      "outputs": []
    }
  ],
  "metadata": {
    "kernelspec": {
      "display_name": "Python 3",
      "language": "python",
      "name": "python3"
    },
    "language_info": {
      "codemirror_mode": {
        "name": "ipython",
        "version": 3
      },
      "file_extension": ".py",
      "mimetype": "text/x-python",
      "name": "python",
      "nbconvert_exporter": "python",
      "pygments_lexer": "ipython3",
      "version": "3.7.3"
    },
    "colab": {
      "name": "K_fold_CV.ipynb",
      "provenance": [],
      "include_colab_link": true
    }
  },
  "nbformat": 4,
  "nbformat_minor": 0
}