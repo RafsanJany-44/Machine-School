{
  "cells": [
    {
      "cell_type": "markdown",
      "metadata": {
        "id": "view-in-github",
        "colab_type": "text"
      },
      "source": [
        "<a href=\"https://colab.research.google.com/github/RafsanJany-44/Machine-School/blob/main/K_fold_CV.ipynb\" target=\"_parent\"><img src=\"https://colab.research.google.com/assets/colab-badge.svg\" alt=\"Open In Colab\"/></a>"
      ]
    },
    {
      "cell_type": "markdown",
      "metadata": {
        "id": "1jkwMKzxFgCX"
      },
      "source": [
        "#Libraries"
      ]
    },
    {
      "cell_type": "code",
      "execution_count": 2,
      "metadata": {
        "id": "y9EnqiOYFgCd"
      },
      "outputs": [],
      "source": [
        "from sklearn.linear_model import LogisticRegression\n",
        "from sklearn.svm import SVC\n",
        "from sklearn.ensemble import RandomForestClassifier\n",
        "import numpy as np\n",
        "from sklearn.datasets import load_digits\n",
        "import pandas as pd\n",
        "import matplotlib.pyplot as plt\n",
        "data = 'https://raw.githubusercontent.com/RafsanJany-44/Machine-School/main/datasets/HMC_WITH_BIOM.csv'\n",
        "#data=\"https://raw.githubusercontent.com/RafsanJany-44/Research-NREM-REM/main/dataset/REM_NREM.csv\"\n",
        "dataset = pd.read_csv(data)\n"
      ]
    },
    {
      "cell_type": "markdown",
      "source": [
        "#Spliting"
      ],
      "metadata": {
        "id": "z6F11tGoSXoW"
      }
    },
    {
      "cell_type": "code",
      "execution_count": 3,
      "metadata": {
        "id": "S_uE2SjvFgCl"
      },
      "outputs": [],
      "source": [
        "X = dataset.iloc[:, 1:].values\n",
        "y = dataset.iloc[:, 0].values\n",
        "\n",
        "\n",
        "from sklearn.model_selection import train_test_split\n",
        "X_train, X_test, y_train, y_test = train_test_split(X, y, test_size = 0.33, random_state = 0)\n"
      ]
    },
    {
      "cell_type": "markdown",
      "source": [
        "$Models with out KFCV"
      ],
      "metadata": {
        "id": "cRe0ekJNeeIq"
      }
    },
    {
      "cell_type": "markdown",
      "metadata": {
        "id": "_gmN9p5TFgCm"
      },
      "source": [
        "**Logistic Regression,SVM,Random Forest**"
      ]
    },
    {
      "cell_type": "code",
      "execution_count": 5,
      "metadata": {
        "colab": {
          "base_uri": "https://localhost:8080/"
        },
        "id": "AapYK__5FgCn",
        "outputId": "c36cee06-bc06-4a22-9cae-269fb358cb19"
      },
      "outputs": [
        {
          "output_type": "stream",
          "name": "stdout",
          "text": [
            "Logistic Reg Accuracy:  0.33447149643705465\n",
            "SVM Accuracy:  0.7357482185273159\n",
            "Random Forest:  0.7866686460807601\n"
          ]
        }
      ],
      "source": [
        "lr = LogisticRegression(solver='liblinear',multi_class='ovr')\n",
        "lr.fit(X_train, y_train)\n",
        "print(\"Logistic Reg Accuracy: \",lr.score(X_test, y_test))\n",
        "\n",
        "\n",
        "svm = SVC(gamma='auto')\n",
        "svm.fit(X_train, y_train)\n",
        "print(\"SVM Accuracy: \",svm.score(X_test, y_test))\n",
        "\n",
        "rf = RandomForestClassifier(n_estimators=40)\n",
        "rf.fit(X_train, y_train)\n",
        "print(\"Random Forest: \",rf.score(X_test, y_test))\n"
      ]
    },
    {
      "cell_type": "markdown",
      "metadata": {
        "id": "d5p8kkVHFgCt"
      },
      "source": [
        "<h2 style='color:purple'>KFold cross validation</h2>"
      ]
    },
    {
      "cell_type": "markdown",
      "metadata": {
        "id": "7zUO_VNtFgCu"
      },
      "source": [
        "**Basic example**"
      ]
    },
    {
      "cell_type": "code",
      "execution_count": 6,
      "metadata": {
        "colab": {
          "base_uri": "https://localhost:8080/"
        },
        "id": "fMpIT-qUFgCu",
        "outputId": "64d3f87b-9c62-4423-d352-a29eef03cd4f"
      },
      "outputs": [
        {
          "output_type": "execute_result",
          "data": {
            "text/plain": [
              "KFold(n_splits=3, random_state=None, shuffle=False)"
            ]
          },
          "metadata": {},
          "execution_count": 6
        }
      ],
      "source": [
        "from sklearn.model_selection import KFold\n",
        "kf = KFold(n_splits=3)\n",
        "kf"
      ]
    },
    {
      "cell_type": "code",
      "execution_count": 7,
      "metadata": {
        "scrolled": true,
        "colab": {
          "base_uri": "https://localhost:8080/"
        },
        "id": "AtND1ubFFgCx",
        "outputId": "1a851109-cf16-469f-9f66-14728616d04b"
      },
      "outputs": [
        {
          "output_type": "stream",
          "name": "stdout",
          "text": [
            "[3 4 5 6 7 8] [0 1 2]\n",
            "[0 1 2 6 7 8] [3 4 5]\n",
            "[0 1 2 3 4 5] [6 7 8]\n"
          ]
        }
      ],
      "source": [
        "for train_index, test_index in kf.split([1,2,3,4,5,6,7,8,9]):\n",
        "    print(train_index, test_index)"
      ]
    },
    {
      "cell_type": "markdown",
      "metadata": {
        "id": "GJHnQOIHFgDZ"
      },
      "source": [
        "<h2 style='color:purple'>cross_val_score function</h2>"
      ]
    },
    {
      "cell_type": "code",
      "execution_count": 8,
      "metadata": {
        "scrolled": true,
        "id": "d7WXp2FFFgDZ"
      },
      "outputs": [],
      "source": [
        "from sklearn.model_selection import cross_val_score"
      ]
    },
    {
      "cell_type": "markdown",
      "metadata": {
        "id": "BsOa7fJtFgDa"
      },
      "source": [
        "**Logistic regression, SVM, Random forest using cross val score**"
      ]
    },
    {
      "cell_type": "code",
      "execution_count": 9,
      "metadata": {
        "scrolled": true,
        "colab": {
          "base_uri": "https://localhost:8080/"
        },
        "id": "RKi6_pJoFgDa",
        "outputId": "1ccacf2e-1ddb-476e-c2c4-8b0d6c66b006"
      },
      "outputs": [
        {
          "output_type": "stream",
          "name": "stdout",
          "text": [
            "Logistic regression Accurecy for 3 fold: [0.3378246  0.3378246  0.23762861 0.3378246  0.3378246 ]\n",
            "Random Forest Performance Accurecy for 3 fold: [0.61244488 0.57961783 0.38094072 0.56246938 0.63914748]\n",
            "SVM Accurecy for 3 fold: [0.41842234 0.29568839 0.29274865 0.38290054 0.42969133]\n"
          ]
        }
      ],
      "source": [
        "print(\"Logistic regression Accurecy for 3 fold:\",cross_val_score(LogisticRegression(solver='liblinear',multi_class='ovr'), X, y,cv=5))\n",
        "print(\"Random Forest Performance Accurecy for 3 fold:\",cross_val_score(RandomForestClassifier(n_estimators=40),X, y,cv=5))\n",
        "print(\"SVM Accurecy for 3 fold:\",cross_val_score(SVC(gamma='auto'), X, y,cv=5))\n"
      ]
    },
    {
      "cell_type": "markdown",
      "source": [
        "**AVG SCORE**"
      ],
      "metadata": {
        "id": "VsQMIcHnz2E4"
      }
    },
    {
      "cell_type": "code",
      "source": [
        "\n",
        "Kfolds=5\n",
        "l=list(cross_val_score(LogisticRegression(solver='liblinear',multi_class='ovr'), X, y,cv=Kfolds))\n",
        "avg=sum(l)/Kfolds\n",
        "\n",
        "\n",
        "\n",
        "print(\"Logistic regression Accurecy for 3 fold:\",avg)"
      ],
      "metadata": {
        "id": "TVmnTMMbz55x",
        "outputId": "838ad325-eeba-4450-ccdf-549740a15833",
        "colab": {
          "base_uri": "https://localhost:8080/"
        }
      },
      "execution_count": 12,
      "outputs": [
        {
          "output_type": "stream",
          "name": "stdout",
          "text": [
            "Logistic regression Accurecy for 3 fold: 0.31778539931406175\n"
          ]
        }
      ]
    },
    {
      "cell_type": "code",
      "source": [
        ""
      ],
      "metadata": {
        "id": "sTo7AUyQz1ys"
      },
      "execution_count": null,
      "outputs": []
    },
    {
      "cell_type": "markdown",
      "metadata": {
        "id": "EGMyU9AIFgDc"
      },
      "source": [
        "<h2 style='color:purple'>CV Parameter tunning</h2>"
      ]
    },
    {
      "cell_type": "code",
      "execution_count": 14,
      "metadata": {
        "colab": {
          "base_uri": "https://localhost:8080/"
        },
        "id": "P-gMb61KFgDd",
        "outputId": "b845771d-af0a-4cf4-b966-ed275147b9ab"
      },
      "outputs": [
        {
          "output_type": "stream",
          "name": "stdout",
          "text": [
            "2/10 round completed.........................AVG Accurecy: 0.28775110240078394\n",
            "3/10 round completed.........................AVG Accurecy: 0.30445696068025\n",
            "4/10 round completed.........................AVG Accurecy: 0.3128343943075276\n",
            "5/10 round completed.........................AVG Accurecy: 0.31778539931406175\n",
            "6/10 round completed.........................AVG Accurecy: 0.3211677289644554\n",
            "7/10 round completed.........................AVG Accurecy: 0.32356828408540494\n",
            "8/10 round completed.........................AVG Accurecy: 0.32532950075512834\n",
            "9/10 round completed.........................AVG Accurecy: 0.3267526838611156\n",
            "10/10 round completed.........................AVG Accurecy: 0.32782949534541894\n"
          ]
        }
      ],
      "source": [
        "from sklearn.linear_model import LogisticRegression\n",
        "\n",
        "Kfolds=25\n",
        "Kfolds_range = range (2,Kfolds+1)\n",
        "scores={}\n",
        "scores_list = []\n",
        "for k in Kfolds_range:\n",
        "  l=list(cross_val_score(LogisticRegression(solver='liblinear',multi_class='ovr'), X, y,cv=k))\n",
        "  avg=sum(l)/k\n",
        "  scores[k] = avg\n",
        "  scores_list.append(avg)\n",
        "  print(str(k)+\"/\"+str(Kfolds)+\" round completed.........................AVG Accurecy: \"+str(avg))"
      ]
    },
    {
      "cell_type": "code",
      "source": [
        "\n",
        "print(\"The best number of Folds:\")\n",
        "print(list(scores.keys())[scores_list.index(max(scores_list))])"
      ],
      "metadata": {
        "id": "JaKyAnMv08pz",
        "outputId": "4647a4b0-9abb-45d9-9c63-6067175cf5d6",
        "colab": {
          "base_uri": "https://localhost:8080/"
        }
      },
      "execution_count": 15,
      "outputs": [
        {
          "output_type": "stream",
          "name": "stdout",
          "text": [
            "The best number of Folds:\n",
            "10\n"
          ]
        }
      ]
    },
    {
      "cell_type": "code",
      "execution_count": 16,
      "metadata": {
        "colab": {
          "base_uri": "https://localhost:8080/",
          "height": 522
        },
        "id": "0rw-b9v8FgDd",
        "outputId": "0dc8e3c5-db5d-4728-c45d-744fbe237eea"
      },
      "outputs": [
        {
          "output_type": "execute_result",
          "data": {
            "text/plain": [
              "Text(0, 0.5, 'Testing Accuracy')"
            ]
          },
          "metadata": {},
          "execution_count": 16
        },
        {
          "output_type": "display_data",
          "data": {
            "text/plain": [
              "<Figure size 1800x720 with 1 Axes>"
            ],
            "image/png": "[encoded data removed]"
          },
          "metadata": {
            "needs_background": "light"
          }
        }
      ],
      "source": [
        "%matplotlib inline\n",
        "import matplotlib.pyplot as plt\n",
        "\n",
        "plt.figure(figsize = (25,10))\n",
        "plt.plot(Kfolds_range,scores_list)\n",
        "plt.xlabel('Value of K for KNN')\n",
        "plt.ylabel ('Testing Accuracy')"
      ]
    },
    {
      "cell_type": "code",
      "source": [
        ""
      ],
      "metadata": {
        "id": "qEmLcEyH067E"
      },
      "execution_count": null,
      "outputs": []
    }
  ],
  "metadata": {
    "kernelspec": {
      "display_name": "Python 3",
      "language": "python",
      "name": "python3"
    },
    "language_info": {
      "codemirror_mode": {
        "name": "ipython",
        "version": 3
      },
      "file_extension": ".py",
      "mimetype": "text/x-python",
      "name": "python",
      "nbconvert_exporter": "python",
      "pygments_lexer": "ipython3",
      "version": "3.7.3"
    },
    "colab": {
      "name": "K_fold_CV.ipynb",
      "provenance": [],
      "include_colab_link": true
    }
  },
  "nbformat": 4,
  "nbformat_minor": 0
}