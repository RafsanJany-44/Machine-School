{
  "nbformat": 4,
  "nbformat_minor": 0,
  "metadata": {
    "colab": {
      "name": "KNN_SKLearn.ipynb",
      "provenance": [],
      "authorship_tag": "ABX9TyPpYHyavSDe/y/wpX+j2Pml",
      "include_colab_link": true
    },
    "kernelspec": {
      "name": "python3",
      "display_name": "Python 3"
    },
    "language_info": {
      "name": "python"
    }
  },
  "cells": [
    {
      "cell_type": "markdown",
      "metadata": {
        "id": "view-in-github",
        "colab_type": "text"
      },
      "source": [
        "<a href=\"https://colab.research.google.com/github/RafsanJany-44/Machine-School/blob/main/KNN_SKLearn.ipynb\" target=\"_parent\"><img src=\"https://colab.research.google.com/assets/colab-badge.svg\" alt=\"Open In Colab\"/></a>"
      ]
    },
    {
      "cell_type": "markdown",
      "source": [
        "#Librery"
      ],
      "metadata": {
        "id": "ITqliX2CC0c9"
      }
    },
    {
      "cell_type": "code",
      "execution_count": null,
      "metadata": {
        "id": "z5jwM07DCcpI"
      },
      "outputs": [],
      "source": [
        "import pandas as pd\n",
        "import numpy as np\n",
        "import matplotlib.pyplot as plt\n",
        "data = 'https://raw.githubusercontent.com/RafsanJany-44/Machine-School/main/datasets/HMC_WITH_BIOM.csv'\n",
        "\n",
        "dataset = pd.read_csv(data)\n"
      ]
    },
    {
      "cell_type": "markdown",
      "source": [
        "#Spliting"
      ],
      "metadata": {
        "id": "1hOye7PqC4Wy"
      }
    },
    {
      "cell_type": "code",
      "source": [
        "X = dataset.iloc[:, 1:].values\n",
        "y = dataset.iloc[:, 0].values\n",
        "\n",
        "\n",
        "from sklearn.model_selection import train_test_split\n",
        "X_train, X_test, y_train, y_test = train_test_split(X, y, test_size = 0.33, random_state = 0)\n"
      ],
      "metadata": {
        "id": "Dnky2eqAC8K9"
      },
      "execution_count": null,
      "outputs": []
    },
    {
      "cell_type": "markdown",
      "source": [
        "#Scaling"
      ],
      "metadata": {
        "id": "-E12oO4-DAp-"
      }
    },
    {
      "cell_type": "code",
      "source": [
        "from sklearn.preprocessing import StandardScaler\n",
        "sc = StandardScaler()\n",
        " \n",
        "X_train = sc.fit_transform(X_train)\n",
        "X_test = sc.transform(X_test)"
      ],
      "metadata": {
        "id": "1VXuVF05DESb"
      },
      "execution_count": null,
      "outputs": []
    },
    {
      "cell_type": "markdown",
      "source": [
        "#Model (KNN)"
      ],
      "metadata": {
        "id": "iSvFh8NREWqG"
      }
    },
    {
      "cell_type": "markdown",
      "source": [
        "Normal Model"
      ],
      "metadata": {
        "id": "-JEjXuDMEjhx"
      }
    },
    {
      "cell_type": "code",
      "source": [
        "from sklearn.neighbors import KNeighborsClassifier\n",
        "KNN_class = KNeighborsClassifier(n_neighbors=8)\n",
        "KNN_class.fit(X_train, y_train)\n",
        "y_pred=KNN_class.predict(X_test)"
      ],
      "metadata": {
        "id": "Lo-tnLUPClAg"
      },
      "execution_count": null,
      "outputs": []
    },
    {
      "cell_type": "markdown",
      "source": [
        "Chosing Best n_neighbors for model"
      ],
      "metadata": {
        "id": "E2ostmT7El92"
      }
    },
    {
      "cell_type": "code",
      "source": [
        "from sklearn.neighbors import KNeighborsClassifier\n",
        "from sklearn.metrics import accuracy_score\n",
        "Neighbors=50\n",
        "k_range = range (1,Neighbors+1)\n",
        "scores={}\n",
        "scores_list = []\n",
        "for k in k_range:\n",
        "  knn = KNeighborsClassifier(n_neighbors=k)\n",
        "  knn.fit(X_train, y_train)\n",
        "  y_pred=knn.predict(X_test)\n",
        "  scores[k] = accuracy_score(y_test,y_pred)\n",
        "  scores_list.append(accuracy_score(y_test,y_pred))\n",
        "  print(str(k)+\"/\"+str(Neighbors)+\" round completed......................... Accurecy: \"+str(accuracy_score(y_test,y_pred)))"
      ],
      "metadata": {
        "colab": {
          "base_uri": "https://localhost:8080/"
        },
        "id": "PKZEz9hnErDS",
        "outputId": "a00858ec-ae18-43fa-cb5f-9870f69644c0"
      },
      "execution_count": null,
      "outputs": [
        {
          "output_type": "stream",
          "name": "stdout",
          "text": [
            "1/50 round completed......................... Accurecy: 0.6940320665083135\n",
            "2/50 round completed......................... Accurecy: 0.6692399049881235\n",
            "3/50 round completed......................... Accurecy: 0.7217933491686461\n",
            "4/50 round completed......................... Accurecy: 0.7189726840855107\n",
            "5/50 round completed......................... Accurecy: 0.728770783847981\n",
            "6/50 round completed......................... Accurecy: 0.7409441805225653\n",
            "7/50 round completed......................... Accurecy: 0.7459916864608076\n",
            "8/50 round completed......................... Accurecy: 0.746585510688836\n",
            "9/50 round completed......................... Accurecy: 0.746585510688836\n",
            "10/50 round completed......................... Accurecy: 0.7451009501187649\n",
            "11/50 round completed......................... Accurecy: 0.7428741092636579\n",
            "12/50 round completed......................... Accurecy: 0.7391627078384798\n",
            "13/50 round completed......................... Accurecy: 0.7397565320665083\n",
            "14/50 round completed......................... Accurecy: 0.7379750593824228\n",
            "15/50 round completed......................... Accurecy: 0.7399049881235155\n",
            "16/50 round completed......................... Accurecy: 0.7379750593824228\n",
            "17/50 round completed......................... Accurecy: 0.7400534441805225\n",
            "18/50 round completed......................... Accurecy: 0.7397565320665083\n",
            "19/50 round completed......................... Accurecy: 0.7379750593824228\n",
            "20/50 round completed......................... Accurecy: 0.7344121140142518\n",
            "21/50 round completed......................... Accurecy: 0.7320368171021377\n",
            "22/50 round completed......................... Accurecy: 0.7318883610451307\n",
            "23/50 round completed......................... Accurecy: 0.7309976247030879\n",
            "24/50 round completed......................... Accurecy: 0.7290676959619953\n",
            "25/50 round completed......................... Accurecy: 0.7304038004750594\n",
            "26/50 round completed......................... Accurecy: 0.7295130641330166\n",
            "27/50 round completed......................... Accurecy: 0.729958432304038\n",
            "28/50 round completed......................... Accurecy: 0.7262470308788599\n",
            "29/50 round completed......................... Accurecy: 0.726395486935867\n",
            "30/50 round completed......................... Accurecy: 0.7277315914489311\n",
            "31/50 round completed......................... Accurecy: 0.7238717339667459\n",
            "32/50 round completed......................... Accurecy: 0.7246140142517815\n",
            "33/50 round completed......................... Accurecy: 0.7232779097387173\n",
            "34/50 round completed......................... Accurecy: 0.7223871733966746\n",
            "35/50 round completed......................... Accurecy: 0.7210510688836105\n",
            "36/50 round completed......................... Accurecy: 0.7207541567695962\n",
            "37/50 round completed......................... Accurecy: 0.7188242280285035\n",
            "38/50 round completed......................... Accurecy: 0.7179334916864608\n",
            "39/50 round completed......................... Accurecy: 0.7195665083135392\n",
            "40/50 round completed......................... Accurecy: 0.7154097387173397\n",
            "41/50 round completed......................... Accurecy: 0.7131828978622328\n",
            "42/50 round completed......................... Accurecy: 0.7131828978622328\n",
            "43/50 round completed......................... Accurecy: 0.7124406175771971\n",
            "44/50 round completed......................... Accurecy: 0.713479809976247\n",
            "45/50 round completed......................... Accurecy: 0.7139251781472684\n",
            "46/50 round completed......................... Accurecy: 0.711104513064133\n",
            "47/50 round completed......................... Accurecy: 0.709916864608076\n",
            "48/50 round completed......................... Accurecy: 0.7072446555819477\n",
            "49/50 round completed......................... Accurecy: 0.7059085510688836\n",
            "50/50 round completed......................... Accurecy: 0.7045724465558195\n"
          ]
        }
      ]
    },
    {
      "cell_type": "code",
      "source": [
        "print(\"The best n_neighbors:\")\n",
        "print(list(scores.keys())[scores_list.index(max(scores_list))])#min(scores_list)"
      ],
      "metadata": {
        "id": "b-PcuuLDJS0W",
        "colab": {
          "base_uri": "https://localhost:8080/"
        },
        "outputId": "4b81161e-567a-4e47-ebc5-5b1b5de69419"
      },
      "execution_count": null,
      "outputs": [
        {
          "output_type": "stream",
          "name": "stdout",
          "text": [
            "The best n_neighbors:\n",
            "8\n"
          ]
        }
      ]
    },
    {
      "cell_type": "markdown",
      "source": [
        "Graph"
      ],
      "metadata": {
        "id": "ONdo8560Gq-0"
      }
    },
    {
      "cell_type": "code",
      "source": [
        "%matplotlib inline\n",
        "import matplotlib.pyplot as plt\n",
        "#plot the relationship between K and the testing accuracy\n",
        "plt.figure(figsize = (25,10))\n",
        "plt.plot(k_range,scores_list)\n",
        "plt.xlabel('Value of K for KNN')\n",
        "plt.ylabel ('Testing Accuracy')"
      ],
      "metadata": {
        "colab": {
          "base_uri": "https://localhost:8080/",
          "height": 464
        },
        "id": "xDrEpapWGnke",
        "outputId": "120f1eae-cb3c-4512-b4a8-04b1d3527056"
      },
      "execution_count": null,
      "outputs": [
        {
          "output_type": "execute_result",
          "data": {
            "text/plain": [
              "Text(0, 0.5, 'Testing Accuracy')"
            ]
          },
          "metadata": {},
          "execution_count": 25
        },
        {
          "output_type": "display_data",
          "data": {
            "text/plain": [
              "<Figure size 1800x720 with 1 Axes>"
            ],
            "image/png": "[encoded data removed]"
          },
          "metadata": {
            "needs_background": "light"
          }
        }
      ]
    },
    {
      "cell_type": "markdown",
      "source": [
        "#Small Details"
      ],
      "metadata": {
        "id": "ll90fEAIEfnn"
      }
    },
    {
      "cell_type": "code",
      "source": [
        "\n",
        "from sklearn.metrics import classification_report, confusion_matrix, accuracy_score\n",
        "print(confusion_matrix(y_test, y_pred))\n",
        "print(classification_report(y_test,y_pred))\n",
        "print(\"Accurecy: \",accuracy_score(y_test, y_pred))"
      ],
      "metadata": {
        "id": "iYzc6FNtEc5M",
        "colab": {
          "base_uri": "https://localhost:8080/"
        },
        "outputId": "efc8860d-40cc-4283-e925-fd25a10fae76"
      },
      "execution_count": null,
      "outputs": [
        {
          "output_type": "stream",
          "name": "stdout",
          "text": [
            "[[ 231  239    9   71  143]\n",
            " [  84 1883  166   55   65]\n",
            " [   5  325  854    2    4]\n",
            " [  38  174   16  733   27]\n",
            " [ 115  136   13   20 1328]]\n",
            "              precision    recall  f1-score   support\n",
            "\n",
            "          N1       0.49      0.33      0.40       693\n",
            "          N2       0.68      0.84      0.75      2253\n",
            "          N3       0.81      0.72      0.76      1190\n",
            "           R       0.83      0.74      0.78       988\n",
            "           W       0.85      0.82      0.84      1612\n",
            "\n",
            "    accuracy                           0.75      6736\n",
            "   macro avg       0.73      0.69      0.71      6736\n",
            "weighted avg       0.75      0.75      0.74      6736\n",
            "\n",
            "Accurecy:  0.746585510688836\n"
          ]
        }
      ]
    },
    {
      "cell_type": "markdown",
      "source": [
        ""
      ],
      "metadata": {
        "id": "BJZrKkG8DuQc"
      }
    },
    {
      "cell_type": "code",
      "source": [
        ""
      ],
      "metadata": {
        "id": "OKel3bAoFF5x"
      },
      "execution_count": null,
      "outputs": []
    },
    {
      "cell_type": "markdown",
      "source": [
        "#Confusion Matrix"
      ],
      "metadata": {
        "id": "K18y3ufeDth6"
      }
    },
    {
      "cell_type": "code",
      "source": [
        "cm = confusion_matrix(y_test, y_pred)\n",
        "import seaborn as sn\n",
        "import matplotlib.pyplot as plt\n",
        "plt.figure(figsize = (15,10))\n",
        "sn.heatmap(cm, annot=True, fmt='d') # here, cm is called to be visualized\n",
        "plt.xlabel('Predicted',fontsize=14.0, fontweight='bold')\n",
        "plt.ylabel('Truth',fontsize=12.0, fontweight='bold')"
      ],
      "metadata": {
        "colab": {
          "base_uri": "https://localhost:8080/",
          "height": 628
        },
        "id": "x7EBEYizDseh",
        "outputId": "daaa89e3-b847-468b-f3e6-c37bab84826a"
      },
      "execution_count": null,
      "outputs": [
        {
          "output_type": "execute_result",
          "data": {
            "text/plain": [
              "Text(114.0, 0.5, 'Truth')"
            ]
          },
          "metadata": {},
          "execution_count": 9
        },
        {
          "output_type": "display_data",
          "data": {
            "text/plain": [
              "<Figure size 1080x720 with 2 Axes>"
            ],
            "image/png": "[encoded data removed]"
          },
          "metadata": {
            "needs_background": "light"
          }
        }
      ]
    },
    {
      "cell_type": "markdown",
      "source": [
        "#All Details"
      ],
      "metadata": {
        "id": "U8BEEbaFEJ7G"
      }
    },
    {
      "cell_type": "code",
      "source": [
        "def confusion_details(y_test,y_pred):\n",
        "    labels = list(set(y_test))\n",
        "    labels.sort()\n",
        "\n",
        "    print(\"Total labels: %s -> %s\" % (len(labels), labels))\n",
        "\n",
        "    df = pd.DataFrame(\n",
        "        data=confusion_matrix(y_test, y_pred, labels=labels),\n",
        "        columns=labels,\n",
        "        index=labels\n",
        "    )\n",
        "\n",
        "    print(df)\n",
        "\n",
        "    print()\n",
        "    print(\"----------------------------------------------------------------------------------------\")\n",
        "    print(\"----------------------------------------------------------------------------------------\")\n",
        "    print()\n",
        "    #\n",
        "    # Local (metrics per class)\n",
        "    #\n",
        "    tps = {}\n",
        "    fps = {}\n",
        "    fns = {}\n",
        "    tns = {}\n",
        "\n",
        "    precision_local = {}\n",
        "    recall_local = {}\n",
        "    f1_local = {}\n",
        "    accuracy_local = {}\n",
        "    specificity_local={}\n",
        "\n",
        "    for label in labels:\n",
        "        tps[label] = df.loc[label, label]\n",
        "        fps[label] = df[label].sum() - tps[label]\n",
        "        fns[label] = df.loc[label].sum() - tps[label]\n",
        "        tns[label]=len(y_test) - (tps[label] + fps[label] + fns[label])\n",
        "        \n",
        "        tp, fp, fn, tn = tps[label], fps[label], fns[label], tns[label]\n",
        "        \n",
        "        precision_local[label] = tp / (tp + fp) if (tp + fp) > 0. else 0.\n",
        "        specificity_local[label] = tn / (tn + fp) if (tn + fp) > 0. else 0.\n",
        "        recall_local[label] = tp / (tp + fn) if (tp + fp) > 0. else 0.\n",
        "        p, r = precision_local[label], recall_local[label]\n",
        "        \n",
        "        f1_local[label] = 2. * p * r / (p + r) if (p + r) > 0. else 0.\n",
        "        accuracy_local[label] = tp / (tp + fp + fn) if (tp + fp + fn) > 0. else 0.\n",
        "\n",
        "\n",
        "\n",
        "    print(\"#-- Local measures --#\")\n",
        "    print(\"True Positives(TP):\", tps)\n",
        "    print(\"False Positives(FP):\", fps)\n",
        "    print(\"True Negatives(TN):\", tns)\n",
        "    print(\"False Negatives(FN):\", fns)\n",
        "    print(\"----------------------------\")\n",
        "\n",
        "    print(\"Precision:\", precision_local)\n",
        "    print(\"Recall/Sensitivity:\", recall_local)\n",
        "    print(\"Specificity:\",specificity_local)\n",
        "    print(\"F1-Score:\", f1_local)\n",
        "    print(\"Accuracy:\", accuracy_local)\n",
        "\n",
        "\n",
        "    print()\n",
        "    print(\"----------------------------------------------------------------------------------------\")\n",
        "    print(\"----------------------------------------------------------------------------------------\")\n",
        "    print()\n",
        "    #\n",
        "    # Global\n",
        "    #\n",
        "    micro_averages = {}\n",
        "    macro_averages = {}\n",
        "\n",
        "    correct_predictions = sum(tps.values())\n",
        "    true_negative=sum(tns.values())\n",
        "\n",
        "    den = sum(list(tps.values()) + list(fps.values()))\n",
        "    micro_averages[\"Precision\"] = 1. * correct_predictions / den if den > 0. else 0.\n",
        "\n",
        "    den = sum(list(tps.values()) + list(fns.values()))\n",
        "    micro_averages[\"Recall\"] = 1. * correct_predictions / den if den > 0. else 0.\n",
        "\n",
        "    den = sum(list(tns.values()) + list(fps.values()))\n",
        "    micro_averages[\"Specificity\"] = 1. * true_negative / den if den > 0. else 0.\n",
        "\n",
        "\n",
        "    micro_avg_p, micro_avg_r = micro_averages[\"Precision\"], micro_averages[\"Recall\"]\n",
        "    micro_averages[\"F1-score\"] = 2. * micro_avg_p * micro_avg_r / (micro_avg_p + micro_avg_r) if (micro_avg_p + micro_avg_r) > 0. else 0.\n",
        "\n",
        "    macro_averages[\"Precision\"] = np.mean(list(precision_local.values()))\n",
        "    macro_averages[\"Recall\"] = np.mean(list(recall_local.values()))\n",
        "    macro_averages[\"Specificity\"]=np.mean(list(specificity_local.values()))\n",
        "\n",
        "\n",
        "    macro_avg_p, macro_avg_r = macro_averages[\"Precision\"], macro_averages[\"Recall\"]\n",
        "    macro_averages[\"F1-Score\"] = 2. * macro_avg_p * macro_avg_r / (macro_avg_p + macro_avg_r) if (macro_avg_p + macro_avg_r) > 0. else 0.\n",
        "\n",
        "    total_predictions = df.values.sum()\n",
        "    accuracy_global = correct_predictions / total_predictions if total_predictions > 0. else 0.\n",
        "\n",
        "    print(\"#-- Global measures --#\")\n",
        "    print(\"Micro-Averages:\", micro_averages)\n",
        "    print(\"Macro-Averages:\", macro_averages)\n",
        "    print(\"Correct predictions:\", correct_predictions)\n",
        "    print(\"Total predictions:\", total_predictions)\n",
        "    print(\"Accuracy:\", accuracy_global)\n",
        "\n",
        "\n",
        "    print()\n",
        "    print(\"----------------------------------------------------------------------------------------\")\n",
        "    print(\"----------------------------------------------------------------------------------------\")\n",
        "    print()\n",
        "\n",
        "\n",
        "\n",
        "    accuracy_local_new = {}\n",
        "    for label in labels:\n",
        "        tp, fp, fn, tn = tps[label], fps[label], fns[label], tns[label]\n",
        "        accuracy_local_new[label] = (tp + tn) / (tp + fp + fn + tn) if (tp + fp + fn + tn) > 0. else 0.\n",
        "\n",
        "    total_true = sum(list(tps.values()) + list(tns.values()))\n",
        "    total_predictions = sum(list(tps.values()) + list(tns.values()) + list(fps.values()) + list(fns.values()))\n",
        "    accuracy_global_new = 1. * total_true / total_predictions if total_predictions > 0. else 0.\n",
        "\n",
        "    print(\"Accuracy (per class), with TNs:\", accuracy_local_new)\n",
        "    print(\"Accuracy (per class), without TNs:\", accuracy_local)\n",
        "    print(\"Accuracy (global), with TNs:\", accuracy_global_new)\n",
        "    print(\"Accuracy (global), without TNs:\", accuracy_global)\n",
        "\n",
        "confusion_details(y_test,y_pred)"
      ],
      "metadata": {
        "colab": {
          "base_uri": "https://localhost:8080/"
        },
        "id": "f-rn7H2PDz9S",
        "outputId": "f56cfad5-c793-4f25-9c4a-149d930b3761"
      },
      "execution_count": null,
      "outputs": [
        {
          "output_type": "stream",
          "name": "stdout",
          "text": [
            "Total labels: 5 -> ['N1', 'N2', 'N3', 'R', 'W']\n",
            "      N1    N2    N3     R     W\n",
            "N1  1418  1091    61   564   773\n",
            "N2  1141  9219  1478   881   252\n",
            "N3    93  1657  5164    54    39\n",
            "R    806  1397    93  3081   136\n",
            "W   1011   422    76   153  4729\n",
            "\n",
            "----------------------------------------------------------------------------------------\n",
            "----------------------------------------------------------------------------------------\n",
            "\n",
            "#-- Local measures --#\n",
            "True Positives(TP): {'N1': 1418, 'N2': 9219, 'N3': 5164, 'R': 3081, 'W': 4729}\n",
            "False Positives(FP): {'N1': 3051, 'N2': 4567, 'N3': 1708, 'R': 1652, 'W': 1200}\n",
            "True Negatives(TN): {'N1': 28831, 'N2': 18251, 'N3': 27074, 'R': 28624, 'W': 28198}\n",
            "False Negatives(FN): {'N1': 2489, 'N2': 3752, 'N3': 1843, 'R': 2432, 'W': 1662}\n",
            "----------------------------\n",
            "Precision: {'N1': 0.3172969344372343, 'N2': 0.6687218917742638, 'N3': 0.7514551804423748, 'R': 0.6509613353053032, 'W': 0.7976049924101872}\n",
            "Recall/Sensitivity: {'N1': 0.36293831584335806, 'N2': 0.710739341608203, 'N3': 0.7369773084058798, 'R': 0.558860874297116, 'W': 0.739946800187764}\n",
            "Specificity: {'N1': 0.9043033686719779, 'N2': 0.7998509948286441, 'N3': 0.9406573552915016, 'R': 0.945435328312855, 'W': 0.9591808966596367}\n",
            "F1-Score: {'N1': 0.3385864374403056, 'N2': 0.689090705236013, 'N3': 0.7441458318322646, 'R': 0.6014054265079055, 'W': 0.767694805194805}\n",
            "Accuracy: {'N1': 0.20379419373383156, 'N2': 0.5256585699623675, 'N3': 0.5925415949512335, 'R': 0.4300069783670621, 'W': 0.6229745751547886}\n",
            "\n",
            "----------------------------------------------------------------------------------------\n",
            "----------------------------------------------------------------------------------------\n",
            "\n",
            "#-- Global measures --#\n",
            "Micro-Averages: {'Precision': 0.6597278493391824, 'Recall': 0.6597278493391824, 'Specificity': 0.9149319623347956, 'F1-score': 0.6597278493391824}\n",
            "Macro-Averages: {'Precision': 0.6372080668738727, 'Recall': 0.6218925280684641, 'Specificity': 0.9098855887529229, 'F1-Score': 0.6294571493423206}\n",
            "Correct predictions: 23611\n",
            "Total predictions: 35789\n",
            "Accuracy: 0.6597278493391824\n",
            "\n",
            "----------------------------------------------------------------------------------------\n",
            "----------------------------------------------------------------------------------------\n",
            "\n",
            "Accuracy (per class), with TNs: {'N1': 0.8452038335801503, 'N2': 0.7675542764536589, 'N3': 0.9007795691413563, 'R': 0.8858867249713599, 'W': 0.9200312945318394}\n",
            "Accuracy (per class), without TNs: {'N1': 0.20379419373383156, 'N2': 0.5256585699623675, 'N3': 0.5925415949512335, 'R': 0.4300069783670621, 'W': 0.6229745751547886}\n",
            "Accuracy (global), with TNs: 0.863891139735673\n",
            "Accuracy (global), without TNs: 0.6597278493391824\n"
          ]
        }
      ]
    }
  ]
}