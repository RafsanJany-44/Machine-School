{
  "nbformat": 4,
  "nbformat_minor": 0,
  "metadata": {
    "colab": {
      "name": "Ensamble_ALL.ipynb",
      "provenance": [],
      "authorship_tag": "ABX9TyM7gt2z1/cKoVdyC3wSjLNm",
      "include_colab_link": true
    },
    "kernelspec": {
      "name": "python3",
      "display_name": "Python 3"
    },
    "language_info": {
      "name": "python"
    }
  },
  "cells": [
    {
      "cell_type": "markdown",
      "metadata": {
        "id": "view-in-github",
        "colab_type": "text"
      },
      "source": [
        "<a href=\"https://colab.research.google.com/github/RafsanJany-44/Machine-School/blob/main/Ensamble_ALL.ipynb\" target=\"_parent\"><img src=\"https://colab.research.google.com/assets/colab-badge.svg\" alt=\"Open In Colab\"/></a>"
      ]
    },
    {
      "cell_type": "markdown",
      "source": [
        "<b>Boostrap</b>\n",
        "<ul>\n",
        "  <li>Create a random subset of data by sampling</li>\n",
        "</ul>\n",
        "Example: XG, Ada\n",
        "<br>\n",
        "<b>Bagging</b>\n",
        "<ul>\n",
        "<li>Repeat K times\n",
        "<ul><li>Create a training set of N' < N examples</li>\n",
        "<li> Train a classifier on the random training set</li>\n",
        "</ul>\n",
        "<li>To test, tun each trained classifier</li>\n",
        "<ul><li>Each classifier votes on the output, take majority</li>\n",
        "<li>For regression: each regressor predicts, take average</li>\n",
        "</ul>\n",
        "</ui>\n",
        "Example: Random Forest\n",
        "<br>\n"
      ],
      "metadata": {
        "id": "0kU5E7Fi3Qv5"
      }
    },
    {
      "cell_type": "code",
      "execution_count": 9,
      "metadata": {
        "id": "9g17wVuPtqaC"
      },
      "outputs": [],
      "source": [
        "import numpy as np\n",
        "import pandas as pd\n",
        "import time\n",
        "import matplotlib.pyplot as plt\n",
        "#data = 'https://raw.githubusercontent.com/RafsanJany-44/Machine-School/main/datasets/HMC_WITH_BIOM.csv'\n",
        "#data=\"https://raw.githubusercontent.com/RafsanJany-44/Research-NREM-REM/main/dataset/REM_NREM.csv\"\n",
        "#data=\"https://raw.githubusercontent.com/RafsanJany-44/Machine-School/main/datasets/EEG_HMC.csv\"\n",
        "data=\"https://raw.githubusercontent.com/RafsanJany-44/Machine-School/main/datasets/REM_NREM_O2.csv\"\n",
        "dataset = pd.read_csv(data)"
      ]
    },
    {
      "cell_type": "code",
      "source": [
        ""
      ],
      "metadata": {
        "id": "pHadskPYQuAK"
      },
      "execution_count": 6,
      "outputs": []
    },
    {
      "cell_type": "code",
      "source": [
        "X = dataset.iloc[:, 1:].values\n",
        "y = dataset.iloc[:, 0].values\n",
        "\n",
        "\n",
        "from sklearn.model_selection import train_test_split\n",
        "X_train, X_test, y_train, y_test = train_test_split(X, y, test_size = 0.33, random_state = 10)"
      ],
      "metadata": {
        "id": "OtM6xlXLQtXT"
      },
      "execution_count": 10,
      "outputs": []
    },
    {
      "cell_type": "code",
      "source": [
        "from sklearn.preprocessing import StandardScaler\n",
        "sc = StandardScaler()\n",
        " \n",
        "X_train = sc.fit_transform(X_train)\n",
        "X_test = sc.transform(X_test)"
      ],
      "metadata": {
        "id": "M0bTv8reRibQ"
      },
      "execution_count": 3,
      "outputs": []
    },
    {
      "cell_type": "code",
      "source": [
        "set(y)"
      ],
      "metadata": {
        "colab": {
          "base_uri": "https://localhost:8080/"
        },
        "id": "P9W6aWD4Q0Vw",
        "outputId": "5edb0a6c-2b79-4722-c9a6-cd94130e7ef0"
      },
      "execution_count": 4,
      "outputs": [
        {
          "output_type": "execute_result",
          "data": {
            "text/plain": [
              "{'NREM', 'REM'}"
            ]
          },
          "metadata": {},
          "execution_count": 4
        }
      ]
    },
    {
      "cell_type": "markdown",
      "source": [
        "#Bagging Ensbl"
      ],
      "metadata": {
        "id": "4LAMvdDwROvU"
      }
    },
    {
      "cell_type": "code",
      "source": [
        "from numpy import mean\n",
        "from numpy import std\n",
        "import time\n",
        "from sklearn.datasets import make_classification\n",
        "from sklearn.model_selection import cross_val_score\n",
        "from sklearn.model_selection import RepeatedStratifiedKFold\n",
        "from sklearn.ensemble import BaggingClassifier"
      ],
      "metadata": {
        "id": "vqP_BMT0Q1v0"
      },
      "execution_count": 5,
      "outputs": []
    },
    {
      "cell_type": "markdown",
      "source": [
        "**Bagging**"
      ],
      "metadata": {
        "id": "Vuc4OdMKW5G5"
      }
    },
    {
      "cell_type": "code",
      "source": [
        "start = time.time()\n",
        "from sklearn.ensemble import BaggingClassifier\n",
        "from sklearn.tree import DecisionTreeClassifier\n",
        "\n",
        "bag_model = BaggingClassifier(\n",
        "    base_estimator=DecisionTreeClassifier(),\n",
        "    n_estimators=100, \n",
        "    max_samples=0.8, \n",
        "    oob_score=True,\n",
        "    random_state=0\n",
        ")\n",
        "bag_model.fit(X_train, y_train)\n",
        "print(\"Accurecy\",bag_model.oob_score_)\n",
        "print(\"Ex Time: \",time.time() - start)"
      ],
      "metadata": {
        "colab": {
          "base_uri": "https://localhost:8080/"
        },
        "id": "wt8XxkJ8RcJW",
        "outputId": "603641ca-dc39-40e8-a175-ba1ad3fac9bc"
      },
      "execution_count": 12,
      "outputs": [
        {
          "output_type": "stream",
          "name": "stdout",
          "text": [
            "Accurecy 0.8904412503769223\n",
            "Ex Time:  80.09276127815247\n"
          ]
        }
      ]
    },
    {
      "cell_type": "markdown",
      "source": [
        "**Bagging + cross validation**"
      ],
      "metadata": {
        "id": "zqRnRpp3W9T1"
      }
    },
    {
      "cell_type": "code",
      "source": [
        "start = time.time()\n",
        "from sklearn.ensemble import BaggingClassifier\n",
        "from sklearn.tree import DecisionTreeClassifier\n",
        "bag_model = BaggingClassifier(\n",
        "    base_estimator=DecisionTreeClassifier(), \n",
        "    n_estimators=100, \n",
        "    max_samples=0.8, \n",
        "    oob_score=True,\n",
        "    random_state=0\n",
        ")\n",
        "cv = RepeatedStratifiedKFold(n_splits=10, n_repeats=3, random_state=1)\n",
        "scores = cross_val_score(bag_model, X, y, cv=cv)\n",
        "print(\"Accurecy: \",scores.mean())\n",
        "print(\"Ex Time: \",time.time() - start)"
      ],
      "metadata": {
        "colab": {
          "base_uri": "https://localhost:8080/"
        },
        "id": "Rt7r9McEycaA",
        "outputId": "7a4c6db8-0600-4d91-efa8-624381317434"
      },
      "execution_count": 7,
      "outputs": [
        {
          "output_type": "stream",
          "name": "stdout",
          "text": [
            "Accurecy:  0.8950045958728814\n",
            "Ex Time:  2967.6378240585327\n"
          ]
        }
      ]
    },
    {
      "cell_type": "markdown",
      "source": [
        "**Random Forest**"
      ],
      "metadata": {
        "id": "2LqMb8mMXqu3"
      }
    },
    {
      "cell_type": "code",
      "source": [
        "# example of evaluating a random forest ensemble for classification\n",
        "from numpy import mean\n",
        "from numpy import std\n",
        "from sklearn.datasets import make_classification\n",
        "from sklearn.model_selection import cross_val_score\n",
        "from sklearn.model_selection import RepeatedStratifiedKFold\n",
        "from sklearn.ensemble import RandomForestClassifier\n",
        "# create the synthetic classification dataset\n",
        "X, y = make_classification(random_state=1)\n",
        "# configure the ensemble model\n",
        "model = RandomForestClassifier(n_estimators=50)\n",
        "# configure the resampling method\n",
        "cv = RepeatedStratifiedKFold(n_splits=10, n_repeats=3, random_state=1)\n",
        "# evaluate the ensemble on the dataset using the resampling method\n",
        "n_scores = cross_val_score(model, X, y, scoring='accuracy', cv=cv, n_jobs=-1)\n",
        "# report ensemble performance\n",
        "print('Mean Accuracy: %.3f (%.3f)' % (mean(n_scores), std(n_scores)))"
      ],
      "metadata": {
        "colab": {
          "base_uri": "https://localhost:8080/"
        },
        "id": "q4ELec-7XqG4",
        "outputId": "1dd3face-2edf-4d10-aaf0-9da29f96ec21"
      },
      "execution_count": 8,
      "outputs": [
        {
          "output_type": "stream",
          "name": "stdout",
          "text": [
            "Mean Accuracy: 0.963 (0.066)\n"
          ]
        }
      ]
    },
    {
      "cell_type": "code",
      "source": [
        "X, y = make_classification(random_state=1)"
      ],
      "metadata": {
        "id": "UBsGg5YaYPyr"
      },
      "execution_count": 11,
      "outputs": []
    },
    {
      "cell_type": "code",
      "source": [
        "for k in range(2,50):\n",
        "  model = RandomForestClassifier(n_estimators=50)\n",
        "  cv = RepeatedStratifiedKFold(n_splits=k, n_repeats=3, random_state=1)\n",
        "  n_scores = cross_val_score(model, X, y, scoring='accuracy', cv=cv, n_jobs=-1)\n",
        "  print('Mean Accuracy: %.3f (%.3f)' % (mean(n_scores), std(n_scores)))\n"
      ],
      "metadata": {
        "colab": {
          "base_uri": "https://localhost:8080/"
        },
        "id": "sgCeZFwAXyva",
        "outputId": "60a784bc-06be-4ea5-8370-74224c1b7fa7"
      },
      "execution_count": 12,
      "outputs": [
        {
          "output_type": "stream",
          "name": "stdout",
          "text": [
            "Mean Accuracy: 0.963 (0.014)\n",
            "Mean Accuracy: 0.957 (0.029)\n",
            "Mean Accuracy: 0.953 (0.032)\n",
            "Mean Accuracy: 0.953 (0.043)\n",
            "Mean Accuracy: 0.960 (0.039)\n",
            "Mean Accuracy: 0.953 (0.063)\n",
            "Mean Accuracy: 0.954 (0.060)\n",
            "Mean Accuracy: 0.957 (0.062)\n",
            "Mean Accuracy: 0.960 (0.066)\n",
            "Mean Accuracy: 0.963 (0.065)\n",
            "Mean Accuracy: 0.960 (0.069)\n",
            "Mean Accuracy: 0.961 (0.076)\n",
            "Mean Accuracy: 0.964 (0.074)\n",
            "Mean Accuracy: 0.961 (0.077)\n",
            "Mean Accuracy: 0.966 (0.082)\n",
            "Mean Accuracy: 0.964 (0.083)\n",
            "Mean Accuracy: 0.969 (0.080)\n",
            "Mean Accuracy: 0.960 (0.088)\n",
            "Mean Accuracy: 0.954 (0.094)\n",
            "Mean Accuracy: 0.963 (0.093)\n",
            "Mean Accuracy: 0.962 (0.091)\n",
            "Mean Accuracy: 0.964 (0.092)\n",
            "Mean Accuracy: 0.963 (0.097)\n",
            "Mean Accuracy: 0.965 (0.096)\n",
            "Mean Accuracy: 0.964 (0.092)\n",
            "Mean Accuracy: 0.962 (0.101)\n",
            "Mean Accuracy: 0.969 (0.094)\n",
            "Mean Accuracy: 0.965 (0.102)\n",
            "Mean Accuracy: 0.960 (0.112)\n",
            "Mean Accuracy: 0.957 (0.114)\n",
            "Mean Accuracy: 0.963 (0.105)\n",
            "Mean Accuracy: 0.954 (0.115)\n",
            "Mean Accuracy: 0.962 (0.106)\n",
            "Mean Accuracy: 0.958 (0.120)\n",
            "Mean Accuracy: 0.962 (0.109)\n",
            "Mean Accuracy: 0.966 (0.104)\n",
            "Mean Accuracy: 0.962 (0.110)\n",
            "Mean Accuracy: 0.965 (0.105)\n",
            "Mean Accuracy: 0.958 (0.127)\n",
            "Mean Accuracy: 0.968 (0.113)\n",
            "Mean Accuracy: 0.961 (0.130)\n",
            "Mean Accuracy: 0.961 (0.133)\n",
            "Mean Accuracy: 0.956 (0.156)\n",
            "Mean Accuracy: 0.957 (0.149)\n",
            "Mean Accuracy: 0.967 (0.121)\n",
            "Mean Accuracy: 0.959 (0.147)\n",
            "Mean Accuracy: 0.966 (0.126)\n"
          ]
        }
      ]
    }
  ]
}