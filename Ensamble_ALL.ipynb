{
  "nbformat": 4,
  "nbformat_minor": 0,
  "metadata": {
    "colab": {
      "name": "Ensamble_ALL.ipynb",
      "provenance": [],
      "authorship_tag": "ABX9TyMIbFeoBlWbX2oMboQTqey/",
      "include_colab_link": true
    },
    "kernelspec": {
      "name": "python3",
      "display_name": "Python 3"
    },
    "language_info": {
      "name": "python"
    }
  },
  "cells": [
    {
      "cell_type": "markdown",
      "metadata": {
        "id": "view-in-github",
        "colab_type": "text"
      },
      "source": [
        "<a href=\"https://colab.research.google.com/github/RafsanJany-44/Machine-School/blob/main/Ensamble_ALL.ipynb\" target=\"_parent\"><img src=\"https://colab.research.google.com/assets/colab-badge.svg\" alt=\"Open In Colab\"/></a>"
      ]
    },
    {
      "cell_type": "markdown",
      "source": [
        "<b>Boostrap</b>\n",
        "<ul>\n",
        "  <li>Create a random subset of data by sampling</li>\n",
        "</ul>\n",
        "Example: XG, Ada\n",
        "<br>\n",
        "<b>Bagging</b>\n",
        "<ul>\n",
        "<li>Repeat K times\n",
        "<ul><li>Create a training set of N' < N examples</li>\n",
        "<li> Train a classifier on the random training set</li>\n",
        "</ul>\n",
        "<li>To test, tun each trained classifier</li>\n",
        "<ul><li>Each classifier votes on the output, take majority</li>\n",
        "<li>For regression: each regressor predicts, take average</li>\n",
        "</ul>\n",
        "</ui>\n",
        "Example: Random Forest\n",
        "<br>\n"
      ],
      "metadata": {
        "id": "0kU5E7Fi3Qv5"
      }
    },
    {
      "cell_type": "code",
      "execution_count": 1,
      "metadata": {
        "id": "9g17wVuPtqaC"
      },
      "outputs": [],
      "source": [
        "import numpy as np\n",
        "import pandas as pd\n",
        "import time\n",
        "import matplotlib.pyplot as plt\n",
        "#data = 'https://raw.githubusercontent.com/RafsanJany-44/Machine-School/main/datasets/HMC_WITH_BIOM.csv'\n",
        "#data=\"https://raw.githubusercontent.com/RafsanJany-44/Research-NREM-REM/main/dataset/REM_NREM.csv\"\n",
        "#data=\"https://raw.githubusercontent.com/RafsanJany-44/Machine-School/main/datasets/EEG_HMC.csv\"\n",
        "data=\"https://raw.githubusercontent.com/RafsanJany-44/Machine-School/main/datasets/REM_NREM_O2.csv\"\n",
        "dataset = pd.read_csv(data)"
      ]
    },
    {
      "cell_type": "code",
      "source": [
        ""
      ],
      "metadata": {
        "id": "pHadskPYQuAK"
      },
      "execution_count": 1,
      "outputs": []
    },
    {
      "cell_type": "code",
      "source": [
        "X = dataset.iloc[:, 1:].values\n",
        "y = dataset.iloc[:, 0].values\n",
        "\n",
        "\n",
        "from sklearn.model_selection import train_test_split\n",
        "X_train, X_test, y_train, y_test = train_test_split(X, y, test_size = 0.33, random_state = 10)"
      ],
      "metadata": {
        "id": "OtM6xlXLQtXT"
      },
      "execution_count": 2,
      "outputs": []
    },
    {
      "cell_type": "code",
      "source": [
        "from sklearn.preprocessing import StandardScaler\n",
        "sc = StandardScaler()\n",
        " \n",
        "X_train = sc.fit_transform(X_train)\n",
        "X_test = sc.transform(X_test)"
      ],
      "metadata": {
        "id": "M0bTv8reRibQ"
      },
      "execution_count": 3,
      "outputs": []
    },
    {
      "cell_type": "code",
      "source": [
        "set(y)"
      ],
      "metadata": {
        "colab": {
          "base_uri": "https://localhost:8080/"
        },
        "id": "P9W6aWD4Q0Vw",
        "outputId": "c694fee4-267d-40ee-8543-9975f52ea553"
      },
      "execution_count": 4,
      "outputs": [
        {
          "output_type": "execute_result",
          "data": {
            "text/plain": [
              "{'NREM', 'REM'}"
            ]
          },
          "metadata": {},
          "execution_count": 4
        }
      ]
    },
    {
      "cell_type": "markdown",
      "source": [
        "#Bagging Ensbl"
      ],
      "metadata": {
        "id": "4LAMvdDwROvU"
      }
    },
    {
      "cell_type": "code",
      "source": [
        "from numpy import mean\n",
        "from numpy import std\n",
        "import time\n",
        "from sklearn.datasets import make_classification\n",
        "from sklearn.model_selection import cross_val_score\n",
        "from sklearn.model_selection import RepeatedStratifiedKFold\n",
        "from sklearn.ensemble import BaggingClassifier"
      ],
      "metadata": {
        "id": "vqP_BMT0Q1v0"
      },
      "execution_count": 5,
      "outputs": []
    },
    {
      "cell_type": "markdown",
      "source": [
        "**Bagging**"
      ],
      "metadata": {
        "id": "Vuc4OdMKW5G5"
      }
    },
    {
      "cell_type": "code",
      "source": [
        "start = time.time()\n",
        "from sklearn.ensemble import BaggingClassifier\n",
        "from sklearn.tree import DecisionTreeClassifier\n",
        "\n",
        "model_1 = BaggingClassifier(\n",
        "    base_estimator=DecisionTreeClassifier(),\n",
        "    n_estimators=100, \n",
        "    max_samples=0.8, \n",
        "    oob_score=True,\n",
        "    random_state=0\n",
        ")\n",
        "model_1.fit(X_train, y_train)\n",
        "print(\"Accurecy\",model_1.oob_score_)\n",
        "print(\"Ex Time: \",time.time() - start)"
      ],
      "metadata": {
        "id": "wt8XxkJ8RcJW"
      },
      "execution_count": null,
      "outputs": []
    },
    {
      "cell_type": "markdown",
      "source": [
        "**Bagging + cross validation**"
      ],
      "metadata": {
        "id": "zqRnRpp3W9T1"
      }
    },
    {
      "cell_type": "code",
      "source": [
        "start = time.time()\n",
        "from sklearn.ensemble import BaggingClassifier\n",
        "from sklearn.tree import DecisionTreeClassifier\n",
        "model_2 = BaggingClassifier(\n",
        "    base_estimator=DecisionTreeClassifier(), \n",
        "    n_estimators=100, \n",
        "    max_samples=0.8, \n",
        "    oob_score=True,\n",
        "    random_state=0\n",
        ")\n",
        "cv = RepeatedStratifiedKFold(n_splits=10, n_repeats=3, random_state=1)\n",
        "scores = cross_val_score(model_2, X, y, cv=cv)\n",
        "print(\"Accurecy: \",scores.mean())\n",
        "print(\"Ex Time: \",time.time() - start)"
      ],
      "metadata": {
        "id": "Rt7r9McEycaA"
      },
      "execution_count": null,
      "outputs": []
    },
    {
      "cell_type": "markdown",
      "source": [
        "**Random Forest**"
      ],
      "metadata": {
        "id": "2LqMb8mMXqu3"
      }
    },
    {
      "cell_type": "code",
      "source": [
        "start = time.time()\n",
        "from numpy import mean\n",
        "from numpy import std\n",
        "from sklearn.datasets import make_classification\n",
        "from sklearn.model_selection import cross_val_score\n",
        "from sklearn.model_selection import RepeatedStratifiedKFold\n",
        "from sklearn.ensemble import RandomForestClassifier\n",
        "\n",
        "# configure the ensemble model\n",
        "model_3 = RandomForestClassifier(n_estimators=40)\n",
        "# configure the resampling method\n",
        "cv = RepeatedStratifiedKFold(n_splits=10, n_repeats=3, random_state=1)\n",
        "# evaluate the ensemble on the dataset using the resampling method\n",
        "n_scores = cross_val_score(model_3, X, y, scoring='accuracy', cv=cv)\n",
        "# report ensemble performance\n",
        "print('Mean Accuracy: %.3f (%.3f)' % (mean(n_scores), std(n_scores)))\n",
        "print(\"Ex Time: \",time.time() - start)"
      ],
      "metadata": {
        "id": "q4ELec-7XqG4"
      },
      "execution_count": null,
      "outputs": []
    },
    {
      "cell_type": "markdown",
      "source": [
        "#Boosting"
      ],
      "metadata": {
        "id": "L0lu40-lbOTJ"
      }
    },
    {
      "cell_type": "markdown",
      "source": [
        "**Ada Boost**"
      ],
      "metadata": {
        "id": "8QsP6gIQdRn3"
      }
    },
    {
      "cell_type": "code",
      "source": [
        "start = time.time()\n",
        "from numpy import mean\n",
        "from numpy import std\n",
        "from sklearn.datasets import make_classification\n",
        "from sklearn.model_selection import cross_val_score\n",
        "from sklearn.model_selection import RepeatedStratifiedKFold\n",
        "from sklearn.ensemble import AdaBoostClassifier\n",
        "\n",
        "# configure the ensemble model\n",
        "model_4 = AdaBoostClassifier(n_estimators=40)\n",
        "# configure the resampling method\n",
        "cv = RepeatedStratifiedKFold(n_splits=10, n_repeats=3, random_state=1)\n",
        "# evaluate the ensemble on the dataset using the resampling method\n",
        "n_scores = cross_val_score(model_4, X, y, scoring='accuracy', cv=cv)\n",
        "# report ensemble performance\n",
        "print('Mean Accuracy: %.3f (%.3f)' % (mean(n_scores), std(n_scores)))\n",
        "print(\"Ex Time: \",time.time() - start)"
      ],
      "metadata": {
        "id": "5LBHEbB3bQgX"
      },
      "execution_count": null,
      "outputs": []
    },
    {
      "cell_type": "markdown",
      "source": [
        "**XG Boost**"
      ],
      "metadata": {
        "id": "XI8AnZazd-8I"
      }
    },
    {
      "cell_type": "code",
      "source": [
        "start = time.time()\n",
        "from numpy import mean\n",
        "from numpy import std\n",
        "from sklearn.datasets import make_classification\n",
        "from sklearn.model_selection import cross_val_score\n",
        "from sklearn.model_selection import RepeatedStratifiedKFold\n",
        "from sklearn.ensemble import GradientBoostingClassifier\n",
        "\n",
        "# configure the ensemble model\n",
        "model_5 = GradientBoostingClassifier(n_estimators=50)\n",
        "# configure the resampling method\n",
        "cv = RepeatedStratifiedKFold(n_splits=10, n_repeats=3, random_state=1)\n",
        "# evaluate the ensemble on the dataset using the resampling method\n",
        "n_scores = cross_val_score(model_5, X, y, scoring='accuracy', cv=cv)\n",
        "# report ensemble performance\n",
        "print('Mean Accuracy: %.3f (%.3f)' % (mean(n_scores), std(n_scores)))\n",
        "print(\"Ex Time: \",time.time() - start)"
      ],
      "metadata": {
        "id": "4or6fgFyd5gI"
      },
      "execution_count": null,
      "outputs": []
    },
    {
      "cell_type": "markdown",
      "source": [
        "**Gradient Boosting**"
      ],
      "metadata": {
        "id": "6nos6RMtoHNU"
      }
    },
    {
      "cell_type": "code",
      "source": [
        "from numpy import mean\n",
        "from numpy import std\n",
        "from sklearn.datasets import make_classification\n",
        "from sklearn.model_selection import cross_val_score\n",
        "from sklearn.model_selection import RepeatedStratifiedKFold\n",
        "from sklearn.ensemble import GradientBoostingClassifier\n",
        "# create the synthetic classification dataset\n",
        "X, y = make_classification(random_state=1)\n",
        "# configure the ensemble model\n",
        "model_6 = GradientBoostingClassifier(n_estimators=50)\n",
        "# configure the resampling method\n",
        "cv = RepeatedStratifiedKFold(n_splits=10, n_repeats=3, random_state=1)\n",
        "# evaluate the ensemble on the dataset using the resampling method\n",
        "n_scores = cross_val_score(model_6, X, y, scoring='accuracy', cv=cv, n_jobs=-1)\n",
        "# report ensemble performance\n",
        "print('Mean Accuracy: %.3f (%.3f)' % (mean(n_scores), std(n_scores)))"
      ],
      "metadata": {
        "id": "cHt7fQMmn3w5"
      },
      "execution_count": null,
      "outputs": []
    }
  ]
}