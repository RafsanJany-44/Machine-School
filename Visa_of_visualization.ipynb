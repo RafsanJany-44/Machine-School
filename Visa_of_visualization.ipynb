{
  "nbformat": 4,
  "nbformat_minor": 0,
  "metadata": {
    "colab": {
      "provenance": [],
      "authorship_tag": "ABX9TyMHD6YjvlTZRlHVtzelAh3i",
      "include_colab_link": true
    },
    "kernelspec": {
      "name": "python3",
      "display_name": "Python 3"
    },
    "language_info": {
      "name": "python"
    }
  },
  "cells": [
    {
      "cell_type": "markdown",
      "metadata": {
        "id": "view-in-github",
        "colab_type": "text"
      },
      "source": [
        "<a href=\"https://colab.research.google.com/github/RafsanJany-44/Machine-School/blob/main/Visa_of_visualization.ipynb\" target=\"_parent\"><img src=\"https://colab.research.google.com/assets/colab-badge.svg\" alt=\"Open In Colab\"/></a>"
      ]
    },
    {
      "cell_type": "code",
      "execution_count": null,
      "metadata": {
        "id": "ZBKPYQeGArQA"
      },
      "outputs": [],
      "source": [
        "import matplotlib.pyplot as plt\n",
        "\n",
        "\n",
        "\n",
        "def basic_plot(res_HZ_df,features,save=False):\n",
        "\n",
        "  if len(features)==1:\n",
        "    plt.figure(figsize=(20,5))\n",
        "    plt.plot(res_HZ_df[\"Time_Stamp\"][0:100],res_HZ_df[features[0]][0:100],color=\"#006B87\")\n",
        "    plt.title(features[0],size=15,fontweight=\"bold\")\n",
        "    plt.xlabel('Time_Stamp', fontsize=10,fontweight=\"bold\")\n",
        "    plt.ylabel(features[0]+\"_Values\", fontsize=10,fontweight=\"bold\")\n",
        "    plt.show()\n",
        "\n",
        "  else:\n",
        "    color = [\"#5D00AF\",\"#009F4D\",\"#006B87\",\"#870027\",\"#566573\",\"#876400\",\"#0028AF\",\"#0082AF\",\"#B9770E\",\"#17A589\"]\n",
        "\n",
        "    fig, axs = plt.subplots(len(features),figsize=(30, 3*len(features)))\n",
        "    #fig.suptitle('Vertically stacked subplots')\n",
        "    plt.subplots_adjust(left=0.1, right=0.9, bottom=0.05, top=1.5, wspace=0.2, hspace=0.4)\n",
        "\n",
        "\n",
        "    for i in range(len(features)):\n",
        "      axs[i].plot(res_HZ_df[\"Time_Stamp\"][0:100], res_HZ_df[features[i]][0:100], color=color[i], marker='o', linestyle='dashed',linewidth=2, markersize=12)\n",
        "      axs[i].set_title(features[i],size=15,fontweight=\"bold\")\n",
        "      axs[i].grid()\n",
        "\n",
        "\n",
        "\n",
        "    for i,ax in enumerate(axs.flat):\n",
        "        ax.set_xlabel('Time_Stamp', fontsize=10,fontweight=\"bold\")\n",
        "        ax.set_ylabel(features[i]+\"_Values\", fontsize=10,fontweight=\"bold\")\n",
        "\n",
        "  if save == True:\n",
        "    plt.savefig(features[0].split(\"_\")[0]+\".png\", format=\"png\", dpi=300)\n",
        "\n",
        "\n",
        "\n",
        "l = ['NIRS_55','NIRS_56']\n",
        "basic_plot(res_25_HZ_df,l)"
      ]
    }
  ]
}