{
  "nbformat": 4,
  "nbformat_minor": 0,
  "metadata": {
    "colab": {
      "provenance": [],
      "authorship_tag": "ABX9TyNh6kXT4NX9+8uvP+GAgyhL",
      "include_colab_link": true
    },
    "kernelspec": {
      "name": "python3",
      "display_name": "Python 3"
    },
    "language_info": {
      "name": "python"
    }
  },
  "cells": [
    {
      "cell_type": "markdown",
      "metadata": {
        "id": "view-in-github",
        "colab_type": "text"
      },
      "source": [
        "<a href=\"https://colab.research.google.com/github/RafsanJany-44/Machine-School/blob/main/Visa_of_visualization.ipynb\" target=\"_parent\"><img src=\"https://colab.research.google.com/assets/colab-badge.svg\" alt=\"Open In Colab\"/></a>"
      ]
    },
    {
      "cell_type": "code",
      "execution_count": null,
      "metadata": {
        "id": "ZBKPYQeGArQA"
      },
      "outputs": [],
      "source": [
        "import matplotlib.pyplot as plt\n",
        "\n",
        "\n",
        "\n",
        "l = ['NIRS_55','NIRS_56',\t'NIRS_57',\t'NIRS_58',\t'NIRS_59',\t'NIRS_60',\t'NIRS_61',\t'NIRS_62',\t'NIRS_63',\t'NIRS_64']\n",
        "\n",
        "\n",
        "\n",
        "fig, axs = plt.subplots(len(l),figsize=(30, 30))\n",
        "#fig.suptitle('Vertically stacked subplots')\n",
        "plt.subplots_adjust(left=0.1, right=0.9, bottom=0.1, top=1.5, wspace=0.2, hspace=0.4)\n",
        "\n",
        "\n",
        "for i in range(len(l)):\n",
        "  axs[i].plot(res_25_HZ_df[\"Time_Stamp\"][0:100], res_25_HZ_df[l[i]][0:100],marker='.', color='#DD1EFF')\n",
        "  axs[i].set_title('Axis [0, 0]')\n",
        "  axs[i].grid()\n",
        "\n",
        "\n",
        "\n",
        "for ax in axs.flat:\n",
        "    ax.set(xlabel='Time_Stamp', ylabel='Value')"
      ]
    }
  ]
}