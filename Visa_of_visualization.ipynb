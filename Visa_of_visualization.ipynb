{
  "nbformat": 4,
  "nbformat_minor": 0,
  "metadata": {
    "colab": {
      "provenance": [],
      "authorship_tag": "ABX9TyM1gJQJ4ZSEMGRCpE9En9U6",
      "include_colab_link": true
    },
    "kernelspec": {
      "name": "python3",
      "display_name": "Python 3"
    },
    "language_info": {
      "name": "python"
    }
  },
  "cells": [
    {
      "cell_type": "markdown",
      "metadata": {
        "id": "view-in-github",
        "colab_type": "text"
      },
      "source": [
        "<a href=\"https://colab.research.google.com/github/RafsanJany-44/Machine-School/blob/main/Visa_of_visualization.ipynb\" target=\"_parent\"><img src=\"https://colab.research.google.com/assets/colab-badge.svg\" alt=\"Open In Colab\"/></a>"
      ]
    },
    {
      "cell_type": "code",
      "execution_count": null,
      "metadata": {
        "id": "ZBKPYQeGArQA"
      },
      "outputs": [],
      "source": [
        "import matplotlib.pyplot as plt\n",
        "\n",
        "\n",
        "\n",
        "def basic_plot(res_HZ_df,features,save=False):\n",
        "\n",
        "  color = [\"#5D00AF\",\"#009F4D\",\"#006B87\",\"#870027\",\"#566573\",\"#876400\",\"#0028AF\",\"#0082AF\",\"#B9770E\",\"#17A589\"]\n",
        "\n",
        "  fig, axs = plt.subplots(len(features),figsize=(30, 30))\n",
        "  #fig.suptitle('Vertically stacked subplots')\n",
        "  plt.subplots_adjust(left=0.1, right=0.9, bottom=0.05, top=1.5, wspace=0.2, hspace=0.4)\n",
        "\n",
        "\n",
        "  for i in range(len(features)):\n",
        "    axs[i].plot(res_HZ_df[\"Time_Stamp\"][0:100], res_HZ_df[features[i]][0:100], color=color[i],)\n",
        "    axs[i].set_title(features[i],size=15,fontweight=\"bold\")\n",
        "\n",
        "\n",
        "\n",
        "  for i,ax in enumerate(axs.flat):\n",
        "      ax.set_xlabel('Time_Stamp', fontsize=10,fontweight=\"bold\")\n",
        "      ax.set_ylabel(features[i]+\"_Values\", fontsize=10,fontweight=\"bold\")\n",
        "\n",
        "  if save == True:\n",
        "    plt.savefig(features[0].split(\"_\")[0]+\".png\", format=\"png\", dpi=300)"
      ]
    }
  ]
}