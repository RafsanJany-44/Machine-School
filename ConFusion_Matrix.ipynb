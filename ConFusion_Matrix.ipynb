{
  "nbformat": 4,
  "nbformat_minor": 0,
  "metadata": {
    "colab": {
      "name": "Con_Fusion.ipynb",
      "provenance": []
    },
    "kernelspec": {
      "name": "python3",
      "display_name": "Python 3"
    },
    "language_info": {
      "name": "python"
    }
  },
  "cells": [
    {
      "cell_type": "markdown",
      "source": [
        "<b>True Positive (TP):</b> It refers to the number of predictions where the classifier correctly predicts the positive class as positive.\n",
        "<br>\n",
        "<br>\n",
        "<b>True Negative (TN):</b> It refers to the number of predictions where the classifier correctly predicts the negative class as negative.\n",
        "<br>\n",
        "<br>\n",
        "<b>False Positive (FP):</b> It refers to the number of predictions where the classifier incorrectly predicts the negative class as positive.\n",
        "<br>\n",
        "<br>\n",
        "<b>False Negative (FN):</b> It refers to the number of predictions where the classifier incorrectly predicts the positive class as negative.\n",
        "<br>\n",
        "<br>\n",
        "<table>\n",
        "<caption>Confusion Matrix\n",
        "<th></th><th>True</th><th>False</th>\n",
        "<tr><td><b>Positive</b></td><td>TP</td><td>FP</td></tr>\n",
        "<tr><td><b>Negative</b></td><td>FN</td><td>TN</td></tr>\n",
        "</table>\n",
        "<br>\n",
        "<b>Accuracy:</b><br> It gives you the overall accuracy of the model, meaning the fraction of the total samples that were correctly classified by the classifier. To calculate accuracy, use the following formula: (TP+TN)/(TP+TN+FP+FN).\n",
        "<br>\n",
        "<br>\n",
        "<b>Precision:</b><br> It tells you what fraction of predictions as a positive class were actually positive. To calculate precision, use the following formula: TP/(TP+FP).\n",
        "<br>\n",
        "<br>\n",
        "<b>Recall/Sensitivity:</b><br> It tells you what fraction of all positive samples were correctly predicted as positive by the classifier. It is also known as True Positive Rate (TPR), Sensitivity, Probability of Detection. To calculate Recall, use the following formula: TP/(TP+FN).\n",
        "<br>\n",
        "<br>\n",
        "<b>Specificity:</b><br> It tells you what fraction of all negative samples are correctly predicted as negative by the classifier. It is also known as True Negative Rate (TNR). To calculate specificity, use the following formula: TN/(TN+FP).\n",
        "<br>\n",
        "<br>\n",
        "<b>F1-score:</b><br> It combines precision and recall into a single measure. Mathematically it’s the harmonic mean of precision and recall. It can be calculated as follows: 2TP/(2TP+FP+FN)"
      ],
      "metadata": {
        "id": "RwBP4JzhxJ5M"
      }
    },
    {
      "cell_type": "code",
      "source": [],
      "metadata": {
        "id": "cjzoUwkvx9JQ"
      },
      "execution_count": null,
      "outputs": []
    },
    {
      "cell_type": "code",
      "source": [
        "import pandas as pd\n",
        "import numpy as np"
      ],
      "metadata": {
        "id": "bGF2D6PDv9iA"
      },
      "execution_count": 1,
      "outputs": []
    },
    {
      "cell_type": "code",
      "source": [
        "\n",
        "data = 'https://raw.githubusercontent.com/RafsanJany-44/Thesis_Project/main/All_DATA/without_sn_and_Epoch/EEG_HMC.csv'\n",
        "dataset = pd.read_csv(data)"
      ],
      "metadata": {
        "id": "-7V82TXvwEOX"
      },
      "execution_count": 2,
      "outputs": []
    },
    {
      "cell_type": "code",
      "source": [
        "X = dataset.iloc[:, 1:].values\n",
        "y = dataset.iloc[:, 0].values"
      ],
      "metadata": {
        "id": "rtZNfRdtwGM7"
      },
      "execution_count": 3,
      "outputs": []
    },
    {
      "cell_type": "code",
      "source": [
        "from sklearn.model_selection import train_test_split\n",
        "\n",
        "X_train, X_test, y_train, y_test = train_test_split(X, y, test_size = 0.33, random_state = 0)"
      ],
      "metadata": {
        "id": "-k71nm-vwIcu"
      },
      "execution_count": 4,
      "outputs": []
    },
    {
      "cell_type": "code",
      "source": [
        "from sklearn.preprocessing import StandardScaler\n",
        "sc = StandardScaler()\n",
        "X_train =sc.fit_transform(X_train)\n",
        "\n",
        "X_test =sc.fit_transform(X_test)"
      ],
      "metadata": {
        "id": "aNKL6Nm0wKif"
      },
      "execution_count": 5,
      "outputs": []
    },
    {
      "cell_type": "code",
      "source": [
        "from sklearn.ensemble import RandomForestClassifier\n",
        "classifier = RandomForestClassifier(n_estimators=20, random_state=0)\n",
        "classifier.fit(X_train, y_train)\n",
        "y_pred=classifier.predict(X_test)"
      ],
      "metadata": {
        "id": "QpUW8b3hwO1D"
      },
      "execution_count": 6,
      "outputs": []
    },
    {
      "cell_type": "markdown",
      "source": [
        "______________________________________________________________________________________________________"
      ],
      "metadata": {
        "id": "R3loISTw_g1J"
      }
    },
    {
      "cell_type": "code",
      "execution_count": 7,
      "metadata": {
        "id": "FLh1FU8veEu2",
        "colab": {
          "base_uri": "https://localhost:8080/"
        },
        "outputId": "7549c240-27ad-43c9-eaa2-d6de47d11573"
      },
      "outputs": [
        {
          "output_type": "stream",
          "name": "stdout",
          "text": [
            "[[ 1287  1120    24   428  1048]\n",
            " [  452 10894   767   354   504]\n",
            " [   21  1684  5153     8   141]\n",
            " [  443  1341    47  3470   212]\n",
            " [  461   232    12    44  5642]]\n",
            "              precision    recall  f1-score   support\n",
            "\n",
            "          N1       0.48      0.33      0.39      3907\n",
            "          N2       0.71      0.84      0.77     12971\n",
            "          N3       0.86      0.74      0.79      7007\n",
            "           R       0.81      0.63      0.71      5513\n",
            "           W       0.75      0.88      0.81      6391\n",
            "\n",
            "    accuracy                           0.74     35789\n",
            "   macro avg       0.72      0.68      0.69     35789\n",
            "weighted avg       0.74      0.74      0.73     35789\n",
            "\n",
            "Accurecy:  0.7389421330576434\n"
          ]
        }
      ],
      "source": [
        "from sklearn.metrics import classification_report, confusion_matrix, accuracy_score\n",
        "print(confusion_matrix(y_test, y_pred))\n",
        "print(classification_report(y_test,y_pred))\n",
        "print(\"Accurecy: \",accuracy_score(y_test, y_pred))"
      ]
    },
    {
      "cell_type": "markdown",
      "source": [
        "_____________________________________________________________________________________________________"
      ],
      "metadata": {
        "id": "6NkqWeOc_c8B"
      }
    },
    {
      "cell_type": "markdown",
      "source": [
        "#Heat map"
      ],
      "metadata": {
        "id": "ECj5C2Lqw330"
      }
    },
    {
      "cell_type": "code",
      "source": [
        "\n",
        "cm = confusion_matrix(y_test, y_pred)\n",
        "import seaborn as sn\n",
        "import matplotlib.pyplot as plt\n",
        "plt.figure(figsize = (15,10))\n",
        "sn.heatmap(cm, annot=True, fmt='d') # here, cm is called to be visualized\n",
        "plt.xlabel('Predicted',fontsize=14.0, fontweight='bold')\n",
        "plt.ylabel('Truth',fontsize=12.0, fontweight='bold')"
      ],
      "metadata": {
        "colab": {
          "base_uri": "https://localhost:8080/",
          "height": 628
        },
        "id": "5uUaZwoYwgSO",
        "outputId": "0519e1af-788c-482d-fae2-02e9fdfaaa6a"
      },
      "execution_count": 8,
      "outputs": [
        {
          "output_type": "execute_result",
          "data": {
            "text/plain": [
              "Text(114.0, 0.5, 'Truth')"
            ]
          },
          "metadata": {},
          "execution_count": 8
        },
        {
          "output_type": "display_data",
          "data": {
            "text/plain": [
              "<Figure size 1080x720 with 2 Axes>"
            ],
            "image/png": "[encoded data removed]"
          },
          "metadata": {
            "needs_background": "light"
          }
        }
      ]
    },
    {
      "cell_type": "markdown",
      "source": [
        "_________________________________________________________________________________________"
      ],
      "metadata": {
        "id": "u452Ts_y_ZHk"
      }
    },
    {
      "cell_type": "markdown",
      "source": [
        "#Calculating per class"
      ],
      "metadata": {
        "id": "LvRbRn5z7MBf"
      }
    },
    {
      "cell_type": "code",
      "source": [
        "\n",
        "labels = list(set(y_test))\n",
        "labels.sort()\n",
        "\n",
        "print(\"Total labels: %s -> %s\" % (len(labels), labels))\n"
      ],
      "metadata": {
        "colab": {
          "base_uri": "https://localhost:8080/"
        },
        "id": "ANEJ7IJY4wzt",
        "outputId": "66e7ba7a-42df-4928-f3d5-5ae4d55e6112"
      },
      "execution_count": 9,
      "outputs": [
        {
          "output_type": "stream",
          "name": "stdout",
          "text": [
            "Total labels: 5 -> ['N1', 'N2', 'N3', 'R', 'W']\n"
          ]
        }
      ]
    },
    {
      "cell_type": "code",
      "source": [
        "df = pd.DataFrame(\n",
        "    data=confusion_matrix(y_test, y_pred, labels=labels),\n",
        "    columns=labels,\n",
        "    index=labels\n",
        ")\n",
        "df"
      ],
      "metadata": {
        "colab": {
          "base_uri": "https://localhost:8080/",
          "height": 206
        },
        "id": "mnGq7hMd5By0",
        "outputId": "2dffa472-35ce-460d-ad3d-2c0cd780a2ea"
      },
      "execution_count": 10,
      "outputs": [
        {
          "output_type": "execute_result",
          "data": {
            "text/plain": [
              "      N1     N2    N3     R     W\n",
              "N1  1287   1120    24   428  1048\n",
              "N2   452  10894   767   354   504\n",
              "N3    21   1684  5153     8   141\n",
              "R    443   1341    47  3470   212\n",
              "W    461    232    12    44  5642"
            ],
            "text/html": [
              "\n",
              "  <div id=\"df-c00f0260-d7b6-4b0a-9535-6aa41d48fe45\">\n",
              "    <div class=\"colab-df-container\">\n",
              "      <div>\n",
              "<style scoped>\n",
              "    .dataframe tbody tr th:only-of-type {\n",
              "        vertical-align: middle;\n",
              "    }\n",
              "\n",
              "    .dataframe tbody tr th {\n",
              "        vertical-align: top;\n",
              "    }\n",
              "\n",
              "    .dataframe thead th {\n",
              "        text-align: right;\n",
              "    }\n",
              "</style>\n",
              "<table border=\"1\" class=\"dataframe\">\n",
              "  <thead>\n",
              "    <tr style=\"text-align: right;\">\n",
              "      <th></th>\n",
              "      <th>N1</th>\n",
              "      <th>N2</th>\n",
              "      <th>N3</th>\n",
              "      <th>R</th>\n",
              "      <th>W</th>\n",
              "    </tr>\n",
              "  </thead>\n",
              "  <tbody>\n",
              "    <tr>\n",
              "      <th>N1</th>\n",
              "      <td>1287</td>\n",
              "      <td>1120</td>\n",
              "      <td>24</td>\n",
              "      <td>428</td>\n",
              "      <td>1048</td>\n",
              "    </tr>\n",
              "    <tr>\n",
              "      <th>N2</th>\n",
              "      <td>452</td>\n",
              "      <td>10894</td>\n",
              "      <td>767</td>\n",
              "      <td>354</td>\n",
              "      <td>504</td>\n",
              "    </tr>\n",
              "    <tr>\n",
              "      <th>N3</th>\n",
              "      <td>21</td>\n",
              "      <td>1684</td>\n",
              "      <td>5153</td>\n",
              "      <td>8</td>\n",
              "      <td>141</td>\n",
              "    </tr>\n",
              "    <tr>\n",
              "      <th>R</th>\n",
              "      <td>443</td>\n",
              "      <td>1341</td>\n",
              "      <td>47</td>\n",
              "      <td>3470</td>\n",
              "      <td>212</td>\n",
              "    </tr>\n",
              "    <tr>\n",
              "      <th>W</th>\n",
              "      <td>461</td>\n",
              "      <td>232</td>\n",
              "      <td>12</td>\n",
              "      <td>44</td>\n",
              "      <td>5642</td>\n",
              "    </tr>\n",
              "  </tbody>\n",
              "</table>\n",
              "</div>\n",
              "      <button class=\"colab-df-convert\" onclick=\"convertToInteractive('df-c00f0260-d7b6-4b0a-9535-6aa41d48fe45')\"\n",
              "              title=\"Convert this dataframe to an interactive table.\"\n",
              "              style=\"display:none;\">\n",
              "        \n",
              "  <svg xmlns=\"http://www.w3.org/2000/svg\" height=\"24px\"viewBox=\"0 0 24 24\"\n",
              "       width=\"24px\">\n",
              "    <path d=\"M0 0h24v24H0V0z\" fill=\"none\"/>\n",
              "    <path d=\"M18.56 5.44l.94 2.06.94-2.06 2.06-.94-2.06-.94-.94-2.06-.94 2.06-2.06.94zm-11 1L8.5 8.5l.94-2.06 2.06-.94-2.06-.94L8.5 2.5l-.94 2.06-2.06.94zm10 10l.94 2.06.94-2.06 2.06-.94-2.06-.94-.94-2.06-.94 2.06-2.06.94z\"/><path d=\"M17.41 7.96l-1.37-1.37c-.4-.4-.92-.59-1.43-.59-.52 0-1.04.2-1.43.59L10.3 9.45l-7.72 7.72c-.78.78-.78 2.05 0 2.83L4 21.41c.39.39.9.59 1.41.59.51 0 1.02-.2 1.41-.59l7.78-7.78 2.81-2.81c.8-.78.8-2.07 0-2.86zM5.41 20L4 18.59l7.72-7.72 1.47 1.35L5.41 20z\"/>\n",
              "  </svg>\n",
              "      </button>\n",
              "      \n",
              "  <style>\n",
              "    .colab-df-container {\n",
              "      display:flex;\n",
              "      flex-wrap:wrap;\n",
              "      gap: 12px;\n",
              "    }\n",
              "\n",
              "    .colab-df-convert {\n",
              "      background-color: #E8F0FE;\n",
              "      border: none;\n",
              "      border-radius: 50%;\n",
              "      cursor: pointer;\n",
              "      display: none;\n",
              "      fill: #1967D2;\n",
              "      height: 32px;\n",
              "      padding: 0 0 0 0;\n",
              "      width: 32px;\n",
              "    }\n",
              "\n",
              "    .colab-df-convert:hover {\n",
              "      background-color: #E2EBFA;\n",
              "      box-shadow: 0px 1px 2px rgba(60, 64, 67, 0.3), 0px 1px 3px 1px rgba(60, 64, 67, 0.15);\n",
              "      fill: #174EA6;\n",
              "    }\n",
              "\n",
              "    [theme=dark] .colab-df-convert {\n",
              "      background-color: #3B4455;\n",
              "      fill: #D2E3FC;\n",
              "    }\n",
              "\n",
              "    [theme=dark] .colab-df-convert:hover {\n",
              "      background-color: #434B5C;\n",
              "      box-shadow: 0px 1px 3px 1px rgba(0, 0, 0, 0.15);\n",
              "      filter: drop-shadow(0px 1px 2px rgba(0, 0, 0, 0.3));\n",
              "      fill: #FFFFFF;\n",
              "    }\n",
              "  </style>\n",
              "\n",
              "      <script>\n",
              "        const buttonEl =\n",
              "          document.querySelector('#df-c00f0260-d7b6-4b0a-9535-6aa41d48fe45 button.colab-df-convert');\n",
              "        buttonEl.style.display =\n",
              "          google.colab.kernel.accessAllowed ? 'block' : 'none';\n",
              "\n",
              "        async function convertToInteractive(key) {\n",
              "          const element = document.querySelector('#df-c00f0260-d7b6-4b0a-9535-6aa41d48fe45');\n",
              "          const dataTable =\n",
              "            await google.colab.kernel.invokeFunction('convertToInteractive',\n",
              "                                                     [key], {});\n",
              "          if (!dataTable) return;\n",
              "\n",
              "          const docLinkHtml = 'Like what you see? Visit the ' +\n",
              "            '<a target=\"_blank\" href=https://colab.research.google.com/notebooks/data_table.ipynb>data table notebook</a>'\n",
              "            + ' to learn more about interactive tables.';\n",
              "          element.innerHTML = '';\n",
              "          dataTable['output_type'] = 'display_data';\n",
              "          await google.colab.output.renderOutput(dataTable, element);\n",
              "          const docLink = document.createElement('div');\n",
              "          docLink.innerHTML = docLinkHtml;\n",
              "          element.appendChild(docLink);\n",
              "        }\n",
              "      </script>\n",
              "    </div>\n",
              "  </div>\n",
              "  "
            ]
          },
          "metadata": {},
          "execution_count": 10
        }
      ]
    },
    {
      "cell_type": "code",
      "source": [
        "#\n",
        "# Local (metrics per class)\n",
        "#\n",
        "tps = {}\n",
        "fps = {}\n",
        "fns = {}\n",
        "tns = {}\n",
        "\n",
        "precision_local = {}\n",
        "recall_local = {}\n",
        "f1_local = {}\n",
        "accuracy_local = {}\n",
        "specificity_local={}\n",
        "\n",
        "for label in labels:\n",
        "    tps[label] = df.loc[label, label]\n",
        "    fps[label] = df[label].sum() - tps[label]\n",
        "    fns[label] = df.loc[label].sum() - tps[label]\n",
        "    tns[label]=len(y_test) - (tps[label] + fps[label] + fns[label])\n",
        "    \n",
        "    tp, fp, fn, tn = tps[label], fps[label], fns[label], tns[label]\n",
        "    \n",
        "    precision_local[label] = tp / (tp + fp) if (tp + fp) > 0. else 0.\n",
        "    specificity_local[label] = tn / (tn + fp) if (tn + fp) > 0. else 0.\n",
        "    recall_local[label] = tp / (tp + fn) if (tp + fp) > 0. else 0.\n",
        "    p, r = precision_local[label], recall_local[label]\n",
        "    \n",
        "    f1_local[label] = 2. * p * r / (p + r) if (p + r) > 0. else 0.\n",
        "    accuracy_local[label] = tp / (tp + fp + fn) if (tp + fp + fn) > 0. else 0.\n",
        "\n",
        "\n",
        "\n",
        "print(\"#-- Local measures --#\")\n",
        "print(\"True Positives(TP):\", tps)\n",
        "print(\"False Positives(FP):\", fps)\n",
        "print(\"True Negatives(TN):\", tns)\n",
        "print(\"False Negatives(FN):\", fns)\n",
        "print(\"----------------------------\")\n",
        "\n",
        "print(\"Precision:\", precision_local)\n",
        "print(\"Recall/Sensitivity:\", recall_local)\n",
        "print(\"Specificity:\",specificity_local)\n",
        "print(\"F1-Score:\", f1_local)\n",
        "print(\"Accuracy:\", accuracy_local)"
      ],
      "metadata": {
        "colab": {
          "base_uri": "https://localhost:8080/"
        },
        "id": "mvA0QAQN69FH",
        "outputId": "84fd59fe-936c-42ae-d736-b04560b6bb3e"
      },
      "execution_count": 12,
      "outputs": [
        {
          "output_type": "stream",
          "name": "stdout",
          "text": [
            "#-- Local measures --#\n",
            "True Positives(TP): {'N1': 1287, 'N2': 10894, 'N3': 5153, 'R': 3470, 'W': 5642}\n",
            "False Positives(FP): {'N1': 1377, 'N2': 4377, 'N3': 850, 'R': 834, 'W': 1905}\n",
            "True Negatives(TN): {'N1': 30505, 'N2': 18441, 'N3': 27932, 'R': 29442, 'W': 27493}\n",
            "False Negatives(FN): {'N1': 2620, 'N2': 2077, 'N3': 1854, 'R': 2043, 'W': 749}\n",
            "----------------------------\n",
            "Precision: {'N1': 0.4831081081081081, 'N2': 0.7133782987361665, 'N3': 0.8584041312676994, 'R': 0.8062267657992565, 'W': 0.7475818205909633}\n",
            "Recall/Sensitivity: {'N1': 0.3294087535193243, 'N2': 0.839873564104541, 'N3': 0.735407449693164, 'R': 0.6294213676764012, 'W': 0.882803943044907}\n",
            "Specificity: {'N1': 0.9568094849758484, 'N2': 0.8081777544044175, 'N3': 0.9704676533944827, 'R': 0.9724534284581847, 'W': 0.9351996734471733}\n",
            "F1-Score: {'N1': 0.391721199208644, 'N2': 0.7714751079951845, 'N3': 0.7921598770176785, 'R': 0.706936946113884, 'W': 0.8095853063567227}\n",
            "Accuracy: {'N1': 0.2435654806964421, 'N2': 0.6279686419183768, 'N3': 0.6558482881506936, 'R': 0.5467149834567512, 'W': 0.6800867888138862}\n"
          ]
        }
      ]
    },
    {
      "cell_type": "code",
      "source": [
        "#\n",
        "# Global\n",
        "#\n",
        "micro_averages = {}\n",
        "macro_averages = {}\n",
        "\n",
        "correct_predictions = sum(tps.values())\n",
        "true_negative=sum(tns.values())\n",
        "\n",
        "den = sum(list(tps.values()) + list(fps.values()))\n",
        "micro_averages[\"Precision\"] = 1. * correct_predictions / den if den > 0. else 0.\n",
        "\n",
        "den = sum(list(tps.values()) + list(fns.values()))\n",
        "micro_averages[\"Recall\"] = 1. * correct_predictions / den if den > 0. else 0.\n",
        "\n",
        "den = sum(list(tns.values()) + list(fps.values()))\n",
        "micro_averages[\"Specificity\"] = 1. * true_negative / den if den > 0. else 0.\n",
        "\n",
        "\n",
        "micro_avg_p, micro_avg_r = micro_averages[\"Precision\"], micro_averages[\"Recall\"]\n",
        "micro_averages[\"F1-score\"] = 2. * micro_avg_p * micro_avg_r / (micro_avg_p + micro_avg_r) if (micro_avg_p + micro_avg_r) > 0. else 0.\n",
        "\n",
        "macro_averages[\"Precision\"] = np.mean(list(precision_local.values()))\n",
        "macro_averages[\"Recall\"] = np.mean(list(recall_local.values()))\n",
        "macro_averages[\"Specificity\"]=np.mean(list(specificity_local.values()))\n",
        "\n",
        "\n",
        "macro_avg_p, macro_avg_r = macro_averages[\"Precision\"], macro_averages[\"Recall\"]\n",
        "macro_averages[\"F1-Score\"] = 2. * macro_avg_p * macro_avg_r / (macro_avg_p + macro_avg_r) if (macro_avg_p + macro_avg_r) > 0. else 0.\n",
        "\n",
        "total_predictions = df.values.sum()\n",
        "accuracy_global = correct_predictions / total_predictions if total_predictions > 0. else 0.\n",
        "\n",
        "print(\"#-- Global measures --#\")\n",
        "print(\"Micro-Averages:\", micro_averages)\n",
        "print(\"Macro-Averages:\", macro_averages)\n",
        "print(\"Correct predictions:\", correct_predictions)\n",
        "print(\"Total predictions:\", total_predictions)\n",
        "print(\"Accuracy:\", accuracy_global)"
      ],
      "metadata": {
        "colab": {
          "base_uri": "https://localhost:8080/"
        },
        "id": "2MuXnQM38Qdr",
        "outputId": "407500ed-7461-4645-a374-bf4118bc4e0d"
      },
      "execution_count": 13,
      "outputs": [
        {
          "output_type": "stream",
          "name": "stdout",
          "text": [
            "#-- Global measures --#\n",
            "Micro-Averages: {'Precision': 0.7389421330576434, 'Recall': 0.7389421330576434, 'Specificity': 0.9347355332644108, 'F1-score': 0.7389421330576434}\n",
            "Macro-Averages: {'Precision': 0.7217398249004388, 'Recall': 0.6833830156076675, 'Specificity': 0.9286215989360214, 'F1-Score': 0.7020378913579638}\n",
            "Correct predictions: 26446\n",
            "Total predictions: 35789\n",
            "Accuracy: 0.7389421330576434\n"
          ]
        }
      ]
    },
    {
      "cell_type": "code",
      "source": [
        "accuracy_local_new = {}\n",
        "for label in labels:\n",
        "    tp, fp, fn, tn = tps[label], fps[label], fns[label], tns[label]\n",
        "    accuracy_local_new[label] = (tp + tn) / (tp + fp + fn + tn) if (tp + fp + fn + tn) > 0. else 0.\n",
        "\n",
        "total_true = sum(list(tps.values()) + list(tns.values()))\n",
        "total_predictions = sum(list(tps.values()) + list(tns.values()) + list(fps.values()) + list(fns.values()))\n",
        "accuracy_global_new = 1. * total_true / total_predictions if total_predictions > 0. else 0.\n",
        "\n",
        "print(\"Accuracy (per class), with TNs:\", accuracy_local_new)\n",
        "print(\"Accuracy (per class), without TNs:\", accuracy_local)\n",
        "print(\"Accuracy (global), with TNs:\", accuracy_global_new)\n",
        "print(\"Accuracy (global), without TNs:\", accuracy_global)"
      ],
      "metadata": {
        "colab": {
          "base_uri": "https://localhost:8080/"
        },
        "id": "jnlDVSh-87lc",
        "outputId": "50d0041f-dc13-4f5e-a4a6-c2d3b2b6c22c"
      },
      "execution_count": 14,
      "outputs": [
        {
          "output_type": "stream",
          "name": "stdout",
          "text": [
            "Accuracy (per class), with TNs: {'N1': 0.8883176394981698, 'N2': 0.8196652602755037, 'N3': 0.9244460588448965, 'R': 0.9196121713375618, 'W': 0.925843136159155}\n",
            "Accuracy (per class), without TNs: {'N1': 0.2435654806964421, 'N2': 0.6279686419183768, 'N3': 0.6558482881506936, 'R': 0.5467149834567512, 'W': 0.6800867888138862}\n",
            "Accuracy (global), with TNs: 0.8955768532230574\n",
            "Accuracy (global), without TNs: 0.7389421330576434\n"
          ]
        }
      ]
    },
    {
      "cell_type": "markdown",
      "source": [
        "_____________________________________________________________________________________________"
      ],
      "metadata": {
        "id": "jhpZXsYh_UZT"
      }
    },
    {
      "cell_type": "code",
      "source": [],
      "metadata": {
        "id": "ybtV3vsi75rJ"
      },
      "execution_count": null,
      "outputs": []
    },
    {
      "cell_type": "code",
      "source": [],
      "metadata": {
        "id": "crMgn8y2bPPp"
      },
      "execution_count": null,
      "outputs": []
    },
    {
      "cell_type": "markdown",
      "source": [
        "#Function"
      ],
      "metadata": {
        "id": "j3Q_iF9e85pB"
      }
    },
    {
      "cell_type": "code",
      "source": [],
      "metadata": {
        "id": "JHKay8r_8noK"
      },
      "execution_count": null,
      "outputs": []
    },
    {
      "cell_type": "code",
      "source": [
        "def confusion_details(y_test,y_pred):\n",
        "    labels = list(set(y_test))\n",
        "    labels.sort()\n",
        "\n",
        "    print(\"Total labels: %s -> %s\" % (len(labels), labels))\n",
        "\n",
        "    df = pd.DataFrame(\n",
        "        data=confusion_matrix(y_test, y_pred, labels=labels),\n",
        "        columns=labels,\n",
        "        index=labels\n",
        "    )\n",
        "\n",
        "    print(df)\n",
        "\n",
        "    print()\n",
        "    print(\"----------------------------------------------------------------------------------------\")\n",
        "    print(\"----------------------------------------------------------------------------------------\")\n",
        "    print()\n",
        "    #\n",
        "    # Local (metrics per class)\n",
        "    #\n",
        "    tps = {}\n",
        "    fps = {}\n",
        "    fns = {}\n",
        "    tns = {}\n",
        "\n",
        "    precision_local = {}\n",
        "    recall_local = {}\n",
        "    f1_local = {}\n",
        "    accuracy_local = {}\n",
        "    specificity_local={}\n",
        "\n",
        "    for label in labels:\n",
        "        tps[label] = df.loc[label, label]\n",
        "        fps[label] = df[label].sum() - tps[label]\n",
        "        fns[label] = df.loc[label].sum() - tps[label]\n",
        "        tns[label]=len(y_test) - (tps[label] + fps[label] + fns[label])\n",
        "        \n",
        "        tp, fp, fn, tn = tps[label], fps[label], fns[label], tns[label]\n",
        "        \n",
        "        precision_local[label] = tp / (tp + fp) if (tp + fp) > 0. else 0.\n",
        "        specificity_local[label] = tn / (tn + fp) if (tn + fp) > 0. else 0.\n",
        "        recall_local[label] = tp / (tp + fn) if (tp + fp) > 0. else 0.\n",
        "        p, r = precision_local[label], recall_local[label]\n",
        "        \n",
        "        f1_local[label] = 2. * p * r / (p + r) if (p + r) > 0. else 0.\n",
        "        accuracy_local[label] = tp / (tp + fp + fn) if (tp + fp + fn) > 0. else 0.\n",
        "\n",
        "\n",
        "\n",
        "    print(\"#-- Local measures --#\")\n",
        "    print(\"True Positives(TP):\", tps)\n",
        "    print(\"False Positives(FP):\", fps)\n",
        "    print(\"True Negatives(TN):\", tns)\n",
        "    print(\"False Negatives(FN):\", fns)\n",
        "    print(\"----------------------------\")\n",
        "\n",
        "    print(\"Precision:\", precision_local)\n",
        "    print(\"Recall/Sensitivity:\", recall_local)\n",
        "    print(\"Specificity:\",specificity_local)\n",
        "    print(\"F1-Score:\", f1_local)\n",
        "    print(\"Accuracy:\", accuracy_local)\n",
        "\n",
        "\n",
        "    print()\n",
        "    print(\"----------------------------------------------------------------------------------------\")\n",
        "    print(\"----------------------------------------------------------------------------------------\")\n",
        "    print()\n",
        "    #\n",
        "    # Global\n",
        "    #\n",
        "    micro_averages = {}\n",
        "    macro_averages = {}\n",
        "\n",
        "    correct_predictions = sum(tps.values())\n",
        "    true_negative=sum(tns.values())\n",
        "\n",
        "    den = sum(list(tps.values()) + list(fps.values()))\n",
        "    micro_averages[\"Precision\"] = 1. * correct_predictions / den if den > 0. else 0.\n",
        "\n",
        "    den = sum(list(tps.values()) + list(fns.values()))\n",
        "    micro_averages[\"Recall\"] = 1. * correct_predictions / den if den > 0. else 0.\n",
        "\n",
        "    den = sum(list(tns.values()) + list(fps.values()))\n",
        "    micro_averages[\"Specificity\"] = 1. * true_negative / den if den > 0. else 0.\n",
        "\n",
        "\n",
        "    micro_avg_p, micro_avg_r = micro_averages[\"Precision\"], micro_averages[\"Recall\"]\n",
        "    micro_averages[\"F1-score\"] = 2. * micro_avg_p * micro_avg_r / (micro_avg_p + micro_avg_r) if (micro_avg_p + micro_avg_r) > 0. else 0.\n",
        "\n",
        "    macro_averages[\"Precision\"] = np.mean(list(precision_local.values()))\n",
        "    macro_averages[\"Recall\"] = np.mean(list(recall_local.values()))\n",
        "    macro_averages[\"Specificity\"]=np.mean(list(specificity_local.values()))\n",
        "\n",
        "\n",
        "    macro_avg_p, macro_avg_r = macro_averages[\"Precision\"], macro_averages[\"Recall\"]\n",
        "    macro_averages[\"F1-Score\"] = 2. * macro_avg_p * macro_avg_r / (macro_avg_p + macro_avg_r) if (macro_avg_p + macro_avg_r) > 0. else 0.\n",
        "\n",
        "    total_predictions = df.values.sum()\n",
        "    accuracy_global = correct_predictions / total_predictions if total_predictions > 0. else 0.\n",
        "\n",
        "    print(\"#-- Global measures --#\")\n",
        "    print(\"Micro-Averages:\", micro_averages)\n",
        "    print(\"Macro-Averages:\", macro_averages)\n",
        "    print(\"Correct predictions:\", correct_predictions)\n",
        "    print(\"Total predictions:\", total_predictions)\n",
        "    print(\"Accuracy:\", accuracy_global)\n",
        "\n",
        "\n",
        "    print()\n",
        "    print(\"----------------------------------------------------------------------------------------\")\n",
        "    print(\"----------------------------------------------------------------------------------------\")\n",
        "    print()\n",
        "\n",
        "\n",
        "\n",
        "    accuracy_local_new = {}\n",
        "    for label in labels:\n",
        "        tp, fp, fn, tn = tps[label], fps[label], fns[label], tns[label]\n",
        "        accuracy_local_new[label] = (tp + tn) / (tp + fp + fn + tn) if (tp + fp + fn + tn) > 0. else 0.\n",
        "\n",
        "    total_true = sum(list(tps.values()) + list(tns.values()))\n",
        "    total_predictions = sum(list(tps.values()) + list(tns.values()) + list(fps.values()) + list(fns.values()))\n",
        "    accuracy_global_new = 1. * total_true / total_predictions if total_predictions > 0. else 0.\n",
        "\n",
        "    print(\"Accuracy (per class), with TNs:\", accuracy_local_new)\n",
        "    print(\"Accuracy (per class), without TNs:\", accuracy_local)\n",
        "    print(\"Accuracy (global), with TNs:\", accuracy_global_new)\n",
        "    print(\"Accuracy (global), without TNs:\", accuracy_global)"
      ],
      "metadata": {
        "id": "uJqLdYLC79Aj"
      },
      "execution_count": 11,
      "outputs": []
    },
    {
      "cell_type": "code",
      "source": [
        "confusion_details(y_test,y_pred)"
      ],
      "metadata": {
        "id": "puSQ48pL8jUQ",
        "outputId": "9955cafa-3bc1-40cd-d4c2-a1dff7c82193",
        "colab": {
          "base_uri": "https://localhost:8080/"
        }
      },
      "execution_count": 16,
      "outputs": [
        {
          "output_type": "stream",
          "name": "stdout",
          "text": [
            "Total labels: 5 -> ['N1', 'N2', 'N3', 'R', 'W']\n",
            "      N1     N2    N3     R     W\n",
            "N1  1287   1120    24   428  1048\n",
            "N2   452  10894   767   354   504\n",
            "N3    21   1684  5153     8   141\n",
            "R    443   1341    47  3470   212\n",
            "W    461    232    12    44  5642\n",
            "\n",
            "----------------------------------------------------------------------------------------\n",
            "----------------------------------------------------------------------------------------\n",
            "\n",
            "#-- Local measures --#\n",
            "True Positives(TP): {'N1': 1287, 'N2': 10894, 'N3': 5153, 'R': 3470, 'W': 5642}\n",
            "False Positives(FP): {'N1': 1377, 'N2': 4377, 'N3': 850, 'R': 834, 'W': 1905}\n",
            "True Negatives(TN): {'N1': 30505, 'N2': 18441, 'N3': 27932, 'R': 29442, 'W': 27493}\n",
            "False Negatives(FN): {'N1': 2620, 'N2': 2077, 'N3': 1854, 'R': 2043, 'W': 749}\n",
            "----------------------------\n",
            "Precision: {'N1': 0.4831081081081081, 'N2': 0.7133782987361665, 'N3': 0.8584041312676994, 'R': 0.8062267657992565, 'W': 0.7475818205909633}\n",
            "Recall/Sensitivity: {'N1': 0.3294087535193243, 'N2': 0.839873564104541, 'N3': 0.735407449693164, 'R': 0.6294213676764012, 'W': 0.882803943044907}\n",
            "Specificity: {'N1': 0.9568094849758484, 'N2': 0.8081777544044175, 'N3': 0.9704676533944827, 'R': 0.9724534284581847, 'W': 0.9351996734471733}\n",
            "F1-Score: {'N1': 0.391721199208644, 'N2': 0.7714751079951845, 'N3': 0.7921598770176785, 'R': 0.706936946113884, 'W': 0.8095853063567227}\n",
            "Accuracy: {'N1': 0.2435654806964421, 'N2': 0.6279686419183768, 'N3': 0.6558482881506936, 'R': 0.5467149834567512, 'W': 0.6800867888138862}\n",
            "\n",
            "----------------------------------------------------------------------------------------\n",
            "----------------------------------------------------------------------------------------\n",
            "\n",
            "#-- Global measures --#\n",
            "Micro-Averages: {'Precision': 0.7389421330576434, 'Recall': 0.7389421330576434, 'Specificity': 0.9347355332644108, 'F1-score': 0.7389421330576434}\n",
            "Macro-Averages: {'Precision': 0.7217398249004388, 'Recall': 0.6833830156076675, 'Specificity': 0.9286215989360214, 'F1-Score': 0.7020378913579638}\n",
            "Correct predictions: 26446\n",
            "Total predictions: 35789\n",
            "Accuracy: 0.7389421330576434\n",
            "\n",
            "----------------------------------------------------------------------------------------\n",
            "----------------------------------------------------------------------------------------\n",
            "\n",
            "Accuracy (per class), with TNs: {'N1': 0.8883176394981698, 'N2': 0.8196652602755037, 'N3': 0.9244460588448965, 'R': 0.9196121713375618, 'W': 0.925843136159155}\n",
            "Accuracy (per class), without TNs: {'N1': 0.2435654806964421, 'N2': 0.6279686419183768, 'N3': 0.6558482881506936, 'R': 0.5467149834567512, 'W': 0.6800867888138862}\n",
            "Accuracy (global), with TNs: 0.8955768532230574\n",
            "Accuracy (global), without TNs: 0.7389421330576434\n"
          ]
        }
      ]
    },
    {
      "cell_type": "markdown",
      "source": [],
      "metadata": {
        "id": "xBhlmaWH-Ual"
      }
    },
    {
      "cell_type": "code",
      "source": [
        "import matplotlib.pyplot as plt\n",
        "from yellowbrick.classifier import ConfusionMatrix\n",
        "import matplotlib.dates as dates\n",
        "\n",
        "\n",
        "\n",
        "def Conf_Mat(X_,y_,attb,model,cls):\n",
        "\n",
        "\n",
        "  fig = plt.figure(figsize=(attb[\"Fig Height\"],attb[\"Fig weidth\"]))\n",
        "  ax = fig.add_subplot(111)\n",
        "\n",
        "  cm = ConfusionMatrix(model, classes=cls,fontsize=attb[\"Confusion Matrix Inner Fontsize\"],ax=ax)\n",
        "  cm.fit(X_train, y_train)\n",
        "  cm.score(X_, y_)\n",
        "      \n",
        "  cm.ax.set_xlabel(\"Predicted Class\", fontsize=attb[\"X Axis Fontsize\"],fontweight=\"bold\")\n",
        "  cm.ax.set_ylabel(\"True Class\", fontsize=attb[\"Y Axis Fontsize\"],fontweight=\"bold\")\n",
        "  cm.ax.xaxis.set_tick_params(labelsize=attb[\"X Label Fontsize\"])\n",
        "  cm.ax.yaxis.set_tick_params(labelsize=attb[\"Y Label Fontsize\"])\n",
        "  for label in ax.get_xticklabels():\n",
        "    label.set_fontweight(550)\n",
        "  for label in ax.get_yticklabels():\n",
        "    label.set_fontweight(550)\n",
        "  \n",
        "  plt.savefig(\"Testing_confusion_mat\"+str(model)+\".png\")\n",
        "  cm.show()\n",
        "  print(\"--------------------\")\n",
        "  print(\"--------------------\")"
      ],
      "metadata": {
        "id": "Jo73wEYJ88OV"
      },
      "execution_count": 24,
      "outputs": []
    },
    {
      "cell_type": "code",
      "source": [
        "attributes={\n",
        "   \"Fig Height\": 10,\n",
        "   \"Fig weidth\": 10, \n",
        "    \n",
        "  \"Y Axis Fontsize\" : 20,\n",
        "  \"X Axis Fontsize\" : 20,\n",
        "\n",
        "  \"Y Label Fontsize\" : 20,\n",
        "  \"X Label Fontsize\" : 20,\n",
        "\n",
        "  \"Confusion Matrix Inner Fontsize\": 18\n",
        "\n",
        "\n",
        "}\n",
        "\n",
        "Conf_Mat(X_test,y_test,attributes,classifier,labels)\n",
        "     "
      ],
      "metadata": {
        "id": "kQnGLtCs9JKR",
        "outputId": "769bb043-0bac-4cfe-f318-3853baa8786e",
        "colab": {
          "base_uri": "https://localhost:8080/",
          "height": 762
        }
      },
      "execution_count": 25,
      "outputs": [
        {
          "output_type": "display_data",
          "data": {
            "text/plain": [
              "<Figure size 720x720 with 1 Axes>"
            ],
            "image/png": "[encoded data removed]"
          },
          "metadata": {}
        },
        {
          "output_type": "stream",
          "name": "stdout",
          "text": [
            "--------------------\n",
            "--------------------\n"
          ]
        }
      ]
    },
    {
      "cell_type": "code",
      "source": [
        "import pandas as pd\n",
        "\n",
        "def dfToxl(name,df):\n",
        "  df.to_excel(name+\".xlsx\", index=False)\n",
        "  print(\"Dictionary converted into excel...\")\n",
        "\n",
        "def dicToxl(name,dic):\n",
        "  dataframe = pd.DataFrame(data=[dic])\n",
        "  dataframe.to_excel(name+\".xlsx\", index=False)\n",
        "  print(\"Dictionary converted into excel...\")\n",
        "\n"
      ],
      "metadata": {
        "id": "t1NNmCYl_M1s"
      },
      "execution_count": null,
      "outputs": []
    }
  ]
}