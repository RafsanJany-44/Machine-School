{
  "nbformat": 4,
  "nbformat_minor": 0,
  "metadata": {
    "colab": {
      "name": "Data Preprocessing.ipynb",
      "provenance": [],
      "authorship_tag": "ABX9TyOggeziwzRVzUoqpZBOVycf",
      "include_colab_link": true
    },
    "kernelspec": {
      "name": "python3",
      "display_name": "Python 3"
    },
    "language_info": {
      "name": "python"
    }
  },
  "cells": [
    {
      "cell_type": "markdown",
      "metadata": {
        "id": "view-in-github",
        "colab_type": "text"
      },
      "source": [
        "<a href=\"https://colab.research.google.com/github/RafsanJany-44/Machine-School/blob/main/Data_Preprocessing.ipynb\" target=\"_parent\"><img src=\"https://colab.research.google.com/assets/colab-badge.svg\" alt=\"Open In Colab\"/></a>"
      ]
    },
    {
      "cell_type": "code",
      "execution_count": 1,
      "metadata": {
        "id": "FigW9TKuDVKo"
      },
      "outputs": [],
      "source": [
        "import numpy as np\n",
        "import pandas as pd"
      ]
    },
    {
      "cell_type": "code",
      "source": [
        "dataset=pd.read_csv(\"https://raw.githubusercontent.com/RafsanJany-44/Machine-School/main/datasets/Machine_readable_file_mei_march_2022.csv\")"
      ],
      "metadata": {
        "id": "EUBuA08XNFXX"
      },
      "execution_count": 27,
      "outputs": []
    },
    {
      "cell_type": "code",
      "source": [
        "dataset.head()"
      ],
      "metadata": {
        "colab": {
          "base_uri": "https://localhost:8080/",
          "height": 616
        },
        "id": "JtBNLDg_N0ee",
        "outputId": "1c5edeb6-f763-4791-d1a9-5480b0daf4e0"
      },
      "execution_count": 28,
      "outputs": [
        {
          "output_type": "execute_result",
          "data": {
            "text/plain": [
              "  Series_reference   Period  Data_value Suppressed STATUS   UNITS  Magnitude  \\\n",
              "0        MEIM.S1WA  1999.04     80267.0        NaN      F  Number          0   \n",
              "1        MEIM.S1WA  1999.05     70803.0        NaN      F  Number          0   \n",
              "2        MEIM.S1WA  1999.06     65792.0        NaN      F  Number          0   \n",
              "3        MEIM.S1WA  1999.07     66194.0        NaN      F  Number          0   \n",
              "4        MEIM.S1WA  1999.08     67259.0        NaN      F  Number          0   \n",
              "\n",
              "                       Subject                            Group  \\\n",
              "0  Employment indicators - MEI  High level industry by variable   \n",
              "1  Employment indicators - MEI  High level industry by variable   \n",
              "2  Employment indicators - MEI  High level industry by variable   \n",
              "3  Employment indicators - MEI  High level industry by variable   \n",
              "4  Employment indicators - MEI  High level industry by variable   \n",
              "\n",
              "  Series_title_1      Series_title_2 Series_title_3 Series_title_4  \\\n",
              "0    Filled jobs  Primary industries         Actual            NaN   \n",
              "1    Filled jobs  Primary industries         Actual            NaN   \n",
              "2    Filled jobs  Primary industries         Actual            NaN   \n",
              "3    Filled jobs  Primary industries         Actual            NaN   \n",
              "4    Filled jobs  Primary industries         Actual            NaN   \n",
              "\n",
              "   Series_title_5  \n",
              "0             NaN  \n",
              "1             NaN  \n",
              "2             NaN  \n",
              "3             NaN  \n",
              "4             NaN  "
            ],
            "text/html": [
              "\n",
              "  <div id=\"df-a847e551-636b-40c8-b02c-72fc509cbade\">\n",
              "    <div class=\"colab-df-container\">\n",
              "      <div>\n",
              "<style scoped>\n",
              "    .dataframe tbody tr th:only-of-type {\n",
              "        vertical-align: middle;\n",
              "    }\n",
              "\n",
              "    .dataframe tbody tr th {\n",
              "        vertical-align: top;\n",
              "    }\n",
              "\n",
              "    .dataframe thead th {\n",
              "        text-align: right;\n",
              "    }\n",
              "</style>\n",
              "<table border=\"1\" class=\"dataframe\">\n",
              "  <thead>\n",
              "    <tr style=\"text-align: right;\">\n",
              "      <th></th>\n",
              "      <th>Series_reference</th>\n",
              "      <th>Period</th>\n",
              "      <th>Data_value</th>\n",
              "      <th>Suppressed</th>\n",
              "      <th>STATUS</th>\n",
              "      <th>UNITS</th>\n",
              "      <th>Magnitude</th>\n",
              "      <th>Subject</th>\n",
              "      <th>Group</th>\n",
              "      <th>Series_title_1</th>\n",
              "      <th>Series_title_2</th>\n",
              "      <th>Series_title_3</th>\n",
              "      <th>Series_title_4</th>\n",
              "      <th>Series_title_5</th>\n",
              "    </tr>\n",
              "  </thead>\n",
              "  <tbody>\n",
              "    <tr>\n",
              "      <th>0</th>\n",
              "      <td>MEIM.S1WA</td>\n",
              "      <td>1999.04</td>\n",
              "      <td>80267.0</td>\n",
              "      <td>NaN</td>\n",
              "      <td>F</td>\n",
              "      <td>Number</td>\n",
              "      <td>0</td>\n",
              "      <td>Employment indicators - MEI</td>\n",
              "      <td>High level industry by variable</td>\n",
              "      <td>Filled jobs</td>\n",
              "      <td>Primary industries</td>\n",
              "      <td>Actual</td>\n",
              "      <td>NaN</td>\n",
              "      <td>NaN</td>\n",
              "    </tr>\n",
              "    <tr>\n",
              "      <th>1</th>\n",
              "      <td>MEIM.S1WA</td>\n",
              "      <td>1999.05</td>\n",
              "      <td>70803.0</td>\n",
              "      <td>NaN</td>\n",
              "      <td>F</td>\n",
              "      <td>Number</td>\n",
              "      <td>0</td>\n",
              "      <td>Employment indicators - MEI</td>\n",
              "      <td>High level industry by variable</td>\n",
              "      <td>Filled jobs</td>\n",
              "      <td>Primary industries</td>\n",
              "      <td>Actual</td>\n",
              "      <td>NaN</td>\n",
              "      <td>NaN</td>\n",
              "    </tr>\n",
              "    <tr>\n",
              "      <th>2</th>\n",
              "      <td>MEIM.S1WA</td>\n",
              "      <td>1999.06</td>\n",
              "      <td>65792.0</td>\n",
              "      <td>NaN</td>\n",
              "      <td>F</td>\n",
              "      <td>Number</td>\n",
              "      <td>0</td>\n",
              "      <td>Employment indicators - MEI</td>\n",
              "      <td>High level industry by variable</td>\n",
              "      <td>Filled jobs</td>\n",
              "      <td>Primary industries</td>\n",
              "      <td>Actual</td>\n",
              "      <td>NaN</td>\n",
              "      <td>NaN</td>\n",
              "    </tr>\n",
              "    <tr>\n",
              "      <th>3</th>\n",
              "      <td>MEIM.S1WA</td>\n",
              "      <td>1999.07</td>\n",
              "      <td>66194.0</td>\n",
              "      <td>NaN</td>\n",
              "      <td>F</td>\n",
              "      <td>Number</td>\n",
              "      <td>0</td>\n",
              "      <td>Employment indicators - MEI</td>\n",
              "      <td>High level industry by variable</td>\n",
              "      <td>Filled jobs</td>\n",
              "      <td>Primary industries</td>\n",
              "      <td>Actual</td>\n",
              "      <td>NaN</td>\n",
              "      <td>NaN</td>\n",
              "    </tr>\n",
              "    <tr>\n",
              "      <th>4</th>\n",
              "      <td>MEIM.S1WA</td>\n",
              "      <td>1999.08</td>\n",
              "      <td>67259.0</td>\n",
              "      <td>NaN</td>\n",
              "      <td>F</td>\n",
              "      <td>Number</td>\n",
              "      <td>0</td>\n",
              "      <td>Employment indicators - MEI</td>\n",
              "      <td>High level industry by variable</td>\n",
              "      <td>Filled jobs</td>\n",
              "      <td>Primary industries</td>\n",
              "      <td>Actual</td>\n",
              "      <td>NaN</td>\n",
              "      <td>NaN</td>\n",
              "    </tr>\n",
              "  </tbody>\n",
              "</table>\n",
              "</div>\n",
              "      <button class=\"colab-df-convert\" onclick=\"convertToInteractive('df-a847e551-636b-40c8-b02c-72fc509cbade')\"\n",
              "              title=\"Convert this dataframe to an interactive table.\"\n",
              "              style=\"display:none;\">\n",
              "        \n",
              "  <svg xmlns=\"http://www.w3.org/2000/svg\" height=\"24px\"viewBox=\"0 0 24 24\"\n",
              "       width=\"24px\">\n",
              "    <path d=\"M0 0h24v24H0V0z\" fill=\"none\"/>\n",
              "    <path d=\"M18.56 5.44l.94 2.06.94-2.06 2.06-.94-2.06-.94-.94-2.06-.94 2.06-2.06.94zm-11 1L8.5 8.5l.94-2.06 2.06-.94-2.06-.94L8.5 2.5l-.94 2.06-2.06.94zm10 10l.94 2.06.94-2.06 2.06-.94-2.06-.94-.94-2.06-.94 2.06-2.06.94z\"/><path d=\"M17.41 7.96l-1.37-1.37c-.4-.4-.92-.59-1.43-.59-.52 0-1.04.2-1.43.59L10.3 9.45l-7.72 7.72c-.78.78-.78 2.05 0 2.83L4 21.41c.39.39.9.59 1.41.59.51 0 1.02-.2 1.41-.59l7.78-7.78 2.81-2.81c.8-.78.8-2.07 0-2.86zM5.41 20L4 18.59l7.72-7.72 1.47 1.35L5.41 20z\"/>\n",
              "  </svg>\n",
              "      </button>\n",
              "      \n",
              "  <style>\n",
              "    .colab-df-container {\n",
              "      display:flex;\n",
              "      flex-wrap:wrap;\n",
              "      gap: 12px;\n",
              "    }\n",
              "\n",
              "    .colab-df-convert {\n",
              "      background-color: #E8F0FE;\n",
              "      border: none;\n",
              "      border-radius: 50%;\n",
              "      cursor: pointer;\n",
              "      display: none;\n",
              "      fill: #1967D2;\n",
              "      height: 32px;\n",
              "      padding: 0 0 0 0;\n",
              "      width: 32px;\n",
              "    }\n",
              "\n",
              "    .colab-df-convert:hover {\n",
              "      background-color: #E2EBFA;\n",
              "      box-shadow: 0px 1px 2px rgba(60, 64, 67, 0.3), 0px 1px 3px 1px rgba(60, 64, 67, 0.15);\n",
              "      fill: #174EA6;\n",
              "    }\n",
              "\n",
              "    [theme=dark] .colab-df-convert {\n",
              "      background-color: #3B4455;\n",
              "      fill: #D2E3FC;\n",
              "    }\n",
              "\n",
              "    [theme=dark] .colab-df-convert:hover {\n",
              "      background-color: #434B5C;\n",
              "      box-shadow: 0px 1px 3px 1px rgba(0, 0, 0, 0.15);\n",
              "      filter: drop-shadow(0px 1px 2px rgba(0, 0, 0, 0.3));\n",
              "      fill: #FFFFFF;\n",
              "    }\n",
              "  </style>\n",
              "\n",
              "      <script>\n",
              "        const buttonEl =\n",
              "          document.querySelector('#df-a847e551-636b-40c8-b02c-72fc509cbade button.colab-df-convert');\n",
              "        buttonEl.style.display =\n",
              "          google.colab.kernel.accessAllowed ? 'block' : 'none';\n",
              "\n",
              "        async function convertToInteractive(key) {\n",
              "          const element = document.querySelector('#df-a847e551-636b-40c8-b02c-72fc509cbade');\n",
              "          const dataTable =\n",
              "            await google.colab.kernel.invokeFunction('convertToInteractive',\n",
              "                                                     [key], {});\n",
              "          if (!dataTable) return;\n",
              "\n",
              "          const docLinkHtml = 'Like what you see? Visit the ' +\n",
              "            '<a target=\"_blank\" href=https://colab.research.google.com/notebooks/data_table.ipynb>data table notebook</a>'\n",
              "            + ' to learn more about interactive tables.';\n",
              "          element.innerHTML = '';\n",
              "          dataTable['output_type'] = 'display_data';\n",
              "          await google.colab.output.renderOutput(dataTable, element);\n",
              "          const docLink = document.createElement('div');\n",
              "          docLink.innerHTML = docLinkHtml;\n",
              "          element.appendChild(docLink);\n",
              "        }\n",
              "      </script>\n",
              "    </div>\n",
              "  </div>\n",
              "  "
            ]
          },
          "metadata": {},
          "execution_count": 28
        }
      ]
    },
    {
      "cell_type": "code",
      "source": [
        "dataset.shape"
      ],
      "metadata": {
        "colab": {
          "base_uri": "https://localhost:8080/"
        },
        "id": "zVzj0ZxZN3HG",
        "outputId": "19d6fa9c-6de7-4e5a-b53f-7a1cfd0189c8"
      },
      "execution_count": 4,
      "outputs": [
        {
          "output_type": "execute_result",
          "data": {
            "text/plain": [
              "(18326, 14)"
            ]
          },
          "metadata": {},
          "execution_count": 4
        }
      ]
    },
    {
      "cell_type": "code",
      "source": [
        "dataset.info()"
      ],
      "metadata": {
        "colab": {
          "base_uri": "https://localhost:8080/"
        },
        "id": "9Vle43SJLoVX",
        "outputId": "3583704d-eaa7-47cb-865e-5e06d3690df1"
      },
      "execution_count": 5,
      "outputs": [
        {
          "output_type": "stream",
          "name": "stdout",
          "text": [
            "<class 'pandas.core.frame.DataFrame'>\n",
            "RangeIndex: 18326 entries, 0 to 18325\n",
            "Data columns (total 14 columns):\n",
            " #   Column            Non-Null Count  Dtype  \n",
            "---  ------            --------------  -----  \n",
            " 0   Series_reference  18326 non-null  object \n",
            " 1   Period            18326 non-null  float64\n",
            " 2   Data_value        18070 non-null  float64\n",
            " 3   Suppressed        256 non-null    object \n",
            " 4   STATUS            18326 non-null  object \n",
            " 5   UNITS             18326 non-null  object \n",
            " 6   Magnitude         18326 non-null  int64  \n",
            " 7   Subject           18326 non-null  object \n",
            " 8   Group             18326 non-null  object \n",
            " 9   Series_title_1    18326 non-null  object \n",
            " 10  Series_title_2    18326 non-null  object \n",
            " 11  Series_title_3    18326 non-null  object \n",
            " 12  Series_title_4    8505 non-null   object \n",
            " 13  Series_title_5    0 non-null      float64\n",
            "dtypes: float64(3), int64(1), object(10)\n",
            "memory usage: 2.0+ MB\n"
          ]
        }
      ]
    },
    {
      "cell_type": "markdown",
      "source": [
        "#Data separating for target value"
      ],
      "metadata": {
        "id": "IkYjczKGM9qX"
      }
    },
    {
      "cell_type": "markdown",
      "source": [
        "we can use both indexing and <i>.iloc</i> funtion to get access into data. But before feedin the data to the model we have to use <i>.values.</i> We can use .iloc when the colunms are too many. And we can use indexing when the target colunm is in the middle."
      ],
      "metadata": {
        "id": "wvHysSgNen73"
      }
    },
    {
      "cell_type": "code",
      "source": [
        "var=dataset[[\"Series_reference\",\"Period\",\"Data_value\"]] # call like list elements with column name"
      ],
      "metadata": {
        "id": "txwi-T9KOPHi"
      },
      "execution_count": 6,
      "outputs": []
    },
    {
      "cell_type": "code",
      "source": [
        "var2=var.values #.values remove the col name and make an numpy array\n",
        "var2 #gives array"
      ],
      "metadata": {
        "colab": {
          "base_uri": "https://localhost:8080/"
        },
        "id": "RKyxM7TsPtII",
        "outputId": "ea077337-78fa-46c5-f900-d243da157ceb"
      },
      "execution_count": 7,
      "outputs": [
        {
          "output_type": "execute_result",
          "data": {
            "text/plain": [
              "array([['MEIM.S1WA', 1999.04, 80267.0],\n",
              "       ['MEIM.S1WA', 1999.05, 70803.0],\n",
              "       ['MEIM.S1WA', 1999.06, 65792.0],\n",
              "       ...,\n",
              "       ['MEIQ.S2ZT', 2021.09, nan],\n",
              "       ['MEIQ.S2ZT', 2021.12, nan],\n",
              "       ['MEIQ.S2ZT', 2022.03, nan]], dtype=object)"
            ]
          },
          "metadata": {},
          "execution_count": 7
        }
      ]
    },
    {
      "cell_type": "code",
      "source": [
        "var_type2= list(dataset.iloc[:0,:])\n",
        "var_type2"
      ],
      "metadata": {
        "colab": {
          "base_uri": "https://localhost:8080/"
        },
        "id": "EQvmJAr-P-_D",
        "outputId": "b4d9c1b5-e59f-418a-ce64-1262d98452fe"
      },
      "execution_count": 8,
      "outputs": [
        {
          "output_type": "execute_result",
          "data": {
            "text/plain": [
              "['Series_reference',\n",
              " 'Period',\n",
              " 'Data_value',\n",
              " 'Suppressed',\n",
              " 'STATUS',\n",
              " 'UNITS',\n",
              " 'Magnitude',\n",
              " 'Subject',\n",
              " 'Group',\n",
              " 'Series_title_1',\n",
              " 'Series_title_2',\n",
              " 'Series_title_3',\n",
              " 'Series_title_4',\n",
              " 'Series_title_5']"
            ]
          },
          "metadata": {},
          "execution_count": 8
        }
      ]
    },
    {
      "cell_type": "markdown",
      "source": [
        "but the problem occures when there are many colunms and the target colunm is in the middle then what to do?"
      ],
      "metadata": {
        "id": "cColiSI-gl5Z"
      }
    },
    {
      "cell_type": "markdown",
      "source": [
        "So we will use a generalize function to select the y and x axis"
      ],
      "metadata": {
        "id": "7yvqCTQthQrz"
      }
    },
    {
      "cell_type": "code",
      "source": [
        "\n",
        "def sep_XY(dataset,target):\n",
        "  x_col_name= list(dataset.iloc[:0,:])\n",
        "  x_col_name.remove(target)\n",
        "  return (dataset[x_col_name].values),(dataset[target].values)\n"
      ],
      "metadata": {
        "id": "bOpfZosrf9p4"
      },
      "execution_count": 9,
      "outputs": []
    },
    {
      "cell_type": "code",
      "source": [
        "X,y=sep_XY(dataset,\"STATUS\")\n",
        "print(X)\n",
        "print(y)"
      ],
      "metadata": {
        "colab": {
          "base_uri": "https://localhost:8080/"
        },
        "id": "KYm06yC5cD1l",
        "outputId": "58167d4d-9b51-47ab-fe1b-8c56186e479f"
      },
      "execution_count": 10,
      "outputs": [
        {
          "output_type": "stream",
          "name": "stdout",
          "text": [
            "[['MEIM.S1WA' 1999.04 80267.0 ... 'Actual' nan nan]\n",
            " ['MEIM.S1WA' 1999.05 70803.0 ... 'Actual' nan nan]\n",
            " ['MEIM.S1WA' 1999.06 65792.0 ... 'Actual' nan nan]\n",
            " ...\n",
            " ['MEIQ.S2ZT' 2021.09 nan ... 'Trend' nan nan]\n",
            " ['MEIQ.S2ZT' 2021.12 nan ... 'Trend' nan nan]\n",
            " ['MEIQ.S2ZT' 2022.03 nan ... 'Trend' nan nan]]\n",
            "['F' 'F' 'F' ... 'C' 'C' 'C']\n"
          ]
        }
      ]
    },
    {
      "cell_type": "markdown",
      "source": [
        "<font color=\"green\">Testing with logistic reg</font>"
      ],
      "metadata": {
        "id": "fue9-2J9OsPN"
      }
    },
    {
      "cell_type": "markdown",
      "source": [
        "#data encoding<br>\n",
        "there could be data in string. so sometime we have to convert that to float"
      ],
      "metadata": {
        "id": "U1OhVZlUb7wz"
      }
    },
    {
      "cell_type": "code",
      "source": [
        "k=list(dataset[\"Series_reference\"].unique())\n",
        "print(k)\n",
        "if type(k[0])==str:\n",
        "  print(\"yes\")\n",
        "print(type(k[0]))"
      ],
      "metadata": {
        "id": "Kwy6kdau_g1g",
        "outputId": "16785f23-99d6-47ce-8551-da9ad248f718",
        "colab": {
          "base_uri": "https://localhost:8080/"
        }
      },
      "execution_count": 40,
      "outputs": [
        {
          "output_type": "stream",
          "name": "stdout",
          "text": [
            "['MEIM.S1WA', 'MEIM.S1WS', 'MEIM.S1WT', 'MEIM.S1XA', 'MEIM.S1XS', 'MEIM.S1XT', 'MEIM.S1YA', 'MEIM.S1YS', 'MEIM.S1YT', 'MEIM.S1ZA', 'MEIM.S1ZS', 'MEIM.S1ZT', 'MEIM.S2WA', 'MEIM.S2WS', 'MEIM.S2WT', 'MEIM.S2XA', 'MEIM.S2XS', 'MEIM.S2XT', 'MEIM.S2YA', 'MEIM.S2YS', 'MEIM.S2YT', 'MEIM.S2ZA', 'MEIM.S2ZS', 'MEIM.S2ZT', 'MEIM.S4WA', 'MEIM.S4XA', 'MEIM.S4YA', 'MEIM.S4ZA', 'MEIM.SA1AA', 'MEIM.SA1BA', 'MEIM.SA1CA', 'MEIM.SA1DA', 'MEIM.SA1EA', 'MEIM.SA1FA', 'MEIM.SA1GA', 'MEIM.SA1HA', 'MEIM.SA1IA', 'MEIM.SA1JA', 'MEIM.SA1KA', 'MEIM.SA1LA', 'MEIM.SA1MA', 'MEIM.SA1NA', 'MEIM.SA1OA', 'MEIM.SA1PA', 'MEIM.SA1QA', 'MEIM.SA1RA', 'MEIM.SA1SA', 'MEIM.SB1RAA', 'MEIM.SB1RBA', 'MEIM.SB1RCA', 'MEIM.SB1RDA', 'MEIM.SB1REA', 'MEIM.SB1RFA', 'MEIM.SB1RGA', 'MEIM.SB1RHA', 'MEIM.SB1RIA', 'MEIM.SB1RJA', 'MEIM.SB1RKA', 'MEIM.SB1RLA', 'MEIM.SB1RMA', 'MEIM.SB1RNA', 'MEIM.SB1ROA', 'MEIM.SB1RPA', 'MEIM.SC1AARAA', 'MEIM.SC1AARBA', 'MEIM.SC1AARCA', 'MEIM.SC1AARDA', 'MEIM.SC1AAREA', 'MEIM.SC1AARFA', 'MEIM.SC1AARGA', 'MEIM.SC1AARHA', 'MEIM.SC1AARIA', 'MEIM.SC1AARJA', 'MEIM.SC1AARKA', 'MEIM.SC1AARLA', 'MEIM.SC1AARMA', 'MEIM.SC1AARNA', 'MEIM.SC1AAROA', 'MEIM.SC1AARPA', 'MEIM.SC1AARZA', 'MEIM.SC1ABRAA', 'MEIM.SC1ABRBA', 'MEIM.SC1ABRCA', 'MEIM.SC1ABRDA', 'MEIM.SC1ABREA', 'MEIM.SC1ABRFA', 'MEIM.SC1ABRGA', 'MEIM.SC1ABRHA', 'MEIM.SC1ABRIA', 'MEIM.SC1ABRJA', 'MEIM.SC1ABRKA', 'MEIM.SC1ABRLA', 'MEIM.SC1ABRMA', 'MEIM.SC1ABRNA', 'MEIM.SC1ABROA', 'MEIM.SC1ABRPA', 'MEIM.SC1ABRZA', 'MEIM.SC1ACRAA', 'MEIM.SC1ACRBA', 'MEIM.SC1ACRCA', 'MEIM.SC1ACRDA', 'MEIM.SC1ACREA', 'MEIM.SC1ACRFA', 'MEIM.SC1ACRGA', 'MEIM.SC1ACRHA', 'MEIM.SC1ACRIA', 'MEIM.SC1ACRJA', 'MEIM.SC1ACRKA', 'MEIM.SC1ACRLA', 'MEIM.SC1ACRMA', 'MEIM.SC1ACRNA', 'MEIM.SC1ACROA', 'MEIM.SC1ACRPA', 'MEIM.SC1ACRZA', 'MEIM.SC1ADRAA', 'MEIM.SC1ADRBA', 'MEIM.SC1ADRCA', 'MEIM.SC1ADRDA', 'MEIM.SC1ADREA', 'MEIM.SC1ADRFA', 'MEIM.SC1ADRGA', 'MEIM.SC1ADRHA', 'MEIM.SC1ADRIA', 'MEIM.SC1ADRJA', 'MEIM.SC1ADRKA', 'MEIM.SC1ADRLA', 'MEIM.SC1ADRMA', 'MEIM.SC1ADRNA', 'MEIM.SC1ADROA', 'MEIM.SC1ADRPA', 'MEIM.SC1ADRZA', 'MEIM.SC1AERAA', 'MEIM.SC1AERBA', 'MEIM.SC1AERCA', 'MEIM.SC1AERDA', 'MEIM.SC1AEREA', 'MEIM.SC1AERFA', 'MEIM.SC1AERGA', 'MEIM.SC1AERHA', 'MEIM.SC1AERIA', 'MEIM.SC1AERJA', 'MEIM.SC1AERKA', 'MEIM.SC1AERLA', 'MEIM.SC1AERMA', 'MEIM.SC1AERNA', 'MEIM.SC1AEROA', 'MEIM.SC1AERPA', 'MEIM.SC1AERZA', 'MEIM.SC1AFRAA', 'MEIM.SC1AFRBA', 'MEIM.SC1AFRCA', 'MEIM.SC1AFRDA', 'MEIM.SC1AFREA', 'MEIM.SC1AFRFA', 'MEIM.SC1AFRGA', 'MEIM.SC1AFRHA', 'MEIM.SC1AFRIA', 'MEIM.SC1AFRJA', 'MEIM.SC1AFRKA', 'MEIM.SC1AFRLA', 'MEIM.SC1AFRMA', 'MEIM.SC1AFRNA', 'MEIM.SC1AFROA', 'MEIM.SC1AFRPA', 'MEIM.SC1AFRZA', 'MEIM.SC1AGRAA', 'MEIM.SC1AGRBA', 'MEIM.SC1AGRCA', 'MEIM.SC1AGRDA', 'MEIM.SC1AGREA', 'MEIM.SC1AGRFA', 'MEIM.SC1AGRGA', 'MEIM.SC1AGRHA', 'MEIM.SC1AGRIA', 'MEIM.SC1AGRJA', 'MEIM.SC1AGRKA', 'MEIM.SC1AGRLA', 'MEIM.SC1AGRMA', 'MEIM.SC1AGRNA', 'MEIM.SC1AGROA', 'MEIM.SC1AGRPA', 'MEIM.SC1AGRZA', 'MEIM.SC1AHRAA', 'MEIM.SC1AHRBA', 'MEIM.SC1AHRCA', 'MEIM.SC1AHRDA', 'MEIM.SC1AHREA', 'MEIM.SC1AHRFA', 'MEIM.SC1AHRGA', 'MEIM.SC1AHRHA', 'MEIM.SC1AHRIA', 'MEIM.SC1AHRJA', 'MEIM.SC1AHRKA', 'MEIM.SC1AHRLA', 'MEIM.SC1AHRMA', 'MEIM.SC1AHRNA', 'MEIM.SC1AHROA', 'MEIM.SC1AHRPA', 'MEIM.SC1AHRZA', 'MEIM.SC1AIRAA', 'MEIM.SC1AIRBA', 'MEIM.SC1AIRCA', 'MEIM.SC1AIRDA', 'MEIM.SC1AIREA', 'MEIM.SC1AIRFA', 'MEIM.SC1AIRGA', 'MEIM.SC1AIRHA', 'MEIM.SC1AIRIA', 'MEIM.SC1AIRJA', 'MEIM.SC1AIRKA', 'MEIM.SC1AIRLA', 'MEIM.SC1AIRMA', 'MEIM.SC1AIRNA', 'MEIM.SC1AIROA', 'MEIM.SC1AIRPA', 'MEIM.SC1AIRZA', 'MEIM.SC1AJRAA', 'MEIM.SC1AJRBA', 'MEIM.SC1AJRCA', 'MEIM.SC1AJRDA', 'MEIM.SC1AJREA', 'MEIM.SC1AJRFA', 'MEIM.SC1AJRGA', 'MEIM.SC1AJRHA', 'MEIM.SC1AJRIA', 'MEIM.SC1AJRJA', 'MEIM.SC1AJRKA', 'MEIM.SC1AJRLA', 'MEIM.SC1AJRMA', 'MEIM.SC1AJRNA', 'MEIM.SC1AJROA', 'MEIM.SC1AJRPA', 'MEIM.SC1AJRZA', 'MEIM.SC1AKRAA', 'MEIM.SC1AKRBA', 'MEIM.SC1AKRCA', 'MEIM.SC1AKRDA', 'MEIM.SC1AKREA', 'MEIM.SC1AKRFA', 'MEIM.SC1AKRGA', 'MEIM.SC1AKRHA', 'MEIM.SC1AKRIA', 'MEIM.SC1AKRJA', 'MEIM.SC1AKRKA', 'MEIM.SC1AKRLA', 'MEIM.SC1AKRMA', 'MEIM.SC1AKRNA', 'MEIM.SC1AKROA', 'MEIM.SC1AKRPA', 'MEIM.SC1AKRZA', 'MEIM.SD1X1RAA', 'MEIM.SD1X1RBA', 'MEIM.SD1X1RCA', 'MEIM.SD1X1RDA', 'MEIM.SD1X1REA', 'MEIM.SD1X1RFA', 'MEIM.SD1X1RGA', 'MEIM.SD1X1RHA', 'MEIM.SD1X1RIA', 'MEIM.SD1X1RJA', 'MEIM.SD1X1RKA', 'MEIM.SD1X1RLA', 'MEIM.SD1X1RMA', 'MEIM.SD1X1RNA', 'MEIM.SD1X1ROA', 'MEIM.SD1X1RPA', 'MEIM.SD1X1RZA', 'MEIM.SD1X2RAA', 'MEIM.SD1X2RBA', 'MEIM.SD1X2RCA', 'MEIM.SD1X2RDA', 'MEIM.SD1X2REA', 'MEIM.SD1X2RFA', 'MEIM.SD1X2RGA', 'MEIM.SD1X2RHA', 'MEIM.SD1X2RIA', 'MEIM.SD1X2RJA', 'MEIM.SD1X2RKA', 'MEIM.SD1X2RLA', 'MEIM.SD1X2RMA', 'MEIM.SD1X2RNA', 'MEIM.SD1X2ROA', 'MEIM.SD1X2RPA', 'MEIM.SD1X2RZA', 'MEIM.SE1X1AAA', 'MEIM.SE1X1ABA', 'MEIM.SE1X1ACA', 'MEIM.SE1X1ADA', 'MEIM.SE1X1AEA', 'MEIM.SE1X1AFA', 'MEIM.SE1X1AGA', 'MEIM.SE1X1AHA', 'MEIM.SE1X1AIA', 'MEIM.SE1X1AJA', 'MEIM.SE1X1AKA', 'MEIM.SE1X2AAA', 'MEIM.SE1X2ABA', 'MEIM.SE1X2ACA', 'MEIM.SE1X2ADA', 'MEIM.SE1X2AEA', 'MEIM.SE1X2AFA', 'MEIM.SE1X2AGA', 'MEIM.SE1X2AHA', 'MEIM.SE1X2AIA', 'MEIM.SE1X2AJA', 'MEIM.SE1X2AKA', 'MEIQ.S2WA', 'MEIQ.S2WA1', 'MEIQ.S2WA2', 'MEIQ.S2WS', 'MEIQ.S2WT', 'MEIQ.S2XA', 'MEIQ.S2XA1', 'MEIQ.S2XA2', 'MEIQ.S2XS', 'MEIQ.S2XT', 'MEIQ.S2YA', 'MEIQ.S2YA1', 'MEIQ.S2YA2', 'MEIQ.S2YS', 'MEIQ.S2YT', 'MEIQ.S2ZA', 'MEIQ.S2ZA1', 'MEIQ.S2ZA2', 'MEIQ.S2ZS', 'MEIQ.S2ZT']\n",
            "yes\n",
            "<class 'str'>\n"
          ]
        }
      ]
    },
    {
      "cell_type": "code",
      "source": [
        "dataset[\"Series_reference\"].value_counts()"
      ],
      "metadata": {
        "id": "A2KOafOp_xJT",
        "outputId": "a0fde428-3531-4143-dd54-9631c83a9a73",
        "colab": {
          "base_uri": "https://localhost:8080/"
        }
      },
      "execution_count": 37,
      "outputs": [
        {
          "output_type": "execute_result",
          "data": {
            "text/plain": [
              "MEIM.S1WA        276\n",
              "MEIM.S2WS        276\n",
              "MEIM.S2ZT        276\n",
              "MEIM.S2ZS        276\n",
              "MEIM.S2ZA        276\n",
              "                ... \n",
              "MEIM.SC1AERBA     35\n",
              "MEIM.SC1AERAA     35\n",
              "MEIM.SC1ADRZA     35\n",
              "MEIM.SC1ADRPA     35\n",
              "MEIM.SC1AFRPA     35\n",
              "Name: Series_reference, Length: 326, dtype: int64"
            ]
          },
          "metadata": {},
          "execution_count": 37
        }
      ]
    },
    {
      "cell_type": "code",
      "source": [
        "from sklearn.preprocessing import LabelEncoder"
      ],
      "metadata": {
        "id": "hGHMh8BG8G6D"
      },
      "execution_count": 13,
      "outputs": []
    },
    {
      "cell_type": "code",
      "source": [
        "encoder=LabelEncoder()\n",
        "dataset[\"Series_reference\"]=encoder.fit_transform(dataset[\"Series_reference\"])"
      ],
      "metadata": {
        "id": "rbtN3AlP8Zlu"
      },
      "execution_count": 24,
      "outputs": []
    },
    {
      "cell_type": "code",
      "source": [
        "dataset.head()"
      ],
      "metadata": {
        "id": "O8Fcmc93_San",
        "outputId": "d9391515-6ac9-4a22-c033-4a2e7dd207b3",
        "colab": {
          "base_uri": "https://localhost:8080/",
          "height": 616
        }
      },
      "execution_count": 25,
      "outputs": [
        {
          "output_type": "execute_result",
          "data": {
            "text/plain": [
              "   Series_reference   Period  Data_value Suppressed STATUS   UNITS  Magnitude  \\\n",
              "0                 0  1999.04     80267.0        NaN      F  Number          0   \n",
              "1                 0  1999.05     70803.0        NaN      F  Number          0   \n",
              "2                 0  1999.06     65792.0        NaN      F  Number          0   \n",
              "3                 0  1999.07     66194.0        NaN      F  Number          0   \n",
              "4                 0  1999.08     67259.0        NaN      F  Number          0   \n",
              "\n",
              "                       Subject                            Group  \\\n",
              "0  Employment indicators - MEI  High level industry by variable   \n",
              "1  Employment indicators - MEI  High level industry by variable   \n",
              "2  Employment indicators - MEI  High level industry by variable   \n",
              "3  Employment indicators - MEI  High level industry by variable   \n",
              "4  Employment indicators - MEI  High level industry by variable   \n",
              "\n",
              "  Series_title_1      Series_title_2 Series_title_3 Series_title_4  \\\n",
              "0    Filled jobs  Primary industries         Actual            NaN   \n",
              "1    Filled jobs  Primary industries         Actual            NaN   \n",
              "2    Filled jobs  Primary industries         Actual            NaN   \n",
              "3    Filled jobs  Primary industries         Actual            NaN   \n",
              "4    Filled jobs  Primary industries         Actual            NaN   \n",
              "\n",
              "   Series_title_5  \n",
              "0             NaN  \n",
              "1             NaN  \n",
              "2             NaN  \n",
              "3             NaN  \n",
              "4             NaN  "
            ],
            "text/html": [
              "\n",
              "  <div id=\"df-734d53c3-c3d5-4cb4-9fe6-279371ced565\">\n",
              "    <div class=\"colab-df-container\">\n",
              "      <div>\n",
              "<style scoped>\n",
              "    .dataframe tbody tr th:only-of-type {\n",
              "        vertical-align: middle;\n",
              "    }\n",
              "\n",
              "    .dataframe tbody tr th {\n",
              "        vertical-align: top;\n",
              "    }\n",
              "\n",
              "    .dataframe thead th {\n",
              "        text-align: right;\n",
              "    }\n",
              "</style>\n",
              "<table border=\"1\" class=\"dataframe\">\n",
              "  <thead>\n",
              "    <tr style=\"text-align: right;\">\n",
              "      <th></th>\n",
              "      <th>Series_reference</th>\n",
              "      <th>Period</th>\n",
              "      <th>Data_value</th>\n",
              "      <th>Suppressed</th>\n",
              "      <th>STATUS</th>\n",
              "      <th>UNITS</th>\n",
              "      <th>Magnitude</th>\n",
              "      <th>Subject</th>\n",
              "      <th>Group</th>\n",
              "      <th>Series_title_1</th>\n",
              "      <th>Series_title_2</th>\n",
              "      <th>Series_title_3</th>\n",
              "      <th>Series_title_4</th>\n",
              "      <th>Series_title_5</th>\n",
              "    </tr>\n",
              "  </thead>\n",
              "  <tbody>\n",
              "    <tr>\n",
              "      <th>0</th>\n",
              "      <td>0</td>\n",
              "      <td>1999.04</td>\n",
              "      <td>80267.0</td>\n",
              "      <td>NaN</td>\n",
              "      <td>F</td>\n",
              "      <td>Number</td>\n",
              "      <td>0</td>\n",
              "      <td>Employment indicators - MEI</td>\n",
              "      <td>High level industry by variable</td>\n",
              "      <td>Filled jobs</td>\n",
              "      <td>Primary industries</td>\n",
              "      <td>Actual</td>\n",
              "      <td>NaN</td>\n",
              "      <td>NaN</td>\n",
              "    </tr>\n",
              "    <tr>\n",
              "      <th>1</th>\n",
              "      <td>0</td>\n",
              "      <td>1999.05</td>\n",
              "      <td>70803.0</td>\n",
              "      <td>NaN</td>\n",
              "      <td>F</td>\n",
              "      <td>Number</td>\n",
              "      <td>0</td>\n",
              "      <td>Employment indicators - MEI</td>\n",
              "      <td>High level industry by variable</td>\n",
              "      <td>Filled jobs</td>\n",
              "      <td>Primary industries</td>\n",
              "      <td>Actual</td>\n",
              "      <td>NaN</td>\n",
              "      <td>NaN</td>\n",
              "    </tr>\n",
              "    <tr>\n",
              "      <th>2</th>\n",
              "      <td>0</td>\n",
              "      <td>1999.06</td>\n",
              "      <td>65792.0</td>\n",
              "      <td>NaN</td>\n",
              "      <td>F</td>\n",
              "      <td>Number</td>\n",
              "      <td>0</td>\n",
              "      <td>Employment indicators - MEI</td>\n",
              "      <td>High level industry by variable</td>\n",
              "      <td>Filled jobs</td>\n",
              "      <td>Primary industries</td>\n",
              "      <td>Actual</td>\n",
              "      <td>NaN</td>\n",
              "      <td>NaN</td>\n",
              "    </tr>\n",
              "    <tr>\n",
              "      <th>3</th>\n",
              "      <td>0</td>\n",
              "      <td>1999.07</td>\n",
              "      <td>66194.0</td>\n",
              "      <td>NaN</td>\n",
              "      <td>F</td>\n",
              "      <td>Number</td>\n",
              "      <td>0</td>\n",
              "      <td>Employment indicators - MEI</td>\n",
              "      <td>High level industry by variable</td>\n",
              "      <td>Filled jobs</td>\n",
              "      <td>Primary industries</td>\n",
              "      <td>Actual</td>\n",
              "      <td>NaN</td>\n",
              "      <td>NaN</td>\n",
              "    </tr>\n",
              "    <tr>\n",
              "      <th>4</th>\n",
              "      <td>0</td>\n",
              "      <td>1999.08</td>\n",
              "      <td>67259.0</td>\n",
              "      <td>NaN</td>\n",
              "      <td>F</td>\n",
              "      <td>Number</td>\n",
              "      <td>0</td>\n",
              "      <td>Employment indicators - MEI</td>\n",
              "      <td>High level industry by variable</td>\n",
              "      <td>Filled jobs</td>\n",
              "      <td>Primary industries</td>\n",
              "      <td>Actual</td>\n",
              "      <td>NaN</td>\n",
              "      <td>NaN</td>\n",
              "    </tr>\n",
              "  </tbody>\n",
              "</table>\n",
              "</div>\n",
              "      <button class=\"colab-df-convert\" onclick=\"convertToInteractive('df-734d53c3-c3d5-4cb4-9fe6-279371ced565')\"\n",
              "              title=\"Convert this dataframe to an interactive table.\"\n",
              "              style=\"display:none;\">\n",
              "        \n",
              "  <svg xmlns=\"http://www.w3.org/2000/svg\" height=\"24px\"viewBox=\"0 0 24 24\"\n",
              "       width=\"24px\">\n",
              "    <path d=\"M0 0h24v24H0V0z\" fill=\"none\"/>\n",
              "    <path d=\"M18.56 5.44l.94 2.06.94-2.06 2.06-.94-2.06-.94-.94-2.06-.94 2.06-2.06.94zm-11 1L8.5 8.5l.94-2.06 2.06-.94-2.06-.94L8.5 2.5l-.94 2.06-2.06.94zm10 10l.94 2.06.94-2.06 2.06-.94-2.06-.94-.94-2.06-.94 2.06-2.06.94z\"/><path d=\"M17.41 7.96l-1.37-1.37c-.4-.4-.92-.59-1.43-.59-.52 0-1.04.2-1.43.59L10.3 9.45l-7.72 7.72c-.78.78-.78 2.05 0 2.83L4 21.41c.39.39.9.59 1.41.59.51 0 1.02-.2 1.41-.59l7.78-7.78 2.81-2.81c.8-.78.8-2.07 0-2.86zM5.41 20L4 18.59l7.72-7.72 1.47 1.35L5.41 20z\"/>\n",
              "  </svg>\n",
              "      </button>\n",
              "      \n",
              "  <style>\n",
              "    .colab-df-container {\n",
              "      display:flex;\n",
              "      flex-wrap:wrap;\n",
              "      gap: 12px;\n",
              "    }\n",
              "\n",
              "    .colab-df-convert {\n",
              "      background-color: #E8F0FE;\n",
              "      border: none;\n",
              "      border-radius: 50%;\n",
              "      cursor: pointer;\n",
              "      display: none;\n",
              "      fill: #1967D2;\n",
              "      height: 32px;\n",
              "      padding: 0 0 0 0;\n",
              "      width: 32px;\n",
              "    }\n",
              "\n",
              "    .colab-df-convert:hover {\n",
              "      background-color: #E2EBFA;\n",
              "      box-shadow: 0px 1px 2px rgba(60, 64, 67, 0.3), 0px 1px 3px 1px rgba(60, 64, 67, 0.15);\n",
              "      fill: #174EA6;\n",
              "    }\n",
              "\n",
              "    [theme=dark] .colab-df-convert {\n",
              "      background-color: #3B4455;\n",
              "      fill: #D2E3FC;\n",
              "    }\n",
              "\n",
              "    [theme=dark] .colab-df-convert:hover {\n",
              "      background-color: #434B5C;\n",
              "      box-shadow: 0px 1px 3px 1px rgba(0, 0, 0, 0.15);\n",
              "      filter: drop-shadow(0px 1px 2px rgba(0, 0, 0, 0.3));\n",
              "      fill: #FFFFFF;\n",
              "    }\n",
              "  </style>\n",
              "\n",
              "      <script>\n",
              "        const buttonEl =\n",
              "          document.querySelector('#df-734d53c3-c3d5-4cb4-9fe6-279371ced565 button.colab-df-convert');\n",
              "        buttonEl.style.display =\n",
              "          google.colab.kernel.accessAllowed ? 'block' : 'none';\n",
              "\n",
              "        async function convertToInteractive(key) {\n",
              "          const element = document.querySelector('#df-734d53c3-c3d5-4cb4-9fe6-279371ced565');\n",
              "          const dataTable =\n",
              "            await google.colab.kernel.invokeFunction('convertToInteractive',\n",
              "                                                     [key], {});\n",
              "          if (!dataTable) return;\n",
              "\n",
              "          const docLinkHtml = 'Like what you see? Visit the ' +\n",
              "            '<a target=\"_blank\" href=https://colab.research.google.com/notebooks/data_table.ipynb>data table notebook</a>'\n",
              "            + ' to learn more about interactive tables.';\n",
              "          element.innerHTML = '';\n",
              "          dataTable['output_type'] = 'display_data';\n",
              "          await google.colab.output.renderOutput(dataTable, element);\n",
              "          const docLink = document.createElement('div');\n",
              "          docLink.innerHTML = docLinkHtml;\n",
              "          element.appendChild(docLink);\n",
              "        }\n",
              "      </script>\n",
              "    </div>\n",
              "  </div>\n",
              "  "
            ]
          },
          "metadata": {},
          "execution_count": 25
        }
      ]
    },
    {
      "cell_type": "markdown",
      "source": [
        "make all the string contained colunm encoded"
      ],
      "metadata": {
        "id": "mjRsGfcBC1RK"
      }
    },
    {
      "cell_type": "code",
      "source": [
        "def encode_engine(dataset):\n",
        "  from sklearn.preprocessing import LabelEncoder\n",
        "  encoder=LabelEncoder()\n",
        "  col= list(dataset.iloc[:0,:])\n",
        "\n",
        "  for i in col:\n",
        "    if type(list(dataset[i].unique())[0])==str:\n",
        "            dataset[i]=encoder.fit_transform(dataset[i])\n",
        "  \n",
        "  return dataset\n",
        "            \n",
        "            "
      ],
      "metadata": {
        "id": "eQT8juVfCxZl"
      },
      "execution_count": 47,
      "outputs": []
    },
    {
      "cell_type": "code",
      "source": [
        "new_dataset=encode_engine(dataset)"
      ],
      "metadata": {
        "id": "RPwwSVMqGOC0"
      },
      "execution_count": 48,
      "outputs": []
    },
    {
      "cell_type": "code",
      "source": [
        "new_dataset.head()"
      ],
      "metadata": {
        "id": "krwJg866GX9j",
        "outputId": "77eb8578-93c1-4c2c-ee0f-317ce4ed20ed",
        "colab": {
          "base_uri": "https://localhost:8080/",
          "height": 270
        }
      },
      "execution_count": 49,
      "outputs": [
        {
          "output_type": "execute_result",
          "data": {
            "text/plain": [
              "   Series_reference   Period  Data_value Suppressed  STATUS  UNITS  Magnitude  \\\n",
              "0                 0  1999.04     80267.0        NaN       1      0          0   \n",
              "1                 0  1999.05     70803.0        NaN       1      0          0   \n",
              "2                 0  1999.06     65792.0        NaN       1      0          0   \n",
              "3                 0  1999.07     66194.0        NaN       1      0          0   \n",
              "4                 0  1999.08     67259.0        NaN       1      0          0   \n",
              "\n",
              "   Subject  Group  Series_title_1  Series_title_2  Series_title_3  \\\n",
              "0        0      1               2              38              11   \n",
              "1        0      1               2              38              11   \n",
              "2        0      1               2              38              11   \n",
              "3        0      1               2              38              11   \n",
              "4        0      1               2              38              11   \n",
              "\n",
              "  Series_title_4  Series_title_5  \n",
              "0            NaN             NaN  \n",
              "1            NaN             NaN  \n",
              "2            NaN             NaN  \n",
              "3            NaN             NaN  \n",
              "4            NaN             NaN  "
            ],
            "text/html": [
              "\n",
              "  <div id=\"df-6f523e30-636c-4cd5-8c6e-c90095b8afbe\">\n",
              "    <div class=\"colab-df-container\">\n",
              "      <div>\n",
              "<style scoped>\n",
              "    .dataframe tbody tr th:only-of-type {\n",
              "        vertical-align: middle;\n",
              "    }\n",
              "\n",
              "    .dataframe tbody tr th {\n",
              "        vertical-align: top;\n",
              "    }\n",
              "\n",
              "    .dataframe thead th {\n",
              "        text-align: right;\n",
              "    }\n",
              "</style>\n",
              "<table border=\"1\" class=\"dataframe\">\n",
              "  <thead>\n",
              "    <tr style=\"text-align: right;\">\n",
              "      <th></th>\n",
              "      <th>Series_reference</th>\n",
              "      <th>Period</th>\n",
              "      <th>Data_value</th>\n",
              "      <th>Suppressed</th>\n",
              "      <th>STATUS</th>\n",
              "      <th>UNITS</th>\n",
              "      <th>Magnitude</th>\n",
              "      <th>Subject</th>\n",
              "      <th>Group</th>\n",
              "      <th>Series_title_1</th>\n",
              "      <th>Series_title_2</th>\n",
              "      <th>Series_title_3</th>\n",
              "      <th>Series_title_4</th>\n",
              "      <th>Series_title_5</th>\n",
              "    </tr>\n",
              "  </thead>\n",
              "  <tbody>\n",
              "    <tr>\n",
              "      <th>0</th>\n",
              "      <td>0</td>\n",
              "      <td>1999.04</td>\n",
              "      <td>80267.0</td>\n",
              "      <td>NaN</td>\n",
              "      <td>1</td>\n",
              "      <td>0</td>\n",
              "      <td>0</td>\n",
              "      <td>0</td>\n",
              "      <td>1</td>\n",
              "      <td>2</td>\n",
              "      <td>38</td>\n",
              "      <td>11</td>\n",
              "      <td>NaN</td>\n",
              "      <td>NaN</td>\n",
              "    </tr>\n",
              "    <tr>\n",
              "      <th>1</th>\n",
              "      <td>0</td>\n",
              "      <td>1999.05</td>\n",
              "      <td>70803.0</td>\n",
              "      <td>NaN</td>\n",
              "      <td>1</td>\n",
              "      <td>0</td>\n",
              "      <td>0</td>\n",
              "      <td>0</td>\n",
              "      <td>1</td>\n",
              "      <td>2</td>\n",
              "      <td>38</td>\n",
              "      <td>11</td>\n",
              "      <td>NaN</td>\n",
              "      <td>NaN</td>\n",
              "    </tr>\n",
              "    <tr>\n",
              "      <th>2</th>\n",
              "      <td>0</td>\n",
              "      <td>1999.06</td>\n",
              "      <td>65792.0</td>\n",
              "      <td>NaN</td>\n",
              "      <td>1</td>\n",
              "      <td>0</td>\n",
              "      <td>0</td>\n",
              "      <td>0</td>\n",
              "      <td>1</td>\n",
              "      <td>2</td>\n",
              "      <td>38</td>\n",
              "      <td>11</td>\n",
              "      <td>NaN</td>\n",
              "      <td>NaN</td>\n",
              "    </tr>\n",
              "    <tr>\n",
              "      <th>3</th>\n",
              "      <td>0</td>\n",
              "      <td>1999.07</td>\n",
              "      <td>66194.0</td>\n",
              "      <td>NaN</td>\n",
              "      <td>1</td>\n",
              "      <td>0</td>\n",
              "      <td>0</td>\n",
              "      <td>0</td>\n",
              "      <td>1</td>\n",
              "      <td>2</td>\n",
              "      <td>38</td>\n",
              "      <td>11</td>\n",
              "      <td>NaN</td>\n",
              "      <td>NaN</td>\n",
              "    </tr>\n",
              "    <tr>\n",
              "      <th>4</th>\n",
              "      <td>0</td>\n",
              "      <td>1999.08</td>\n",
              "      <td>67259.0</td>\n",
              "      <td>NaN</td>\n",
              "      <td>1</td>\n",
              "      <td>0</td>\n",
              "      <td>0</td>\n",
              "      <td>0</td>\n",
              "      <td>1</td>\n",
              "      <td>2</td>\n",
              "      <td>38</td>\n",
              "      <td>11</td>\n",
              "      <td>NaN</td>\n",
              "      <td>NaN</td>\n",
              "    </tr>\n",
              "  </tbody>\n",
              "</table>\n",
              "</div>\n",
              "      <button class=\"colab-df-convert\" onclick=\"convertToInteractive('df-6f523e30-636c-4cd5-8c6e-c90095b8afbe')\"\n",
              "              title=\"Convert this dataframe to an interactive table.\"\n",
              "              style=\"display:none;\">\n",
              "        \n",
              "  <svg xmlns=\"http://www.w3.org/2000/svg\" height=\"24px\"viewBox=\"0 0 24 24\"\n",
              "       width=\"24px\">\n",
              "    <path d=\"M0 0h24v24H0V0z\" fill=\"none\"/>\n",
              "    <path d=\"M18.56 5.44l.94 2.06.94-2.06 2.06-.94-2.06-.94-.94-2.06-.94 2.06-2.06.94zm-11 1L8.5 8.5l.94-2.06 2.06-.94-2.06-.94L8.5 2.5l-.94 2.06-2.06.94zm10 10l.94 2.06.94-2.06 2.06-.94-2.06-.94-.94-2.06-.94 2.06-2.06.94z\"/><path d=\"M17.41 7.96l-1.37-1.37c-.4-.4-.92-.59-1.43-.59-.52 0-1.04.2-1.43.59L10.3 9.45l-7.72 7.72c-.78.78-.78 2.05 0 2.83L4 21.41c.39.39.9.59 1.41.59.51 0 1.02-.2 1.41-.59l7.78-7.78 2.81-2.81c.8-.78.8-2.07 0-2.86zM5.41 20L4 18.59l7.72-7.72 1.47 1.35L5.41 20z\"/>\n",
              "  </svg>\n",
              "      </button>\n",
              "      \n",
              "  <style>\n",
              "    .colab-df-container {\n",
              "      display:flex;\n",
              "      flex-wrap:wrap;\n",
              "      gap: 12px;\n",
              "    }\n",
              "\n",
              "    .colab-df-convert {\n",
              "      background-color: #E8F0FE;\n",
              "      border: none;\n",
              "      border-radius: 50%;\n",
              "      cursor: pointer;\n",
              "      display: none;\n",
              "      fill: #1967D2;\n",
              "      height: 32px;\n",
              "      padding: 0 0 0 0;\n",
              "      width: 32px;\n",
              "    }\n",
              "\n",
              "    .colab-df-convert:hover {\n",
              "      background-color: #E2EBFA;\n",
              "      box-shadow: 0px 1px 2px rgba(60, 64, 67, 0.3), 0px 1px 3px 1px rgba(60, 64, 67, 0.15);\n",
              "      fill: #174EA6;\n",
              "    }\n",
              "\n",
              "    [theme=dark] .colab-df-convert {\n",
              "      background-color: #3B4455;\n",
              "      fill: #D2E3FC;\n",
              "    }\n",
              "\n",
              "    [theme=dark] .colab-df-convert:hover {\n",
              "      background-color: #434B5C;\n",
              "      box-shadow: 0px 1px 3px 1px rgba(0, 0, 0, 0.15);\n",
              "      filter: drop-shadow(0px 1px 2px rgba(0, 0, 0, 0.3));\n",
              "      fill: #FFFFFF;\n",
              "    }\n",
              "  </style>\n",
              "\n",
              "      <script>\n",
              "        const buttonEl =\n",
              "          document.querySelector('#df-6f523e30-636c-4cd5-8c6e-c90095b8afbe button.colab-df-convert');\n",
              "        buttonEl.style.display =\n",
              "          google.colab.kernel.accessAllowed ? 'block' : 'none';\n",
              "\n",
              "        async function convertToInteractive(key) {\n",
              "          const element = document.querySelector('#df-6f523e30-636c-4cd5-8c6e-c90095b8afbe');\n",
              "          const dataTable =\n",
              "            await google.colab.kernel.invokeFunction('convertToInteractive',\n",
              "                                                     [key], {});\n",
              "          if (!dataTable) return;\n",
              "\n",
              "          const docLinkHtml = 'Like what you see? Visit the ' +\n",
              "            '<a target=\"_blank\" href=https://colab.research.google.com/notebooks/data_table.ipynb>data table notebook</a>'\n",
              "            + ' to learn more about interactive tables.';\n",
              "          element.innerHTML = '';\n",
              "          dataTable['output_type'] = 'display_data';\n",
              "          await google.colab.output.renderOutput(dataTable, element);\n",
              "          const docLink = document.createElement('div');\n",
              "          docLink.innerHTML = docLinkHtml;\n",
              "          element.appendChild(docLink);\n",
              "        }\n",
              "      </script>\n",
              "    </div>\n",
              "  </div>\n",
              "  "
            ]
          },
          "metadata": {},
          "execution_count": 49
        }
      ]
    },
    {
      "cell_type": "markdown",
      "source": [
        "#Deal with Null value"
      ],
      "metadata": {
        "id": "tM3CInOdNCHk"
      }
    },
    {
      "cell_type": "code",
      "source": [
        "dataset.info()"
      ],
      "metadata": {
        "colab": {
          "base_uri": "https://localhost:8080/"
        },
        "id": "MXvn2aA7NJl9",
        "outputId": "d5aef6b1-184c-4580-f587-de5f8b41c70e"
      },
      "execution_count": 11,
      "outputs": [
        {
          "output_type": "stream",
          "name": "stdout",
          "text": [
            "<class 'pandas.core.frame.DataFrame'>\n",
            "RangeIndex: 18326 entries, 0 to 18325\n",
            "Data columns (total 14 columns):\n",
            " #   Column            Non-Null Count  Dtype  \n",
            "---  ------            --------------  -----  \n",
            " 0   Series_reference  18326 non-null  object \n",
            " 1   Period            18326 non-null  float64\n",
            " 2   Data_value        18070 non-null  float64\n",
            " 3   Suppressed        256 non-null    object \n",
            " 4   STATUS            18326 non-null  object \n",
            " 5   UNITS             18326 non-null  object \n",
            " 6   Magnitude         18326 non-null  int64  \n",
            " 7   Subject           18326 non-null  object \n",
            " 8   Group             18326 non-null  object \n",
            " 9   Series_title_1    18326 non-null  object \n",
            " 10  Series_title_2    18326 non-null  object \n",
            " 11  Series_title_3    18326 non-null  object \n",
            " 12  Series_title_4    8505 non-null   object \n",
            " 13  Series_title_5    0 non-null      float64\n",
            "dtypes: float64(3), int64(1), object(10)\n",
            "memory usage: 2.0+ MB\n"
          ]
        }
      ]
    },
    {
      "cell_type": "code",
      "source": [
        "print(dataset.isnull().sum())"
      ],
      "metadata": {
        "colab": {
          "base_uri": "https://localhost:8080/"
        },
        "id": "Ho-kvTUsLkR8",
        "outputId": "b49ef083-8892-44c0-c1a3-02d7a1883cc1"
      },
      "execution_count": 12,
      "outputs": [
        {
          "output_type": "stream",
          "name": "stdout",
          "text": [
            "Series_reference        0\n",
            "Period                  0\n",
            "Data_value            256\n",
            "Suppressed          18070\n",
            "STATUS                  0\n",
            "UNITS                   0\n",
            "Magnitude               0\n",
            "Subject                 0\n",
            "Group                   0\n",
            "Series_title_1          0\n",
            "Series_title_2          0\n",
            "Series_title_3          0\n",
            "Series_title_4       9821\n",
            "Series_title_5      18326\n",
            "dtype: int64\n"
          ]
        }
      ]
    },
    {
      "cell_type": "code",
      "source": [
        ""
      ],
      "metadata": {
        "id": "0mt-NSrJNHpc"
      },
      "execution_count": 12,
      "outputs": []
    },
    {
      "cell_type": "markdown",
      "source": [
        "<b><ul>\n",
        "<li>Deleting the columns with missing data\n",
        "<li>Deleting the rows with missing data\n",
        "<li>Filling the missing data with a value – Imputation\n",
        "<li>Imputation with an additional column\n",
        "<li>Filling with a Regression Model\n",
        "</ul></b>"
      ],
      "metadata": {
        "id": "pxBEd4f-N4Hh"
      }
    },
    {
      "cell_type": "markdown",
      "source": [
        "Deleting the columns with missing data"
      ],
      "metadata": {
        "id": "5bvSwXXzOT9c"
      }
    },
    {
      "cell_type": "code",
      "source": [
        ""
      ],
      "metadata": {
        "id": "ULELfqIlNk-9"
      },
      "execution_count": 12,
      "outputs": []
    },
    {
      "cell_type": "code",
      "source": [
        ""
      ],
      "metadata": {
        "id": "PnJ493WwNk8T"
      },
      "execution_count": 12,
      "outputs": []
    },
    {
      "cell_type": "code",
      "source": [
        ""
      ],
      "metadata": {
        "id": "ENG_5Z4oNk2X"
      },
      "execution_count": 12,
      "outputs": []
    },
    {
      "cell_type": "code",
      "source": [
        ""
      ],
      "metadata": {
        "id": "fbSsq6VwNkt6"
      },
      "execution_count": 12,
      "outputs": []
    },
    {
      "cell_type": "code",
      "source": [
        ""
      ],
      "metadata": {
        "id": "0Go3NsRyNkp8"
      },
      "execution_count": 12,
      "outputs": []
    }
  ]
}