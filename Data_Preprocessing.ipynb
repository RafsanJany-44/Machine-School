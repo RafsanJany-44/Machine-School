{
  "nbformat": 4,
  "nbformat_minor": 0,
  "metadata": {
    "colab": {
      "name": "Data Preprocessing.ipynb",
      "provenance": [],
      "authorship_tag": "ABX9TyO2HWX9gfEKHtNgWjiIbOsm",
      "include_colab_link": true
    },
    "kernelspec": {
      "name": "python3",
      "display_name": "Python 3"
    },
    "language_info": {
      "name": "python"
    }
  },
  "cells": [
    {
      "cell_type": "markdown",
      "metadata": {
        "id": "view-in-github",
        "colab_type": "text"
      },
      "source": [
        "<a href=\"https://colab.research.google.com/github/RafsanJany-44/Machine-School/blob/main/Data_Preprocessing.ipynb\" target=\"_parent\"><img src=\"https://colab.research.google.com/assets/colab-badge.svg\" alt=\"Open In Colab\"/></a>"
      ]
    },
    {
      "cell_type": "markdown",
      "source": [
        "Get Frequency of a colunms, all labels, unik features\n",
        "\n",
        "---\n",
        "\n"
      ],
      "metadata": {
        "id": "8qPcKYhPvZjO"
      }
    },
    {
      "cell_type": "code",
      "source": [
        "unik_feat=list(dataset[\"Sleep_Stage\"].unique())\n",
        "all_feat_list=dataset[\"Sleep_Stage\"].values\n",
        "frequency = dataset[\"Sleep_Stage\"].value_counts()\n",
        "\n",
        "print(frequency)\n",
        "print(unik_feat)\n",
        "print(all_feat_list)"
      ],
      "metadata": {
        "colab": {
          "base_uri": "https://localhost:8080/"
        },
        "id": "tFpd3AVgvZJ1",
        "outputId": "77db145c-3a11-4549-8bb9-99e39377276f"
      },
      "execution_count": null,
      "outputs": [
        {
          "output_type": "stream",
          "name": "stdout",
          "text": [
            "NREM    72631\n",
            "REM     16465\n",
            "Name: Sleep_Stage, dtype: int64\n",
            "['NREM', 'REM']\n",
            "['NREM' 'NREM' 'NREM' ... 'NREM' 'NREM' 'NREM']\n"
          ]
        }
      ]
    },
    {
      "cell_type": "markdown",
      "source": [
        "\n",
        "\n",
        "---\n",
        "\n"
      ],
      "metadata": {
        "id": "9Cwotxqd90sC"
      }
    },
    {
      "cell_type": "markdown",
      "source": [
        "#ALL FUNCTIONS\n",
        "\n",
        "---\n",
        "\n"
      ],
      "metadata": {
        "id": "O0NRSOxXHDn1"
      }
    },
    {
      "cell_type": "markdown",
      "source": [
        "##Important Functions"
      ],
      "metadata": {
        "id": "gK05k19XTI-P"
      }
    },
    {
      "cell_type": "code",
      "source": [
        "!pip install imbalanced-learn\n",
        "from sklearn.preprocessing import StandardScaler\n",
        "from sklearn.preprocessing import MinMaxScaler\n",
        "from imblearn.over_sampling import SMOTE\n",
        "from imblearn.under_sampling import RandomUnderSampler\n",
        "from joblib import Parallel, delayed\n",
        "from tqdm.notebook import tqdm\n",
        "from google.colab import files\n",
        "import joblib\n",
        "from sklearn.preprocessing import LabelEncoder\n",
        "\n",
        "def encode(data):\n",
        "  cls = list(data)\n",
        "  encoder=LabelEncoder()\n",
        "  for i in cls:\n",
        "    if str(data[i].dtypes) == 'object':\n",
        "      data[i]=encoder.fit_transform(data[i])\n",
        "\n",
        "  return data\n",
        "\n",
        "\n",
        "\n",
        "\n",
        "\n",
        "#over-sampling. returns a dataset\n",
        "def os_dataset_balance(X_temp, y_temp):\n",
        "  smote = SMOTE()\n",
        "  X_temp, y_temp= smote.fit_resample(X_temp, y_temp)\n",
        "  return pd.concat([pd.DataFrame(X_temp), pd.DataFrame(y_temp)], axis=1)\n",
        "\n",
        "#over-sampling. returns x and y\n",
        "def os_Xy_balance(X_temp, y_temp):\n",
        "  smote = SMOTE()\n",
        "  return smote.fit_resample(X_temp, y_temp)\n",
        "\n",
        "\n",
        "#Under-sampling. return a dataset\n",
        "def us_dataset_balance(X_temp, y_temp):\n",
        "  rus = RandomUnderSampler()\n",
        "  X_temp, y_temp= rus.fit_resample(X_temp, y_temp)\n",
        "  return pd.concat([pd.DataFrame(X_temp), pd.DataFrame(y_temp)], axis=1)\n",
        "\n",
        "#Under-sampling. returns x and y\n",
        "def us_Xy_balance(X_temp, y_temp):\n",
        "  rus = RandomUnderSampler()\n",
        "  return rus.fit_resample(X_train, y_train)\n",
        "\n",
        "\n",
        "\n",
        "\n",
        "\n",
        "def save_model(model,model_name):\n",
        " joblib.dump(model, model_name)\n",
        "\n",
        "def load_model(model_name):\n",
        "  return joblib.load(model_name)\n",
        "\n",
        "\n",
        "\n",
        "def Search_Null(dataset):\n",
        "  dic={}\n",
        "  for col in tqdm(list(dataset.columns)):\n",
        "    rows = []\n",
        "    flage = 0\n",
        "    for row in range(dataset.shape[0]):\n",
        "      if str(dataset[col][row]) == 'nan':\n",
        "        rows.append(row)\n",
        "        flage = 1\n",
        "    if flage ==1:\n",
        "      dic[col] = rows\n",
        "\n",
        "  return dic\n",
        "\n",
        "\n",
        "\n",
        "def Search_Some(dataset,some):\n",
        "  dic={}\n",
        "  for col in tqdm(list(dataset.columns)):\n",
        "    rows = []\n",
        "    flage = 0\n",
        "    for row in range(dataset.shape[0]):\n",
        "      if str(dataset[col][row]) == some:\n",
        "        rows.append(row)\n",
        "        flage = 1\n",
        "    if flage ==1:\n",
        "      dic[col] = rows\n",
        "\n",
        "  return dic\n",
        "\n",
        "\n",
        "\"\"\"def divide_dataset(dataset,percentage,random_state = 0):\n",
        "\n",
        "  rows,cols = dataset.shape\n",
        "\n",
        "  if random_state == 0:\n",
        "    return dataset.iloc[:int(rows*(percentage)),:]\n",
        "  else:\n",
        "    import random\n",
        "    l_r = random.sample(range(0, rows), int(rows*(percentage)))\n",
        "    return dataset.iloc[l_r,:]\"\"\"\n",
        "\n",
        "\n",
        "\n",
        "\n",
        "def divide_dataset(dataset,numOrper,random_state = 0):\n",
        "\n",
        "  rows,cols = dataset.shape\n",
        "\n",
        "  if random_state == 0:\n",
        "    if type(numOrper) == int:\n",
        "      return dataset.iloc[:numOrper,:]\n",
        "    else:\n",
        "      return dataset.iloc[:int(rows*(numOrper)),:]\n",
        "  else:\n",
        "    import random\n",
        "    if type(numOrper) == int:\n",
        "      l_r = random.sample(range(0, rows), numOrper)\n",
        "    else:\n",
        "      l_r = random.sample(range(0, rows), int(rows*(numOrper)))\n",
        "    return dataset.iloc[l_r,:]\n",
        "\n",
        "\n",
        "\n",
        "\n",
        "def StandardScaleData(data):\n",
        "  scaler = StandardScaler()\n",
        "  scaler.fit(data)\n",
        "  return  scaler.transform(data)\n",
        "\n",
        "\n",
        "def MinMaxScaleData(data):\n",
        "  scaler = MinMaxScaler()\n",
        "  scaler.fit(data)\n",
        "  return scaler.transform(data)"
      ],
      "metadata": {
        "id": "C7N6CNCgSlxO"
      },
      "execution_count": null,
      "outputs": []
    },
    {
      "cell_type": "markdown",
      "source": [
        "##Separating to X and Y axis\n",
        "\n",
        "\n"
      ],
      "metadata": {
        "id": "QvZCR-YTHphk"
      }
    },
    {
      "cell_type": "code",
      "source": [
        "def sep_XY(dataset,target):\n",
        "  import numpy as np\n",
        "  import pandas as pd\n",
        "  x_col_name= list(dataset.iloc[:0,:])\n",
        "  x_col_name.remove(target)\n",
        "  return (dataset[x_col_name].values),(dataset[target].values)"
      ],
      "metadata": {
        "id": "_Rojfkb3Ht8q"
      },
      "execution_count": null,
      "outputs": []
    },
    {
      "cell_type": "markdown",
      "source": [
        "##All Data encoder"
      ],
      "metadata": {
        "id": "jPZV2r62HOsF"
      }
    },
    {
      "cell_type": "code",
      "source": [
        "def encode_engine(dataset):\n",
        "  from sklearn.preprocessing import LabelEncoder\n",
        "  encoder=LabelEncoder()\n",
        "  col= list(dataset.iloc[:0,:])\n",
        "\n",
        "  for i in col:\n",
        "    if type(list(dataset[i].unique())[0])==str:\n",
        "            dataset[i]=encoder.fit_transform(dataset[i])\n",
        "\n",
        "  return dataset\n",
        "\n",
        "\n",
        "\n",
        "def encode(data_X):\n",
        "  cls = list(data_X)\n",
        "  encoder=LabelEncoder()\n",
        "  for i in cls:\n",
        "    if str(data_X[i].dtypes) == 'object':\n",
        "      data_X[i]=encoder.fit_transform(data_X[i])\n",
        "\n",
        "  return data_X\n"
      ],
      "metadata": {
        "id": "awdBpozrHTsl"
      },
      "execution_count": null,
      "outputs": []
    },
    {
      "cell_type": "code",
      "source": [
        "from sklearn.preprocessing import LabelEncoder\n",
        "encoder=LabelEncoder()\n",
        "dataset[\"Series_reference\"]=encoder.fit_transform(dataset[\"Series_reference\"])"
      ],
      "metadata": {
        "id": "_KH9JpP6v1V5"
      },
      "execution_count": null,
      "outputs": []
    },
    {
      "cell_type": "markdown",
      "source": [
        "##Data Balancing"
      ],
      "metadata": {
        "id": "MFkRSXCo7_tO"
      }
    },
    {
      "cell_type": "code",
      "source": [
        "!pip install imbalanced-learn\n",
        "\n",
        "from imblearn.over_sampling import SMOTE\n",
        "\n",
        "def balance(X_temp, y_temp):\n",
        "  smote = SMOTE()\n",
        "  X_temp, y_temp= smote.fit_resample(X_temp, y_temp)\n",
        "\n",
        "  return pd.concat([pd.DataFrame(X), pd.DataFrame(y)], axis=1)\n",
        "\n"
      ],
      "metadata": {
        "id": "pStACAD19wBN"
      },
      "execution_count": null,
      "outputs": []
    },
    {
      "cell_type": "markdown",
      "source": [
        "###Scaling"
      ],
      "metadata": {
        "id": "VzmVb28N42et"
      }
    },
    {
      "cell_type": "markdown",
      "source": [
        "##### StandardScaler"
      ],
      "metadata": {
        "id": "m7rJo-Os45c8"
      }
    },
    {
      "cell_type": "markdown",
      "source": [
        "![download.png](data:image/png;base64,iVBORw0KGgoAAAANSUhEUgAAAVUAAACUCAMAAAAUEUq5AAAAclBMVEX///8AAACAgIBiYmLr6+vd3d319fX8/PyqqqpnZ2f5+fkXFxeIiIiQkJAnJyfy8vLT09Pl5eUdHR0NDQ2Li4tLS0vExMS+vr4RERFKSkpERESxsbFZWVnNzc1sbGwuLi43NzeZmZmioqJUVFR3d3c8PDzFvsB1AAAFCUlEQVR4nO3caXeqOhQGYDajoMwICsrs//+LN2Foe7Sce5ZJq+j7fKhpl2ZlpXGzM4CiAAAAAAAAAAAAAAAAAAAAAAAAAAAAAAAASGTpYRg6U0G3xCrzv9RgmYItW7GwsKsob0PFSUvPszOhrvB3VWlMZb1ojL+++YUZJV1KO6aTsYmr8hR7hchozYiqYiqrRCcZLVwhQ9uqZ9N3ibromIZNRWV4f21Oz+oJxrJfE5VyGrk2uhq7Pnv1icjLlGJLtBf42g496Y/l1CPaSGnk6hRRr/NX3qsny9+xl15grBrs88lUTg5EAlWtmN7H2VBIieJEMRs+YgXiasE+P49PjSgSb+EaGfZ0xU5Yd6QsH9i0qX/1HstZcFudZRMdp7Cq50Taz7b+WTlGOHZOR1TzlOq2rwJVs7+lNTfVmRGRPdVQVETtjzb+6TnR4sBKL7Rgd/PekMWR+a/vG1Y/pDHR7dAbOPqS61ChKO2XsMqCweGbIPFO2LX/EIhXcyLKp7zM2L/vHGDGusATXABgrCE9G8s8rC6M/tenFxuWr+rVPLD8pE7vrizk2e5UTlhMYcNWu7zhUkDA0h82Ddhs5+Q9yPf3RwKW7R6mOYBVEm19Nrm43EbfV+ewfqB9qLAuoGE24LTU3H+J6T57tWBT15PDJhe2lIauit7zGaZv8OTpzH53Mk9gqFrsSx+PEeC8HzOvU1z8z4de0LBUFeg2HVkf+KZeeFV2f20BT2LzM6sn7TyPL7ME1IlfA9cnrals9lQGLCfqG41ykcVV9i+imOqkKaN809Z0cL3o/kvfipmFVlddoiuGuq+8vSrUCew/EzVl7nndjoWTwr543ZuuBCphmgXDntU5Gwt3c9iXfq/oaZYZzlyzlCa+tTOb+KuPbsTLcef0DCTShrwfpHJY0nt8dCNeztn7bsUVxDTbcX4GMrHJb/yOE6mfZXTH9aanqdqPjQ9KpDGS8H0LIpeVwvJdD4ZIZxzH3c3e113aXR3es5Y9prUrYfZ0qOoqYun2hew/ty4sY7PszXeQ/y6rqiQ10qbvYsqvlpeGI1L/vnMPHwptWv5Mo/p6jd0K3G81jPuGO3L/zpmm2ee8Et64WD488RNWcNwircU7VQl69fckz5/JZkKbS7PNX8KwfM++J2gV24uMzaD0pP2e8skXCJw2Pkppomn8ovC5bxFyGtIWYlS4nK62+u+2cmVMl+a7mQz3zyHru/F2ycdRffgG79RwLh7+PMhsnXfLkK8uc9xYneeexeH6mmWZy369qSvSbinK7SZQnHO5JRVrJjJkHj9ww8T8p8i9ZvAh2FPjK4U3ptX5889W1sBPxpOlQc36dGtjbU8K3d2NPanvbLFDZgAAAAAAAPBQelow8w7Do1vzGtIyr7xPW/fRDXoBZhldbUfjNiBh4c3jV464YUWUzhcge8Nx+B2vlDmmuYJDPs/O7Ijicf3ROPH7sx/cntewiz/u+7Naog6L5hIEly+Pp2w/HwQEIlQaHk0z4E8VQa9KELJQepyvTmFPdEIEEJfV430zg2DPMlUc3BLXRl9upswOREIPaYYRv0V1/s7zB+DgMIIMbKxG83eepwMNDm5JwOLq3Kt8qNrIAGTgOcAYAazCIzlnvYGHgJ5nVk5b0THFpUoOk+WoWls0WkRagE6VxW9iIpYJXDbIVCWy9MxNNoaPgQoAAAAAAAAAAAAAAAAAAAAAAAAAAACwEv8BzQVKYRXQDB0AAAAASUVORK5CYII=)"
      ],
      "metadata": {
        "id": "Cl9CvzKp4zIf"
      }
    },
    {
      "cell_type": "code",
      "source": [
        "def StandardScaleData(data)\n",
        "  from sklearn.preprocessing import StandardScaler\n",
        "  scaler = StandardScaler()\n",
        "  scaler.fit(data)\n",
        "  return  scaler.transform(data)\n"
      ],
      "metadata": {
        "id": "70Te7wJgpZCo"
      },
      "execution_count": null,
      "outputs": []
    },
    {
      "cell_type": "markdown",
      "source": [
        "#### MinMaxScaler"
      ],
      "metadata": {
        "id": "DOmd1A7V49MD"
      }
    },
    {
      "cell_type": "markdown",
      "source": [
        "![Selection_060.png](data:image/png;base64,iVBORw0KGgoAAAANSUhEUgAAA8kAAAEsCAIAAAB/uGbWAAAAA3NCSVQICAjb4U/gAAAAEHRFWHRTb2Z0d2FyZQBTaHV0dGVyY4LQCQAAIABJREFUeNrs3Xl8E3X+P/BJ0xb4aRPc5VSSeoFgky6I60KTtqIoPUC8bQqIiNhyetGWa111OcvXfbjQg+JXXOkprgf0QlCuJi0oZw8QUKQtRykKbYG2OWby+2N+O7/ZmUk6aaZtkr6ef/SRfJJM5/zMez7zns9HZrfbCQAAAAAAcJsfVgEAAAAAAGJrAAAAAADE1gAAAAAAiK0BAAAAAACxNQAAAAAAYmsAAAAAAMTWAAAAAACIrQEAAAAAALE1AAAAAABiawAAAAAAxNYAAAAAAIitAQAAAAAAsTUAAAAAAGJrAAAAAADE1gAAAAAAgNgaAAAAAACxNQAAAAAAYmsAAAAAAMTWAAAAAACA2BoAAAAAALE1AAAAAABiawAAAAAAxNYAAAAAAIDYGgAAAAAAsTUAAAAAAGJrAAAAAABAbA0AAAAAgNgaAAAAAACxNQAAAAAAYmsAAAAAAEBsDQAAAACA2BoAAAAAALE1AAAAAABiawAAAAAAQGwNAAAAAIDYGgAAAAAAsTUAAAAAACC2BgAAAABAbA0AAAAAgNgaAAAAAACxNQAAAPReJEmSJOmNc05RFEVR2IKA2BoAAAA8wsmTJ6dOnTp16tS0tDTvmvOrV69Onjw5MjJy9erViLChe/hjFQAAAIAj5eXlsbGxTU1N9Nu5c+fK5XJvmfmffvqptLSUIAij0VhdXZ2dne1FMw9eCu3WAAAA0HFgrdVqP/30U++KTcPDwzdu3Ei/zs/Pj4yM/P3337FZoUvJ7HY71gIAAAA4D6x37do1ZMgQr1sKkiRnzJiRn59Pv9Vqtd9///3AgQOxfaGLoN0aAAAAuEwmExNYK5XKrKwsbwysCYKQy+VbtmyJjY2l31ZVVb355ps2mw2bGBBbAwAAQHcoLy+fPHkyk2Odnp4+fvx4712cvn37ZmZmarVa+m1eXt7MmTMRXkMXQU4IAACAMxRF+fn1oqaogwcPRkVFNTc3028NBkNOTo4PrIHjx49HRka2tLT42HKBp5G/9957WAsAAAAcdru9pqbmww8//Ne//rV79+6WlpZRo0b5fCjW0NDw0ksv1dXV0W9VKtWXX34ZFBTkA4s2aNAggiD27NlDv62urh40aNAjjzyCXR2khXZrAAAALoqi5s6du3nzZnahTqf76quv6BDNV5d6xowZeXl5TElRURGTqewDzGbzxIkTjUYj/VapVJaUlISFhWGHB8TWAAAAXSg5OXn9+vX8co1Gc+TIkcDAQJ9c6ry8vGnTpjFvY2JiduzY4WMdQtfU1ISFhTGZIVqtdvfu3YMHD8Y+D1JBTggAAAA3/Jo+fbrgR42NjX379o2IiPC9pW5vb3/mmWeYNGulUrl7926FQuFjizlo0KDr16+Xl5czG/TGjRsxMTEymQx7PkgCKfwAAAD/5fjx404+ra+v98lbvn/7299qa2uZtwkJCV7a6V6H3nzzTZVKxbzNysqqqKjAbg+IrQEAALpEZWWlk0+rq6tJkvSxRb506VJWVhbzVqFQvP322766fYcOHZqcnMwuWbJkidVqxZ4PiK0BAACkFx4e7uRTjUbjYynIFEUtXryYyQYhCGL16tU+nIIsk8leeeUVtVrNlBiNxm3btmHPB8TWAAAA0hs9erSTT1UqlY/l5lZUVDBDghMEoVarX3vtNd/exP369UtJSWGXLFu2zGw2Y+cHxNYAAAASGzZsWFJSkuBHISEhjj7yUjabbcmSJeyS119/vU+fPr69ieVyeWxsLPtJzbq6uv/93//Fzg+IrQEAAKS3bt26OXPmcArDwsK2bNniYx3w7dq1i+nvmfbMM8/0hk08dOhQTtfdWVlZFosFOz+4Cf1bAwAACKDHZdy+fXtLS4vdbg8PD4+KigoICPClZbTZbBMmTGDH1j7Zp7UjBw4ciIyMZJf42Fg5gNgaAAAAuk9JSQknlMzJyWEPH+Pb2tvbR4wYUV9fz5TExcXl5ub6/Mj20KWw9wAAAPRGFEXl5OSwSxQKxXPPPdd71kDfvn0TEhLYJQUFBQ0NDdg3ALE1AAAAuMZsNpeUlLBLYmNjfXU4d0c4OSEEQXz66afYNwCxNQAAALjmq6++YvdpTRCETqfrbekQDz30EHuMRoIgSktLbTYbdg9AbA0AAABikSSZl5fHKZwwYUJvWw8BAQF6vZ5dYjKZrl69ij0EEFsDAACAWBaLxWQysUvUavV9993XC2PrsLAwTuHevXuxhwBiawAAABDr6NGj/IQQH+thUKQpU6ZwSnbs2IE9BBBbAwAAgFj79u3jlPTCZGvagAED1Go1u2Tnzp1IuYZO88cqAACPQpKk1Wrdt29fUFDQmDFj5HJ5YGCgTCZz/iu73W6xWPbs2aNWq++99176V1iZ3YCiKHr9UxRFD5hAvzhy5Ej//v01Go3gr6xWq81m++WXX+rr6+lfKZXKMWPGBAQEiG86pTc6RVG//PJLXV0dPQU/Pz+5XC6Xy90MEwWXi6Koo0eP/uEPf3jwwQdFziGzQhgURV27du3EiROTJk0SHKKFoiir1UqS5P79++mJREZG+vv7y+Vyf39pzto2m628vJxT2D3J1jabzWaz7dmzh95ecrlczPjq9DrpogPc399fq9XW1dUxJc3NzYcPHx43bhwOcEBsDQDeqq2t7bPPPissLOR0CqZQKAwGw8KFC0eNGiUYLTU0NPzzn//MyMhoaWlhCvV6vcFgeO211xBhd4WysrKysrLm5mb6mqeqqopZ+U1NTdXV1fTrpKSkdevWca6LTp069fXXX5eWlnLG2aZptdq4uLhZs2YNHTrUeXx2+vTptLQ0k8lUVVXF/kipVGq1WoVCsWzZsnHjxrk0vmBZWZnRaGxqaiIIQiaT0XNIz39tbS0zwsjixYvXr1/vaCK//fZbaWlpTU2N3W6XyWRNTU01NTXMp5WVlcy6unnz5m233cb+rcVi+fe//11UVGQymdihHkEQarVarVbrdLqXX35ZZGTvfAVykq0Jgrjnnnu6bp+5dOnS9u3bi4qKOAe4SqUyGAyLFi268847BS+hT506tXHjxtzcXM4BnpiY+OKLL0qSxBIQEBASElJcXMwuPHbsGGJr6CQ7AEBPy83NVSgUziurxMTEhoYGzg8zMjKc/ESj0VRUVGD1SstisfCf/RKUnJzMbrK9dOlSSkpKhxua2dxXr17l/3ebzVZUVMTp2MGR+Pj4qqoqyZcrKSnJyXQKCwtFnn9v3rzJ/IokycLCQjHLpVQqk5OTL1++7M5GZIf7zFVNe3t7F+0za9asEXOAWywW/g+d/ESn0x08eFCSOdy6dStn4q+//joOdugcxNYA0JN+//13nU4nMhbRarWnT59mfjt37twOf6JQKC5evIj1LCGr1SpykzGxNUVR2dnZnJTWDj344IOc8LqxsdFgMLjahLRx40Yxy2U2m0Uul+Sx9eXLl11dLpVK5U5YyZ9JnU5ntVol31uuXr0q/gDX6/WNjY3Mb+Pj4zv8iUajcfMyg8a5+9F1KwR6AzzLCAA9prGxMTIykn1vOioqauXKlUVFRa2trUajMSkpid3cVVVVNXHiRHpE4qVLl2ZmZjK3y9PT0y9evHjr1i2j0Zienj5s2DD6o5aWlkmTJlksFqxtCe92uvqTxMTEGTNm0EkOQUFBcXFx9Fa+desWvaFfeukl/q9Onjw5c+ZMOu+ZIIirV68+/vjj+fn5THCZkJCQlpZmNBpbW1tbW1uLiooEw7iFCxcK5p94iIMHD/7lL39hliskJCQpKSknJ6e6uvrWrVsXL15MT0/nDG5CEER9ff2cOXOuXLnS6awefpDqUv6MGKdPn37ssceYA1yhUDCbvrW1tbi4mDPeuNFofOyxx+ijddq0aUz32yqVKjc399atW7du3SouLk5LSwsKCqI/qq6unj17tvvPHd5///2cEpPJZLVacbwDckIAwGtcvXqV/aCbRqMxGo0kSXK+tn37dk6tFRsbm52dzf4h/TwcjaKooqIizs39oqIirHCp2Gy2OXPm6HQ6nU7Hj/k47dZWqzUuLo4piYmJuXz5Mn8rUxS1YcMGwYmkpaXZ7faGhoaQkBCmMCEh4cqVK5xnBOl5Y/87hlqtvnTpUoft8cxysf+Xq+3WZWVlYWFh9HScn39v3LhhNBqZMFGhUGRnZ9tsNv40L168qNVq+VNISEjgr0wxWzAmJoa/saTdT06fPs2+MNbpdNXV1Zy5pSjqs88+4y9UWloa89ZgMLCTZ2w2W2FhIWfdVldXuzm37e3t/Odui4uLcbxDJyC2BoCeic/YqaWLFy82m82Ovvz66687uSPMPu9SFCV4b33lypVY5xIiSZIkSYvF0t7efvHixb///e+CWychIYH5SKFQrFy50slNdpIkBcNilUrV2trK7C1qtbqwsJAfVTPMZrNg5yRiwlCSJG02m9VqtVgsFy5cSEpK6kRsTe/eJEmazea2trZ9+/Y56izl8OHDTJ6MTqejH390ErILpiwfOHDA1c1nNpv5id3SXn82NjayLwY++OADfi41s66cpLnHxMS0tbWxN5Bgogh9AeYOwYygnJwcHOyA2BoAvENycrL4SGXlypWOcqlPnDjB/ubixYsFvxkdHS3YHAhSEbz+YVpkCYL45ptvOpzIxYsXBTff+PHjHW1xQTk5OYJN106u3wRZLBbBBuwO91iOS5cuCS4Xs350Oh07ghREURQng6JzM2O329va2vjTMZlMEu4P7MukDgNfR9cwCoWirq6OHVgL5g7RK8HJ5ZYYVquVf1kueVs+9BLItwaA7lZaWpqamsrc8HXeFQBBEH/6058Ey+Pj49mdkZ08eXLz5s2C31QqlR32kA3ueOqppwRzHpj7BlOnTu1wIoMGDeLnKhAEUVFRQb/Izc0NDQ3tcDrPPvssv4m3rq7u7NmzLi2UXC4X2SFJh8slmB9Crx+VSvXFF1/07dvX+URkMtn06dP55Tt37nQ1LZgkSX7hmDFjpNoZ8vLyCgoK6NdxcXHz5s1z/v27777bUZr+XXfdxT7AP//8cyfrx515lslk/Gdt6d4YAVyF2BoAupXFYklJSaFfh4SEfPTRR51+gmrBggXsoTTOnTvH7gGX02bZOwec6zZOIhudTrdkyRIxE/H393eUPkEQRFJS0uTJk8VMp0+fPoLZyfyRCDs4Qfr5iewx0B2ZmZnOO/NmjB07ll9YVVXV2Njo0n+kh6TpIg0NDUwwHRYWlp2d3WHUe/78eX5hUFDQG2+8wT5s+Y9eMIKDg93fge28h3TpNG4c3YDYGgA82scff8x0d7V06dJBgwZ1+JMDBw7wCzUazYgRIzr8Gm3GjBlY813KSQgyd+5c8ZdPTqYzc+ZMN2eyrq6O6XXEQy48NBrNE0884eZ0jh075v7GkurGzj/+8Y/m5mb6dWpqaocDSdrtdsFL4vDw8MGDB7NLHF05KxSKp59+2v1tJJj2jdgaEFsDgEez2WxMNohKpXr++ec7/AlFUZwB6mjR0dGcIdkiIiIEpxAXFzdq1Cis/B4JH1Uq1QsvvOD+dF566SWXNqJge3NP9cTn/MLD/aFDXY3/Kisr+atLkti6sbGRycvS6XSPPPJIhz8hSZIZyJMtLCyMc0nmqH90TuqIhDtweXl5j1yMAWJrAACxdu/ezQTKCQkJffr0EROOnzx5kl/Oj6SffPJJ/pNnISEhGzZskLzjXuBQKpWC5VqtVpKV71JWj0wmE8wJIXqoGVImkznKLXH0LIFLFx6u4qcRh4aGSjLxL7/8kmm0jo+PFzMgudVqFYyt+Qn6zz33HNNvPfuia/Xq1V13fYh2a0BsDQAe7ZtvvqFfBAUFzZo1S8xPfvvtN/6QaQqF4vHHH+cUBgYG7tu3LyEhgc7ZpcfgqKysHDhwINZ8V3MUI4aEhEgSWzu6KeFSAC2TyVyNIKUKZx3F+i49QehoufgHiFSRpUvsdjuTlzVs2LDZs2eL+dWRI0eYcJyhUqmGDx/OKRwyZMjRo0cNBgPdq7pOp9u4cWN+fr5UV86CawDt1tAJ/lgFANBtIiIiampq6POiyOe39u7dyy/U6/WCTWIDBgzIyMigO1GWy+Vims2gR2JuRxzd97/nnnskCRNdbYbs0mZLjUbTYToyZ7lUKlV9fT2nnB+bdiIsliQ21Wq1Fy5csNvt0dHRYu5KEQ4erNTpdIIH78CBA3NycrroAEdsDYitAcD7TJs27YUXXpDJZP7+/mLayeghM/jlYWFhjoISPz8/kSd1qdjt9o8++ogeid2j3HPPPYmJid3zvxxtTUe5Iq7G1o66afMKTlaOq63FwcHB/NhakjBakhb6pUuXLl682M/PT+Q1A0mS5eXlghfPjlKAuu4AR04IILYGAK/k0pNbVqtV8NT76KOPes4SrVy58t133/XMtX3r1q133nmney4wui5ic3U6gv2p9SAnM9P9y9WlW0omk7l6gJtMJn65+/1+dIJgR3779++Pjo5GvQ0uQb41AHguR8nWgh399oj29vYTJ0547Aqsqqrq2ZvaPRJb2+12b2mDdHW5JPmPgk3CPTK4kmCytUaj6ZFnJATzjpATAoitAcCnCCZbO8rF7BGBgYFvvfXWkCFDPHDtBQcHv/POO90zaI6jyMzVXA5H03F1Kbq0C2epqFQql5ZLqqZlwXixRy48BEfzCQsLc79fwk4QzPz26mQk6CnICQEAD+Uo2Vqn03lOn3p+fn46ne7XX3/1wBUok8m6LfXcUWTmKH9aqul3XQzaDdRqtaMm9h453Lr5PzpKtnapTxgJCV5yILYGxNYA4Du8Itma1rdvX2wv8Bb8aL5HMtQdJVt71AHuLddp4FGQEwIAHurq1asenmwN4I3xmYckox8+fNhzkq0JdAkCiK0BwOcJ5mI66tkaED4ieOq0lpaW7l85LvVs3Q0Ec0LQbg2IrQHAR1AUVVRUxC8PCwvDAObgwxcA3YA/oE9lZWU3x9Y2m00w4ys8PNxzNpNCoeieR4EBsTUAQJdzlGw9YcIErBxAuO+OO+64wxMOcMFk6546wO12O39QHq1Wi9gaOgHPMgKAJ/r555/r6uo4hQqFYsyYMSKnkJOTU11drdFopk2bhgbLrnb+/HmsBCdxG39nZj7q/p1TcCD6bm633rNnDz/ZWqVS/fGPfxS5SnNycmpqanQ63ZQpU9yfH4qi+LG1UqlEbA2IrQHAC+IMo9FYVlbW3Nwsl8tnzpz5wAMP8L8mmGyt1WpF5mIWFRXNmDGDfh0ZGalSqbDmu5Sj2LETu0eviq1dIlUULthuff369X79+rk/cZIkKyoqDhw4QB/gb7zxxuDBg0Ue4OKTrTMyMhYsWEC/vnnz5m233eb+NmppaeEUhoSEIAMNEFsDgEcjSXLBggWbNm1iStLT0/Py8mJjYzlfKykp4f88LCzM37/jWstms2VmZtKvhw0bNmjQIKz5bggfJZmOr95hkGS5JFzJWq2W0wnP8ePH77zzTjen/Ntvv82cOZN98Kanp3/77bfjxo1jf81qtX777bf8n2s0GjHtxFarNSsriwnHJRloxm6383slwv0u6Bzc7ACA7gusp0yZwg6sCYJoaWmZO3cuJ2iwWCyCuZiC97L5Tp8+zZzdExMTu238FACvuGDw8/NTKBScQvfHP7JarY8++ijnqrilpeWDDz7gfLOxsZEfyBIEMXr0aDH/aNeuXczP4+PjJelXRPC6JTw8HHsvILYGAM9VUFBQWlrKL6+vrzebzeySr776ip+LSRCEmGRru92+YcMG+rVCoXj11Vex5hGe9myYa7fbHTU598j8+Pv7azQaTqH7WSupqak1NTX88vLycovFwi755ptvBKcg5kFGiqJycnLo1yqVavbs2VJtI364f8899+DQA8TWAOChbDZbRkaGk/Ml+yQn2PueyFNdQ0NDQUEB/TouLm7IkCFY+T2otrZWqtBHkukI9mHcU+rq6npqLHf+uOLV1dUkSXZ6gmazefPmzY62HXu1kyRZXFzM/5pGoxGT3Hzo0CHmAE9ISJDqrpTNZuPkWysUivvuuw+HMCC2BgDPja0F27QIglCpVOxz6uXLlwWbt/V6fYenXovFMmnSJOYcuWjRImRMeldsLUn7bo90vtGJsNjVpmIJH/Tk3wJqaWlxJ7YmSdLR4nCO3J9++knwABfTKUdDQ0NCQgL9OigoaNasWVKtkL1793JKtFotHmQExNYA4LlIkhRM8yAIYsmSJezGp3/961+C3+ywkY+iqFdeeYW5sbtx48aQkBCs+e7haNNIFQ662r4r+P0e7ISkq9ePq+6//35OyrXRaHSnUf/o0aOOPpo3bx47Jfqzzz7r9PX5Cy+8wBzgmZmZ7j98yThx4gSnRKPRiHlyGgCxNQD0DLlcLtgRXlxc3Ny5c5m3VVVVqampglOoq6uz2WxOzrtLly7Nz89nJjt//nys9m4LHM+dOyf40e+//y5+IjabTTBbgCCIs2fPip9Oe3v7qVOn+B9duHDByS4keEFYXV0tuCu61MTb2Nh448YNfvmNGzfET8dut1++fFnwGd+mpiZXN1lAQAA/5fratWud3gceeughwfKkpCR2L0BlZWXr168X/KbJZHKydSwWy8svv2w0GpnJTps2Taod2Gq1XrhwgVOo1Wpx1ws6B9dkANAdAgICtFote3SGoKCg5OTkFStWMCUXL16cPn063WitUCjmzJnz4Ycfsify/vvvC0beJ0+eTEhIYM67Go1m69atOC92XSRtNBpv3Lhht9ubmpoqKyvr6+uZqxqOhQsX1tTUKJXK0NBQmUwmk8mCgoL0er1MJqMoqqSkhG5jvn79ek1NjdFoFIwdCYKYNm1adHR0//79Q0ND6RK1Wq3VagmCuHLlyuHDh2UyGZ2WUF9fX1JSItgNRV1d3cSJE3U6nVqtvvvuuwmCkMlkd99994MPPkgQxNWrV3/44Qd6fpqamqqqqurq6gSzFz7//HP6WpGZTnBwMHOTpKGh4ciRI/R0Tpw40dLSkp+fL5gvUVVV9fTTT2u12tDQ0P79+9OFY8eOpR8SqK6upjNqKIqiZ4bJM+bYvHmzTCbr37+/Vqulp2O326Oiopw3u0ZERHCGPt27d2+nA9aAgACdTsfefEFBQUuWLFm2bBlTUl9fz3RKrVAooqKitm3bxp7Ili1bBC+Jy8vLExMTmW1qMBjWrFkj4S5ts9n4F1GPPvooDnbofC0JXeTQoUNr165dtmzZpk2bbDYbVgj0coWFhezz7rZt28xmM0VRJEm2trZ+8803TNhEEERGRobNZouOjuZUWX//+9/NZrPNZiNJsr29/cKFC6tXr1YqlcwXhg0b1tDQgLXddSwWS1hYWKdPOmFhYWaz2W6337p1y52TV1JSEkVRnP2qE5KTk+nlctRkLsbixYuZ9bNjxw535mfHjh30dBYvXuzOdG7evOl8O1ZUVHB+kpCQ4M6OkZaWxkzq9ttv//LLL+kD3Gaz3bp16+uvvw4ODma+kJ+fb7FYdDodewaUSuWGDRvYB3h1dfWqVavYB3hISEhjY6O0u7TgCJHt7e042KFz0G7dVXbu3MkOC9LT0/fs2TNgwACsGei1oqOjo6Oj6YbAGzduvPjii2q1Ojo6WiaTlZeXV1ZWMt80GAx0osjWrVsjIyNPnjzJfPTXv/71448/1mq1QUFB5eXlnObAkJCQPXv2YLCYrubOPQHJe9PzhBsU7Hlwc366bbnGjh2rUCjYnWOUl5dbrdZOdxf9+uuv5+Xl0W3hN2/efO655zQajU6na2lpqampYR/gmZmZcXFxBEF8+umnjz32GJOP0dzcvGjRov/5n//RarUKhcJkMnEO8Ojo6K1bt0p+JuUPEil+hEgAPsTWXaKxsfGll15il1RVVb3yyivbt2/Hc8fQa8nl8s8+++zpp59m7kTX1dUx46uxL0TnzZtHvx4wYMDevXtnzZrFHpCirq5O8A57YmJienq6mHHdACAgICAmJoadZ1JVVeVObB0QEPDhhx++9tprTI9A1dXV/FyLjIyMxMRE+vXw4cN//PHH559/np1MIniAKxSKefPmSZsKQiNJkpMbQxCEXq9HTQKIrT3L999/z+kpkyCI4uJikiQRW0NvNnDgwH379i1fvlzweaawsLAVK1Zw8kAGDRq0Y8eOzMzMrKwswQfLFApFTEzMe++998ADD2ANdwM/P78HH3xQo9EwHU3QucVMO6tg3xf0p1VVVcOGDaOjFn9//3HjxkVERDDf57fU8idFf8dkMg0bNowuueOOO6Kjo+kn85g56XB+CIJoaWmpqqpSq9XMdMLCwtRqNfPQLZ0gzkyKmQ7zL+jv1NXVsZ/T7d+/f1RUFJ0LLrh+HC1Xc3NzVVUVk/+gUqni4uLYM8NfBMHp1NXV1dbWijnXTJkyhZPDvXfvXvajh64aN27ckSNH3njjDf41M0EQL7744ltvvcUZ/3zIkCF79+7NyspKTU1lP4/BUKlU0dHRH3zwweDBg7tif7ZarZyxJAmCeOaZZ3CkQ6fJerBPIl9lt9unT5+el5fH/8hsNgcGBmIVAbS2th47duz8+fOVlZV2u33MmDH333//n//8Z+enwEOHDp04caK2tpaOM/z8/CIjIx977DF/f380MnUniqLouNOlipH5y2ysTjQ3MGMcsmeAoihXdwBH02HPnkuLxl4bnZgf5r8z88OfbOdWshOXL1/mdGOXnJy8bt0690+CbW1t+/btu379Op0KMnr06LFjx44YMcLJrywWyw8//MA5wJ966qmxY8d26XnzwoULnC6MDAZDdnY2GsIAsbUHsVqtw4cP54+YoNPp9u/fj8MVQJLYDsE0gJtIkpwxYwa7jxetVnv06NEe79e5Ow/w3Nzc6dOns0tycnIk7OAPeiGcnKT3yy+/CA5FNn36dATWANLUXAisAdwml8s5QWRVVdWZM2d6zwHO71I9KCjI+gSbAAAgAElEQVToueeew74BiK09C/+JY4IgFArFs88+i5UDAACeY+LEiUzGOa3T4yZ6o8uXL3O6Zk9MTOzbty92DEBs7UEoiiorK+OXT548Gf2CAQCAR+nTp8/rr7/OLvn888/NZnMvOV9v3bqVXaJQKN566y3sFYDY2rOQJCk4rtjChQuxcgAAwNPMmjWL/ba2tvbw4cO9YcHb2to4A0MmJCQMHToUuwQgtvYsgsnWWq324YcfxsoBAABPM3ToUKbDaVp6enpv6Ofgxx9/ZI9oExQU9Pbbb2N/AMTWHkcw2XratGk9/tg1AAAAn0wme/fdd5neygmCyM/PP3XqlG8vdXt7+8cff8wuSUlJGTJkCPYHQGztWRwlW3PuuAEAAHgOftP13//+d99uut69ezd7GAqVSrV48WLsCYDY2uMIJlvHx8cPHDgQKwcAADzW+++/z+4wpKCgwIebri0WS2pqKrtk9erVffr0wW4AiK09jmCy9YwZM1waWAsAAKCb9e3bNyUlhV3iw03Xu3btMhqNzFudThcXF4d9ABBbeyJ+srVKpZo4cSLWDAAAeLiEhISYmBjmbUFBQWlpqe8tptVq5YzrnpWVhWeiALG1J7Lb7fxk63nz5uGIBQAAzyeXy7ds2cLODFm6dKmP9XVtt9tTU1PZjdZJSUkhISHY+iAhWW/oZ6fbLoWHDx/OyQlpaGgYPHgwVg4AAHgFk8mk1+uZt8nJyZxWXq9WWVkZERHR3NxMv9XpdHv37g0ICMB2Bwmh3Voy586d4wTW8fHxGIsRAAC8iE6nW7VqFfM2NTW1pKTENxbt1q1bCxcuZAJrlUr1xRdfILAGxNaea+/evZwSPMUIAABeZ+nSpQaDgXkbHx9/+fJlb18oi8WycePGAwcO0G8VCsXnn3+OURgBsbXn4idb4ylGAADwRjKZLCcnhwmvm5ubo6KirFarV5+jN2/evHTpUvptUFBQcXHx+PHjsa0BsbXnstls7GcjCDzFCAAA3hsc+PllZ2cz4XVlZeXMmTMpivLSxTEajStWrKBfKxSKkpISdk45gMRXp3iWURKnT58eOXIkuwRPMQIAgFez2WwzZswoKCig36alpc2fP9/rluLkyZNhYWFMmrXRaNTpdNi40IWXplgFkjh27Bj7LcZiBAAAb+fv75+fn8+0Xi9YsMDrnmtsbGyMi4ujA2uFQlFaWorAGhBbewG73c48HkGbMWOGnx/WLQAAeL2cnJyVK1fSr1evXm2xWLxo5k+fPl1VVUUQhEajKSkpiYqKwgaFroacEAnYbLaxY8dWVlbSb1Uq1blz55BsDQAAPuPmzZsymaxPnz5ed3a7desWQRABAQGBgYHYjtANEP9J4Pfff2cCawJPMQIAgM+5/fbbvXTOb7vtNmw+6E7IW5AAu2drhUIxa9YsrBMAAAAAxNbQGSdOnGBex8bGYixGAAAAAMTW0BkkSbJ7tl60aBHGYgQAAADonfAso7vMZvOAAQNu3rxJEIRGozl27BiSrQEAAAB6J1+OAimKstlsP//88/Xr18eMGePn5xcYGCimazyr1Xr27Fm73X7vvff6+/sHBAQ4+XKfPn3OnTv3ySefHDhw4OWXX0ZgDQAAANBr+WC7tcVi+e6773JycoqLi1taWphytVqt0+mWLVs2cuRIwQjYYrFs2bJl9erV9fX1TKFer4+Ojn7nnXf69Onj/P/a7XZkgwAAAAAgtvYdO3fuTE5OpjuKd0Sn033xxRdDhw5lFx48eHDSpEnsWJxNpVKtXbs2Pj4eewwAAAAA9IrYet68eZmZmWK+qVarCwoKxo8fT7/NyspKTEx0/hN6rNSwsDDsNAAAAAAgyEf6CaEoymAwsAPrkJCQpKSkwsLCCxcuGI3G5ORkhULBfFpXVxcVFXXy5ElOYK1QKJKSkmpqam7dulVcXJyTkxMSEkJ/1NLSYjAYGhoasNMAAAAAgCBfaLemKGr69On5+flMfJyRkREXFyeXy9lfO3HiREREBDvrQ6vVpqenT5kypbm5mX5bWFgYHBzMfKGmpuaDDz7Ytm0bU5KWljZ//nzsNwAAAADgm7F1QkLC5s2b6ddRUVFbtmzh5FIzUlJSUlNTBT9SKBSVlZXswDotLW3hwoWcr8XFxeXm5orpbMRzWK1Wz59J552xAAAAAHgFr+8wLjMzkwmsDQbD1q1bnfSCFx4e7ii2zs7OZgfWOTk5/MCaIIj6+nqr1dphnyGe4+eff37rrbfohnlPFh0dvXTpUhyQAAAA4NW8u926oaFh5MiRdOCo0Wi+++67wYMHO/l+TU2NRqPhl+v1+u+++46JmNvb20eMGMHuiY+h0+n27t3rLY2sJElOmTKltLTUK+b2wIED4eHhOCYBAADAe3nxs4wURc2ePZsOrIOCgrZt2+Y8sCYIora2VrA8JSWF3RT9yy+/CAbWBEEolUpOGrdHXznJZEql0lvm1otWLAAAAIAgL84J2blzZ0lJCRMcjxo1Skw4zi9UKBQTJ05kl/z666+OphAbG+tFydZ+fn4bN27s37+/8w6/OxGyO7ndodfr+YUd3h4JDQ1F/4YAAACA2Lpn2O321atXM8HxrFmzxPyqrKxMMBbk5Hjcc889gj/XaDSvvfaad62oAQMGpKenS5v5w8TWLo1D6fzLGNISAAAAEFv3mIaGBpPJRL+OiYkZMmRIhz8hSbK6uppfHhYWxslGGDlyZFRU1M6dO9mFw4YN27VrV2BgoNetK+/q1QQAAADAe3lr1PXVV18xrxcsWCAmfLTZbEajkV8+depUTolcLs/NzU1KSlKpVARBqFSqhISEo0ePOuraDwAAAACA8N5+QkpKSlatWiWTyYYNG5abmyvmMbjq6mqtVsspVKlUZ8+eddSnntlsJklSLpcHBgYiacEnHT9+/Pz581gPAAAAHmXq1KleGnp5a05ITEzMxIkTZTKZv7+/yFW/b98+fqFOp3PSoZ4X9WMNnZOWlvbJJ59gPQAAAHgUi8XipePKeXE/IS6lPpMkyeRns+n1eqQjAwAAAIAkektYabPZysvL+eVPP/00dgIAAAAAQGztgrNnz9bV1XEKNRrNwIEDsRMAAAAAgCT8e8lybt++nV/oPNkaeoO77rrrwQcfxHoAAADwKN7bh4S39hPiEpIkn3rqKWYQR0ZOTs60adOw+wIAAAAAYmux2tvbhwwZ0tzczCm/cOHCXXfdhZ0AAAAAACTRK/KtDx8+zA+skWwNAAAAANLqFfnW+/fv5xf2nmTrU6dO1dbWevhMjhkzZvDgwTggAQAAALG1R3PU+55Wq+0NQy3m5uYuWLCgqanJw+czNDR0z549f/zjH3FMAgAAgPfy/ZwQq9UqOGrMo48+KnIKBw4cWLNmTU5Ojtflplut1k2bNnl+YE0QRGVlZWlpKQ5IAAAA8Gre3W5dXV194MCBuro6mUz2yiuvPPDAA/zvfP/99/xka5VKdd9994n5FydPnoyMjKRfK5XKKVOmeNH6CQgIiI6ONhqNnj+rCoXikUcewQEJAAAAiK17gN1uX7NmzfLly5mStWvXbty4ccGCBZxvFhYW8n+u1WpFJlv/61//ol8EBQWNHTvW61bUsmXLIiIi+FcXnmbs2LFDhgzBAQkAAABezVv74EtOTl6/fj2nUKlU/vbbb/7+//+CwWKxPPzww1VVVZxvJiUlpaamdvhf2trahg4dSgemcXFxubm5fn5+2GkAAAAAQJBXRoomk4kfWBME0dzc/OOPP7JLzp49yw+sCYJg0jyc27JlC9Piu3z5cgTWAAAAAOBTsbXdbs/Oznb0KUVR7Ld79+4V/FpwcHCH/8hqtTJt2zqdbuTIkdhdAAAAAMCnYmubzVZdXS34UVBQ0JgxY5i3FotFsHmbIIh7773X+X+hKGrmzJl1dXX02yVLlrBTTQAAAAAAfCG2JklSMM2DIIjExMT/83/+D/P2u+++Y4Jjjg6zzNesWZOfn0+/jouLi42Nxb4CAAAAAL4WW/v7+2u1Wn55SEhIUlIS8/bSpUtz5851NJF9+/Y5+oiiqLS0tBUrVtBvNRrN1q1be8MoMwAAAADQG2PrsLAwTuHrr79eVlY2cOBA+q3ZbE5OTmYarefMmcP5fm5uLiczm9bQ0DB//vyFCxfSb1Uq1a5du3rJ0OgAAAAA4Cb5e++953Uzfeedd2ZkZDBv33333VWrVt1+++10VF1dXZ2YmPjll1/SnyYkJGRlZbW2trJHPq+urm5ra9Nqtf369ZPJZFar1Ww2//vf/46Li/v+++/p7wQFBW3fvn3UqFHYSwAAAABADB/p31qlUsXGxioUioqKirKyMqY8Ojq6pKSEIAiSJCMiItjhNUEQarVaq9UOGzasvLyck8OtUqm2bds2btw47CIAAAAA4OOx9bVr16ZPn15aWurkOy+99FJBQQHzliTJ6dOns0sciYuL27BhA5NhAgAAAAAghrcOhvKHP/yhsLBw1apVQUFB/E+HDRuWlpbGCaPlcnleXl5OTo5Op3M02ZiYmJKSkvz8fATWAAAAAOAqb223ZrS2th47duz8+fOVlZUEQdxxxx0PPfTQxIkTnYyhaLVaz5w5s2/fvtra2paWFoVC4efnN3r06GeeeUYul6MfawAAAADn7HY7elHzzdjaTRRFYSRzAHCVxWL58MMPW1paQkJCpk2b5kUnGLvdvnbt2ubmZrVanZiYiAoQoKfk5uZWVVUpFIrXX399wIABXjTnBQUFx48fJwjizTffHDJkCDYlYmsAALdcuXLlySefpO+VqdXq06dP9+3b11tmvqamRqPR0K/j4+M/++wz3KwD6H5LlixZt24d/frAgQPh4eFe1LLw7LPPFhcXEwQRGhq6adOm8ePHY4OyocUCAMAFjY2NTGCtVCoLCgq8KLAmCCIkJCQ9PZ1+nZeXN2HChGvXrmGzAnQbu90eHx/PBNYrV670osCaIIjAwMCPP/5YqVQSBFFZWRkTE3Po0CFsVja0WwMAiMVusSYIwmg0Onk22mNRFDV//vxNmzbRb7Va7ffff48HuAG6R3x8fH5+Pv3aYDDk5uZ6Y9ayyWSKjY1tbm4mCKJ///5FRUXeWBl2EbRbAwB0JrBOT0/30nOJn5/fRx99NG3aNPptVVXV448/brVasYkBujOw1uv1W7du9dLHAXU63caNG+nXTU1NkydP5gwhgtgaAACcYaeCEASRkJAwd+5c712cPn36rFu3LjQ0lAmvX3nlFZvNhg0N0HXS09OZwFqhUHzxxRde/bSDwWBgBsluamqKjY1FeE1DTggAQAesVuvYsWOZ0Vu1Wu3u3bsHDx7s7ct1/vz50aNH03d1CYKYNm3a1q1b0XMIQBcF1gsWLGDeFhUVxcbGevtCtbW1zZkzJzc3l37bv3//ioqKkSNHIrZGbA0A4BBFUTNmzMjLy2NKysvLfeO5eIqi8vLyZsyYwZSsWrVq2bJl2OjQpVequ3fvPnHiRHNzc0RExOOPP96nTx+fX+q8vDwmC4sgiJSUlLVr1/rGotXX1+v1+rq6OvptaGjojz/+GBgYiNgaAACEcVqbkpOTmQf8fYDZbH7uuefo7rRoXvqAJniFQ4cOJSUllZWVMSXBwcGbNm2Kiory4aW+fPnyqFGjmBtEarX6hx9+8IEbX4wdO3ZMnTqVeZuQkJCZmdmbh5VBbA0A4NCpU6fCwsKampqYk+KZM2d8rJnt4sWLISEhzIk/ODj40KFDvnTiBw/R0NAwcuRIZk9jM5lMYWFhPrnUJElOnTqVffnqG9kgbDabbeHChUzXQwRB5OTksNvpexvk1QEAODwpJiUlMYE1QRCZmZm+d//6rrvuWrVqFfO2trZ29uzZJEliBwAJURT19ttvCwbWBEEsWbLEYrH45IKXlpayA+uYmBjfa6T39/d/99136R6vaQsWLDh58iRiawAA+C87d+5knxR1Ot2kSZN8cklnz56tVquZt8XFxTt37sQOABKy2Ww1NTWOPi0rK/PJbmrMZjM7o4wgiPXr18vlct9b0iFDhiQkJDBvm5qaVq5cSVEUYmsAAPh/rFYr56m+rKwsnzwpEgTRt2/fpKQkdsmyZct8tR0Reiq2ZrqwFHT8+HHfW+oPP/ywtraWeZucnDxq1Cif3L4ymWzRokXspuv8/Pxee4mO2BoAQMDmzZvZoYDBYPDVkyJt1qxZ7KbrysrKjz/+GLsBSEUul7N3ML7Ro0f72CJfvnw5NTWVeatQKN58800ffsJvyJAhiYmJ7JK1a9f2zkGpEFsDAHA1NDQsX76cXbJixQrf7vi5X79+ycnJ7JL169dfuXIFOwNIwt/fX6PROPpUrVb72E0hu93+/vvvs/PLExMThw4d6tuXT/Pnz2dfQZWVlW3btg2xNQAAEB999BH7pGgwGB544AEfPxn4+b388svs82Jtbe2HH36InQGkCrw416tsq1at8rGnhE+dOpWVlcUueeONN3x+Kw8ZMiQ+Pp5d0juzyxBbAwD8l8uXL7M7kyIIYvLkyb6aac3Wr18/znlx27Zt7e3t2CVAEmFhYenp6QqFglOekJDgY/21URS1cuVKdonBYOgN/VoGBAQYDAZ2SV1d3b///e/etqujf2sAgP+SkpLCzpL0yT6tHamqqgoNDWWX9PJ+aqErrl0/+uij+vr65ubmkJCQqVOnhoWF+VgW8smTJ0NCQtglubm5nAtXX2U2mydOnGg0GpmSmJiYHTt29IbmCcTWAAAC+MNbJCUlsUNt32axWB5//HHOeXH79u3+/v7YN0BCdO9sPvkMg91uj4+PLygo6J3X5wRvLFuCIGpqah588MHes3sjJwQA4P/76quvOMNbvPLKK71n8QMDAzmtayUlJWfOnMGOARIHH35+vvpwcENDAzuwJggiLi6u9wTWBEG8+uqr7M74CIL47LPPetfujSMcAIBmtVo5mdZarXb48OG9aiU89dRTnJINGzZg3wAQf33OKZk6dWqvWgMBAQE6nY5d8vnnn5vNZsTWAAC9ztmzZ6uqqtglYWFhAQEBvWolDBgwQKvVsktKS0sxjgyAyOvzkpISdolCoXjooYd61Urw9/ePjo5ml9TW1h4+fBixNQBAr/PNN99wSsLDw3vbSvD394+JiWGX1NXV/fzzz9g9AMRcn3Nia71e39uuzwmCiIyM5JRkZ2cjtgYA6F2sVmtpaSmncMKECb1tPcjlcs79XIIgtm/fjj0EoEN79+7llOh0ul7VRQbtvvvu4wzDWV5eTpIkYmsAgN4VW7P7xyAIQqvVDhgwoBeuisjISM6jSGVlZehUCsA5kiRNJhP/aOqFq8Lf3z82NpZdUlVV1XtufyG2BgABdru9t8VS/AanXphsTQsICOD0cl1aWnr16lUcFwBO2Gy28vJydkkvTLZm6pCwsLAO61ifvbTAwQAgJtCk/1IURQedJElSFNWvXz9H3UhZrVb6O0yE6ufn5+/v71KsRlGUzWajKIqejp+fn1wup/9KO9SCzWazWCz79++/fv16ZWUlXSiT/b/+7/38/EJDQ0NDQ++9996+ffv66lY+cOAApyQ8PLx7hrSwWq02m43ZxCJ3EpvNZrVa7Xa7v7+/XC6X8L6zv79/SEhIWVkZu/Do0aNRUVGoDXqw2qErhNtuu83RbsmpdmQymUwm60S1Q5IkMx3Jqx163piFYpbr9ttv78T1PzMFulr28/NzVEfR/4VeLnrlSH7g/PLLL7W1tewSrVYbGBjYDXsLSZJ0NeLv7+/n5xcQECBmY1EUZbFYSJKkV4WE3djLZDJOTghBEDt27EhMTERsDdAbXbt27eDBg3a7vba2tq6ujqkp6IQB+nRFx2E3b9687bbbOBXc6dOnv/nmm507d1ZWVnJ6Sg4PD4+Ojn766adHjBjhvEK3WCzfffddbm5ufX09O8QJDw+32+06nS48PPzJJ590v1X1ypUrW7ZsMZlMxcXFHX5ZrVbHxMTMnDlz3Lhxrv6jn3766fz583q9XiaT+fn5sRvFOW+Z13a7/fz58/7+/g888AD702+//Vav19P949rtdkenECY0OX78+Pjx452faaxWK6fBiSCIu+++u+t2M4vFcuTIkezs7MrKSuY+slKpDA0NjY6OfuWVV4YOHepoVj/99NPs7Oyqqip6BwsNDVWpVHPnzo2KipIkUAgICOCMKkcQxL59+xBbd53ff//90KFDBEGcP3++vr6eCY5FVjuHDh3Kzs6uqakRrHaioqKefvrpBx54oMNqZ/fu3bm5uRcuXOBcWWm12piYmIiIiCeeeMKlaue33347dOiQTCbjLJfJZKJft7S00NfzbW1tTi7dKyoqmpqaKIoyGo1MFVFfX19XV0cf2nV1dbW1te+888769es5B/vly5e/+eabkpKSuro6pu2AOXA0Gk1ERERUVJT7/W13c7K13W5vaGjYunVrYWEhvSqYLa5SqZYvXz5ixAjBcJmiqF27dmVnZxuNRvpXwcHBKpUqJibm7bfflqorbn6DfU1NDUmSvSL73A4A/62wsFDk4XPz5k32D6urq0WOajtt2rSTJ08K/ve2trb09HT+FT9feHh4UVER3d7ZObm5ucHBwZ2oN2JiYmpqalz6X4sXL+5cHbV48WL2dFpbWzsxkdbWVuez19rayskwJgji1q1bXbSPVVRUcJIuOJRK5ZIlSywWC+eHhw4dcrJvxMbGnjlzRpI55Lfi63Q6dlsjSGvHjh2dq3bKy8v1er2YH8bHxzupdjIyMsRUO0qlMjc3V3y1I3652traHE3EbDbzn68VlJSUxN5L29vbU1JS+vfvL2bluFqncVAUlZCQwJnsqlWrumiHaWxsNBgMzhcqNjb20qVLnB9evXrVyQ4THBycm5sryRy2tbXx/1FDQ0NvOJwRWwNIcJKzWCwpKSkuRXv9+/evqKjgh1xiTm9ser2eTgzoRGAtODW9Xp/yHzqdzkktnJaWJv7fJSUldS62TkpK6obYuqamht9I397e3hU72Lx580TOdnh4+JUrV5gfcsa1cXRqlOTsdfPmTX5QZTabUT94TrVjNpuXLFniarVD35RjM5lMrlY7iYmJv/32m5jlSktLkyS2Fnn9wI6tjUaj8ytY/srZuHFjp7eg1WrlXwAUFRV1xd5SUFDAbwtwdC1Et/TTfvzxRzHburi42P2ZtNls/Ohfkil7PuSEAHCJzymkv3n27NnnnnuOGXNEpVJptVqNRkM/Hi6Tyfbv379p0ybOjdqmpqbo6OiDBw8yCQ95eXnz589vampibsJqNBqNRjNmzBj6HmhOTk5+fj5nHoxG44IFCzIzM11KhTSZTPPnz+cUVlZWjho1ir4xSt+DptMur127tmXLlqysLOaeI23BggUEQfCn442OHTvGKVGpVJLfu6Qoavr06eyNqNFodDqdVqu99957r127VlRUxB4tuaysbOLEid99992gQYM2b97MpCoqlcrExER6ByNJsri4OD8/n97Bamtrn3/++b1797qZOhkQEKDRaKqrq5mS5ubmn3/++cEHH0QV4QkV1A8//DBnzhwmw0GtVtPVBVPt7Nu3Lysri1/tREVFsaudzMzMZcuWCVY79J1twWpn06ZNdXV1RUVFHVY7nEqj0zfYxa8cepaWLFmybt06dqtBSEgIfaARBHH9+vXMzExOv0BNTU0LFy4cM2aMyDZyDpvNxj5eaPfcc4/kO0BmZib7+lylUun1eo1GM3r0aLvdXlZWxj7dNDc36/X68vLy8ePH//LLLxMnTmQ+io2NnTdvnkwmoyiqsrIyPz+fOYvFx8dXVFSMGjXKnfmUy+X8OH7//v2c7vOREwLQKxw4cECn02k0GjENSKdOnWLfcExOTjabzfwbpiaTSbCZISIigr7vn5mZyRQqFIqcnBz6ERPOPcfs7GzB6bjUhNze3i6YChIaGnr58mVHv7p16xZnuD6Xbnr+85//1P+HQqEQX0dt2LCBM/MuhXdqtTosLKzDFujk5GTODxMSEjjr300URbFbceitbLVa2bewSZLkt1/Gx8ez9x+tVltZWclpdJ8zZ460jUOCjXBS3SwGvn379tFXWWKqnYqKCna1s3LlSovFwq92jEajYHURHh5O3+zKyMgQU+04anvOyckR027t/PaXmHZri8UyZ84cMVVHcnIySZJxcXFMiVarrampsVgsnIwmq9UqmFPR6Ts//HtfYu6YuSo9PZ2zvA0NDZxNVltby9nuwcHBNTU1zN6lVCo3btzITjlrbW3dsGEDpwLsirsxer3enTxG5IQAeCv60WmLxdLa2nrp0qWNGzc6urH466+/Mh9ptVr2rTe+oqIiwYnk5uayu0TV6XT8DDm2VatWCd7NvHjxojvnAFp6erqTH165ckXw3O/8V8z9QXqtms3m9vb2tra2S5cuOUmkCQ0N3bFjR2trKz/AtVqtnBMMJ5hOSEgwmUw3b95sbW1tb2/vMGeGJEl+U0pycrK0+xX7RC6YB8nsfuzIgNm+zNLV1dV1eM/d/Zm32Wz8J/olXyfA3gnpo6O1tfXixYsbN250dNPfpWrH0dMjJpOJPXxgTEyM82qHf/Epstphlqutre3ixYvp6emOlstJbE0f9Vartb29/datW0aj0VHbZ3JyMvuIoBs7XE01MRgMnbiu5tfwWq1W2rwy9hPnoaGhTjZ9Xl4e/5qBeb1jxw5O0w8/JV2v1/Of93B/najV6t6QWobYGqBjFy9edBT/MXVoh+cYTrMl+6zG1HoGg6HDesdisQi2qYtpQ3ISjTFtFc6fVxOMy4ODg52fF51gt5yxzZ071/kJm39S1Gq1xcXFnTiZWSwW/tQKCwsl3IXYi2kwGJyftJxsIM5J0dEwwjExMZ3LwmevYf6VjyRNWSBSRUWFoyx88dUOSZKOqh0mnOpwh6TDUME83U7cyuC0j4qMrfnVqWB4zawckXfz+FkcdLNuJyq01atXcyxHl0QAACAASURBVKaj0+ncPAzZfvrpJ+ayRK1W052uuHrOonPl2S3HP/30k6NnPd1/mJtJMun0hkZsDeCzrFarkxQRhUIh8gFzwccH2aEh+8E1V9uQOgyLGYIt3yInIvh4ipstmo56PHXSKsOPhsVcljjS1tbGb0uT8JmbU6dOsTM6OtzKjvpDjI+PZy/j5cuXHTUB6nQ692+8rly5kj9ZafNkoBNX0Uy147ylmZGTk+Ok2tFoNCIPHH4nGJ273HK0e7sacjmvTkXWSGazWfBenPO7ASKr5eTkZKm61rHZbEyNp1Qq6R4Mnddpjh5tvHDhQoeXXlIltLS0tPAn6yTz0GdgXEYAUZw8lJ2XlycyA/iZZ55x8um2bdsGDRokZjqCg+hWVFRYrVYxP//Tn/7kJKHC+cNJcrl84cKF/PLNmzdfvny5c+v2/fffFzy9TZs27cqVK4I/OXPmDPs5JIPBkJub2+kxGiiK4jzy5XwtuYQkyTlz5tDTVygU3377bYdb2e7gya34+Hj2Mh45coQ/20wQ7H5nvfyN0tLSYsfI5934zKKTaic/P99RD+gczz77rJNqbdeuXSIPnClTpvALy8vLRVY7kh9ZTlaOXq/ntyILCgwMFGz/3rdvn6t1SH19veBGlGRhU1NTmRpv9erV/CEPRdYhCQkJd955J/PWYrHwH1RlDn/36xDBKRw/ftznD17E1gCiTnKOPlKpVE888YT70zEYDCNGjHBnOpWVlTabTczPn3zyScEsQ7VaPXv27A5/PmbMGP4TRU1NTXv27Onc6h00aNDnn3/OP1PW1tbOnj2bJElOucVimTt3LvM2JiZm69at7pzDzp8/zy8U0yeuGDt37mSfFMXEQydOnBDcOhMnTuxwtmkRERHun9T5U6iqqqLHtIOepdVqOTtD50RHRw8ZMsSdaqeqqsrV2FqqI8vJHp6YmCi+kx/BMHTnzp0iq1PmElqSHlEENTQ0MH2exMTECN5A4Pj1118Fy5966in2enOyjBqNxv0RJWUyGTtLh3b9+nXE1gDgTEpKiiRD2i5YsEB8I4GjNgknwRZbQEDAP/7xD06rpFKp3LZt2+DBg8X8XPDhTvaAZ64aNWqUYOJ1cXExuyMt2vr165lB47Ra7ZYtW9zsb05wvUnS4ESS5Nq1a+nXCoXi1VdfFbNxBRvAwsLCOHuao2Ej9Xr9k08+2UWxC9qtPUFiYqIk1c6KFSvc3889bZdQq9UvvPCC+9NxabkctVtL4qOPPmLuUM2bN0/MZYNgnaZWqx9++GF2iZNJ/fWvf+2K63M3zxSIrQF8h5MqZvTo0ZJMh+5NViRHDT+1tbUip/DnP//5xx9/TE9PT0xMpHvIKi0t/ctf/tKDZ1ODwSCYeL1+/Xr2aOTl5eUrVqxgrgc2bdok5nqgw/NiF8XWP/74I9NobTAY+vXr1+FPBHvJJQhi8uTJnFl64okn+Pm4Go3miy++cGlUakf4DU5E72hz8vxq59FHH3V/OgqF4r777nMhXHBw8e9qbSBVmoQjOp3OpYttR/Pj0nLZ7XZ+u7UkLfQ2m41J2xB/m3T//v2Ca4ZTM/Tt21ew1s3IyHCzc2tmn+Gvxt5wfY7YGsAtLsXEjuoUvV7v0jAlLg025kifPn3mzZuXkZFx4MCBffv2jR8/XvypSLCXWTdrTJlM9t577/H7Imhqapo7dy6deN3Q0MAeVX7VqlUd5h12RWQjHjtPZtGiRWJ+YrVaOUNa0CZMmMApCQwM/Oqrr5hsUYVCYTAYvv76a/F3+TuxBnpDrqTnk2REktDQUJeqHUfpQF0dK7tKpVK5lCjsqOJyf7nE9FbeoTNnzjBRe3Jyspj7FSRJCl6f8x/DkMlkGRkZ7EFzY2NjS0tL2Ul3PV6LIrYG8FmC/U+p1Wo3sxGYqEiS6XQiupXJZH5+fq4OQCh4znC/Gh08eDC/W1aCICorK//2t79ZrdbXXnuNaZtPSEiQ6gQgvr3fVUwSeWJiIjMSnnN79+7lF2o0moEDB/LLhw8fTvcCfvPmzStXruTk5Nx///2SnR6EAhTkhPQ4jUYjSXWhUqkkad9lxnT0EFI9K+lqu3UXRZbMI60ajUZkrovVamWPmcB4+umnBaefmpra1tZ28+bNW7duff3111FRURK2UPTOdmuMeQ4gqoJwFFu7VHs6+rJGo5FkOl2BoiiSJKn/qK2tra2tFXxqR5K50ul0q1atWr58OaecHnG9tLSUCe43bNjg/mPsNP7iaLVaSRZn/vz5r776qkwmCwwMFDm3Bw4c4BfGxMQ4SvOQy+ViUk06t9sL7g/ds+OZzebdu3d74Gn4ySef7NOnT/dUO44u2CTZOVUqlUvTERzMlb70veuuuzxnA0n1rGRXt2uINGrUKLrXTrlcLjLXS7AHIa1WK3h9Tuvbt29XzLyfn59areYE+vToV77dpI3YGkBUvSlYdXaigggPD2eew+upcFlMs4fVat2/f//x48erq6vr6+vr6uo6bNyV6uySkpLCGTSOxgTWSqUyKytLkme5HJEqfCEIwqXA12azCTY4RURE9MglZQ/ugZGRkYcOHfLA2mDs2LEVFRWSZLR3+oDqkUtxR7G1DzSddNHGkmrNu3otJ5hsHRYW1g07LX8N8Jul6FFvEFsDgGT1cpe2w7lTW9HDKBw5ciQnJ8dkMgmOpyVmIu7XmHK5fMuWLY888oijPq1Wr14tPjvcuyJLRzdzH3vsse6fmR7MCTlz5oxnBtYEQRw5cuTcuXMiM3w8/MJPkrrL04KkHmm39pw1Q5KkYB0SHh7e/fMjWIcIJor4GORbA3S+inT1pmpPnfw6rItPnjw5f/78kSNH6vX6TZs2OQ+sw8PDBUdtkMlkUq0NR4nXBEHExMTMmzevG7Zvj9T+gsnW/Kf7u0cPdmWtVqvfeOMNz6wNFixYMHz48O6pdgR3QldTyByRqh26p+IkRytBknxrSTo/6ZE14+j6nP8wdPfUIfzsFORbA4CzusDVfGsPZDKZ1qxZ42gUYpperw8LC4uMjIyMjJTL5Xa7/YknnuBX33TmjFQrRKfTrVy5kuluj1FSUmIymXQ6nYQrgf9oJn3Xsvs3h6OesyR5dk2S3b57dvigoKB//OMfq1at8sBDpl+/flIl+ne4/rt0bQs+Q+ID1XKP8JwHfwWTrR09DN0NsTW/pcYHzpuIrQE8iKclVf/1r3/lj8zCMBgMkydPnjBhwqBBg9gdiXRbc+aSJUvKy8v5idfTpk07dOiQ+91aM+644w5OSW1tbfefFx01OAkOcd8958WeDVZuu+02VBqS0Ov1gh07em/1JSFJLtQ9J7YWHK29p+59CV4fetr93i6pvlDpAHjdecX9mbly5crDDz/sKLBOTk6+ePFidnZ2fHz80KFD+T30CQ6ZLrnGxkbBWNPRWOiSnxU8JLbukZu5RFd2TQjdWef4ahzjUetHJpPxB3Lq/jrEZrOxR9piCI4D1T2xda/aJxFbA7hWb0pVS3rCfcxr16498cQTggPParXa6urqdevW3Xnnna52ei15oDlp0iT+zU1acXHxpk2bJKsHPaPNyaOSrR3F1lJ1HgxiSHIR66vprVLFi5KsHz8/P/5TKIIDuHR1tSkYW/fU9XnP3vtCbA3gBeG1byyIzWabOnWq4NOKGo1m9+7dISEhPb4q7Hb7woULmZkUfHRyxYoVgmeRTuDnhPRIRFJYWCgYW/dIsrWj86LgugLo5XWy4Mx0/6g6R48e5f9TrVY7YMCAHlktgjkhvWGwRsTWAKIqCJfKPdmKFSsEMy+1Wu3evXvFJDHb7XZHveNJJS8vLysriwmsCwsL+Y8bssdCd5MntMU6anDqkZ6tnZ0z/HDW6D6C18BSPePo7e3ZJ06c8JyY28/PzxPW5/bt2/mFPdKztZN9rHtSChFbA3jrSc7rrr8vXbrkKJUiMzNTZNuGyNiaGcrR1VNORUXFggULmLcZGRnh4eGZmZn8b9Jjobt/ShOMF7s52/jq1auC+5j4m7nl5eXFxcX8Rz87jd9urdfrEVt3Z1wimBMlVYqatzcfOmoV7qkYt8f7XbFarRUVFfxy8T1bnz59mq5Dfv/9d6nqEP5Yab2hDkEtCSCKo8Rf7/Lpp58KLojBYJB2NBaLxRIeHh4ZGRkREZGRkSH+hzabLSUlhTlrJiQkGAwG4j9jofO/n5WV5agnbJeCDP5zSOfPn5fwkqakpGTJkiU7d+68evWq4HcEk621Wq3IhBC6X8LJkyfHxsZKkipjt9tramr4hT2bhd/bYmtJpiNVx/OeFot72vzw+wuvr6+XKuG4vb29tLR07dq1+fn5Z86ccRRbC96THDNmjJh/YTabJ02aRNch69ev77p9ePTo0YitAUDKhpAevJlrs9l27twp+NG0adPEtyWI+e/04+pGo9FkMrmUQLJ8+XKmnUOr1W7cuJFZYykpKTExMfyfLFiw4OTJk27Vg35+/DanX3/9VZIttWbNmpCQkNjY2HXr1kVHRw8fPvzgwYOcr1EUJdjFeFhYmJjY2m63p6Wl0a+VSqXIU2mH02xpaeEUajQatFt7Y/UlSQ3maTkknjY//Gcr6+vrJenOyGQyjRw5MiYmZunSpfHx8Q888EBKSgr/a19//TW/UK1W33vvvWL+y+7du5mbdaGhoZKsE8En5nvDMxuoJQF6C5vN5qiP23vuucelU1oXtRjl5eWlpqYyMWJWVhY7TVAul3/yyScqlYrzq6amJoPBYLFY3Imt+fnc7ueU2+32uXPnLlu2jH3zurm5+aWXXuKEBRaLRbCxWavViollGxoaSktL6dfR0dH9+vWTJHDh7y39+/fvDc8h+R7nI6328iYPqXrzuPvuu/mr3f1269LSUr1ez0lRS01N5bReO7o+12g0YpKtbTYbk3enUqmef/55SdbJ9evX+XVab7j3hdgaoLdwcioS2bDBVOKCcafJZGL+BTsCExmNlZeXz58/n3m7evVqfprKkCFD8vPzBVtHFi1a1Ok1I5gT4v793PLycuaJTE7Ubjab2SVHjhwRTO8WefP0q6++YlJ93FkPnK3M33A91Usu8PdYl77vKG/bo2LcniLVyuG3UDQ3N7vZbt3e3j537lzBjw4fPizm+lyj0YiJZc+cOcM8qhEbGxsYGNhFF3UKhQKxNQA4O3l410NFTv6LSyeA3bt3O2rTZdaGq1HppUuXDAYD074bFxfn6Iyi0+mSk5P55W4mXvPPi27ezyVJcvXq1Y4+5TwqlJ2dLfg1MbF1Y2Mj09iv0WgeeeQRSfYWkiT57dYu3d+AHrlOdunyCWtSwpUcEBDA7wHj2LFj7szDli1bHD1UzXmU09H1ucjsjpUrVzKv33jjDanWIf95U51Oh9gaADpo8HApLO7ZBh65XM7PfKCdO3dO5ESsVqtgWywndmcvaYc9Ll25ciUmJoaJ19Vq9datW52s2JUrVwoOUzx//vxTp051buWMHTuWU1JVVeVObG2z2fjPAtKUSuUf//hH5m17e7tgHryYBh6SJN966y1m1a1du1aq85bNZuPPj0v3N6D7L5Jdws+n757qq6urQVfXj1TzExAQMGzYME4hPynCpRlz0lsRu+dQiqLS09MFvyYmuTknJ4e5H5icnDxy5Eip6hD+QLNSZXIjtgbwhZOZYP3biXQ6wfOZq5W7o5OH85NKQEBAWFiY4Edr1qwROQ9ffPFFUVGRk1CPfsHvd8mRgwcPPvnkk+yualUqlfMAMSAg4OOPP+YPKNPU1BQXF9e5xOuAgABOWoib93NJknR0XkxISOjbty/z9vvvvxf8ppjuHTIzM5nW+oSEBMFnPTuH32+J+E5LQCqCR2VdXZ0k4aCrSdiO+krqqRR8R/9Xkh5+HD2a4hy/p3x3ZoYkSX5sSuPcoWpsbGSeuHDVhQsXFi5cyLRrvP3221JtIKvVeuHCBU6hJE9aI7YG8AVWq/XGjRviY25Hrly5IvjctKsNSGfPnhUsv3btmvMfMnUoR35+vuBzMBwmk4mdEs0/GzFXGuycB37Did1ut1gsJ0+eXLJkSXR0NGedXLhwob293fmcjBo1Kjo6ml9eWVk5a9Ysq9Xq6iaWy+X8lOvjx493ep+Ry+WC/d1qtVr27ddLly45WqXNzc1Oepm12+3p6enMBtVoNCtXrpQwg5YfW+j1esTWnlDtuPokgKPxlVxtFxDsJlJMtcOxb98+Sabj6OgQfxeOXgmOrhk6cWnNDxyrq6s7fSEkWCkRBKFUKjdv3sw8oWi1WufMmeOot2/n/R1VVVVNnjyZ+e3mzZvFDB8mfgNxWg2USmUvufeFihKA6+rVq0eOHKHjZoqiKisr8/PzBdt4jEbjokWLYmNjmc4cZDLZ2LFjBw4cSBDE6dOnz58/Tw+eQlGUyWRy1LRQUFAwbNiw0aNHy+VyuhcOu90+adIkerIVFRXNzc30RJqamqqqqj7//HPB6axYsaKlpSU4OJgeJIz+O2nSJCbkCgkJSUhIEEzqmDFjxvbt2x2NAkiSZElJycsvv0zXwhqNJiQkhD8bH3744ZIlS9rb2zdv3swEZI888ojdbt+5c6dMJqMoqra2trKysry8XPAygyCI2trauLi4lJQUwcSPn3766dy5c4WFhQUFBYI/z8vLq66ujomJ0Wq1dFhPL/699947YsQIJ9s9MjKSM839+/cLzoOoutXfX6PRcBLTExIS1qxZw5wU29vbExMTmdNPVFQUJznks88+W7p0qWC09N577zHDACkUik8++UTCYY2tVis/ocVRQhFIorGx8ejRo/TuSpLkiRMnCgoKHFU7CxcunDx5suw/CIJgqp2ffvqptraWqXaMRqOjnjc//vjjP/zhD0xfNHS1ExUVRU+wvLy8paWFqXacVF+pqanNzc133303U+0oFIpx48bR02GqL+I/SQ6OksoMBkNUVNSf/vQnZqGYustut1dUVNy4cYPuT/DatWtGo9HRMFjLly+vr68PDg6mfyuTyZRKJf1gNFMR0ctVW1tLj7gkOJ0XX3zRYDDccccd9HT8/PyCg4Od50s89thjnJKKigqr1dq5RwNlMhn/oNNqtZ988smf//xn5tpg8+bNzL3EmJgYk8nEvlooKChITEzk3wkkSTI/P3/hwoVMYJ2RkTFp0iQJd2n+RZTITkt8gR0A/tuOHTvcOaZ27NhBT2fx4sXuTOfmzZt2u91qtTpK5BCp/f+2d78xbdR/AMd7BUX3oMVkGSyO7k8MjtmauCUaKWR7YqTgcBmJthsmToPghn9IBihs2RM7h8ZIInMsPjDKP2OQOClgpgk6gRhmkICbgJpsgFC3B1Ido+X65/fg8rvcruVvy2bb9+vZ3Wh337t+v/e5z33/uN3K0nm93kXixcrKSrfbPT8/L/+xx+O5dOlSXl6esn10Op0LdSbOyspSrqHgcDgCgcDNmzdXetjJyclzc3OqS+P3+8vLy1d3HsrLyxe/7iMjI8E3e6/Xu+ofUmNjo7I4X3zxhXxiPR7PlStXCgsL5T8oKSkRRTH40pw7d04URSlUEkVxbm7O4XAoz7Ber+/r64tsFZidnQ3ucjM1NUXjsHZCrla90mbH7/dHpNmZn58Pp9nJzMz0eDzhN19yC+B2u1f9lCsdj1T1bty4Ec7JOXr0qFQTFxFc3nAqzvT0tLImFhUVSRdIOrc3btxQDpg2Go0+ny94jS2bzeZ0On0+n9Sku93uP//8U9mkazSaurq6yP6efT5f8CTcdrs9TqozeWsgRLYgIh+P1Av6yHZnTEhI+P777wsLC0PmfWtqampqarKzs6U7xC+//DIxMaFMMOfm5n7yySfr16/fsGFDyBS4si9BcXGxqgVfvoVeca76bCz5wQceeCAtLW1iYkLe09fX5/V6Vz068Nlnnz1z5ozUY3JmZqagoCA7O9tsNgcCgcnJyY6ODrmMubm50uSybW1t6enpyrTT008/bTKZcnNzBUHo6ekZHh5W/mtaWlpra2uk5gaR/fHHH6oX5UajMYJ5caxdsxOpxX3COZ5VTMF5245nrY9h7969qrnwBgYGVt0MpqamVlRUVFdXy68azp8/n5OTc99997lcrs7OTvmtl06n+/LLL7Va7RtvvDE8PKxs3ltaWvr6+iwWi16vn5iY6O3tVXXVOH369OHDhyP7exZFMbiz+O7du+OlPpMtAFTa29vDqVPt7e3S96w6w6rKW4eTsAnOW8sJYIfDsdJvrqioUOZxRVEM2R1Qbq/lv1xF3lqj0dy8eTP4sENOwLfMg1/y0hcXF6s+denSpXB+S6OjoyF7XStZrVblR5xO5yJnVclsNl+7dm0tqsCnn36q+r+Ki4tpGf7Lr8ukZiecCqLKW4fT7JjNZjlvHc73KPPWS043tPjxRCRvXV5evmTeOniN2OW0PIsngJcco2w0Gq9fv678SHBTFlJaWtqPP/64Fr/n4KECer0++FUkeWsgXuj1eul+oNfrTSaT1FNQNWxREITx8XFlb1r5D+RXeJs2bcrKygoEAgaDIXg1wUW+R6NYuUMQhB07dkhfvnnz5uA5nuSPqDKa0v6QK4BI/5SXl/fkk0+Ojo7a7faQC7LIDAaDxWJ55ZVXHnroIeX+xMTEn3/+ubS0VJW9tlqtx48f37Fjh7xHq9VmZmYKgrD4qZD6mkuZb6njZvDf3H///dJZVV4g+bOBQKC3t9dkMun1evmESPsX+n+V8vPzVWXp7u5WFmSl0tPT+/v7T5w4EbKPaVpaWmVlpWosY0pKysDAwLFjxz777LOF5hHPysqqqqoKOZozfNJ69aqdzz33HC3DmtLpdMHNzjKbi0AgkJycrKogcl1Ttl1yTVE1F3KzI72lEQRBruwmk0mn04VsA4ObHWlnRkaGqvmSDjK4+gcPB//nn3+kXubK9V+1Wm1GRob0l0ajUWpjQx6PagyutFM+hoSEBKkhkirRQifZ5XIF93QXBGHTpk2re/0liuKq+xlrtdr29vYzZ85UV1cHD7vU6XQvvfRSVVWVcsi4Vqutr6/Pzs4+derUQqtOGgyGysrKkpKSSL3oUAme2NtisURqSZooeA0V7SsqAWvxMkfuCRDcksoNuhzMaf4/VZY07j4xMVH6lNS/TR6Xo/oq6bOqCig/9Wo0Grkt9nq98mCa4BvSQt8jH8+Sbbrf73c6nYODg3///ffQ0NDExMTExEQgEDCbzcnJybt37961a1dSUtLiCebvvvvO7/dv27Zt27ZtSUlJwedNFEVBEORRUwvdWeWT4Pf7Qx65z+eTHhiUA7nkiEFz64KCUpJJ+s6EhIQl7yJutzslJUU5bYvNZmtsbAzz9iNls65cuXLhwoXx8XHpGWPnzp0FBQWLdDhxu91tbW2Dg4OTk5Pj4+M6ne7hhx/esmXLvn371q9fv3ZTdrjd7u3btyvfGhsMhrGxscV/AwiT3+/3+/2qChKy2QlZze9UsxN8YKpmR3rTJZcruMIGJy+kb1C1AFIDIrchyzweeadcX0RRVLXtqu9RTZ+i/DZBEJbTQ6ykpET1LD07O7tu3bowfyFTU1ODg4ODg4Mul6uvr89sNm/dunX//v3SGNaQRFHs7+//6quvXC6X9ArOaDRu2bJlz549jzzyyNrV6EAg8Pbbb8tdWSQdHR0RnCSU2BpAlN3j5XvznZq59g4+Vh04cEDZVdFgMPz2228RTLdIN/sVBetS1JWQkHB7Lkdvb6/q/Xt5ebm89COAldagpqamAwcO3ME2RMpWKJ9M1pQoirt27VLm/uPt+Zz5rQHc2ihotVKKN94Ca41GIwhCaWmpcs/4+PjFixcj+1+s9Pam1WrlrORtUFdXp9rz/PPPUy+AZXr00UdVQyYcDkcEV5hfRRsiZdxvT2Ct0WguXryo6lRjtVrj6sUXsTUA3HJfVOWcpNmp4qT4brdbNY2xzWZ78MEH+WEAy3TXXXeVlJQo93R2dno8njgpfvBgaL1e/9prr8XVb4DYGgBuuS9arVblnq6uriXXiYwZra2tqvFS1dXVq56FEIhPBQUF0gBQicvl+vjjj+Ok7HNzc6oJXi0Wy8aNG4mtASB+vfDCC6r7YltbWzwUfH5+XnVTNJvNiy9EByBYSkqKzWZT7uno6PB6vfFQ9ra2NtXz+fHjx+OthyGxNQDc4t5771W90m1ubo5gd8n/LKfTqVr/uaqqiqQ1sFKCILz66qvKPZ2dndevX4/5gns8nq+//lq5x2azZWRkxNsPgNgaANTKysqUqevOzs7gFdFjjNfrldaGVN4Uc3Jy+DEAq5CRkaFawKW2tjbmSz06OtrU1CRv6nS69957Lw6HxRNbA4BaamrqyZMnlXveeustn88Xw0V2Op319fXKPceOHbttEwsAMUYQhBMnTigf0c+ePTs9PR3DRRZFsaamRrmnpKQk3npaE1sDwIKKiopMJpO82dLSEsOpa7/fb7fbZ2Zm5D0VFRXhLEgJYOPGjcreZS6Xq7a2NoYnHerv729ubpY3DQZDWVlZnD5ZsXYMAITU0dHx1FNPyZsRWaPxv+ny5cvKBe11Ot3Y2FhKSgq/ASAcHo8nPT1dXqY+OTn58uXLMZnK9fl8e/bsUa4539jYePDgwfi87uStASA0i8WiHOzf0tKimvs5ZlRUVCg3T548SWANhC8pKUk5jGFmZqaoqCgme5edP39eGVibzeZnnnkmbq87eWsAWNBff/31xBNPyGuMbd68eWRk5J577omlMjocjr1798qbWVlZ3d3diYmJXH0gIiorK9955x15M/YSum63e/v27VevXpU29Xp9V1fX448/HrdXnLw1ACwoJSWlvr5er9dLm1evXn399ddjKSUxOzv77rvvyps6ne7zzz8nsAYiyG63m81mefPIkSNOpzNmSufz+d5//305sJaeJeI5sCa2BoAlZGZm2u12efPs2bOdnZ2xUbT5+fny8vILFy7Ie1paWuJzXD+wdhITWPmqHAAAAwtJREFUE1tbW+U5Q1wu19GjR2Nmyvyenh5lVt5qtVZWVsb5FSe2BoAlHD58WNnx+uDBg7/++mu0FyoQCHz00UfKzqCnT5/Ozc3lcgMRl5qa2tXVJb8Ba2pqOnXqVAyUa3Jyct++ffIUQ2azuaGhgbk76W8NAEvz+/2FhYUtLS3Spslk+umnn+6+++7oLdEPP/yQn58v3xTr6uqOHDnChQbWTm9vb1ZWlnIzMzMzeovjdrsfe+yxoaEhuVX89ttvN2zYwIUmbw0Ay2grtdqGhgY5ez08PHzo0KHofas7NTWlDKw/+OADAmtgrZnN5g8//FDezM3Njd7VZHw+34svvqgMrL/55hsCa2JrAFiBhISEhoYGuddEc3NzlL7VnZ+ft1gscmBts9lKS0u5vsBt8PLLL8vhtcvlysnJuXbtWjQWpL6+Xl4pRgqsmbiT2BoAVhNed3R0WK1WabO6ulq5DllUCAQChw4dkrNNFRUVUVcEINrD65aWFqnv9dDQUFlZWdTNeN3b2ys/kBuNxu7ubgJrJfpbA8DK+P3+N998Uxoan5aWNjIysm7dumg5eHkJRr1eb7fb6QoC3KnwNC8vz+VyaTSac+fO5efnR8uRi6K4f/9+h8Oh0WhsNlttbS1dQYitASACenp6/v333507d0Zdwqavr29mZmbr1q0ZGRlcR+BOmZ6eHhgYSE5OzszMFAQhio58bGzs999/DwQCFouFWUGIrQEAAIC1wtMGAAAAQGwNAAAAEFsDAAAAxNYAAAAAiK0BAAAAYmsAAACA2BoAAAAgtgYAAABAbA0AAAAQWwMAAADE1gAAAACxNQAAAABiawAAAIDYGgAAACC2BgAAAEBsDQAAABBbAwAAAMTWAAAAALE1AAAAAGJrAAAAgNgaAAAAILYGAAAAiK0BAAAAEFsDAAAAxNYAAAAAsTUAAAAAYmsAAACA2BoAAAAgtgYAAACIrQEAAAAQWwMAAADE1gAAAACxNQAAAEBsDQAAAIDYGgAAACC2BgAAAIitAQAAABBbAwAAAJH2P4JptLjwhonSAAAAAElFTkSuQmCC)"
      ],
      "metadata": {
        "id": "uTgJo32I5UJI"
      }
    },
    {
      "cell_type": "code",
      "source": [
        "def MinMaxScaleData(data)\n",
        "  from sklearn.preprocessing import MinMaxScaler\n",
        "  scaler = MinMaxScaler()\n",
        "  scaler.fit(data)\n",
        "  return scaler.transform(data)\n",
        "\n"
      ],
      "metadata": {
        "id": "ZMeJWbJj2nXw"
      },
      "execution_count": null,
      "outputs": []
    },
    {
      "cell_type": "markdown",
      "source": [
        "\n",
        "\n",
        "---\n",
        "\n"
      ],
      "metadata": {
        "id": "i-NBH5yX9w3e"
      }
    },
    {
      "cell_type": "markdown",
      "source": [
        "-------------------------------------------------------------------------------------------------------------------------------------------------------------------------"
      ],
      "metadata": {
        "id": "R9A08G7uG6SF"
      }
    },
    {
      "cell_type": "code",
      "execution_count": null,
      "metadata": {
        "id": "FigW9TKuDVKo"
      },
      "outputs": [],
      "source": [
        "import numpy as np\n",
        "import pandas as pd"
      ]
    },
    {
      "cell_type": "code",
      "source": [
        "\n",
        "#dataset=pd.read_csv(\"https://raw.githubusercontent.com/RafsanJany-44/Machine-School/main/datasets/Machine_readable_file_mei_march_2022.csv\")\n",
        "\n",
        "dataset=pd.read_csv(\"https://raw.githubusercontent.com/RafsanJany-44/Machine-School/main/datasets/REM_NREM_O2.csv\")\n",
        "\n"
      ],
      "metadata": {
        "id": "EUBuA08XNFXX"
      },
      "execution_count": null,
      "outputs": []
    },
    {
      "cell_type": "code",
      "source": [
        "dataset.head()"
      ],
      "metadata": {
        "colab": {
          "base_uri": "https://localhost:8080/",
          "height": 317
        },
        "id": "JtBNLDg_N0ee",
        "outputId": "a5c6714f-ebe7-4506-cfa2-6d6dff07dd05"
      },
      "execution_count": null,
      "outputs": [
        {
          "output_type": "execute_result",
          "data": {
            "text/plain": [
              "  Sleep_Stage  MeanP_Alpha_O2  MedianF_Alpha_O2  MeanF_Alpha_O2  \\\n",
              "0        NREM         0.00023          10.61463        18.48195   \n",
              "1        NREM         0.00023          10.36488        18.10732   \n",
              "2        NREM         0.00025           9.74049        17.35805   \n",
              "3        NREM         0.00027           9.49073        17.60780   \n",
              "4        NREM         0.00036           9.24098        16.48390   \n",
              "\n",
              "   Spectral Edge_Alpha_O2  PeakF_Alpha_O2  MeanP_Beta_O2  MedianF_Beta_O2  \\\n",
              "0                17.98244        10.73951        0.00034         18.23220   \n",
              "1                17.48293        10.24000        0.00032         18.10732   \n",
              "2                16.73366         9.86537        0.00031         17.23317   \n",
              "3                16.85854         8.11707        0.00033         17.73268   \n",
              "4                15.98439         8.11707        0.00039         15.98439   \n",
              "\n",
              "   MeanF_Beta_O2  Spectral Edge_Beta_O2  ...  MeanP_Delta_O2  \\\n",
              "0       25.84976               28.47220  ...         0.00112   \n",
              "1       26.22439               28.72195  ...         0.00070   \n",
              "2       26.47415               28.84683  ...         0.00077   \n",
              "3       26.47415               28.59707  ...         0.00130   \n",
              "4       24.47610               25.97463  ...         0.00123   \n",
              "\n",
              "   MedianF_Delta_O2  MeanF_Delta_O2  Spectral Edge_Delta_O2  PeakF_Delta_O2  \\\n",
              "0           0.74927         6.36878                 2.87220         0.62439   \n",
              "1           0.99902         6.86829                 3.62146         0.74927   \n",
              "2           1.49854         6.49366                 4.12098         0.74927   \n",
              "3           1.87317         6.11902                 3.74634         0.37463   \n",
              "4           1.49854         6.61854                 3.74634         0.74927   \n",
              "\n",
              "   MeanP_Gamma_O2  MedianF_Gamma_O2  MeanF_Gamma_O2  Spectral Edge_Gamma_O2  \\\n",
              "0        0.000076          32.71805        43.83220                49.95122   \n",
              "1        0.000072          32.09366        44.33171                49.95122   \n",
              "2        0.000069          33.09268        43.95707                49.95122   \n",
              "3        0.000070          31.59415        42.83317                49.95122   \n",
              "4        0.000060          29.47122        45.08098                49.95122   \n",
              "\n",
              "   PeakF_Gamma_O2  \n",
              "0        49.95122  \n",
              "1        49.95122  \n",
              "2        49.95122  \n",
              "3        49.95122  \n",
              "4        49.95122  \n",
              "\n",
              "[5 rows x 26 columns]"
            ],
            "text/html": [
              "\n",
              "  <div id=\"df-5429b818-9360-4551-9357-83898b2d2ee5\">\n",
              "    <div class=\"colab-df-container\">\n",
              "      <div>\n",
              "<style scoped>\n",
              "    .dataframe tbody tr th:only-of-type {\n",
              "        vertical-align: middle;\n",
              "    }\n",
              "\n",
              "    .dataframe tbody tr th {\n",
              "        vertical-align: top;\n",
              "    }\n",
              "\n",
              "    .dataframe thead th {\n",
              "        text-align: right;\n",
              "    }\n",
              "</style>\n",
              "<table border=\"1\" class=\"dataframe\">\n",
              "  <thead>\n",
              "    <tr style=\"text-align: right;\">\n",
              "      <th></th>\n",
              "      <th>Sleep_Stage</th>\n",
              "      <th>MeanP_Alpha_O2</th>\n",
              "      <th>MedianF_Alpha_O2</th>\n",
              "      <th>MeanF_Alpha_O2</th>\n",
              "      <th>Spectral Edge_Alpha_O2</th>\n",
              "      <th>PeakF_Alpha_O2</th>\n",
              "      <th>MeanP_Beta_O2</th>\n",
              "      <th>MedianF_Beta_O2</th>\n",
              "      <th>MeanF_Beta_O2</th>\n",
              "      <th>Spectral Edge_Beta_O2</th>\n",
              "      <th>...</th>\n",
              "      <th>MeanP_Delta_O2</th>\n",
              "      <th>MedianF_Delta_O2</th>\n",
              "      <th>MeanF_Delta_O2</th>\n",
              "      <th>Spectral Edge_Delta_O2</th>\n",
              "      <th>PeakF_Delta_O2</th>\n",
              "      <th>MeanP_Gamma_O2</th>\n",
              "      <th>MedianF_Gamma_O2</th>\n",
              "      <th>MeanF_Gamma_O2</th>\n",
              "      <th>Spectral Edge_Gamma_O2</th>\n",
              "      <th>PeakF_Gamma_O2</th>\n",
              "    </tr>\n",
              "  </thead>\n",
              "  <tbody>\n",
              "    <tr>\n",
              "      <th>0</th>\n",
              "      <td>NREM</td>\n",
              "      <td>0.00023</td>\n",
              "      <td>10.61463</td>\n",
              "      <td>18.48195</td>\n",
              "      <td>17.98244</td>\n",
              "      <td>10.73951</td>\n",
              "      <td>0.00034</td>\n",
              "      <td>18.23220</td>\n",
              "      <td>25.84976</td>\n",
              "      <td>28.47220</td>\n",
              "      <td>...</td>\n",
              "      <td>0.00112</td>\n",
              "      <td>0.74927</td>\n",
              "      <td>6.36878</td>\n",
              "      <td>2.87220</td>\n",
              "      <td>0.62439</td>\n",
              "      <td>0.000076</td>\n",
              "      <td>32.71805</td>\n",
              "      <td>43.83220</td>\n",
              "      <td>49.95122</td>\n",
              "      <td>49.95122</td>\n",
              "    </tr>\n",
              "    <tr>\n",
              "      <th>1</th>\n",
              "      <td>NREM</td>\n",
              "      <td>0.00023</td>\n",
              "      <td>10.36488</td>\n",
              "      <td>18.10732</td>\n",
              "      <td>17.48293</td>\n",
              "      <td>10.24000</td>\n",
              "      <td>0.00032</td>\n",
              "      <td>18.10732</td>\n",
              "      <td>26.22439</td>\n",
              "      <td>28.72195</td>\n",
              "      <td>...</td>\n",
              "      <td>0.00070</td>\n",
              "      <td>0.99902</td>\n",
              "      <td>6.86829</td>\n",
              "      <td>3.62146</td>\n",
              "      <td>0.74927</td>\n",
              "      <td>0.000072</td>\n",
              "      <td>32.09366</td>\n",
              "      <td>44.33171</td>\n",
              "      <td>49.95122</td>\n",
              "      <td>49.95122</td>\n",
              "    </tr>\n",
              "    <tr>\n",
              "      <th>2</th>\n",
              "      <td>NREM</td>\n",
              "      <td>0.00025</td>\n",
              "      <td>9.74049</td>\n",
              "      <td>17.35805</td>\n",
              "      <td>16.73366</td>\n",
              "      <td>9.86537</td>\n",
              "      <td>0.00031</td>\n",
              "      <td>17.23317</td>\n",
              "      <td>26.47415</td>\n",
              "      <td>28.84683</td>\n",
              "      <td>...</td>\n",
              "      <td>0.00077</td>\n",
              "      <td>1.49854</td>\n",
              "      <td>6.49366</td>\n",
              "      <td>4.12098</td>\n",
              "      <td>0.74927</td>\n",
              "      <td>0.000069</td>\n",
              "      <td>33.09268</td>\n",
              "      <td>43.95707</td>\n",
              "      <td>49.95122</td>\n",
              "      <td>49.95122</td>\n",
              "    </tr>\n",
              "    <tr>\n",
              "      <th>3</th>\n",
              "      <td>NREM</td>\n",
              "      <td>0.00027</td>\n",
              "      <td>9.49073</td>\n",
              "      <td>17.60780</td>\n",
              "      <td>16.85854</td>\n",
              "      <td>8.11707</td>\n",
              "      <td>0.00033</td>\n",
              "      <td>17.73268</td>\n",
              "      <td>26.47415</td>\n",
              "      <td>28.59707</td>\n",
              "      <td>...</td>\n",
              "      <td>0.00130</td>\n",
              "      <td>1.87317</td>\n",
              "      <td>6.11902</td>\n",
              "      <td>3.74634</td>\n",
              "      <td>0.37463</td>\n",
              "      <td>0.000070</td>\n",
              "      <td>31.59415</td>\n",
              "      <td>42.83317</td>\n",
              "      <td>49.95122</td>\n",
              "      <td>49.95122</td>\n",
              "    </tr>\n",
              "    <tr>\n",
              "      <th>4</th>\n",
              "      <td>NREM</td>\n",
              "      <td>0.00036</td>\n",
              "      <td>9.24098</td>\n",
              "      <td>16.48390</td>\n",
              "      <td>15.98439</td>\n",
              "      <td>8.11707</td>\n",
              "      <td>0.00039</td>\n",
              "      <td>15.98439</td>\n",
              "      <td>24.47610</td>\n",
              "      <td>25.97463</td>\n",
              "      <td>...</td>\n",
              "      <td>0.00123</td>\n",
              "      <td>1.49854</td>\n",
              "      <td>6.61854</td>\n",
              "      <td>3.74634</td>\n",
              "      <td>0.74927</td>\n",
              "      <td>0.000060</td>\n",
              "      <td>29.47122</td>\n",
              "      <td>45.08098</td>\n",
              "      <td>49.95122</td>\n",
              "      <td>49.95122</td>\n",
              "    </tr>\n",
              "  </tbody>\n",
              "</table>\n",
              "<p>5 rows × 26 columns</p>\n",
              "</div>\n",
              "      <button class=\"colab-df-convert\" onclick=\"convertToInteractive('df-5429b818-9360-4551-9357-83898b2d2ee5')\"\n",
              "              title=\"Convert this dataframe to an interactive table.\"\n",
              "              style=\"display:none;\">\n",
              "        \n",
              "  <svg xmlns=\"http://www.w3.org/2000/svg\" height=\"24px\"viewBox=\"0 0 24 24\"\n",
              "       width=\"24px\">\n",
              "    <path d=\"M0 0h24v24H0V0z\" fill=\"none\"/>\n",
              "    <path d=\"M18.56 5.44l.94 2.06.94-2.06 2.06-.94-2.06-.94-.94-2.06-.94 2.06-2.06.94zm-11 1L8.5 8.5l.94-2.06 2.06-.94-2.06-.94L8.5 2.5l-.94 2.06-2.06.94zm10 10l.94 2.06.94-2.06 2.06-.94-2.06-.94-.94-2.06-.94 2.06-2.06.94z\"/><path d=\"M17.41 7.96l-1.37-1.37c-.4-.4-.92-.59-1.43-.59-.52 0-1.04.2-1.43.59L10.3 9.45l-7.72 7.72c-.78.78-.78 2.05 0 2.83L4 21.41c.39.39.9.59 1.41.59.51 0 1.02-.2 1.41-.59l7.78-7.78 2.81-2.81c.8-.78.8-2.07 0-2.86zM5.41 20L4 18.59l7.72-7.72 1.47 1.35L5.41 20z\"/>\n",
              "  </svg>\n",
              "      </button>\n",
              "      \n",
              "  <style>\n",
              "    .colab-df-container {\n",
              "      display:flex;\n",
              "      flex-wrap:wrap;\n",
              "      gap: 12px;\n",
              "    }\n",
              "\n",
              "    .colab-df-convert {\n",
              "      background-color: #E8F0FE;\n",
              "      border: none;\n",
              "      border-radius: 50%;\n",
              "      cursor: pointer;\n",
              "      display: none;\n",
              "      fill: #1967D2;\n",
              "      height: 32px;\n",
              "      padding: 0 0 0 0;\n",
              "      width: 32px;\n",
              "    }\n",
              "\n",
              "    .colab-df-convert:hover {\n",
              "      background-color: #E2EBFA;\n",
              "      box-shadow: 0px 1px 2px rgba(60, 64, 67, 0.3), 0px 1px 3px 1px rgba(60, 64, 67, 0.15);\n",
              "      fill: #174EA6;\n",
              "    }\n",
              "\n",
              "    [theme=dark] .colab-df-convert {\n",
              "      background-color: #3B4455;\n",
              "      fill: #D2E3FC;\n",
              "    }\n",
              "\n",
              "    [theme=dark] .colab-df-convert:hover {\n",
              "      background-color: #434B5C;\n",
              "      box-shadow: 0px 1px 3px 1px rgba(0, 0, 0, 0.15);\n",
              "      filter: drop-shadow(0px 1px 2px rgba(0, 0, 0, 0.3));\n",
              "      fill: #FFFFFF;\n",
              "    }\n",
              "  </style>\n",
              "\n",
              "      <script>\n",
              "        const buttonEl =\n",
              "          document.querySelector('#df-5429b818-9360-4551-9357-83898b2d2ee5 button.colab-df-convert');\n",
              "        buttonEl.style.display =\n",
              "          google.colab.kernel.accessAllowed ? 'block' : 'none';\n",
              "\n",
              "        async function convertToInteractive(key) {\n",
              "          const element = document.querySelector('#df-5429b818-9360-4551-9357-83898b2d2ee5');\n",
              "          const dataTable =\n",
              "            await google.colab.kernel.invokeFunction('convertToInteractive',\n",
              "                                                     [key], {});\n",
              "          if (!dataTable) return;\n",
              "\n",
              "          const docLinkHtml = 'Like what you see? Visit the ' +\n",
              "            '<a target=\"_blank\" href=https://colab.research.google.com/notebooks/data_table.ipynb>data table notebook</a>'\n",
              "            + ' to learn more about interactive tables.';\n",
              "          element.innerHTML = '';\n",
              "          dataTable['output_type'] = 'display_data';\n",
              "          await google.colab.output.renderOutput(dataTable, element);\n",
              "          const docLink = document.createElement('div');\n",
              "          docLink.innerHTML = docLinkHtml;\n",
              "          element.appendChild(docLink);\n",
              "        }\n",
              "      </script>\n",
              "    </div>\n",
              "  </div>\n",
              "  "
            ]
          },
          "metadata": {},
          "execution_count": 5
        }
      ]
    },
    {
      "cell_type": "code",
      "source": [
        "dataset.shape"
      ],
      "metadata": {
        "colab": {
          "base_uri": "https://localhost:8080/"
        },
        "id": "zVzj0ZxZN3HG",
        "outputId": "50c68641-e576-4051-e68b-763e0705102f"
      },
      "execution_count": null,
      "outputs": [
        {
          "output_type": "execute_result",
          "data": {
            "text/plain": [
              "(89096, 26)"
            ]
          },
          "metadata": {},
          "execution_count": 76
        }
      ]
    },
    {
      "cell_type": "code",
      "source": [
        "dataset.info()"
      ],
      "metadata": {
        "colab": {
          "base_uri": "https://localhost:8080/"
        },
        "id": "9Vle43SJLoVX",
        "outputId": "452809e3-47c0-4636-b704-632a23dbda46"
      },
      "execution_count": null,
      "outputs": [
        {
          "output_type": "stream",
          "name": "stdout",
          "text": [
            "<class 'pandas.core.frame.DataFrame'>\n",
            "RangeIndex: 89096 entries, 0 to 89095\n",
            "Data columns (total 26 columns):\n",
            " #   Column                  Non-Null Count  Dtype  \n",
            "---  ------                  --------------  -----  \n",
            " 0   Sleep_Stage             89096 non-null  object \n",
            " 1   MeanP_Alpha_O2          89096 non-null  float64\n",
            " 2   MedianF_Alpha_O2        89096 non-null  float64\n",
            " 3   MeanF_Alpha_O2          89096 non-null  float64\n",
            " 4   Spectral Edge_Alpha_O2  89096 non-null  float64\n",
            " 5   PeakF_Alpha_O2          89096 non-null  float64\n",
            " 6   MeanP_Beta_O2           89096 non-null  float64\n",
            " 7   MedianF_Beta_O2         89096 non-null  float64\n",
            " 8   MeanF_Beta_O2           89096 non-null  float64\n",
            " 9   Spectral Edge_Beta_O2   89096 non-null  float64\n",
            " 10  PeakF_Beta_O2           89096 non-null  float64\n",
            " 11  MeanP_Theta_O2          89096 non-null  float64\n",
            " 12  MedianF_Theta_O2        89096 non-null  float64\n",
            " 13  MeanF_Theta_O2          89096 non-null  float64\n",
            " 14  Spectral Edge_Theta_O2  89096 non-null  float64\n",
            " 15  PeakF_Theta_O2          89096 non-null  float64\n",
            " 16  MeanP_Delta_O2          89096 non-null  float64\n",
            " 17  MedianF_Delta_O2        89096 non-null  float64\n",
            " 18  MeanF_Delta_O2          89096 non-null  float64\n",
            " 19  Spectral Edge_Delta_O2  89096 non-null  float64\n",
            " 20  PeakF_Delta_O2          89096 non-null  float64\n",
            " 21  MeanP_Gamma_O2          89096 non-null  float64\n",
            " 22  MedianF_Gamma_O2        89096 non-null  float64\n",
            " 23  MeanF_Gamma_O2          89096 non-null  float64\n",
            " 24  Spectral Edge_Gamma_O2  89096 non-null  float64\n",
            " 25  PeakF_Gamma_O2          89096 non-null  float64\n",
            "dtypes: float64(25), object(1)\n",
            "memory usage: 17.7+ MB\n"
          ]
        }
      ]
    },
    {
      "cell_type": "markdown",
      "source": [
        "#Feature Scaling"
      ],
      "metadata": {
        "id": "76z-ZxDAnvW-"
      }
    },
    {
      "cell_type": "code",
      "source": [
        "dataset.describe()"
      ],
      "metadata": {
        "colab": {
          "base_uri": "https://localhost:8080/",
          "height": 411
        },
        "id": "7KOmN8HDnz1B",
        "outputId": "87d1f73c-04c3-4998-9fa2-3225a2d79777"
      },
      "execution_count": null,
      "outputs": [
        {
          "output_type": "execute_result",
          "data": {
            "text/plain": [
              "       MeanP_Alpha_O2  MedianF_Alpha_O2  MeanF_Alpha_O2  \\\n",
              "count    8.909600e+04      89096.000000    89096.000000   \n",
              "mean     7.468544e-04          8.850398       15.683676   \n",
              "std      5.740618e-03          2.863547        5.419831   \n",
              "min      4.590000e-52          0.124880        0.874150   \n",
              "25%      2.600000e-04          7.992200       13.986340   \n",
              "50%      4.100000e-04          8.741460       14.860490   \n",
              "75%      6.400000e-04          9.490730       16.109270   \n",
              "max      7.751800e-01         49.951220       49.951220   \n",
              "\n",
              "       Spectral Edge_Alpha_O2  PeakF_Alpha_O2  MeanP_Beta_O2  MedianF_Beta_O2  \\\n",
              "count            89096.000000    89096.000000   89096.000000     89096.000000   \n",
              "mean                14.924783        9.509146       0.000948        18.012181   \n",
              "std                  5.839452        7.839750       0.005596        15.405297   \n",
              "min                  0.124880        0.124880       0.000000         6.618540   \n",
              "25%                 13.112200        6.993170       0.000210        12.987320   \n",
              "50%                 14.111220        7.992200       0.000330        14.236100   \n",
              "75%                 15.235120        9.365850       0.000520        16.109270   \n",
              "max                 50.076100       50.076100       0.569830       127.875120   \n",
              "\n",
              "       MeanF_Beta_O2  Spectral Edge_Beta_O2  PeakF_Beta_O2  ...  \\\n",
              "count   89096.000000           89096.000000   89096.000000  ...   \n",
              "mean       28.743072              30.852628      23.174315  ...   \n",
              "std        14.615821              14.946110      20.489747  ...   \n",
              "min        14.860490              14.111220       3.121950  ...   \n",
              "25%        22.478050              23.352200      10.989270  ...   \n",
              "50%        24.226340              25.724880      13.611710  ...   \n",
              "75%        27.847800              31.843900      49.951220  ...   \n",
              "max       127.875120             127.875120     127.875120  ...   \n",
              "\n",
              "       MeanP_Delta_O2  MedianF_Delta_O2  MeanF_Delta_O2  \\\n",
              "count    8.909600e+04      89096.000000    89096.000000   \n",
              "mean     1.462028e-02          1.430147        6.462812   \n",
              "std      8.398281e-02          3.633923        3.212076   \n",
              "min      2.290000e-40          0.124880        1.498540   \n",
              "25%      1.410000e-03          0.749270        5.494630   \n",
              "50%      2.800000e-03          0.999020        6.119020   \n",
              "75%      6.310000e-03          1.248780        6.868290   \n",
              "max      4.595010e+00         31.968780       31.968780   \n",
              "\n",
              "       Spectral Edge_Delta_O2  PeakF_Delta_O2  MeanP_Gamma_O2  \\\n",
              "count            89096.000000    89096.000000    89096.000000   \n",
              "mean                 3.457914        1.139120        0.001363   \n",
              "std                  3.511885        3.665482        0.013366   \n",
              "min                  0.499510        0.124880        0.000000   \n",
              "25%                  2.497560        0.499510        0.000027   \n",
              "50%                  3.121950        0.624390        0.000046   \n",
              "75%                  3.746340        0.874150        0.000120   \n",
              "max                 32.093660       31.968780        0.380020   \n",
              "\n",
              "       MedianF_Gamma_O2  MeanF_Gamma_O2  Spectral Edge_Gamma_O2  \\\n",
              "count      89096.000000    89096.000000             89096.00000   \n",
              "mean          37.160328       44.632743                50.04934   \n",
              "std           14.232307       11.318757                 9.84912   \n",
              "min           15.360000       27.098540                31.96878   \n",
              "25%           28.347320       38.837070                47.95317   \n",
              "50%           33.092680       42.958050                49.95122   \n",
              "75%           49.701460       49.826340                50.07610   \n",
              "max          127.875120      127.875120               127.87512   \n",
              "\n",
              "       PeakF_Gamma_O2  \n",
              "count    89096.000000  \n",
              "mean        43.056958  \n",
              "std         15.695022  \n",
              "min          5.369760  \n",
              "25%         32.593170  \n",
              "50%         49.951220  \n",
              "75%         49.951220  \n",
              "max        127.875120  \n",
              "\n",
              "[8 rows x 25 columns]"
            ],
            "text/html": [
              "\n",
              "  <div id=\"df-5606fd34-0180-4028-bb1d-6397d08d6cab\">\n",
              "    <div class=\"colab-df-container\">\n",
              "      <div>\n",
              "<style scoped>\n",
              "    .dataframe tbody tr th:only-of-type {\n",
              "        vertical-align: middle;\n",
              "    }\n",
              "\n",
              "    .dataframe tbody tr th {\n",
              "        vertical-align: top;\n",
              "    }\n",
              "\n",
              "    .dataframe thead th {\n",
              "        text-align: right;\n",
              "    }\n",
              "</style>\n",
              "<table border=\"1\" class=\"dataframe\">\n",
              "  <thead>\n",
              "    <tr style=\"text-align: right;\">\n",
              "      <th></th>\n",
              "      <th>MeanP_Alpha_O2</th>\n",
              "      <th>MedianF_Alpha_O2</th>\n",
              "      <th>MeanF_Alpha_O2</th>\n",
              "      <th>Spectral Edge_Alpha_O2</th>\n",
              "      <th>PeakF_Alpha_O2</th>\n",
              "      <th>MeanP_Beta_O2</th>\n",
              "      <th>MedianF_Beta_O2</th>\n",
              "      <th>MeanF_Beta_O2</th>\n",
              "      <th>Spectral Edge_Beta_O2</th>\n",
              "      <th>PeakF_Beta_O2</th>\n",
              "      <th>...</th>\n",
              "      <th>MeanP_Delta_O2</th>\n",
              "      <th>MedianF_Delta_O2</th>\n",
              "      <th>MeanF_Delta_O2</th>\n",
              "      <th>Spectral Edge_Delta_O2</th>\n",
              "      <th>PeakF_Delta_O2</th>\n",
              "      <th>MeanP_Gamma_O2</th>\n",
              "      <th>MedianF_Gamma_O2</th>\n",
              "      <th>MeanF_Gamma_O2</th>\n",
              "      <th>Spectral Edge_Gamma_O2</th>\n",
              "      <th>PeakF_Gamma_O2</th>\n",
              "    </tr>\n",
              "  </thead>\n",
              "  <tbody>\n",
              "    <tr>\n",
              "      <th>count</th>\n",
              "      <td>8.909600e+04</td>\n",
              "      <td>89096.000000</td>\n",
              "      <td>89096.000000</td>\n",
              "      <td>89096.000000</td>\n",
              "      <td>89096.000000</td>\n",
              "      <td>89096.000000</td>\n",
              "      <td>89096.000000</td>\n",
              "      <td>89096.000000</td>\n",
              "      <td>89096.000000</td>\n",
              "      <td>89096.000000</td>\n",
              "      <td>...</td>\n",
              "      <td>8.909600e+04</td>\n",
              "      <td>89096.000000</td>\n",
              "      <td>89096.000000</td>\n",
              "      <td>89096.000000</td>\n",
              "      <td>89096.000000</td>\n",
              "      <td>89096.000000</td>\n",
              "      <td>89096.000000</td>\n",
              "      <td>89096.000000</td>\n",
              "      <td>89096.00000</td>\n",
              "      <td>89096.000000</td>\n",
              "    </tr>\n",
              "    <tr>\n",
              "      <th>mean</th>\n",
              "      <td>7.468544e-04</td>\n",
              "      <td>8.850398</td>\n",
              "      <td>15.683676</td>\n",
              "      <td>14.924783</td>\n",
              "      <td>9.509146</td>\n",
              "      <td>0.000948</td>\n",
              "      <td>18.012181</td>\n",
              "      <td>28.743072</td>\n",
              "      <td>30.852628</td>\n",
              "      <td>23.174315</td>\n",
              "      <td>...</td>\n",
              "      <td>1.462028e-02</td>\n",
              "      <td>1.430147</td>\n",
              "      <td>6.462812</td>\n",
              "      <td>3.457914</td>\n",
              "      <td>1.139120</td>\n",
              "      <td>0.001363</td>\n",
              "      <td>37.160328</td>\n",
              "      <td>44.632743</td>\n",
              "      <td>50.04934</td>\n",
              "      <td>43.056958</td>\n",
              "    </tr>\n",
              "    <tr>\n",
              "      <th>std</th>\n",
              "      <td>5.740618e-03</td>\n",
              "      <td>2.863547</td>\n",
              "      <td>5.419831</td>\n",
              "      <td>5.839452</td>\n",
              "      <td>7.839750</td>\n",
              "      <td>0.005596</td>\n",
              "      <td>15.405297</td>\n",
              "      <td>14.615821</td>\n",
              "      <td>14.946110</td>\n",
              "      <td>20.489747</td>\n",
              "      <td>...</td>\n",
              "      <td>8.398281e-02</td>\n",
              "      <td>3.633923</td>\n",
              "      <td>3.212076</td>\n",
              "      <td>3.511885</td>\n",
              "      <td>3.665482</td>\n",
              "      <td>0.013366</td>\n",
              "      <td>14.232307</td>\n",
              "      <td>11.318757</td>\n",
              "      <td>9.84912</td>\n",
              "      <td>15.695022</td>\n",
              "    </tr>\n",
              "    <tr>\n",
              "      <th>min</th>\n",
              "      <td>4.590000e-52</td>\n",
              "      <td>0.124880</td>\n",
              "      <td>0.874150</td>\n",
              "      <td>0.124880</td>\n",
              "      <td>0.124880</td>\n",
              "      <td>0.000000</td>\n",
              "      <td>6.618540</td>\n",
              "      <td>14.860490</td>\n",
              "      <td>14.111220</td>\n",
              "      <td>3.121950</td>\n",
              "      <td>...</td>\n",
              "      <td>2.290000e-40</td>\n",
              "      <td>0.124880</td>\n",
              "      <td>1.498540</td>\n",
              "      <td>0.499510</td>\n",
              "      <td>0.124880</td>\n",
              "      <td>0.000000</td>\n",
              "      <td>15.360000</td>\n",
              "      <td>27.098540</td>\n",
              "      <td>31.96878</td>\n",
              "      <td>5.369760</td>\n",
              "    </tr>\n",
              "    <tr>\n",
              "      <th>25%</th>\n",
              "      <td>2.600000e-04</td>\n",
              "      <td>7.992200</td>\n",
              "      <td>13.986340</td>\n",
              "      <td>13.112200</td>\n",
              "      <td>6.993170</td>\n",
              "      <td>0.000210</td>\n",
              "      <td>12.987320</td>\n",
              "      <td>22.478050</td>\n",
              "      <td>23.352200</td>\n",
              "      <td>10.989270</td>\n",
              "      <td>...</td>\n",
              "      <td>1.410000e-03</td>\n",
              "      <td>0.749270</td>\n",
              "      <td>5.494630</td>\n",
              "      <td>2.497560</td>\n",
              "      <td>0.499510</td>\n",
              "      <td>0.000027</td>\n",
              "      <td>28.347320</td>\n",
              "      <td>38.837070</td>\n",
              "      <td>47.95317</td>\n",
              "      <td>32.593170</td>\n",
              "    </tr>\n",
              "    <tr>\n",
              "      <th>50%</th>\n",
              "      <td>4.100000e-04</td>\n",
              "      <td>8.741460</td>\n",
              "      <td>14.860490</td>\n",
              "      <td>14.111220</td>\n",
              "      <td>7.992200</td>\n",
              "      <td>0.000330</td>\n",
              "      <td>14.236100</td>\n",
              "      <td>24.226340</td>\n",
              "      <td>25.724880</td>\n",
              "      <td>13.611710</td>\n",
              "      <td>...</td>\n",
              "      <td>2.800000e-03</td>\n",
              "      <td>0.999020</td>\n",
              "      <td>6.119020</td>\n",
              "      <td>3.121950</td>\n",
              "      <td>0.624390</td>\n",
              "      <td>0.000046</td>\n",
              "      <td>33.092680</td>\n",
              "      <td>42.958050</td>\n",
              "      <td>49.95122</td>\n",
              "      <td>49.951220</td>\n",
              "    </tr>\n",
              "    <tr>\n",
              "      <th>75%</th>\n",
              "      <td>6.400000e-04</td>\n",
              "      <td>9.490730</td>\n",
              "      <td>16.109270</td>\n",
              "      <td>15.235120</td>\n",
              "      <td>9.365850</td>\n",
              "      <td>0.000520</td>\n",
              "      <td>16.109270</td>\n",
              "      <td>27.847800</td>\n",
              "      <td>31.843900</td>\n",
              "      <td>49.951220</td>\n",
              "      <td>...</td>\n",
              "      <td>6.310000e-03</td>\n",
              "      <td>1.248780</td>\n",
              "      <td>6.868290</td>\n",
              "      <td>3.746340</td>\n",
              "      <td>0.874150</td>\n",
              "      <td>0.000120</td>\n",
              "      <td>49.701460</td>\n",
              "      <td>49.826340</td>\n",
              "      <td>50.07610</td>\n",
              "      <td>49.951220</td>\n",
              "    </tr>\n",
              "    <tr>\n",
              "      <th>max</th>\n",
              "      <td>7.751800e-01</td>\n",
              "      <td>49.951220</td>\n",
              "      <td>49.951220</td>\n",
              "      <td>50.076100</td>\n",
              "      <td>50.076100</td>\n",
              "      <td>0.569830</td>\n",
              "      <td>127.875120</td>\n",
              "      <td>127.875120</td>\n",
              "      <td>127.875120</td>\n",
              "      <td>127.875120</td>\n",
              "      <td>...</td>\n",
              "      <td>4.595010e+00</td>\n",
              "      <td>31.968780</td>\n",
              "      <td>31.968780</td>\n",
              "      <td>32.093660</td>\n",
              "      <td>31.968780</td>\n",
              "      <td>0.380020</td>\n",
              "      <td>127.875120</td>\n",
              "      <td>127.875120</td>\n",
              "      <td>127.87512</td>\n",
              "      <td>127.875120</td>\n",
              "    </tr>\n",
              "  </tbody>\n",
              "</table>\n",
              "<p>8 rows × 25 columns</p>\n",
              "</div>\n",
              "      <button class=\"colab-df-convert\" onclick=\"convertToInteractive('df-5606fd34-0180-4028-bb1d-6397d08d6cab')\"\n",
              "              title=\"Convert this dataframe to an interactive table.\"\n",
              "              style=\"display:none;\">\n",
              "        \n",
              "  <svg xmlns=\"http://www.w3.org/2000/svg\" height=\"24px\"viewBox=\"0 0 24 24\"\n",
              "       width=\"24px\">\n",
              "    <path d=\"M0 0h24v24H0V0z\" fill=\"none\"/>\n",
              "    <path d=\"M18.56 5.44l.94 2.06.94-2.06 2.06-.94-2.06-.94-.94-2.06-.94 2.06-2.06.94zm-11 1L8.5 8.5l.94-2.06 2.06-.94-2.06-.94L8.5 2.5l-.94 2.06-2.06.94zm10 10l.94 2.06.94-2.06 2.06-.94-2.06-.94-.94-2.06-.94 2.06-2.06.94z\"/><path d=\"M17.41 7.96l-1.37-1.37c-.4-.4-.92-.59-1.43-.59-.52 0-1.04.2-1.43.59L10.3 9.45l-7.72 7.72c-.78.78-.78 2.05 0 2.83L4 21.41c.39.39.9.59 1.41.59.51 0 1.02-.2 1.41-.59l7.78-7.78 2.81-2.81c.8-.78.8-2.07 0-2.86zM5.41 20L4 18.59l7.72-7.72 1.47 1.35L5.41 20z\"/>\n",
              "  </svg>\n",
              "      </button>\n",
              "      \n",
              "  <style>\n",
              "    .colab-df-container {\n",
              "      display:flex;\n",
              "      flex-wrap:wrap;\n",
              "      gap: 12px;\n",
              "    }\n",
              "\n",
              "    .colab-df-convert {\n",
              "      background-color: #E8F0FE;\n",
              "      border: none;\n",
              "      border-radius: 50%;\n",
              "      cursor: pointer;\n",
              "      display: none;\n",
              "      fill: #1967D2;\n",
              "      height: 32px;\n",
              "      padding: 0 0 0 0;\n",
              "      width: 32px;\n",
              "    }\n",
              "\n",
              "    .colab-df-convert:hover {\n",
              "      background-color: #E2EBFA;\n",
              "      box-shadow: 0px 1px 2px rgba(60, 64, 67, 0.3), 0px 1px 3px 1px rgba(60, 64, 67, 0.15);\n",
              "      fill: #174EA6;\n",
              "    }\n",
              "\n",
              "    [theme=dark] .colab-df-convert {\n",
              "      background-color: #3B4455;\n",
              "      fill: #D2E3FC;\n",
              "    }\n",
              "\n",
              "    [theme=dark] .colab-df-convert:hover {\n",
              "      background-color: #434B5C;\n",
              "      box-shadow: 0px 1px 3px 1px rgba(0, 0, 0, 0.15);\n",
              "      filter: drop-shadow(0px 1px 2px rgba(0, 0, 0, 0.3));\n",
              "      fill: #FFFFFF;\n",
              "    }\n",
              "  </style>\n",
              "\n",
              "      <script>\n",
              "        const buttonEl =\n",
              "          document.querySelector('#df-5606fd34-0180-4028-bb1d-6397d08d6cab button.colab-df-convert');\n",
              "        buttonEl.style.display =\n",
              "          google.colab.kernel.accessAllowed ? 'block' : 'none';\n",
              "\n",
              "        async function convertToInteractive(key) {\n",
              "          const element = document.querySelector('#df-5606fd34-0180-4028-bb1d-6397d08d6cab');\n",
              "          const dataTable =\n",
              "            await google.colab.kernel.invokeFunction('convertToInteractive',\n",
              "                                                     [key], {});\n",
              "          if (!dataTable) return;\n",
              "\n",
              "          const docLinkHtml = 'Like what you see? Visit the ' +\n",
              "            '<a target=\"_blank\" href=https://colab.research.google.com/notebooks/data_table.ipynb>data table notebook</a>'\n",
              "            + ' to learn more about interactive tables.';\n",
              "          element.innerHTML = '';\n",
              "          dataTable['output_type'] = 'display_data';\n",
              "          await google.colab.output.renderOutput(dataTable, element);\n",
              "          const docLink = document.createElement('div');\n",
              "          docLink.innerHTML = docLinkHtml;\n",
              "          element.appendChild(docLink);\n",
              "        }\n",
              "      </script>\n",
              "    </div>\n",
              "  </div>\n",
              "  "
            ]
          },
          "metadata": {},
          "execution_count": 81
        }
      ]
    },
    {
      "cell_type": "code",
      "source": [
        "X,y=sep_XY(dataset,\"Sleep_Stage\")"
      ],
      "metadata": {
        "id": "kfzDSoPt-OKz"
      },
      "execution_count": null,
      "outputs": []
    },
    {
      "cell_type": "code",
      "source": [
        "from imblearn.over_sampling import SMOTE\n",
        "from collections import Counter"
      ],
      "metadata": {
        "id": "K_UygOFv-Xgd"
      },
      "execution_count": null,
      "outputs": []
    },
    {
      "cell_type": "code",
      "source": [
        "oversample = SMOTE()\n",
        "X, y = oversample.fit_resample(X, y)"
      ],
      "metadata": {
        "id": "bUfgAqNn-ZMU"
      },
      "execution_count": null,
      "outputs": []
    },
    {
      "cell_type": "code",
      "source": [
        "counter = Counter(y)"
      ],
      "metadata": {
        "id": "eL8Bj5Py-iEK"
      },
      "execution_count": null,
      "outputs": []
    },
    {
      "cell_type": "code",
      "source": [
        "print(counter)"
      ],
      "metadata": {
        "colab": {
          "base_uri": "https://localhost:8080/"
        },
        "id": "pwVhyuie-orD",
        "outputId": "5ec7c8d0-3dc8-4c34-db45-99e021785577"
      },
      "execution_count": null,
      "outputs": [
        {
          "output_type": "stream",
          "name": "stdout",
          "text": [
            "Counter({'NREM': 72631, 'REM': 72631})\n"
          ]
        }
      ]
    },
    {
      "cell_type": "markdown",
      "source": [
        "#Data separating for target value"
      ],
      "metadata": {
        "id": "IkYjczKGM9qX"
      }
    },
    {
      "cell_type": "markdown",
      "source": [
        "we can use both indexing and <i>.iloc</i> funtion to get access into data. But before feedin the data to the model we have to use <i>.values.</i> We can use .iloc when the colunms are too many. And we can use indexing when the target colunm is in the middle."
      ],
      "metadata": {
        "id": "wvHysSgNen73"
      }
    },
    {
      "cell_type": "code",
      "source": [
        "var=dataset[[\"Series_reference\",\"Period\",\"Data_value\"]] # call like list elements with column name"
      ],
      "metadata": {
        "id": "txwi-T9KOPHi"
      },
      "execution_count": null,
      "outputs": []
    },
    {
      "cell_type": "code",
      "source": [
        "var2=var.values #.values remove the col name and make an numpy array\n",
        "var2 #gives array"
      ],
      "metadata": {
        "id": "RKyxM7TsPtII"
      },
      "execution_count": null,
      "outputs": []
    },
    {
      "cell_type": "code",
      "source": [
        "var_type2= list(dataset.iloc[:0,:])\n",
        "var_type2"
      ],
      "metadata": {
        "id": "EQvmJAr-P-_D"
      },
      "execution_count": null,
      "outputs": []
    },
    {
      "cell_type": "markdown",
      "source": [
        "but the problem occures when there are many colunms and the target colunm is in the middle then what to do?"
      ],
      "metadata": {
        "id": "cColiSI-gl5Z"
      }
    },
    {
      "cell_type": "markdown",
      "source": [
        "So we will use a generalize function to select the y and x axis"
      ],
      "metadata": {
        "id": "7yvqCTQthQrz"
      }
    },
    {
      "cell_type": "code",
      "source": [
        "\n",
        "def sep_XY(dataset,target):\n",
        "  x_col_name= list(dataset.iloc[:0,:])\n",
        "  x_col_name.remove(target)\n",
        "  return (dataset[x_col_name].values),(dataset[target].values)\n"
      ],
      "metadata": {
        "id": "bOpfZosrf9p4"
      },
      "execution_count": null,
      "outputs": []
    },
    {
      "cell_type": "code",
      "source": [
        "X,y=sep_XY(dataset,\"STATUS\")\n",
        "print(X)\n",
        "print(y)"
      ],
      "metadata": {
        "id": "KYm06yC5cD1l"
      },
      "execution_count": null,
      "outputs": []
    },
    {
      "cell_type": "markdown",
      "source": [
        "<font color=\"green\">Testing with logistic reg</font>"
      ],
      "metadata": {
        "id": "fue9-2J9OsPN"
      }
    },
    {
      "cell_type": "markdown",
      "source": [
        "#data encoding<br>\n",
        "there could be data in string. so sometime we have to convert that to float"
      ],
      "metadata": {
        "id": "U1OhVZlUb7wz"
      }
    },
    {
      "cell_type": "code",
      "source": [
        "k=list(dataset[\"Series_reference\"].unique())\n",
        "print(k)\n",
        "if type(k[0])==str:\n",
        "  print(\"yes\")\n",
        "print(type(k[0]))"
      ],
      "metadata": {
        "id": "Kwy6kdau_g1g"
      },
      "execution_count": null,
      "outputs": []
    },
    {
      "cell_type": "code",
      "source": [
        "dataset[\"Series_reference\"].value_counts()"
      ],
      "metadata": {
        "id": "A2KOafOp_xJT"
      },
      "execution_count": null,
      "outputs": []
    },
    {
      "cell_type": "code",
      "source": [
        "from sklearn.preprocessing import LabelEncoder"
      ],
      "metadata": {
        "id": "hGHMh8BG8G6D"
      },
      "execution_count": null,
      "outputs": []
    },
    {
      "cell_type": "code",
      "source": [
        "encoder=LabelEncoder()\n",
        "dataset[\"Series_reference\"]=encoder.fit_transform(dataset[\"Series_reference\"])"
      ],
      "metadata": {
        "id": "rbtN3AlP8Zlu"
      },
      "execution_count": null,
      "outputs": []
    },
    {
      "cell_type": "code",
      "source": [
        "dataset.head()"
      ],
      "metadata": {
        "id": "O8Fcmc93_San"
      },
      "execution_count": null,
      "outputs": []
    },
    {
      "cell_type": "markdown",
      "source": [
        "make all the string contained colunm encoded"
      ],
      "metadata": {
        "id": "mjRsGfcBC1RK"
      }
    },
    {
      "cell_type": "code",
      "source": [
        "def encode_engine(dataset):\n",
        "  from sklearn.preprocessing import LabelEncoder\n",
        "  encoder=LabelEncoder()\n",
        "  col= list(dataset.iloc[:0,:])\n",
        "\n",
        "  for i in col:\n",
        "    if type(list(dataset[i].unique())[0])==str:\n",
        "            dataset[i]=encoder.fit_transform(dataset[i])\n",
        "\n",
        "  return dataset\n",
        "\n"
      ],
      "metadata": {
        "id": "eQT8juVfCxZl"
      },
      "execution_count": null,
      "outputs": []
    },
    {
      "cell_type": "code",
      "source": [
        "new_dataset=encode_engine(dataset)"
      ],
      "metadata": {
        "id": "RPwwSVMqGOC0"
      },
      "execution_count": null,
      "outputs": []
    },
    {
      "cell_type": "code",
      "source": [
        "new_dataset.head()"
      ],
      "metadata": {
        "id": "krwJg866GX9j"
      },
      "execution_count": null,
      "outputs": []
    },
    {
      "cell_type": "markdown",
      "source": [
        "#Data Spliting into training and testing"
      ],
      "metadata": {
        "id": "U4GnJLaI-5hF"
      }
    },
    {
      "cell_type": "code",
      "source": [
        "X,y=sep_XY(new_dataset,\"Series_reference\")"
      ],
      "metadata": {
        "id": "JfMYT4siAnTs"
      },
      "execution_count": null,
      "outputs": []
    },
    {
      "cell_type": "code",
      "source": [
        "from sklearn.model_selection import train_test_split\n",
        "X_train, X_test, Y_train, Y_test= train_test_split(X,y, test_size=0.2,random_state=3)"
      ],
      "metadata": {
        "id": "Et3I81wX_5l6"
      },
      "execution_count": null,
      "outputs": []
    },
    {
      "cell_type": "code",
      "source": [
        "print(X_train.shape, X_test.shape, Y_train.shape, Y_test.shape)"
      ],
      "metadata": {
        "id": "RSBLWO_SBINp"
      },
      "execution_count": null,
      "outputs": []
    },
    {
      "cell_type": "markdown",
      "source": [
        "checking"
      ],
      "metadata": {
        "id": "_dn0SRm1BVrb"
      }
    },
    {
      "cell_type": "code",
      "source": [
        "from sklearn.preprocessing import StandardScaler"
      ],
      "metadata": {
        "id": "ew7WcJRDBk8E"
      },
      "execution_count": null,
      "outputs": []
    },
    {
      "cell_type": "code",
      "source": [
        "print(new_dataset.std())"
      ],
      "metadata": {
        "id": "LnrYvsNnBVWX"
      },
      "execution_count": null,
      "outputs": []
    },
    {
      "cell_type": "code",
      "source": [
        "sc=StandardScaler()\n",
        "sc.fit(X_train)"
      ],
      "metadata": {
        "id": "o12fA-YPEdJ1"
      },
      "execution_count": null,
      "outputs": []
    },
    {
      "cell_type": "code",
      "source": [
        "X_train_standardized= sc.transform(X_train)\n",
        "x_test_stacdardized= sc.transform(X_test)"
      ],
      "metadata": {
        "id": "Epn7o7M_HC5c"
      },
      "execution_count": null,
      "outputs": []
    },
    {
      "cell_type": "markdown",
      "source": [
        "#Deal with Null value"
      ],
      "metadata": {
        "id": "tM3CInOdNCHk"
      }
    },
    {
      "cell_type": "code",
      "source": [
        "dataset.info()"
      ],
      "metadata": {
        "id": "MXvn2aA7NJl9"
      },
      "execution_count": null,
      "outputs": []
    },
    {
      "cell_type": "code",
      "source": [
        "print(dataset.isnull().sum())"
      ],
      "metadata": {
        "id": "Ho-kvTUsLkR8"
      },
      "execution_count": null,
      "outputs": []
    },
    {
      "cell_type": "code",
      "source": [],
      "metadata": {
        "id": "0mt-NSrJNHpc"
      },
      "execution_count": null,
      "outputs": []
    },
    {
      "cell_type": "markdown",
      "source": [
        "<b><ul>\n",
        "<li>Deleting the columns with missing data\n",
        "<li>Deleting the rows with missing data\n",
        "<li>Filling the missing data with a value – Imputation\n",
        "<li>Imputation with an additional column\n",
        "<li>Filling with a Regression Model\n",
        "</ul></b>"
      ],
      "metadata": {
        "id": "pxBEd4f-N4Hh"
      }
    },
    {
      "cell_type": "markdown",
      "source": [
        "Deleting the columns with missing data"
      ],
      "metadata": {
        "id": "5bvSwXXzOT9c"
      }
    },
    {
      "cell_type": "markdown",
      "source": [
        "#Data Imbalence handeling"
      ],
      "metadata": {
        "id": "8TtTJoqhYcSm"
      }
    },
    {
      "cell_type": "code",
      "source": [
        "dataset.Sleep_Stage.value_counts()"
      ],
      "metadata": {
        "colab": {
          "base_uri": "https://localhost:8080/"
        },
        "id": "PdLMMwz8aQev",
        "outputId": "c9954814-d42e-4de7-f164-7fb10b5ec5f8"
      },
      "execution_count": null,
      "outputs": [
        {
          "output_type": "execute_result",
          "data": {
            "text/plain": [
              "NREM    72631\n",
              "REM     16465\n",
              "Name: Sleep_Stage, dtype: int64"
            ]
          },
          "metadata": {},
          "execution_count": 8
        }
      ]
    },
    {
      "cell_type": "code",
      "source": [
        "nrem,rem=list(dataset.Sleep_Stage.value_counts())"
      ],
      "metadata": {
        "id": "ULELfqIlNk-9"
      },
      "execution_count": null,
      "outputs": []
    },
    {
      "cell_type": "code",
      "source": [
        "print(\"Ratio:\",min(nrem,rem)/max(nrem,rem))"
      ],
      "metadata": {
        "id": "PnJ493WwNk8T",
        "colab": {
          "base_uri": "https://localhost:8080/"
        },
        "outputId": "392efddb-8f3c-4e2e-be53-31782adf7bcb"
      },
      "execution_count": null,
      "outputs": [
        {
          "output_type": "stream",
          "name": "stdout",
          "text": [
            "Ratio: 0.22669383596535914\n"
          ]
        }
      ]
    },
    {
      "cell_type": "code",
      "source": [],
      "metadata": {
        "id": "ENG_5Z4oNk2X"
      },
      "execution_count": null,
      "outputs": []
    },
    {
      "cell_type": "code",
      "source": [],
      "metadata": {
        "id": "fbSsq6VwNkt6"
      },
      "execution_count": null,
      "outputs": []
    },
    {
      "cell_type": "code",
      "source": [],
      "metadata": {
        "id": "0Go3NsRyNkp8"
      },
      "execution_count": null,
      "outputs": []
    },
    {
      "cell_type": "markdown",
      "source": [],
      "metadata": {
        "id": "iOSRwzcCYbRT"
      }
    }
  ]
}