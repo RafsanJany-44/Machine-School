{
  "nbformat": 4,
  "nbformat_minor": 0,
  "metadata": {
    "colab": {
      "name": "Data Preprocessing.ipynb",
      "provenance": [],
      "authorship_tag": "ABX9TyMjx0FRX9UQW0sLDr/ZOLIv",
      "include_colab_link": true
    },
    "kernelspec": {
      "name": "python3",
      "display_name": "Python 3"
    },
    "language_info": {
      "name": "python"
    }
  },
  "cells": [
    {
      "cell_type": "markdown",
      "metadata": {
        "id": "view-in-github",
        "colab_type": "text"
      },
      "source": [
        "<a href=\"https://colab.research.google.com/github/RafsanJany-44/Machine-School/blob/main/Data_Preprocessing.ipynb\" target=\"_parent\"><img src=\"https://colab.research.google.com/assets/colab-badge.svg\" alt=\"Open In Colab\"/></a>"
      ]
    },
    {
      "cell_type": "code",
      "execution_count": 2,
      "metadata": {
        "id": "FigW9TKuDVKo"
      },
      "outputs": [],
      "source": [
        "import numpy as np\n",
        "import pandas as pd"
      ]
    },
    {
      "cell_type": "code",
      "source": [
        "dataset=pd.read_csv(\"https://raw.githubusercontent.com/RafsanJany-44/Machine-School/main/datasets/Machine_readable_file_mei_march_2022.csv\")"
      ],
      "metadata": {
        "id": "EUBuA08XNFXX"
      },
      "execution_count": 3,
      "outputs": []
    },
    {
      "cell_type": "code",
      "source": [
        "dataset.head()"
      ],
      "metadata": {
        "colab": {
          "base_uri": "https://localhost:8080/",
          "height": 616
        },
        "id": "JtBNLDg_N0ee",
        "outputId": "fb6af6d1-8f1d-4af0-b228-621c7d687e4e"
      },
      "execution_count": 4,
      "outputs": [
        {
          "output_type": "execute_result",
          "data": {
            "text/plain": [
              "  Series_reference   Period  Data_value Suppressed STATUS   UNITS  Magnitude  \\\n",
              "0        MEIM.S1WA  1999.04     80267.0        NaN      F  Number          0   \n",
              "1        MEIM.S1WA  1999.05     70803.0        NaN      F  Number          0   \n",
              "2        MEIM.S1WA  1999.06     65792.0        NaN      F  Number          0   \n",
              "3        MEIM.S1WA  1999.07     66194.0        NaN      F  Number          0   \n",
              "4        MEIM.S1WA  1999.08     67259.0        NaN      F  Number          0   \n",
              "\n",
              "                       Subject                            Group  \\\n",
              "0  Employment indicators - MEI  High level industry by variable   \n",
              "1  Employment indicators - MEI  High level industry by variable   \n",
              "2  Employment indicators - MEI  High level industry by variable   \n",
              "3  Employment indicators - MEI  High level industry by variable   \n",
              "4  Employment indicators - MEI  High level industry by variable   \n",
              "\n",
              "  Series_title_1      Series_title_2 Series_title_3 Series_title_4  \\\n",
              "0    Filled jobs  Primary industries         Actual            NaN   \n",
              "1    Filled jobs  Primary industries         Actual            NaN   \n",
              "2    Filled jobs  Primary industries         Actual            NaN   \n",
              "3    Filled jobs  Primary industries         Actual            NaN   \n",
              "4    Filled jobs  Primary industries         Actual            NaN   \n",
              "\n",
              "   Series_title_5  \n",
              "0             NaN  \n",
              "1             NaN  \n",
              "2             NaN  \n",
              "3             NaN  \n",
              "4             NaN  "
            ],
            "text/html": [
              "\n",
              "  <div id=\"df-4abfaff9-3a78-4c7f-b406-2ce5213432a8\">\n",
              "    <div class=\"colab-df-container\">\n",
              "      <div>\n",
              "<style scoped>\n",
              "    .dataframe tbody tr th:only-of-type {\n",
              "        vertical-align: middle;\n",
              "    }\n",
              "\n",
              "    .dataframe tbody tr th {\n",
              "        vertical-align: top;\n",
              "    }\n",
              "\n",
              "    .dataframe thead th {\n",
              "        text-align: right;\n",
              "    }\n",
              "</style>\n",
              "<table border=\"1\" class=\"dataframe\">\n",
              "  <thead>\n",
              "    <tr style=\"text-align: right;\">\n",
              "      <th></th>\n",
              "      <th>Series_reference</th>\n",
              "      <th>Period</th>\n",
              "      <th>Data_value</th>\n",
              "      <th>Suppressed</th>\n",
              "      <th>STATUS</th>\n",
              "      <th>UNITS</th>\n",
              "      <th>Magnitude</th>\n",
              "      <th>Subject</th>\n",
              "      <th>Group</th>\n",
              "      <th>Series_title_1</th>\n",
              "      <th>Series_title_2</th>\n",
              "      <th>Series_title_3</th>\n",
              "      <th>Series_title_4</th>\n",
              "      <th>Series_title_5</th>\n",
              "    </tr>\n",
              "  </thead>\n",
              "  <tbody>\n",
              "    <tr>\n",
              "      <th>0</th>\n",
              "      <td>MEIM.S1WA</td>\n",
              "      <td>1999.04</td>\n",
              "      <td>80267.0</td>\n",
              "      <td>NaN</td>\n",
              "      <td>F</td>\n",
              "      <td>Number</td>\n",
              "      <td>0</td>\n",
              "      <td>Employment indicators - MEI</td>\n",
              "      <td>High level industry by variable</td>\n",
              "      <td>Filled jobs</td>\n",
              "      <td>Primary industries</td>\n",
              "      <td>Actual</td>\n",
              "      <td>NaN</td>\n",
              "      <td>NaN</td>\n",
              "    </tr>\n",
              "    <tr>\n",
              "      <th>1</th>\n",
              "      <td>MEIM.S1WA</td>\n",
              "      <td>1999.05</td>\n",
              "      <td>70803.0</td>\n",
              "      <td>NaN</td>\n",
              "      <td>F</td>\n",
              "      <td>Number</td>\n",
              "      <td>0</td>\n",
              "      <td>Employment indicators - MEI</td>\n",
              "      <td>High level industry by variable</td>\n",
              "      <td>Filled jobs</td>\n",
              "      <td>Primary industries</td>\n",
              "      <td>Actual</td>\n",
              "      <td>NaN</td>\n",
              "      <td>NaN</td>\n",
              "    </tr>\n",
              "    <tr>\n",
              "      <th>2</th>\n",
              "      <td>MEIM.S1WA</td>\n",
              "      <td>1999.06</td>\n",
              "      <td>65792.0</td>\n",
              "      <td>NaN</td>\n",
              "      <td>F</td>\n",
              "      <td>Number</td>\n",
              "      <td>0</td>\n",
              "      <td>Employment indicators - MEI</td>\n",
              "      <td>High level industry by variable</td>\n",
              "      <td>Filled jobs</td>\n",
              "      <td>Primary industries</td>\n",
              "      <td>Actual</td>\n",
              "      <td>NaN</td>\n",
              "      <td>NaN</td>\n",
              "    </tr>\n",
              "    <tr>\n",
              "      <th>3</th>\n",
              "      <td>MEIM.S1WA</td>\n",
              "      <td>1999.07</td>\n",
              "      <td>66194.0</td>\n",
              "      <td>NaN</td>\n",
              "      <td>F</td>\n",
              "      <td>Number</td>\n",
              "      <td>0</td>\n",
              "      <td>Employment indicators - MEI</td>\n",
              "      <td>High level industry by variable</td>\n",
              "      <td>Filled jobs</td>\n",
              "      <td>Primary industries</td>\n",
              "      <td>Actual</td>\n",
              "      <td>NaN</td>\n",
              "      <td>NaN</td>\n",
              "    </tr>\n",
              "    <tr>\n",
              "      <th>4</th>\n",
              "      <td>MEIM.S1WA</td>\n",
              "      <td>1999.08</td>\n",
              "      <td>67259.0</td>\n",
              "      <td>NaN</td>\n",
              "      <td>F</td>\n",
              "      <td>Number</td>\n",
              "      <td>0</td>\n",
              "      <td>Employment indicators - MEI</td>\n",
              "      <td>High level industry by variable</td>\n",
              "      <td>Filled jobs</td>\n",
              "      <td>Primary industries</td>\n",
              "      <td>Actual</td>\n",
              "      <td>NaN</td>\n",
              "      <td>NaN</td>\n",
              "    </tr>\n",
              "  </tbody>\n",
              "</table>\n",
              "</div>\n",
              "      <button class=\"colab-df-convert\" onclick=\"convertToInteractive('df-4abfaff9-3a78-4c7f-b406-2ce5213432a8')\"\n",
              "              title=\"Convert this dataframe to an interactive table.\"\n",
              "              style=\"display:none;\">\n",
              "        \n",
              "  <svg xmlns=\"http://www.w3.org/2000/svg\" height=\"24px\"viewBox=\"0 0 24 24\"\n",
              "       width=\"24px\">\n",
              "    <path d=\"M0 0h24v24H0V0z\" fill=\"none\"/>\n",
              "    <path d=\"M18.56 5.44l.94 2.06.94-2.06 2.06-.94-2.06-.94-.94-2.06-.94 2.06-2.06.94zm-11 1L8.5 8.5l.94-2.06 2.06-.94-2.06-.94L8.5 2.5l-.94 2.06-2.06.94zm10 10l.94 2.06.94-2.06 2.06-.94-2.06-.94-.94-2.06-.94 2.06-2.06.94z\"/><path d=\"M17.41 7.96l-1.37-1.37c-.4-.4-.92-.59-1.43-.59-.52 0-1.04.2-1.43.59L10.3 9.45l-7.72 7.72c-.78.78-.78 2.05 0 2.83L4 21.41c.39.39.9.59 1.41.59.51 0 1.02-.2 1.41-.59l7.78-7.78 2.81-2.81c.8-.78.8-2.07 0-2.86zM5.41 20L4 18.59l7.72-7.72 1.47 1.35L5.41 20z\"/>\n",
              "  </svg>\n",
              "      </button>\n",
              "      \n",
              "  <style>\n",
              "    .colab-df-container {\n",
              "      display:flex;\n",
              "      flex-wrap:wrap;\n",
              "      gap: 12px;\n",
              "    }\n",
              "\n",
              "    .colab-df-convert {\n",
              "      background-color: #E8F0FE;\n",
              "      border: none;\n",
              "      border-radius: 50%;\n",
              "      cursor: pointer;\n",
              "      display: none;\n",
              "      fill: #1967D2;\n",
              "      height: 32px;\n",
              "      padding: 0 0 0 0;\n",
              "      width: 32px;\n",
              "    }\n",
              "\n",
              "    .colab-df-convert:hover {\n",
              "      background-color: #E2EBFA;\n",
              "      box-shadow: 0px 1px 2px rgba(60, 64, 67, 0.3), 0px 1px 3px 1px rgba(60, 64, 67, 0.15);\n",
              "      fill: #174EA6;\n",
              "    }\n",
              "\n",
              "    [theme=dark] .colab-df-convert {\n",
              "      background-color: #3B4455;\n",
              "      fill: #D2E3FC;\n",
              "    }\n",
              "\n",
              "    [theme=dark] .colab-df-convert:hover {\n",
              "      background-color: #434B5C;\n",
              "      box-shadow: 0px 1px 3px 1px rgba(0, 0, 0, 0.15);\n",
              "      filter: drop-shadow(0px 1px 2px rgba(0, 0, 0, 0.3));\n",
              "      fill: #FFFFFF;\n",
              "    }\n",
              "  </style>\n",
              "\n",
              "      <script>\n",
              "        const buttonEl =\n",
              "          document.querySelector('#df-4abfaff9-3a78-4c7f-b406-2ce5213432a8 button.colab-df-convert');\n",
              "        buttonEl.style.display =\n",
              "          google.colab.kernel.accessAllowed ? 'block' : 'none';\n",
              "\n",
              "        async function convertToInteractive(key) {\n",
              "          const element = document.querySelector('#df-4abfaff9-3a78-4c7f-b406-2ce5213432a8');\n",
              "          const dataTable =\n",
              "            await google.colab.kernel.invokeFunction('convertToInteractive',\n",
              "                                                     [key], {});\n",
              "          if (!dataTable) return;\n",
              "\n",
              "          const docLinkHtml = 'Like what you see? Visit the ' +\n",
              "            '<a target=\"_blank\" href=https://colab.research.google.com/notebooks/data_table.ipynb>data table notebook</a>'\n",
              "            + ' to learn more about interactive tables.';\n",
              "          element.innerHTML = '';\n",
              "          dataTable['output_type'] = 'display_data';\n",
              "          await google.colab.output.renderOutput(dataTable, element);\n",
              "          const docLink = document.createElement('div');\n",
              "          docLink.innerHTML = docLinkHtml;\n",
              "          element.appendChild(docLink);\n",
              "        }\n",
              "      </script>\n",
              "    </div>\n",
              "  </div>\n",
              "  "
            ]
          },
          "metadata": {},
          "execution_count": 4
        }
      ]
    },
    {
      "cell_type": "code",
      "source": [
        "dataset.shape"
      ],
      "metadata": {
        "colab": {
          "base_uri": "https://localhost:8080/"
        },
        "id": "zVzj0ZxZN3HG",
        "outputId": "2a8dae2f-bb81-407e-bb23-e180a07508c0"
      },
      "execution_count": 5,
      "outputs": [
        {
          "output_type": "execute_result",
          "data": {
            "text/plain": [
              "(18326, 14)"
            ]
          },
          "metadata": {},
          "execution_count": 5
        }
      ]
    },
    {
      "cell_type": "markdown",
      "source": [
        "we can use both indexing and <i>.iloc</i> funtion to get access into data. But before feedin the data to the model we have to use <i>.values.</i> We can use .iloc when the colunms are too many. And we can use indexing when the target colunm is in the middle."
      ],
      "metadata": {
        "id": "wvHysSgNen73"
      }
    },
    {
      "cell_type": "code",
      "source": [
        "var=dataset[[\"Series_reference\",\"Period\",\"Data_value\"]] # call like list elements with column name"
      ],
      "metadata": {
        "colab": {
          "base_uri": "https://localhost:8080/"
        },
        "id": "txwi-T9KOPHi",
        "outputId": "85a331a7-34e5-4540-c1ff-4d772dbba841"
      },
      "execution_count": 7,
      "outputs": [
        {
          "output_type": "stream",
          "name": "stdout",
          "text": [
            "      Series_reference   Period  Data_value\n",
            "0            MEIM.S1WA  1999.04     80267.0\n",
            "1            MEIM.S1WA  1999.05     70803.0\n",
            "2            MEIM.S1WA  1999.06     65792.0\n",
            "3            MEIM.S1WA  1999.07     66194.0\n",
            "4            MEIM.S1WA  1999.08     67259.0\n",
            "...                ...      ...         ...\n",
            "18321        MEIQ.S2ZT  2021.03         NaN\n",
            "18322        MEIQ.S2ZT  2021.06         NaN\n",
            "18323        MEIQ.S2ZT  2021.09         NaN\n",
            "18324        MEIQ.S2ZT  2021.12         NaN\n",
            "18325        MEIQ.S2ZT  2022.03         NaN\n",
            "\n",
            "[18326 rows x 3 columns]\n"
          ]
        }
      ]
    },
    {
      "cell_type": "code",
      "source": [
        "var2=var.values #.values remove the col name and make an numpy array\n",
        "var2 #gives array"
      ],
      "metadata": {
        "colab": {
          "base_uri": "https://localhost:8080/"
        },
        "id": "RKyxM7TsPtII",
        "outputId": "0f1399a2-13ed-47a7-8ebf-f495729f6ae7"
      },
      "execution_count": 9,
      "outputs": [
        {
          "output_type": "execute_result",
          "data": {
            "text/plain": [
              "array([['MEIM.S1WA', 1999.04, 80267.0],\n",
              "       ['MEIM.S1WA', 1999.05, 70803.0],\n",
              "       ['MEIM.S1WA', 1999.06, 65792.0],\n",
              "       ...,\n",
              "       ['MEIQ.S2ZT', 2021.09, nan],\n",
              "       ['MEIQ.S2ZT', 2021.12, nan],\n",
              "       ['MEIQ.S2ZT', 2022.03, nan]], dtype=object)"
            ]
          },
          "metadata": {},
          "execution_count": 9
        }
      ]
    },
    {
      "cell_type": "code",
      "source": [
        "var_type2= list(dataset.iloc[:0,:])\n",
        "var_type2"
      ],
      "metadata": {
        "colab": {
          "base_uri": "https://localhost:8080/"
        },
        "id": "EQvmJAr-P-_D",
        "outputId": "6c88db94-b63b-4985-ef37-74a9b2c90bd8"
      },
      "execution_count": 23,
      "outputs": [
        {
          "output_type": "execute_result",
          "data": {
            "text/plain": [
              "['Series_reference',\n",
              " 'Period',\n",
              " 'Data_value',\n",
              " 'Suppressed',\n",
              " 'STATUS',\n",
              " 'UNITS',\n",
              " 'Magnitude',\n",
              " 'Subject',\n",
              " 'Group',\n",
              " 'Series_title_1',\n",
              " 'Series_title_2',\n",
              " 'Series_title_3',\n",
              " 'Series_title_4',\n",
              " 'Series_title_5']"
            ]
          },
          "metadata": {},
          "execution_count": 23
        }
      ]
    },
    {
      "cell_type": "code",
      "source": [
        ""
      ],
      "metadata": {
        "id": "jCbFRuXBiRas"
      },
      "execution_count": null,
      "outputs": []
    },
    {
      "cell_type": "markdown",
      "source": [
        "but the problem occures when there are many colunms and the target colunm is in the middle then what to do?"
      ],
      "metadata": {
        "id": "cColiSI-gl5Z"
      }
    },
    {
      "cell_type": "markdown",
      "source": [
        "So we will use a generalize function to select the y and x axis"
      ],
      "metadata": {
        "id": "7yvqCTQthQrz"
      }
    },
    {
      "cell_type": "code",
      "source": [
        "def sep_YX(dataset):\n",
        "  "
      ],
      "metadata": {
        "id": "bOpfZosrf9p4"
      },
      "execution_count": null,
      "outputs": []
    },
    {
      "cell_type": "code",
      "source": [
        ""
      ],
      "metadata": {
        "id": "KYm06yC5cD1l"
      },
      "execution_count": null,
      "outputs": []
    }
  ]
}