{
  "nbformat": 4,
  "nbformat_minor": 0,
  "metadata": {
    "colab": {
      "name": "Lime_XG_Boost.ipynb",
      "provenance": [],
      "authorship_tag": "ABX9TyPjKBRs5BkZr16ilS4Bio2T",
      "include_colab_link": true
    },
    "kernelspec": {
      "name": "python3",
      "display_name": "Python 3"
    },
    "language_info": {
      "name": "python"
    }
  },
  "cells": [
    {
      "cell_type": "markdown",
      "metadata": {
        "id": "view-in-github",
        "colab_type": "text"
      },
      "source": [
        "<a href=\"https://colab.research.google.com/github/RafsanJany-44/Machine-School/blob/main/Lime_XG_Boost.ipynb\" target=\"_parent\"><img src=\"https://colab.research.google.com/assets/colab-badge.svg\" alt=\"Open In Colab\"/></a>"
      ]
    },
    {
      "cell_type": "code",
      "execution_count": null,
      "metadata": {
        "id": "5Bbl9NkHLufy"
      },
      "outputs": [],
      "source": [
        "import pandas as pd\n",
        "import numpy as np\n",
        "\n",
        "data = 'https://raw.githubusercontent.com/RafsanJany-44/Thesis_Project/main/All_DATA/without_sn_and_Epoch/EEG_HMC.csv'\n",
        "dataset = pd.read_csv(data)\n",
        "X = dataset.iloc[:, 1:]\n",
        "y = dataset.iloc[:, 0]\n"
      ]
    },
    {
      "cell_type": "code",
      "source": [
        "from sklearn.model_selection import train_test_split\n",
        "X_train, X_test, y_train, y_test = train_test_split(X, y, test_size=0.33, random_state=0)"
      ],
      "metadata": {
        "id": "Eim73Nc3LxgP"
      },
      "execution_count": null,
      "outputs": []
    },
    {
      "cell_type": "code",
      "source": [
        "type(X_train)"
      ],
      "metadata": {
        "colab": {
          "base_uri": "https://localhost:8080/"
        },
        "id": "at2LuWp2y9ZE",
        "outputId": "d6ebee89-e5f7-45db-ca83-db2fe42f32b6"
      },
      "execution_count": null,
      "outputs": [
        {
          "output_type": "execute_result",
          "data": {
            "text/plain": [
              "pandas.core.frame.DataFrame"
            ]
          },
          "metadata": {},
          "execution_count": 4
        }
      ]
    },
    {
      "cell_type": "code",
      "source": [
        "X_train2=X_train\n",
        "X_test2=X_test\n",
        "\n",
        "from sklearn.preprocessing import StandardScaler\n",
        "sc = StandardScaler()\n",
        "X_train =sc.fit_transform(X_train)\n",
        "\n",
        "X_test =sc.fit_transform(X_test)\n",
        "\n",
        "\n",
        "X_train = pd.DataFrame(X_train, index=X_train2.index, columns=X_train2.columns)\n",
        "X_test = pd.DataFrame(X_test, index=X_test2.index, columns=X_test2.columns)"
      ],
      "metadata": {
        "id": "7XYoUKL8uOGk"
      },
      "execution_count": null,
      "outputs": []
    },
    {
      "cell_type": "code",
      "source": [
        "import xgboost as xgb\n",
        "bst = xgb.XGBClassifier(n_estimators=100, max_depth=5)\n",
        "bst.fit(X_train.values, y_train.values)"
      ],
      "metadata": {
        "colab": {
          "base_uri": "https://localhost:8080/"
        },
        "id": "_FJ0K1rjL-U-",
        "outputId": "5e3278b7-fbf3-4434-fc8a-72a97655be0e"
      },
      "execution_count": null,
      "outputs": [
        {
          "output_type": "execute_result",
          "data": {
            "text/plain": [
              "XGBClassifier(max_depth=5, objective='multi:softprob')"
            ]
          },
          "metadata": {},
          "execution_count": 6
        }
      ]
    },
    {
      "cell_type": "code",
      "source": [],
      "metadata": {
        "id": "qOxEWYYAwP6V"
      },
      "execution_count": null,
      "outputs": []
    },
    {
      "cell_type": "code",
      "source": [
        "i = 10\n",
        "X_train.iloc[i, :]"
      ],
      "metadata": {
        "colab": {
          "base_uri": "https://localhost:8080/"
        },
        "id": "jtXBvHq0sX2G",
        "outputId": "63d50e9c-994b-498a-ed92-506360be40a6"
      },
      "execution_count": null,
      "outputs": [
        {
          "output_type": "execute_result",
          "data": {
            "text/plain": [
              "MeanP_Alpha_F4           -0.082760\n",
              "MedianF_Alpha_F4         -1.402042\n",
              "MeanF_Alpha_F4            0.487647\n",
              "Spectral Edge_Alpha_F4    0.061477\n",
              "PeakF_Alpha_F4           -0.692238\n",
              "                            ...   \n",
              "MeanP_Gamma_O2           -0.096603\n",
              "MedianF_Gamma_O2          0.092081\n",
              "MeanF_Gamma_O2            0.052669\n",
              "Spectral Edge_Gamma_O2    0.461608\n",
              "PeakF_Gamma_O2            0.470046\n",
              "Name: 19502, Length: 75, dtype: float64"
            ]
          },
          "metadata": {},
          "execution_count": 7
        }
      ]
    },
    {
      "cell_type": "code",
      "source": [
        "!pip install lime"
      ],
      "metadata": {
        "colab": {
          "base_uri": "https://localhost:8080/"
        },
        "id": "JM9ZimaDvsHM",
        "outputId": "dfe551ba-f3b2-4254-9c33-3cf0aaa0a8b9"
      },
      "execution_count": null,
      "outputs": [
        {
          "output_type": "stream",
          "name": "stdout",
          "text": [
            "Looking in indexes: https://pypi.org/simple, https://us-python.pkg.dev/colab-wheels/public/simple/\n",
            "Collecting lime\n",
            "  Downloading lime-0.2.0.1.tar.gz (275 kB)\n",
            "\u001b[K     |████████████████████████████████| 275 kB 5.1 MB/s \n",
            "\u001b[?25hRequirement already satisfied: matplotlib in /usr/local/lib/python3.8/dist-packages (from lime) (3.2.2)\n",
            "Requirement already satisfied: numpy in /usr/local/lib/python3.8/dist-packages (from lime) (1.21.6)\n",
            "Requirement already satisfied: scipy in /usr/local/lib/python3.8/dist-packages (from lime) (1.7.3)\n",
            "Requirement already satisfied: tqdm in /usr/local/lib/python3.8/dist-packages (from lime) (4.64.1)\n",
            "Requirement already satisfied: scikit-learn>=0.18 in /usr/local/lib/python3.8/dist-packages (from lime) (1.0.2)\n",
            "Requirement already satisfied: scikit-image>=0.12 in /usr/local/lib/python3.8/dist-packages (from lime) (0.18.3)\n",
            "Requirement already satisfied: PyWavelets>=1.1.1 in /usr/local/lib/python3.8/dist-packages (from scikit-image>=0.12->lime) (1.4.1)\n",
            "Requirement already satisfied: networkx>=2.0 in /usr/local/lib/python3.8/dist-packages (from scikit-image>=0.12->lime) (2.8.8)\n",
            "Requirement already satisfied: pillow!=7.1.0,!=7.1.1,>=4.3.0 in /usr/local/lib/python3.8/dist-packages (from scikit-image>=0.12->lime) (7.1.2)\n",
            "Requirement already satisfied: tifffile>=2019.7.26 in /usr/local/lib/python3.8/dist-packages (from scikit-image>=0.12->lime) (2022.10.10)\n",
            "Requirement already satisfied: imageio>=2.3.0 in /usr/local/lib/python3.8/dist-packages (from scikit-image>=0.12->lime) (2.9.0)\n",
            "Requirement already satisfied: kiwisolver>=1.0.1 in /usr/local/lib/python3.8/dist-packages (from matplotlib->lime) (1.4.4)\n",
            "Requirement already satisfied: pyparsing!=2.0.4,!=2.1.2,!=2.1.6,>=2.0.1 in /usr/local/lib/python3.8/dist-packages (from matplotlib->lime) (3.0.9)\n",
            "Requirement already satisfied: python-dateutil>=2.1 in /usr/local/lib/python3.8/dist-packages (from matplotlib->lime) (2.8.2)\n",
            "Requirement already satisfied: cycler>=0.10 in /usr/local/lib/python3.8/dist-packages (from matplotlib->lime) (0.11.0)\n",
            "Requirement already satisfied: six>=1.5 in /usr/local/lib/python3.8/dist-packages (from python-dateutil>=2.1->matplotlib->lime) (1.15.0)\n",
            "Requirement already satisfied: joblib>=0.11 in /usr/local/lib/python3.8/dist-packages (from scikit-learn>=0.18->lime) (1.2.0)\n",
            "Requirement already satisfied: threadpoolctl>=2.0.0 in /usr/local/lib/python3.8/dist-packages (from scikit-learn>=0.18->lime) (3.1.0)\n",
            "Building wheels for collected packages: lime\n",
            "  Building wheel for lime (setup.py) ... \u001b[?25l\u001b[?25hdone\n",
            "  Created wheel for lime: filename=lime-0.2.0.1-py3-none-any.whl size=283857 sha256=8c97234ae60df02507bc3a150173f88c7ad882b6195bf62186f473f5f7355468\n",
            "  Stored in directory: /root/.cache/pip/wheels/e6/a6/20/cc1e293fcdb67ede666fed293cb895395e7ecceb4467779546\n",
            "Successfully built lime\n",
            "Installing collected packages: lime\n",
            "Successfully installed lime-0.2.0.1\n"
          ]
        }
      ]
    },
    {
      "cell_type": "code",
      "source": [
        "type(X_train.values)"
      ],
      "metadata": {
        "colab": {
          "base_uri": "https://localhost:8080/"
        },
        "id": "e-cVyllBBkyt",
        "outputId": "d30eafa8-d831-4956-8201-5bfe5a30b465"
      },
      "execution_count": null,
      "outputs": [
        {
          "output_type": "execute_result",
          "data": {
            "text/plain": [
              "numpy.ndarray"
            ]
          },
          "metadata": {},
          "execution_count": 12
        }
      ]
    },
    {
      "cell_type": "code",
      "source": [
        "type(X_train.iloc[i, :].values)"
      ],
      "metadata": {
        "colab": {
          "base_uri": "https://localhost:8080/"
        },
        "id": "mfmykaeQBnlG",
        "outputId": "3b5a8a8a-9c7c-4d7d-fa4b-d2352a8fd0f9"
      },
      "execution_count": null,
      "outputs": [
        {
          "output_type": "execute_result",
          "data": {
            "text/plain": [
              "numpy.ndarray"
            ]
          },
          "metadata": {},
          "execution_count": 13
        }
      ]
    },
    {
      "cell_type": "code",
      "source": [
        "import lime\n",
        "from lime import lime_tabular\n",
        "explainer = lime.lime_tabular.LimeTabularExplainer(X_train.values,  # fitted_df.iloc[:,:-1].values.astype(float),\n",
        "                                                   feature_names=list(dataset.iloc[:0,1:]),\n",
        "                                                   class_names=['N1','N2','N3','R','W'])"
      ],
      "metadata": {
        "id": "hQvEGNfGs4bn"
      },
      "execution_count": null,
      "outputs": []
    },
    {
      "cell_type": "code",
      "source": [
        "exp = explainer.explain_instance(X_test.iloc[i, :].values,\n",
        "                                 bst.predict_proba,\n",
        "                                 num_features=6,\n",
        "                                 top_labels=2)\n",
        "\n",
        "#exp.show_in_notebook(show_table=True, show_all=False)"
      ],
      "metadata": {
        "id": "UGSHZrr3tfhH"
      },
      "execution_count": null,
      "outputs": []
    },
    {
      "cell_type": "code",
      "source": [
        "exp.save_to_file(\"classif_explanation.html\")"
      ],
      "metadata": {
        "id": "ciMxFz7x08Bc"
      },
      "execution_count": null,
      "outputs": []
    },
    {
      "cell_type": "code",
      "source": [
        "bin(-3 % (1<<8))"
      ],
      "metadata": {
        "colab": {
          "base_uri": "https://localhost:8080/",
          "height": 36
        },
        "id": "T-pyAh_7EBoN",
        "outputId": "1469a19a-74d6-492b-9bf3-df794fda2e63"
      },
      "execution_count": null,
      "outputs": [
        {
          "output_type": "execute_result",
          "data": {
            "text/plain": [
              "'0b11111101'"
            ],
            "application/vnd.google.colaboratory.intrinsic+json": {
              "type": "string"
            }
          },
          "metadata": {},
          "execution_count": 39
        }
      ]
    },
    {
      "cell_type": "code",
      "source": [
        "bin(-3 % (1<<8))[2:-4]"
      ],
      "metadata": {
        "id": "taGpmalIN0cD",
        "outputId": "585a09d5-4e44-4f7f-ddc3-f422a65dd41d",
        "colab": {
          "base_uri": "https://localhost:8080/",
          "height": 36
        }
      },
      "execution_count": null,
      "outputs": [
        {
          "output_type": "execute_result",
          "data": {
            "text/plain": [
              "'1111'"
            ],
            "application/vnd.google.colaboratory.intrinsic+json": {
              "type": "string"
            }
          },
          "metadata": {},
          "execution_count": 46
        }
      ]
    },
    {
      "cell_type": "code",
      "source": [
        "bin(-3 % (1<<8))[-4:]"
      ],
      "metadata": {
        "id": "FJo9W9RiNh_o",
        "outputId": "331ebb80-6342-4531-e3c9-f5eb63e3483d",
        "colab": {
          "base_uri": "https://localhost:8080/",
          "height": 36
        }
      },
      "execution_count": null,
      "outputs": [
        {
          "output_type": "execute_result",
          "data": {
            "text/plain": [
              "'1101'"
            ],
            "application/vnd.google.colaboratory.intrinsic+json": {
              "type": "string"
            }
          },
          "metadata": {},
          "execution_count": 41
        }
      ]
    },
    {
      "cell_type": "code",
      "source": [
        "# a function to convert binary to hexadecimal\n",
        "def binToHexa(n):\n",
        "    return hex(int(n, 2))[2:]  # [2:] to remove 0x\n",
        "\n",
        "# a function to convert decimal to binary\n",
        "def deciToBin(n):\n",
        "  return bin(int(n,10))\n",
        "\n",
        "def main(assembly):\n",
        "  #opcode dictionary\n",
        "  opcode_type_1={      #op + register1 + rgister2\n",
        "    \"add\"   : \"0000\",\n",
        "    \"sub\"   : \"0010\",\n",
        "    \"and\"   : \"0100\",\n",
        "    \"or\"    : \"0110\",\n",
        "    \"xor\"   : \"0111\",\n",
        "    \"nand\"  : \"1000\",\n",
        "    \"slt\"   : \"1101\"\n",
        "    \n",
        "  }\n",
        "\n",
        "  opcode_type_2 = {     #op + register + imm\n",
        "    \"beq\"   : \"1011\",\n",
        "    \"bne\"   : \"1100\",    \n",
        "    \"addi\"  : \"0001\",\n",
        "    \"subi\"  : \"0011\",\n",
        "    \"sll\"   : \"0101\",\n",
        "    \"lw\"    : \"1001\",\n",
        "    \"sw\"    : \"1010\",\n",
        "    \"slti\"  : \"1110\"\n",
        "  }\n",
        "\n",
        "  opcode_type_3 = {     #op + register\n",
        "    #\"disp\"  : \"1010\",\n",
        "    \"j\"     : \"1111\"\n",
        "  }\n",
        "\n",
        "  registers={\n",
        "    \"$zero\" : \"0000\",\n",
        "    \"$s0\"   : \"0001\",\n",
        "    \"$s1\"   : \"0010\",\n",
        "    \"$s2\"   : \"0011\",\n",
        "    \"$s3\"   : \"0100\",\n",
        "    \"$s4\"   : \"0101\",\n",
        "    \"$s5\"   : \"0110\",\n",
        "    \"$s6\"   : \"0111\",\n",
        "    \"$t0\"   : \"1000\",\n",
        "    \"$t1\"   : \"1001\",\n",
        "    \"$t2\"   : \"1010\",\n",
        "    \"$t3\"   : \"1011\",\n",
        "    \"$t4\"   : \"1100\",\n",
        "    \"$t5\"   : \"1101\",\n",
        "    \"$t6\"   : \"1110\",\n",
        "    \"$t7\"   : \"1111\",\n",
        "   # \"$in\"   : \"1110\",   \n",
        "   # \"$out\"  : \"1111\"\n",
        "  }\n",
        "\n",
        "  gateway = list(assembly.lower().split(\" \"))\n",
        "\n",
        "  #this section will formate the space (add $s1,$s2 or add $s1, $s2 )\n",
        "  try:\n",
        "    if len(gateway)==3:\n",
        "      instruction = gateway[0]\n",
        "      reg=[gateway[1].replace(',', ''), gateway[2]]\n",
        "\n",
        "    else:\n",
        "      instruction = gateway[0]\n",
        "      reg=gateway[1].split(\",\")\n",
        "  except Exception as e:\n",
        "      return \"Syntex Does not match!!\"\n",
        "\n",
        "  #in this section,  type 1 will be decoded.\n",
        "  if instruction in opcode_type_1.keys():\n",
        "    try:\n",
        "      hexa_opCode = binToHexa(opcode_type_1[instruction])\n",
        "      hexa_rs     = binToHexa(registers[reg[0]])\n",
        "      hexa_rd     = binToHexa(registers[reg[1]])\n",
        "      return hexa_opCode + hexa_rs + hexa_rd\n",
        "    \n",
        "    except Exception as e:\n",
        "      return \"Syntex Does not match!!\"\n",
        "\n",
        "\n",
        "  #in this section, type 2 will be decoded.\n",
        "  elif instruction in opcode_type_2.keys():\n",
        "    try:\n",
        "      if int(reg[1],10)<=15:                #immediate can not be greater then 15 cause register hase only 4 bit\n",
        "        hexa_opCode   = binToHexa(opcode_type_2[instruction])\n",
        "        hexa_rs       = binToHexa(registers[reg[0]])\n",
        "        immediate_bin = deciToBin(reg[1])                     \n",
        "        hexa_immediate     = binToHexa(immediate_bin)\n",
        "        return hexa_opCode + hexa_rs + hexa_immediate\n",
        "      else:\n",
        "        return \"Bits out of bound....\"\n",
        "    \n",
        "    except Exception as e:\n",
        "          return \"Syntex Does not match!!\"\n",
        "\n",
        "\n",
        "  #in this section,type 3 will be decoded.\n",
        "  elif instruction in opcode_type_3.keys():\n",
        "    try:\n",
        "      if int(reg[0])>0:\n",
        "        hexa_opCode   = binToHexa(opcode_type_3[instruction])\n",
        "        immediate_bin = deciToBin(reg[0])                 \n",
        "        hexa_immediate     = binToHexa(bin(int(reg[0]))[2:].zfill(8)[:4])+binToHexa(bin(int(reg[0]))[2:].zfill(8)[4:])\n",
        "        return hexa_opCode + hexa_immediate\n",
        "      else:\n",
        "        hexa_opCode   = binToHexa(opcode_type_3[instruction])              \n",
        "        hexa_immediate     = binToHexa(bin(int(reg[0]) % (1<<8))[2:-4])+binToHexa(bin(int(reg[0]) % (1<<8))[-4:])\n",
        "        return hexa_opCode + hexa_immediate\n",
        "\n",
        "    \n",
        "    except Exception as e:\n",
        "          return \"Syntex Does not match!!\"\n",
        "\n",
        "  else:\n",
        "       return \"Opcode did not match\"\n",
        "\n",
        "\n",
        "\n",
        "#File reading and writing section\n",
        "input_file =  input(\"Enter the name of Assembly text File: \")\n",
        "output_file = input(\"Enter the name of Hexa text File: \")\n",
        "\n",
        "hex_list=[]\n",
        "\n",
        "try:\n",
        "  #reading the Input.txt file\n",
        "  file1 = open(input_file, 'r')\n",
        "  Lines = file1.readlines()\n",
        "  for line in Lines:\n",
        "      hex_list.append(main(line.strip()))\n",
        "\n",
        "  #wrriting the file\n",
        "  with open(output_file, 'w') as f:\n",
        "    for code in hex_list:\n",
        "      f.write(code)\n",
        "      f.write('\\n')\n",
        "\n",
        "except Exception as e: print(e)"
      ],
      "metadata": {
        "colab": {
          "base_uri": "https://localhost:8080/"
        },
        "id": "0Dy0yoL8ECOz",
        "outputId": "d4c1308d-d260-43d2-e5c9-59a039d3cde5"
      },
      "execution_count": 12,
      "outputs": [
        {
          "name": "stdout",
          "output_type": "stream",
          "text": [
            "Enter the name of Assembly text File: test.txt\n",
            "Enter the name of Hexa text File: p.txt\n"
          ]
        }
      ]
    },
    {
      "cell_type": "code",
      "source": [
        "def twos_comp(val, bits):\n",
        "    if (val & (1 << (bits - 1))) != 0:\n",
        "        val = val - (1 << bits)\n",
        "    return val           "
      ],
      "metadata": {
        "id": "pfojOTvvJniW"
      },
      "execution_count": null,
      "outputs": []
    },
    {
      "cell_type": "code",
      "source": [
        "print(twos_comp(int(\"-2\"), bits))"
      ],
      "metadata": {
        "id": "ZQLQeNGKKBI0"
      },
      "execution_count": null,
      "outputs": []
    },
    {
      "cell_type": "code",
      "source": [
        "bin(6)[2:].zfill(8)[4:]"
      ],
      "metadata": {
        "id": "cPvGB-ehPh44",
        "outputId": "05f80896-b949-42ca-fb1a-0e2e70a1a57b",
        "colab": {
          "base_uri": "https://localhost:8080/",
          "height": 38
        }
      },
      "execution_count": 7,
      "outputs": [
        {
          "output_type": "execute_result",
          "data": {
            "text/plain": [
              "'0110'"
            ],
            "application/vnd.google.colaboratory.intrinsic+json": {
              "type": "string"
            }
          },
          "metadata": {},
          "execution_count": 7
        }
      ]
    },
    {
      "cell_type": "code",
      "source": [],
      "metadata": {
        "id": "VYJGkv9PPsRs"
      },
      "execution_count": null,
      "outputs": []
    }
  ]
}