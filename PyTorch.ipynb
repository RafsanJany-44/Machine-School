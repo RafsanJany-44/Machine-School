{
  "nbformat": 4,
  "nbformat_minor": 0,
  "metadata": {
    "colab": {
      "provenance": [],
      "gpuType": "T4",
      "authorship_tag": "ABX9TyOaDClFIhYCkOk5ADP5I6tL",
      "include_colab_link": true
    },
    "kernelspec": {
      "name": "python3",
      "display_name": "Python 3"
    },
    "language_info": {
      "name": "python"
    },
    "accelerator": "GPU"
  },
  "cells": [
    {
      "cell_type": "markdown",
      "metadata": {
        "id": "view-in-github",
        "colab_type": "text"
      },
      "source": [
        "<a href=\"https://colab.research.google.com/github/RafsanJany-44/Machine-School/blob/main/PyTorch.ipynb\" target=\"_parent\"><img src=\"https://colab.research.google.com/assets/colab-badge.svg\" alt=\"Open In Colab\"/></a>"
      ]
    },
    {
      "cell_type": "markdown",
      "source": [
        "#TENSORS\n",
        "Tensors are similar to NumPy’s ndarrays, except that tensors can run on GPUs or other specialized hardware to accelerate computing. If you’re familiar with ndarrays, you’ll be right at home with the Tensor API. If not, follow along in this quick API walkthrough."
      ],
      "metadata": {
        "id": "lp6NMBNp9DVn"
      }
    },
    {
      "cell_type": "code",
      "execution_count": 113,
      "metadata": {
        "id": "deo8G5Am8Fl_"
      },
      "outputs": [],
      "source": [
        "import torch\n",
        "import numpy as np"
      ]
    },
    {
      "cell_type": "markdown",
      "source": [
        "#Tensor Initialization\n",
        "Tensors can be initialized in various ways. Take a look at the following examples:\n",
        "<br><br>\n",
        "<b>Directly from data</b>\n",
        "\n",
        "Tensors can be created directly from data. The data type is automatically inferred.\n",
        "\n"
      ],
      "metadata": {
        "id": "i0h0cPmq9Mzf"
      }
    },
    {
      "cell_type": "code",
      "source": [
        "data = [[1, 2], [3, 4]]\n",
        "x_data = torch.tensor(data)"
      ],
      "metadata": {
        "id": "6fHT9Q-K9JQE"
      },
      "execution_count": 114,
      "outputs": []
    },
    {
      "cell_type": "code",
      "source": [
        "x_data"
      ],
      "metadata": {
        "colab": {
          "base_uri": "https://localhost:8080/"
        },
        "id": "f5_US1MF9JM3",
        "outputId": "c370c6f5-95ac-4be4-9ae1-a65811a9b6cf"
      },
      "execution_count": 115,
      "outputs": [
        {
          "output_type": "execute_result",
          "data": {
            "text/plain": [
              "tensor([[1, 2],\n",
              "        [3, 4]])"
            ]
          },
          "metadata": {},
          "execution_count": 115
        }
      ]
    },
    {
      "cell_type": "markdown",
      "source": [
        "#From a NumPy array\n",
        "\n",
        "Tensors can be created from NumPy arrays (and vice versa - see Bridge with NumPy)."
      ],
      "metadata": {
        "id": "lOfchZEi9vzE"
      }
    },
    {
      "cell_type": "code",
      "source": [
        "np_array = np.array(data)\n",
        "x_np = torch.from_numpy(np_array)"
      ],
      "metadata": {
        "id": "QJevqnF_9I-N"
      },
      "execution_count": 116,
      "outputs": []
    },
    {
      "cell_type": "code",
      "source": [
        "np_array"
      ],
      "metadata": {
        "colab": {
          "base_uri": "https://localhost:8080/"
        },
        "id": "K6dHSPqG9_K5",
        "outputId": "f41d9f7e-b01f-4fa7-b796-60bfd48ee477"
      },
      "execution_count": 117,
      "outputs": [
        {
          "output_type": "execute_result",
          "data": {
            "text/plain": [
              "array([[1, 2],\n",
              "       [3, 4]])"
            ]
          },
          "metadata": {},
          "execution_count": 117
        }
      ]
    },
    {
      "cell_type": "code",
      "source": [
        "x_np"
      ],
      "metadata": {
        "colab": {
          "base_uri": "https://localhost:8080/"
        },
        "id": "SwRjO88c9I6w",
        "outputId": "48e9a8e5-46c8-45e1-b138-c941e61272fb"
      },
      "execution_count": 118,
      "outputs": [
        {
          "output_type": "execute_result",
          "data": {
            "text/plain": [
              "tensor([[1, 2],\n",
              "        [3, 4]])"
            ]
          },
          "metadata": {},
          "execution_count": 118
        }
      ]
    },
    {
      "cell_type": "markdown",
      "source": [
        "#From another tensor:\n",
        "\n",
        "The new tensor retains the properties (shape, datatype) of the argument tensor, unless explicitly overridden."
      ],
      "metadata": {
        "id": "gEJ348pz-kHi"
      }
    },
    {
      "cell_type": "code",
      "source": [
        "x_ones = torch.ones_like(x_data) # retains the properties of x_data\n",
        "print(f\"Ones Tensor: \\n {x_ones} \\n\")\n",
        "\n",
        "x_rand = torch.rand_like(x_data, dtype=torch.float) # overrides the datatype of x_data\n",
        "print(f\"Random Tensor: \\n {x_rand} \\n\")"
      ],
      "metadata": {
        "colab": {
          "base_uri": "https://localhost:8080/"
        },
        "id": "sYVgZ3h69I2Z",
        "outputId": "06386a43-65d9-4033-d460-841c31b397a5"
      },
      "execution_count": 119,
      "outputs": [
        {
          "output_type": "stream",
          "name": "stdout",
          "text": [
            "Ones Tensor: \n",
            " tensor([[1, 1],\n",
            "        [1, 1]]) \n",
            "\n",
            "Random Tensor: \n",
            " tensor([[0.9247, 0.6148],\n",
            "        [0.1284, 0.7852]]) \n",
            "\n"
          ]
        }
      ]
    },
    {
      "cell_type": "markdown",
      "source": [
        "#With random or constant values:\n",
        "\n",
        "shape is a tuple of tensor dimensions. In the functions below, it determines the dimensionality of the output tensor.\n",
        "\n"
      ],
      "metadata": {
        "id": "gOgr33V0_I-5"
      }
    },
    {
      "cell_type": "code",
      "source": [
        "shape = (2, 3,)\n",
        "rand_tensor = torch.rand(shape)\n",
        "ones_tensor = torch.ones(shape)\n",
        "zeros_tensor = torch.zeros(shape)\n",
        "\n",
        "print(f\"Random Tensor: \\n {rand_tensor} \\n\")\n",
        "print(f\"Ones Tensor: \\n {ones_tensor} \\n\")\n",
        "print(f\"Zeros Tensor: \\n {zeros_tensor}\")"
      ],
      "metadata": {
        "colab": {
          "base_uri": "https://localhost:8080/"
        },
        "id": "a-VX_j1T9IvC",
        "outputId": "9b592863-cdb6-4aed-fd5f-fae6dd94c129"
      },
      "execution_count": 120,
      "outputs": [
        {
          "output_type": "stream",
          "name": "stdout",
          "text": [
            "Random Tensor: \n",
            " tensor([[0.7593, 0.5892, 0.9364],\n",
            "        [0.0156, 0.0845, 0.0341]]) \n",
            "\n",
            "Ones Tensor: \n",
            " tensor([[1., 1., 1.],\n",
            "        [1., 1., 1.]]) \n",
            "\n",
            "Zeros Tensor: \n",
            " tensor([[0., 0., 0.],\n",
            "        [0., 0., 0.]])\n"
          ]
        }
      ]
    },
    {
      "cell_type": "markdown",
      "source": [
        "#Tensor Attributes\n",
        "Tensor attributes describe their shape, datatype, and the device on which they are stored."
      ],
      "metadata": {
        "id": "YUpknDVfAokb"
      }
    },
    {
      "cell_type": "code",
      "source": [
        "tensor = torch.rand(3, 4)\n",
        "\n",
        "print(f\"Shape of tensor: {tensor.shape}\")\n",
        "print(f\"Datatype of tensor: {tensor.dtype}\")\n",
        "print(f\"Device tensor is stored on: {tensor.device}\")"
      ],
      "metadata": {
        "colab": {
          "base_uri": "https://localhost:8080/"
        },
        "id": "PInuswJDAsRC",
        "outputId": "30468df2-ffb9-4a91-cce8-f4fc10d73d76"
      },
      "execution_count": 121,
      "outputs": [
        {
          "output_type": "stream",
          "name": "stdout",
          "text": [
            "Shape of tensor: torch.Size([3, 4])\n",
            "Datatype of tensor: torch.float32\n",
            "Device tensor is stored on: cpu\n"
          ]
        }
      ]
    },
    {
      "cell_type": "markdown",
      "source": [
        "#Tensor Operations\n",
        "Over 100 tensor operations, including transposing, indexing, slicing, mathematical operations, linear algebra, random sampling, and more are comprehensively described here.\n",
        "\n",
        "Each of them can be run on the GPU (at typically higher speeds than on a CPU). If you’re using Colab, allocate a GPU by going to Edit > Notebook Settings.\n",
        "\n"
      ],
      "metadata": {
        "id": "RHzb3qDJA2ju"
      }
    },
    {
      "cell_type": "code",
      "source": [
        "# We move our tensor to the GPU if available\n",
        "if torch.cuda.is_available():\n",
        "  tensor = tensor.to('cuda')\n",
        "  print(f\"Device tensor is stored on: {tensor.device}\")\n",
        "else:\n",
        "  print(\"No GPU, You gorib!!!\")"
      ],
      "metadata": {
        "colab": {
          "base_uri": "https://localhost:8080/"
        },
        "id": "bnEv_ZeDAsNa",
        "outputId": "3dfafa1c-54bb-4afa-9ccd-689f6e7d7a90"
      },
      "execution_count": 122,
      "outputs": [
        {
          "output_type": "stream",
          "name": "stdout",
          "text": [
            "Device tensor is stored on: cuda:0\n"
          ]
        }
      ]
    },
    {
      "cell_type": "markdown",
      "source": [
        "Standard numpy-like indexing and slicing:"
      ],
      "metadata": {
        "id": "wI7OKsPxBdou"
      }
    },
    {
      "cell_type": "code",
      "source": [
        "tensor = torch.ones(4, 4)\n",
        "print(tensor)\n",
        "tensor[:,1] = 0\n",
        "print(tensor)"
      ],
      "metadata": {
        "colab": {
          "base_uri": "https://localhost:8080/"
        },
        "id": "0biT7anYAsIw",
        "outputId": "b0558658-b1fe-4c9b-f11a-fb7e3e9dbcdc"
      },
      "execution_count": 123,
      "outputs": [
        {
          "output_type": "stream",
          "name": "stdout",
          "text": [
            "tensor([[1., 1., 1., 1.],\n",
            "        [1., 1., 1., 1.],\n",
            "        [1., 1., 1., 1.],\n",
            "        [1., 1., 1., 1.]])\n",
            "tensor([[1., 0., 1., 1.],\n",
            "        [1., 0., 1., 1.],\n",
            "        [1., 0., 1., 1.],\n",
            "        [1., 0., 1., 1.]])\n"
          ]
        }
      ]
    },
    {
      "cell_type": "markdown",
      "source": [
        "#Joining tensors\n",
        "Use torch.cat to concatenate a sequence of tensors along a given dimension. See also torch.stack, another tensor joining op that is subtly different from torch.cat."
      ],
      "metadata": {
        "id": "di1Io4-1Btga"
      }
    },
    {
      "cell_type": "code",
      "source": [
        "t1 = torch.cat([tensor, tensor, tensor], dim=1)\n",
        "print(t1)"
      ],
      "metadata": {
        "colab": {
          "base_uri": "https://localhost:8080/"
        },
        "id": "mBLjdyTGAsB_",
        "outputId": "e72f6358-8163-4fa8-a4b9-ac3da4d33605"
      },
      "execution_count": 124,
      "outputs": [
        {
          "output_type": "stream",
          "name": "stdout",
          "text": [
            "tensor([[1., 0., 1., 1., 1., 0., 1., 1., 1., 0., 1., 1.],\n",
            "        [1., 0., 1., 1., 1., 0., 1., 1., 1., 0., 1., 1.],\n",
            "        [1., 0., 1., 1., 1., 0., 1., 1., 1., 0., 1., 1.],\n",
            "        [1., 0., 1., 1., 1., 0., 1., 1., 1., 0., 1., 1.]])\n"
          ]
        }
      ]
    },
    {
      "cell_type": "markdown",
      "source": [
        "#Multiplying tensors"
      ],
      "metadata": {
        "id": "W0JXaaBPB9AF"
      }
    },
    {
      "cell_type": "code",
      "source": [
        "# This computes the element-wise product\n",
        "print(f\"tensor.mul(tensor) \\n {tensor.mul(tensor)} \\n\")\n",
        "# Alternative syntax:\n",
        "print(f\"tensor * tensor \\n {tensor * tensor}\")"
      ],
      "metadata": {
        "colab": {
          "base_uri": "https://localhost:8080/"
        },
        "id": "KXuxQ_O2AsAC",
        "outputId": "a63d7cd1-949e-422a-d8ce-4d749c94c545"
      },
      "execution_count": 125,
      "outputs": [
        {
          "output_type": "stream",
          "name": "stdout",
          "text": [
            "tensor.mul(tensor) \n",
            " tensor([[1., 0., 1., 1.],\n",
            "        [1., 0., 1., 1.],\n",
            "        [1., 0., 1., 1.],\n",
            "        [1., 0., 1., 1.]]) \n",
            "\n",
            "tensor * tensor \n",
            " tensor([[1., 0., 1., 1.],\n",
            "        [1., 0., 1., 1.],\n",
            "        [1., 0., 1., 1.],\n",
            "        [1., 0., 1., 1.]])\n"
          ]
        }
      ]
    },
    {
      "cell_type": "markdown",
      "source": [
        "This computes the matrix multiplication between two tensors"
      ],
      "metadata": {
        "id": "rqOehziXCF98"
      }
    },
    {
      "cell_type": "code",
      "source": [
        "print(f\"tensor.matmul(tensor.T) \\n {tensor.matmul(tensor.T)} \\n\")\n",
        "# Alternative syntax:\n",
        "print(f\"tensor @ tensor.T \\n {tensor @ tensor.T}\")"
      ],
      "metadata": {
        "colab": {
          "base_uri": "https://localhost:8080/"
        },
        "id": "MmGGqeIQCFx4",
        "outputId": "42cb4c91-b5fa-4e59-d02d-5ca509b7d927"
      },
      "execution_count": 126,
      "outputs": [
        {
          "output_type": "stream",
          "name": "stdout",
          "text": [
            "tensor.matmul(tensor.T) \n",
            " tensor([[3., 3., 3., 3.],\n",
            "        [3., 3., 3., 3.],\n",
            "        [3., 3., 3., 3.],\n",
            "        [3., 3., 3., 3.]]) \n",
            "\n",
            "tensor @ tensor.T \n",
            " tensor([[3., 3., 3., 3.],\n",
            "        [3., 3., 3., 3.],\n",
            "        [3., 3., 3., 3.],\n",
            "        [3., 3., 3., 3.]])\n"
          ]
        }
      ]
    },
    {
      "cell_type": "markdown",
      "source": [
        "In-place operations Operations that have a _ suffix are in-place. For example: x.copy_(y), x.t_(), will change x."
      ],
      "metadata": {
        "id": "TpJADRtLCOeK"
      }
    },
    {
      "cell_type": "code",
      "source": [
        "print(tensor, \"\\n\")\n",
        "tensor.add_(5)\n",
        "print(tensor)"
      ],
      "metadata": {
        "colab": {
          "base_uri": "https://localhost:8080/"
        },
        "id": "CSAi59quCFix",
        "outputId": "d4795b63-1f33-4efe-e26c-d7c9a6ccc6a9"
      },
      "execution_count": 127,
      "outputs": [
        {
          "output_type": "stream",
          "name": "stdout",
          "text": [
            "tensor([[1., 0., 1., 1.],\n",
            "        [1., 0., 1., 1.],\n",
            "        [1., 0., 1., 1.],\n",
            "        [1., 0., 1., 1.]]) \n",
            "\n",
            "tensor([[6., 5., 6., 6.],\n",
            "        [6., 5., 6., 6.],\n",
            "        [6., 5., 6., 6.],\n",
            "        [6., 5., 6., 6.]])\n"
          ]
        }
      ]
    },
    {
      "cell_type": "markdown",
      "source": [
        "#Bridge with NumPy\n",
        "Tensors on the CPU and NumPy arrays can share their underlying memory locations, and changing one will change the other.\n",
        "\n",
        "Tensor to NumPy array"
      ],
      "metadata": {
        "id": "ATmXXCQpCZQ7"
      }
    },
    {
      "cell_type": "code",
      "source": [
        "t = torch.ones(5)\n",
        "print(f\"t: {t}\")\n",
        "n = t.numpy()\n",
        "print(f\"n: {n}\")"
      ],
      "metadata": {
        "colab": {
          "base_uri": "https://localhost:8080/"
        },
        "id": "sCnPxqzCCY5h",
        "outputId": "ee6e6e32-294e-4df2-dc28-67879e4060b6"
      },
      "execution_count": 128,
      "outputs": [
        {
          "output_type": "stream",
          "name": "stdout",
          "text": [
            "t: tensor([1., 1., 1., 1., 1.])\n",
            "n: [1. 1. 1. 1. 1.]\n"
          ]
        }
      ]
    },
    {
      "cell_type": "code",
      "source": [
        "t.add_(1)\n",
        "print(f\"t: {t}\")\n",
        "print(f\"n: {n}\")"
      ],
      "metadata": {
        "colab": {
          "base_uri": "https://localhost:8080/"
        },
        "id": "88MwbV7YCY2p",
        "outputId": "cf717285-44d8-45ca-e8aa-66f4aa33dc10"
      },
      "execution_count": 129,
      "outputs": [
        {
          "output_type": "stream",
          "name": "stdout",
          "text": [
            "t: tensor([2., 2., 2., 2., 2.])\n",
            "n: [2. 2. 2. 2. 2.]\n"
          ]
        }
      ]
    },
    {
      "cell_type": "markdown",
      "source": [
        "#NumPy array to Tensor\n"
      ],
      "metadata": {
        "id": "MC0KO_y-Cpso"
      }
    },
    {
      "cell_type": "code",
      "source": [
        "n = np.ones(5)\n",
        "t = torch.from_numpy(n)\n",
        "\n",
        "np.add(n, 1, out=n)\n",
        "print(f\"t: {t}\")\n",
        "print(f\"n: {n}\")"
      ],
      "metadata": {
        "colab": {
          "base_uri": "https://localhost:8080/"
        },
        "id": "QKGXkj5JCm75",
        "outputId": "a4361bbd-530b-418d-8c71-03e4288f797a"
      },
      "execution_count": 130,
      "outputs": [
        {
          "output_type": "stream",
          "name": "stdout",
          "text": [
            "t: tensor([2., 2., 2., 2., 2.], dtype=torch.float64)\n",
            "n: [2. 2. 2. 2. 2.]\n"
          ]
        }
      ]
    },
    {
      "cell_type": "markdown",
      "source": [
        "#TORCH.AUTOGRAD\n",
        "torch.autograd is PyTorch’s automatic `differentiation engine` that powers neural network training. In this section, you will get a conceptual understanding of how autograd helps a neural network train."
      ],
      "metadata": {
        "id": "5RxiuPQX9B2r"
      }
    },
    {
      "cell_type": "markdown",
      "source": [
        "#Usage in PyTorch\n",
        "Let’s take a look at a single training step. For this example, we load a pretrained resnet18 model from torchvision. We create a random data tensor to represent a single image with 3 channels, and height & width of 64, and its corresponding label initialized to some random values. Label in pretrained models has shape (1,1000)."
      ],
      "metadata": {
        "id": "tcyaw3J59QJT"
      }
    },
    {
      "cell_type": "code",
      "source": [
        "import torch\n",
        "from torchvision.models import resnet18, ResNet18_Weights\n",
        "model = resnet18(weights=ResNet18_Weights.DEFAULT)\n",
        "data = torch.rand(1, 3, 64, 64)\n",
        "labels = torch.rand(1, 1000)"
      ],
      "metadata": {
        "id": "0omLqB3lCt5z"
      },
      "execution_count": 131,
      "outputs": []
    },
    {
      "cell_type": "markdown",
      "source": [
        "Next, we run the input data through the model through each of its layers to make a prediction. This is the forward pass."
      ],
      "metadata": {
        "id": "fPO5s7Ha-A-G"
      }
    },
    {
      "cell_type": "code",
      "source": [
        "prediction = model(data) # forward pass"
      ],
      "metadata": {
        "id": "2K_mgLKWCty9"
      },
      "execution_count": 132,
      "outputs": []
    },
    {
      "cell_type": "markdown",
      "source": [
        "We use the model’s prediction and the corresponding label to calculate the error (loss). The next step is to backpropagate this error through the network. Backward propagation is kicked off when we call .backward() on the error tensor. Autograd then calculates and stores the gradients for each model parameter in the parameter’s .grad attribute."
      ],
      "metadata": {
        "id": "oUchiKGz-OTe"
      }
    },
    {
      "cell_type": "code",
      "source": [
        "loss = (prediction - labels).sum()\n",
        "loss.backward() # backward pass"
      ],
      "metadata": {
        "id": "K7yK7uQfCtwO"
      },
      "execution_count": 133,
      "outputs": []
    },
    {
      "cell_type": "markdown",
      "source": [
        "Next, we load an optimizer, in this case SGD with a learning rate of 0.01 and momentum of 0.9. We register all the parameters of the model in the optimizer."
      ],
      "metadata": {
        "id": "xTOwzywx-VV2"
      }
    },
    {
      "cell_type": "code",
      "source": [
        "optim = torch.optim.SGD(model.parameters(), lr=1e-2, momentum=0.9)"
      ],
      "metadata": {
        "id": "4hj2-UcgCtsc"
      },
      "execution_count": 134,
      "outputs": []
    },
    {
      "cell_type": "markdown",
      "source": [
        "Finally, we call .step() to initiate gradient descent. The optimizer adjusts each parameter by its gradient stored in .grad."
      ],
      "metadata": {
        "id": "6SnZt8L6-mig"
      }
    },
    {
      "cell_type": "code",
      "source": [
        "optim.step() #gradient descent"
      ],
      "metadata": {
        "id": "JpWvG6rkCYuh"
      },
      "execution_count": 135,
      "outputs": []
    },
    {
      "cell_type": "markdown",
      "source": [
        "#Differentiation in Autograd\n",
        "Let’s take a look at how autograd collects gradients. We create two tensors a and b with requires_grad=True. This signals to autograd that every operation on them should be tracked."
      ],
      "metadata": {
        "id": "KNA1U8Mt_BbR"
      }
    },
    {
      "cell_type": "code",
      "source": [
        "import torch\n",
        "\n",
        "a = torch.tensor([2., 3.], requires_grad=True)\n",
        "b = torch.tensor([6., 4.], requires_grad=True)"
      ],
      "metadata": {
        "id": "G7pWOtzV_v4l"
      },
      "execution_count": 136,
      "outputs": []
    },
    {
      "cell_type": "markdown",
      "source": [
        "We create another tensor Q from a and b.<br>\n",
        "Q=3a<sup>3</sup>−b<sup>2</sup>"
      ],
      "metadata": {
        "id": "cZuhVtH2_Kig"
      }
    },
    {
      "cell_type": "code",
      "source": [
        "Q = 3*a**3 - b**2"
      ],
      "metadata": {
        "id": "t3YuNLwD_zwD"
      },
      "execution_count": 137,
      "outputs": []
    },
    {
      "cell_type": "markdown",
      "source": [
        "Let’s assume a and b to be parameters of an NN, and Q to be the error. In NN training, we want gradients of the error w.r.t. parameters,<br>\n",
        "\n",
        "dQ/da = 9a<sup>2</sup>\n",
        "\n",
        "dQ/db = −2b"
      ],
      "metadata": {
        "id": "yoUqKQtQAI-T"
      }
    },
    {
      "cell_type": "markdown",
      "source": [
        "When we call `.backward()` on Q, autograd calculates these gradients and stores them in the respective tensors’ .grad attribute.\n",
        "\n",
        "We need to explicitly pass a gradient argument in `Q.backward()` because it is a vector. gradient is a tensor of the same shape as Q, and it represents the gradient of Q w.r.t. itself, i.e.<br>\n",
        "\n",
        "dQ/dQ = 1"
      ],
      "metadata": {
        "id": "f0_nLGTLAkR8"
      }
    },
    {
      "cell_type": "markdown",
      "source": [
        "Equivalently, we can also aggregate Q into a scalar and call backward implicitly, like `Q.sum().backward().`"
      ],
      "metadata": {
        "id": "oMDRCHYYA_eW"
      }
    },
    {
      "cell_type": "code",
      "source": [
        "external_grad = torch.tensor([1., 1.])\n",
        "Q.backward(gradient=external_grad)"
      ],
      "metadata": {
        "id": "mN74BeEz_Jtn"
      },
      "execution_count": 138,
      "outputs": []
    },
    {
      "cell_type": "markdown",
      "source": [
        "Gradients are now deposited in `a.grad` and `b.grad`"
      ],
      "metadata": {
        "id": "0JDtPWusBJ8v"
      }
    },
    {
      "cell_type": "code",
      "source": [
        "# check if collected gradients are correct\n",
        "print(9*a**2 == a.grad)\n",
        "print(-2*b == b.grad)"
      ],
      "metadata": {
        "colab": {
          "base_uri": "https://localhost:8080/"
        },
        "id": "AZbxGixe_FGN",
        "outputId": "130e0d24-e2d4-4b1a-da2e-a994aa9c5152"
      },
      "execution_count": 139,
      "outputs": [
        {
          "output_type": "stream",
          "name": "stdout",
          "text": [
            "tensor([True, True])\n",
            "tensor([True, True])\n"
          ]
        }
      ]
    },
    {
      "cell_type": "code",
      "source": [],
      "metadata": {
        "id": "N5rMVPcB6IvR"
      },
      "execution_count": 139,
      "outputs": []
    },
    {
      "cell_type": "markdown",
      "source": [
        "#Exclusion from the DAG\n",
        "`torch.autograd` tracks operations on all tensors which have their `requires_grad` flag set to True. For tensors that don’t require gradients, setting this attribute to False excludes it from the gradient computation DAG.\n",
        "\n",
        "The output tensor of an operation will require gradients even if only a single input tensor has `requires_grad=True`.\n",
        "\n"
      ],
      "metadata": {
        "id": "nhkqE8-dBgu8"
      }
    },
    {
      "cell_type": "code",
      "source": [
        "x = torch.rand(5, 5)\n",
        "y = torch.rand(5, 5)\n",
        "z = torch.rand((5, 5), requires_grad=True)\n",
        "\n",
        "a = x + y\n",
        "print(f\"Does `a` require gradients? : {a.requires_grad}\")\n",
        "b = x + z\n",
        "print(f\"Does `b` require gradients?: {b.requires_grad}\")"
      ],
      "metadata": {
        "colab": {
          "base_uri": "https://localhost:8080/"
        },
        "id": "n3bUTFwA_E9l",
        "outputId": "e0655201-c979-4aa0-fba8-acd8c841ca6b"
      },
      "execution_count": 140,
      "outputs": [
        {
          "output_type": "stream",
          "name": "stdout",
          "text": [
            "Does `a` require gradients? : False\n",
            "Does `b` require gradients?: True\n"
          ]
        }
      ]
    },
    {
      "cell_type": "markdown",
      "source": [
        "In a NN, parameters that don’t compute gradients are usually called frozen parameters. It is useful to “freeze” part of your model if you know in advance that you won’t need the gradients of those parameters (this offers some performance benefits by reducing autograd computations).\n",
        "\n",
        "In finetuning, we freeze most of the model and typically only modify the classifier layers to make predictions on new labels. Let’s walk through a small example to demonstrate this. As before, we load a pretrained resnet18 model, and freeze all the parameters."
      ],
      "metadata": {
        "id": "mAEZaHRfB6CB"
      }
    },
    {
      "cell_type": "code",
      "source": [
        "from torch import nn, optim\n",
        "\n",
        "model = resnet18(weights=ResNet18_Weights.DEFAULT)\n",
        "\n",
        "# Freeze all the parameters in the network\n",
        "for param in model.parameters():\n",
        "    param.requires_grad = False"
      ],
      "metadata": {
        "id": "Mjx4UECP_E5U"
      },
      "execution_count": 141,
      "outputs": []
    },
    {
      "cell_type": "markdown",
      "source": [
        "Let’s say we want to finetune the model on a new dataset with 10 labels. In resnet, the classifier is the last linear layer model.fc. We can simply replace it with a new linear layer (unfrozen by default) that acts as our classifier."
      ],
      "metadata": {
        "id": "4feUAD1NCFhj"
      }
    },
    {
      "cell_type": "code",
      "source": [
        "model.fc = nn.Linear(512, 10)"
      ],
      "metadata": {
        "id": "7B5ZcHVs_EyJ"
      },
      "execution_count": 142,
      "outputs": []
    },
    {
      "cell_type": "markdown",
      "source": [
        "Now all parameters in the model, except the parameters of `model.fc`, are frozen. The only parameters that compute gradients are the weights and bias of `model.fc`."
      ],
      "metadata": {
        "id": "WRFmMcxVCTjQ"
      }
    },
    {
      "cell_type": "code",
      "source": [
        "#Optimize only the classifier\n",
        "optimizer = optim.SGD(model.parameters(), lr=1e-2, momentum=0.9)"
      ],
      "metadata": {
        "id": "8cz7JYBi_Er0"
      },
      "execution_count": 143,
      "outputs": []
    },
    {
      "cell_type": "markdown",
      "source": [
        "#NEURAL NETWORKS\n",
        "Neural networks can be constructed using the `torch.nn` package.\n",
        "\n",
        "Now that you had a glimpse of autograd, nn depends on autograd to define models and differentiate them. An `nn.Module` contains layers, and a method forward(input) that returns the output.\n",
        "\n",
        "For example, look at this network that classifies digit images:"
      ],
      "metadata": {
        "id": "nxFx6MeRKaEI"
      }
    },
    {
      "cell_type": "markdown",
      "source": [
        "convnet\n",
        "\n",
        "\n",
        "It is a simple feed-forward network. It takes the input, feeds it through several layers one after the other, and then finally gives the output.\n",
        "<br>\n",
        "<br>\n",
        "<br>\n",
        "A typical training procedure for a neural network is as follows:\n",
        "\n",
        "1.Define the neural network that has some learnable parameters (or weights)\n",
        "\n",
        "2.Iterate over a dataset of inputs\n",
        "\n",
        "3.Process input through the network\n",
        "\n",
        "4.Compute the loss (how far is the output from being correct)\n",
        "\n",
        "5.Propagate gradients back into the network’s parameters\n",
        "\n",
        "Update the weights of the network, typically using a simple update rule:`weight = weight - learning_rate * gradient`"
      ],
      "metadata": {
        "id": "P5dBwBI2Krma"
      }
    },
    {
      "cell_type": "markdown",
      "source": [
        "#Define the network"
      ],
      "metadata": {
        "id": "xhZ7FknGLfmF"
      }
    },
    {
      "cell_type": "code",
      "source": [
        "import torch\n",
        "import torch.nn as nn\n",
        "import torch.nn.functional as F\n",
        "\n",
        "class Net(nn.Module):\n",
        "\n",
        "    def __init__(self):\n",
        "        super(Net, self).__init__()\n",
        "        # 1 input image channel, 6 output channels, 5x5 square convolution\n",
        "        # kernel\n",
        "        self.conv1 = nn.Conv2d(1, 6, 5)\n",
        "        self.conv2 = nn.Conv2d(6, 16, 5)\n",
        "        # an affine operation: y = Wx + b\n",
        "        self.fc1 = nn.Linear(16 * 5 * 5, 120)  # 5*5 from image dimension\n",
        "        self.fc2 = nn.Linear(120, 84)\n",
        "        self.fc3 = nn.Linear(84, 10)\n",
        "\n",
        "    def forward(self, x):\n",
        "        # Max pooling over a (2, 2) window\n",
        "        x = F.max_pool2d(F.relu(self.conv1(x)), (2, 2))\n",
        "        # If the size is a square, you can specify with a single number\n",
        "        x = F.max_pool2d(F.relu(self.conv2(x)), 2)\n",
        "        x = torch.flatten(x, 1) # flatten all dimensions except the batch dimension\n",
        "        x = F.relu(self.fc1(x))\n",
        "        x = F.relu(self.fc2(x))\n",
        "        x = self.fc3(x)\n",
        "        return x\n",
        "\n",
        "\n",
        "net = Net()\n",
        "print(net)"
      ],
      "metadata": {
        "colab": {
          "base_uri": "https://localhost:8080/"
        },
        "id": "afFV4TC4_DPp",
        "outputId": "a510def4-49c7-4602-9c52-e6fb9cadbe01"
      },
      "execution_count": 144,
      "outputs": [
        {
          "output_type": "stream",
          "name": "stdout",
          "text": [
            "Net(\n",
            "  (conv1): Conv2d(1, 6, kernel_size=(5, 5), stride=(1, 1))\n",
            "  (conv2): Conv2d(6, 16, kernel_size=(5, 5), stride=(1, 1))\n",
            "  (fc1): Linear(in_features=400, out_features=120, bias=True)\n",
            "  (fc2): Linear(in_features=120, out_features=84, bias=True)\n",
            "  (fc3): Linear(in_features=84, out_features=10, bias=True)\n",
            ")\n"
          ]
        }
      ]
    },
    {
      "cell_type": "markdown",
      "source": [
        "You just have to define the forward function, and the backward function (where gradients are computed) is automatically defined for you using autograd. You can use any of the Tensor operations in the forward function.\n",
        "\n",
        "The learnable parameters of a model are returned by net.parameters()"
      ],
      "metadata": {
        "id": "x52H-4RMap4T"
      }
    },
    {
      "cell_type": "code",
      "source": [
        "params = list(net.parameters())\n",
        "print(len(params))\n",
        "print(params[0].size())  # conv1's .weight\n",
        "print(params)"
      ],
      "metadata": {
        "id": "Yr-0lpX5CYpG",
        "colab": {
          "base_uri": "https://localhost:8080/"
        },
        "outputId": "3bdd3dd1-0ae1-4612-a6f7-1752a7e7abd6"
      },
      "execution_count": 156,
      "outputs": [
        {
          "output_type": "stream",
          "name": "stdout",
          "text": [
            "10\n",
            "torch.Size([6, 1, 5, 5])\n",
            "[Parameter containing:\n",
            "tensor([[[[ 1.9232e-01, -5.6334e-03, -1.6369e-01,  1.2523e-01, -1.4956e-01],\n",
            "          [ 1.9773e-01, -1.2453e-01, -1.0987e-01, -1.8757e-01, -1.4330e-01],\n",
            "          [-1.8613e-01, -1.3763e-01, -1.4940e-01, -1.4837e-01,  6.2525e-02],\n",
            "          [ 1.6503e-01, -1.2780e-01,  1.5100e-01, -1.6044e-01, -7.9404e-02],\n",
            "          [-1.4913e-01,  1.9683e-01, -1.1957e-01, -1.7480e-01, -8.9490e-02]]],\n",
            "\n",
            "\n",
            "        [[[ 1.1825e-01,  4.8853e-02,  1.8553e-01,  1.4455e-01,  1.6862e-01],\n",
            "          [-1.5426e-01,  3.5097e-02, -6.4067e-03,  1.4910e-04, -1.3959e-01],\n",
            "          [-8.1503e-02, -1.4404e-02, -1.0750e-02,  1.7928e-01,  3.4924e-02],\n",
            "          [-9.8808e-02, -3.5931e-02,  1.9002e-01,  1.7632e-01, -1.2082e-01],\n",
            "          [ 8.7676e-02, -1.4107e-01,  1.8256e-01, -4.8303e-03,  6.1732e-04]]],\n",
            "\n",
            "\n",
            "        [[[-1.0891e-01,  9.1681e-02,  1.2000e-01,  5.1473e-02,  1.1189e-01],\n",
            "          [-3.8148e-02,  1.5144e-01,  1.7460e-01,  2.0005e-01, -6.9418e-02],\n",
            "          [ 4.1913e-02, -6.7699e-02,  1.2514e-01, -1.7373e-01,  6.0986e-02],\n",
            "          [ 1.4285e-01, -1.2885e-01,  9.9577e-02,  1.9908e-01,  1.0620e-02],\n",
            "          [ 1.0998e-01,  1.8773e-01, -6.0140e-02, -1.1018e-01,  7.4560e-02]]],\n",
            "\n",
            "\n",
            "        [[[-1.9878e-01,  1.9766e-01, -1.3142e-01, -1.0581e-01, -1.9971e-01],\n",
            "          [-2.3826e-02, -4.8523e-02,  1.2563e-01,  1.9201e-01, -1.8729e-01],\n",
            "          [-1.7482e-02,  6.3551e-02,  1.0143e-01, -9.7754e-02, -6.2137e-03],\n",
            "          [ 1.6259e-01,  1.0327e-02,  1.2685e-01, -9.2355e-02,  6.3517e-03],\n",
            "          [ 4.9290e-02,  1.5149e-01,  1.1353e-01, -1.7073e-01,  9.1568e-02]]],\n",
            "\n",
            "\n",
            "        [[[-1.2789e-01,  6.8293e-02,  3.4285e-02,  6.0008e-02, -1.4440e-01],\n",
            "          [-1.9529e-01,  1.8170e-01, -4.1109e-02,  1.5537e-01,  1.4000e-01],\n",
            "          [-8.5401e-02,  1.2439e-01, -2.7934e-02, -1.2998e-01,  1.1117e-01],\n",
            "          [-1.5716e-01, -1.5328e-01, -9.2603e-02, -1.7898e-01,  2.9768e-02],\n",
            "          [-1.6515e-01,  2.8898e-02, -1.3851e-01, -1.7565e-01,  1.5533e-01]]],\n",
            "\n",
            "\n",
            "        [[[ 1.3852e-01,  2.2828e-02, -1.8315e-01, -1.5927e-01, -8.0853e-03],\n",
            "          [-8.7556e-02, -4.2601e-03,  1.3527e-01,  1.7047e-01,  1.1190e-01],\n",
            "          [-6.0999e-02,  7.6081e-02, -1.5499e-02,  4.9989e-02,  5.9091e-02],\n",
            "          [ 5.1917e-02, -1.2019e-01, -1.5178e-01, -5.1831e-02,  8.9956e-02],\n",
            "          [-5.7604e-02,  1.2878e-01, -1.1232e-01,  9.6575e-02, -1.1692e-01]]]],\n",
            "       requires_grad=True), Parameter containing:\n",
            "tensor([ 0.0753, -0.0995, -0.0124,  0.0998, -0.0812,  0.1278],\n",
            "       requires_grad=True), Parameter containing:\n",
            "tensor([[[[-7.4380e-02,  7.4154e-02,  7.1976e-02, -1.3462e-02,  7.1947e-02],\n",
            "          [ 8.6541e-03,  1.0437e-02,  4.6233e-02,  5.3869e-02, -2.4175e-02],\n",
            "          [-1.3705e-02, -3.4880e-02, -2.7229e-02,  7.2718e-02, -2.4012e-02],\n",
            "          [ 7.4240e-02, -1.8805e-02, -8.0398e-02,  5.0607e-02, -3.4294e-02],\n",
            "          [ 3.4388e-02, -3.3761e-02, -7.4941e-02,  4.2293e-02, -4.4617e-02]],\n",
            "\n",
            "         [[-6.3822e-02, -1.7709e-02,  2.8969e-02,  2.9799e-03, -1.0789e-02],\n",
            "          [ 8.2182e-02, -3.2943e-02, -3.5039e-02,  3.9802e-02,  5.4916e-03],\n",
            "          [-6.6237e-02, -1.3379e-02,  6.0182e-03,  4.3113e-02, -3.0262e-02],\n",
            "          [ 7.2677e-02, -4.0526e-02, -3.0127e-02,  3.7860e-02,  4.2318e-02],\n",
            "          [ 3.5186e-03, -5.0502e-02, -5.5864e-02,  2.2562e-02,  5.3277e-02]],\n",
            "\n",
            "         [[-3.0188e-02, -7.0050e-02, -3.2849e-02, -4.0878e-02,  2.7921e-02],\n",
            "          [ 5.2334e-02, -1.3286e-02,  2.0707e-02, -1.4689e-03, -1.3853e-02],\n",
            "          [ 1.7225e-02,  1.6366e-02, -5.3186e-02,  3.9193e-02, -8.0853e-02],\n",
            "          [-6.3002e-02, -4.2872e-02, -7.2639e-02,  3.3925e-02,  1.7745e-02],\n",
            "          [-2.1239e-02,  7.4523e-02,  2.5817e-02,  4.4301e-03, -5.3654e-02]],\n",
            "\n",
            "         [[-2.6117e-02, -5.3538e-02, -3.5477e-02, -2.1828e-02, -4.1463e-02],\n",
            "          [ 7.8321e-02, -6.2475e-02,  8.8955e-03, -7.6739e-02,  5.8590e-03],\n",
            "          [ 8.0587e-02,  3.5952e-03, -2.2339e-02, -7.1771e-03, -4.2435e-02],\n",
            "          [ 6.6272e-02, -4.6643e-02, -4.3531e-02,  3.1228e-02,  1.6067e-02],\n",
            "          [-1.6751e-02,  4.0906e-02, -3.0127e-02,  5.8886e-02, -5.5378e-02]],\n",
            "\n",
            "         [[ 7.9205e-04,  4.7974e-02,  1.5431e-02, -5.2782e-02, -3.6158e-02],\n",
            "          [-4.9045e-02,  5.7975e-02,  1.0752e-02, -6.4849e-02, -7.5096e-02],\n",
            "          [-8.0122e-02, -4.1594e-02,  3.1756e-02,  8.0459e-02,  2.2807e-02],\n",
            "          [ 3.4708e-03,  4.4792e-02,  2.0006e-02,  5.3526e-02,  5.7632e-02],\n",
            "          [ 3.6862e-02,  3.7296e-02,  6.7978e-02,  5.8002e-02, -7.2807e-03]],\n",
            "\n",
            "         [[ 6.6435e-02, -1.0331e-02,  1.5080e-03, -5.0583e-02,  1.4851e-02],\n",
            "          [ 4.9998e-02,  2.8010e-02, -2.4169e-02,  1.5452e-02,  1.6206e-03],\n",
            "          [ 5.0629e-03, -3.2734e-02, -5.6744e-02, -7.2730e-02,  6.6073e-03],\n",
            "          [ 4.1438e-02, -2.3902e-03,  3.3488e-02, -1.0820e-03,  5.2566e-02],\n",
            "          [ 2.7224e-02,  6.3797e-02,  9.7391e-03, -2.3136e-02, -1.3997e-02]]],\n",
            "\n",
            "\n",
            "        [[[-3.2300e-02,  5.3159e-02,  2.9940e-02,  6.5695e-02, -8.3940e-03],\n",
            "          [ 1.0968e-02,  7.0712e-02,  2.0091e-02, -3.6993e-02, -4.3915e-02],\n",
            "          [ 1.9614e-02, -4.4508e-03, -2.7928e-02,  6.4546e-02, -7.6727e-02],\n",
            "          [ 7.1533e-02, -8.1294e-02, -2.0167e-02, -4.8255e-02,  6.7469e-02],\n",
            "          [ 7.0201e-02, -4.6167e-02,  7.5682e-02, -3.2264e-02, -5.3939e-02]],\n",
            "\n",
            "         [[ 7.4561e-02,  6.6505e-02, -5.4220e-02,  2.3580e-03,  7.4768e-02],\n",
            "          [ 3.7600e-02,  4.8835e-02, -7.9500e-02, -2.8240e-02,  6.4652e-02],\n",
            "          [ 4.2081e-02,  7.4694e-02, -2.7855e-02, -5.2915e-02,  3.5052e-02],\n",
            "          [-6.0070e-02, -2.3153e-02,  2.0932e-02, -2.8707e-02,  5.7197e-02],\n",
            "          [ 1.4887e-02,  3.8241e-02, -7.9817e-02, -5.1243e-02, -3.8332e-02]],\n",
            "\n",
            "         [[ 6.6933e-02,  4.8130e-02,  3.8198e-02, -2.0508e-02,  5.4559e-02],\n",
            "          [-6.9078e-02,  5.3557e-02,  6.3630e-02,  2.9623e-02,  1.1421e-02],\n",
            "          [ 2.0626e-02,  9.4344e-03,  6.7497e-02, -5.2890e-02,  9.2062e-03],\n",
            "          [-6.5400e-03, -6.1893e-02,  8.5019e-03,  4.4203e-02, -5.1598e-03],\n",
            "          [-2.1620e-02,  1.4733e-02,  6.5081e-02,  2.8153e-02,  7.1991e-02]],\n",
            "\n",
            "         [[-5.5693e-02,  5.7957e-02, -2.7267e-02, -7.9638e-02,  8.0979e-02],\n",
            "          [-2.5756e-02, -5.0688e-02,  5.1750e-02, -4.3684e-02, -5.5677e-02],\n",
            "          [ 2.6946e-02,  6.9874e-02, -3.2362e-02,  1.4332e-02,  6.9002e-02],\n",
            "          [-1.6867e-02,  1.2343e-02, -8.8317e-03,  7.4886e-02,  5.9485e-02],\n",
            "          [ 8.0688e-02, -2.0870e-02, -5.0085e-02,  4.8225e-02, -1.2491e-03]],\n",
            "\n",
            "         [[-6.8360e-03, -1.4656e-02,  7.5795e-02,  4.2147e-02,  3.1203e-02],\n",
            "          [ 5.0060e-02,  2.7535e-02,  6.2395e-02,  4.8926e-02,  4.9605e-02],\n",
            "          [-3.4288e-02,  4.0825e-02,  3.3045e-02, -1.0861e-02, -3.5253e-02],\n",
            "          [ 4.3935e-02, -2.3396e-02, -2.7951e-02,  3.7466e-02,  3.0636e-02],\n",
            "          [ 5.6999e-02,  2.2645e-02, -6.2692e-02, -7.2540e-02, -2.6206e-02]],\n",
            "\n",
            "         [[ 7.3670e-02,  2.6118e-02, -7.7083e-02,  2.1271e-02,  8.1764e-03],\n",
            "          [ 4.6556e-02,  4.9933e-02, -2.3889e-02, -2.1826e-02,  1.5822e-02],\n",
            "          [-7.3571e-02, -7.5838e-02, -2.9571e-02,  3.5855e-02, -5.8884e-02],\n",
            "          [-4.1915e-02,  7.3372e-02, -1.9763e-02,  2.7254e-02,  1.8990e-02],\n",
            "          [ 1.5839e-02,  6.5780e-02,  4.2396e-03,  1.8664e-02,  7.1681e-02]]],\n",
            "\n",
            "\n",
            "        [[[-6.2706e-02,  9.8658e-04, -5.4341e-02, -6.4333e-02, -7.5103e-02],\n",
            "          [-2.9510e-03,  3.5214e-02,  1.2480e-02, -4.0155e-02,  4.8893e-03],\n",
            "          [-3.8214e-02, -4.0727e-02, -4.9744e-03, -5.7546e-02,  5.9447e-02],\n",
            "          [-5.5693e-02, -4.7348e-02, -4.2798e-02,  4.8996e-02, -2.7367e-02],\n",
            "          [ 4.2716e-02, -1.7725e-02,  2.4284e-02,  1.5425e-02, -6.2186e-02]],\n",
            "\n",
            "         [[-4.4458e-02,  6.6934e-02,  6.6685e-02,  9.9663e-03,  3.0996e-02],\n",
            "          [ 4.7644e-02, -6.3196e-02,  7.7982e-02, -3.2008e-02,  6.6519e-02],\n",
            "          [ 5.2959e-02,  6.9786e-02,  6.2114e-03,  6.3985e-02, -6.4010e-02],\n",
            "          [ 1.9152e-02,  2.3207e-02,  7.1859e-02,  3.4232e-02,  1.7949e-02],\n",
            "          [-7.0866e-02,  2.8484e-02,  3.7855e-02,  3.9406e-02, -7.0266e-02]],\n",
            "\n",
            "         [[ 6.1695e-02, -2.2157e-02, -7.3887e-02, -5.5877e-02,  5.0157e-02],\n",
            "          [ 2.8953e-02, -2.1798e-02,  4.1547e-02, -7.1607e-02, -5.8249e-02],\n",
            "          [ 5.7549e-02, -1.6836e-02, -7.3607e-02,  6.1428e-02,  7.8855e-02],\n",
            "          [ 4.8456e-02, -3.7820e-02, -2.8708e-02, -5.5007e-02,  7.7588e-02],\n",
            "          [ 3.8665e-02,  1.2835e-02, -1.7915e-04, -8.0188e-02,  5.2465e-02]],\n",
            "\n",
            "         [[ 5.3227e-03,  2.2267e-02, -1.7239e-02, -2.7844e-02,  7.0149e-02],\n",
            "          [-3.6366e-02, -8.0712e-02,  7.8264e-02,  2.1350e-02,  4.9334e-02],\n",
            "          [-3.3407e-02, -1.7407e-02,  5.1174e-02,  6.7524e-02,  6.4394e-02],\n",
            "          [ 1.6628e-02,  3.3393e-02, -7.2947e-02,  8.0480e-02, -5.3271e-02],\n",
            "          [-4.0571e-02, -5.2763e-02,  4.0932e-02, -7.2240e-02, -4.5546e-03]],\n",
            "\n",
            "         [[ 6.9381e-02, -2.1269e-02, -3.4936e-02,  3.1518e-02, -7.1481e-02],\n",
            "          [ 4.3372e-02, -6.1818e-02,  5.6899e-02,  5.2413e-02,  6.7639e-02],\n",
            "          [ 9.1761e-03,  3.8528e-02, -3.2751e-02,  2.6101e-02, -1.8103e-02],\n",
            "          [-2.9811e-03,  1.1941e-02,  4.2919e-02,  4.0986e-02,  4.3086e-02],\n",
            "          [-2.9987e-02,  5.3557e-02, -3.4252e-02,  3.2016e-02,  6.9106e-02]],\n",
            "\n",
            "         [[ 2.1856e-02, -2.9176e-03, -6.8053e-02,  5.0324e-03,  2.2352e-02],\n",
            "          [-4.8718e-02,  5.5596e-02, -4.2182e-04, -7.9517e-02,  4.0313e-02],\n",
            "          [ 2.8038e-03, -3.0916e-02, -3.9970e-02, -5.9115e-02, -3.0124e-02],\n",
            "          [-1.5762e-02, -3.4991e-02,  8.0234e-02, -9.8199e-03, -3.8821e-03],\n",
            "          [ 1.4994e-02, -7.6833e-02,  4.1682e-02,  3.8562e-03, -7.7119e-02]]],\n",
            "\n",
            "\n",
            "        ...,\n",
            "\n",
            "\n",
            "        [[[-1.5023e-02,  5.7808e-02,  1.0453e-02, -2.9515e-02,  5.0309e-02],\n",
            "          [ 4.9361e-02, -1.2466e-02,  2.2428e-02,  2.2120e-02,  7.7579e-02],\n",
            "          [-2.1156e-02,  5.0750e-02,  1.0086e-02,  4.1625e-02,  2.7569e-02],\n",
            "          [-1.6443e-02,  6.6296e-02,  5.4123e-02, -7.7728e-03,  4.0021e-02],\n",
            "          [-1.3118e-03, -5.5783e-02, -3.5366e-03, -1.3736e-02,  4.1424e-02]],\n",
            "\n",
            "         [[ 3.1628e-02, -3.5087e-03,  3.1486e-02,  5.4945e-02,  6.3998e-03],\n",
            "          [-1.9547e-02, -6.4334e-02, -7.9037e-02,  1.1661e-02, -4.1181e-02],\n",
            "          [-1.4213e-02,  1.1071e-02, -6.3683e-02, -3.3204e-02,  2.6965e-02],\n",
            "          [ 7.9456e-02,  6.6714e-02, -5.0938e-02, -4.8364e-02, -6.1214e-02],\n",
            "          [-3.0901e-02,  6.1124e-02, -5.2196e-02, -6.0104e-02, -5.3942e-02]],\n",
            "\n",
            "         [[ 2.1159e-02,  6.1958e-02, -8.9682e-03,  7.5423e-02, -7.0675e-02],\n",
            "          [ 4.5901e-02,  2.0733e-02, -8.1441e-02,  5.4059e-03, -2.5458e-02],\n",
            "          [ 5.5730e-02, -3.6032e-02,  1.7889e-02,  6.7387e-02,  4.9870e-02],\n",
            "          [ 3.2831e-02, -2.0415e-02,  2.8024e-02,  5.9376e-02,  1.0111e-02],\n",
            "          [ 1.0277e-04, -1.7154e-02,  7.1326e-02,  3.8314e-02, -7.6122e-02]],\n",
            "\n",
            "         [[-6.1440e-02, -6.7318e-02, -5.6087e-02, -5.5295e-02,  1.1108e-02],\n",
            "          [ 4.0237e-02,  5.8604e-02, -7.0852e-02,  4.4762e-02,  4.9555e-02],\n",
            "          [-3.0938e-02, -7.4898e-02,  4.2633e-02,  1.8835e-02,  4.2004e-02],\n",
            "          [-7.5606e-02,  3.7778e-02,  2.9348e-02, -4.0655e-02,  2.3275e-02],\n",
            "          [ 2.8417e-02, -1.4602e-03, -5.1875e-02, -3.4819e-02,  4.4587e-02]],\n",
            "\n",
            "         [[ 3.1289e-02, -2.2172e-02,  6.2350e-02, -6.6180e-02, -7.7747e-02],\n",
            "          [ 6.7270e-02, -6.8088e-02,  4.9474e-02,  2.0709e-02, -8.6181e-03],\n",
            "          [-5.2416e-03,  1.0866e-02, -6.0737e-02, -2.2821e-02,  5.7057e-02],\n",
            "          [ 7.0831e-02,  6.4254e-02,  2.7291e-02, -4.2085e-02, -5.0411e-02],\n",
            "          [-2.8187e-02, -6.7240e-02,  5.8910e-02,  7.5936e-02, -6.9433e-02]],\n",
            "\n",
            "         [[-4.7799e-02, -7.7845e-02, -1.7159e-02, -5.1791e-02,  6.2592e-02],\n",
            "          [-6.0876e-02,  1.1416e-02, -6.3465e-02, -2.7055e-02, -4.7126e-02],\n",
            "          [ 4.1351e-02, -2.9290e-02, -7.0670e-02, -7.4783e-02,  5.5968e-02],\n",
            "          [ 7.7731e-02, -5.8606e-02,  2.9926e-02, -7.6607e-02, -5.4884e-02],\n",
            "          [ 1.0820e-02, -5.9386e-02,  4.0469e-03, -1.6990e-03, -1.2618e-02]]],\n",
            "\n",
            "\n",
            "        [[[ 7.2326e-02,  3.9564e-02, -6.9132e-02, -2.6401e-02,  2.1899e-02],\n",
            "          [-1.2142e-02,  4.4248e-02,  6.2962e-02, -6.5193e-02,  3.8069e-02],\n",
            "          [-1.2512e-02,  4.4011e-02, -2.9631e-02,  4.6835e-02, -1.6859e-02],\n",
            "          [ 4.9673e-02, -4.4416e-02,  5.9661e-02,  7.1223e-04,  2.2191e-04],\n",
            "          [-1.0419e-02,  1.6725e-02,  2.2588e-02, -7.0625e-02, -1.0181e-02]],\n",
            "\n",
            "         [[ 2.3530e-02,  7.0438e-02, -1.3558e-02, -3.2482e-02,  4.0621e-02],\n",
            "          [-6.5229e-02, -3.4834e-02,  4.3557e-02,  5.4874e-02,  7.8829e-02],\n",
            "          [ 5.5670e-02, -2.0961e-02,  5.3304e-02,  1.1518e-02,  7.7507e-02],\n",
            "          [-1.1689e-02, -4.1183e-02, -4.2116e-02,  3.6983e-04, -5.2598e-02],\n",
            "          [ 5.3224e-02, -3.4654e-02,  5.5845e-02,  4.0516e-02,  4.5938e-02]],\n",
            "\n",
            "         [[ 7.5027e-03,  2.7576e-02,  2.9107e-02, -2.9144e-02,  7.5467e-03],\n",
            "          [ 1.9603e-02, -4.3978e-02, -2.4567e-02,  6.8027e-02, -1.2660e-02],\n",
            "          [-5.0249e-02, -7.8335e-02, -5.9148e-02,  6.7002e-02,  6.9121e-02],\n",
            "          [-7.7813e-02, -1.2366e-02, -7.9458e-02,  1.4638e-03, -2.1903e-02],\n",
            "          [ 4.1649e-02, -6.0512e-03, -3.8442e-02, -6.9968e-02,  5.1046e-02]],\n",
            "\n",
            "         [[ 6.9991e-02, -1.5787e-02,  6.1064e-02,  7.0015e-02, -2.1527e-02],\n",
            "          [-6.5211e-02, -9.1869e-03, -3.1154e-02,  6.7880e-02, -6.7749e-02],\n",
            "          [-4.6924e-02,  2.6992e-02,  2.6602e-02,  3.0464e-02,  2.1691e-02],\n",
            "          [ 6.7534e-02, -3.6498e-02,  6.0805e-02,  2.8630e-02,  5.8709e-02],\n",
            "          [ 7.5337e-02,  7.7785e-02,  1.3837e-02, -5.9829e-02,  2.2360e-03]],\n",
            "\n",
            "         [[-3.3497e-02,  7.9456e-02,  5.4847e-02, -5.5828e-02,  7.2335e-02],\n",
            "          [ 8.0372e-03,  3.8681e-02, -6.1215e-03,  4.3876e-02, -5.7531e-02],\n",
            "          [-2.4975e-02,  6.7763e-02, -7.8234e-02, -5.6571e-02,  4.6757e-02],\n",
            "          [ 5.5327e-02, -6.9912e-02,  2.8802e-02,  4.4681e-02,  6.9960e-03],\n",
            "          [ 2.8858e-02,  3.1214e-02,  3.0149e-02,  7.6841e-02, -1.6125e-03]],\n",
            "\n",
            "         [[ 1.4303e-02,  6.0186e-03, -5.9775e-02,  4.3868e-02, -7.8582e-02],\n",
            "          [-3.8202e-02, -2.0662e-02,  3.0277e-02, -2.3733e-02,  3.8416e-02],\n",
            "          [-1.6000e-02,  2.0561e-02,  1.9984e-02, -4.9998e-02,  2.6163e-03],\n",
            "          [ 4.8554e-02, -2.7860e-02,  7.4784e-02,  5.4915e-02, -3.6764e-02],\n",
            "          [-1.2152e-03,  6.2383e-02, -5.0794e-02,  3.6821e-02,  6.9886e-02]]],\n",
            "\n",
            "\n",
            "        [[[-6.5429e-02, -5.9416e-02,  6.3375e-02,  3.3411e-02, -2.2585e-02],\n",
            "          [-4.9678e-02, -5.4515e-02,  3.5723e-02, -5.8575e-02, -5.2981e-02],\n",
            "          [-2.2880e-02,  1.7300e-02, -3.0664e-04, -5.7210e-02, -5.4195e-02],\n",
            "          [-5.5342e-02, -2.4713e-02, -2.7522e-02,  4.0515e-02,  1.2078e-02],\n",
            "          [ 3.6232e-02,  4.9743e-02,  2.8061e-02, -4.3330e-03, -9.9554e-03]],\n",
            "\n",
            "         [[-4.5467e-02, -7.4546e-03,  3.6445e-02,  8.9059e-03, -5.6300e-04],\n",
            "          [-5.1121e-02,  1.8299e-02,  5.9517e-02, -1.1197e-04,  7.9813e-02],\n",
            "          [ 5.5694e-02,  4.1515e-02,  1.8472e-02,  3.0626e-02,  8.3454e-05],\n",
            "          [-2.0468e-02,  8.9621e-03,  2.4922e-02, -5.8569e-02, -6.9846e-02],\n",
            "          [ 2.3622e-02,  5.7383e-02, -5.1499e-03,  5.6661e-03, -5.6790e-02]],\n",
            "\n",
            "         [[ 4.6425e-02,  2.5785e-02, -7.7440e-02, -8.1163e-02,  4.0330e-02],\n",
            "          [-2.3252e-04, -5.7819e-02, -7.2534e-02, -1.8795e-02, -3.2390e-02],\n",
            "          [-5.1051e-03, -2.7039e-02,  3.4542e-02, -5.8953e-02, -3.2962e-02],\n",
            "          [-2.0763e-02, -1.1332e-02, -9.9764e-03, -4.4797e-02, -7.8405e-02],\n",
            "          [ 1.8913e-02,  5.5175e-02, -2.9551e-03, -3.0608e-02, -3.1647e-02]],\n",
            "\n",
            "         [[-2.0327e-02,  1.9008e-02,  7.9012e-02, -7.2265e-02, -2.5974e-03],\n",
            "          [-7.8235e-02,  6.8766e-02,  5.6333e-02,  2.0356e-02, -5.8362e-02],\n",
            "          [ 3.0401e-02, -4.6060e-03,  6.3596e-02,  6.3690e-02, -4.7986e-02],\n",
            "          [ 4.4258e-02, -8.3987e-03,  5.5036e-03,  2.7806e-02, -1.5357e-02],\n",
            "          [-8.0039e-02, -6.4291e-02, -8.5152e-03, -8.2292e-03,  5.5835e-02]],\n",
            "\n",
            "         [[ 2.9620e-02,  2.4042e-02, -7.6349e-02,  2.0310e-02, -7.0108e-02],\n",
            "          [ 4.5631e-02, -1.0908e-02,  7.6496e-02, -6.0339e-02, -1.9032e-02],\n",
            "          [ 4.5871e-02,  4.3767e-02, -6.8986e-02, -1.3515e-03, -1.6619e-02],\n",
            "          [-5.5896e-02,  1.0729e-02,  3.2072e-03, -2.3155e-02,  4.6628e-02],\n",
            "          [-6.0901e-02,  7.3531e-02, -7.7799e-02,  3.2146e-02, -3.3291e-04]],\n",
            "\n",
            "         [[-6.4016e-02, -5.4882e-02, -7.7460e-02,  6.3961e-02,  7.0154e-02],\n",
            "          [-1.5569e-02, -1.9222e-02,  6.3368e-02, -2.0588e-02, -7.8655e-02],\n",
            "          [ 4.9496e-02,  6.0877e-02,  2.6201e-03,  1.9224e-02, -5.1403e-02],\n",
            "          [ 8.1307e-02, -1.3144e-03,  3.8519e-02, -7.7691e-02, -8.1055e-02],\n",
            "          [ 2.5801e-03, -7.3750e-03,  3.6779e-02, -1.6540e-02, -5.7884e-02]]]],\n",
            "       requires_grad=True), Parameter containing:\n",
            "tensor([ 2.6742e-02,  6.0833e-02,  6.8215e-02,  2.7415e-02,  5.7037e-02,\n",
            "         7.6270e-02, -6.3752e-02,  7.8608e-02, -6.7217e-02, -3.7215e-02,\n",
            "         4.4323e-02,  5.5345e-02, -7.1342e-05,  7.7212e-02,  6.2755e-03,\n",
            "        -7.0797e-02], requires_grad=True), Parameter containing:\n",
            "tensor([[ 0.0497, -0.0302, -0.0040,  ...,  0.0126,  0.0355, -0.0077],\n",
            "        [-0.0358,  0.0140,  0.0320,  ...,  0.0285,  0.0436, -0.0425],\n",
            "        [-0.0286, -0.0375,  0.0135,  ...,  0.0274, -0.0421,  0.0392],\n",
            "        ...,\n",
            "        [ 0.0084,  0.0282,  0.0197,  ..., -0.0432,  0.0049,  0.0392],\n",
            "        [ 0.0050,  0.0329, -0.0466,  ...,  0.0103, -0.0441,  0.0425],\n",
            "        [-0.0326,  0.0193, -0.0475,  ..., -0.0392,  0.0089, -0.0333]],\n",
            "       requires_grad=True), Parameter containing:\n",
            "tensor([-1.3626e-02,  1.1227e-02,  3.9458e-02, -6.7199e-03, -1.2228e-03,\n",
            "         8.6782e-04,  4.1200e-03, -1.7305e-02,  1.2801e-03, -2.6061e-02,\n",
            "        -3.9699e-02, -9.2268e-03,  1.0336e-02,  2.1237e-02, -4.6752e-02,\n",
            "         2.9597e-02,  5.2760e-03,  3.2914e-03, -4.1267e-02,  2.6752e-02,\n",
            "        -3.2711e-02, -6.0656e-03, -8.0192e-03, -2.6846e-02, -3.9715e-02,\n",
            "        -1.6780e-02, -3.3210e-03, -3.6071e-02,  3.7627e-03, -2.4793e-02,\n",
            "        -3.6916e-02,  2.1998e-02, -3.0501e-02, -2.8315e-02, -3.6144e-02,\n",
            "         1.2217e-02,  2.9406e-02,  4.0862e-02,  3.3906e-02,  4.9436e-02,\n",
            "        -8.0853e-03, -2.5249e-02, -6.3324e-03,  3.1674e-02,  3.8263e-02,\n",
            "         2.0380e-02,  3.0249e-02, -2.6420e-04,  1.2956e-03,  4.9799e-02,\n",
            "         2.9533e-02, -4.1842e-02, -4.9899e-03,  9.8760e-03, -1.5575e-02,\n",
            "         2.6828e-02, -3.2175e-02, -1.7392e-02,  4.7550e-02, -3.5901e-02,\n",
            "         7.4795e-03,  3.7013e-02, -6.1302e-03, -1.6431e-02,  3.1887e-02,\n",
            "        -1.7046e-02,  3.0597e-02,  2.1838e-02, -4.7235e-03,  2.7261e-03,\n",
            "         2.0071e-02,  4.4729e-02, -1.8266e-02,  4.5896e-02, -2.5904e-02,\n",
            "        -3.2438e-02,  3.8376e-02,  3.8368e-02,  4.7990e-02,  1.7481e-02,\n",
            "        -4.5359e-06, -4.9335e-02, -1.7440e-02, -3.4393e-02, -1.7044e-02,\n",
            "         1.0367e-02,  3.0643e-02,  2.0864e-02,  4.3440e-02,  4.5830e-02,\n",
            "         2.7066e-02,  3.4543e-02,  1.9549e-02, -1.9701e-02, -1.3203e-02,\n",
            "        -4.2510e-02,  2.7318e-02,  1.6542e-02,  2.5441e-02, -4.5297e-02,\n",
            "        -2.8220e-02, -4.0391e-03,  3.9932e-02, -1.4478e-02,  7.5937e-03,\n",
            "        -2.0155e-02,  3.8866e-03, -1.7684e-02,  4.5028e-02,  4.3319e-02,\n",
            "        -1.5371e-02,  2.6784e-02,  3.4318e-02,  8.5174e-03,  8.8557e-03,\n",
            "        -3.0718e-02,  3.6873e-02, -4.4742e-02, -3.2013e-02,  4.4850e-02],\n",
            "       requires_grad=True), Parameter containing:\n",
            "tensor([[ 0.0104, -0.0669, -0.0237,  ...,  0.0890, -0.0561, -0.0648],\n",
            "        [ 0.0313,  0.0649, -0.0599,  ...,  0.0633, -0.0563, -0.0600],\n",
            "        [-0.0047, -0.0021, -0.0754,  ..., -0.0557,  0.0249,  0.0802],\n",
            "        ...,\n",
            "        [ 0.0549,  0.0458, -0.0380,  ...,  0.0711, -0.0147,  0.0680],\n",
            "        [ 0.0848,  0.0641, -0.0673,  ...,  0.0006,  0.0074, -0.0891],\n",
            "        [ 0.0122,  0.0009, -0.0392,  ...,  0.0608, -0.0525, -0.0886]],\n",
            "       requires_grad=True), Parameter containing:\n",
            "tensor([ 0.0373, -0.0210, -0.0403,  0.0171, -0.0396,  0.0896,  0.0229,  0.0537,\n",
            "         0.0808,  0.0538, -0.0073,  0.0003,  0.0502, -0.0060,  0.0305,  0.0812,\n",
            "        -0.0429,  0.0465,  0.0816,  0.0671,  0.0159,  0.0332, -0.0440,  0.0046,\n",
            "         0.0041, -0.0010, -0.0444, -0.0247,  0.0689, -0.0063,  0.0335,  0.0105,\n",
            "        -0.0447, -0.0739, -0.0025,  0.0899,  0.0526,  0.0172, -0.0790,  0.0652,\n",
            "        -0.0615, -0.0292,  0.0698, -0.0339, -0.0349, -0.0398,  0.0849,  0.0610,\n",
            "        -0.0065,  0.0226, -0.0561,  0.0519,  0.0487,  0.0273, -0.0217,  0.0247,\n",
            "        -0.0618, -0.0547,  0.0525,  0.0384, -0.0706,  0.0601, -0.0705, -0.0898,\n",
            "         0.0834,  0.0372, -0.0186,  0.0676, -0.0026,  0.0171,  0.0538,  0.0814,\n",
            "         0.0152, -0.0766, -0.0268,  0.0331,  0.0084, -0.0144, -0.0596,  0.0629,\n",
            "         0.0529,  0.0060,  0.0188,  0.0029], requires_grad=True), Parameter containing:\n",
            "tensor([[-0.0278, -0.0261,  0.0470,  0.0968, -0.0157, -0.0717, -0.0251,  0.0577,\n",
            "         -0.0622,  0.1057,  0.0752,  0.0491, -0.0153,  0.0004, -0.0966, -0.0496,\n",
            "         -0.0439, -0.0436, -0.0337,  0.0506, -0.0181,  0.0945,  0.0727,  0.0090,\n",
            "          0.0449,  0.0026, -0.0951, -0.0068,  0.0694,  0.0968, -0.0729, -0.0296,\n",
            "          0.0165, -0.0167, -0.0134,  0.0651,  0.0599, -0.0425, -0.0725, -0.0778,\n",
            "          0.0634,  0.1076, -0.0401,  0.0891, -0.0752,  0.0106, -0.0612,  0.0981,\n",
            "         -0.0340,  0.0123, -0.0959,  0.0138, -0.0171,  0.0055, -0.1000,  0.0957,\n",
            "          0.0309,  0.1003,  0.0934,  0.0221, -0.0280, -0.0178,  0.0408, -0.0732,\n",
            "         -0.0827,  0.0898, -0.0218, -0.0359, -0.0336,  0.0907, -0.0375,  0.0400,\n",
            "         -0.0707, -0.0629,  0.0951,  0.0561,  0.1068,  0.0192,  0.0561,  0.0872,\n",
            "         -0.0543,  0.0401, -0.0829, -0.0974],\n",
            "        [ 0.0923,  0.0625,  0.0514,  0.0457, -0.0210,  0.1007, -0.0767,  0.0917,\n",
            "         -0.0582, -0.0827, -0.1033, -0.0894,  0.0572,  0.0555, -0.0477, -0.0107,\n",
            "          0.0775,  0.0765, -0.0803, -0.0643,  0.0706,  0.0485, -0.1024, -0.0793,\n",
            "         -0.0155,  0.0559,  0.0506, -0.1075, -0.0450,  0.0701,  0.0926, -0.0287,\n",
            "         -0.0413,  0.0252, -0.0141,  0.0809,  0.0729,  0.0027,  0.0975, -0.0917,\n",
            "         -0.1083,  0.0038, -0.0099,  0.0921, -0.0494,  0.0726, -0.0802,  0.0061,\n",
            "          0.0028,  0.0008,  0.1045,  0.0821,  0.0709, -0.0332,  0.0466, -0.0090,\n",
            "          0.0091,  0.0493, -0.0997,  0.0017, -0.0233, -0.0575,  0.0066,  0.1082,\n",
            "         -0.0514, -0.0455,  0.0576,  0.0043, -0.0515,  0.0597,  0.0583,  0.0403,\n",
            "         -0.0340, -0.0468,  0.0724,  0.0002,  0.0833, -0.0383, -0.0451, -0.0931,\n",
            "          0.0998, -0.0904, -0.1051,  0.0817],\n",
            "        [ 0.0338, -0.0925, -0.0189,  0.0320,  0.1015, -0.0616,  0.0071, -0.0853,\n",
            "         -0.1031, -0.0359, -0.0045,  0.0737,  0.0513,  0.0657,  0.0653, -0.0644,\n",
            "         -0.0805, -0.0937, -0.1068, -0.0676, -0.0241,  0.0565, -0.0633, -0.0366,\n",
            "         -0.0367,  0.0447,  0.0658, -0.0937, -0.0425, -0.0746,  0.0894, -0.0093,\n",
            "         -0.0303, -0.0606,  0.0054,  0.0942, -0.0283,  0.0738, -0.0286, -0.0554,\n",
            "          0.0516, -0.1021,  0.0217, -0.0162, -0.0978, -0.0043, -0.0085, -0.0606,\n",
            "         -0.0689, -0.0643, -0.0810,  0.0275,  0.0696, -0.0328,  0.1009,  0.0651,\n",
            "          0.0970, -0.0765,  0.0736, -0.0356, -0.0382, -0.0466, -0.0190, -0.0020,\n",
            "         -0.0504,  0.0982, -0.0525, -0.0922, -0.0696, -0.0519, -0.0275, -0.0556,\n",
            "          0.0374,  0.0163,  0.0268, -0.0241,  0.1070, -0.0077, -0.0576,  0.0056,\n",
            "         -0.0065, -0.0151, -0.0044,  0.0655],\n",
            "        [ 0.0631,  0.0916,  0.0004, -0.0737, -0.0996,  0.0050, -0.0334, -0.0040,\n",
            "          0.0349,  0.0238, -0.0549,  0.0549,  0.1087,  0.0327,  0.0694,  0.0705,\n",
            "         -0.0594,  0.0986,  0.0357,  0.0033, -0.0806, -0.0008,  0.1034,  0.0624,\n",
            "          0.0922,  0.0745, -0.0449, -0.0798, -0.0996,  0.0542, -0.0358, -0.0347,\n",
            "          0.0819, -0.0517, -0.0206, -0.0393,  0.0121, -0.1068,  0.0119, -0.0422,\n",
            "          0.0716,  0.0871, -0.0263, -0.0569,  0.0676,  0.0052, -0.0759,  0.1005,\n",
            "          0.0712,  0.0798,  0.0188,  0.0549, -0.0127,  0.0151, -0.0746, -0.1078,\n",
            "         -0.0282, -0.0008, -0.0574, -0.0339,  0.0614,  0.0690, -0.0569,  0.0515,\n",
            "         -0.0520,  0.0878,  0.0042,  0.0296,  0.0135,  0.0333, -0.0140,  0.0645,\n",
            "          0.0633, -0.0187,  0.0394, -0.1015, -0.0893,  0.0023, -0.0910, -0.0404,\n",
            "         -0.0849, -0.0535, -0.0910,  0.0214],\n",
            "        [ 0.1077, -0.1085,  0.0269, -0.0682,  0.0503, -0.0789,  0.0380, -0.0802,\n",
            "         -0.0643,  0.0463,  0.1017,  0.0969, -0.1040, -0.0462, -0.0492,  0.0888,\n",
            "          0.0234, -0.0180,  0.0750, -0.0369,  0.0482, -0.0343,  0.0603, -0.0909,\n",
            "         -0.0608,  0.0531,  0.0928,  0.0966,  0.0850, -0.0519,  0.0587,  0.0509,\n",
            "         -0.0810,  0.0240, -0.0626, -0.0589,  0.0050,  0.0395,  0.0825, -0.0376,\n",
            "          0.0446,  0.1064,  0.0850, -0.0591,  0.0627,  0.0093, -0.0544, -0.0399,\n",
            "         -0.1081,  0.0123,  0.0579,  0.0388, -0.0723,  0.0089, -0.0779,  0.0557,\n",
            "          0.0683,  0.1030,  0.0947, -0.0728,  0.1077, -0.0216,  0.0869,  0.0411,\n",
            "          0.0454,  0.0973, -0.0751, -0.0354,  0.0502,  0.0141,  0.0779, -0.0047,\n",
            "          0.0734, -0.0127,  0.0306,  0.0955, -0.0418,  0.0572,  0.0092,  0.1080,\n",
            "         -0.0410,  0.1017, -0.0630,  0.0249],\n",
            "        [-0.0266,  0.0259, -0.1023, -0.0743,  0.0931, -0.0537, -0.1035,  0.0183,\n",
            "          0.0633,  0.1064,  0.0992,  0.0856,  0.0067,  0.0734,  0.0384, -0.0651,\n",
            "          0.0450, -0.0859, -0.0648, -0.0771,  0.0845, -0.0206, -0.0603, -0.0806,\n",
            "         -0.0488, -0.0968,  0.0038, -0.0836,  0.1057,  0.0117, -0.0965,  0.0396,\n",
            "         -0.0662, -0.1063,  0.0717,  0.0051, -0.0650, -0.0914, -0.0045, -0.0814,\n",
            "          0.0653, -0.0967, -0.0558,  0.0060,  0.1032,  0.0442,  0.0952,  0.0915,\n",
            "          0.0865,  0.0433, -0.1011,  0.0214, -0.0080,  0.0223, -0.0700, -0.0023,\n",
            "         -0.0065,  0.0153,  0.0074, -0.0352,  0.0005, -0.0890, -0.0196,  0.0616,\n",
            "          0.0182,  0.0412,  0.0885, -0.0073, -0.0641,  0.0013,  0.0687,  0.0017,\n",
            "         -0.0992,  0.0757, -0.0074,  0.0078, -0.0810, -0.0581, -0.0723, -0.0500,\n",
            "         -0.1039,  0.0367,  0.0913, -0.0737],\n",
            "        [ 0.0998,  0.0237, -0.0156, -0.0487,  0.1063, -0.0247,  0.0976,  0.0616,\n",
            "         -0.0452,  0.0102,  0.0902,  0.0775, -0.0925,  0.0057, -0.1084, -0.0742,\n",
            "          0.0857, -0.0436, -0.0875,  0.0564, -0.0510,  0.1061,  0.0015, -0.0204,\n",
            "         -0.0853,  0.0386, -0.0746,  0.0575,  0.0044, -0.0632,  0.0897, -0.0958,\n",
            "         -0.0784,  0.0302,  0.0573, -0.1014, -0.0204,  0.0729, -0.0516, -0.0401,\n",
            "          0.0339, -0.0942,  0.0674,  0.0842,  0.0237,  0.0293, -0.1078,  0.0440,\n",
            "          0.0808,  0.0799, -0.0910, -0.0042, -0.0001,  0.0621,  0.0479,  0.0491,\n",
            "          0.0158, -0.0118, -0.0115, -0.1044, -0.0492, -0.0694,  0.0936, -0.0334,\n",
            "          0.0724,  0.0091,  0.0351, -0.0707, -0.0373,  0.0697,  0.0423,  0.0050,\n",
            "          0.0672,  0.0528,  0.0832, -0.0092, -0.0332,  0.0869,  0.0277, -0.0578,\n",
            "          0.0220,  0.0938, -0.0018, -0.0509],\n",
            "        [-0.0715, -0.0848, -0.0402,  0.0631,  0.0767, -0.0380, -0.0380,  0.0374,\n",
            "          0.0947, -0.0501,  0.0613,  0.0825, -0.0343, -0.0856,  0.0039,  0.0242,\n",
            "          0.0121,  0.0553,  0.0574,  0.0656, -0.0648, -0.1089,  0.0367,  0.0190,\n",
            "          0.0911,  0.0431,  0.0522,  0.0318, -0.0191,  0.0513,  0.0446, -0.0502,\n",
            "         -0.1016, -0.0043,  0.0232, -0.0110,  0.0134, -0.0763, -0.0842, -0.0163,\n",
            "         -0.1061, -0.0788,  0.1012,  0.0263,  0.0122,  0.0235, -0.0081, -0.0870,\n",
            "         -0.0381, -0.0488,  0.0500,  0.0557, -0.0866,  0.0477, -0.0694, -0.0065,\n",
            "          0.0854, -0.1074,  0.1044, -0.0642, -0.0153,  0.0653, -0.0447,  0.0489,\n",
            "          0.0219,  0.0296,  0.0732,  0.0803, -0.0699, -0.0034, -0.1016,  0.0893,\n",
            "         -0.0504, -0.0345, -0.0553,  0.0280, -0.0690,  0.0348, -0.0003, -0.0822,\n",
            "         -0.0710,  0.0051,  0.0144, -0.1043],\n",
            "        [ 0.0807, -0.0178,  0.1024,  0.0954,  0.0108, -0.0055,  0.0489,  0.0596,\n",
            "         -0.0753,  0.0479, -0.0250, -0.0474, -0.0575,  0.0074, -0.0485, -0.0382,\n",
            "          0.0451,  0.0147, -0.0712,  0.0258, -0.0051, -0.0314,  0.0279, -0.1080,\n",
            "         -0.1085, -0.0990,  0.0430,  0.0337, -0.0674,  0.0027, -0.0950, -0.0447,\n",
            "          0.0666,  0.0374,  0.0890, -0.0260, -0.0112, -0.0919, -0.0712, -0.0401,\n",
            "          0.0166, -0.0839,  0.0001,  0.0760,  0.0555,  0.0724, -0.1011, -0.0375,\n",
            "          0.0530, -0.0022,  0.0233, -0.0540,  0.1003, -0.0931, -0.0390, -0.0328,\n",
            "          0.0419, -0.0282,  0.0685,  0.0953, -0.0564,  0.0251, -0.1033, -0.0772,\n",
            "          0.0740, -0.0493,  0.0247,  0.0137,  0.1083, -0.0643, -0.0055,  0.0541,\n",
            "         -0.0129,  0.0021,  0.0895, -0.0366,  0.0889, -0.0091,  0.0166, -0.0920,\n",
            "          0.0123,  0.0086,  0.0931, -0.0298],\n",
            "        [ 0.0516, -0.0719,  0.0457,  0.0752,  0.0291, -0.0725, -0.0743, -0.0884,\n",
            "         -0.0465, -0.0933, -0.0064, -0.0613,  0.0087, -0.0298,  0.0340,  0.0256,\n",
            "          0.0012,  0.0254,  0.0084, -0.0553, -0.0055,  0.0702,  0.0988, -0.0139,\n",
            "         -0.0147,  0.0224,  0.0936,  0.0616, -0.0845, -0.0516,  0.1035, -0.1009,\n",
            "         -0.0532, -0.0505, -0.0781,  0.0764,  0.0466, -0.0289,  0.0267,  0.0126,\n",
            "          0.0537,  0.0324,  0.1080, -0.1052, -0.0600, -0.0702,  0.0304,  0.0034,\n",
            "         -0.0851, -0.1003,  0.0558,  0.0218, -0.0029, -0.0923, -0.0165, -0.0196,\n",
            "          0.1046, -0.0761,  0.0653, -0.0171, -0.1012,  0.0909,  0.0287,  0.1040,\n",
            "          0.0065,  0.0905, -0.0528,  0.0906,  0.0787,  0.0808,  0.1065,  0.0016,\n",
            "          0.0482, -0.0724,  0.0798,  0.0630,  0.0497, -0.0049, -0.0545,  0.0595,\n",
            "         -0.0460,  0.0858, -0.0400,  0.0361]], requires_grad=True), Parameter containing:\n",
            "tensor([-0.0185, -0.0192, -0.0722, -0.0637, -0.0557,  0.0893, -0.0423,  0.0596,\n",
            "        -0.0072, -0.0078], requires_grad=True)]\n"
          ]
        }
      ]
    },
    {
      "cell_type": "markdown",
      "source": [
        "Let’s try a random 32x32 input. <br>Note: expected input size of this net (LeNet) is 32x32. To use this net on the MNIST dataset, please resize the images from the dataset to 32x32."
      ],
      "metadata": {
        "id": "4XtmGX-EayVz"
      }
    },
    {
      "cell_type": "code",
      "source": [
        "input = torch.randn(1, 1, 32, 32)\n",
        "out = net(input)\n",
        "print(out)"
      ],
      "metadata": {
        "id": "GQJWfmDWCYBU",
        "colab": {
          "base_uri": "https://localhost:8080/"
        },
        "outputId": "6c0a9f8d-1a8c-48f9-cdb7-616eba542f22"
      },
      "execution_count": 146,
      "outputs": [
        {
          "output_type": "stream",
          "name": "stdout",
          "text": [
            "tensor([[-0.0406,  0.0197, -0.1107, -0.0444, -0.0290,  0.0264,  0.0165,  0.0543,\n",
            "         -0.0335,  0.0046]], grad_fn=<AddmmBackward0>)\n"
          ]
        }
      ]
    },
    {
      "cell_type": "markdown",
      "source": [
        "Zero the gradient buffers of all parameters and backprops with random gradients:"
      ],
      "metadata": {
        "id": "q0Ep41OMa-gn"
      }
    },
    {
      "cell_type": "code",
      "source": [
        "net.zero_grad()\n",
        "out.backward(torch.randn(1, 10))"
      ],
      "metadata": {
        "id": "1FvDaYQ3a-Z9"
      },
      "execution_count": 147,
      "outputs": []
    },
    {
      "cell_type": "markdown",
      "source": [
        "<font color='coral'>NOTE</font>\n",
        "\n",
        "torch.nn only supports mini-batches. The entire torch.nn package only supports inputs that are a mini-batch of samples, and not a single sample.\n",
        "\n",
        "For example, nn.Conv2d will take in a 4D Tensor of nSamples x nChannels x Height x Width.\n",
        "\n",
        "If you have a single sample, just use input.unsqueeze(0) to add a fake batch dimension."
      ],
      "metadata": {
        "id": "qKVYZAWhbGFb"
      }
    },
    {
      "cell_type": "markdown",
      "source": [
        "Before proceeding further, let’s recap all the classes you’ve seen so far.\n",
        "\n",
        "Recap:<br>\n",
        "torch.Tensor - A multi-dimensional array with support for autograd operations like backward(). Also holds the gradient w.r.t. the tensor.\n",
        "\n",
        "nn.Module - Neural network module. Convenient way of encapsulating parameters, with helpers for moving them to GPU, exporting, loading, etc.\n",
        "\n",
        "nn.Parameter - A kind of Tensor, that is automatically registered as a parameter when assigned as an attribute to a Module.\n",
        "\n",
        "autograd.Function - Implements forward and backward definitions of an autograd operation. Every Tensor operation creates at least a single Function node that connects to functions that created a Tensor and encodes its history.\n",
        "\n",
        "At this point, we covered:\n",
        "Defining a neural network\n",
        "\n",
        "Processing inputs and calling backward\n",
        "\n",
        "Still Left:\n",
        "Computing the loss\n",
        "\n",
        "Updating the weights of the network"
      ],
      "metadata": {
        "id": "LD1B4pVvbQ3T"
      }
    },
    {
      "cell_type": "markdown",
      "source": [
        "<b>Loss Function</b><br>\n",
        "A loss function takes the (output, target) pair of inputs, and computes a value that estimates how far away the output is from the target.\n",
        "\n",
        "There are several different loss functions under the nn package . A simple loss is: nn.MSELoss which computes the mean-squared error between the output and the target."
      ],
      "metadata": {
        "id": "c9c5G25hbY6y"
      }
    },
    {
      "cell_type": "code",
      "source": [
        "input"
      ],
      "metadata": {
        "id": "4GYojKB3ezHq",
        "outputId": "47edec7e-ae44-43c3-ccc3-bc9189c3b537",
        "colab": {
          "base_uri": "https://localhost:8080/"
        }
      },
      "execution_count": 157,
      "outputs": [
        {
          "output_type": "execute_result",
          "data": {
            "text/plain": [
              "tensor([[[[-0.3298,  0.5683,  0.9246,  ..., -1.1337,  0.8672,  0.9334],\n",
              "          [ 1.2841, -0.4362,  1.4985,  ...,  0.5957, -0.1073, -1.3281],\n",
              "          [-0.6991,  1.2390,  0.0929,  ...,  0.6532, -1.0390,  1.1587],\n",
              "          ...,\n",
              "          [ 0.7134, -0.2108, -1.8475,  ..., -0.2834,  0.5376,  0.0920],\n",
              "          [ 1.4700,  0.0525, -1.5714,  ...,  0.0936,  0.1018,  1.3091],\n",
              "          [-1.9015,  0.2292, -0.1164,  ...,  0.2501, -0.2112,  0.9867]]]])"
            ]
          },
          "metadata": {},
          "execution_count": 157
        }
      ]
    },
    {
      "cell_type": "code",
      "source": [
        "output = net(input)\n",
        "target = torch.randn(10)  # a dummy target, for example\n",
        "target = target.view(1, -1)  # make it the same shape as output\n",
        "criterion = nn.MSELoss()\n",
        "\n",
        "loss = criterion(output, target)\n",
        "print(loss)"
      ],
      "metadata": {
        "id": "-c4xix73CFWh",
        "colab": {
          "base_uri": "https://localhost:8080/"
        },
        "outputId": "8c46e673-933a-48ae-b2cf-3df51951fb6a"
      },
      "execution_count": 148,
      "outputs": [
        {
          "output_type": "stream",
          "name": "stdout",
          "text": [
            "tensor(1.0661, grad_fn=<MseLossBackward0>)\n"
          ]
        }
      ]
    },
    {
      "cell_type": "markdown",
      "source": [
        "Now, if you follow loss in the backward direction, using its .grad_fn attribute, you will see a graph of computations that looks like this:"
      ],
      "metadata": {
        "id": "Vkcrpek-bk5C"
      }
    },
    {
      "cell_type": "code",
      "source": [
        "\"\"\"input -> conv2d -> relu -> maxpool2d -> conv2d -> relu -> maxpool2d-> flatten -> linear -> relu -> linear -> relu -> linear-> MSELoss-> loss\"\"\""
      ],
      "metadata": {
        "colab": {
          "base_uri": "https://localhost:8080/",
          "height": 35
        },
        "id": "HdUSiZ3MbmiC",
        "outputId": "16e41303-3ea9-4c37-a892-f8f60d5c94b9"
      },
      "execution_count": 149,
      "outputs": [
        {
          "output_type": "execute_result",
          "data": {
            "text/plain": [
              "'input -> conv2d -> relu -> maxpool2d -> conv2d -> relu -> maxpool2d\\n      -> flatten -> linear -> relu -> linear -> relu -> linear\\n      -> MSELoss\\n      -> loss'"
            ],
            "application/vnd.google.colaboratory.intrinsic+json": {
              "type": "string"
            }
          },
          "metadata": {},
          "execution_count": 149
        }
      ]
    },
    {
      "cell_type": "markdown",
      "source": [
        "So, when we call loss.backward(), the whole graph is differentiated w.r.t. the neural net parameters, and all Tensors in the graph that have requires_grad=True will have their .grad Tensor accumulated with the gradient."
      ],
      "metadata": {
        "id": "n5KaIHIfbq2S"
      }
    },
    {
      "cell_type": "code",
      "source": [
        "print(loss.grad_fn)  # MSELoss\n",
        "print(loss.grad_fn.next_functions[0][0])  # Linear\n",
        "print(loss.grad_fn.next_functions[0][0].next_functions[0][0])  # ReLU"
      ],
      "metadata": {
        "colab": {
          "base_uri": "https://localhost:8080/"
        },
        "id": "wxIuWme-bmgC",
        "outputId": "4c6bb1f4-698f-4e9a-b777-5df7a0f19f07"
      },
      "execution_count": 150,
      "outputs": [
        {
          "output_type": "stream",
          "name": "stdout",
          "text": [
            "<MseLossBackward0 object at 0x7fd110ba68f0>\n",
            "<AddmmBackward0 object at 0x7fd110ba7820>\n",
            "<AccumulateGrad object at 0x7fd110ba68f0>\n"
          ]
        }
      ]
    },
    {
      "cell_type": "markdown",
      "source": [
        "<b>Backprop</b><br>\n",
        "To backpropagate the error all we have to do is to loss.backward(). You need to clear the existing gradients though, else gradients will be accumulated to existing gradients.\n",
        "\n",
        "Now we shall call loss.backward(), and have a look at conv1’s bias gradients before and after the backward."
      ],
      "metadata": {
        "id": "ruP3DkUtbu7a"
      }
    },
    {
      "cell_type": "code",
      "source": [
        "net.zero_grad()     # zeroes the gradient buffers of all parameters\n",
        "\n",
        "print('conv1.bias.grad before backward')\n",
        "print(net.conv1.bias.grad)\n",
        "\n",
        "loss.backward()\n",
        "\n",
        "print('conv1.bias.grad after backward')\n",
        "print(net.conv1.bias.grad)"
      ],
      "metadata": {
        "colab": {
          "base_uri": "https://localhost:8080/"
        },
        "id": "xoMT9ZLvbmdr",
        "outputId": "4e8cb116-2087-4ea3-e5f0-9b4ec96cd5ab"
      },
      "execution_count": 151,
      "outputs": [
        {
          "output_type": "stream",
          "name": "stdout",
          "text": [
            "conv1.bias.grad before backward\n",
            "None\n",
            "conv1.bias.grad after backward\n",
            "tensor([ 0.0033,  0.0062,  0.0012, -0.0184, -0.0012,  0.0032])\n"
          ]
        }
      ]
    },
    {
      "cell_type": "markdown",
      "source": [
        "Now, we have seen how to use loss functions.\n",
        "\n",
        "Read Later:\n",
        "\n",
        "The neural network package contains various modules and loss functions that form the building blocks of deep neural networks. A full list with documentation is here.\n",
        "\n",
        "The only thing left to learn is:\n",
        "\n",
        "Updating the weights of the network"
      ],
      "metadata": {
        "id": "NECwt8Tyb59a"
      }
    },
    {
      "cell_type": "markdown",
      "source": [
        "<b>Update the weights</b><br>\n",
        "The simplest update rule used in practice is the Stochastic Gradient Descent (SGD):"
      ],
      "metadata": {
        "id": "EXInxu4Eb_P6"
      }
    },
    {
      "cell_type": "code",
      "source": [
        "#weight = weight - learning_rate * gradient"
      ],
      "metadata": {
        "id": "Us1INdyYb50p"
      },
      "execution_count": 152,
      "outputs": []
    },
    {
      "cell_type": "markdown",
      "source": [
        "We can implement this using simple Python code:"
      ],
      "metadata": {
        "id": "ToocCWYQcJG8"
      }
    },
    {
      "cell_type": "code",
      "source": [
        "learning_rate = 0.01\n",
        "for f in net.parameters():\n",
        "    f.data.sub_(f.grad.data * learning_rate)"
      ],
      "metadata": {
        "id": "HoChJ39mbmba"
      },
      "execution_count": 153,
      "outputs": []
    },
    {
      "cell_type": "markdown",
      "source": [
        "However, as you use neural networks, you want to use various different update rules such as SGD, Nesterov-SGD, Adam, RMSProp, etc. To enable this, we built a small package: torch.optim that implements all these methods. Using it is very simple:"
      ],
      "metadata": {
        "id": "m4bR_BX4cdIC"
      }
    },
    {
      "cell_type": "code",
      "source": [
        "import torch.optim as optim\n",
        "\n",
        "# create your optimizer\n",
        "optimizer = optim.SGD(net.parameters(), lr=0.01)\n",
        "\n",
        "# in your training loop:\n",
        "optimizer.zero_grad()   # zero the gradient buffers\n",
        "output = net(input)\n",
        "loss = criterion(output, target)\n",
        "loss.backward()\n",
        "optimizer.step()    # Does the update"
      ],
      "metadata": {
        "id": "mRNu8RHAbmYy"
      },
      "execution_count": 154,
      "outputs": []
    },
    {
      "cell_type": "markdown",
      "source": [
        "NOTE\n",
        "\n",
        "Observe how gradient buffers had to be manually set to zero using optimizer.zero_grad(). This is because gradients are accumulated as explained in the Backprop section."
      ],
      "metadata": {
        "id": "TzzTXa5vcheS"
      }
    },
    {
      "cell_type": "code",
      "source": [],
      "metadata": {
        "id": "U5c9Qi-wAr7o"
      },
      "execution_count": 154,
      "outputs": []
    },
    {
      "cell_type": "code",
      "source": [],
      "metadata": {
        "id": "OI_N7wWM9Ihi"
      },
      "execution_count": 154,
      "outputs": []
    }
  ]
}