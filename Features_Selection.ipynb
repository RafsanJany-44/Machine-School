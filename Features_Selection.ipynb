{
  "nbformat": 4,
  "nbformat_minor": 0,
  "metadata": {
    "colab": {
      "provenance": [],
      "machine_shape": "hm",
      "include_colab_link": true
    },
    "kernelspec": {
      "name": "python3",
      "display_name": "Python 3"
    },
    "language_info": {
      "name": "python"
    },
    "gpuClass": "premium"
  },
  "cells": [
    {
      "cell_type": "markdown",
      "metadata": {
        "id": "view-in-github",
        "colab_type": "text"
      },
      "source": [
        "<a href=\"https://colab.research.google.com/github/RafsanJany-44/Machine-School/blob/main/Features_Selection.ipynb\" target=\"_parent\"><img src=\"https://colab.research.google.com/assets/colab-badge.svg\" alt=\"Open In Colab\"/></a>"
      ]
    },
    {
      "cell_type": "code",
      "source": [
        "from google.colab import drive\n",
        "drive.mount('/content/drive')"
      ],
      "metadata": {
        "colab": {
          "base_uri": "https://localhost:8080/"
        },
        "id": "W_OFMQUWXp4-",
        "outputId": "7d77d3c5-5f3d-4e7f-ed76-3211b73b520b"
      },
      "execution_count": 1,
      "outputs": [
        {
          "output_type": "stream",
          "name": "stdout",
          "text": [
            "Mounted at /content/drive\n"
          ]
        }
      ]
    },
    {
      "cell_type": "code",
      "source": [
        "from psutil import virtual_memory\n",
        "ram_gb = virtual_memory().total / 1e9\n",
        "print('Your runtime has {:.1f} gigabytes of available RAM\\n'.format(ram_gb))\n",
        "\n",
        "if ram_gb < 20:\n",
        "  print('Not using a high-RAM runtime')\n",
        "else:\n",
        "  print('You are using a high-RAM runtime!')"
      ],
      "metadata": {
        "colab": {
          "base_uri": "https://localhost:8080/"
        },
        "id": "PQsMMwfPZT7C",
        "outputId": "d1ce64b3-baf4-4d85-9a48-edcba947112f"
      },
      "execution_count": 2,
      "outputs": [
        {
          "output_type": "stream",
          "name": "stdout",
          "text": [
            "Your runtime has 27.3 gigabytes of available RAM\n",
            "\n",
            "You are using a high-RAM runtime!\n"
          ]
        }
      ]
    },
    {
      "cell_type": "markdown",
      "source": [
        "#Function"
      ],
      "metadata": {
        "id": "Zbh6rL9H3Saa"
      }
    },
    {
      "cell_type": "markdown",
      "source": [
        "###Null value check"
      ],
      "metadata": {
        "id": "giDRAKrV26eQ"
      }
    },
    {
      "cell_type": "code",
      "source": [
        "def Search_Null(df):\n",
        "  dic={}\n",
        "  for col in list(df.columns):\n",
        "    rows = []\n",
        "    flage = 0\n",
        "    for row in range(df.shape[0]):\n",
        "      if str(df[col][row]) == \"nan\":\n",
        "        rows.append(row)\n",
        "        flage = 1\n",
        "    if flage ==1:\n",
        "      dic[col] = rows\n",
        "  \n",
        "  return dic"
      ],
      "metadata": {
        "id": "oFFNev1h3Vkp"
      },
      "execution_count": 3,
      "outputs": []
    },
    {
      "cell_type": "code",
      "source": [
        "import pandas as pd\n",
        "import numpy as np\n",
        "\n",
        "primary_dataset = pd.read_excel('/content/drive/MyDrive/Machine Learning Models/5 Stage Sleep Classification/DataSet/EEG_HMC_FeatureExtraction_All_Data_2022.12.04.xlsx')\n"
      ],
      "metadata": {
        "id": "XOGUE6aDNCnE"
      },
      "execution_count": 4,
      "outputs": []
    },
    {
      "cell_type": "code",
      "source": [
        "primary_dataset.head()"
      ],
      "metadata": {
        "colab": {
          "base_uri": "https://localhost:8080/",
          "height": 317
        },
        "id": "VLjQaCXr3QTT",
        "outputId": "4133e2a8-0f61-4dfb-be2d-2d8360c61435"
      },
      "execution_count": 5,
      "outputs": [
        {
          "output_type": "execute_result",
          "data": {
            "text/plain": [
              "  Subject Sleep Stage Epoch MeanP_Alpha_F4 MedianF_Alpha_F4 MeanF_Alpha_F4  \\\n",
              "0   SN002           W     0        0.00051          8.74146       18.48195   \n",
              "1   SN002           W     1         0.0004            10.24       17.48293   \n",
              "2   SN002           W     2        0.00036          9.74049       17.98244   \n",
              "3   SN002           W     3        0.00035         10.11512        17.6078   \n",
              "4   SN002           W     4        0.00033          9.74049        17.6078   \n",
              "\n",
              "  Spectral Edge_Alpha_F4 PeakF_Alpha_F4 MeanP_Beta_F4 MedianF_Beta_F4  ...  \\\n",
              "0               17.48293        8.24195       0.00071        19.73073  ...   \n",
              "1               16.85854       10.61463       0.00051        17.23317  ...   \n",
              "2               17.48293        8.74146       0.00047         17.6078  ...   \n",
              "3               17.10829        9.61561       0.00047        17.35805  ...   \n",
              "4               17.23317        8.11707       0.00043        17.23317  ...   \n",
              "\n",
              "       DAR_G     DTR_F4    DTR_C4     DTR_O2      DTR_G   DTABR_F4  DTABR_C4  \\\n",
              "0  18.191758   8.851240  5.786885  18.564103  11.067409   9.770492  3.833333   \n",
              "1  16.621053   8.693548  5.173913  28.920000  14.262487   6.604396  3.155556   \n",
              "2  15.327441  16.389831  7.090909   9.583333  11.021358  12.361446  4.188235   \n",
              "3   4.718095   5.302326  3.600000   3.640000   4.180775   3.304878  2.067416   \n",
              "4   8.542423   8.226415  3.921053   7.291667   6.479711   6.434211  2.527027   \n",
              "\n",
              "    DTABR_O2   DTABR_G       P_G  \n",
              "0   8.670455  7.424760  0.009177  \n",
              "1  12.262295  7.340749  0.006355  \n",
              "2   4.618182  7.055954  0.006283  \n",
              "3   1.901639  2.424644  0.002777  \n",
              "4   3.491228  4.150822  0.003691  \n",
              "\n",
              "[5 rows x 114 columns]"
            ],
            "text/html": [
              "\n",
              "  <div id=\"df-ec690dd3-f20d-40d9-8e65-12ffd6c6ce2f\">\n",
              "    <div class=\"colab-df-container\">\n",
              "      <div>\n",
              "<style scoped>\n",
              "    .dataframe tbody tr th:only-of-type {\n",
              "        vertical-align: middle;\n",
              "    }\n",
              "\n",
              "    .dataframe tbody tr th {\n",
              "        vertical-align: top;\n",
              "    }\n",
              "\n",
              "    .dataframe thead th {\n",
              "        text-align: right;\n",
              "    }\n",
              "</style>\n",
              "<table border=\"1\" class=\"dataframe\">\n",
              "  <thead>\n",
              "    <tr style=\"text-align: right;\">\n",
              "      <th></th>\n",
              "      <th>Subject</th>\n",
              "      <th>Sleep Stage</th>\n",
              "      <th>Epoch</th>\n",
              "      <th>MeanP_Alpha_F4</th>\n",
              "      <th>MedianF_Alpha_F4</th>\n",
              "      <th>MeanF_Alpha_F4</th>\n",
              "      <th>Spectral Edge_Alpha_F4</th>\n",
              "      <th>PeakF_Alpha_F4</th>\n",
              "      <th>MeanP_Beta_F4</th>\n",
              "      <th>MedianF_Beta_F4</th>\n",
              "      <th>...</th>\n",
              "      <th>DAR_G</th>\n",
              "      <th>DTR_F4</th>\n",
              "      <th>DTR_C4</th>\n",
              "      <th>DTR_O2</th>\n",
              "      <th>DTR_G</th>\n",
              "      <th>DTABR_F4</th>\n",
              "      <th>DTABR_C4</th>\n",
              "      <th>DTABR_O2</th>\n",
              "      <th>DTABR_G</th>\n",
              "      <th>P_G</th>\n",
              "    </tr>\n",
              "  </thead>\n",
              "  <tbody>\n",
              "    <tr>\n",
              "      <th>0</th>\n",
              "      <td>SN002</td>\n",
              "      <td>W</td>\n",
              "      <td>0</td>\n",
              "      <td>0.00051</td>\n",
              "      <td>8.74146</td>\n",
              "      <td>18.48195</td>\n",
              "      <td>17.48293</td>\n",
              "      <td>8.24195</td>\n",
              "      <td>0.00071</td>\n",
              "      <td>19.73073</td>\n",
              "      <td>...</td>\n",
              "      <td>18.191758</td>\n",
              "      <td>8.851240</td>\n",
              "      <td>5.786885</td>\n",
              "      <td>18.564103</td>\n",
              "      <td>11.067409</td>\n",
              "      <td>9.770492</td>\n",
              "      <td>3.833333</td>\n",
              "      <td>8.670455</td>\n",
              "      <td>7.424760</td>\n",
              "      <td>0.009177</td>\n",
              "    </tr>\n",
              "    <tr>\n",
              "      <th>1</th>\n",
              "      <td>SN002</td>\n",
              "      <td>W</td>\n",
              "      <td>1</td>\n",
              "      <td>0.0004</td>\n",
              "      <td>10.24</td>\n",
              "      <td>17.48293</td>\n",
              "      <td>16.85854</td>\n",
              "      <td>10.61463</td>\n",
              "      <td>0.00051</td>\n",
              "      <td>17.23317</td>\n",
              "      <td>...</td>\n",
              "      <td>16.621053</td>\n",
              "      <td>8.693548</td>\n",
              "      <td>5.173913</td>\n",
              "      <td>28.920000</td>\n",
              "      <td>14.262487</td>\n",
              "      <td>6.604396</td>\n",
              "      <td>3.155556</td>\n",
              "      <td>12.262295</td>\n",
              "      <td>7.340749</td>\n",
              "      <td>0.006355</td>\n",
              "    </tr>\n",
              "    <tr>\n",
              "      <th>2</th>\n",
              "      <td>SN002</td>\n",
              "      <td>W</td>\n",
              "      <td>2</td>\n",
              "      <td>0.00036</td>\n",
              "      <td>9.74049</td>\n",
              "      <td>17.98244</td>\n",
              "      <td>17.48293</td>\n",
              "      <td>8.74146</td>\n",
              "      <td>0.00047</td>\n",
              "      <td>17.6078</td>\n",
              "      <td>...</td>\n",
              "      <td>15.327441</td>\n",
              "      <td>16.389831</td>\n",
              "      <td>7.090909</td>\n",
              "      <td>9.583333</td>\n",
              "      <td>11.021358</td>\n",
              "      <td>12.361446</td>\n",
              "      <td>4.188235</td>\n",
              "      <td>4.618182</td>\n",
              "      <td>7.055954</td>\n",
              "      <td>0.006283</td>\n",
              "    </tr>\n",
              "    <tr>\n",
              "      <th>3</th>\n",
              "      <td>SN002</td>\n",
              "      <td>W</td>\n",
              "      <td>3</td>\n",
              "      <td>0.00035</td>\n",
              "      <td>10.11512</td>\n",
              "      <td>17.6078</td>\n",
              "      <td>17.10829</td>\n",
              "      <td>9.61561</td>\n",
              "      <td>0.00047</td>\n",
              "      <td>17.35805</td>\n",
              "      <td>...</td>\n",
              "      <td>4.718095</td>\n",
              "      <td>5.302326</td>\n",
              "      <td>3.600000</td>\n",
              "      <td>3.640000</td>\n",
              "      <td>4.180775</td>\n",
              "      <td>3.304878</td>\n",
              "      <td>2.067416</td>\n",
              "      <td>1.901639</td>\n",
              "      <td>2.424644</td>\n",
              "      <td>0.002777</td>\n",
              "    </tr>\n",
              "    <tr>\n",
              "      <th>4</th>\n",
              "      <td>SN002</td>\n",
              "      <td>W</td>\n",
              "      <td>4</td>\n",
              "      <td>0.00033</td>\n",
              "      <td>9.74049</td>\n",
              "      <td>17.6078</td>\n",
              "      <td>17.23317</td>\n",
              "      <td>8.11707</td>\n",
              "      <td>0.00043</td>\n",
              "      <td>17.23317</td>\n",
              "      <td>...</td>\n",
              "      <td>8.542423</td>\n",
              "      <td>8.226415</td>\n",
              "      <td>3.921053</td>\n",
              "      <td>7.291667</td>\n",
              "      <td>6.479711</td>\n",
              "      <td>6.434211</td>\n",
              "      <td>2.527027</td>\n",
              "      <td>3.491228</td>\n",
              "      <td>4.150822</td>\n",
              "      <td>0.003691</td>\n",
              "    </tr>\n",
              "  </tbody>\n",
              "</table>\n",
              "<p>5 rows × 114 columns</p>\n",
              "</div>\n",
              "      <button class=\"colab-df-convert\" onclick=\"convertToInteractive('df-ec690dd3-f20d-40d9-8e65-12ffd6c6ce2f')\"\n",
              "              title=\"Convert this dataframe to an interactive table.\"\n",
              "              style=\"display:none;\">\n",
              "        \n",
              "  <svg xmlns=\"http://www.w3.org/2000/svg\" height=\"24px\"viewBox=\"0 0 24 24\"\n",
              "       width=\"24px\">\n",
              "    <path d=\"M0 0h24v24H0V0z\" fill=\"none\"/>\n",
              "    <path d=\"M18.56 5.44l.94 2.06.94-2.06 2.06-.94-2.06-.94-.94-2.06-.94 2.06-2.06.94zm-11 1L8.5 8.5l.94-2.06 2.06-.94-2.06-.94L8.5 2.5l-.94 2.06-2.06.94zm10 10l.94 2.06.94-2.06 2.06-.94-2.06-.94-.94-2.06-.94 2.06-2.06.94z\"/><path d=\"M17.41 7.96l-1.37-1.37c-.4-.4-.92-.59-1.43-.59-.52 0-1.04.2-1.43.59L10.3 9.45l-7.72 7.72c-.78.78-.78 2.05 0 2.83L4 21.41c.39.39.9.59 1.41.59.51 0 1.02-.2 1.41-.59l7.78-7.78 2.81-2.81c.8-.78.8-2.07 0-2.86zM5.41 20L4 18.59l7.72-7.72 1.47 1.35L5.41 20z\"/>\n",
              "  </svg>\n",
              "      </button>\n",
              "      \n",
              "  <style>\n",
              "    .colab-df-container {\n",
              "      display:flex;\n",
              "      flex-wrap:wrap;\n",
              "      gap: 12px;\n",
              "    }\n",
              "\n",
              "    .colab-df-convert {\n",
              "      background-color: #E8F0FE;\n",
              "      border: none;\n",
              "      border-radius: 50%;\n",
              "      cursor: pointer;\n",
              "      display: none;\n",
              "      fill: #1967D2;\n",
              "      height: 32px;\n",
              "      padding: 0 0 0 0;\n",
              "      width: 32px;\n",
              "    }\n",
              "\n",
              "    .colab-df-convert:hover {\n",
              "      background-color: #E2EBFA;\n",
              "      box-shadow: 0px 1px 2px rgba(60, 64, 67, 0.3), 0px 1px 3px 1px rgba(60, 64, 67, 0.15);\n",
              "      fill: #174EA6;\n",
              "    }\n",
              "\n",
              "    [theme=dark] .colab-df-convert {\n",
              "      background-color: #3B4455;\n",
              "      fill: #D2E3FC;\n",
              "    }\n",
              "\n",
              "    [theme=dark] .colab-df-convert:hover {\n",
              "      background-color: #434B5C;\n",
              "      box-shadow: 0px 1px 3px 1px rgba(0, 0, 0, 0.15);\n",
              "      filter: drop-shadow(0px 1px 2px rgba(0, 0, 0, 0.3));\n",
              "      fill: #FFFFFF;\n",
              "    }\n",
              "  </style>\n",
              "\n",
              "      <script>\n",
              "        const buttonEl =\n",
              "          document.querySelector('#df-ec690dd3-f20d-40d9-8e65-12ffd6c6ce2f button.colab-df-convert');\n",
              "        buttonEl.style.display =\n",
              "          google.colab.kernel.accessAllowed ? 'block' : 'none';\n",
              "\n",
              "        async function convertToInteractive(key) {\n",
              "          const element = document.querySelector('#df-ec690dd3-f20d-40d9-8e65-12ffd6c6ce2f');\n",
              "          const dataTable =\n",
              "            await google.colab.kernel.invokeFunction('convertToInteractive',\n",
              "                                                     [key], {});\n",
              "          if (!dataTable) return;\n",
              "\n",
              "          const docLinkHtml = 'Like what you see? Visit the ' +\n",
              "            '<a target=\"_blank\" href=https://colab.research.google.com/notebooks/data_table.ipynb>data table notebook</a>'\n",
              "            + ' to learn more about interactive tables.';\n",
              "          element.innerHTML = '';\n",
              "          dataTable['output_type'] = 'display_data';\n",
              "          await google.colab.output.renderOutput(dataTable, element);\n",
              "          const docLink = document.createElement('div');\n",
              "          docLink.innerHTML = docLinkHtml;\n",
              "          element.appendChild(docLink);\n",
              "        }\n",
              "      </script>\n",
              "    </div>\n",
              "  </div>\n",
              "  "
            ]
          },
          "metadata": {},
          "execution_count": 5
        }
      ]
    },
    {
      "cell_type": "code",
      "source": [
        "#---------------------------------dataset variabl------------------\n",
        "dataset = primary_dataset.loc[:,primary_dataset.columns != \"Subject\"]\n",
        "dataset = dataset.loc[:,dataset.columns != \"Epoch\"]"
      ],
      "metadata": {
        "id": "P329HXpuYGfd"
      },
      "execution_count": 6,
      "outputs": []
    },
    {
      "cell_type": "code",
      "source": [
        "dataset.head()"
      ],
      "metadata": {
        "colab": {
          "base_uri": "https://localhost:8080/",
          "height": 317
        },
        "id": "Xv3x9qZh9Sqp",
        "outputId": "f1cb7fd3-7268-40f7-8103-8aef28a1028e"
      },
      "execution_count": 7,
      "outputs": [
        {
          "output_type": "execute_result",
          "data": {
            "text/plain": [
              "  Sleep Stage MeanP_Alpha_F4 MedianF_Alpha_F4 MeanF_Alpha_F4  \\\n",
              "0           W        0.00051          8.74146       18.48195   \n",
              "1           W         0.0004            10.24       17.48293   \n",
              "2           W        0.00036          9.74049       17.98244   \n",
              "3           W        0.00035         10.11512        17.6078   \n",
              "4           W        0.00033          9.74049        17.6078   \n",
              "\n",
              "  Spectral Edge_Alpha_F4 PeakF_Alpha_F4 MeanP_Beta_F4 MedianF_Beta_F4  \\\n",
              "0               17.48293        8.24195       0.00071        19.73073   \n",
              "1               16.85854       10.61463       0.00051        17.23317   \n",
              "2               17.48293        8.74146       0.00047         17.6078   \n",
              "3               17.10829        9.61561       0.00047        17.35805   \n",
              "4               17.23317        8.11707       0.00043        17.23317   \n",
              "\n",
              "  MeanF_Beta_F4 Spectral Edge_Beta_F4  ...      DAR_G     DTR_F4    DTR_C4  \\\n",
              "0      29.84585              33.84195  ...  18.191758   8.851240  5.786885   \n",
              "1      26.34927              29.34634  ...  16.621053   8.693548  5.173913   \n",
              "2      25.47512              28.22244  ...  15.327441  16.389831  7.090909   \n",
              "3      26.47415              28.72195  ...   4.718095   5.302326  3.600000   \n",
              "4      25.84976              28.09756  ...   8.542423   8.226415  3.921053   \n",
              "\n",
              "      DTR_O2      DTR_G   DTABR_F4  DTABR_C4   DTABR_O2   DTABR_G       P_G  \n",
              "0  18.564103  11.067409   9.770492  3.833333   8.670455  7.424760  0.009177  \n",
              "1  28.920000  14.262487   6.604396  3.155556  12.262295  7.340749  0.006355  \n",
              "2   9.583333  11.021358  12.361446  4.188235   4.618182  7.055954  0.006283  \n",
              "3   3.640000   4.180775   3.304878  2.067416   1.901639  2.424644  0.002777  \n",
              "4   7.291667   6.479711   6.434211  2.527027   3.491228  4.150822  0.003691  \n",
              "\n",
              "[5 rows x 112 columns]"
            ],
            "text/html": [
              "\n",
              "  <div id=\"df-ea6a4497-f841-4fee-a451-1fb955d71e84\">\n",
              "    <div class=\"colab-df-container\">\n",
              "      <div>\n",
              "<style scoped>\n",
              "    .dataframe tbody tr th:only-of-type {\n",
              "        vertical-align: middle;\n",
              "    }\n",
              "\n",
              "    .dataframe tbody tr th {\n",
              "        vertical-align: top;\n",
              "    }\n",
              "\n",
              "    .dataframe thead th {\n",
              "        text-align: right;\n",
              "    }\n",
              "</style>\n",
              "<table border=\"1\" class=\"dataframe\">\n",
              "  <thead>\n",
              "    <tr style=\"text-align: right;\">\n",
              "      <th></th>\n",
              "      <th>Sleep Stage</th>\n",
              "      <th>MeanP_Alpha_F4</th>\n",
              "      <th>MedianF_Alpha_F4</th>\n",
              "      <th>MeanF_Alpha_F4</th>\n",
              "      <th>Spectral Edge_Alpha_F4</th>\n",
              "      <th>PeakF_Alpha_F4</th>\n",
              "      <th>MeanP_Beta_F4</th>\n",
              "      <th>MedianF_Beta_F4</th>\n",
              "      <th>MeanF_Beta_F4</th>\n",
              "      <th>Spectral Edge_Beta_F4</th>\n",
              "      <th>...</th>\n",
              "      <th>DAR_G</th>\n",
              "      <th>DTR_F4</th>\n",
              "      <th>DTR_C4</th>\n",
              "      <th>DTR_O2</th>\n",
              "      <th>DTR_G</th>\n",
              "      <th>DTABR_F4</th>\n",
              "      <th>DTABR_C4</th>\n",
              "      <th>DTABR_O2</th>\n",
              "      <th>DTABR_G</th>\n",
              "      <th>P_G</th>\n",
              "    </tr>\n",
              "  </thead>\n",
              "  <tbody>\n",
              "    <tr>\n",
              "      <th>0</th>\n",
              "      <td>W</td>\n",
              "      <td>0.00051</td>\n",
              "      <td>8.74146</td>\n",
              "      <td>18.48195</td>\n",
              "      <td>17.48293</td>\n",
              "      <td>8.24195</td>\n",
              "      <td>0.00071</td>\n",
              "      <td>19.73073</td>\n",
              "      <td>29.84585</td>\n",
              "      <td>33.84195</td>\n",
              "      <td>...</td>\n",
              "      <td>18.191758</td>\n",
              "      <td>8.851240</td>\n",
              "      <td>5.786885</td>\n",
              "      <td>18.564103</td>\n",
              "      <td>11.067409</td>\n",
              "      <td>9.770492</td>\n",
              "      <td>3.833333</td>\n",
              "      <td>8.670455</td>\n",
              "      <td>7.424760</td>\n",
              "      <td>0.009177</td>\n",
              "    </tr>\n",
              "    <tr>\n",
              "      <th>1</th>\n",
              "      <td>W</td>\n",
              "      <td>0.0004</td>\n",
              "      <td>10.24</td>\n",
              "      <td>17.48293</td>\n",
              "      <td>16.85854</td>\n",
              "      <td>10.61463</td>\n",
              "      <td>0.00051</td>\n",
              "      <td>17.23317</td>\n",
              "      <td>26.34927</td>\n",
              "      <td>29.34634</td>\n",
              "      <td>...</td>\n",
              "      <td>16.621053</td>\n",
              "      <td>8.693548</td>\n",
              "      <td>5.173913</td>\n",
              "      <td>28.920000</td>\n",
              "      <td>14.262487</td>\n",
              "      <td>6.604396</td>\n",
              "      <td>3.155556</td>\n",
              "      <td>12.262295</td>\n",
              "      <td>7.340749</td>\n",
              "      <td>0.006355</td>\n",
              "    </tr>\n",
              "    <tr>\n",
              "      <th>2</th>\n",
              "      <td>W</td>\n",
              "      <td>0.00036</td>\n",
              "      <td>9.74049</td>\n",
              "      <td>17.98244</td>\n",
              "      <td>17.48293</td>\n",
              "      <td>8.74146</td>\n",
              "      <td>0.00047</td>\n",
              "      <td>17.6078</td>\n",
              "      <td>25.47512</td>\n",
              "      <td>28.22244</td>\n",
              "      <td>...</td>\n",
              "      <td>15.327441</td>\n",
              "      <td>16.389831</td>\n",
              "      <td>7.090909</td>\n",
              "      <td>9.583333</td>\n",
              "      <td>11.021358</td>\n",
              "      <td>12.361446</td>\n",
              "      <td>4.188235</td>\n",
              "      <td>4.618182</td>\n",
              "      <td>7.055954</td>\n",
              "      <td>0.006283</td>\n",
              "    </tr>\n",
              "    <tr>\n",
              "      <th>3</th>\n",
              "      <td>W</td>\n",
              "      <td>0.00035</td>\n",
              "      <td>10.11512</td>\n",
              "      <td>17.6078</td>\n",
              "      <td>17.10829</td>\n",
              "      <td>9.61561</td>\n",
              "      <td>0.00047</td>\n",
              "      <td>17.35805</td>\n",
              "      <td>26.47415</td>\n",
              "      <td>28.72195</td>\n",
              "      <td>...</td>\n",
              "      <td>4.718095</td>\n",
              "      <td>5.302326</td>\n",
              "      <td>3.600000</td>\n",
              "      <td>3.640000</td>\n",
              "      <td>4.180775</td>\n",
              "      <td>3.304878</td>\n",
              "      <td>2.067416</td>\n",
              "      <td>1.901639</td>\n",
              "      <td>2.424644</td>\n",
              "      <td>0.002777</td>\n",
              "    </tr>\n",
              "    <tr>\n",
              "      <th>4</th>\n",
              "      <td>W</td>\n",
              "      <td>0.00033</td>\n",
              "      <td>9.74049</td>\n",
              "      <td>17.6078</td>\n",
              "      <td>17.23317</td>\n",
              "      <td>8.11707</td>\n",
              "      <td>0.00043</td>\n",
              "      <td>17.23317</td>\n",
              "      <td>25.84976</td>\n",
              "      <td>28.09756</td>\n",
              "      <td>...</td>\n",
              "      <td>8.542423</td>\n",
              "      <td>8.226415</td>\n",
              "      <td>3.921053</td>\n",
              "      <td>7.291667</td>\n",
              "      <td>6.479711</td>\n",
              "      <td>6.434211</td>\n",
              "      <td>2.527027</td>\n",
              "      <td>3.491228</td>\n",
              "      <td>4.150822</td>\n",
              "      <td>0.003691</td>\n",
              "    </tr>\n",
              "  </tbody>\n",
              "</table>\n",
              "<p>5 rows × 112 columns</p>\n",
              "</div>\n",
              "      <button class=\"colab-df-convert\" onclick=\"convertToInteractive('df-ea6a4497-f841-4fee-a451-1fb955d71e84')\"\n",
              "              title=\"Convert this dataframe to an interactive table.\"\n",
              "              style=\"display:none;\">\n",
              "        \n",
              "  <svg xmlns=\"http://www.w3.org/2000/svg\" height=\"24px\"viewBox=\"0 0 24 24\"\n",
              "       width=\"24px\">\n",
              "    <path d=\"M0 0h24v24H0V0z\" fill=\"none\"/>\n",
              "    <path d=\"M18.56 5.44l.94 2.06.94-2.06 2.06-.94-2.06-.94-.94-2.06-.94 2.06-2.06.94zm-11 1L8.5 8.5l.94-2.06 2.06-.94-2.06-.94L8.5 2.5l-.94 2.06-2.06.94zm10 10l.94 2.06.94-2.06 2.06-.94-2.06-.94-.94-2.06-.94 2.06-2.06.94z\"/><path d=\"M17.41 7.96l-1.37-1.37c-.4-.4-.92-.59-1.43-.59-.52 0-1.04.2-1.43.59L10.3 9.45l-7.72 7.72c-.78.78-.78 2.05 0 2.83L4 21.41c.39.39.9.59 1.41.59.51 0 1.02-.2 1.41-.59l7.78-7.78 2.81-2.81c.8-.78.8-2.07 0-2.86zM5.41 20L4 18.59l7.72-7.72 1.47 1.35L5.41 20z\"/>\n",
              "  </svg>\n",
              "      </button>\n",
              "      \n",
              "  <style>\n",
              "    .colab-df-container {\n",
              "      display:flex;\n",
              "      flex-wrap:wrap;\n",
              "      gap: 12px;\n",
              "    }\n",
              "\n",
              "    .colab-df-convert {\n",
              "      background-color: #E8F0FE;\n",
              "      border: none;\n",
              "      border-radius: 50%;\n",
              "      cursor: pointer;\n",
              "      display: none;\n",
              "      fill: #1967D2;\n",
              "      height: 32px;\n",
              "      padding: 0 0 0 0;\n",
              "      width: 32px;\n",
              "    }\n",
              "\n",
              "    .colab-df-convert:hover {\n",
              "      background-color: #E2EBFA;\n",
              "      box-shadow: 0px 1px 2px rgba(60, 64, 67, 0.3), 0px 1px 3px 1px rgba(60, 64, 67, 0.15);\n",
              "      fill: #174EA6;\n",
              "    }\n",
              "\n",
              "    [theme=dark] .colab-df-convert {\n",
              "      background-color: #3B4455;\n",
              "      fill: #D2E3FC;\n",
              "    }\n",
              "\n",
              "    [theme=dark] .colab-df-convert:hover {\n",
              "      background-color: #434B5C;\n",
              "      box-shadow: 0px 1px 3px 1px rgba(0, 0, 0, 0.15);\n",
              "      filter: drop-shadow(0px 1px 2px rgba(0, 0, 0, 0.3));\n",
              "      fill: #FFFFFF;\n",
              "    }\n",
              "  </style>\n",
              "\n",
              "      <script>\n",
              "        const buttonEl =\n",
              "          document.querySelector('#df-ea6a4497-f841-4fee-a451-1fb955d71e84 button.colab-df-convert');\n",
              "        buttonEl.style.display =\n",
              "          google.colab.kernel.accessAllowed ? 'block' : 'none';\n",
              "\n",
              "        async function convertToInteractive(key) {\n",
              "          const element = document.querySelector('#df-ea6a4497-f841-4fee-a451-1fb955d71e84');\n",
              "          const dataTable =\n",
              "            await google.colab.kernel.invokeFunction('convertToInteractive',\n",
              "                                                     [key], {});\n",
              "          if (!dataTable) return;\n",
              "\n",
              "          const docLinkHtml = 'Like what you see? Visit the ' +\n",
              "            '<a target=\"_blank\" href=https://colab.research.google.com/notebooks/data_table.ipynb>data table notebook</a>'\n",
              "            + ' to learn more about interactive tables.';\n",
              "          element.innerHTML = '';\n",
              "          dataTable['output_type'] = 'display_data';\n",
              "          await google.colab.output.renderOutput(dataTable, element);\n",
              "          const docLink = document.createElement('div');\n",
              "          docLink.innerHTML = docLinkHtml;\n",
              "          element.appendChild(docLink);\n",
              "        }\n",
              "      </script>\n",
              "    </div>\n",
              "  </div>\n",
              "  "
            ]
          },
          "metadata": {},
          "execution_count": 7
        }
      ]
    },
    {
      "cell_type": "code",
      "source": [
        "dataset.shape"
      ],
      "metadata": {
        "colab": {
          "base_uri": "https://localhost:8080/"
        },
        "id": "LTJeDEr1_kbg",
        "outputId": "2a204e82-41cb-476f-b959-a3e1bb5a2c91"
      },
      "execution_count": 19,
      "outputs": [
        {
          "output_type": "execute_result",
          "data": {
            "text/plain": [
              "(109006, 112)"
            ]
          },
          "metadata": {},
          "execution_count": 19
        }
      ]
    },
    {
      "cell_type": "code",
      "source": [],
      "metadata": {
        "id": "GVEme7hcurNf"
      },
      "execution_count": 5,
      "outputs": []
    },
    {
      "cell_type": "code",
      "source": [
        "columns_name = list(dataset.columns)\n",
        "columns_name.remove(\"Sleep Stage\")"
      ],
      "metadata": {
        "id": "28hRCYuYjDKm"
      },
      "execution_count": 8,
      "outputs": []
    },
    {
      "cell_type": "code",
      "source": [
        "check = Search_Null(dataset)"
      ],
      "metadata": {
        "id": "-HNrdw1V-XVm"
      },
      "execution_count": 9,
      "outputs": []
    },
    {
      "cell_type": "code",
      "source": [
        "check.keys()"
      ],
      "metadata": {
        "colab": {
          "base_uri": "https://localhost:8080/"
        },
        "id": "so3CSEVSROM6",
        "outputId": "0d5eaf57-603c-4f53-af68-c0ec07f243be"
      },
      "execution_count": 11,
      "outputs": [
        {
          "output_type": "execute_result",
          "data": {
            "text/plain": [
              "dict_keys(['Sleep Stage', 'MeanP_Alpha_F4', 'MedianF_Alpha_F4', 'MeanF_Alpha_F4', 'Spectral Edge_Alpha_F4', 'PeakF_Alpha_F4', 'MeanP_Beta_F4', 'MedianF_Beta_F4', 'MeanF_Beta_F4', 'Spectral Edge_Beta_F4', 'PeakF_Beta_F4', 'MeanP_Theta_F4', 'MedianF_Theta_F4', 'MeanF_Theta_F4', 'Spectral Edge_Theta_F4', 'PeakF_Theta_F4', 'MeanP_Delta_F4', 'MedianF_Delta_F4', 'MeanF_Delta_F4', 'Spectral Edge_Delta_F4', 'PeakF_Delta_F4', 'MeanP_Gamma_F4', 'MedianF_Gamma_F4', 'MeanF_Gamma_F4', 'Spectral Edge_Gamma_F4', 'PeakF_Gamma_F4', 'MeanP_Beta_C4', 'MedianF_Beta_C4', 'MeanF_Beta_C4', 'Spectral Edge_Beta_C4', 'PeakF_Beta_C4', 'MeanP_Theta_C4', 'MedianF_Theta_C4', 'MeanF_Theta_C4', 'Spectral Edge_Theta_C4', 'PeakF_Theta_C4', 'MeanP_Delta_C4', 'MedianF_Delta_C4', 'MeanF_Delta_C4', 'Spectral Edge_Delta_C4', 'PeakF_Delta_C4', 'MeanP_Gamma_C4', 'MedianF_Gamma_C4', 'MeanF_Gamma_C4', 'Spectral Edge_Gamma_C4', 'PeakF_Gamma_C4', 'MeanP_Alpha_O2', 'MedianF_Alpha_O2', 'MeanF_Alpha_O2', 'Spectral Edge_Alpha_O2', 'PeakF_Alpha_O2', 'MeanP_Beta_O2', 'MedianF_Beta_O2', 'MeanF_Beta_O2', 'Spectral Edge_Beta_O2', 'PeakF_Beta_O2', 'MeanP_Theta_O2', 'MedianF_Theta_O2', 'MeanF_Theta_O2', 'Spectral Edge_Theta_O2', 'PeakF_Theta_O2', 'MeanP_Delta_O2', 'MedianF_Delta_O2', 'MeanF_Delta_O2', 'Spectral Edge_Delta_O2', 'PeakF_Delta_O2', 'MeanP_Gamma_O2', 'MedianF_Gamma_O2', 'MeanF_Gamma_O2', 'Spectral Edge_Gamma_O2', 'PeakF_Gamma_O2', 'Total_P_F4', 'Total_P_C4', 'Total_P_O2', 'Relative_MeanP_Alpha_F4', 'Relative_MeanP_Beta_F4', 'Relative_MeanP_Theta_F4', 'Relative_MeanP_Delta_F4', 'Relative_MeanP_Gamma_F4', 'Relative_MeanP_Alpha_C4', 'Relative_MeanP_Beta_C4', 'Relative_MeanP_Theta_C4', 'Relative_MeanP_Delta_C4', 'Relative_MeanP_Gamma_C4', 'Relative_MeanP_Alpha_O2', 'Relative_MeanP_Beta_O2', 'Relative_MeanP_Theta_O2', 'Relative_MeanP_Delta_O2', 'Relative_MeanP_Gamma_O2', 'Relative_MeanP_Alpha_G', 'Relative_MeanP_Beta_G', 'Relative_MeanP_Theta_G', 'Relative_MeanP_Delta_G', 'Relative_MeanP_Gamma_G', 'DAR_F4', 'DAR_C4', 'DAR_O2', 'DAR_G', 'DTR_F4', 'DTR_C4', 'DTR_O2', 'DTR_G', 'DTABR_F4', 'DTABR_C4', 'DTABR_O2', 'DTABR_G', 'P_G'])"
            ]
          },
          "metadata": {},
          "execution_count": 11
        }
      ]
    },
    {
      "cell_type": "code",
      "source": [
        "print(\"Previous DIM: \",dataset.shape)\n",
        "dataset = dataset.dropna().reset_index()\n",
        "dataset.pop(\"index\")\n",
        "print(\"Current DIM: \",dataset.shape)"
      ],
      "metadata": {
        "colab": {
          "base_uri": "https://localhost:8080/"
        },
        "id": "vdz7e5OD_M0M",
        "outputId": "d89ef205-c766-4cd5-c89e-bc227abc4616"
      },
      "execution_count": 57,
      "outputs": [
        {
          "output_type": "stream",
          "name": "stdout",
          "text": [
            "Previous DIM:  (108450, 112)\n",
            "Current DIM:  (108450, 112)\n"
          ]
        }
      ]
    },
    {
      "cell_type": "code",
      "source": [
        "check_again = Search_Null(dataset)\n",
        "check_again.keys()"
      ],
      "metadata": {
        "colab": {
          "base_uri": "https://localhost:8080/"
        },
        "id": "jzIz4a9gUvnI",
        "outputId": "cffb00e7-cb9e-4463-8af2-947a7b347eb8"
      },
      "execution_count": 58,
      "outputs": [
        {
          "output_type": "execute_result",
          "data": {
            "text/plain": [
              "dict_keys([])"
            ]
          },
          "metadata": {},
          "execution_count": 58
        }
      ]
    },
    {
      "cell_type": "code",
      "source": [
        "X = dataset.loc[:,dataset.columns != \"Sleep Stage\"] #\n",
        "y = dataset[\"Sleep Stage\"]"
      ],
      "metadata": {
        "id": "vswnGeF9uSwV"
      },
      "execution_count": 61,
      "outputs": []
    },
    {
      "cell_type": "code",
      "source": [
        "dataset.to_excel(\"Refactored_Dataset.xlsx\")"
      ],
      "metadata": {
        "id": "leBgsbheoVVS"
      },
      "execution_count": 64,
      "outputs": []
    },
    {
      "cell_type": "code",
      "source": [
        "number_of_feat=int(input(\"Number Of Best Features: \"))"
      ],
      "metadata": {
        "colab": {
          "base_uri": "https://localhost:8080/"
        },
        "id": "d7J_pHvVt83F",
        "outputId": "ebdc38ba-d936-4923-df8a-ba9932786801"
      },
      "execution_count": 62,
      "outputs": [
        {
          "name": "stdout",
          "output_type": "stream",
          "text": [
            "Number Of Best Features: 30\n"
          ]
        }
      ]
    },
    {
      "cell_type": "markdown",
      "source": [
        "#Filter Method (Model Free)"
      ],
      "metadata": {
        "id": "x6wucp4CuDqW"
      }
    },
    {
      "cell_type": "code",
      "source": [
        "from sklearn.feature_selection import SelectKBest\n",
        "bestfeatures_1 = SelectKBest(k=10)\n",
        "fit = bestfeatures_1.fit(X,y)\n",
        "dfscores = pd.DataFrame(fit.scores_)\n",
        "dfcolumns = pd.DataFrame(X.columns)\n",
        "featureScores = pd.concat([dfcolumns,dfscores],axis=1)\n",
        "featureScores.columns = ['Best_columns','Score_bestfeatures_1']\n",
        "lyst = featureScores.nlargest(number_of_feat,'Score_bestfeatures_1')\n",
        "lyst.to_csv('Filter_Method_bestfeatures_1.csv')"
      ],
      "metadata": {
        "id": "rbhm9_mGZU0F"
      },
      "execution_count": 97,
      "outputs": []
    },
    {
      "cell_type": "code",
      "source": [
        "from sklearn.feature_selection import SelectFpr, f_classif\n",
        "\n",
        "bestfeatures_3=SelectFpr(f_classif, alpha=0.1)\n",
        "fit = bestfeatures_3.fit(X,y)\n",
        "dfscores = pd.DataFrame(fit.scores_)\n",
        "dfcolumns = pd.DataFrame(X.columns)\n",
        "featureScores = pd.concat([dfcolumns,dfscores],axis=1)\n",
        "featureScores.columns = ['Specs','Score_bestfeatures_3']\n",
        "lyst=featureScores.nlargest(number_of_feat,'Score_bestfeatures_3')\n",
        "\n",
        "lyst.to_csv('Filter_Method_bestfeatures_3.csv')"
      ],
      "metadata": {
        "id": "cUpOBoHAuKv8"
      },
      "execution_count": 98,
      "outputs": []
    },
    {
      "cell_type": "markdown",
      "source": [
        "#Pearson’s with f_regression()"
      ],
      "metadata": {
        "id": "Ec2WJkqCKoo9"
      }
    },
    {
      "cell_type": "code",
      "source": [
        "from sklearn.datasets import make_regression\n",
        "from sklearn.feature_selection import SelectKBest\n",
        "from sklearn.feature_selection import f_regression\n",
        "import pandas as pd\n",
        "\n",
        "\n",
        "fs = SelectKBest(score_func=f_regression, k=5)\n",
        "fit = fs.fit(X,y)\n",
        "\n",
        "dfscores = pd.DataFrame(fit.scores_)\n",
        "dfcolumns = pd.DataFrame(columns_name)\n",
        "featureScores = pd.concat([dfcolumns,dfscores],axis=1)\n",
        "\n",
        "featureScores.columns = ['Best_columns','Score_pearsons'] \n",
        "\n",
        "\n",
        "lyst = featureScores.nlargest(30,'Score_pearsons')\n",
        "\n",
        "lyst.to_csv('Filter_Method_Pearson’s_with_f_regression.csv')"
      ],
      "metadata": {
        "id": "7QAv-7Bo4Fvg"
      },
      "execution_count": 100,
      "outputs": []
    },
    {
      "cell_type": "markdown",
      "source": [
        "#ANOVA with f_classif()"
      ],
      "metadata": {
        "id": "xhQ2dcCtKyG8"
      }
    },
    {
      "cell_type": "code",
      "source": [
        "from sklearn.datasets import make_classification\n",
        "from sklearn.feature_selection import SelectKBest\n",
        "from sklearn.feature_selection import f_classif\n",
        "import pandas as pd\n",
        "\n",
        "\n",
        "\n",
        "fs = SelectKBest(score_func=f_classif, k=5)\n",
        "fit = fs.fit(X,y)\n",
        "dfscores = pd.DataFrame(fit.scores_)\n",
        "dfcolumns = pd.DataFrame(columns_name)\n",
        "\n",
        "featureScores = pd.concat([dfcolumns,dfscores],axis=1)\n",
        "\n",
        "featureScores.columns = ['Best_columns','Score_ANOVA'] \n",
        "\n",
        "lyst = featureScores.nlargest(30,'Score_ANOVA')\n",
        "lyst.to_csv('Filter_Method_ANOVA_with_f_classif.csv')"
      ],
      "metadata": {
        "id": "lvNF8jbqKjnV"
      },
      "execution_count": 101,
      "outputs": []
    },
    {
      "cell_type": "markdown",
      "source": [
        "\n",
        "\n",
        "---\n",
        "\n"
      ],
      "metadata": {
        "id": "wYe7oiTEWT4X"
      }
    },
    {
      "cell_type": "code",
      "source": [],
      "metadata": {
        "id": "-Y9nPOzxWX8Q"
      },
      "execution_count": null,
      "outputs": []
    }
  ]
}