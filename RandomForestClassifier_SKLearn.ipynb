{
  "nbformat": 4,
  "nbformat_minor": 0,
  "metadata": {
    "colab": {
      "name": "RandomForestClassifier_SKLearn.ipynb",
      "provenance": [],
      "include_colab_link": true
    },
    "kernelspec": {
      "name": "python3",
      "display_name": "Python 3"
    },
    "language_info": {
      "name": "python"
    }
  },
  "cells": [
    {
      "cell_type": "markdown",
      "metadata": {
        "id": "view-in-github",
        "colab_type": "text"
      },
      "source": [
        "<a href=\"https://colab.research.google.com/github/RafsanJany-44/Machine-School/blob/main/RandomForestClassifier_SKLearn.ipynb\" target=\"_parent\"><img src=\"https://colab.research.google.com/assets/colab-badge.svg\" alt=\"Open In Colab\"/></a>"
      ]
    },
    {
      "cell_type": "markdown",
      "source": [
        "#Librery"
      ],
      "metadata": {
        "id": "ITqliX2CC0c9"
      }
    },
    {
      "cell_type": "code",
      "execution_count": 1,
      "metadata": {
        "id": "z5jwM07DCcpI"
      },
      "outputs": [],
      "source": [
        "import pandas as pd\n",
        "import numpy as np\n",
        "import matplotlib.pyplot as plt\n",
        "#data = 'https://raw.githubusercontent.com/RafsanJany-44/Machine-School/main/datasets/HMC_WITH_BIOM.csv'\n",
        "data=\"https://raw.githubusercontent.com/RafsanJany-44/Research-NREM-REM/main/dataset/REM_NREM.csv\"\n",
        "dataset = pd.read_csv(data)\n"
      ]
    },
    {
      "cell_type": "markdown",
      "source": [
        "#Spliting"
      ],
      "metadata": {
        "id": "1hOye7PqC4Wy"
      }
    },
    {
      "cell_type": "code",
      "source": [
        "X = dataset.iloc[:, 1:].values\n",
        "y = dataset.iloc[:, 0].values\n",
        "\n",
        "\n",
        "from sklearn.model_selection import train_test_split\n",
        "X_train, X_test, y_train, y_test = train_test_split(X, y, test_size = 0.33, random_state = 0)\n"
      ],
      "metadata": {
        "id": "Dnky2eqAC8K9"
      },
      "execution_count": 2,
      "outputs": []
    },
    {
      "cell_type": "code",
      "source": [
        ""
      ],
      "metadata": {
        "id": "TvMNXqHNF7Ay"
      },
      "execution_count": null,
      "outputs": []
    },
    {
      "cell_type": "markdown",
      "source": [
        "#Scaling"
      ],
      "metadata": {
        "id": "-E12oO4-DAp-"
      }
    },
    {
      "cell_type": "code",
      "source": [
        "from sklearn.preprocessing import StandardScaler\n",
        "sc = StandardScaler()\n",
        " \n",
        "X_train = sc.fit_transform(X_train)\n",
        "X_test = sc.transform(X_test)"
      ],
      "metadata": {
        "id": "1VXuVF05DESb"
      },
      "execution_count": 3,
      "outputs": []
    },
    {
      "cell_type": "markdown",
      "source": [
        "#Model (RandomForestClassifier)"
      ],
      "metadata": {
        "id": "iSvFh8NREWqG"
      }
    },
    {
      "cell_type": "markdown",
      "source": [
        "Normal Model"
      ],
      "metadata": {
        "id": "-JEjXuDMEjhx"
      }
    },
    {
      "cell_type": "code",
      "source": [
        "from sklearn.ensemble import RandomForestClassifier\n",
        "rfc_class = RandomForestClassifier(n_estimators=8)\n",
        "rfc_class.fit(X_train, y_train)\n",
        "y_pred=rfc_class.predict(X_test)"
      ],
      "metadata": {
        "id": "Lo-tnLUPClAg"
      },
      "execution_count": 4,
      "outputs": []
    },
    {
      "cell_type": "markdown",
      "source": [
        "Tunning"
      ],
      "metadata": {
        "id": "E2ostmT7El92"
      }
    },
    {
      "cell_type": "code",
      "source": [
        "from sklearn.ensemble import RandomForestClassifier\n",
        "from sklearn.metrics import accuracy_score\n",
        "estimators=60\n",
        "estimators_range = range (1,estimators+1)\n",
        "scores={}\n",
        "scores_list = []\n",
        "for k in estimators_range:\n",
        "  rfc_class = RandomForestClassifier(n_estimators=k)\n",
        "  rfc_class.fit(X_train, y_train)\n",
        "  y_pred=rfc_class.predict(X_test)\n",
        "  scores[k] = accuracy_score(y_test,y_pred)\n",
        "  scores_list.append(accuracy_score(y_test,y_pred))\n",
        "  print(str(k)+\"/\"+str(estimators)+\" round completed......................... Accurecy: \"+str(accuracy_score(y_test,y_pred)))"
      ],
      "metadata": {
        "colab": {
          "base_uri": "https://localhost:8080/"
        },
        "id": "PKZEz9hnErDS",
        "outputId": "14d300b1-caf8-462f-c8c4-63d73ba2c91c"
      },
      "execution_count": 4,
      "outputs": [
        {
          "output_type": "stream",
          "name": "stdout",
          "text": [
            "1/60 round completed......................... Accurecy: 0.8549758519828583\n",
            "2/60 round completed......................... Accurecy: 0.8742942656962112\n",
            "3/60 round completed......................... Accurecy: 0.890687708319162\n",
            "4/60 round completed......................... Accurecy: 0.8876607033535133\n",
            "5/60 round completed......................... Accurecy: 0.9008570845520713\n",
            "6/60 round completed......................... Accurecy: 0.9012312087613088\n",
            "7/60 round completed......................... Accurecy: 0.9092918849057887\n",
            "8/60 round completed......................... Accurecy: 0.9061288347731447\n",
            "9/60 round completed......................... Accurecy: 0.9117066866199578\n",
            "10/60 round completed......................... Accurecy: 0.9105503027004965\n",
            "11/60 round completed......................... Accurecy: 0.914087477042378\n",
            "12/60 round completed......................... Accurecy: 0.911910754370451\n",
            "13/60 round completed......................... Accurecy: 0.9175906400925107\n",
            "14/60 round completed......................... Accurecy: 0.9139854431671315\n",
            "15/60 round completed......................... Accurecy: 0.9216039725188763\n",
            "16/60 round completed......................... Accurecy: 0.9179987755934971\n",
            "17/60 round completed......................... Accurecy: 0.919223182096456\n",
            "18/60 round completed......................... Accurecy: 0.9187130127202231\n",
            "19/60 round completed......................... Accurecy: 0.9212638596013877\n",
            "20/60 round completed......................... Accurecy: 0.9202775321406707\n",
            "21/60 round completed......................... Accurecy: 0.9210597918508945\n",
            "22/60 round completed......................... Accurecy: 0.9212978708931365\n",
            "23/60 round completed......................... Accurecy: 0.9231684919393238\n",
            "24/60 round completed......................... Accurecy: 0.9214679273518809\n",
            "25/60 round completed......................... Accurecy: 0.922624311271342\n",
            "26/60 round completed......................... Accurecy: 0.922148153186858\n",
            "27/60 round completed......................... Accurecy: 0.9232365145228216\n",
            "28/60 round completed......................... Accurecy: 0.9200054418066799\n",
            "29/60 round completed......................... Accurecy: 0.9240187742330453\n",
            "30/60 round completed......................... Accurecy: 0.9217740289776206\n",
            "31/60 round completed......................... Accurecy: 0.9237806951908033\n",
            "32/60 round completed......................... Accurecy: 0.9230664580640773\n",
            "33/60 round completed......................... Accurecy: 0.9241888306917897\n",
            "34/60 round completed......................... Accurecy: 0.9223522209373513\n",
            "35/60 round completed......................... Accurecy: 0.9265015985307122\n",
            "36/60 round completed......................... Accurecy: 0.9224542548125978\n",
            "37/60 round completed......................... Accurecy: 0.9256853275287396\n",
            "38/60 round completed......................... Accurecy: 0.9241888306917897\n",
            "39/60 round completed......................... Accurecy: 0.9244609210257806\n",
            "40/60 round completed......................... Accurecy: 0.9243928984422828\n",
            "41/60 round completed......................... Accurecy: 0.9239507516495477\n",
            "42/60 round completed......................... Accurecy: 0.9239847629412965\n",
            "43/60 round completed......................... Accurecy: 0.9248690565267669\n",
            "44/60 round completed......................... Accurecy: 0.9241548194000409\n",
            "45/60 round completed......................... Accurecy: 0.9259574178627304\n",
            "46/60 round completed......................... Accurecy: 0.9243928984422828\n",
            "47/60 round completed......................... Accurecy: 0.9264675872389634\n",
            "48/60 round completed......................... Accurecy: 0.9250391129855112\n",
            "49/60 round completed......................... Accurecy: 0.924596966192776\n",
            "50/60 round completed......................... Accurecy: 0.9250051016937624\n",
            "51/60 round completed......................... Accurecy: 0.9257193388204884\n",
            "52/60 round completed......................... Accurecy: 0.9251071355690089\n",
            "53/60 round completed......................... Accurecy: 0.9252091694442555\n",
            "54/60 round completed......................... Accurecy: 0.9254472484864975\n",
            "55/60 round completed......................... Accurecy: 0.926059451737977\n",
            "56/60 round completed......................... Accurecy: 0.9257193388204884\n",
            "57/60 round completed......................... Accurecy: 0.9263315420719679\n",
            "58/60 round completed......................... Accurecy: 0.9261274743214747\n",
            "59/60 round completed......................... Accurecy: 0.9261614856132236\n",
            "60/60 round completed......................... Accurecy: 0.9279300727841644\n"
          ]
        }
      ]
    },
    {
      "cell_type": "code",
      "source": [
        "print(\"The best estimators:\")\n",
        "print(list(scores.keys())[scores_list.index(max(scores_list))])#min(scores_list)"
      ],
      "metadata": {
        "id": "b-PcuuLDJS0W",
        "colab": {
          "base_uri": "https://localhost:8080/"
        },
        "outputId": "e1c820a8-7f51-4f01-dabd-9f39c7532ce4"
      },
      "execution_count": 5,
      "outputs": [
        {
          "output_type": "stream",
          "name": "stdout",
          "text": [
            "The best estimators:\n",
            "60\n"
          ]
        }
      ]
    },
    {
      "cell_type": "markdown",
      "source": [
        "Graph"
      ],
      "metadata": {
        "id": "ONdo8560Gq-0"
      }
    },
    {
      "cell_type": "code",
      "source": [
        "%matplotlib inline\n",
        "import matplotlib.pyplot as plt\n",
        "#plot the relationship between K and the testing accuracy\n",
        "plt.figure(figsize = (25,10))\n",
        "plt.plot(estimators_range,scores_list)\n",
        "plt.xlabel('Value of K for KNN')\n",
        "plt.ylabel ('Testing Accuracy')"
      ],
      "metadata": {
        "colab": {
          "base_uri": "https://localhost:8080/",
          "height": 644
        },
        "id": "xDrEpapWGnke",
        "outputId": "ba23353c-1058-426c-8ce7-a0b40f7b15a6"
      },
      "execution_count": 6,
      "outputs": [
        {
          "output_type": "execute_result",
          "data": {
            "text/plain": [
              "Text(0, 0.5, 'Testing Accuracy')"
            ]
          },
          "metadata": {},
          "execution_count": 6
        },
        {
          "output_type": "display_data",
          "data": {
            "text/plain": [
              "<Figure size 1800x720 with 1 Axes>"
            ],
            "image/png": "[encoded data removed]"
          },
          "metadata": {
            "needs_background": "light"
          }
        }
      ]
    },
    {
      "cell_type": "code",
      "source": [
        "from sklearn.ensemble import RandomForestClassifier\n",
        "rfc_class = RandomForestClassifier(n_estimators=58)\n",
        "rfc_class.fit(X_train, y_train)\n",
        "y_pred=rfc_class.predict(X_test)"
      ],
      "metadata": {
        "id": "sQ9x_94o-z8Q"
      },
      "execution_count": 21,
      "outputs": []
    },
    {
      "cell_type": "markdown",
      "source": [
        "#Small Details"
      ],
      "metadata": {
        "id": "ll90fEAIEfnn"
      }
    },
    {
      "cell_type": "code",
      "source": [
        "\n",
        "from sklearn.metrics import classification_report, confusion_matrix, accuracy_score\n",
        "print(confusion_matrix(y_test, y_pred))\n",
        "print(classification_report(y_test,y_pred))\n",
        "print(\"Accurecy: \",accuracy_score(y_test, y_pred))"
      ],
      "metadata": {
        "id": "iYzc6FNtEc5M",
        "colab": {
          "base_uri": "https://localhost:8080/"
        },
        "outputId": "5866d317-a03c-42f5-c407-0074d3f07254"
      },
      "execution_count": 22,
      "outputs": [
        {
          "output_type": "stream",
          "name": "stdout",
          "text": [
            "[[ 230  210    1   64  188]\n",
            " [  58 1950  105   57   83]\n",
            " [   3  272  908    1    6]\n",
            " [  41  124    5  789   29]\n",
            " [  58   84    2    8 1460]]\n",
            "              precision    recall  f1-score   support\n",
            "\n",
            "          N1       0.59      0.33      0.42       693\n",
            "          N2       0.74      0.87      0.80      2253\n",
            "          N3       0.89      0.76      0.82      1190\n",
            "           R       0.86      0.80      0.83       988\n",
            "           W       0.83      0.91      0.86      1612\n",
            "\n",
            "    accuracy                           0.79      6736\n",
            "   macro avg       0.78      0.73      0.75      6736\n",
            "weighted avg       0.79      0.79      0.78      6736\n",
            "\n",
            "Accurecy:  0.7923099762470309\n"
          ]
        }
      ]
    },
    {
      "cell_type": "markdown",
      "source": [
        ""
      ],
      "metadata": {
        "id": "BJZrKkG8DuQc"
      }
    },
    {
      "cell_type": "code",
      "source": [
        ""
      ],
      "metadata": {
        "id": "OKel3bAoFF5x"
      },
      "execution_count": 8,
      "outputs": []
    },
    {
      "cell_type": "markdown",
      "source": [
        "#Confusion Matrix"
      ],
      "metadata": {
        "id": "K18y3ufeDth6"
      }
    },
    {
      "cell_type": "code",
      "source": [
        "cm = confusion_matrix(y_test, y_pred)\n",
        "import seaborn as sn\n",
        "import matplotlib.pyplot as plt\n",
        "plt.figure(figsize = (15,10))\n",
        "sn.heatmap(cm, annot=True, fmt='d') # here, cm is called to be visualized\n",
        "plt.xlabel('Predicted',fontsize=14.0, fontweight='bold')\n",
        "plt.ylabel('Truth',fontsize=12.0, fontweight='bold')"
      ],
      "metadata": {
        "colab": {
          "base_uri": "https://localhost:8080/",
          "height": 628
        },
        "id": "x7EBEYizDseh",
        "outputId": "6d449b55-4939-486f-b8eb-ae1a2081780d"
      },
      "execution_count": 9,
      "outputs": [
        {
          "output_type": "execute_result",
          "data": {
            "text/plain": [
              "Text(114.0, 0.5, 'Truth')"
            ]
          },
          "metadata": {},
          "execution_count": 9
        },
        {
          "output_type": "display_data",
          "data": {
            "text/plain": [
              "<Figure size 1080x720 with 2 Axes>"
            ],
            "image/png": "[encoded data removed]"
          },
          "metadata": {
            "needs_background": "light"
          }
        }
      ]
    },
    {
      "cell_type": "markdown",
      "source": [
        "#All Details"
      ],
      "metadata": {
        "id": "U8BEEbaFEJ7G"
      }
    },
    {
      "cell_type": "code",
      "source": [
        "def confusion_details(y_test,y_pred):\n",
        "    labels = list(set(y_test))\n",
        "    labels.sort()\n",
        "\n",
        "    print(\"Total labels: %s -> %s\" % (len(labels), labels))\n",
        "\n",
        "    df = pd.DataFrame(\n",
        "        data=confusion_matrix(y_test, y_pred, labels=labels),\n",
        "        columns=labels,\n",
        "        index=labels\n",
        "    )\n",
        "\n",
        "    print(df)\n",
        "\n",
        "    print()\n",
        "    print(\"----------------------------------------------------------------------------------------\")\n",
        "    print(\"----------------------------------------------------------------------------------------\")\n",
        "    print()\n",
        "    #\n",
        "    # Local (metrics per class)\n",
        "    #\n",
        "    tps = {}\n",
        "    fps = {}\n",
        "    fns = {}\n",
        "    tns = {}\n",
        "\n",
        "    precision_local = {}\n",
        "    recall_local = {}\n",
        "    f1_local = {}\n",
        "    accuracy_local = {}\n",
        "    specificity_local={}\n",
        "\n",
        "    for label in labels:\n",
        "        tps[label] = df.loc[label, label]\n",
        "        fps[label] = df[label].sum() - tps[label]\n",
        "        fns[label] = df.loc[label].sum() - tps[label]\n",
        "        tns[label]=len(y_test) - (tps[label] + fps[label] + fns[label])\n",
        "        \n",
        "        tp, fp, fn, tn = tps[label], fps[label], fns[label], tns[label]\n",
        "        \n",
        "        precision_local[label] = tp / (tp + fp) if (tp + fp) > 0. else 0.\n",
        "        specificity_local[label] = tn / (tn + fp) if (tn + fp) > 0. else 0.\n",
        "        recall_local[label] = tp / (tp + fn) if (tp + fp) > 0. else 0.\n",
        "        p, r = precision_local[label], recall_local[label]\n",
        "        \n",
        "        f1_local[label] = 2. * p * r / (p + r) if (p + r) > 0. else 0.\n",
        "        accuracy_local[label] = tp / (tp + fp + fn) if (tp + fp + fn) > 0. else 0.\n",
        "\n",
        "\n",
        "\n",
        "    print(\"#-- Local measures --#\")\n",
        "    print(\"True Positives(TP):\", tps)\n",
        "    print(\"False Positives(FP):\", fps)\n",
        "    print(\"True Negatives(TN):\", tns)\n",
        "    print(\"False Negatives(FN):\", fns)\n",
        "    print(\"----------------------------\")\n",
        "\n",
        "    print(\"Precision:\", precision_local)\n",
        "    print(\"Recall/Sensitivity:\", recall_local)\n",
        "    print(\"Specificity:\",specificity_local)\n",
        "    print(\"F1-Score:\", f1_local)\n",
        "    print(\"Accuracy:\", accuracy_local)\n",
        "\n",
        "\n",
        "    print()\n",
        "    print(\"----------------------------------------------------------------------------------------\")\n",
        "    print(\"----------------------------------------------------------------------------------------\")\n",
        "    print()\n",
        "    #\n",
        "    # Global\n",
        "    #\n",
        "    micro_averages = {}\n",
        "    macro_averages = {}\n",
        "\n",
        "    correct_predictions = sum(tps.values())\n",
        "    true_negative=sum(tns.values())\n",
        "\n",
        "    den = sum(list(tps.values()) + list(fps.values()))\n",
        "    micro_averages[\"Precision\"] = 1. * correct_predictions / den if den > 0. else 0.\n",
        "\n",
        "    den = sum(list(tps.values()) + list(fns.values()))\n",
        "    micro_averages[\"Recall\"] = 1. * correct_predictions / den if den > 0. else 0.\n",
        "\n",
        "    den = sum(list(tns.values()) + list(fps.values()))\n",
        "    micro_averages[\"Specificity\"] = 1. * true_negative / den if den > 0. else 0.\n",
        "\n",
        "\n",
        "    micro_avg_p, micro_avg_r = micro_averages[\"Precision\"], micro_averages[\"Recall\"]\n",
        "    micro_averages[\"F1-score\"] = 2. * micro_avg_p * micro_avg_r / (micro_avg_p + micro_avg_r) if (micro_avg_p + micro_avg_r) > 0. else 0.\n",
        "\n",
        "    macro_averages[\"Precision\"] = np.mean(list(precision_local.values()))\n",
        "    macro_averages[\"Recall\"] = np.mean(list(recall_local.values()))\n",
        "    macro_averages[\"Specificity\"]=np.mean(list(specificity_local.values()))\n",
        "\n",
        "\n",
        "    macro_avg_p, macro_avg_r = macro_averages[\"Precision\"], macro_averages[\"Recall\"]\n",
        "    macro_averages[\"F1-Score\"] = 2. * macro_avg_p * macro_avg_r / (macro_avg_p + macro_avg_r) if (macro_avg_p + macro_avg_r) > 0. else 0.\n",
        "\n",
        "    total_predictions = df.values.sum()\n",
        "    accuracy_global = correct_predictions / total_predictions if total_predictions > 0. else 0.\n",
        "\n",
        "    print(\"#-- Global measures --#\")\n",
        "    print(\"Micro-Averages:\", micro_averages)\n",
        "    print(\"Macro-Averages:\", macro_averages)\n",
        "    print(\"Correct predictions:\", correct_predictions)\n",
        "    print(\"Total predictions:\", total_predictions)\n",
        "    print(\"Accuracy:\", accuracy_global)\n",
        "\n",
        "\n",
        "    print()\n",
        "    print(\"----------------------------------------------------------------------------------------\")\n",
        "    print(\"----------------------------------------------------------------------------------------\")\n",
        "    print()\n",
        "\n",
        "\n",
        "\n",
        "    accuracy_local_new = {}\n",
        "    for label in labels:\n",
        "        tp, fp, fn, tn = tps[label], fps[label], fns[label], tns[label]\n",
        "        accuracy_local_new[label] = (tp + tn) / (tp + fp + fn + tn) if (tp + fp + fn + tn) > 0. else 0.\n",
        "\n",
        "    total_true = sum(list(tps.values()) + list(tns.values()))\n",
        "    total_predictions = sum(list(tps.values()) + list(tns.values()) + list(fps.values()) + list(fns.values()))\n",
        "    accuracy_global_new = 1. * total_true / total_predictions if total_predictions > 0. else 0.\n",
        "\n",
        "    print(\"Accuracy (per class), with TNs:\", accuracy_local_new)\n",
        "    print(\"Accuracy (per class), without TNs:\", accuracy_local)\n",
        "    print(\"Accuracy (global), with TNs:\", accuracy_global_new)\n",
        "    print(\"Accuracy (global), without TNs:\", accuracy_global)\n",
        "\n",
        "confusion_details(y_test,y_pred)"
      ],
      "metadata": {
        "colab": {
          "base_uri": "https://localhost:8080/"
        },
        "id": "f-rn7H2PDz9S",
        "outputId": "d4dea298-4b1b-4884-8f0a-2b95832a2cca"
      },
      "execution_count": 10,
      "outputs": [
        {
          "output_type": "stream",
          "name": "stdout",
          "text": [
            "Total labels: 5 -> ['N1', 'N2', 'N3', 'R', 'W']\n",
            "     N1    N2   N3    R     W\n",
            "N1  245   201    1   70   176\n",
            "N2   56  1946  106   60    85\n",
            "N3    4   277  902    1     6\n",
            "R    42   127    4  785    30\n",
            "W    51    94    2    8  1457\n",
            "\n",
            "----------------------------------------------------------------------------------------\n",
            "----------------------------------------------------------------------------------------\n",
            "\n",
            "#-- Local measures --#\n",
            "True Positives(TP): {'N1': 245, 'N2': 1946, 'N3': 902, 'R': 785, 'W': 1457}\n",
            "False Positives(FP): {'N1': 153, 'N2': 699, 'N3': 113, 'R': 139, 'W': 297}\n",
            "True Negatives(TN): {'N1': 5890, 'N2': 3784, 'N3': 5433, 'R': 5609, 'W': 4827}\n",
            "False Negatives(FN): {'N1': 448, 'N2': 307, 'N3': 288, 'R': 203, 'W': 155}\n",
            "----------------------------\n",
            "Precision: {'N1': 0.6155778894472361, 'N2': 0.7357277882797731, 'N3': 0.8886699507389163, 'R': 0.8495670995670995, 'W': 0.830672748004561}\n",
            "Recall/Sensitivity: {'N1': 0.35353535353535354, 'N2': 0.8637372392365734, 'N3': 0.7579831932773109, 'R': 0.7945344129554656, 'W': 0.9038461538461539}\n",
            "Specificity: {'N1': 0.9746814496111204, 'N2': 0.8440776265893375, 'N3': 0.9796249549224666, 'R': 0.9758176757132916, 'W': 0.9420374707259953}\n",
            "F1-Score: {'N1': 0.44912923923006415, 'N2': 0.7946100449162924, 'N3': 0.818140589569161, 'R': 0.8211297071129707, 'W': 0.8657159833630421}\n",
            "Accuracy: {'N1': 0.2895981087470449, 'N2': 0.6592140921409214, 'N3': 0.6922486569455104, 'R': 0.6965394853593612, 'W': 0.7632268203247774}\n",
            "\n",
            "----------------------------------------------------------------------------------------\n",
            "----------------------------------------------------------------------------------------\n",
            "\n",
            "#-- Global measures --#\n",
            "Micro-Averages: {'Precision': 0.7920130641330166, 'Recall': 0.7920130641330166, 'Specificity': 0.9480032660332541, 'F1-score': 0.7920130641330166}\n",
            "Macro-Averages: {'Precision': 0.7840430952075172, 'Recall': 0.7347272705701714, 'Specificity': 0.9432478355124424, 'F1-Score': 0.7585845185440353}\n",
            "Correct predictions: 5335\n",
            "Total predictions: 6736\n",
            "Accuracy: 0.7920130641330166\n",
            "\n",
            "----------------------------------------------------------------------------------------\n",
            "----------------------------------------------------------------------------------------\n",
            "\n",
            "Accuracy (per class), with TNs: {'N1': 0.9107779097387173, 'N2': 0.8506532066508313, 'N3': 0.9404691211401425, 'R': 0.9492280285035629, 'W': 0.9328978622327792}\n",
            "Accuracy (per class), without TNs: {'N1': 0.2895981087470449, 'N2': 0.6592140921409214, 'N3': 0.6922486569455104, 'R': 0.6965394853593612, 'W': 0.7632268203247774}\n",
            "Accuracy (global), with TNs: 0.9168052256532067\n",
            "Accuracy (global), without TNs: 0.7920130641330166\n"
          ]
        }
      ]
    }
  ]
}