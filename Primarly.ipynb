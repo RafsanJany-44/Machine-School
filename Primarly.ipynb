{
  "nbformat": 4,
  "nbformat_minor": 0,
  "metadata": {
    "colab": {
      "provenance": [],
      "authorship_tag": "ABX9TyP+SqKuVql77TmWGU0K7g1T",
      "include_colab_link": true
    },
    "kernelspec": {
      "name": "python3",
      "display_name": "Python 3"
    },
    "language_info": {
      "name": "python"
    }
  },
  "cells": [
    {
      "cell_type": "markdown",
      "metadata": {
        "id": "view-in-github",
        "colab_type": "text"
      },
      "source": [
        "<a href=\"https://colab.research.google.com/github/RafsanJany-44/Machine-School/blob/main/Primarly.ipynb\" target=\"_parent\"><img src=\"https://colab.research.google.com/assets/colab-badge.svg\" alt=\"Open In Colab\"/></a>"
      ]
    },
    {
      "cell_type": "code",
      "source": [
        "!pip install pyvital vitaldb vital\n",
        "!pip install neurokit2\n",
        "\n",
        "\n",
        "import vitaldb\n",
        "import neurokit2 as nk\n",
        "import numpy as np\n",
        "import pandas as pd\n",
        "\n",
        "\n",
        "import matplotlib.pyplot as plt\n",
        "plt.rcParams['figure.figsize'] = [15, 5]\n",
        "plt.rcParams['font.size']= 14\n",
        "\n",
        "\n",
        "\n",
        "\n",
        "srate = 100\n",
        "vals = vitaldb.load_case(10, ['SNUADC/ECG_II','SNUADC/ART'], 1 / srate)\n",
        "\n",
        "signal = vals[:,0][np.logical_not(np.isnan(vals[:,0]))]\n",
        "\n",
        "ecg = signal[110000:111000]#vals[110000:111000, 0]\n",
        "art = vals[110000:111000, 1]\n",
        "\n",
        "def nrml_plt(ecg):\n",
        "  plt.figure(figsize=(20,15))\n",
        "  plt.subplot(211)\n",
        "  plt.plot(ecg, color='g')\n",
        "  plt.subplot(212)\n",
        "  plt.plot(art, color='r')\n",
        "  plt.show()\n",
        "\n",
        "nrml_plt(ecg)"
      ],
      "metadata": {
        "id": "WDAC6Lks0wrf"
      },
      "execution_count": null,
      "outputs": []
    },
    {
      "cell_type": "code",
      "source": [
        "ecg = nk.ecg_clean(ecg, sampling_rate=srate)"
      ],
      "metadata": {
        "id": "iAsDU1n-1Aip"
      },
      "execution_count": null,
      "outputs": []
    }
  ]
}